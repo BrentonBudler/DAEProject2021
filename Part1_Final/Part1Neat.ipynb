{
 "cells": [
  {
   "cell_type": "markdown",
   "metadata": {},
   "source": [
    "<!-- <h2>Title</h2> -->\n",
    "\n",
    "---\n",
    "<h1> \n",
    "    National Income Dynamics Study-Coronavirus Rapid Mobile Survey (NIDS-CRAM)<br>\n",
    "    Wave 1: February - April 2020<br><br>\n",
    "    The effect of COVID-19 on the labour and welfare of South Africans\n",
    "</h1>\n",
    "\n",
    "--- \n",
    "\n",
    "\n",
    "<h2>Group Members</h2>\n",
    "Dino Anastasopoulos: 1900661 <br>\n",
    "Brenton Budler: 1827655 <br>\n",
    "Philani Mpofu: 1848751 <br>\n",
    "\n",
    "--- \n"
   ]
  },
  {
   "cell_type": "markdown",
   "metadata": {
    "toc": true
   },
   "source": [
    "<h1>Table of Contents<span class=\"tocSkip\"></span></h1>\n",
    "<div class=\"toc\"><ul class=\"toc-item\"><li><span><a href=\"#Group-Members\" data-toc-modified-id=\"Group-Members-1\">Group Members</a></span></li><li><span><a href=\"#-Executive-Summary-\" data-toc-modified-id=\"-Executive-Summary--2\"><span style=\"color: blue\"> Executive Summary </span></a></span><ul class=\"toc-item\"><li><span><a href=\"#What-is-the-purpose-of-this-notebook?\" data-toc-modified-id=\"What-is-the-purpose-of-this-notebook?-2.1\">What is the purpose of this notebook?</a></span></li><li><span><a href=\"#What-is-being-modelled?\" data-toc-modified-id=\"What-is-being-modelled?-2.2\">What is being modelled?</a></span></li><li><span><a href=\"#What-are-the-main-results\" data-toc-modified-id=\"What-are-the-main-results-2.3\">What are the main results</a></span></li><li><span><a href=\"#Limitations\" data-toc-modified-id=\"Limitations-2.4\">Limitations</a></span></li></ul></li><li><span><a href=\"#-Introduction-\" data-toc-modified-id=\"-Introduction--3\"><span style=\"color: blue\"> Introduction </span></a></span><ul class=\"toc-item\"><li><span><a href=\"#Problem-Context-and-Motivation\" data-toc-modified-id=\"Problem-Context-and-Motivation-3.1\">Problem Context and Motivation</a></span></li><li><span><a href=\"#Describe-Questions\" data-toc-modified-id=\"Describe-Questions-3.2\">Describe Questions</a></span></li><li><span><a href=\"#Overview-of-Methodology\" data-toc-modified-id=\"Overview-of-Methodology-3.3\">Overview of Methodology</a></span></li><li><span><a href=\"#Section-Contents-Overview\" data-toc-modified-id=\"Section-Contents-Overview-3.4\">Section Contents Overview</a></span></li></ul></li><li><span><a href=\"#-Data-Description-\" data-toc-modified-id=\"-Data-Description--4\"><span style=\"color: blue\"> Data Description </span></a></span><ul class=\"toc-item\"><li><span><a href=\"#Origin\" data-toc-modified-id=\"Origin-4.1\">Origin</a></span></li><li><span><a href=\"#Contents-(Who,-What,-Where)\" data-toc-modified-id=\"Contents-(Who,-What,-Where)-4.2\">Contents (Who, What, Where)</a></span></li><li><span><a href=\"#Date-Collected-(When)\" data-toc-modified-id=\"Date-Collected-(When)-4.3\">Date Collected (When)</a></span></li><li><span><a href=\"#Collection-Method-(How)\" data-toc-modified-id=\"Collection-Method-(How)-4.4\">Collection Method (How)</a></span></li><li><span><a href=\"#Dataset-Size-(Rows-and-Columns)\" data-toc-modified-id=\"Dataset-Size-(Rows-and-Columns)-4.5\">Dataset Size (Rows and Columns)</a></span></li><li><span><a href=\"#Date-Downloaded\" data-toc-modified-id=\"Date-Downloaded-4.6\">Date Downloaded</a></span></li><li><span><a href=\"#Validations\" data-toc-modified-id=\"Validations-4.7\">Validations</a></span></li><li><span><a href=\"#Aspects-of-Data-Quality\" data-toc-modified-id=\"Aspects-of-Data-Quality-4.8\">Aspects of Data Quality</a></span></li><li><span><a href=\"#Ability-to-Answer-Question\" data-toc-modified-id=\"Ability-to-Answer-Question-4.9\">Ability to Answer Question</a></span></li></ul></li><li><span><a href=\"#-Data-Wrangling-&amp;-Exploratory-Analyses-\" data-toc-modified-id=\"-Data-Wrangling-&amp;-Exploratory-Analyses--5\"><span style=\"color: blue\"> Data Wrangling &amp; Exploratory Analyses </span></a></span><ul class=\"toc-item\"><li><span><a href=\"#Imports\" data-toc-modified-id=\"Imports-5.1\">Imports</a></span></li><li><span><a href=\"#Global-Functions\" data-toc-modified-id=\"Global-Functions-5.2\">Global Functions</a></span></li><li><span><a href=\"#Read-in-data\" data-toc-modified-id=\"Read-in-data-5.3\">Read in data</a></span></li></ul></li><li><span><a href=\"#-Section-1---Demographics-\" data-toc-modified-id=\"-Section-1---Demographics--6\"><span style=\"color: blue\"> Section 1 - Demographics </span></a></span><ul class=\"toc-item\"><li><span><a href=\"#1.1-Data-Description\" data-toc-modified-id=\"1.1-Data-Description-6.1\">1.1 Data Description</a></span></li><li><span><a href=\"#1.2-Data-Ingestion-and-Cleaning\" data-toc-modified-id=\"1.2-Data-Ingestion-and-Cleaning-6.2\">1.2 Data Ingestion and Cleaning</a></span></li><li><span><a href=\"#1.3-Exploratory-Data-Analysis\" data-toc-modified-id=\"1.3-Exploratory-Data-Analysis-6.3\">1.3 Exploratory Data Analysis</a></span><ul class=\"toc-item\"><li><span><a href=\"#1.3.1-Personal-Information\" data-toc-modified-id=\"1.3.1-Personal-Information-6.3.1\"><strong>1.3.1 Personal Information</strong></a></span><ul class=\"toc-item\"><li><span><a href=\"#Age\" data-toc-modified-id=\"Age-6.3.1.1\"><strong>Age</strong></a></span></li><li><span><a href=\"#Gender\" data-toc-modified-id=\"Gender-6.3.1.2\"><strong>Gender</strong></a></span></li><li><span><a href=\"#Race\" data-toc-modified-id=\"Race-6.3.1.3\"><strong>Race</strong></a></span></li></ul></li><li><span><a href=\"#1.3.2-Educational-Information\" data-toc-modified-id=\"1.3.2-Educational-Information-6.3.2\"><strong>1.3.2 Educational Information</strong></a></span><ul class=\"toc-item\"><li><span><a href=\"#Highest-Education-Level\" data-toc-modified-id=\"Highest-Education-Level-6.3.2.1\"><strong>Highest Education Level</strong></a></span></li><li><span><a href=\"#Tertiary-Education\" data-toc-modified-id=\"Tertiary-Education-6.3.2.2\"><strong>Tertiary Education</strong></a></span></li></ul></li><li><span><a href=\"#1.3.3-Geographical-Information\" data-toc-modified-id=\"1.3.3-Geographical-Information-6.3.3\"><strong>1.3.3 Geographical Information</strong></a></span><ul class=\"toc-item\"><li><span><a href=\"#Province-Before-Lockdown\" data-toc-modified-id=\"Province-Before-Lockdown-6.3.3.1\"><strong>Province Before Lockdown</strong></a></span></li><li><span><a href=\"#Province-During-Lockdown\" data-toc-modified-id=\"Province-During-Lockdown-6.3.3.2\"><strong>Province During Lockdown</strong></a></span></li><li><span><a href=\"#Change-in-geographical-distribution-of-population-before-vs-during-lockdown\" data-toc-modified-id=\"Change-in-geographical-distribution-of-population-before-vs-during-lockdown-6.3.3.3\"><strong>Change in geographical distribution of population before vs during lockdown</strong></a></span></li></ul></li></ul></li></ul></li><li><span><a href=\"#-Section-2---Labour-\" data-toc-modified-id=\"-Section-2---Labour--7\"><span style=\"color: blue\"> Section 2 - Labour </span></a></span><ul class=\"toc-item\"><li><span><a href=\"#2.1-Data-Description\" data-toc-modified-id=\"2.1-Data-Description-7.1\">2.1 Data Description</a></span></li><li><span><a href=\"#2.2-Data-Ingestion\" data-toc-modified-id=\"2.2-Data-Ingestion-7.2\">2.2 Data Ingestion</a></span></li><li><span><a href=\"#2.3-Data-Wrangling-and-Cleaning\" data-toc-modified-id=\"2.3-Data-Wrangling-and-Cleaning-7.3\">2.3 Data Wrangling and Cleaning</a></span><ul class=\"toc-item\"><li><span><a href=\"#Feature-Generation\" data-toc-modified-id=\"Feature-Generation-7.3.1\"><strong>Feature Generation</strong></a></span></li><li><span><a href=\"#Missing-Data\" data-toc-modified-id=\"Missing-Data-7.3.2\"><strong>Missing Data</strong></a></span></li></ul></li><li><span><a href=\"#2.4-Exploratory-Data-Analysis\" data-toc-modified-id=\"2.4-Exploratory-Data-Analysis-7.4\">2.4 Exploratory Data Analysis</a></span></li></ul></li><li><span><a href=\"#-Section-3---Welfare-\" data-toc-modified-id=\"-Section-3---Welfare--8\"><span style=\"color: blue\"> Section 3 - Welfare </span></a></span><ul class=\"toc-item\"><li><span><a href=\"#3.1-Data-Description\" data-toc-modified-id=\"3.1-Data-Description-8.1\">3.1 Data Description</a></span></li><li><span><a href=\"#3.2-Data-Ingestion\" data-toc-modified-id=\"3.2-Data-Ingestion-8.2\">3.2 Data Ingestion</a></span></li><li><span><a href=\"#3.3-Data-Wrangling-and-Data-Cleaning\" data-toc-modified-id=\"3.3-Data-Wrangling-and-Data-Cleaning-8.3\">3.3 Data Wrangling and Data Cleaning</a></span><ul class=\"toc-item\"><li><span><a href=\"#Wrangling-and-Cleaning-of-Employment-Data\" data-toc-modified-id=\"Wrangling-and-Cleaning-of-Employment-Data-8.3.1\"><strong>Wrangling and Cleaning of Employment Data</strong></a></span></li><li><span><a href=\"#Wrangling-and-Cleaning-of-Household-Income-Data\" data-toc-modified-id=\"Wrangling-and-Cleaning-of-Household-Income-Data-8.3.2\"><strong>Wrangling and Cleaning of Household Income Data</strong></a></span></li><li><span><a href=\"#Wrangling-and-Cleaning-of-Grant-Data\" data-toc-modified-id=\"Wrangling-and-Cleaning-of-Grant-Data-8.3.3\"><strong>Wrangling and Cleaning of Grant Data</strong></a></span></li></ul></li><li><span><a href=\"#3.4-Exploratory-Data-Analysis\" data-toc-modified-id=\"3.4-Exploratory-Data-Analysis-8.4\">3.4 Exploratory Data Analysis</a></span><ul class=\"toc-item\"><li><span><a href=\"#Exploration-and-Analysis-of-UIF-and-Other-Grants-in-April\" data-toc-modified-id=\"Exploration-and-Analysis-of-UIF-and-Other-Grants-in-April-8.4.1\"><strong>Exploration and Analysis of UIF and Other Grants in April</strong></a></span></li><li><span><a href=\"#Exploration-and-Analysis-of-Household-Income-in-April\" data-toc-modified-id=\"Exploration-and-Analysis-of-Household-Income-in-April-8.4.2\"><strong>Exploration and Analysis of Household Income in April</strong></a></span></li></ul></li></ul></li></ul></div>"
   ]
  },
  {
   "cell_type": "markdown",
   "metadata": {},
   "source": [
    "---\n",
    "## <span style='color:blue' > Executive Summary </span>\n",
    "---"
   ]
  },
  {
   "cell_type": "markdown",
   "metadata": {},
   "source": [
    "### What is the purpose of this notebook?\n",
    "To perform a few of the steps of the data science process, such as data wrangling, data cleaning and exploratory data analysis, on the NIDS-CRAM Wave 1 dataset."
   ]
  },
  {
   "cell_type": "markdown",
   "metadata": {},
   "source": [
    "### What is being modelled?\n",
    "The degree to which the initial stages of the COVID-19 pandemic (and subsequent lockdown) impacted the labour and welfare of South African citizens from February 2020 to the end of April 2020. "
   ]
  },
  {
   "cell_type": "markdown",
   "metadata": {},
   "source": [
    "### What are the main results\n",
    "We discovered that not only was there a significant drop in employment from February to April 2020, but there was also a significant drop in the number of respondents who were able to find part-time work or to do business during this time. A substantial amount of the respondents who lost their opportunity to work also said that they had no work to return to in the weeks following the lockdown.\n",
    "<br>\n",
    "We also discovered that the South African government was ineffective in providing aid and assistance to those who had lost their jobs and livelihoods during this time."
   ]
  },
  {
   "cell_type": "markdown",
   "metadata": {},
   "source": [
    "### Limitations\n",
    "\n",
    "The chosen dataset has the following limitations:\n",
    "\n",
    "1) The dataset has many missing values. Initially, the dataset contains 7073 values, but there are many missing values that are not explained. These values now need to be inferred or imputed in some way. \n",
    "\n",
    "2) The variable naming conventions in the dataset are not intuitive. The columns in the dataset have names like w1_nc_hhincdec_o and w1_nc_hhincchng. It is very difficult to gain insight on the data that is stored in these variables. Therefore, columns such as these need to be renamed using a convention that is easier to read.\n",
    "\n",
    "3) The dataset is not a representative sample on a provincial level. As stated on www.datafirst.uct.ac.za, the dataset was designed to only represent South Africa on a national level. Therefore, no useful conclusions can be drawn from a regional or a provincial perspective.\n"
   ]
  },
  {
   "cell_type": "markdown",
   "metadata": {},
   "source": [
    "---\n",
    "## <span style='color:blue' > Introduction </span>\n",
    "---"
   ]
  },
  {
   "cell_type": "markdown",
   "metadata": {},
   "source": [
    "### Problem Context and Motivation\n",
    "The COVID-19 pandemic took their entire world by storm, it was arguably the largest economic and social crisis in our lifetime. The spreading of the virus around the world devastated economies and had a massive impact on everyone’s lives. In this report, we aim to analyze this impact further, particularly the impact that the COVID-19 pandemic and subsequent mandated lockdown had on the Labour and Welfare of South Africans. We believe that this analysis will provide useful insights into which individuals’ were most heavily affected by the pandemic, allowing policymakers to re-evaluate the decisions that were made and plan for the future. "
   ]
  },
  {
   "cell_type": "markdown",
   "metadata": {},
   "source": [
    "### Describe Questions\n",
    "The first question we will be looking at is which respondents were most likely to lose their opportunity to work due to the impact of COVID-19? To answer this question, we will analyze features from both the demographics and labour sections of the survey. The second question we focus on is which respondents were most likely to receive some sort of assistance or grants from the government in the initial stages of the pandemic? To answer this question we will incorporate features from the demographics, labour and welfare sections of the survey. "
   ]
  },
  {
   "cell_type": "markdown",
   "metadata": {},
   "source": [
    "### Overview of Methodology\n",
    "For each of the three sections under consideration (Demographics, Labour and Welfare) we first select a subset of features from the original dataset which pertain to that section. We then clean this subset of features before moving onto an exploratory analysis of each feature in the subset. "
   ]
  },
  {
   "cell_type": "markdown",
   "metadata": {},
   "source": [
    "### Section Contents Overview\n",
    "We begin by looking at the demographics of the respondents in our sample, we then explore the labour features from the sample and finally we investigate the welfare features of the sample."
   ]
  },
  {
   "cell_type": "markdown",
   "metadata": {},
   "source": [
    "---\n",
    "## <span style='color:blue' > Data Description </span>\n",
    "---"
   ]
  },
  {
   "cell_type": "markdown",
   "metadata": {},
   "source": [
    "### Origin\n",
    "The NIDS-CRAM is a telephonic survery which covered the topics of employment, hunger, migration, grant-receipt, demographics and COVID-19 risk perception and behaviour. The survey was conducted in four waves over the course of 8 months (April - November 2020). The datasets for the first three waves are available on DataFirst, an online microdata library dedicated to giving open accesss to data from South Africa and other African countries.\n",
    "\n",
    "When planning our approach of the project, we knew we wanted to focus on COVID-19's effect on the labour and welfare of South Africa but we weren't sure if we wanted to treat it as a cross-sectional study of the initial impact (only focusing on data from the first wave) or a longitudal study (focusing on data from all three waves). This initial Exploratory Data Analysis incorporates so that we could see which appraoch would be more feasible and would allow us to form the best inferences about the data.\n",
    "\n",
    "The \"Waves\" referenced in the notebook and in the study indicate different phases at which the survey was conducted and do not coincide with the waves of COVID19 that South Africa experienced. "
   ]
  },
  {
   "cell_type": "markdown",
   "metadata": {},
   "source": [
    "### Contents (Who, What, Where)\n",
    "A national consortium of 30 social science researchers from five South African universities conducted the NIDS-CRAM over the course of May – December 2020. Waves 1-3 of the survey were funded by Allan and Gill Gray Philanthropy and waves 4-6 by the FEM Education Foundation, and the Michael and Susan Dell Foundation.\n",
    "The survey interviewed a representative subsample of 7,000 respondents from NIDS 2017.\n",
    "Among many other topics, the 20-minute survey asked respondents about their current and retrospective employment, household hunger, receipt of grants, COVID-19 risk perceptions, knowledge and behaviour, among many other questions. \n"
   ]
  },
  {
   "cell_type": "markdown",
   "metadata": {},
   "source": [
    "### Date Collected (When)\n",
    "The first wave of NIDS-CRAM ran from the 7th of May to the 27th of June. The survey was conducted in four waves over the course of 8 months (April - November 2020) and funding has been approved for a further 2 waves. The \"waves'' of the survey indicate different phases at which the survey was conducted and do not coincide with the waves of COVID19 that have occurred in South Africa. "
   ]
  },
  {
   "cell_type": "markdown",
   "metadata": {},
   "source": [
    "### Collection Method (How)\n",
    "The data was collected using 50 call-centre agents to survey the respondents."
   ]
  },
  {
   "cell_type": "markdown",
   "metadata": {},
   "source": [
    "### Dataset Size (Rows and Columns)\n",
    "The dataset consists of 7073 records (rows) and 170 variables (columns)"
   ]
  },
  {
   "cell_type": "markdown",
   "metadata": {},
   "source": [
    "### Date Downloaded\n",
    "This data was downloaded from (https://www.datafirst.uct.ac.za/dataportal/index.php/catalog/817) on the 5th of March 2021. \n",
    "<br>\n",
    "The data for waves 1-3 are currently available on DataFirst, which is an online microdata library dedicated to giving open access to data from South Africa and other African countries."
   ]
  },
  {
   "cell_type": "markdown",
   "metadata": {},
   "source": [
    "### Validations\n",
    "For the demographics below, we will compare the sample to the findings from the 2019 mid-year population estimates in order to validate/critique the representation accuracy of the demographics distribution of the sample in our dataset.\n",
    "<br>\n",
    "This data can be found at (https://www.statssa.gov.za/publications/P0302/P03022019.pdf)"
   ]
  },
  {
   "cell_type": "markdown",
   "metadata": {},
   "source": [
    "### Aspects of Data Quality\n",
    "- Validity: Does the data conform to a standard format?\n",
    "- Accuracy: Does the data agree with reality or with a trusted external source?\n",
    "- Completeness: Are all records present?\n",
    "- Consistency: Is data in a field (down a column) or for an instance (across a row) in logical agreement?\n",
    "- Uniformity: Are the same units used across a given field?\n",
    "<br><br>\n",
    "The data conforms to the Principles of Tidy Data as outlined by Wickam (https://vita.had.co.nz/papers/tidy-data.pdf) in 2014 as each feature is a column, each observation is a row and each entry is a cell, resulting in it being in the standard format. The researchers compiled a technical report that assesses the overall quality of the data collected in the first wave of the NIDS-CRAM survey (https://www.datafirst.uct.ac.za/dataportal/index.php/catalog/817). In this technical report the researchers compare the data they collected for NIDS-CRAM Wave 1 with the data they collected in previous years for the NIDS as well as with the data collected from the General Household Survey of 2018 and Stat’s SA to analyze differences in the data. They conclude that while there are statistically significant differences in the distributions of observable characteristics most of these differences are of little practical significance or can be explained by differences in sampling or survey design and that taken as a whole the NIDS-CRAM survey data is valid.  According to the data description provided by NIDS-CRAM on the DataFirst website, there were 7073 respondents in the study, the data frame that we use contains 7073 rows, without any duplicates, so we can conclude that the data is not missing any rorecords. However, individual rows have missing data for numerous features which need to be dealt with accordingly.  Consistency and uniformity are investigated further in the exploratory data analysis of each section."
   ]
  },
  {
   "cell_type": "markdown",
   "metadata": {},
   "source": [
    "### Ability to Answer Question\n",
    "Looking at the number of features the NIDS-CRAM survey has for each of the respective sections we are planning to investigate (Demographics, Labour, Welfare), there should be sufficient information to answers these questions for the sample. However, the questions we are planning on answering pertain to the population of South Africa, not just the sample, so to determine our ability to answer the questions proposed we need to evaluate to what extent the sample is representative of the population and if there are any sampling biases. This is done in Section 1 (Demographics) below. "
   ]
  },
  {
   "cell_type": "markdown",
   "metadata": {},
   "source": [
    "---\n",
    "## <span style='color:blue' > Data Wrangling & Exploratory Analyses </span>\n",
    "---"
   ]
  },
  {
   "cell_type": "markdown",
   "metadata": {},
   "source": [
    "---\n",
    "### Imports\n",
    "---"
   ]
  },
  {
   "cell_type": "code",
   "execution_count": 1,
   "metadata": {},
   "outputs": [],
   "source": [
    "import numpy as np \n",
    "import pandas as pd \n",
    "import matplotlib.pyplot as plt \n",
    "import seaborn as sns \n",
    "import matplotlib.cm as cm\n",
    "from matplotlib.colors import Normalize"
   ]
  },
  {
   "cell_type": "markdown",
   "metadata": {},
   "source": [
    "---\n",
    "### Global Functions \n",
    "---"
   ]
  },
  {
   "cell_type": "markdown",
   "metadata": {},
   "source": [
    "Is it important to note that the original dataset contains some sentinel values such as \"Missing\" which will have to be replaced with NaN to be treated correctly in the cleaning process. Similarly, in cases where a respondent refused to answer or answered \"Don't know\" these entries will also have to be replaced with NaN values as this data is missing. The function **replace_errors** below is a generalized function which will allow us to replace these erroneous entries with missing values."
   ]
  },
  {
   "cell_type": "code",
   "execution_count": 2,
   "metadata": {},
   "outputs": [],
   "source": [
    "def replace_errors(df):\n",
    "\n",
    "    junk_terms = [\"Don't know\", \n",
    "                  \"Refused\", \n",
    "                  \"Missing\", \n",
    "                  \"Don't Know\", \n",
    "                  \"Donât know\",\n",
    "                  \"Other (Specify)\",\n",
    "                  \"I was on leave\",\n",
    "                  \"Other\"]\n",
    "\n",
    "    df.replace(junk_terms, np.NaN, inplace=True)\n",
    "    \n",
    "    return df"
   ]
  },
  {
   "cell_type": "markdown",
   "metadata": {},
   "source": [
    "---\n",
    "### Read in data\n",
    "---"
   ]
  },
  {
   "cell_type": "markdown",
   "metadata": {},
   "source": [
    "Most of the colums were read in besides 'w1_nc_duration', 'w1_nc_cvsypt8' and 'w1_nc_hlnocon3', since these columns contain errors, and we do not need them for our analysis"
   ]
  },
  {
   "cell_type": "code",
   "execution_count": 3,
   "metadata": {},
   "outputs": [
    {
     "data": {
      "text/html": [
       "<div>\n",
       "<style scoped>\n",
       "    .dataframe tbody tr th:only-of-type {\n",
       "        vertical-align: middle;\n",
       "    }\n",
       "\n",
       "    .dataframe tbody tr th {\n",
       "        vertical-align: top;\n",
       "    }\n",
       "\n",
       "    .dataframe thead th {\n",
       "        text-align: right;\n",
       "    }\n",
       "</style>\n",
       "<table border=\"1\" class=\"dataframe\">\n",
       "  <thead>\n",
       "    <tr style=\"text-align: right;\">\n",
       "      <th></th>\n",
       "      <th>pid</th>\n",
       "      <th>w1_nc_outcome</th>\n",
       "      <th>w1_nc_intrv_c</th>\n",
       "      <th>w1_nc_intrv_d</th>\n",
       "      <th>w1_nc_intrv_m</th>\n",
       "      <th>w1_nc_intrv_y</th>\n",
       "      <th>w1_nc_dob_m</th>\n",
       "      <th>w1_nc_dob_y</th>\n",
       "      <th>w1_nc_gen</th>\n",
       "      <th>w1_nc_popgrp</th>\n",
       "      <th>...</th>\n",
       "      <th>w1_nc_intlng2</th>\n",
       "      <th>w1_nc_intlng3</th>\n",
       "      <th>w1_nc_intlng4</th>\n",
       "      <th>w1_nc_intlng5</th>\n",
       "      <th>w1_nc_intlng6</th>\n",
       "      <th>w1_nc_intlng7</th>\n",
       "      <th>w1_nc_intlng8</th>\n",
       "      <th>w1_nc_intlng9</th>\n",
       "      <th>w1_nc_intlng10</th>\n",
       "      <th>w1_nc_intlng11</th>\n",
       "    </tr>\n",
       "  </thead>\n",
       "  <tbody>\n",
       "    <tr>\n",
       "      <th>0</th>\n",
       "      <td>301013</td>\n",
       "      <td>Successfully Interviewed</td>\n",
       "      <td>610</td>\n",
       "      <td>15th</td>\n",
       "      <td>June</td>\n",
       "      <td>2020</td>\n",
       "      <td>June</td>\n",
       "      <td>1981.0</td>\n",
       "      <td>Man</td>\n",
       "      <td>White</td>\n",
       "      <td>...</td>\n",
       "      <td>NaN</td>\n",
       "      <td>NaN</td>\n",
       "      <td>NaN</td>\n",
       "      <td>NaN</td>\n",
       "      <td>NaN</td>\n",
       "      <td>NaN</td>\n",
       "      <td>NaN</td>\n",
       "      <td>NaN</td>\n",
       "      <td>NaN</td>\n",
       "      <td>NaN</td>\n",
       "    </tr>\n",
       "    <tr>\n",
       "      <th>1</th>\n",
       "      <td>301058</td>\n",
       "      <td>Successfully Interviewed</td>\n",
       "      <td>611</td>\n",
       "      <td>25th</td>\n",
       "      <td>June</td>\n",
       "      <td>2020</td>\n",
       "      <td>January</td>\n",
       "      <td>1948.0</td>\n",
       "      <td>Woman</td>\n",
       "      <td>Asian/Indian</td>\n",
       "      <td>...</td>\n",
       "      <td>NaN</td>\n",
       "      <td>NaN</td>\n",
       "      <td>NaN</td>\n",
       "      <td>NaN</td>\n",
       "      <td>NaN</td>\n",
       "      <td>NaN</td>\n",
       "      <td>NaN</td>\n",
       "      <td>NaN</td>\n",
       "      <td>NaN</td>\n",
       "      <td>NaN</td>\n",
       "    </tr>\n",
       "    <tr>\n",
       "      <th>2</th>\n",
       "      <td>301059</td>\n",
       "      <td>Successfully Interviewed</td>\n",
       "      <td>604</td>\n",
       "      <td>20th</td>\n",
       "      <td>June</td>\n",
       "      <td>2020</td>\n",
       "      <td>July</td>\n",
       "      <td>1990.0</td>\n",
       "      <td>Woman</td>\n",
       "      <td>African/Black</td>\n",
       "      <td>...</td>\n",
       "      <td>NaN</td>\n",
       "      <td>NaN</td>\n",
       "      <td>NaN</td>\n",
       "      <td>NaN</td>\n",
       "      <td>NaN</td>\n",
       "      <td>NaN</td>\n",
       "      <td>NaN</td>\n",
       "      <td>NaN</td>\n",
       "      <td>NaN</td>\n",
       "      <td>NaN</td>\n",
       "    </tr>\n",
       "    <tr>\n",
       "      <th>3</th>\n",
       "      <td>301062</td>\n",
       "      <td>Successfully Interviewed</td>\n",
       "      <td>640</td>\n",
       "      <td>25th</td>\n",
       "      <td>June</td>\n",
       "      <td>2020</td>\n",
       "      <td>June</td>\n",
       "      <td>1972.0</td>\n",
       "      <td>Woman</td>\n",
       "      <td>African/Black</td>\n",
       "      <td>...</td>\n",
       "      <td>English</td>\n",
       "      <td>NaN</td>\n",
       "      <td>NaN</td>\n",
       "      <td>NaN</td>\n",
       "      <td>NaN</td>\n",
       "      <td>NaN</td>\n",
       "      <td>NaN</td>\n",
       "      <td>NaN</td>\n",
       "      <td>NaN</td>\n",
       "      <td>NaN</td>\n",
       "    </tr>\n",
       "    <tr>\n",
       "      <th>4</th>\n",
       "      <td>301067</td>\n",
       "      <td>Successfully Interviewed</td>\n",
       "      <td>609</td>\n",
       "      <td>15th</td>\n",
       "      <td>May</td>\n",
       "      <td>2020</td>\n",
       "      <td>July</td>\n",
       "      <td>1971.0</td>\n",
       "      <td>Woman</td>\n",
       "      <td>African/Black</td>\n",
       "      <td>...</td>\n",
       "      <td>NaN</td>\n",
       "      <td>NaN</td>\n",
       "      <td>NaN</td>\n",
       "      <td>NaN</td>\n",
       "      <td>NaN</td>\n",
       "      <td>NaN</td>\n",
       "      <td>NaN</td>\n",
       "      <td>NaN</td>\n",
       "      <td>NaN</td>\n",
       "      <td>NaN</td>\n",
       "    </tr>\n",
       "  </tbody>\n",
       "</table>\n",
       "<p>5 rows × 167 columns</p>\n",
       "</div>"
      ],
      "text/plain": [
       "      pid             w1_nc_outcome  w1_nc_intrv_c w1_nc_intrv_d  \\\n",
       "0  301013  Successfully Interviewed            610          15th   \n",
       "1  301058  Successfully Interviewed            611          25th   \n",
       "2  301059  Successfully Interviewed            604          20th   \n",
       "3  301062  Successfully Interviewed            640          25th   \n",
       "4  301067  Successfully Interviewed            609          15th   \n",
       "\n",
       "  w1_nc_intrv_m  w1_nc_intrv_y w1_nc_dob_m w1_nc_dob_y w1_nc_gen  \\\n",
       "0          June           2020        June      1981.0       Man   \n",
       "1          June           2020     January      1948.0     Woman   \n",
       "2          June           2020        July      1990.0     Woman   \n",
       "3          June           2020        June      1972.0     Woman   \n",
       "4           May           2020        July      1971.0     Woman   \n",
       "\n",
       "    w1_nc_popgrp  ... w1_nc_intlng2 w1_nc_intlng3 w1_nc_intlng4 w1_nc_intlng5  \\\n",
       "0          White  ...           NaN           NaN           NaN           NaN   \n",
       "1   Asian/Indian  ...           NaN           NaN           NaN           NaN   \n",
       "2  African/Black  ...           NaN           NaN           NaN           NaN   \n",
       "3  African/Black  ...       English           NaN           NaN           NaN   \n",
       "4  African/Black  ...           NaN           NaN           NaN           NaN   \n",
       "\n",
       "  w1_nc_intlng6 w1_nc_intlng7 w1_nc_intlng8 w1_nc_intlng9 w1_nc_intlng10  \\\n",
       "0           NaN           NaN           NaN           NaN            NaN   \n",
       "1           NaN           NaN           NaN           NaN            NaN   \n",
       "2           NaN           NaN           NaN           NaN            NaN   \n",
       "3           NaN           NaN           NaN           NaN            NaN   \n",
       "4           NaN           NaN           NaN           NaN            NaN   \n",
       "\n",
       "  w1_nc_intlng11  \n",
       "0            NaN  \n",
       "1            NaN  \n",
       "2            NaN  \n",
       "3            NaN  \n",
       "4            NaN  \n",
       "\n",
       "[5 rows x 167 columns]"
      ]
     },
     "metadata": {},
     "output_type": "display_data"
    }
   ],
   "source": [
    "#Create a list of all columns in dataframe\n",
    "cols = list(pd.read_csv(\"Wave1.csv\", nrows =1))\n",
    "\n",
    "#Select all columns besides w1_nc_duration, w1_nc_cvsypt8 and w1_nc_hlnocon3\n",
    "raw_data = pd.read_csv('Wave1.csv', usecols =[i for i in cols if (i != 'w1_nc_duration' and i != 'w1_nc_cvsypt8' and i != 'w1_nc_hlnocon3')] )\n",
    "\n",
    "display(raw_data.head()) \n",
    "\n",
    "#Replace all sentinel values\n",
    "raw_data = raw_data.apply(replace_errors)"
   ]
  },
  {
   "cell_type": "markdown",
   "metadata": {},
   "source": [
    "---\n",
    "## <span style='color:blue' > Section 1 - Demographics </span>\n",
    "---"
   ]
  },
  {
   "cell_type": "markdown",
   "metadata": {},
   "source": [
    "---\n",
    "### 1.1 Data Description\n",
    "---\n",
    "\n",
    "**Personal Information:**\n",
    "* **age** - Participants age\n",
    "* **gender** - Participants gender\n",
    "* **race** - Participants race\n",
    "<br><br>\n",
    "\n",
    "**Educational Information:**\n",
    "* **highest_grade** - Highest school grade completed/passed\n",
    "* **tertiary_edu** - Whether or not they have successfully completed any tertiary education\n",
    "<br><br>\n",
    "\n",
    "\n",
    "\n",
    "**Geographical Information:**\n",
    "* **province_before** - Which province they lived in before lockdown\n",
    "* **province_during** - Which province they lived in during lockdown\n",
    "<br><br>"
   ]
  },
  {
   "cell_type": "markdown",
   "metadata": {},
   "source": [
    "---\n",
    "### 1.2 Data Ingestion and Cleaning\n",
    "---"
   ]
  },
  {
   "cell_type": "code",
   "execution_count": 4,
   "metadata": {},
   "outputs": [],
   "source": [
    "demdf = pd.DataFrame()\n",
    "\n",
    "#Convert datatype of birth year\n",
    "raw_data = raw_data.astype({\"w1_nc_dob_y\": float})\n",
    "\n",
    "#Personal Information\n",
    "demdf['age'] = 2020 - raw_data['w1_nc_dob_y']\n",
    "demdf['gender'] = raw_data['w1_nc_gen']\n",
    "demdf['race']= raw_data['w1_nc_popgrp']\n",
    "\n",
    "#Educational Information\n",
    "demdf['highest_grade'] = raw_data['w1_nc_edschgrd']\n",
    "demdf['tertiary_edu'] = raw_data['w1_nc_edter']\n",
    "\n",
    "#Geographical Information\n",
    "demdf['province_before'] = raw_data['w1_nc_lvbfprov']\n",
    "demdf['province_during'] = raw_data['w1_nc_lvdurprov']"
   ]
  },
  {
   "cell_type": "code",
   "execution_count": 5,
   "metadata": {},
   "outputs": [],
   "source": [
    "#Rename the education levels for easier access\n",
    "demdf['highest_grade'].replace({'Grade 12 (Std10 / Matric / Senior Certificate / Form 5)': 'Grade 12',\n",
    "    'Grade 11 (Std. 9/ Form 4)': 'Grade 11',\n",
    "    'Grade 10 (Std. 8/ Form 3)': 'Grade 10', \n",
    "    'Grade 9 (Std. 7/ Form 2)':  'Grade 9', \n",
    "    'Grade 8 (Std. 6/ Form 1)':  'Grade 8', \n",
    "    'Grade 7 (Std. 5)':  'Grade 7', \n",
    "    'Grade 6 (Std. 4)':  'Grade 6', \n",
    "    'Grade 5 (Std. 3)':  'Grade 5', \n",
    "    'Grade 4 (Std. 2)':  'Grade 4', \n",
    "    'Grade 3 (Std. 1)':  'Grade 3',\n",
    "    'Grade 2 (previously Sub B/ class 2)':  'Grade 2', \n",
    "    'Grade 1 (previously Sub A/ class 1)': 'Grade 1', \n",
    "    'Grade R/0': 'Grade 0', \n",
    "    'N1 (NATED)/ NTC 1': 'NTC 1',\n",
    "    'N2 (NATED)/ NTC 2' : 'NTC 2',\n",
    "    'N3 (NATED)/ NTC 3': 'NTC 3',\n",
    "    'No Schooling': 'None',\n",
    "    'National Certificate Vocational 2 (NCV 2)': 'NCV 2',\n",
    "    'National Certificate Vocational 3 (NCV 3)': 'NCV 3',\n",
    "    'National Certificate Vocational 4 (NCV 4)': 'NCV 4'}, inplace=True)"
   ]
  },
  {
   "cell_type": "markdown",
   "metadata": {},
   "source": [
    "---\n",
    "### 1.3 Exploratory Data Analysis\n",
    "---\n",
    "Below, we will compare the sample to the findings from the 2019 mid-year population estimates in order to validate/critique the representation accuracy of demographics distribution of the sample in our dataset.\n",
    "<br>\n",
    "This data can be found at (https://www.statssa.gov.za/publications/P0302/P03022019.pdf)"
   ]
  },
  {
   "cell_type": "markdown",
   "metadata": {},
   "source": [
    "---\n",
    "#### **1.3.1 Personal Information**\n",
    "---"
   ]
  },
  {
   "cell_type": "markdown",
   "metadata": {},
   "source": [
    "##### **Age**\n",
    "---\n",
    "Since the survey was about the National Income Dynamics, it makes sense that the people interviewed were in the range of (18, 102) and had an average age of ~40, since these people make up the labour force in South Africa."
   ]
  },
  {
   "cell_type": "code",
   "execution_count": 6,
   "metadata": {},
   "outputs": [
    {
     "data": {
      "image/png": "[encoded data removed]",
      "text/plain": [
       "<Figure size 1080x720 with 1 Axes>"
      ]
     },
     "metadata": {
      "needs_background": "light"
     },
     "output_type": "display_data"
    }
   ],
   "source": [
    "#Plot age distribution\n",
    "plt.figure(figsize=(15,10))\n",
    "\n",
    "min_age = int(demdf['age'].min())\n",
    "max_age = int(demdf['age'].max())\n",
    "\n",
    "sns.histplot(demdf['age'], bins=int((max_age-min_age)/2), color='seagreen', kde =True)\n",
    "plt.title('Age Distribution of Sample',fontsize= 30)\n",
    "plt.xlabel('Age',fontsize=15)\n",
    "plt.ylabel('Number of Respondents',fontsize=15)\n",
    "plt.xticks([20,25,30,35,40,45,50,55,60,65,70,75,80,85,90,95,100],fontsize=15)\n",
    "plt.yticks(rotation='horizontal',fontsize=15)\n",
    "\n",
    "#Plot mean line\n",
    "plt.axvline(demdf['age'].mean(), color='darkred', linestyle='dashed', linewidth=1)\n",
    "plt.text(demdf['age'].mean()*1.01, 400, 'Mean={:.2f}'.format(demdf['age'].mean()), fontsize=15)\n",
    "\n",
    "#Plot min and max lines\n",
    "plt.axvline(demdf['age'].min(), color='darkred', linestyle='dashed', linewidth=1)\n",
    "plt.text(demdf['age'].min()*1.01, 400, 'Min={:.0f}'.format(demdf['age'].min()), fontsize=15)\n",
    "\n",
    "plt.axvline(demdf['age'].max(), color='darkred', linestyle='dashed', linewidth=1)\n",
    "plt.text(demdf['age'].max()*0.91, 400, 'Max={:.0f}'.format(demdf['age'].max()), fontsize=15)\n",
    "\n",
    "plt.show()"
   ]
  },
  {
   "cell_type": "markdown",
   "metadata": {},
   "source": [
    "##### **Gender**\n",
    "---\n",
    "In 2019, the total population was 58 775 022, with :\n",
    "* Male: 28 672 747 (48.78%)\n",
    "* Female: 30 102 275 (51.22%)\n",
    "<br>\n",
    "\n",
    "The distribution of the sample in our dataset is:\n",
    "* Male: 38.96%\n",
    "* Female: 61.04% \n",
    "<br>\n",
    "\n",
    "Therefore, we can conclude that the sample in our dataset inaccurately represents the gender distiribution of our country since it is far off the true values."
   ]
  },
  {
   "cell_type": "code",
   "execution_count": 7,
   "metadata": {},
   "outputs": [
    {
     "data": {
      "image/png": "[encoded data removed]",
      "text/plain": [
       "<Figure size 1080x720 with 1 Axes>"
      ]
     },
     "metadata": {
      "needs_background": "light"
     },
     "output_type": "display_data"
    }
   ],
   "source": [
    "#Plot gender distribution\n",
    "ax = demdf['gender'].value_counts().plot(kind='bar', figsize=(15,10),\n",
    "                                                  color=[\"lightcoral\",\"lightblue\"], fontsize=15);\n",
    "ax.set_alpha(0.8)\n",
    "ax.set_title(\"Gender Distribution of Sample\", fontsize=30)\n",
    "ax.set_ylabel('Number of Respondents',fontsize= 15)\n",
    "\n",
    "#Add percentage labels\n",
    "totals = []\n",
    "for i in ax.patches:\n",
    "    totals.append(i.get_height())\n",
    "total = sum(totals)\n",
    "for i in ax.patches:\n",
    "    ax.text(i.get_x()+.15, i.get_height()/2, str(round((i.get_height()/total)*100, 2))+'%',\n",
    "            fontsize=20, color='black')"
   ]
  },
  {
   "cell_type": "markdown",
   "metadata": {},
   "source": [
    "##### **Race**\n",
    "---\n",
    "In 2019, the total population was 58 775 022, with:\n",
    "* Black/African: 247 443 259 (80.7%) \n",
    "* Coloured: 5 176 750 (8.8%) \n",
    "* White: 4 652 006 (7.9%) \n",
    "* Asian/Indian: 1 503 007 (2.6%) \n",
    "<br>\n",
    "\n",
    "The distribution of the sample in our dataset is:\n",
    "* Black/African: 85.59%\n",
    "* Coloured: 8.66%\n",
    "* White: 4.6%\n",
    "* Asian/Indian: 1.12%\n",
    "* Other: 0.03%\n",
    "<br>\n",
    "\n",
    "Even though this proportion is not exactly accurate, we can conclude that it is a sufficient representation of the population in South Africa since in both cases the Black/African ethnic group is the majority, White and Coloured are next with a very similar percentage, and Indian/Asian is the minority."
   ]
  },
  {
   "cell_type": "code",
   "execution_count": 8,
   "metadata": {},
   "outputs": [
    {
     "data": {
      "image/png": "[encoded data removed]",
      "text/plain": [
       "<Figure size 1080x720 with 1 Axes>"
      ]
     },
     "metadata": {
      "needs_background": "light"
     },
     "output_type": "display_data"
    }
   ],
   "source": [
    "#Plot race/ethnic distribution\n",
    "ax = demdf['race'].value_counts().plot(kind='bar', figsize=(15,10),\n",
    "                                       color=[\"red\",\"coral\",\"orange\",\"yellow\"], fontsize=15)\n",
    "ax.set_alpha(0.8)\n",
    "ax.set_title(\"Race Distribution of Sample\", fontsize=30)\n",
    "ax.set_ylabel('Number of Respondents',fontsize= 15)\n",
    "ax.set_yticks([0, 1000, 2000, 3000, 4000, 5000,6000, 7000])\n",
    "\n",
    "#Add percentage labels\n",
    "totals = []\n",
    "for i in ax.patches:\n",
    "    totals.append(i.get_height())\n",
    "total = sum(totals)\n",
    "for i in ax.patches:\n",
    "    ax.text(i.get_x()+0.05, i.get_height()+200, str(round((i.get_height()/total)*100, 2))+'%',\n",
    "            fontsize=20, color='black')"
   ]
  },
  {
   "cell_type": "markdown",
   "metadata": {},
   "source": [
    "---\n",
    "#### **1.3.2 Educational Information**\n",
    "---"
   ]
  },
  {
   "cell_type": "markdown",
   "metadata": {},
   "source": [
    "##### **Highest Education Level**\n",
    "---\n",
    "This is the highest school grade completedd by the respondents.\n",
    "- Grade 0-12: The standard South African schooling levels\n",
    "- NCV: National Certificate Vocational\n",
    "- NTC: National Technical Certificate"
   ]
  },
  {
   "cell_type": "code",
   "execution_count": 9,
   "metadata": {},
   "outputs": [
    {
     "data": {
      "image/png": "[encoded data removed]",
      "text/plain": [
       "<Figure size 1440x864 with 1 Axes>"
      ]
     },
     "metadata": {
      "needs_background": "light"
     },
     "output_type": "display_data"
    }
   ],
   "source": [
    "#Sort education levels in a  logical order\n",
    "grades = demdf['highest_grade'].value_counts()\n",
    "ordered_grades = grades.reindex(index = ['Grade 0', 'Grade 1', 'Grade 2', 'Grade 3', 'Grade 4','Grade 5',\n",
    "       'Grade 6', 'Grade 7', 'Grade 8', 'Grade 9', 'Grade 10',\n",
    "       'Grade 11', 'Grade 12' , 'NTC 1', 'NTC 2', 'NTC 3', 'NCV 2','NCV 3','NCV 4', 'None'])\n",
    "\n",
    "\n",
    "#Plot highest education level distribution\n",
    "plt.figure(figsize=(20,12))\n",
    "plt.bar(x = ordered_grades.index, height = ordered_grades.values, \n",
    "        color=[\"forestgreen\",\"limegreen\",\"darkgreen\",\"seagreen\",\"springgreen\",\"chartreuse\",\"olive\",\"palegreen\",\"green\",\"greenyellow\"])\n",
    "\n",
    "plt.title('Highest Education Level Distribution of Sample',fontsize=30)\n",
    "plt.xlabel('Highest Grade Completed',fontsize=15)\n",
    "plt.ylabel('Number of Respondents',fontsize=15)\n",
    "plt.xticks(rotation='vertical',fontsize=15)\n",
    "plt.yticks(rotation='horizontal',fontsize=15)\n",
    "plt.show()"
   ]
  },
  {
   "cell_type": "markdown",
   "metadata": {},
   "source": [
    "##### **Tertiary Education**\n",
    "---\n",
    "This variable tells us whether or not the respondents have succesfully completed some form of tertiary studies."
   ]
  },
  {
   "cell_type": "code",
   "execution_count": 10,
   "metadata": {},
   "outputs": [
    {
     "data": {
      "image/png": "[encoded data removed]",
      "text/plain": [
       "<Figure size 1080x720 with 1 Axes>"
      ]
     },
     "metadata": {
      "needs_background": "light"
     },
     "output_type": "display_data"
    }
   ],
   "source": [
    "#Plot race/ethnic distribution\n",
    "ax = demdf['tertiary_edu'].value_counts().plot(kind='bar', figsize=(15,10),\n",
    "                                                  color=[\"yellowgreen\",\"violet\"], fontsize=15);\n",
    "ax.set_alpha(0.8)\n",
    "ax.set_title(\"Tertiary Education Distribution of Sample\", fontsize=30)\n",
    "ax.set_ylabel('Number of Respondents',fontsize= 15)\n",
    "\n",
    "#Add percentage labels\n",
    "totals = []\n",
    "for i in ax.patches:\n",
    "    totals.append(i.get_height())\n",
    "total = sum(totals)\n",
    "for i in ax.patches:\n",
    "    ax.text(i.get_x()+.15, i.get_height()/2, str(round((i.get_height()/total)*100, 2))+'%',\n",
    "            fontsize=20, color='black')"
   ]
  },
  {
   "cell_type": "markdown",
   "metadata": {},
   "source": [
    "---\n",
    "#### **1.3.3 Geographical Information**\n",
    "---"
   ]
  },
  {
   "cell_type": "markdown",
   "metadata": {},
   "source": [
    "The geographical distribution of the population as stated in the 2019 mid-year population estimates compared to the sample in our dataset:\n",
    "\n",
    "| **Province** | 2019 Mid-year | **Before Lockdown** | **During Lockdown** |\n",
    "| ---- | ---- | ---- | ---- |\n",
    "| Gauteng | 25.8% | 27.03% | 21.45% |\n",
    "| KwaZulu-Natal | 19.02% | 21.35% | 22.25% |\n",
    "| Limpopo | 10.2% | 10.81% | 12.87% |\n",
    "| Eastern Cape | 11.4% | 10.27% | 11.26% |\n",
    "| Mpumalanga | 7.8% | 9.73% | 12.33% |\n",
    "| Northern Cape | 2.2% | 6.22% | 6.7% |\n",
    "| Western Cape | 11.6% | 5.68% | 5.63% |\n",
    "| North West | 6.9% | 4.05% | 2.95% |\n",
    "| Free State | 4.9% | 4.59% | 4.29% |\n",
    "\n",
    "Even though this proportion is not exactly accurate, we can conclude that it is a decent representation of the geographical distribution of population in South Africa since in both cases Gauteng and KwaZulu-Natal have the largest population. \n",
    "<br>\n",
    "The Western Cape is the only province the is quite severely under represented in the sample.\n",
    "<br>\n",
    "North West and Mpumalanga are both slighlty over represented in the sample.\n",
    "<br><br>\n",
    "Since many people live in a province simply because of the job opportunites that exist there, we will look at the movement in and out of provinces which is likely due to the loss of jobs during lockdown."
   ]
  },
  {
   "cell_type": "markdown",
   "metadata": {},
   "source": [
    "##### **Province Before Lockdown**\n",
    "---\n",
    "This is the province that the respondent lived in before lockdown started."
   ]
  },
  {
   "cell_type": "code",
   "execution_count": 11,
   "metadata": {},
   "outputs": [
    {
     "data": {
      "image/png": "[encoded data removed]",
      "text/plain": [
       "<Figure size 1080x720 with 1 Axes>"
      ]
     },
     "metadata": {
      "needs_background": "light"
     },
     "output_type": "display_data"
    }
   ],
   "source": [
    "#Plot the provincial distribution before lockdown\n",
    "provinces = demdf['province_before'].value_counts()\n",
    "ordered_provinces_before = provinces.reindex(index = ['Gauteng', 'KwaZulu-Natal', 'Limpopo', 'Eastern Cape', 'Mpumalanga','Northern Cape',\n",
    "       'Western Cape', 'North West', 'Free State', 'Outside of South Africa'])\n",
    "\n",
    "ax = ordered_provinces_before.plot(kind='bar', figsize=(15,10),\n",
    "                                       color=[\"aqua\",\"deepskyblue\",\"lightseagreen\",\"dodgerblue\"], fontsize=15)\n",
    "ax.set_alpha(0.8)\n",
    "ax.set_title(\"Geographical Distribution of Sample before Lockdown\", fontsize=30)\n",
    "ax.set_ylabel('Number of Respondents',fontsize= 15)\n",
    "\n",
    "#Add percentage labels\n",
    "totals_before = []\n",
    "for i in ax.patches:\n",
    "    totals_before.append(i.get_height())\n",
    "total = sum(totals_before)\n",
    "for i in ax.patches:\n",
    "    ax.text(i.get_x()-0.08, i.get_height()+1, str(round((i.get_height()/total)*100, 2))+'%',\n",
    "            fontsize=20, color='black')"
   ]
  },
  {
   "cell_type": "markdown",
   "metadata": {},
   "source": [
    "##### **Province During Lockdown**\n",
    "---\n",
    "This is the province that the respondent lived in during the initial lockdown period."
   ]
  },
  {
   "cell_type": "code",
   "execution_count": 14,
   "metadata": {},
   "outputs": [
    {
     "ename": "NameError",
     "evalue": "name 'ordered_provinces_after' is not defined",
     "output_type": "error",
     "traceback": [
      "\u001b[0;31m---------------------------------------------------------------------------\u001b[0m",
      "\u001b[0;31mNameError\u001b[0m                                 Traceback (most recent call last)",
      "\u001b[0;32m<ipython-input-14-fd611d0e45a0>\u001b[0m in \u001b[0;36m<module>\u001b[0;34m\u001b[0m\n\u001b[1;32m      4\u001b[0m        'Western Cape', 'North West', 'Free State', 'Outside of South Africa'])\n\u001b[1;32m      5\u001b[0m \u001b[0;34m\u001b[0m\u001b[0m\n\u001b[0;32m----> 6\u001b[0;31m ax = ordered_provinces_after.plot(kind='bar', figsize=(15,10),\n\u001b[0m\u001b[1;32m      7\u001b[0m                                        color=[\"orchid\",\"mediumpurple\",\"plum\",\"purple\"], fontsize=15)\n\u001b[1;32m      8\u001b[0m \u001b[0max\u001b[0m\u001b[0;34m.\u001b[0m\u001b[0mset_alpha\u001b[0m\u001b[0;34m(\u001b[0m\u001b[0;36m0.8\u001b[0m\u001b[0;34m)\u001b[0m\u001b[0;34m\u001b[0m\u001b[0;34m\u001b[0m\u001b[0m\n",
      "\u001b[0;31mNameError\u001b[0m: name 'ordered_provinces_after' is not defined"
     ]
    }
   ],
   "source": [
    "#Plot the provincial distribution during lockdown\n",
    "provinces = demdf['province_during'].value_counts()\n",
    "ordered_provinces_during = provinces.reindex(index = ['Gauteng', 'KwaZulu-Natal', 'Limpopo', 'Eastern Cape', 'Mpumalanga','Northern Cape',\n",
    "       'Western Cape', 'North West', 'Free State', 'Outside of South Africa'])\n",
    "\n",
    "ax = ordered_provinces_after.plot(kind='bar', figsize=(15,10),\n",
    "                                       color=[\"orchid\",\"mediumpurple\",\"plum\",\"purple\"], fontsize=15)\n",
    "ax.set_alpha(0.8)\n",
    "ax.set_title(\"Geographical Distribution of Sample during Lockdown\", fontsize=30)\n",
    "ax.set_ylabel('Number of Respondents',fontsize= 15)\n",
    "\n",
    "#Add percentage labels\n",
    "totals_during =[]\n",
    "for i in ax.patches:\n",
    "    totals_during.append(i.get_height())\n",
    "total = sum(totals_during)\n",
    "for i in ax.patches:\n",
    "    ax.text(i.get_x()-0.08, i.get_height()+1, str(round((i.get_height()/total)*100, 2))+'%',\n",
    "            fontsize=20, color='black')"
   ]
  },
  {
   "cell_type": "markdown",
   "metadata": {},
   "source": [
    "##### **Change in geographical distribution of population before vs during lockdown**\n",
    "---\n",
    "The values below show us by how much the population in each province changed due to lockdown.\n",
    "This makes logical sense since Gauteng has the largest population, and the most job opportunities, so more people would have had to leave because of lockdown "
   ]
  },
  {
   "cell_type": "code",
   "execution_count": 15,
   "metadata": {},
   "outputs": [
    {
     "data": {
      "text/plain": [
       "<matplotlib.lines.Line2D at 0x7f8858290790>"
      ]
     },
     "execution_count": 15,
     "metadata": {},
     "output_type": "execute_result"
    },
    {
     "data": {
      "image/png": "[encoded data removed]",
      "text/plain": [
       "<Figure size 1080x720 with 1 Axes>"
      ]
     },
     "metadata": {
      "needs_background": "light"
     },
     "output_type": "display_data"
    }
   ],
   "source": [
    "#Plot the provincial distribution before vs during lockdown\n",
    "diff = ordered_provinces_during - ordered_provinces_before\n",
    "ax = diff.plot(kind='bar', figsize=(15,10),\n",
    "                                       color=[\"tomato\",\"firebrick\",\"red\",\"lightcoral\"], fontsize=15);\n",
    "ax.set_alpha(0.8)\n",
    "ax.set_title(\"Geographical Distribution of Sample Before vs During Lockdown\", fontsize=30)\n",
    "ax.set_ylabel('Number of Respondents',fontsize= 15)\n",
    "ax.set_yticks([-20, -15, -10, -5, 0,  5, 10, 15])\n",
    "\n",
    "# Add percentage labels\n",
    "totals =[]\n",
    "for i in ax.patches:\n",
    "    totals.append(i.get_height())\n",
    "total = sum(totals)\n",
    "\n",
    "for i in ax.patches:\n",
    "    ax.text(i.get_x()-0.08, i.get_height()+1, str(round((i.get_height()/total)*100, 2))+'%',\n",
    "            fontsize=20, color='black')\n",
    "    \n",
    "ax.axhline(0, color='black', linestyle='solid', linewidth=1)"
   ]
  },
  {
   "cell_type": "markdown",
   "metadata": {},
   "source": [
    "---\n",
    "## <span style='color:blue' > Section 2 - Labour </span>\n",
    "---"
   ]
  },
  {
   "cell_type": "markdown",
   "metadata": {},
   "source": [
    "---\n",
    "### 2.1 Data Description\n",
    "---\n",
    "\n",
    "**Work in February** \n",
    "* **job_in_feb** - Had a job in February \n",
    "* **work_in_feb** - Did work for profit/pay even just for an hour or a small amount in February \n",
    "* **bus_in_feb** - Did any businesss, big or small, even just for an hour in February \n",
    "* **work_days_feb** - Average number of days worked per week in February \n",
    "* **work_hours_feb** - Average number of hours worked per day in February \n",
    "* **take_home_pay_feb** - Amount of take-home profit/pay in the month of February \n",
    "<br><br>\n",
    "\n",
    "**Work in April** \n",
    "* **job_in_apr** - Had any kind of job in April\n",
    "* **work_in_apr** - Did work for profit/pay even just for an hour or a small amount in April\n",
    "* **bus_in_apr** - Did any businesss, big or small, even just for an hour in April\n",
    "* **work_days_apr** - Average number of days worked per week in April\n",
    "* **work_hours_apr** - Average number of hours worked per day in April\n",
    "* **take_home_pay_apr** - Amount of take-home profit/pay in the month of April \n",
    "* **return_to_work** - Have any paid activity/job to return to in the next 4 weeks (At time of survey)\n",
    "<br><br>\n",
    "\n",
    "**Type of work** \n",
    "* **main_form_work** - Respondents main form of work\n",
    "* **usual_work** - Occupational code for usual work "
   ]
  },
  {
   "cell_type": "markdown",
   "metadata": {},
   "source": [
    "---\n",
    "### 2.2 Data Ingestion\n",
    "---"
   ]
  },
  {
   "cell_type": "markdown",
   "metadata": {},
   "source": [
    "First we will create a DataFrame which will contain a subset of relevant columns used for the Data Cleaning and Exploratory Data Analysis of the Labour features."
   ]
  },
  {
   "cell_type": "code",
   "execution_count": 21,
   "metadata": {},
   "outputs": [],
   "source": [
    "lbdf = pd.DataFrame()\n",
    "\n",
    "lbdf['job_in_feb'] = raw_data.w1_nc_em_feb\n",
    "lbdf['work_in_feb'] = raw_data.w1_nc_emany_feb\n",
    "lbdf['bus_in_feb'] = raw_data.w1_nc_ems_feb\n",
    "lbdf['work_days_feb'] = raw_data.w1_nc_emdays_feb\n",
    "lbdf['work_hours_feb'] = raw_data.w1_nc_emhrs_feb\n",
    "lbdf['take_home_pay_feb'] = raw_data.w1_nc_eminc_feb\n",
    "\n",
    "lbdf['job_in_apr'] = raw_data.w1_nc_em_apr\n",
    "lbdf['work_in_apr'] = raw_data.w1_nc_emany_apr\n",
    "lbdf['bus_in_apr'] = raw_data.w1_nc_ems_apr\n",
    "lbdf['work_days_apr'] = raw_data.w1_nc_emdays_apr\n",
    "lbdf['work_hours_apr'] = raw_data.w1_nc_emhrs_apr\n",
    "lbdf['take_home_pay_apr'] = raw_data.w1_nc_eminc_apr\n",
    "lbdf['return_to_work'] = raw_data.w1_nc_emreturn\n",
    "\n",
    "lbdf['main_form_work'] = raw_data.w1_nc_emtyp\n",
    "lbdf['usual_work'] = raw_data.w1_nc_emwrk_isco_c"
   ]
  },
  {
   "cell_type": "markdown",
   "metadata": {},
   "source": [
    "Let us get a general feel for the data by taking a look at a sample of the data and by exploring some of the information about the data:"
   ]
  },
  {
   "cell_type": "code",
   "execution_count": 22,
   "metadata": {
    "scrolled": true
   },
   "outputs": [
    {
     "data": {
      "text/html": [
       "<div>\n",
       "<style scoped>\n",
       "    .dataframe tbody tr th:only-of-type {\n",
       "        vertical-align: middle;\n",
       "    }\n",
       "\n",
       "    .dataframe tbody tr th {\n",
       "        vertical-align: top;\n",
       "    }\n",
       "\n",
       "    .dataframe thead th {\n",
       "        text-align: right;\n",
       "    }\n",
       "</style>\n",
       "<table border=\"1\" class=\"dataframe\">\n",
       "  <thead>\n",
       "    <tr style=\"text-align: right;\">\n",
       "      <th></th>\n",
       "      <th>job_in_feb</th>\n",
       "      <th>work_in_feb</th>\n",
       "      <th>bus_in_feb</th>\n",
       "      <th>work_days_feb</th>\n",
       "      <th>work_hours_feb</th>\n",
       "      <th>take_home_pay_feb</th>\n",
       "      <th>job_in_apr</th>\n",
       "      <th>work_in_apr</th>\n",
       "      <th>bus_in_apr</th>\n",
       "      <th>work_days_apr</th>\n",
       "      <th>work_hours_apr</th>\n",
       "      <th>take_home_pay_apr</th>\n",
       "      <th>return_to_work</th>\n",
       "      <th>main_form_work</th>\n",
       "      <th>usual_work</th>\n",
       "    </tr>\n",
       "  </thead>\n",
       "  <tbody>\n",
       "    <tr>\n",
       "      <th>0</th>\n",
       "      <td>Yes</td>\n",
       "      <td>NaN</td>\n",
       "      <td>NaN</td>\n",
       "      <td>NaN</td>\n",
       "      <td>NaN</td>\n",
       "      <td>180.0</td>\n",
       "      <td>No</td>\n",
       "      <td>No</td>\n",
       "      <td>No - I did nothing</td>\n",
       "      <td>NaN</td>\n",
       "      <td>NaN</td>\n",
       "      <td>NaN</td>\n",
       "      <td>NaN</td>\n",
       "      <td>NaN</td>\n",
       "      <td>NaN</td>\n",
       "    </tr>\n",
       "    <tr>\n",
       "      <th>1</th>\n",
       "      <td>No, I'm retired</td>\n",
       "      <td>NaN</td>\n",
       "      <td>NaN</td>\n",
       "      <td>NaN</td>\n",
       "      <td>NaN</td>\n",
       "      <td>NaN</td>\n",
       "      <td>NaN</td>\n",
       "      <td>NaN</td>\n",
       "      <td>NaN</td>\n",
       "      <td>NaN</td>\n",
       "      <td>NaN</td>\n",
       "      <td>NaN</td>\n",
       "      <td>NaN</td>\n",
       "      <td>NaN</td>\n",
       "      <td>NaN</td>\n",
       "    </tr>\n",
       "    <tr>\n",
       "      <th>2</th>\n",
       "      <td>No</td>\n",
       "      <td>No</td>\n",
       "      <td>No - I did nothing</td>\n",
       "      <td>NaN</td>\n",
       "      <td>NaN</td>\n",
       "      <td>NaN</td>\n",
       "      <td>No</td>\n",
       "      <td>No</td>\n",
       "      <td>No - I did nothing</td>\n",
       "      <td>NaN</td>\n",
       "      <td>NaN</td>\n",
       "      <td>NaN</td>\n",
       "      <td>No</td>\n",
       "      <td>NaN</td>\n",
       "      <td>NaN</td>\n",
       "    </tr>\n",
       "    <tr>\n",
       "      <th>3</th>\n",
       "      <td>Yes</td>\n",
       "      <td>NaN</td>\n",
       "      <td>NaN</td>\n",
       "      <td>3.0</td>\n",
       "      <td>5.0</td>\n",
       "      <td>900.0</td>\n",
       "      <td>No</td>\n",
       "      <td>No</td>\n",
       "      <td>No - I did nothing</td>\n",
       "      <td>5.0</td>\n",
       "      <td>5.0</td>\n",
       "      <td>NaN</td>\n",
       "      <td>Yes</td>\n",
       "      <td>Regular job</td>\n",
       "      <td>Elementary occupations</td>\n",
       "    </tr>\n",
       "    <tr>\n",
       "      <th>4</th>\n",
       "      <td>No</td>\n",
       "      <td>No</td>\n",
       "      <td>No - I did nothing</td>\n",
       "      <td>NaN</td>\n",
       "      <td>NaN</td>\n",
       "      <td>NaN</td>\n",
       "      <td>No</td>\n",
       "      <td>No</td>\n",
       "      <td>No - I did nothing</td>\n",
       "      <td>NaN</td>\n",
       "      <td>NaN</td>\n",
       "      <td>NaN</td>\n",
       "      <td>No</td>\n",
       "      <td>NaN</td>\n",
       "      <td>NaN</td>\n",
       "    </tr>\n",
       "  </tbody>\n",
       "</table>\n",
       "</div>"
      ],
      "text/plain": [
       "        job_in_feb work_in_feb          bus_in_feb work_days_feb  \\\n",
       "0              Yes         NaN                 NaN           NaN   \n",
       "1  No, I'm retired         NaN                 NaN           NaN   \n",
       "2               No          No  No - I did nothing           NaN   \n",
       "3              Yes         NaN                 NaN           3.0   \n",
       "4               No          No  No - I did nothing           NaN   \n",
       "\n",
       "  work_hours_feb take_home_pay_feb job_in_apr work_in_apr          bus_in_apr  \\\n",
       "0            NaN             180.0         No          No  No - I did nothing   \n",
       "1            NaN               NaN        NaN         NaN                 NaN   \n",
       "2            NaN               NaN         No          No  No - I did nothing   \n",
       "3            5.0             900.0         No          No  No - I did nothing   \n",
       "4            NaN               NaN         No          No  No - I did nothing   \n",
       "\n",
       "  work_days_apr work_hours_apr take_home_pay_apr return_to_work  \\\n",
       "0           NaN            NaN               NaN            NaN   \n",
       "1           NaN            NaN               NaN            NaN   \n",
       "2           NaN            NaN               NaN             No   \n",
       "3           5.0            5.0               NaN            Yes   \n",
       "4           NaN            NaN               NaN             No   \n",
       "\n",
       "  main_form_work              usual_work  \n",
       "0            NaN                     NaN  \n",
       "1            NaN                     NaN  \n",
       "2            NaN                     NaN  \n",
       "3    Regular job  Elementary occupations  \n",
       "4            NaN                     NaN  "
      ]
     },
     "execution_count": 22,
     "metadata": {},
     "output_type": "execute_result"
    }
   ],
   "source": [
    "lbdf.head()"
   ]
  },
  {
   "cell_type": "code",
   "execution_count": 23,
   "metadata": {},
   "outputs": [
    {
     "name": "stdout",
     "output_type": "stream",
     "text": [
      "<class 'pandas.core.frame.DataFrame'>\n",
      "RangeIndex: 7073 entries, 0 to 7072\n",
      "Data columns (total 15 columns):\n",
      " #   Column             Non-Null Count  Dtype \n",
      "---  ------             --------------  ----- \n",
      " 0   job_in_feb         6997 non-null   object\n",
      " 1   work_in_feb        3684 non-null   object\n",
      " 2   bus_in_feb         3356 non-null   object\n",
      " 3   work_days_feb      3141 non-null   object\n",
      " 4   work_hours_feb     3018 non-null   object\n",
      " 5   take_home_pay_feb  2653 non-null   object\n",
      " 6   job_in_apr         6329 non-null   object\n",
      " 7   work_in_apr        4833 non-null   object\n",
      " 8   bus_in_apr         4652 non-null   object\n",
      " 9   work_days_apr      1866 non-null   object\n",
      " 10  work_hours_apr     1790 non-null   object\n",
      " 11  take_home_pay_apr  1402 non-null   object\n",
      " 12  return_to_work     3977 non-null   object\n",
      " 13  main_form_work     2602 non-null   object\n",
      " 14  usual_work         2313 non-null   object\n",
      "dtypes: object(15)\n",
      "memory usage: 829.0+ KB\n"
     ]
    }
   ],
   "source": [
    "lbdf.info()"
   ]
  },
  {
   "cell_type": "markdown",
   "metadata": {},
   "source": [
    "As we can see our dataset seems to contain a lot of missing data, let us see if through Data Preprocessing we can either impute or discard this missing data."
   ]
  },
  {
   "cell_type": "markdown",
   "metadata": {},
   "source": [
    "---\n",
    "### 2.3 Data Wrangling and Cleaning\n",
    "---"
   ]
  },
  {
   "cell_type": "markdown",
   "metadata": {},
   "source": [
    "---\n",
    "#### **Feature Generation**\n",
    "---"
   ]
  },
  {
   "cell_type": "markdown",
   "metadata": {},
   "source": [
    "To begin the data preprocessing we will first create new features using other features in our dataset. The first two features generated are **labour_in_feb** and **labour_in_apr** these features are created by checking if an individual had a job, did any part-time work or did any business in each of the months. This is done using the **check_labour** function below:"
   ]
  },
  {
   "cell_type": "code",
   "execution_count": 24,
   "metadata": {},
   "outputs": [],
   "source": [
    "def check_labour(jobfeb, workfeb, busfeb):\n",
    "    if jobfeb == \"Yes\" or workfeb == \"Yes\" or busfeb ==\"Yes\":\n",
    "        return 1 \n",
    "    else:\n",
    "        return 0 \n",
    "    \n",
    "lbdf['labour_in_feb'] = np.vectorize(check_labour)(lbdf['job_in_feb'],lbdf['work_in_feb'],lbdf['bus_in_feb'])\n",
    "lbdf['labour_in_apr'] = np.vectorize(check_labour)(lbdf['job_in_apr'],lbdf['work_in_apr'],lbdf['bus_in_apr'])"
   ]
  },
  {
   "cell_type": "markdown",
   "metadata": {},
   "source": [
    "Now that we have created these new features, which are good indications of whether or not a respondent was making any money in February and April, we can drop the less useful and now somewhat redundant job, work and business features for each month."
   ]
  },
  {
   "cell_type": "code",
   "execution_count": 25,
   "metadata": {},
   "outputs": [],
   "source": [
    "lbdf = lbdf.drop(['job_in_feb','work_in_feb','bus_in_feb','job_in_apr','work_in_apr','bus_in_apr'] , axis = 1)"
   ]
  },
  {
   "cell_type": "markdown",
   "metadata": {},
   "source": [
    "The next feature we can create is **lost_labour** which will check if a respondent who was working in February had lost their opportunity to work by April."
   ]
  },
  {
   "cell_type": "code",
   "execution_count": 26,
   "metadata": {},
   "outputs": [],
   "source": [
    "def lost_labour(labour_in_feb,labour_in_apr):\n",
    "    if labour_in_feb == 1 and labour_in_apr ==0:\n",
    "        return 1\n",
    "    else:\n",
    "        return 0 \n",
    "\n",
    "lbdf['lost_labour'] = np.vectorize(lost_labour)(lbdf['labour_in_feb'],lbdf['labour_in_apr'])"
   ]
  },
  {
   "cell_type": "markdown",
   "metadata": {},
   "source": [
    "With these new features created, let us rerrange our columns into a more logical order and re-examine how a sample from our data will now look."
   ]
  },
  {
   "cell_type": "code",
   "execution_count": 27,
   "metadata": {},
   "outputs": [
    {
     "data": {
      "text/html": [
       "<div>\n",
       "<style scoped>\n",
       "    .dataframe tbody tr th:only-of-type {\n",
       "        vertical-align: middle;\n",
       "    }\n",
       "\n",
       "    .dataframe tbody tr th {\n",
       "        vertical-align: top;\n",
       "    }\n",
       "\n",
       "    .dataframe thead th {\n",
       "        text-align: right;\n",
       "    }\n",
       "</style>\n",
       "<table border=\"1\" class=\"dataframe\">\n",
       "  <thead>\n",
       "    <tr style=\"text-align: right;\">\n",
       "      <th></th>\n",
       "      <th>labour_in_feb</th>\n",
       "      <th>work_days_feb</th>\n",
       "      <th>work_hours_feb</th>\n",
       "      <th>take_home_pay_feb</th>\n",
       "      <th>labour_in_apr</th>\n",
       "      <th>work_days_apr</th>\n",
       "      <th>work_hours_apr</th>\n",
       "      <th>take_home_pay_apr</th>\n",
       "      <th>lost_labour</th>\n",
       "      <th>return_to_work</th>\n",
       "      <th>main_form_work</th>\n",
       "      <th>usual_work</th>\n",
       "    </tr>\n",
       "  </thead>\n",
       "  <tbody>\n",
       "    <tr>\n",
       "      <th>0</th>\n",
       "      <td>1</td>\n",
       "      <td>NaN</td>\n",
       "      <td>NaN</td>\n",
       "      <td>180.0</td>\n",
       "      <td>0</td>\n",
       "      <td>NaN</td>\n",
       "      <td>NaN</td>\n",
       "      <td>NaN</td>\n",
       "      <td>1</td>\n",
       "      <td>NaN</td>\n",
       "      <td>NaN</td>\n",
       "      <td>NaN</td>\n",
       "    </tr>\n",
       "    <tr>\n",
       "      <th>1</th>\n",
       "      <td>0</td>\n",
       "      <td>NaN</td>\n",
       "      <td>NaN</td>\n",
       "      <td>NaN</td>\n",
       "      <td>0</td>\n",
       "      <td>NaN</td>\n",
       "      <td>NaN</td>\n",
       "      <td>NaN</td>\n",
       "      <td>0</td>\n",
       "      <td>NaN</td>\n",
       "      <td>NaN</td>\n",
       "      <td>NaN</td>\n",
       "    </tr>\n",
       "    <tr>\n",
       "      <th>2</th>\n",
       "      <td>0</td>\n",
       "      <td>NaN</td>\n",
       "      <td>NaN</td>\n",
       "      <td>NaN</td>\n",
       "      <td>0</td>\n",
       "      <td>NaN</td>\n",
       "      <td>NaN</td>\n",
       "      <td>NaN</td>\n",
       "      <td>0</td>\n",
       "      <td>No</td>\n",
       "      <td>NaN</td>\n",
       "      <td>NaN</td>\n",
       "    </tr>\n",
       "    <tr>\n",
       "      <th>3</th>\n",
       "      <td>1</td>\n",
       "      <td>3.0</td>\n",
       "      <td>5.0</td>\n",
       "      <td>900.0</td>\n",
       "      <td>0</td>\n",
       "      <td>5.0</td>\n",
       "      <td>5.0</td>\n",
       "      <td>NaN</td>\n",
       "      <td>1</td>\n",
       "      <td>Yes</td>\n",
       "      <td>Regular job</td>\n",
       "      <td>Elementary occupations</td>\n",
       "    </tr>\n",
       "    <tr>\n",
       "      <th>4</th>\n",
       "      <td>0</td>\n",
       "      <td>NaN</td>\n",
       "      <td>NaN</td>\n",
       "      <td>NaN</td>\n",
       "      <td>0</td>\n",
       "      <td>NaN</td>\n",
       "      <td>NaN</td>\n",
       "      <td>NaN</td>\n",
       "      <td>0</td>\n",
       "      <td>No</td>\n",
       "      <td>NaN</td>\n",
       "      <td>NaN</td>\n",
       "    </tr>\n",
       "  </tbody>\n",
       "</table>\n",
       "</div>"
      ],
      "text/plain": [
       "   labour_in_feb work_days_feb work_hours_feb take_home_pay_feb  \\\n",
       "0              1           NaN            NaN             180.0   \n",
       "1              0           NaN            NaN               NaN   \n",
       "2              0           NaN            NaN               NaN   \n",
       "3              1           3.0            5.0             900.0   \n",
       "4              0           NaN            NaN               NaN   \n",
       "\n",
       "   labour_in_apr work_days_apr work_hours_apr take_home_pay_apr  lost_labour  \\\n",
       "0              0           NaN            NaN               NaN            1   \n",
       "1              0           NaN            NaN               NaN            0   \n",
       "2              0           NaN            NaN               NaN            0   \n",
       "3              0           5.0            5.0               NaN            1   \n",
       "4              0           NaN            NaN               NaN            0   \n",
       "\n",
       "  return_to_work main_form_work              usual_work  \n",
       "0            NaN            NaN                     NaN  \n",
       "1            NaN            NaN                     NaN  \n",
       "2             No            NaN                     NaN  \n",
       "3            Yes    Regular job  Elementary occupations  \n",
       "4             No            NaN                     NaN  "
      ]
     },
     "execution_count": 27,
     "metadata": {},
     "output_type": "execute_result"
    }
   ],
   "source": [
    "list_of_col_names = ['labour_in_feb','work_days_feb', 'work_hours_feb', 'take_home_pay_feb', 'labour_in_apr', 'work_days_apr',\n",
    "       'work_hours_apr', 'take_home_pay_apr', 'lost_labour', 'return_to_work',\n",
    "       'main_form_work', 'usual_work']\n",
    "\n",
    "lbdf = lbdf.filter(list_of_col_names)\n",
    "lbdf.head()"
   ]
  },
  {
   "cell_type": "markdown",
   "metadata": {},
   "source": [
    "---\n",
    "#### **Missing Data**\n",
    "---"
   ]
  },
  {
   "cell_type": "markdown",
   "metadata": {},
   "source": [
    "An important caveat to note is that if a respondent did not have any work in February then the number of days they worked per week, the number of hours they worked per day and their take home pay will all be 0. Similarly, if a respondent did not have any work in April, their days worked, hours worked and take home pay will also be 0. "
   ]
  },
  {
   "cell_type": "code",
   "execution_count": 28,
   "metadata": {},
   "outputs": [],
   "source": [
    "lbdf.loc[lbdf['labour_in_feb']==0 ,['work_days_feb','work_hours_feb','take_home_pay_feb']] = 0 \n",
    "lbdf.loc[lbdf['labour_in_apr']==0,['work_days_apr','work_hours_apr','take_home_pay_apr']] = 0 "
   ]
  },
  {
   "cell_type": "markdown",
   "metadata": {},
   "source": [
    "Let us take a look at what percentage of data is missing for each feature in our DataFrame"
   ]
  },
  {
   "cell_type": "code",
   "execution_count": 29,
   "metadata": {},
   "outputs": [
    {
     "name": "stdout",
     "output_type": "stream",
     "text": [
      "Percentage of Data Missing\n"
     ]
    },
    {
     "data": {
      "text/plain": [
       "labour_in_feb         0.00\n",
       "work_days_feb         2.47\n",
       "work_hours_feb        4.17\n",
       "take_home_pay_feb     9.52\n",
       "labour_in_apr         0.00\n",
       "work_days_apr         5.77\n",
       "work_hours_apr        6.45\n",
       "take_home_pay_apr    11.65\n",
       "lost_labour           0.00\n",
       "return_to_work       43.77\n",
       "main_form_work       63.21\n",
       "usual_work           67.30\n",
       "dtype: float64"
      ]
     },
     "metadata": {},
     "output_type": "display_data"
    }
   ],
   "source": [
    "print('Percentage of Data Missing')\n",
    "display(round((lbdf.isnull().sum()/len(lbdf))*100,2))"
   ]
  },
  {
   "cell_type": "markdown",
   "metadata": {},
   "source": [
    "As we can see the features for the work days per week, work hours per day and take home pay features for both February and April are all missing less than 12% of their values. First we need to ensure these features are the correct data type, next we can impute these values by first identifying which respondents actually had labour in that month and then calculating the mean of that feauture and replacing the missing data with that mean. Because answers for work days and work hours were discrete we will have to round the calculated mean to the nearest discrete value. "
   ]
  },
  {
   "cell_type": "code",
   "execution_count": 30,
   "metadata": {},
   "outputs": [],
   "source": [
    "#Ensure correct data type \n",
    "lbdf.loc[:,'work_days_feb'] = pd.to_numeric(lbdf['work_days_feb'])\n",
    "\n",
    "#Locate the respondents who had some sort of labour in February month and calculate the mean of their work days \n",
    "avg_work_day_feb = np.mean(lbdf.loc[lbdf['labour_in_feb']==1,'work_days_feb'])\n",
    "\n",
    "#Replace the missing work day values for people who had labour in February with the discretized calculated mean \n",
    "lbdf.loc[(lbdf['labour_in_feb']==1)&(lbdf['work_days_feb'].isnull()),'work_days_feb'] = round(avg_work_day_feb,0)\n",
    "\n",
    "#Repeat the same process for the other relevant features \n",
    "lbdf.loc[:,'work_hours_feb'] = pd.to_numeric(lbdf['work_hours_feb'])\n",
    "avg_work_hours_feb = np.mean(lbdf.loc[lbdf['labour_in_feb']==1,'work_hours_feb'])\n",
    "lbdf.loc[(lbdf['labour_in_feb']==1)&(lbdf['work_hours_feb'].isnull()),'work_hours_feb'] = round(avg_work_hours_feb,0)\n",
    "\n",
    "#Here we do not discretize the mean as this is a continous feature\n",
    "lbdf.loc[:,'take_home_pay_feb'] = pd.to_numeric(lbdf['take_home_pay_feb'])\n",
    "avg_take_home_pay_feb = np.mean(lbdf.loc[lbdf['labour_in_feb']==1,'take_home_pay_feb'])\n",
    "lbdf.loc[(lbdf['labour_in_feb']==1)&(lbdf['take_home_pay_feb'].isnull()),'take_home_pay_feb'] = avg_take_home_pay_feb\n",
    "\n",
    "lbdf.loc[:,'work_days_apr'] = pd.to_numeric(lbdf['work_days_apr'])\n",
    "avg_work_day_apr = np.mean(lbdf.loc[lbdf['labour_in_apr']==1,'work_days_apr'])\n",
    "lbdf.loc[(lbdf['labour_in_apr']==1)&(lbdf['work_days_apr'].isnull()),'work_days_apr'] = round(avg_work_day_apr,0)\n",
    "\n",
    "lbdf.loc[:,'work_hours_apr'] = pd.to_numeric(lbdf['work_hours_apr'])\n",
    "avg_work_hours_apr = np.mean(lbdf.loc[lbdf['labour_in_apr']==1,'work_hours_apr'])\n",
    "lbdf.loc[(lbdf['labour_in_apr']==1)&(lbdf['work_hours_apr'].isnull()),'work_hours_apr'] = round(avg_work_hours_apr,0)\n",
    "\n",
    "lbdf.loc[:,'take_home_pay_apr'] = pd.to_numeric(lbdf['take_home_pay_apr'])\n",
    "avg_take_home_pay_apr = np.mean(lbdf.loc[lbdf['labour_in_apr']==1,'take_home_pay_apr'])\n",
    "lbdf.loc[(lbdf['labour_in_apr']==1)&(lbdf['take_home_pay_apr'].isnull()),'take_home_pay_apr'] = avg_take_home_pay_apr"
   ]
  },
  {
   "cell_type": "markdown",
   "metadata": {},
   "source": [
    "Next we need to determine a way to impute the values for return_to_work because, as can be seen above, about 43.77% of our entries are missing values for this feature. This feature indicates whether or not the respondent will have work to return to in the 4 weeks following the interviews (which were conducted just after April). To impute the missing value, we make the assumption that someone who has work at the time of the interview will still have work in 4 weeks whilst people who had lost their work may or may not be able to return to work. The function **check_return** allows us to simultaneously perform these checks and use binary encoding to encode this feature. "
   ]
  },
  {
   "cell_type": "code",
   "execution_count": 32,
   "metadata": {},
   "outputs": [],
   "source": [
    "def check_return(labour_in_apr,  return_to_work):\n",
    "    if labour_in_apr == 1:\n",
    "        return 1\n",
    "    else:\n",
    "        if return_to_work=='Yes':\n",
    "            return 1\n",
    "    return 0\n",
    "\n",
    "lbdf.loc[:,'return_to_work'] = np.vectorize(check_return)(lbdf['labour_in_apr'], lbdf['return_to_work'])"
   ]
  },
  {
   "cell_type": "markdown",
   "metadata": {},
   "source": [
    "Next, we will try to impute values for the usual_work feature. Let us first examine what are some possible values for this question."
   ]
  },
  {
   "cell_type": "code",
   "execution_count": 33,
   "metadata": {},
   "outputs": [
    {
     "data": {
      "text/plain": [
       "Elementary occupations                                551\n",
       "Service and sales workers                             412\n",
       "Professionals                                         315\n",
       "Clerical support workers                              246\n",
       "Craft and related trades workers                      193\n",
       "Plant and machine operators, and assemblers           182\n",
       "Technicians and associate professionals               169\n",
       "Managers                                              100\n",
       "Not Employed                                           81\n",
       "Skilled agricultural, forestry and fishery workers     39\n",
       "Self-Employed                                          13\n",
       "Not applicable                                         10\n",
       "Armed forces occupations                                2\n",
       "Name: usual_work, dtype: int64"
      ]
     },
     "execution_count": 33,
     "metadata": {},
     "output_type": "execute_result"
    }
   ],
   "source": [
    "lbdf['usual_work'].value_counts()"
   ]
  },
  {
   "cell_type": "markdown",
   "metadata": {},
   "source": [
    "We can see that there is an option for \"Not Employed\". We can leverage the fact that we know the work status of our respondents before lockdown (stored in lavour_in_feb) so we can assign these respondents with 'Not Employed' for their usual work. "
   ]
  },
  {
   "cell_type": "code",
   "execution_count": 34,
   "metadata": {},
   "outputs": [],
   "source": [
    "lbdf.loc[lbdf['labour_in_feb']==0,'usual_work'] = 'Not Employed'"
   ]
  },
  {
   "cell_type": "markdown",
   "metadata": {},
   "source": [
    "Next, by examining the possible options for the main_form_work feature we can see that several repsondents answered \"Self-employed\" or \"I run a business\""
   ]
  },
  {
   "cell_type": "code",
   "execution_count": 35,
   "metadata": {},
   "outputs": [
    {
     "data": {
      "text/plain": [
       "Regular job         1581\n",
       "Casual work          628\n",
       "Self-employed        307\n",
       "I run a business      86\n",
       "Name: main_form_work, dtype: int64"
      ]
     },
     "execution_count": 35,
     "metadata": {},
     "output_type": "execute_result"
    }
   ],
   "source": [
    "lbdf['main_form_work'].value_counts()"
   ]
  },
  {
   "cell_type": "markdown",
   "metadata": {},
   "source": [
    "Below we can see that some respondents who answered the main_form_work question have missing values for usual_work. "
   ]
  },
  {
   "cell_type": "code",
   "execution_count": 36,
   "metadata": {},
   "outputs": [
    {
     "data": {
      "text/html": [
       "<div>\n",
       "<style scoped>\n",
       "    .dataframe tbody tr th:only-of-type {\n",
       "        vertical-align: middle;\n",
       "    }\n",
       "\n",
       "    .dataframe tbody tr th {\n",
       "        vertical-align: top;\n",
       "    }\n",
       "\n",
       "    .dataframe thead th {\n",
       "        text-align: right;\n",
       "    }\n",
       "</style>\n",
       "<table border=\"1\" class=\"dataframe\">\n",
       "  <thead>\n",
       "    <tr style=\"text-align: right;\">\n",
       "      <th></th>\n",
       "      <th>main_form_work</th>\n",
       "      <th>usual_work</th>\n",
       "    </tr>\n",
       "  </thead>\n",
       "  <tbody>\n",
       "    <tr>\n",
       "      <th>7049</th>\n",
       "      <td>Regular job</td>\n",
       "      <td>Not Employed</td>\n",
       "    </tr>\n",
       "    <tr>\n",
       "      <th>7050</th>\n",
       "      <td>Casual work</td>\n",
       "      <td>Elementary occupations</td>\n",
       "    </tr>\n",
       "    <tr>\n",
       "      <th>7052</th>\n",
       "      <td>I run a business</td>\n",
       "      <td>NaN</td>\n",
       "    </tr>\n",
       "    <tr>\n",
       "      <th>7059</th>\n",
       "      <td>Regular job</td>\n",
       "      <td>Not Employed</td>\n",
       "    </tr>\n",
       "    <tr>\n",
       "      <th>7066</th>\n",
       "      <td>Regular job</td>\n",
       "      <td>Not Employed</td>\n",
       "    </tr>\n",
       "  </tbody>\n",
       "</table>\n",
       "</div>"
      ],
      "text/plain": [
       "        main_form_work              usual_work\n",
       "7049       Regular job            Not Employed\n",
       "7050       Casual work  Elementary occupations\n",
       "7052  I run a business                     NaN\n",
       "7059       Regular job            Not Employed\n",
       "7066       Regular job            Not Employed"
      ]
     },
     "execution_count": 36,
     "metadata": {},
     "output_type": "execute_result"
    }
   ],
   "source": [
    "lbdf.loc[lbdf['main_form_work'].notnull(),['main_form_work','usual_work']].tail()"
   ]
  },
  {
   "cell_type": "markdown",
   "metadata": {},
   "source": [
    "We can use our prior knowledge to deduce that if they answered 'Self-employed' or 'I run a business' for main_form_work that their usual_work can be set as \"Self-Employed\". We can also drop main_form_work as it has now become a less useful and redundant feature."
   ]
  },
  {
   "cell_type": "code",
   "execution_count": 37,
   "metadata": {},
   "outputs": [],
   "source": [
    "lbdf.loc[(lbdf['main_form_work']=='Self-employed')|(lbdf['main_form_work']=='I run a business'),'usual_work']= 'Self-Employed'\n",
    "lbdf.drop('main_form_work', axis=1, inplace=True)"
   ]
  },
  {
   "cell_type": "markdown",
   "metadata": {},
   "source": [
    "For the remaining missing values we will create a new option for usual_work called 'Unknown'."
   ]
  },
  {
   "cell_type": "code",
   "execution_count": 38,
   "metadata": {},
   "outputs": [],
   "source": [
    "lbdf.loc[lbdf['usual_work'].isnull(), 'usual_work'] = 'Unknown'"
   ]
  },
  {
   "cell_type": "markdown",
   "metadata": {},
   "source": [
    "After our data cleaning process, we can see that there is no longer any missing data in this subset of features."
   ]
  },
  {
   "cell_type": "code",
   "execution_count": 39,
   "metadata": {
    "scrolled": true
   },
   "outputs": [
    {
     "name": "stdout",
     "output_type": "stream",
     "text": [
      "Percentage of Data Missing after Data Cleaning\n"
     ]
    },
    {
     "data": {
      "text/plain": [
       "labour_in_feb        0.0\n",
       "work_days_feb        0.0\n",
       "work_hours_feb       0.0\n",
       "take_home_pay_feb    0.0\n",
       "labour_in_apr        0.0\n",
       "work_days_apr        0.0\n",
       "work_hours_apr       0.0\n",
       "take_home_pay_apr    0.0\n",
       "lost_labour          0.0\n",
       "return_to_work       0.0\n",
       "usual_work           0.0\n",
       "dtype: float64"
      ]
     },
     "metadata": {},
     "output_type": "display_data"
    }
   ],
   "source": [
    "print('Percentage of Data Missing after Data Cleaning')\n",
    "display(round((lbdf.isnull().sum()/len(lbdf))*100,2))"
   ]
  },
  {
   "cell_type": "markdown",
   "metadata": {},
   "source": [
    "---\n",
    "### 2.4 Exploratory Data Analysis\n",
    "---"
   ]
  },
  {
   "cell_type": "markdown",
   "metadata": {},
   "source": [
    "To begin the EDA of the Labour features let us first look at how COVID-19 and the mandated lockdown directly effected the labour in the country by comparing what percentage of our sample had work in February to what percentage had work in April:"
   ]
  },
  {
   "cell_type": "code",
   "execution_count": 33,
   "metadata": {
    "scrolled": false
   },
   "outputs": [
    {
     "data": {
      "image/png": "[encoded data removed]",
      "text/plain": [
       "<Figure size 576x576 with 2 Axes>"
      ]
     },
     "metadata": {},
     "output_type": "display_data"
    }
   ],
   "source": [
    "#Create subplots for comparing two figures\n",
    "fig, [ax1,ax2] = plt.subplots(1,2, figsize=(8,8))\n",
    "\n",
    "#Create a pie chart showing the percentage of the sample which had work in February \n",
    "lab_feb = lbdf['labour_in_feb'].value_counts()/len(lbdf)*100\n",
    "ax1.pie(lab_feb, labels= ['No','Yes'], autopct='%1.2f%%',startangle = 90,explode = [0,0.1],shadow = True)\n",
    "ax1.set_title('Labour in February')\n",
    "\n",
    "#Create a pie chart showing the percentage of the sample which had work in April\n",
    "lab_apr = lbdf['labour_in_apr'].value_counts()/len(lbdf)*100\n",
    "ax2.pie(lab_apr, labels= ['No','Yes'], autopct='%1.2f%%',startangle = 90,explode = [0,0.1],shadow = True)\n",
    "ax2.set_title('Labour in April')\n",
    "\n",
    "plt.tight_layout()\n",
    "plt.show()"
   ]
  },
  {
   "cell_type": "markdown",
   "metadata": {},
   "source": [
    "As we can see Labour in the country was **adversely** effected with roughly 20% of our sample losing their opportunity to work between February and April. Of the respondents who did lose their opportunity to work between February and April, let us examine how many of them said that they would be able to return to work in the 4 weeks following their interview."
   ]
  },
  {
   "cell_type": "code",
   "execution_count": 40,
   "metadata": {},
   "outputs": [
    {
     "data": {
      "image/png": "[encoded data removed]",
      "text/plain": [
       "<Figure size 432x432 with 1 Axes>"
      ]
     },
     "metadata": {},
     "output_type": "display_data"
    }
   ],
   "source": [
    "#Select respondents who lost their work between February and April\n",
    "lost_labour = lbdf.loc[lbdf['lost_labour']==1, 'return_to_work']\n",
    "\n",
    "#Calculate what percentage of them have work to return to \n",
    "return_to_job = lost_labour.value_counts()/ len(lost_labour)*100\n",
    "\n",
    "#Plot pie chart\n",
    "return_to_job.plot(kind='pie',labels=['No','Yes'], explode = [0.1,0], figsize= (6,6), autopct='%1.2f%%', startangle = 90 , ylabel=\"\",\n",
    "            shadow = True)\n",
    "plt.title(\"Work to return to in the 4 weeks following interview\")\n",
    "plt.show()"
   ]
  },
  {
   "cell_type": "markdown",
   "metadata": {},
   "source": [
    "Looking at this plot and the previous two plots we can see that not only was their a drastic reduction in the number of respondents who had some sort of labour between February and April, but also of the respondents who lost their opportunity to work a substantial amount said they did not have any work to return to."
   ]
  },
  {
   "cell_type": "markdown",
   "metadata": {},
   "source": [
    "Next let us explore how COVID-19 effected the amount of time people spent working. First we can explore how the number of work days per week was effected. This is done by first selecting the respondents who had work in February and calculating the PMF for the number of days they worked per week. We can repeat this for the respondents who had work in April and then compare the two PMFs. This is done because the two sample sizes are different so just comparing their histograms would lead to inaccurate conclusions. "
   ]
  },
  {
   "cell_type": "code",
   "execution_count": 41,
   "metadata": {
    "scrolled": false
   },
   "outputs": [
    {
     "data": {
      "image/png": "[encoded data removed]",
      "text/plain": [
       "<Figure size 720x432 with 1 Axes>"
      ]
     },
     "metadata": {
      "needs_background": "light"
     },
     "output_type": "display_data"
    }
   ],
   "source": [
    "#Calculate PMF for days worked per week in February \n",
    "work_days_feb = lbdf.loc[lbdf['labour_in_feb']==1,'work_days_feb']\n",
    "work_days_feb = work_days_feb.value_counts().sort_index()/len(work_days_feb)\n",
    "\n",
    "#Calculate PMF for days worked per week in April\n",
    "work_days_apr = lbdf.loc[lbdf['labour_in_apr']==1,'work_days_apr']\n",
    "work_days_apr = work_days_apr.value_counts().sort_index()/len(work_days_apr)\n",
    "\n",
    "#Plot two PMFs on the same axis to compare them \n",
    "plt.figure(figsize=(10,6))\n",
    "plt.bar(x = work_days_feb.index, height = work_days_feb.values, alpha=0.5, label = 'February')\n",
    "plt.bar(x = work_days_apr.index, height = work_days_apr.values, alpha=0.5, label = 'April')\n",
    "plt.legend(loc=2)\n",
    "plt.title('Number of Work Days per Week')\n",
    "plt.xlabel('Number of Work Days')\n",
    "plt.ylabel('PMF')\n",
    "plt.show()"
   ]
  },
  {
   "cell_type": "markdown",
   "metadata": {},
   "source": [
    "As we can see from the plot above, there was defiitely a decrease in the number of days people were working per week. Next let us explore how the number of hours people were working per day was effected. This is done using a similar procedure to the one implemented to analyze the number of work days per week."
   ]
  },
  {
   "cell_type": "code",
   "execution_count": 43,
   "metadata": {
    "scrolled": false
   },
   "outputs": [
    {
     "data": {
      "image/png": "[encoded data removed]",
      "text/plain": [
       "<Figure size 1080x360 with 1 Axes>"
      ]
     },
     "metadata": {
      "needs_background": "light"
     },
     "output_type": "display_data"
    }
   ],
   "source": [
    "#Calculate PMF for hours worked per day in February \n",
    "work_hours_feb = lbdf.loc[lbdf['labour_in_feb']==1,'work_hours_feb']\n",
    "work_hours_feb = work_hours_feb.value_counts().sort_index()/len(work_hours_feb)\n",
    "\n",
    "#Calculate PMF for hours worked per day in April\n",
    "work_hours_apr = lbdf.loc[lbdf['labour_in_apr']==1,'work_hours_apr']\n",
    "work_hours_apr = work_hours_apr.value_counts().sort_index()/len(work_hours_apr)\n",
    "\n",
    "#Plot two PMFs on the same axis to compare them\n",
    "plt.figure(figsize=(15,5))\n",
    "plt.bar(x = work_hours_feb.index, height = work_hours_feb.values, alpha=0.5, label = 'February')\n",
    "plt.bar(x = work_hours_apr.index, height = work_hours_apr.values, alpha=0.5, label = 'April')\n",
    "plt.legend(loc=2)\n",
    "plt.title('Number of Hours per Work Day')\n",
    "plt.xlabel('Number of Work Hours')\n",
    "plt.ylabel('PMF')\n",
    "plt.show()"
   ]
  },
  {
   "cell_type": "markdown",
   "metadata": {},
   "source": [
    "We can see that the number of hours people spent working each day also decreased overall but their were some instances (8 and 12 hours) which indicate that people who were working in April ended up working for longer hours. This could be a result of working from home as the lines between time allocated to work and time allocated for individuals' private lives became blurred. "
   ]
  },
  {
   "cell_type": "markdown",
   "metadata": {},
   "source": [
    "The next aspect we can explore is how COVID19 effected the income of respondents. We can look at the distribution of pay for respondents who had work in February and the distribution of pay for respondents who had work in April."
   ]
  },
  {
   "cell_type": "code",
   "execution_count": 44,
   "metadata": {},
   "outputs": [
    {
     "data": {
      "image/png": "[encoded data removed]",
      "text/plain": [
       "<Figure size 720x432 with 1 Axes>"
      ]
     },
     "metadata": {
      "needs_background": "light"
     },
     "output_type": "display_data"
    }
   ],
   "source": [
    "pay_in_feb = lbdf.loc[lbdf['labour_in_feb']==1,'take_home_pay_feb']\n",
    "pay_in_apr = lbdf.loc[lbdf['labour_in_apr']==1,'take_home_pay_apr']\n",
    "\n",
    "#Due to the presence of several outliers, the original distirbution is heavily skewed \n",
    "#By taking a subset of our data which lies within 1.5 * Interquartile Range of the Median we are able \n",
    "#To create a better visual representation of the take home pay distribution \n",
    "pay_in_feb = pay_in_feb[pay_in_feb<pay_in_feb.quantile(0.75)]\n",
    "pay_in_apr = pay_in_feb[pay_in_feb<pay_in_feb.quantile(0.75)]\n",
    "\n",
    "#Now the creation of a dataframe allows us to use Seaborns boxplot functionality \n",
    "feb_df = pd.DataFrame()\n",
    "feb_df['Pay'] = pay_in_feb\n",
    "feb_df['Month'] = 'Feb'\n",
    "apr_df = pd.DataFrame()\n",
    "apr_df['Pay'] = pay_in_apr\n",
    "apr_df['Month'] = 'Apr'\n",
    "pay_df = pd.concat([feb_df,apr_df])\n",
    "\n",
    "#Creating the Plot\n",
    "plt.figure(figsize=(10,6))\n",
    "sns.boxplot(y = 'Month', x = 'Pay', data = pay_df)\n",
    "plt.title('Distribution of Take Home Pay')\n",
    "plt.show()"
   ]
  },
  {
   "cell_type": "markdown",
   "metadata": {},
   "source": [
    "We can see that the distribution for take home pay in February has a higher median and greater variance than the distribution of take home pay in April, the outliers that were identified when creating this plot will need to be dealt with at a later stage, prior to constructing a model using this feature. Lastly let us explore the usual work done by respondents in our sample."
   ]
  },
  {
   "cell_type": "code",
   "execution_count": 45,
   "metadata": {},
   "outputs": [
    {
     "data": {
      "image/png": "[encoded data removed]",
      "text/plain": [
       "<Figure size 720x432 with 1 Axes>"
      ]
     },
     "metadata": {
      "needs_background": "light"
     },
     "output_type": "display_data"
    }
   ],
   "source": [
    "#We only want to look at respondents who were employed and who answered the question of what work do they usually do\n",
    "answered_usual_work = lbdf[(lbdf['usual_work']!='Not Employed')&(lbdf['usual_work']!='Unknown')]\n",
    "\n",
    "#Histogram of Usual Work letting us examine the distribution\n",
    "usual_work = answered_usual_work['usual_work'].value_counts().sort_values(ascending=False)\n",
    "\n",
    "#Plotting the Histogram \n",
    "plt.figure(figsize=(10,6))\n",
    "sns.barplot(y = usual_work.index, x = usual_work.values)\n",
    "plt.xlabel('Count')\n",
    "plt.title(\"Usual Work\")\n",
    "plt.show()"
   ]
  },
  {
   "cell_type": "markdown",
   "metadata": {},
   "source": [
    "From this we can deduce that, of the respondents in our sample who work and who answered this question, majority of them work in Elementary Occupations, are self-employed or work in Services and Sales."
   ]
  },
  {
   "cell_type": "markdown",
   "metadata": {},
   "source": [
    "---\n",
    "## <span style='color:blue' > Section 3 - Welfare </span>\n",
    "---\n",
    "The Covid-19 pandemic has had a negative impact on the South African economy. Consequently, many people had lost their jobs during the initial stages of the pandemic as seen in the Labour section. This section aims to determine the extent to which the South African government intervened in the economy to aid and assist those who had lost their jobs and livelihoods.\n",
    "\n",
    "Included in this section is a data description of the variables explored, an explanation of the initialization of a subset of the dataset, an explanation of the data cleaning and data wrangling methodology, as well as an exploratory analysis of the variables concerned. This exploratory analysis will investigate the relevant social welfare variables in the dataset (ie: all variables concerning household income and social grants) "
   ]
  },
  {
   "cell_type": "markdown",
   "metadata": {},
   "source": [
    "---\n",
    "### 3.1 Data Description\n",
    "---\n",
    "\n",
    "During the month of April 2020, participants in the survey were asked many questions regarding the impact that the Covid-19 pandemic had had on their lives. The variables that are analysed in this section correspond to the questions in the survey that relate to social welfare. \n",
    "\n",
    "**Employment in April**\n",
    "*  **job_in_apr** : Did you have any kind of job in April?\n",
    "* **work_in_apr** : Did you work for profit/pay even just for an hour or a small amount in April?\n",
    "\n",
    "**UIF and Other Grants in April**\n",
    "* **uif_in_apr** : Did you receive the UIF reduced work time benefit in April?\n",
    "* **grant_from_gov_ques** : Did you receive any kind of grant from the government in April?\n",
    "* **grant_from_gov** : If you did receive a grant from the government in April, what kind of grant did you receive? \n",
    "<br><br>\n",
    "\n",
    "**Household Income in April** \n",
    "* **src_income_before_apr** : What was your household's main source of income before lockdown started on 27 March 2020?\n",
    "* **lost_income_in_apr** : Has your household lost its main source of income since the lockdown started on 27 March 2020?\n",
    "* **total_income_in_apr** : What was your household's total income after tax in April?\n",
    "<br><br>"
   ]
  },
  {
   "cell_type": "markdown",
   "metadata": {},
   "source": [
    "---\n",
    "### 3.2 Data Ingestion\n",
    "---\n",
    "In this subsection, a subset of the raw dataframe is generated. This subset stores all of the relevant variables concerning social welfare in the raw dataframe. In addition, all of the variables in this subset have been appropriately renamed. For example, the variable named **w1_nc_hhinc** corresponding to the survery question, \"What was your household's total income after tax in April?\" in the raw dataframe was renamed to **total_income_in_apr**. Now, one can easily determine the meaning of the variable and the type of data it stores from first glance, instead of having to compare it with the key available on www.datafirst.uct.ac.za. \n",
    "\n",
    "Another measure implemented during this data ingestion phase was the appending of columns. In the raw dataframe the variables corresponding to the questions \"Did you receive any kind of grant from the government in April?\" and \"What was your household's main source of income before lockdown started on 27 March 2020?\" were split into 3 columns. The reason for this was not made clear. For improved readability and efficiency those columns were appended using the **append(pd.Series, ignore_index=True)** function to make them into one column. This appendage did not affect the data.   "
   ]
  },
  {
   "cell_type": "code",
   "execution_count": 39,
   "metadata": {},
   "outputs": [],
   "source": [
    "swdf = pd.DataFrame()\n",
    "\n",
    "# Employment in April Data\n",
    "swdf['job_in_apr'] = raw_data['w1_nc_em_apr']\n",
    "swdf['work_in_apr'] = raw_data['w1_nc_emany_apr']\n",
    "\n",
    "# Household Income in April - Here 3 columns are appended\n",
    "income1 = raw_data['w1_nc_hhincsrc1']\n",
    "income2 = raw_data['w1_nc_hhincsrc2']\n",
    "income3 = raw_data['w1_nc_hhincsrc3']\n",
    "income = income1.append(income2, ignore_index=True).append(income3, ignore_index=True)\n",
    "\n",
    "swdf['src_income_before_apr'] = income\n",
    "swdf['lost_income_in_apr'] = raw_data['w1_nc_hhincchng']\n",
    "swdf['total_income_in_apr'] = raw_data['w1_nc_hhinc']\n",
    "\n",
    "# UIF and Other Grants in April - Here 3 columns are appended\n",
    "swdf['uif_in_apr'] = raw_data['w1_nc_uneminc_uif']\n",
    "swdf['grant_from_gov_ques'] = raw_data['w1_nc_incgov']\n",
    "\n",
    "grant1 = raw_data['w1_nc_incgovtyp1'] \n",
    "grant2 = raw_data['w1_nc_incgovtyp2']\n",
    "grant3 = raw_data['w1_nc_incgovtyp3']\n",
    "grant = grant1.append(grant2, ignore_index=True).append(grant3, ignore_index=True)\n",
    "\n",
    "swdf['grant_from_gov'] = grant\n"
   ]
  },
  {
   "cell_type": "markdown",
   "metadata": {},
   "source": [
    "This is what the social welfare dataframe, appropriately named swdf, looks like:"
   ]
  },
  {
   "cell_type": "code",
   "execution_count": 40,
   "metadata": {
    "scrolled": true
   },
   "outputs": [
    {
     "data": {
      "text/html": [
       "<div>\n",
       "<style scoped>\n",
       "    .dataframe tbody tr th:only-of-type {\n",
       "        vertical-align: middle;\n",
       "    }\n",
       "\n",
       "    .dataframe tbody tr th {\n",
       "        vertical-align: top;\n",
       "    }\n",
       "\n",
       "    .dataframe thead th {\n",
       "        text-align: right;\n",
       "    }\n",
       "</style>\n",
       "<table border=\"1\" class=\"dataframe\">\n",
       "  <thead>\n",
       "    <tr style=\"text-align: right;\">\n",
       "      <th></th>\n",
       "      <th>job_in_apr</th>\n",
       "      <th>work_in_apr</th>\n",
       "      <th>src_income_before_apr</th>\n",
       "      <th>lost_income_in_apr</th>\n",
       "      <th>total_income_in_apr</th>\n",
       "      <th>uif_in_apr</th>\n",
       "      <th>grant_from_gov_ques</th>\n",
       "      <th>grant_from_gov</th>\n",
       "    </tr>\n",
       "  </thead>\n",
       "  <tbody>\n",
       "    <tr>\n",
       "      <th>0</th>\n",
       "      <td>No</td>\n",
       "      <td>No</td>\n",
       "      <td>Income from a business</td>\n",
       "      <td>No</td>\n",
       "      <td>NaN</td>\n",
       "      <td>No</td>\n",
       "      <td>Yes</td>\n",
       "      <td>Disability Grant</td>\n",
       "    </tr>\n",
       "    <tr>\n",
       "      <th>1</th>\n",
       "      <td>NaN</td>\n",
       "      <td>NaN</td>\n",
       "      <td>Government grants</td>\n",
       "      <td>No</td>\n",
       "      <td>3500.0</td>\n",
       "      <td>NaN</td>\n",
       "      <td>Yes</td>\n",
       "      <td>Old Age Pension Grant (OAP)</td>\n",
       "    </tr>\n",
       "    <tr>\n",
       "      <th>2</th>\n",
       "      <td>No</td>\n",
       "      <td>No</td>\n",
       "      <td>Government grants</td>\n",
       "      <td>Yes</td>\n",
       "      <td>1500.0</td>\n",
       "      <td>No</td>\n",
       "      <td>Yes</td>\n",
       "      <td>Child Support Grant (CSG)</td>\n",
       "    </tr>\n",
       "    <tr>\n",
       "      <th>3</th>\n",
       "      <td>No</td>\n",
       "      <td>No</td>\n",
       "      <td>Government grants</td>\n",
       "      <td>Yes</td>\n",
       "      <td>4200.0</td>\n",
       "      <td>NaN</td>\n",
       "      <td>Yes</td>\n",
       "      <td>Child Support Grant (CSG)</td>\n",
       "    </tr>\n",
       "    <tr>\n",
       "      <th>4</th>\n",
       "      <td>No</td>\n",
       "      <td>No</td>\n",
       "      <td>Government grants</td>\n",
       "      <td>No</td>\n",
       "      <td>NaN</td>\n",
       "      <td>No</td>\n",
       "      <td>No</td>\n",
       "      <td>NaN</td>\n",
       "    </tr>\n",
       "  </tbody>\n",
       "</table>\n",
       "</div>"
      ],
      "text/plain": [
       "  job_in_apr work_in_apr   src_income_before_apr lost_income_in_apr  \\\n",
       "0         No          No  Income from a business                 No   \n",
       "1        NaN         NaN       Government grants                 No   \n",
       "2         No          No       Government grants                Yes   \n",
       "3         No          No       Government grants                Yes   \n",
       "4         No          No       Government grants                 No   \n",
       "\n",
       "  total_income_in_apr uif_in_apr grant_from_gov_ques  \\\n",
       "0                 NaN         No                 Yes   \n",
       "1              3500.0        NaN                 Yes   \n",
       "2              1500.0         No                 Yes   \n",
       "3              4200.0        NaN                 Yes   \n",
       "4                 NaN         No                  No   \n",
       "\n",
       "                grant_from_gov  \n",
       "0             Disability Grant  \n",
       "1  Old Age Pension Grant (OAP)  \n",
       "2    Child Support Grant (CSG)  \n",
       "3    Child Support Grant (CSG)  \n",
       "4                          NaN  "
      ]
     },
     "metadata": {},
     "output_type": "display_data"
    },
    {
     "name": "stdout",
     "output_type": "stream",
     "text": [
      "\n",
      "\n",
      "<class 'pandas.core.frame.DataFrame'>\n",
      "RangeIndex: 7073 entries, 0 to 7072\n",
      "Data columns (total 8 columns):\n",
      " #   Column                 Non-Null Count  Dtype \n",
      "---  ------                 --------------  ----- \n",
      " 0   job_in_apr             6329 non-null   object\n",
      " 1   work_in_apr            4833 non-null   object\n",
      " 2   src_income_before_apr  6952 non-null   object\n",
      " 3   lost_income_in_apr     6905 non-null   object\n",
      " 4   total_income_in_apr    4408 non-null   object\n",
      " 5   uif_in_apr             1908 non-null   object\n",
      " 6   grant_from_gov_ques    7037 non-null   object\n",
      " 7   grant_from_gov         1511 non-null   object\n",
      "dtypes: object(8)\n",
      "memory usage: 442.2+ KB\n"
     ]
    },
    {
     "data": {
      "text/plain": [
       "None"
      ]
     },
     "metadata": {},
     "output_type": "display_data"
    }
   ],
   "source": [
    "display(swdf.head())\n",
    "print(\"\\n\")\n",
    "display(swdf.info())"
   ]
  },
  {
   "cell_type": "markdown",
   "metadata": {},
   "source": [
    "---\n",
    "### 3.3 Data Wrangling and Data Cleaning\n",
    "---\n",
    "\n",
    "In this section, the process of cleaning and wrangling the swdf dataframe of all noise is explained. Firstly, the columns of this dataframe are set to the \"category\" data type, because they all store categorical data. The **total_income_in_apr** was also set to the \"category\" data type for reasons that will be explained in 3.3.2. \n",
    "\n",
    "The cleaning process is similar for all subsequent subsections. First, the **value_counts()** method is ran on a specific column in the swdf dataframe. This method returns the count of all of the unique values in that column. The unique values that are returned are analysed and compared with the kind of values one would expect for that column. If there were any discrepancies between the values that were returned and the kind of values expected, then those values are dealt with in the most appropriate manner. For example, a lot of the columns had meaningless values, such as \"Refused\" or \"Don't know\" for the question that was asked. Those meaningless values were converted to NaN using the **replace_errors()** function. Then, where it was applicable, the rows with NaN values were dropped from the dataframe using the **notna()** function. Where not applicable, those values were **imputed** in the most suitable manner. An example of this can be found in section 3.3.2 and 3.3.3 and will be explained in that section. \n",
    "\n",
    "Once the cleaning and wrangling operations have been completed the number of rows $\\geq$ 50 $*$ (number of columns). Therefore, useful inferences can still be made about the data, despite having so many rows dropped because of NaN values."
   ]
  },
  {
   "cell_type": "code",
   "execution_count": 41,
   "metadata": {},
   "outputs": [
    {
     "name": "stdout",
     "output_type": "stream",
     "text": [
      "<class 'pandas.core.frame.DataFrame'>\n",
      "RangeIndex: 7073 entries, 0 to 7072\n",
      "Data columns (total 8 columns):\n",
      " #   Column                 Non-Null Count  Dtype   \n",
      "---  ------                 --------------  -----   \n",
      " 0   job_in_apr             6329 non-null   category\n",
      " 1   work_in_apr            4833 non-null   category\n",
      " 2   src_income_before_apr  6952 non-null   category\n",
      " 3   lost_income_in_apr     6905 non-null   category\n",
      " 4   total_income_in_apr    4408 non-null   category\n",
      " 5   uif_in_apr             1908 non-null   category\n",
      " 6   grant_from_gov_ques    7037 non-null   category\n",
      " 7   grant_from_gov         1511 non-null   category\n",
      "dtypes: category(8)\n",
      "memory usage: 83.2 KB\n"
     ]
    }
   ],
   "source": [
    "swdf['job_in_apr'] = swdf['job_in_apr'].astype('category') \n",
    "swdf['work_in_apr'] = swdf['work_in_apr'].astype('category') \n",
    "swdf['src_income_before_apr'] = swdf['src_income_before_apr'].astype('category') \n",
    "swdf['lost_income_in_apr'] = swdf['lost_income_in_apr'].astype('category') \n",
    "swdf['total_income_in_apr'] = swdf['total_income_in_apr'].astype('category') \n",
    "swdf['uif_in_apr'] = swdf['uif_in_apr'].astype('category') \n",
    "swdf['grant_from_gov_ques'] = swdf['grant_from_gov_ques'].astype('category') \n",
    "swdf['grant_from_gov'] = swdf['grant_from_gov'].astype('category') \n",
    "swdf.info()"
   ]
  },
  {
   "cell_type": "markdown",
   "metadata": {},
   "source": [
    "---\n",
    "#### **Wrangling and Cleaning of Employment Data**\n",
    "---\n",
    "\n",
    "Let's take a look at the unique values of the **job_in_apr** and **work_in_apr** columns."
   ]
  },
  {
   "cell_type": "code",
   "execution_count": 42,
   "metadata": {},
   "outputs": [
    {
     "name": "stdout",
     "output_type": "stream",
     "text": [
      "Did you have any kind of job in April?\n"
     ]
    },
    {
     "data": {
      "text/plain": [
       "No     4857\n",
       "Yes    1472\n",
       "Name: job_in_apr, dtype: int64"
      ]
     },
     "metadata": {},
     "output_type": "display_data"
    },
    {
     "name": "stdout",
     "output_type": "stream",
     "text": [
      "Number of missing values in the 'job_in_apr' column:  744 \n",
      "\n",
      "Did you work for profit/pay even just for an hour or a small amount in April?\n"
     ]
    },
    {
     "data": {
      "text/plain": [
       "No     4648\n",
       "Yes     185\n",
       "Name: work_in_apr, dtype: int64"
      ]
     },
     "metadata": {},
     "output_type": "display_data"
    },
    {
     "name": "stdout",
     "output_type": "stream",
     "text": [
      "Number of missing values in the 'work_in_apr' column:  2240 \n",
      "\n"
     ]
    }
   ],
   "source": [
    "# Job in April\n",
    "print('Did you have any kind of job in April?')\n",
    "display(swdf['job_in_apr'].value_counts())\n",
    "print(\"Number of missing values in the 'job_in_apr' column: \", swdf['job_in_apr'].isnull().sum(), \"\\n\")\n",
    "\n",
    "# Work in April \n",
    "print('Did you work for profit/pay even just for an hour or a small amount in April?')\n",
    "display(swdf['work_in_apr'].value_counts())\n",
    "print(\"Number of missing values in the 'work_in_apr' column: \", swdf['work_in_apr'].isnull().sum(), \"\\n\")"
   ]
  },
  {
   "cell_type": "markdown",
   "metadata": {},
   "source": [
    "Both these columns should only store either a \"Yes\" or a \"No\" value. Therefore, the incorrect values will be cleaned using the process described in 3.2. **job_in_apr** is only missing 9% of its data, whereas **work_in_apr** is missing 30% of its data. \n",
    "Unfortunately, all of the rows with missing values need to be dropped. Due to this data being categorical, one cannot simply impute values for the missing data without making drastic changes in the data. "
   ]
  },
  {
   "cell_type": "code",
   "execution_count": 43,
   "metadata": {},
   "outputs": [
    {
     "name": "stdout",
     "output_type": "stream",
     "text": [
      "Did you have any kind of job in April?\n"
     ]
    },
    {
     "data": {
      "text/plain": [
       "No     4857\n",
       "Yes    1472\n",
       "Name: job_in_apr, dtype: int64"
      ]
     },
     "metadata": {},
     "output_type": "display_data"
    },
    {
     "name": "stdout",
     "output_type": "stream",
     "text": [
      "Did you work for profit/pay even just for an hour or a small amount in April?\n"
     ]
    },
    {
     "data": {
      "text/plain": [
       "No     4642\n",
       "Yes     185\n",
       "Name: work_in_apr, dtype: int64"
      ]
     },
     "metadata": {},
     "output_type": "display_data"
    }
   ],
   "source": [
    "# Job in April\n",
    "swdf = swdf[swdf['job_in_apr'].notna()]\n",
    "print(\"Did you have any kind of job in April?\")\n",
    "display(swdf['job_in_apr'].value_counts())\n",
    "\n",
    "# Work in April\n",
    "swdf = swdf[swdf['work_in_apr'].notna()]\n",
    "print(\"Did you work for profit/pay even just for an hour or a small amount in April?\")\n",
    "display(swdf['work_in_apr'].value_counts())"
   ]
  },
  {
   "cell_type": "markdown",
   "metadata": {},
   "source": [
    "---\n",
    "#### **Wrangling and Cleaning of Household Income Data**\n",
    "---\n",
    "\n",
    "Let's take a look at the unique values of the **src_income_before_apr**, **lost_income_in_apr** and **total_income_in_apr** columns."
   ]
  },
  {
   "cell_type": "code",
   "execution_count": 44,
   "metadata": {},
   "outputs": [
    {
     "name": "stdout",
     "output_type": "stream",
     "text": [
      "What was your household's main source of income before lockdown started on 27 March 2020?\n"
     ]
    },
    {
     "data": {
      "text/plain": [
       "Government grants                      1958\n",
       "Income from employment                 1605\n",
       "Household had no income in February     401\n",
       "Money from friends or family            400\n",
       "Income from a business                  314\n",
       "Other (specify)                          76\n",
       "Name: src_income_before_apr, dtype: int64"
      ]
     },
     "metadata": {},
     "output_type": "display_data"
    },
    {
     "name": "stdout",
     "output_type": "stream",
     "text": [
      "Number of missing values in the 'src_income_before_apr' column:  73 \n",
      "\n",
      "\n",
      "Has your household lost its main source of income since the lockdown started on 27 March 2020?\n"
     ]
    },
    {
     "data": {
      "text/plain": [
       "No     2566\n",
       "Yes    2149\n",
       "Name: lost_income_in_apr, dtype: int64"
      ]
     },
     "metadata": {},
     "output_type": "display_data"
    },
    {
     "name": "stdout",
     "output_type": "stream",
     "text": [
      "Number of missing values in the 'lost_income_in_apr' column:  112 \n",
      "\n",
      "\n",
      "What was your household's total income after tax in April?\n"
     ]
    },
    {
     "data": {
      "text/plain": [
       "0.0        369\n",
       "2000.0     155\n",
       "3000.0     136\n",
       "4000.0     117\n",
       "1500.0      98\n",
       "          ... \n",
       "2128.0       0\n",
       "5550.0       0\n",
       "55000.0      0\n",
       "3001.0       0\n",
       "2130.0       0\n",
       "Name: total_income_in_apr, Length: 458, dtype: int64"
      ]
     },
     "metadata": {},
     "output_type": "display_data"
    },
    {
     "name": "stdout",
     "output_type": "stream",
     "text": [
      "Number of missing values in the 'total_income_in_apr' column:  1869 \n",
      "\n",
      "\n"
     ]
    }
   ],
   "source": [
    "# Main source of before in April\n",
    "print(\"What was your household's main source of income before lockdown started on 27 March 2020?\")\n",
    "display(swdf['src_income_before_apr'].value_counts())\n",
    "print(\"Number of missing values in the 'src_income_before_apr' column: \", swdf['src_income_before_apr'].isnull().sum(), \"\\n\")\n",
    "print(\"\")\n",
    "\n",
    "# Lost main source of income after April\n",
    "print(\"Has your household lost its main source of income since the lockdown started on 27 March 2020?\")\n",
    "display(swdf['lost_income_in_apr'].value_counts())\n",
    "print(\"Number of missing values in the 'lost_income_in_apr' column: \", swdf['lost_income_in_apr'].isnull().sum(), \"\\n\")\n",
    "print(\"\")\n",
    "\n",
    "# Household income tax after April\n",
    "print(\"What was your household's total income after tax in April?\")\n",
    "display(swdf['total_income_in_apr'].value_counts())\n",
    "print(\"Number of missing values in the 'total_income_in_apr' column: \", swdf['total_income_in_apr'].isnull().sum(), \"\\n\")\n",
    "print(\"\")"
   ]
  },
  {
   "cell_type": "markdown",
   "metadata": {},
   "source": [
    "The \"Don't know\" and \"Refused\" values in the **src_income_before_apr** and the **lost_income_in_apr** will be removed from these columns using the process described in 3.2, since they make up less than 3% of the data in both columns. In the case of **src_income_before_apr** the \"Other (specify)\" value is still relevant, because a participant could've had another main source of income that was not an option on the survey sheet. Therefore, it will not be removed. In addition, both columns have two missing values between the two of them which can be dropped without significantly affecting the data. \n",
    "\n",
    "In the case of the **total_income_in_apr**, the \"Don't know\" and \"Refused\" values cannot be removed, because they make up the bulk of the data. Furthermore, the **total_income_in_apr** stores numerical data. Therefore, \"Don't know\" and \"Refused\" can't be values within this column, since they are both categorical values. **Mean imputation** is implemented to solve this issue. The \"Don't Know\" and refused values are both set to the mean value of the series. The mean was calculated with those two values excluded  "
   ]
  },
  {
   "cell_type": "code",
   "execution_count": 46,
   "metadata": {},
   "outputs": [
    {
     "name": "stdout",
     "output_type": "stream",
     "text": [
      "What was your household's main source of income before lockdown started on 27 March 2020?\n"
     ]
    },
    {
     "data": {
      "text/plain": [
       "Government grants                      1912\n",
       "Income from employment                 1578\n",
       "Household had no income in February     388\n",
       "Money from friends or family            387\n",
       "Income from a business                  308\n",
       "Other (specify)                          75\n",
       "Name: src_income_before_apr, dtype: int64"
      ]
     },
     "metadata": {},
     "output_type": "display_data"
    },
    {
     "name": "stdout",
     "output_type": "stream",
     "text": [
      "Has your household lost its main source of income since the lockdown started on 27 March 2020?\n"
     ]
    },
    {
     "data": {
      "text/plain": [
       "No     2524\n",
       "Yes    2124\n",
       "Name: lost_income_in_apr, dtype: int64"
      ]
     },
     "metadata": {},
     "output_type": "display_data"
    },
    {
     "data": {
      "text/plain": [
       "3532.0    1742\n",
       "0.0        361\n",
       "2000.0     152\n",
       "3000.0     134\n",
       "4000.0     113\n",
       "          ... \n",
       "1250.0       1\n",
       "920.0        1\n",
       "8050.0       1\n",
       "3750.0       1\n",
       "2150.0       1\n",
       "Name: total_income_in_apr, Length: 329, dtype: int64"
      ]
     },
     "metadata": {},
     "output_type": "display_data"
    }
   ],
   "source": [
    "# Source of income before April \n",
    "swdf = swdf[swdf['src_income_before_apr'].notna()]\n",
    "print(\"What was your household's main source of income before lockdown started on 27 March 2020?\")\n",
    "display(swdf['src_income_before_apr'].value_counts())\n",
    "\n",
    "# Lost main source of income after April\n",
    "swdf = swdf[swdf['lost_income_in_apr'].notna()]\n",
    "print(\"Has your household lost its main source of income since the lockdown started on 27 March 2020?\")\n",
    "display(swdf['lost_income_in_apr'].value_counts())\n",
    "\n",
    "# Household income tax after April\n",
    "swdf_income = swdf['total_income_in_apr']\n",
    "swdf['total_income_in_apr'] = swdf['total_income_in_apr'].astype('float64') \n",
    "\n",
    "mean = round(swdf_income.mean(),0)\n",
    "\n",
    "swdf['total_income_in_apr'].fillna(value=mean, inplace=True)\n",
    "display(swdf['total_income_in_apr'].value_counts())\n",
    "swdf = swdf[swdf['total_income_in_apr'].notna()]"
   ]
  },
  {
   "cell_type": "markdown",
   "metadata": {},
   "source": [
    "---\n",
    "#### **Wrangling and Cleaning of Grant Data**\n",
    "---\n",
    "\n",
    "Let's take a look at the unique values of the **src_income_before_apr**, **lost_income_in_apr** and **total_income_in_apr** columns. "
   ]
  },
  {
   "cell_type": "code",
   "execution_count": null,
   "metadata": {},
   "outputs": [],
   "source": [
    "print(\"Did you receive the UIF reduced work time benefit in April?\")\n",
    "display(swdf['uif_in_apr'].value_counts())\n",
    "print(\"Number of missing values in 'uif_in_apr': \", swdf['uif_in_apr'].isnull().sum(), '\\n')\n",
    "\n",
    "print(\"Did you receive any kind of grant from the government in April?\")\n",
    "display(swdf['grant_from_gov_ques'].value_counts())\n",
    "print(\"Number of missing values in 'grant_from_gov_ques': \", swdf['grant_from_gov_ques'].isnull().sum(), '\\n')\n",
    "\n",
    "print(\"If you did receive a grant from the government in April, what kind of grant did you receive?\")\n",
    "display(swdf['grant_from_gov'].value_counts())\n",
    "print(\"Number of missing values in 'grant_from_gov': \", swdf['grant_from_gov'].isna().sum(), '\\n')\n",
    "print(\"\") "
   ]
  },
  {
   "cell_type": "markdown",
   "metadata": {},
   "source": [
    "An interesting observation is that the **grant_from_gov_ques** has no missing values. We can use this column to **impute** missing values in the **uif_in_apr** column. In this case we are assuming that if someone responded \"No\" to receiving any kind of grant from the government, then this implies that they did not receive the reduced work time benefit in April. For the **grant_from_gov_ques** we again remove the \"Refused\" and \"Don't know\" values. \n",
    "\n",
    "Also note that **'grant_from_gov'** missing 3681 values is correct. In the **grant_from_gov_ques** only 966 participants responded with \"Yes\". For the participant to be able to stipulate what kind of grant they received from the government they had to have had first received a grant from the government. The 3681 missing values are of participants who did not receive a grant from the government. Only the updated columns are represented in the following cell. "
   ]
  },
  {
   "cell_type": "code",
   "execution_count": null,
   "metadata": {
    "scrolled": true
   },
   "outputs": [],
   "source": [
    "# Fill missing values for uif_in_apr and remove incorrect values\n",
    "swdf.uif_in_apr.fillna(swdf.grant_from_gov_ques, inplace=True)\n",
    "swdf = swdf[swdf['uif_in_apr'].notna()]\n",
    "print(\"Did you receive the UIF reduced work time benefit in April?\")\n",
    "display(swdf['uif_in_apr'].value_counts())\n",
    "\n",
    "# Remove unwanted results in grant_from_gov_ques\n",
    "swdf = swdf[swdf['grant_from_gov_ques'].notna()]\n",
    "grant_from_gov_ques = swdf['grant_from_gov_ques'] \n",
    "print(\"Did you receive any kind of grant from the government in April?\")\n",
    "display(swdf['grant_from_gov_ques'].value_counts())\n",
    "\n",
    "# Types of grants\n",
    "swdf = swdf[swdf['grant_from_gov'].notna()]\n",
    "print(\"If you did receive a grant from the government in April, what kind of grant did you receive?\")\n",
    "display(swdf['grant_from_gov'].value_counts())"
   ]
  },
  {
   "cell_type": "markdown",
   "metadata": {},
   "source": [
    "---\n",
    "### 3.4 Exploratory Data Analysis\n",
    "---"
   ]
  },
  {
   "cell_type": "markdown",
   "metadata": {},
   "source": [
    "This section contains an investigation of the now cleaned and wrangled swdf dataframe. The exploration and analysis will look at 2 main components: grants received from the government and household income during April 2020. "
   ]
  },
  {
   "cell_type": "markdown",
   "metadata": {},
   "source": [
    "---\n",
    "#### **Exploration and Analysis of UIF and Other Grants in April**\n",
    "---"
   ]
  },
  {
   "cell_type": "markdown",
   "metadata": {},
   "source": [
    "Due to the mandated lockdown of 27 March 2020 many people were not able to go to work. To assist those that had now found themselves unemployed, the South African government stated that it would make available a UIF reduced work-time benefit in April 2020. The following three cells investigate the number of unemployed participants that actually received this benefit from the government during this time. "
   ]
  },
  {
   "cell_type": "markdown",
   "metadata": {},
   "source": [
    "In order to have been eligible to have received the UIF reduced work time benefit in April 2020 one must have either had their working hours reduced or have had lost their job during this time. The upcoming cell initializes an **unemployed_swdf** dataframe that only stores the data of participants that were unemployed during April 2020 (ie: the values in the **job_in_apr** and **work_in_apr** are both \"No\" for this subset of participants). "
   ]
  },
  {
   "cell_type": "code",
   "execution_count": null,
   "metadata": {},
   "outputs": [],
   "source": [
    "unemployed_swdf = swdf.loc[(swdf['job_in_apr']=='No') & (swdf['work_in_apr']=='No')]"
   ]
  },
  {
   "cell_type": "code",
   "execution_count": null,
   "metadata": {},
   "outputs": [],
   "source": [
    "unemployed_swdf = unemployed_swdf['uif_in_apr'].value_counts()/len(unemployed_swdf['uif_in_apr'])\n",
    "plt.figure(figsize=(10,6))\n",
    "unemployed_swdf.plot(kind='bar');\n",
    "plt.title(\"Did You Receive A UIF Reduced Work-Time Benefit in April?\");\n",
    "plt.xlabel(\"Response\"); plt.ylabel(\"Proportion\")"
   ]
  },
  {
   "cell_type": "markdown",
   "metadata": {},
   "source": [
    "It is fair to assume that most (if not all) unemployed participants in the sample would have not only been eligible to receive this benefit from the government during this time. It is also fair to assume that they would have applied for this benefit. However, less than 20% of unemployed participants received this benefit. "
   ]
  },
  {
   "cell_type": "markdown",
   "metadata": {},
   "source": [
    "The following three cells investigate the other kinds of grants participants received from government during the inital stages of the Covid-19 pandemic. "
   ]
  },
  {
   "cell_type": "code",
   "execution_count": null,
   "metadata": {},
   "outputs": [],
   "source": [
    "grant_from_gov_ques = grant_from_gov_ques.value_counts()/len(grant_from_gov_ques)\n",
    "plt.figure(figsize=(10,6))\n",
    "grant_from_gov_ques.plot(kind='bar');\n",
    "plt.title(\"Did you receive any kind of grant from the government in April?\");\n",
    "plt.xlabel(\"Response\"); plt.ylabel(\"Proportion\")"
   ]
  },
  {
   "cell_type": "markdown",
   "metadata": {},
   "source": [
    "Only about 20% of the sample space actually receieved any kind of grant from the government during April 2020. What kind of grants were these? And what kind of person was most likely to receive a grant from the government at this time?"
   ]
  },
  {
   "cell_type": "code",
   "execution_count": null,
   "metadata": {},
   "outputs": [],
   "source": [
    "grant_from_gov = swdf['grant_from_gov'].value_counts()/len(swdf['grant_from_gov'])\n",
    "plt.figure(figsize=(10,6))\n",
    "sns.barplot(y = grant_from_gov.index, x = grant_from_gov.values)\n",
    "plt.xlabel('Proportion')\n",
    "plt.title(\"If you did receive a grant from the government in April, what kind of grant did you receive?\")\n",
    "plt.show()"
   ]
  },
  {
   "cell_type": "markdown",
   "metadata": {},
   "source": [
    "Over 40% of the sample received the Child Support Grant (CSG), and the second most receieved grant was the Old Age Pension Grant (OAP). A quick observation that could be made from this is that senior citizens and those with children were more likely to receive a grant from the government during this time. "
   ]
  },
  {
   "cell_type": "markdown",
   "metadata": {},
   "source": [
    "---\n",
    "#### **Exploration and Analysis of Household Income in April**\n",
    "---"
   ]
  },
  {
   "cell_type": "markdown",
   "metadata": {},
   "source": [
    "Here we explore the different ways that participants earn an income"
   ]
  },
  {
   "cell_type": "code",
   "execution_count": null,
   "metadata": {
    "scrolled": false
   },
   "outputs": [],
   "source": [
    "src_income_before_apr = swdf['src_income_before_apr'].value_counts()/len(swdf['src_income_before_apr'])\n",
    "plt.figure(figsize=(10,6))\n",
    "sns.barplot(y = src_income_before_apr.index, x = src_income_before_apr.values)\n",
    "plt.xlabel('Proportion')\n",
    "plt.title(\"What was your household's main source of income before lockdown started on 27 March 2020?\")\n",
    "plt.show()"
   ]
  },
  {
   "cell_type": "markdown",
   "metadata": {},
   "source": [
    "An interesting observation is that over 60% of the participants stated that their main source of income came from government grants, yet only 20% of them actually received a grant from the government."
   ]
  },
  {
   "cell_type": "code",
   "execution_count": null,
   "metadata": {},
   "outputs": [],
   "source": [
    "lost_income_in_apr = swdf['lost_income_in_apr'].value_counts()/len(swdf['lost_income_in_apr'])\n",
    "plt.figure(figsize=(10,6))\n",
    "lost_income_in_apr.plot(kind='bar');\n",
    "plt.title(\"Has your household lost its main source of income since the lockdown started on 27 March 2020?\");\n",
    "plt.xlabel(\"Response\"); plt.ylabel(\"Proportion\")"
   ]
  },
  {
   "cell_type": "markdown",
   "metadata": {},
   "source": [
    "Only about 40% of people had their income decreased. "
   ]
  }
 ],
 "metadata": {
  "hide_input": false,
  "kernelspec": {
   "display_name": "Python 3",
   "language": "python",
   "name": "python3"
  },
  "language_info": {
   "codemirror_mode": {
    "name": "ipython",
    "version": 3
   },
   "file_extension": ".py",
   "mimetype": "text/x-python",
   "name": "python",
   "nbconvert_exporter": "python",
   "pygments_lexer": "ipython3",
   "version": "3.8.5"
  },
  "toc": {
   "base_numbering": 1,
   "nav_menu": {},
   "number_sections": false,
   "sideBar": true,
   "skip_h1_title": true,
   "title_cell": "Table of Contents",
   "title_sidebar": "Contents",
   "toc_cell": true,
   "toc_position": {
    "height": "calc(100% - 180px)",
    "left": "10px",
    "top": "150px",
    "width": "358.333px"
   },
   "toc_section_display": true,
   "toc_window_display": true
  },
  "widgets": {
   "application/vnd.jupyter.widget-state+json": {
    "state": {},
    "version_major": 1,
    "version_minor": 0
   }
  }
 },
 "nbformat": 4,
 "nbformat_minor": 4
}
