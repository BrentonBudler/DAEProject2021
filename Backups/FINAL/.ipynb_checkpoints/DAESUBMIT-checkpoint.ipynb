{
 "cells": [
  {
   "cell_type": "markdown",
   "metadata": {},
   "source": [
    "<!-- <h2>Title</h2> -->\n",
    "\n",
    "---\n",
    "<h1> \n",
    "    National Income Dynamics Study-Coronavirus Rapid Mobile Survey (NIDS-CRAM)<br>\n",
    "    Wave 1: February - April 2020<br><br>\n",
    "    The Effect of COVID-19 on the Labour and Welfare of South Africans\n",
    "</h1>\n",
    "\n",
    "--- \n",
    "\n",
    "\n",
    "<h2>Group Members</h2>\n",
    "Dino Anastasopoulos: 1900661 - Contributed towards the Demographics section. <br>\n",
    "Brenton Budler: 1827655 - Contributed towards the Labour section. <br>\n",
    "Philani Mpofu: 1848751 - Contributed towards the Welfare section. <br>\n",
    "\n",
    "--- \n",
    "\n",
    "All group members contributed equally to all sections not described above. In addition, Dino Anastasopoulos compiled and formatted this jupyter notebook.\n"
   ]
  },
  {
   "cell_type": "markdown",
   "metadata": {
    "toc": true
   },
   "source": [
    "<h1>Table of Contents<span class=\"tocSkip\"></span></h1>\n",
    "<div class=\"toc\"><ul class=\"toc-item\"><li><span><a href=\"#Group-Members\" data-toc-modified-id=\"Group-Members-1\">Group Members</a></span></li><li><span><a href=\"#-Executive-Summary-\" data-toc-modified-id=\"-Executive-Summary--2\"><span style=\"color: blue\"> Executive Summary </span></a></span><ul class=\"toc-item\"><li><span><a href=\"#What-is-the-purpose-of-this-notebook?\" data-toc-modified-id=\"What-is-the-purpose-of-this-notebook?-2.1\">What is the purpose of this notebook?</a></span></li><li><span><a href=\"#What-is-being-modelled?\" data-toc-modified-id=\"What-is-being-modelled?-2.2\">What is being modelled?</a></span></li><li><span><a href=\"#What-are-the-main-results\" data-toc-modified-id=\"What-are-the-main-results-2.3\">What are the main results</a></span></li><li><span><a href=\"#Limitations\" data-toc-modified-id=\"Limitations-2.4\">Limitations</a></span></li></ul></li><li><span><a href=\"#-Introduction-\" data-toc-modified-id=\"-Introduction--3\"><span style=\"color: blue\"> Introduction </span></a></span><ul class=\"toc-item\"><li><span><a href=\"#Problem-Context-and-Motivation\" data-toc-modified-id=\"Problem-Context-and-Motivation-3.1\">Problem Context and Motivation</a></span></li><li><span><a href=\"#Describe-Questions\" data-toc-modified-id=\"Describe-Questions-3.2\">Describe Questions</a></span></li><li><span><a href=\"#Overview-of-Methodology\" data-toc-modified-id=\"Overview-of-Methodology-3.3\">Overview of Methodology</a></span></li><li><span><a href=\"#Section-Contents-Overview\" data-toc-modified-id=\"Section-Contents-Overview-3.4\">Section Contents Overview</a></span></li></ul></li><li><span><a href=\"#-Data-Description-\" data-toc-modified-id=\"-Data-Description--4\"><span style=\"color: blue\"> Data Description </span></a></span><ul class=\"toc-item\"><li><span><a href=\"#Origin\" data-toc-modified-id=\"Origin-4.1\">Origin</a></span></li><li><span><a href=\"#Contents-(Who,-What,-Where)\" data-toc-modified-id=\"Contents-(Who,-What,-Where)-4.2\">Contents (Who, What, Where)</a></span></li><li><span><a href=\"#Date-Collected-(When)\" data-toc-modified-id=\"Date-Collected-(When)-4.3\">Date Collected (When)</a></span></li><li><span><a href=\"#Collection-Method-(How)\" data-toc-modified-id=\"Collection-Method-(How)-4.4\">Collection Method (How)</a></span></li><li><span><a href=\"#Dataset-Size-(Rows-and-Columns)\" data-toc-modified-id=\"Dataset-Size-(Rows-and-Columns)-4.5\">Dataset Size (Rows and Columns)</a></span></li><li><span><a href=\"#Date-Downloaded\" data-toc-modified-id=\"Date-Downloaded-4.6\">Date Downloaded</a></span></li><li><span><a href=\"#Validations\" data-toc-modified-id=\"Validations-4.7\">Validations</a></span></li><li><span><a href=\"#Aspects-of-Data-Quality\" data-toc-modified-id=\"Aspects-of-Data-Quality-4.8\">Aspects of Data Quality</a></span></li><li><span><a href=\"#Ability-to-Answer-Question\" data-toc-modified-id=\"Ability-to-Answer-Question-4.9\">Ability to Answer Question</a></span></li></ul></li><li><span><a href=\"#-Data-Wrangling-&amp;-Exploratory-Analyses-\" data-toc-modified-id=\"-Data-Wrangling-&amp;-Exploratory-Analyses--5\"><span style=\"color: blue\"> Data Wrangling &amp; Exploratory Analyses </span></a></span><ul class=\"toc-item\"><li><span><a href=\"#Imports\" data-toc-modified-id=\"Imports-5.1\">Imports</a></span></li><li><span><a href=\"#Global-Functions\" data-toc-modified-id=\"Global-Functions-5.2\">Global Functions</a></span></li><li><span><a href=\"#Read-in-data\" data-toc-modified-id=\"Read-in-data-5.3\">Read in data</a></span></li></ul></li><li><span><a href=\"#-Section-1---Demographics-\" data-toc-modified-id=\"-Section-1---Demographics--6\"><span style=\"color: blue\"> Section 1 - Demographics </span></a></span><ul class=\"toc-item\"><li><span><a href=\"#1.1-Data-Description\" data-toc-modified-id=\"1.1-Data-Description-6.1\">1.1 Data Description</a></span></li><li><span><a href=\"#1.2-Data-Ingestion-and-Cleaning\" data-toc-modified-id=\"1.2-Data-Ingestion-and-Cleaning-6.2\">1.2 Data Ingestion and Cleaning</a></span></li><li><span><a href=\"#1.3-Exploratory-Data-Analysis\" data-toc-modified-id=\"1.3-Exploratory-Data-Analysis-6.3\">1.3 Exploratory Data Analysis</a></span><ul class=\"toc-item\"><li><span><a href=\"#1.3.1-Personal-Information\" data-toc-modified-id=\"1.3.1-Personal-Information-6.3.1\"><strong>1.3.1 Personal Information</strong></a></span><ul class=\"toc-item\"><li><span><a href=\"#Age\" data-toc-modified-id=\"Age-6.3.1.1\"><strong>Age</strong></a></span></li><li><span><a href=\"#Gender\" data-toc-modified-id=\"Gender-6.3.1.2\"><strong>Gender</strong></a></span></li><li><span><a href=\"#Race\" data-toc-modified-id=\"Race-6.3.1.3\"><strong>Race</strong></a></span></li></ul></li><li><span><a href=\"#1.3.2-Educational-Information\" data-toc-modified-id=\"1.3.2-Educational-Information-6.3.2\"><strong>1.3.2 Educational Information</strong></a></span><ul class=\"toc-item\"><li><span><a href=\"#Highest-Education-Level\" data-toc-modified-id=\"Highest-Education-Level-6.3.2.1\"><strong>Highest Education Level</strong></a></span></li><li><span><a href=\"#Tertiary-Education\" data-toc-modified-id=\"Tertiary-Education-6.3.2.2\"><strong>Tertiary Education</strong></a></span></li></ul></li><li><span><a href=\"#1.3.3-Geographical-Information\" data-toc-modified-id=\"1.3.3-Geographical-Information-6.3.3\"><strong>1.3.3 Geographical Information</strong></a></span><ul class=\"toc-item\"><li><span><a href=\"#Province\" data-toc-modified-id=\"Province-6.3.3.1\"><strong>Province</strong></a></span></li><li><span><a href=\"#Change-in-geographical-distribution-of-provincial-populations-before-vs-during-lockdown\" data-toc-modified-id=\"Change-in-geographical-distribution-of-provincial-populations-before-vs-during-lockdown-6.3.3.2\"><strong>Change in geographical distribution of provincial populations before vs during lockdown</strong></a></span></li></ul></li></ul></li></ul></li><li><span><a href=\"#-Section-2---Labour-\" data-toc-modified-id=\"-Section-2---Labour--7\"><span style=\"color: blue\"> Section 2 - Labour </span></a></span><ul class=\"toc-item\"><li><span><a href=\"#2.1-Data-Description\" data-toc-modified-id=\"2.1-Data-Description-7.1\">2.1 Data Description</a></span></li><li><span><a href=\"#2.2-Data-Ingestion\" data-toc-modified-id=\"2.2-Data-Ingestion-7.2\">2.2 Data Ingestion</a></span></li><li><span><a href=\"#2.3-Data-Wrangling-and-Cleaning\" data-toc-modified-id=\"2.3-Data-Wrangling-and-Cleaning-7.3\">2.3 Data Wrangling and Cleaning</a></span><ul class=\"toc-item\"><li><span><a href=\"#Feature-Generation\" data-toc-modified-id=\"Feature-Generation-7.3.1\"><strong>Feature Generation</strong></a></span></li></ul></li><li><span><a href=\"#2.4-Exploratory-Data-Analysis\" data-toc-modified-id=\"2.4-Exploratory-Data-Analysis-7.4\">2.4 Exploratory Data Analysis</a></span></li></ul></li><li><span><a href=\"#-Section-3---Welfare-\" data-toc-modified-id=\"-Section-3---Welfare--8\"><span style=\"color: blue\"> Section 3 - Welfare </span></a></span><ul class=\"toc-item\"><li><span><a href=\"#3.1-Data-Description\" data-toc-modified-id=\"3.1-Data-Description-8.1\">3.1 Data Description</a></span></li><li><span><a href=\"#3.2-Data-Ingestion\" data-toc-modified-id=\"3.2-Data-Ingestion-8.2\">3.2 Data Ingestion</a></span></li><li><span><a href=\"#3.3-Data-Wrangling-and-Data-Cleaning\" data-toc-modified-id=\"3.3-Data-Wrangling-and-Data-Cleaning-8.3\">3.3 Data Wrangling and Data Cleaning</a></span><ul class=\"toc-item\"><li><span><a href=\"#Wrangling-and-Cleaning-of-Employment-Data\" data-toc-modified-id=\"Wrangling-and-Cleaning-of-Employment-Data-8.3.1\"><strong>Wrangling and Cleaning of Employment Data</strong></a></span></li><li><span><a href=\"#Wrangling-and-Cleaning-of-Household-Income-Data\" data-toc-modified-id=\"Wrangling-and-Cleaning-of-Household-Income-Data-8.3.2\"><strong>Wrangling and Cleaning of Household Income Data</strong></a></span></li><li><span><a href=\"#Wrangling-and-Cleaning-of-Grant-Data\" data-toc-modified-id=\"Wrangling-and-Cleaning-of-Grant-Data-8.3.3\"><strong>Wrangling and Cleaning of Grant Data</strong></a></span></li></ul></li><li><span><a href=\"#3.4-Exploratory-Data-Analysis\" data-toc-modified-id=\"3.4-Exploratory-Data-Analysis-8.4\">3.4 Exploratory Data Analysis</a></span><ul class=\"toc-item\"><li><span><a href=\"#Exploration-and-Analysis-of-UIF-and-Other-Grants-in-April\" data-toc-modified-id=\"Exploration-and-Analysis-of-UIF-and-Other-Grants-in-April-8.4.1\"><strong>Exploration and Analysis of UIF and Other Grants in April</strong></a></span></li><li><span><a href=\"#Exploration-and-Analysis-of-Household-Income-in-April\" data-toc-modified-id=\"Exploration-and-Analysis-of-Household-Income-in-April-8.4.2\"><strong>Exploration and Analysis of Household Income in April</strong></a></span></li></ul></li></ul></li><li><span><a href=\"#Welfare-Model\" data-toc-modified-id=\"Welfare-Model-9\">Welfare Model</a></span></li><li><span><a href=\"#Welfare-Hypothesis-Testing\" data-toc-modified-id=\"Welfare-Hypothesis-Testing-10\">Welfare Hypothesis Testing</a></span></li><li><span><a href=\"#Conclusion\" data-toc-modified-id=\"Conclusion-11\">Conclusion</a></span></li></ul></div>"
   ]
  },
  {
   "cell_type": "markdown",
   "metadata": {},
   "source": [
    "---\n",
    "## <span style='color:blue' > Executive Summary </span>\n",
    "---"
   ]
  },
  {
   "cell_type": "markdown",
   "metadata": {},
   "source": [
    "### What is the purpose of this notebook?\n",
    "To perform a few of the steps of the data science process, such as data wrangling, data cleaning and exploratory data analysis, on the NIDS-CRAM Wave 1 dataset."
   ]
  },
  {
   "cell_type": "markdown",
   "metadata": {},
   "source": [
    "### What is being modelled?\n",
    "The degree to which the initial stages of the COVID-19 pandemic (and subsequent lockdown) impacted the labour and welfare of South African citizens from February 2020 to the end of April 2020. "
   ]
  },
  {
   "cell_type": "markdown",
   "metadata": {},
   "source": [
    "### What are the main results\n",
    "We discovered that not only was there a significant drop in employment from February to April 2020, but there was also a significant drop in the number of respondents who were able to find part-time work or to do business during this time. A substantial amount of the respondents who lost their opportunity to work also said that they had no work to return to in the weeks following the lockdown.\n",
    "\n",
    "<br>\n",
    "We also discovered that the South African government was ineffective in providing aid and assistance to those who had lost their jobs and livelihoods during this time."
   ]
  },
  {
   "cell_type": "markdown",
   "metadata": {},
   "source": [
    "### Limitations\n",
    "\n",
    "The chosen dataset has the following limitations:\n",
    "\n",
    "1) **The dataset has many missing values**. Initially, the dataset contains 7073 values, but there are many missing values that are not explained. These values now need to be inferred or imputed in some way. \n",
    "\n",
    "2) **The variable naming conventions in the dataset are not intuitive**. The columns in the dataset have names like w1_nc_hhincdec_o and w1_nc_hhincchng. It is very difficult to gain insight on the data that is stored in these variables. Therefore, columns such as these need to be renamed using a convention that is easier to read.\n",
    "\n",
    "3) **The dataset is not a representative sample on a provincial level**. As stated on www.datafirst.uct.ac.za, the dataset was designed to only represent South Africa on a national level. Therefore, no useful conclusions can be drawn from a regional or a provincial perspective.\n"
   ]
  },
  {
   "cell_type": "markdown",
   "metadata": {},
   "source": [
    "---\n",
    "## <span style='color:blue' > Introduction </span>\n",
    "---"
   ]
  },
  {
   "cell_type": "markdown",
   "metadata": {},
   "source": [
    "### Problem Context and Motivation\n",
    "The COVID-19 pandemic took their entire world by storm, as it is now arguably the largest economic and social crisis we will experience in our lifetime. The spreading of the virus around the world devastated economies and had a massive impact on everyone’s lives. In this report, we aim to analyze this impact further, particularly the impact that the COVID-19 pandemic and subsequent mandated lockdown had on the labour and welfare of South Africans. We believe that this analysis will provide useful insights into which individuals were most heavily affected by the pandemic; allowing policymakers to re-evaluate the decisions that were made and plan for the future. "
   ]
  },
  {
   "cell_type": "markdown",
   "metadata": {},
   "source": [
    "### Describe Questions\n",
    "The first question we will be looking at is, \"Which respondents were most likely to lose their opportunity to work due to the impact of COVID-19?\" \n",
    "<br>To answer this question, we will analyze features from both the demographics and labour sections of the survey. \n",
    "<br><br>\n",
    "The second question we focus on is, \"Which respondents were most likely to receive some sort of assistance or grants from the government in the initial stages of the pandemic?\" \n",
    "<br>To answer this question we will incorporate features from the demographics, labour and welfare sections of the survey. "
   ]
  },
  {
   "cell_type": "markdown",
   "metadata": {},
   "source": [
    "### Overview of Methodology\n",
    "For each of the three sections under consideration (Demographics, Labour and Welfare) we first select a subset of features from the original dataset which pertain to that section. We then clean this subset of features before moving on to an exploratory analysis of each feature in the subset. "
   ]
  },
  {
   "cell_type": "markdown",
   "metadata": {},
   "source": [
    "### Section Contents Overview\n",
    "We begin by looking at the demographics of the respondents in our sample, we then explore the labour features from the sample and finally we investigate the welfare features of the sample."
   ]
  },
  {
   "cell_type": "markdown",
   "metadata": {},
   "source": [
    "---\n",
    "## <span style='color:blue' > Data Description </span>\n",
    "---"
   ]
  },
  {
   "cell_type": "markdown",
   "metadata": {},
   "source": [
    "### Origin\n",
    "The NIDS-CRAM is a telephonic survery which covered the topics of employment, hunger, migration, grant-receipt, demographics and COVID-19 risk perception and behaviour.\n",
    "\n",
    "When planning our approach to the project, we knew we wanted to focus on the effect COVID-19 on the labour and welfare of South Africa. We initially performed a cross-sectional study (only focusing on data from the first wave), and then performed a longitudinal study (focusing on data from all three waves). Ultimately we decided on a cross-sectional study of the first wave only, since several inferences can be drawn wih regards to the impact of the initial lockdown period.\n",
    "\n",
    "The \"waves\" referenced in the notebook and in the study indicate different phases at which the survey was conducted and do not coincide with the waves of COVID-19 that South Africa experienced in 2020."
   ]
  },
  {
   "cell_type": "markdown",
   "metadata": {},
   "source": [
    "### Contents (Who, What, Where)\n",
    "A national consortium of 30 social science researchers from five South African universities conducted the NIDS-CRAM in four waves over the course of May – December 2020. Waves 1-3 of the survey were funded by Allan and Gill Gray Philanthropy and waves 4-6 by the FEM Education Foundation, and the Michael and Susan Dell Foundation.\n",
    "The survey interviewed a representative sub-sample of ~7,000 respondents from NIDS 2017.\n",
    "Among many other topics, the 20-minute survey asked respondents about their current and retrospective employment, household hunger, receipt of grants, COVID-19 risk perceptions, knowledge and behaviour, among many other questions. "
   ]
  },
  {
   "cell_type": "markdown",
   "metadata": {},
   "source": [
    "### Date Collected (When)\n",
    "The first wave of NIDS-CRAM ran from the 7th of May to the 27th of June."
   ]
  },
  {
   "cell_type": "markdown",
   "metadata": {},
   "source": [
    "### Collection Method (How)\n",
    "The data was collected using 50 call-centre agents to survey the respondents."
   ]
  },
  {
   "cell_type": "markdown",
   "metadata": {},
   "source": [
    "### Dataset Size (Rows and Columns)\n",
    "The dataset consists of 7073 records (rows) and 170 variables (columns)"
   ]
  },
  {
   "cell_type": "markdown",
   "metadata": {},
   "source": [
    "### Date Downloaded\n",
    "This data was downloaded from (https://www.datafirst.uct.ac.za/dataportal/index.php/catalog/817) on the 5th of March 2021. \n",
    "<br>\n",
    "The data for waves 1-3 are currently available on DataFirst, which is an online microdata library dedicated to giving open access to data from South Africa and other African countries."
   ]
  },
  {
   "cell_type": "markdown",
   "metadata": {},
   "source": [
    "### Validations\n",
    "For the demographics below, we will compare the sample to the findings from the 2019 mid-year population estimates in order to validate/critique the representation accuracy of the demographics distribution of the sample in our dataset.\n",
    "<br>\n",
    "This data can be found at (https://www.statssa.gov.za/publications/P0302/P03022019.pdf)"
   ]
  },
  {
   "cell_type": "markdown",
   "metadata": {},
   "source": [
    "### Aspects of Data Quality\n",
    "- **Validity:** The data conforms to the Principles of Tidy Data as outlined by Wickam (https://vita.had.co.nz/papers/tidy-data.pdf) in 2014 as each feature is a column, each observation is a row and each entry is a cell, resulting in it being in the standard format. \n",
    "<br><br>\n",
    "\n",
    "- **Accuracy:** The researchers compiled a technical report that assesses the overall quality of the data collected in the first wave of the NIDS-CRAM survey (https://www.datafirst.uct.ac.za/dataportal/index.php/catalog/817). In this technical report the researchers compare the data they collected for NIDS-CRAM Wave 1 with the data they collected in previous years for the NIDS as well as with the data collected from the General Household Survey of 2018 and Stat’s SA to analyze differences in the data. They conclude that while there are statistically significant differences in the distributions of observable characteristics, most of these differences are of little practical significance or can be explained by differences in sampling or survey design and that taken as a whole the NIDS-CRAM survey data is valid. \n",
    "<br><br>\n",
    "\n",
    "- **Completeness:** According to the data description provided by NIDS-CRAM on the DataFirst website, there were 7073 respondents in the study, and since the dataset that we use contains 7073 rows, without any duplicates, we can conclude that the data is not missing any records. However, individual rows have missing data for numerous features which need to be dealt with accordingly. \n",
    "<br><br>\n",
    "\n",
    "- **Consistency and uniformity** are investigated further in the exploratory data analysis of each section."
   ]
  },
  {
   "cell_type": "markdown",
   "metadata": {},
   "source": [
    "### Ability to Answer Question\n",
    "Looking at the number of features the NIDS-CRAM survey has for each of the respective sections we are planning to investigate (Demographics, Labour, Welfare), there should be sufficient information to answers these questions for the sample. However, the questions we are planning on answering pertain to the population of South Africa, not just the sample, so to determine our ability to answer the questions proposed we need to evaluate to what extent the sample is representative of the population and if there are any sampling biases. This is done in Section 1 (Demographics) below. "
   ]
  },
  {
   "cell_type": "markdown",
   "metadata": {},
   "source": [
    "---\n",
    "## <span style='color:blue' > Data Wrangling & Exploratory Analyses </span>\n",
    "---"
   ]
  },
  {
   "cell_type": "markdown",
   "metadata": {},
   "source": [
    "---\n",
    "### Imports\n",
    "---"
   ]
  },
  {
   "cell_type": "code",
   "execution_count": 209,
   "metadata": {},
   "outputs": [],
   "source": [
    "import numpy as np \n",
    "import pandas as pd \n",
    "import matplotlib.pyplot as plt \n",
    "import seaborn as sns \n",
    "import matplotlib.cm as cm\n",
    "from matplotlib.colors import Normalize\n",
    "import statsmodels.api as sm\n",
    "import statsmodels.formula.api as smf\n",
    "import scipy.stats as ss \n",
    "from sklearn.model_selection import train_test_split\n",
    "import warnings\n",
    "warnings.filterwarnings('ignore')"
   ]
  },
  {
   "cell_type": "markdown",
   "metadata": {},
   "source": [
    "---\n",
    "### Global Functions \n",
    "---"
   ]
  },
  {
   "cell_type": "markdown",
   "metadata": {},
   "source": [
    "Is it important to note that the original dataset contains some sentinel values such as \"Missing\" which will have to be replaced with NaN to be treated correctly in the cleaning process. Similarly, in cases where a respondent refused to answer or answered \"Don't know\" these entries will also have to be replaced with NaN values as this data is missing. The function **replace_errors** below is a generalized function which will allow us to replace these erroneous entries with missing values."
   ]
  },
  {
   "cell_type": "code",
   "execution_count": 70,
   "metadata": {},
   "outputs": [],
   "source": [
    "def replace_errors(df):\n",
    "\n",
    "    junk_terms = [\"Don't know\", \n",
    "                  \"Refused\", \n",
    "                  \"Missing\", \n",
    "                  \"Don't Know\", \n",
    "                  \"Donât know\",\n",
    "                  \"Other (Specify)\",\n",
    "                  \"I was on leave\",\n",
    "                  \"Other\"]\n",
    "\n",
    "    df.replace(junk_terms, np.NaN, inplace=True)\n",
    "    \n",
    "    return df"
   ]
  },
  {
   "cell_type": "markdown",
   "metadata": {},
   "source": [
    "---\n",
    "### Read in data\n",
    "---"
   ]
  },
  {
   "cell_type": "markdown",
   "metadata": {},
   "source": [
    "Most of the colums were read in besides 'w1_nc_duration', 'w1_nc_cvsypt8' and 'w1_nc_hlnocon3', since these columns contain errors, and we do not need them for our analysis"
   ]
  },
  {
   "cell_type": "code",
   "execution_count": 71,
   "metadata": {},
   "outputs": [
    {
     "data": {
      "text/html": [
       "<div>\n",
       "<style scoped>\n",
       "    .dataframe tbody tr th:only-of-type {\n",
       "        vertical-align: middle;\n",
       "    }\n",
       "\n",
       "    .dataframe tbody tr th {\n",
       "        vertical-align: top;\n",
       "    }\n",
       "\n",
       "    .dataframe thead th {\n",
       "        text-align: right;\n",
       "    }\n",
       "</style>\n",
       "<table border=\"1\" class=\"dataframe\">\n",
       "  <thead>\n",
       "    <tr style=\"text-align: right;\">\n",
       "      <th></th>\n",
       "      <th>pid</th>\n",
       "      <th>w1_nc_outcome</th>\n",
       "      <th>w1_nc_intrv_c</th>\n",
       "      <th>w1_nc_intrv_d</th>\n",
       "      <th>w1_nc_intrv_m</th>\n",
       "      <th>w1_nc_intrv_y</th>\n",
       "      <th>w1_nc_dob_m</th>\n",
       "      <th>w1_nc_dob_y</th>\n",
       "      <th>w1_nc_gen</th>\n",
       "      <th>w1_nc_popgrp</th>\n",
       "      <th>...</th>\n",
       "      <th>w1_nc_intlng2</th>\n",
       "      <th>w1_nc_intlng3</th>\n",
       "      <th>w1_nc_intlng4</th>\n",
       "      <th>w1_nc_intlng5</th>\n",
       "      <th>w1_nc_intlng6</th>\n",
       "      <th>w1_nc_intlng7</th>\n",
       "      <th>w1_nc_intlng8</th>\n",
       "      <th>w1_nc_intlng9</th>\n",
       "      <th>w1_nc_intlng10</th>\n",
       "      <th>w1_nc_intlng11</th>\n",
       "    </tr>\n",
       "  </thead>\n",
       "  <tbody>\n",
       "    <tr>\n",
       "      <th>0</th>\n",
       "      <td>301013</td>\n",
       "      <td>Successfully Interviewed</td>\n",
       "      <td>610</td>\n",
       "      <td>15th</td>\n",
       "      <td>June</td>\n",
       "      <td>2020</td>\n",
       "      <td>June</td>\n",
       "      <td>1981.0</td>\n",
       "      <td>Man</td>\n",
       "      <td>White</td>\n",
       "      <td>...</td>\n",
       "      <td>NaN</td>\n",
       "      <td>NaN</td>\n",
       "      <td>NaN</td>\n",
       "      <td>NaN</td>\n",
       "      <td>NaN</td>\n",
       "      <td>NaN</td>\n",
       "      <td>NaN</td>\n",
       "      <td>NaN</td>\n",
       "      <td>NaN</td>\n",
       "      <td>NaN</td>\n",
       "    </tr>\n",
       "    <tr>\n",
       "      <th>1</th>\n",
       "      <td>301058</td>\n",
       "      <td>Successfully Interviewed</td>\n",
       "      <td>611</td>\n",
       "      <td>25th</td>\n",
       "      <td>June</td>\n",
       "      <td>2020</td>\n",
       "      <td>January</td>\n",
       "      <td>1948.0</td>\n",
       "      <td>Woman</td>\n",
       "      <td>Asian/Indian</td>\n",
       "      <td>...</td>\n",
       "      <td>NaN</td>\n",
       "      <td>NaN</td>\n",
       "      <td>NaN</td>\n",
       "      <td>NaN</td>\n",
       "      <td>NaN</td>\n",
       "      <td>NaN</td>\n",
       "      <td>NaN</td>\n",
       "      <td>NaN</td>\n",
       "      <td>NaN</td>\n",
       "      <td>NaN</td>\n",
       "    </tr>\n",
       "    <tr>\n",
       "      <th>2</th>\n",
       "      <td>301059</td>\n",
       "      <td>Successfully Interviewed</td>\n",
       "      <td>604</td>\n",
       "      <td>20th</td>\n",
       "      <td>June</td>\n",
       "      <td>2020</td>\n",
       "      <td>July</td>\n",
       "      <td>1990.0</td>\n",
       "      <td>Woman</td>\n",
       "      <td>African/Black</td>\n",
       "      <td>...</td>\n",
       "      <td>NaN</td>\n",
       "      <td>NaN</td>\n",
       "      <td>NaN</td>\n",
       "      <td>NaN</td>\n",
       "      <td>NaN</td>\n",
       "      <td>NaN</td>\n",
       "      <td>NaN</td>\n",
       "      <td>NaN</td>\n",
       "      <td>NaN</td>\n",
       "      <td>NaN</td>\n",
       "    </tr>\n",
       "    <tr>\n",
       "      <th>3</th>\n",
       "      <td>301062</td>\n",
       "      <td>Successfully Interviewed</td>\n",
       "      <td>640</td>\n",
       "      <td>25th</td>\n",
       "      <td>June</td>\n",
       "      <td>2020</td>\n",
       "      <td>June</td>\n",
       "      <td>1972.0</td>\n",
       "      <td>Woman</td>\n",
       "      <td>African/Black</td>\n",
       "      <td>...</td>\n",
       "      <td>English</td>\n",
       "      <td>NaN</td>\n",
       "      <td>NaN</td>\n",
       "      <td>NaN</td>\n",
       "      <td>NaN</td>\n",
       "      <td>NaN</td>\n",
       "      <td>NaN</td>\n",
       "      <td>NaN</td>\n",
       "      <td>NaN</td>\n",
       "      <td>NaN</td>\n",
       "    </tr>\n",
       "    <tr>\n",
       "      <th>4</th>\n",
       "      <td>301067</td>\n",
       "      <td>Successfully Interviewed</td>\n",
       "      <td>609</td>\n",
       "      <td>15th</td>\n",
       "      <td>May</td>\n",
       "      <td>2020</td>\n",
       "      <td>July</td>\n",
       "      <td>1971.0</td>\n",
       "      <td>Woman</td>\n",
       "      <td>African/Black</td>\n",
       "      <td>...</td>\n",
       "      <td>NaN</td>\n",
       "      <td>NaN</td>\n",
       "      <td>NaN</td>\n",
       "      <td>NaN</td>\n",
       "      <td>NaN</td>\n",
       "      <td>NaN</td>\n",
       "      <td>NaN</td>\n",
       "      <td>NaN</td>\n",
       "      <td>NaN</td>\n",
       "      <td>NaN</td>\n",
       "    </tr>\n",
       "  </tbody>\n",
       "</table>\n",
       "<p>5 rows × 167 columns</p>\n",
       "</div>"
      ],
      "text/plain": [
       "      pid             w1_nc_outcome  w1_nc_intrv_c w1_nc_intrv_d  \\\n",
       "0  301013  Successfully Interviewed            610          15th   \n",
       "1  301058  Successfully Interviewed            611          25th   \n",
       "2  301059  Successfully Interviewed            604          20th   \n",
       "3  301062  Successfully Interviewed            640          25th   \n",
       "4  301067  Successfully Interviewed            609          15th   \n",
       "\n",
       "  w1_nc_intrv_m  w1_nc_intrv_y w1_nc_dob_m w1_nc_dob_y w1_nc_gen  \\\n",
       "0          June           2020        June      1981.0       Man   \n",
       "1          June           2020     January      1948.0     Woman   \n",
       "2          June           2020        July      1990.0     Woman   \n",
       "3          June           2020        June      1972.0     Woman   \n",
       "4           May           2020        July      1971.0     Woman   \n",
       "\n",
       "    w1_nc_popgrp  ... w1_nc_intlng2 w1_nc_intlng3 w1_nc_intlng4 w1_nc_intlng5  \\\n",
       "0          White  ...           NaN           NaN           NaN           NaN   \n",
       "1   Asian/Indian  ...           NaN           NaN           NaN           NaN   \n",
       "2  African/Black  ...           NaN           NaN           NaN           NaN   \n",
       "3  African/Black  ...       English           NaN           NaN           NaN   \n",
       "4  African/Black  ...           NaN           NaN           NaN           NaN   \n",
       "\n",
       "  w1_nc_intlng6 w1_nc_intlng7 w1_nc_intlng8 w1_nc_intlng9 w1_nc_intlng10  \\\n",
       "0           NaN           NaN           NaN           NaN            NaN   \n",
       "1           NaN           NaN           NaN           NaN            NaN   \n",
       "2           NaN           NaN           NaN           NaN            NaN   \n",
       "3           NaN           NaN           NaN           NaN            NaN   \n",
       "4           NaN           NaN           NaN           NaN            NaN   \n",
       "\n",
       "  w1_nc_intlng11  \n",
       "0            NaN  \n",
       "1            NaN  \n",
       "2            NaN  \n",
       "3            NaN  \n",
       "4            NaN  \n",
       "\n",
       "[5 rows x 167 columns]"
      ]
     },
     "metadata": {},
     "output_type": "display_data"
    }
   ],
   "source": [
    "#Create a list of all columns in dataframe\n",
    "cols = list(pd.read_csv(\"Wave1.csv\", nrows =1))\n",
    "\n",
    "#Select all columns besides w1_nc_duration, w1_nc_cvsypt8 and w1_nc_hlnocon3\n",
    "raw_data = pd.read_csv('Wave1.csv', usecols =[i for i in cols if (i != 'w1_nc_duration' and i != 'w1_nc_cvsypt8' and i != 'w1_nc_hlnocon3')] )\n",
    "\n",
    "\n",
    "display(raw_data.head()) \n",
    "\n",
    "\n",
    "#Replace all sentinel values\n",
    "raw_data = raw_data.apply(replace_errors)"
   ]
  },
  {
   "cell_type": "markdown",
   "metadata": {},
   "source": [
    "---\n",
    "## <span style='color:blue' > Section 1 - Demographics </span>\n",
    "---"
   ]
  },
  {
   "cell_type": "markdown",
   "metadata": {},
   "source": [
    "---\n",
    "### 1.1 Data Description\n",
    "---\n",
    "\n",
    "**Personal Information:**\n",
    "* **age** - Participants age\n",
    "* **gender** - Participants gender\n",
    "* **race** - Participants race\n",
    "<br><br>\n",
    "\n",
    "**Educational Information:**\n",
    "* **highest_grade** - Highest school grade completed/passed\n",
    "* **tertiary_edu** - Whether or not they have successfully completed any tertiary education\n",
    "<br><br>\n",
    "\n",
    "**Geographical Information:**\n",
    "* **province_current** - Which province they live in\n",
    "* **province_moved** - Whether or not the respondent moved to another province when the lockdown was announced\n",
    "* **province_before** - Which province they lived in before lockdown, if they moved provinces\n",
    "* **province_during** - Which province they lived in during lockdown, if they moved provinces\n",
    "<br><br>"
   ]
  },
  {
   "cell_type": "markdown",
   "metadata": {},
   "source": [
    "---\n",
    "### 1.2 Data Ingestion and Cleaning\n",
    "---"
   ]
  },
  {
   "cell_type": "code",
   "execution_count": 72,
   "metadata": {},
   "outputs": [],
   "source": [
    "demdf = pd.DataFrame()\n",
    "\n",
    "#Convert datatype of birth year\n",
    "raw_data = raw_data.astype({\"w1_nc_dob_y\": float})\n",
    "\n",
    "#Personal Information\n",
    "demdf['age'] = 2020 - raw_data['w1_nc_dob_y']\n",
    "demdf['gender'] = raw_data['w1_nc_gen']\n",
    "demdf['race']= raw_data['w1_nc_popgrp']\n",
    "\n",
    "#Educational Information\n",
    "demdf['highest_grade'] = raw_data['w1_nc_edschgrd']\n",
    "demdf['tertiary_edu'] = raw_data['w1_nc_edter']\n",
    "\n",
    "#Geographical Information\n",
    "demdf['province_current'] = raw_data['w1_nc_prov']\n",
    "demdf['province_moved'] = raw_data['w1_nc_moveprov']\n",
    "demdf['province_before'] = raw_data['w1_nc_lvbfprov']\n",
    "demdf['province_during'] = raw_data['w1_nc_lvdurprov']"
   ]
  },
  {
   "cell_type": "code",
   "execution_count": 73,
   "metadata": {},
   "outputs": [],
   "source": [
    "#Rename the education levels for easier access\n",
    "demdf['highest_grade'].replace({'Grade 12 (Std10 / Matric / Senior Certificate / Form 5)': 'Grade 12',\n",
    "    'Grade 11 (Std. 9/ Form 4)': 'Grade 11',\n",
    "    'Grade 10 (Std. 8/ Form 3)': 'Grade 10', \n",
    "    'Grade 9 (Std. 7/ Form 2)':  'Grade 9', \n",
    "    'Grade 8 (Std. 6/ Form 1)':  'Grade 8', \n",
    "    'Grade 7 (Std. 5)':  'Grade 7', \n",
    "    'Grade 6 (Std. 4)':  'Grade 6', \n",
    "    'Grade 5 (Std. 3)':  'Grade 5', \n",
    "    'Grade 4 (Std. 2)':  'Grade 4', \n",
    "    'Grade 3 (Std. 1)':  'Grade 3',\n",
    "    'Grade 2 (previously Sub B/ class 2)':  'Grade 2', \n",
    "    'Grade 1 (previously Sub A/ class 1)': 'Grade 1', \n",
    "    'Grade R/0': 'Grade 0', \n",
    "    'N1 (NATED)/ NTC 1': 'NTC 1',\n",
    "    'N2 (NATED)/ NTC 2' : 'NTC 2',\n",
    "    'N3 (NATED)/ NTC 3': 'NTC 3',\n",
    "    'No Schooling': 'None',\n",
    "    'National Certificate Vocational 2 (NCV 2)': 'NCV 2',\n",
    "    'National Certificate Vocational 3 (NCV 3)': 'NCV 3',\n",
    "    'National Certificate Vocational 4 (NCV 4)': 'NCV 4'}, inplace=True)"
   ]
  },
  {
   "cell_type": "markdown",
   "metadata": {},
   "source": [
    "---\n",
    "### 1.3 Exploratory Data Analysis\n",
    "---\n",
    "Below, we will compare the sample to the findings from the 2019 mid-year population estimates in order to validate/critique the representation accuracy of demographics distribution of the sample in our dataset.\n",
    "<br>\n",
    "This data can be found at (https://www.statssa.gov.za/publications/P0302/P03022019.pdf)"
   ]
  },
  {
   "cell_type": "markdown",
   "metadata": {},
   "source": [
    "---\n",
    "#### **1.3.1 Personal Information**\n",
    "---"
   ]
  },
  {
   "cell_type": "markdown",
   "metadata": {},
   "source": [
    "##### **Age**\n",
    "---\n",
    "Since the survey was about the National Income Dynamics, it makes sense that the people interviewed were in the range of (18, 102) and had an average age of ~40, since these people make up the labour force in South Africa."
   ]
  },
  {
   "cell_type": "code",
   "execution_count": 74,
   "metadata": {},
   "outputs": [
    {
     "data": {
      "image/png": "[encoded data removed]",
      "text/plain": [
       "<Figure size 1080x720 with 1 Axes>"
      ]
     },
     "metadata": {
      "needs_background": "light"
     },
     "output_type": "display_data"
    }
   ],
   "source": [
    "#Plot age distribution\n",
    "plt.figure(figsize=(15,10))\n",
    "\n",
    "min_age = int(demdf['age'].min())\n",
    "max_age = int(demdf['age'].max())\n",
    "\n",
    "sns.histplot(demdf['age'], bins=int((max_age-min_age)/2), color='seagreen', kde =True)\n",
    "plt.title('Age Distribution of Sample',fontsize= 30)\n",
    "plt.xlabel('Age',fontsize=15)\n",
    "plt.ylabel('Number of Respondents',fontsize=15)\n",
    "plt.xticks([20,25,30,35,40,45,50,55,60,65,70,75,80,85,90,95,100],fontsize=15)\n",
    "plt.yticks(rotation='horizontal',fontsize=15)\n",
    "\n",
    "#Plot mean line\n",
    "plt.axvline(demdf['age'].mean(), color='darkred', linestyle='dashed', linewidth=1)\n",
    "plt.text(demdf['age'].mean()*1.01, 400, 'Mean={:.2f}'.format(demdf['age'].mean()), fontsize=15)\n",
    "\n",
    "#Plot min and max lines\n",
    "plt.axvline(demdf['age'].min(), color='darkred', linestyle='dashed', linewidth=1)\n",
    "plt.text(demdf['age'].min()*1.01, 400, 'Min={:.0f}'.format(demdf['age'].min()), fontsize=15)\n",
    "\n",
    "plt.axvline(demdf['age'].max(), color='darkred', linestyle='dashed', linewidth=1)\n",
    "plt.text(demdf['age'].max()*0.91, 400, 'Max={:.0f}'.format(demdf['age'].max()), fontsize=15)\n",
    "\n",
    "plt.show()"
   ]
  },
  {
   "cell_type": "markdown",
   "metadata": {},
   "source": [
    "##### **Gender**\n",
    "---\n",
    "In 2019, the total population was 58 775 022, with :\n",
    "* Male: 28 672 747 (48.78%)\n",
    "* Female: 30 102 275 (51.22%)\n",
    "<br>\n",
    "\n",
    "The distribution of the sample in our dataset is:\n",
    "* Male: 38.96%\n",
    "* Female: 61.04% \n",
    "<br>\n",
    "\n",
    "Therefore, we can conclude that the sample in our dataset inaccurately represents the gender distiribution of our country since it is far off the true values."
   ]
  },
  {
   "cell_type": "code",
   "execution_count": 75,
   "metadata": {},
   "outputs": [
    {
     "data": {
      "image/png": "[encoded data removed]",
      "text/plain": [
       "<Figure size 1080x720 with 1 Axes>"
      ]
     },
     "metadata": {
      "needs_background": "light"
     },
     "output_type": "display_data"
    }
   ],
   "source": [
    "#Plot gender distribution\n",
    "ax = demdf['gender'].value_counts().plot(kind='bar', figsize=(15,10),\n",
    "                                                  color=[\"lightcoral\",\"lightblue\"], fontsize=15);\n",
    "ax.set_alpha(0.8)\n",
    "ax.set_title(\"Gender Distribution of Sample\", fontsize=30)\n",
    "ax.set_ylabel('Number of Respondents',fontsize= 15)\n",
    "\n",
    "#Add percentage labels\n",
    "totals = []\n",
    "for i in ax.patches:\n",
    "    totals.append(i.get_height())\n",
    "total = sum(totals)\n",
    "for i in ax.patches:\n",
    "    ax.text(i.get_x()+.15, i.get_height()/2, str(round((i.get_height()/total)*100, 2))+'%',\n",
    "            fontsize=20, color='black')"
   ]
  },
  {
   "cell_type": "markdown",
   "metadata": {},
   "source": [
    "##### **Race**\n",
    "---\n",
    "In 2019, the total population was 58 775 022, with:\n",
    "* Black/African: 47 443 259 (80.7%) \n",
    "* Coloured: 5 176 750 (8.8%) \n",
    "* White: 4 652 006 (7.9%) \n",
    "* Asian/Indian: 1 503 007 (2.6%) \n",
    "<br>\n",
    "\n",
    "The distribution of the sample in our dataset is:\n",
    "* Black/African: 85.59%\n",
    "* Coloured: 8.66%\n",
    "* White: 4.6%\n",
    "* Asian/Indian: 1.12%\n",
    "* Other: 0.03%\n",
    "<br>\n",
    "\n",
    "Even though this proportion is not exactly accurate, we can conclude that it is a sufficient representation of the population in South Africa since in both cases the Black/African ethnic group is the majority, White and Coloured are next with a very similar percentage, and Indian/Asian is the minority."
   ]
  },
  {
   "cell_type": "code",
   "execution_count": 76,
   "metadata": {},
   "outputs": [
    {
     "data": {
      "image/png": "[encoded data removed]",
      "text/plain": [
       "<Figure size 1080x720 with 1 Axes>"
      ]
     },
     "metadata": {
      "needs_background": "light"
     },
     "output_type": "display_data"
    }
   ],
   "source": [
    "#Plot race/ethnic distribution\n",
    "ax = demdf['race'].value_counts().plot(kind='bar', figsize=(15,10),\n",
    "                                       color=[\"red\",\"coral\",\"orange\",\"yellow\"], fontsize=15)\n",
    "ax.set_alpha(0.8)\n",
    "ax.set_title(\"Race Distribution of Sample\", fontsize=30)\n",
    "ax.set_ylabel('Number of Respondents',fontsize= 15)\n",
    "ax.set_yticks([0, 1000, 2000, 3000, 4000, 5000,6000, 7000])\n",
    "\n",
    "#Add percentage labels\n",
    "totals = []\n",
    "for i in ax.patches:\n",
    "    totals.append(i.get_height())\n",
    "total = sum(totals)\n",
    "for i in ax.patches:\n",
    "    ax.text(i.get_x()+0.05, i.get_height()+200, str(round((i.get_height()/total)*100, 2))+'%',\n",
    "            fontsize=20, color='black')"
   ]
  },
  {
   "cell_type": "markdown",
   "metadata": {},
   "source": [
    "---\n",
    "#### **1.3.2 Educational Information**\n",
    "---"
   ]
  },
  {
   "cell_type": "markdown",
   "metadata": {},
   "source": [
    "##### **Highest Education Level**\n",
    "---\n",
    "This is the highest school grade completed by the respondents.\n",
    "- Grade 0-12: The standard South African schooling levels\n",
    "- NCV: National Certificate Vocational\n",
    "- NTC: National Technical Certificate"
   ]
  },
  {
   "cell_type": "code",
   "execution_count": 77,
   "metadata": {},
   "outputs": [
    {
     "data": {
      "image/png": "[encoded data removed]",
      "text/plain": [
       "<Figure size 1440x864 with 1 Axes>"
      ]
     },
     "metadata": {
      "needs_background": "light"
     },
     "output_type": "display_data"
    }
   ],
   "source": [
    "#Sort education levels in a  logical order\n",
    "grades = demdf['highest_grade'].value_counts()\n",
    "ordered_grades = grades.reindex(index = ['Grade 0', 'Grade 1', 'Grade 2', 'Grade 3', 'Grade 4','Grade 5',\n",
    "       'Grade 6', 'Grade 7', 'Grade 8', 'Grade 9', 'Grade 10',\n",
    "       'Grade 11', 'Grade 12' , 'NTC 1', 'NTC 2', 'NTC 3', 'NCV 2','NCV 3','NCV 4', 'None'])\n",
    "\n",
    "\n",
    "#Plot highest education level distribution\n",
    "plt.figure(figsize=(20,12))\n",
    "plt.bar(x = ordered_grades.index, height = ordered_grades.values, \n",
    "        color=[\"forestgreen\",\"limegreen\",\"darkgreen\",\"seagreen\",\"springgreen\",\"chartreuse\",\"olive\",\"palegreen\",\"green\",\"greenyellow\"])\n",
    "\n",
    "plt.title('Highest Education Level Distribution of Sample',fontsize=30)\n",
    "plt.xlabel('Highest Grade Completed',fontsize=15)\n",
    "plt.ylabel('Number of Respondents',fontsize=15)\n",
    "plt.xticks(rotation='vertical',fontsize=15)\n",
    "plt.yticks(rotation='horizontal',fontsize=15)\n",
    "plt.show()"
   ]
  },
  {
   "cell_type": "markdown",
   "metadata": {},
   "source": [
    "##### **Tertiary Education**\n",
    "---\n",
    "This variable tells us whether or not the respondents have succesfully completed some form of tertiary studies."
   ]
  },
  {
   "cell_type": "code",
   "execution_count": 78,
   "metadata": {},
   "outputs": [
    {
     "data": {
      "image/png": "[encoded data removed]",
      "text/plain": [
       "<Figure size 1080x720 with 1 Axes>"
      ]
     },
     "metadata": {
      "needs_background": "light"
     },
     "output_type": "display_data"
    }
   ],
   "source": [
    "#Plot race/ethnic distribution\n",
    "ax = demdf['tertiary_edu'].value_counts().plot(kind='bar', figsize=(15,10),\n",
    "                                                  color=[\"yellowgreen\",\"violet\"], fontsize=15);\n",
    "ax.set_alpha(0.8)\n",
    "ax.set_title(\"Tertiary Education Distribution of Sample\", fontsize=30)\n",
    "ax.set_ylabel('Number of Respondents',fontsize= 15)\n",
    "\n",
    "#Add percentage labels\n",
    "totals = []\n",
    "for i in ax.patches:\n",
    "    totals.append(i.get_height())\n",
    "total = sum(totals)\n",
    "for i in ax.patches:\n",
    "    ax.text(i.get_x()+.15, i.get_height()/2, str(round((i.get_height()/total)*100, 2))+'%',\n",
    "            fontsize=20, color='black')"
   ]
  },
  {
   "cell_type": "markdown",
   "metadata": {},
   "source": [
    "---\n",
    "#### **1.3.3 Geographical Information**\n",
    "---"
   ]
  },
  {
   "cell_type": "markdown",
   "metadata": {},
   "source": [
    "The geographical distribution of the population as stated in the 2019 mid-year population estimates compared to the sample in our dataset:\n",
    "\n",
    "\n",
    "| **Province** | **2019 Mid-year** | **NIDS-CRAM** |\n",
    "| ---- | ---- | ---- |\n",
    "| Gauteng | 25.8% | 15.2% |\n",
    "| KwaZulu-Natal | 19.02% | 29.4% |\n",
    "| Limpopo | 10.2% | 10.02% |\n",
    "| Eastern Cape | 11.4% | 9.88% |\n",
    "| Mpumalanga | 7.8% | 9.1% |\n",
    "| Northern Cape | 2.2% | 5.98% |\n",
    "| Western Cape | 11.6% | 7.56% |\n",
    "| North West | 6.9% | 6.42% |\n",
    "| Free State | 4.9% | 6.41% |\n",
    "\n",
    "\n",
    "Our sample is not a very accurate representation of the geographical distribution of the population in South Africa.\n",
    "<br>\n",
    "KwaZulu-Natal is severely over represented in the sample, and Gauteng is severly under represented\n"
   ]
  },
  {
   "cell_type": "markdown",
   "metadata": {},
   "source": [
    "##### **Province**\n",
    "---\n",
    "This is the province that the respondents were living in when the survey was conducted."
   ]
  },
  {
   "cell_type": "code",
   "execution_count": 79,
   "metadata": {},
   "outputs": [
    {
     "data": {
      "image/png": "[encoded data removed]",
      "text/plain": [
       "<Figure size 1080x720 with 1 Axes>"
      ]
     },
     "metadata": {
      "needs_background": "light"
     },
     "output_type": "display_data"
    }
   ],
   "source": [
    "#Plot the provincial distribution before lockdown\n",
    "# demdf['province_before'].fillna(demdf['province'], inplace=True)\n",
    "\n",
    "current_provinces = demdf['province_current'].value_counts()\n",
    "current_provinces_ordered = current_provinces.reindex(index = ['Gauteng', 'KwaZulu-Natal', 'Limpopo', 'Eastern Cape', 'Mpumalanga','Northern Cape',\n",
    "       'Western Cape', 'North West', 'Free State', 'Outside of South Africa'])\n",
    "\n",
    "ax = current_provinces_ordered.plot(kind='bar', figsize=(15,10),\n",
    "                                       color=[\"aqua\",\"deepskyblue\",\"lightseagreen\",\"dodgerblue\"], fontsize=15)\n",
    "ax.set_alpha(0.8)\n",
    "ax.set_title(\"Geographical Distribution of Sample\", fontsize=30)\n",
    "ax.set_ylabel('Number of Respondents',fontsize= 15)\n",
    "\n",
    "total = demdf['province_current'].notna().sum()\n",
    "\n",
    "for i in ax.patches:\n",
    "    ax.text(i.get_x()-0.08, i.get_height()+10, str(round((i.get_height()/total)*100, 2))+'%',\n",
    "            fontsize=20, color='black')"
   ]
  },
  {
   "cell_type": "markdown",
   "metadata": {},
   "source": [
    "##### **Change in geographical distribution of provincial populations before vs during lockdown**\n",
    "Since many people live in a province simply because of the job opportunites that exist there, we will look at the movement in and out of provinces which is likely due to the loss of jobs during lockdown. \n",
    "\n",
    "Below we extract all the respondents who moved to a different province when lockdown was announced, and provided their province before lockdown and during lockdown. "
   ]
  },
  {
   "cell_type": "code",
   "execution_count": 80,
   "metadata": {},
   "outputs": [
    {
     "name": "stdout",
     "output_type": "stream",
     "text": [
      "Number of respondents who moved to a different province:  369\n"
     ]
    }
   ],
   "source": [
    "#Count number of people who moved provinces\n",
    "df_moved = demdf[(demdf['province_moved'] == 'Yes') & (demdf['province_before'].notna()) & (demdf['province_during'].notna())]\n",
    "print(\"Number of respondents who moved to a different province: \", df_moved.shape[0])"
   ]
  },
  {
   "cell_type": "markdown",
   "metadata": {},
   "source": [
    "Out of the ~7000 respondents, only 369 moved provinces.\n",
    "\n",
    "We will now investigate which provinces they left from and moved to when lockdown started.\n",
    "\n",
    "| **Province** | **Left from when lockdown started** | **Moved to when lockdown started** | **Total Change** |\n",
    "| ---- | ---- | ---- | ---- |\n",
    "| Gauteng | 99 | 78 | -21 |\n",
    "| KwaZulu-Natal | 79 | 83 | 4 |\n",
    "| Limpopo | 40 | 47 | 7 |\n",
    "| Eastern Cape | 38 | 41 | 3 |\n",
    "| Mpumalanga | 36 | 46 | 10 |\n",
    "| Northern Cape | 23 | 25 | 2 |\n",
    "| Western Cape | 21 | 21 | 0 |\n",
    "| North West | 15 | 11 | -4 |\n",
    "| Free State | 17 | 16 | -1 |\n",
    "| Outside of South Africa| 1 | 1 | 0 |"
   ]
  },
  {
   "cell_type": "code",
   "execution_count": 81,
   "metadata": {},
   "outputs": [
    {
     "data": {
      "image/png": "[encoded data removed]",
      "text/plain": [
       "<Figure size 1080x720 with 1 Axes>"
      ]
     },
     "metadata": {
      "needs_background": "light"
     },
     "output_type": "display_data"
    }
   ],
   "source": [
    "#Province Before Lockdown\n",
    "provinces_before = df_moved['province_before'].value_counts()\n",
    "ordered_provinces_before = provinces_before.reindex(index = ['Gauteng', 'KwaZulu-Natal', 'Limpopo', 'Eastern Cape', 'Mpumalanga','Northern Cape',\n",
    "       'Western Cape', 'North West', 'Free State', 'Outside of South Africa'])\n",
    "\n",
    "#Province During Lockdown\n",
    "provinces_during = df_moved['province_during'].value_counts()\n",
    "ordered_provinces_during = provinces_during.reindex(index = ['Gauteng', 'KwaZulu-Natal', 'Limpopo', 'Eastern Cape', 'Mpumalanga','Northern Cape',\n",
    "       'Western Cape', 'North West', 'Free State', 'Outside of South Africa'])\n",
    "\n",
    "#Plot the provincial distribution before vs during lockdown\n",
    "diff = ordered_provinces_during - ordered_provinces_before\n",
    "\n",
    "ax = diff.plot(kind='bar', figsize=(15,10),\n",
    "                                       color=[\"orchid\",\"mediumpurple\",\"plum\",\"purple\"], fontsize=15);\n",
    "ax.set_alpha(0.8)\n",
    "ax.set_title(\"Change in Geographical Distribution of Sample\", fontsize=30)\n",
    "ax.set_ylabel('Number of Respondents',fontsize= 15)\n",
    "ax.set_yticks([-20, -15, -10, -5, 0,  5, 10, 15])\n",
    "\n",
    "for i in ax.patches:\n",
    "    ax.text(i.get_x()-0.08, i.get_height()+1, str(round((i.get_height()/total)*100, 2))+'%',\n",
    "            fontsize=20, color='black')\n",
    "    \n",
    "ax.axhline(0, color='black', linestyle='solid', linewidth=1)\n",
    "plt.show()"
   ]
  },
  {
   "cell_type": "markdown",
   "metadata": {},
   "source": [
    "As we can see in the table and graph above, Gauteng saw the largest decrease in population size, with a total of 21(0.3%) less people than before lockdown.\n",
    "This could be explained by the fact that Gauteng has the largest population in South Africa, and the most job opportunities, so more people would have had to leave because of lockdown.\n",
    "\n",
    "Conversely, Limpopo and Mpumalanga saw the largest incease in population size with a total of 7(0.1%) and 10(0.14%) more people than before lockdown, respectively.\n",
    "This could be explained by the fact that Limpopo and Mpumalanga are two of the more rural provinces of South Africa, and the places from where many people would leave in search of job opportunities in the larger cities."
   ]
  },
  {
   "cell_type": "markdown",
   "metadata": {},
   "source": [
    "# DINO'S MODEL GOES HERE  "
   ]
  },
  {
   "cell_type": "markdown",
   "metadata": {},
   "source": [
    "---\n",
    "## <span style='color:blue' > Section 2 - Labour </span>\n",
    "---"
   ]
  },
  {
   "cell_type": "markdown",
   "metadata": {},
   "source": [
    "---\n",
    "### 2.1 Data Description\n",
    "---\n",
    "\n",
    "**Work in February** \n",
    "* **job_in_feb** - Had a job in February \n",
    "* **work_in_feb** - Did work for profit/pay even just for an hour or a small amount in February \n",
    "* **bus_in_feb** - Did any businesss, big or small, even just for an hour in February \n",
    "* **work_days_feb** - Average number of days worked per week in February \n",
    "* **work_hours_feb** - Average number of hours worked per day in February \n",
    "* **take_home_pay_feb** - Amount of take-home profit/pay in the month of February \n",
    "<br><br>\n",
    "\n",
    "**Work in April** \n",
    "* **job_in_apr** - Had any kind of job in April\n",
    "* **work_in_apr** - Did work for profit/pay even just for an hour or a small amount in April\n",
    "* **bus_in_apr** - Did any businesss, big or small, even just for an hour in April\n",
    "* **work_days_apr** - Average number of days worked per week in April\n",
    "* **work_hours_apr** - Average number of hours worked per day in April\n",
    "* **take_home_pay_apr** - Amount of take-home profit/pay in the month of April \n",
    "* **return_to_work** - Have any paid activity/job to return to in the next 4 weeks (At time of survey)\n",
    "<br><br>\n",
    "\n",
    "**Type of work** \n",
    "* **main_form_work** - Respondents main form of work\n",
    "* **usual_work** - Occupational code for usual work "
   ]
  },
  {
   "cell_type": "markdown",
   "metadata": {},
   "source": [
    "---\n",
    "### 2.2 Data Ingestion\n",
    "---"
   ]
  },
  {
   "cell_type": "markdown",
   "metadata": {},
   "source": [
    "First we will create a DataFrame which will contain a subset of relevant columns used for the Data Cleaning and Exploratory Data Analysis of the Labour features."
   ]
  },
  {
   "cell_type": "code",
   "execution_count": 82,
   "metadata": {},
   "outputs": [],
   "source": [
    "lbdf = pd.DataFrame()\n",
    "\n",
    "lbdf['job_in_feb'] = raw_data.w1_nc_em_feb\n",
    "lbdf['work_in_feb'] = raw_data.w1_nc_emany_feb\n",
    "lbdf['bus_in_feb'] = raw_data.w1_nc_ems_feb\n",
    "lbdf['work_days_feb'] = raw_data.w1_nc_emdays_feb\n",
    "lbdf['work_hours_feb'] = raw_data.w1_nc_emhrs_feb\n",
    "lbdf['take_home_pay_feb'] = raw_data.w1_nc_eminc_feb\n",
    "\n",
    "lbdf['job_in_apr'] = raw_data.w1_nc_em_apr\n",
    "lbdf['work_in_apr'] = raw_data.w1_nc_emany_apr\n",
    "lbdf['bus_in_apr'] = raw_data.w1_nc_ems_apr\n",
    "lbdf['work_days_apr'] = raw_data.w1_nc_emdays_apr\n",
    "lbdf['work_hours_apr'] = raw_data.w1_nc_emhrs_apr\n",
    "lbdf['take_home_pay_apr'] = raw_data.w1_nc_eminc_apr\n",
    "lbdf['return_to_work'] = raw_data.w1_nc_emreturn\n",
    "\n",
    "lbdf['main_form_work'] = raw_data.w1_nc_emtyp\n",
    "lbdf['usual_work'] = raw_data.w1_nc_emwrk_isco_c"
   ]
  },
  {
   "cell_type": "markdown",
   "metadata": {},
   "source": [
    "Let us get a general feel for the data by taking a look at a sample of the data and by exploring some of the information about the data:"
   ]
  },
  {
   "cell_type": "code",
   "execution_count": 83,
   "metadata": {
    "scrolled": true
   },
   "outputs": [
    {
     "data": {
      "text/html": [
       "<div>\n",
       "<style scoped>\n",
       "    .dataframe tbody tr th:only-of-type {\n",
       "        vertical-align: middle;\n",
       "    }\n",
       "\n",
       "    .dataframe tbody tr th {\n",
       "        vertical-align: top;\n",
       "    }\n",
       "\n",
       "    .dataframe thead th {\n",
       "        text-align: right;\n",
       "    }\n",
       "</style>\n",
       "<table border=\"1\" class=\"dataframe\">\n",
       "  <thead>\n",
       "    <tr style=\"text-align: right;\">\n",
       "      <th></th>\n",
       "      <th>job_in_feb</th>\n",
       "      <th>work_in_feb</th>\n",
       "      <th>bus_in_feb</th>\n",
       "      <th>work_days_feb</th>\n",
       "      <th>work_hours_feb</th>\n",
       "      <th>take_home_pay_feb</th>\n",
       "      <th>job_in_apr</th>\n",
       "      <th>work_in_apr</th>\n",
       "      <th>bus_in_apr</th>\n",
       "      <th>work_days_apr</th>\n",
       "      <th>work_hours_apr</th>\n",
       "      <th>take_home_pay_apr</th>\n",
       "      <th>return_to_work</th>\n",
       "      <th>main_form_work</th>\n",
       "      <th>usual_work</th>\n",
       "    </tr>\n",
       "  </thead>\n",
       "  <tbody>\n",
       "    <tr>\n",
       "      <th>0</th>\n",
       "      <td>Yes</td>\n",
       "      <td>NaN</td>\n",
       "      <td>NaN</td>\n",
       "      <td>NaN</td>\n",
       "      <td>NaN</td>\n",
       "      <td>180.0</td>\n",
       "      <td>No</td>\n",
       "      <td>No</td>\n",
       "      <td>No - I did nothing</td>\n",
       "      <td>NaN</td>\n",
       "      <td>NaN</td>\n",
       "      <td>NaN</td>\n",
       "      <td>NaN</td>\n",
       "      <td>NaN</td>\n",
       "      <td>NaN</td>\n",
       "    </tr>\n",
       "    <tr>\n",
       "      <th>1</th>\n",
       "      <td>No, I'm retired</td>\n",
       "      <td>NaN</td>\n",
       "      <td>NaN</td>\n",
       "      <td>NaN</td>\n",
       "      <td>NaN</td>\n",
       "      <td>NaN</td>\n",
       "      <td>NaN</td>\n",
       "      <td>NaN</td>\n",
       "      <td>NaN</td>\n",
       "      <td>NaN</td>\n",
       "      <td>NaN</td>\n",
       "      <td>NaN</td>\n",
       "      <td>NaN</td>\n",
       "      <td>NaN</td>\n",
       "      <td>NaN</td>\n",
       "    </tr>\n",
       "    <tr>\n",
       "      <th>2</th>\n",
       "      <td>No</td>\n",
       "      <td>No</td>\n",
       "      <td>No - I did nothing</td>\n",
       "      <td>NaN</td>\n",
       "      <td>NaN</td>\n",
       "      <td>NaN</td>\n",
       "      <td>No</td>\n",
       "      <td>No</td>\n",
       "      <td>No - I did nothing</td>\n",
       "      <td>NaN</td>\n",
       "      <td>NaN</td>\n",
       "      <td>NaN</td>\n",
       "      <td>No</td>\n",
       "      <td>NaN</td>\n",
       "      <td>NaN</td>\n",
       "    </tr>\n",
       "    <tr>\n",
       "      <th>3</th>\n",
       "      <td>Yes</td>\n",
       "      <td>NaN</td>\n",
       "      <td>NaN</td>\n",
       "      <td>3.0</td>\n",
       "      <td>5.0</td>\n",
       "      <td>900.0</td>\n",
       "      <td>No</td>\n",
       "      <td>No</td>\n",
       "      <td>No - I did nothing</td>\n",
       "      <td>5.0</td>\n",
       "      <td>5.0</td>\n",
       "      <td>NaN</td>\n",
       "      <td>Yes</td>\n",
       "      <td>Regular job</td>\n",
       "      <td>Elementary occupations</td>\n",
       "    </tr>\n",
       "    <tr>\n",
       "      <th>4</th>\n",
       "      <td>No</td>\n",
       "      <td>No</td>\n",
       "      <td>No - I did nothing</td>\n",
       "      <td>NaN</td>\n",
       "      <td>NaN</td>\n",
       "      <td>NaN</td>\n",
       "      <td>No</td>\n",
       "      <td>No</td>\n",
       "      <td>No - I did nothing</td>\n",
       "      <td>NaN</td>\n",
       "      <td>NaN</td>\n",
       "      <td>NaN</td>\n",
       "      <td>No</td>\n",
       "      <td>NaN</td>\n",
       "      <td>NaN</td>\n",
       "    </tr>\n",
       "  </tbody>\n",
       "</table>\n",
       "</div>"
      ],
      "text/plain": [
       "        job_in_feb work_in_feb          bus_in_feb work_days_feb  \\\n",
       "0              Yes         NaN                 NaN           NaN   \n",
       "1  No, I'm retired         NaN                 NaN           NaN   \n",
       "2               No          No  No - I did nothing           NaN   \n",
       "3              Yes         NaN                 NaN           3.0   \n",
       "4               No          No  No - I did nothing           NaN   \n",
       "\n",
       "  work_hours_feb take_home_pay_feb job_in_apr work_in_apr          bus_in_apr  \\\n",
       "0            NaN             180.0         No          No  No - I did nothing   \n",
       "1            NaN               NaN        NaN         NaN                 NaN   \n",
       "2            NaN               NaN         No          No  No - I did nothing   \n",
       "3            5.0             900.0         No          No  No - I did nothing   \n",
       "4            NaN               NaN         No          No  No - I did nothing   \n",
       "\n",
       "  work_days_apr work_hours_apr take_home_pay_apr return_to_work  \\\n",
       "0           NaN            NaN               NaN            NaN   \n",
       "1           NaN            NaN               NaN            NaN   \n",
       "2           NaN            NaN               NaN             No   \n",
       "3           5.0            5.0               NaN            Yes   \n",
       "4           NaN            NaN               NaN             No   \n",
       "\n",
       "  main_form_work              usual_work  \n",
       "0            NaN                     NaN  \n",
       "1            NaN                     NaN  \n",
       "2            NaN                     NaN  \n",
       "3    Regular job  Elementary occupations  \n",
       "4            NaN                     NaN  "
      ]
     },
     "execution_count": 83,
     "metadata": {},
     "output_type": "execute_result"
    }
   ],
   "source": [
    "lbdf.head()"
   ]
  },
  {
   "cell_type": "code",
   "execution_count": 84,
   "metadata": {},
   "outputs": [
    {
     "name": "stdout",
     "output_type": "stream",
     "text": [
      "<class 'pandas.core.frame.DataFrame'>\n",
      "RangeIndex: 7073 entries, 0 to 7072\n",
      "Data columns (total 15 columns):\n",
      " #   Column             Non-Null Count  Dtype \n",
      "---  ------             --------------  ----- \n",
      " 0   job_in_feb         6997 non-null   object\n",
      " 1   work_in_feb        3684 non-null   object\n",
      " 2   bus_in_feb         3356 non-null   object\n",
      " 3   work_days_feb      3141 non-null   object\n",
      " 4   work_hours_feb     3018 non-null   object\n",
      " 5   take_home_pay_feb  2653 non-null   object\n",
      " 6   job_in_apr         6329 non-null   object\n",
      " 7   work_in_apr        4833 non-null   object\n",
      " 8   bus_in_apr         4652 non-null   object\n",
      " 9   work_days_apr      1866 non-null   object\n",
      " 10  work_hours_apr     1790 non-null   object\n",
      " 11  take_home_pay_apr  1402 non-null   object\n",
      " 12  return_to_work     3977 non-null   object\n",
      " 13  main_form_work     2602 non-null   object\n",
      " 14  usual_work         2313 non-null   object\n",
      "dtypes: object(15)\n",
      "memory usage: 829.0+ KB\n"
     ]
    }
   ],
   "source": [
    "lbdf.info()"
   ]
  },
  {
   "cell_type": "markdown",
   "metadata": {},
   "source": [
    "As we can see our dataset seems to contain a lot of missing data, let us see if through Data Preprocessing we can either impute or discard this missing data."
   ]
  },
  {
   "cell_type": "markdown",
   "metadata": {},
   "source": [
    "---\n",
    "### 2.3 Data Wrangling and Cleaning\n",
    "---"
   ]
  },
  {
   "cell_type": "markdown",
   "metadata": {},
   "source": [
    "---\n",
    "#### **Feature Generation**\n",
    "---"
   ]
  },
  {
   "cell_type": "markdown",
   "metadata": {},
   "source": [
    "To begin the data preprocessing we will first create new features using other features in our dataset. The first two features generated are **labour_in_feb** and **labour_in_apr** these features are created by checking if an individual had a job, did any part-time work or did any business in each of the months. This is done using the **check_labour** function below:"
   ]
  },
  {
   "cell_type": "code",
   "execution_count": 85,
   "metadata": {},
   "outputs": [],
   "source": [
    "def check_labour(jobfeb, workfeb, busfeb):\n",
    "    if jobfeb == \"Yes\" or workfeb == \"Yes\" or busfeb ==\"Yes\":\n",
    "        return 1 \n",
    "    else:\n",
    "        return 0 \n",
    "    \n",
    "lbdf['labour_in_feb'] = np.vectorize(check_labour)(lbdf['job_in_feb'],lbdf['work_in_feb'],lbdf['bus_in_feb'])\n",
    "lbdf['labour_in_apr'] = np.vectorize(check_labour)(lbdf['job_in_apr'],lbdf['work_in_apr'],lbdf['bus_in_apr'])"
   ]
  },
  {
   "cell_type": "markdown",
   "metadata": {},
   "source": [
    "Now that we have created these new features, which are good indications of whether or not a respondent was making any money in February and April, we can drop the less useful and now somewhat redundant job, work and business features for each month."
   ]
  },
  {
   "cell_type": "code",
   "execution_count": 86,
   "metadata": {},
   "outputs": [],
   "source": [
    "lbdf = lbdf.drop(['job_in_feb','work_in_feb','bus_in_feb','job_in_apr','work_in_apr','bus_in_apr'] , axis = 1)"
   ]
  },
  {
   "cell_type": "markdown",
   "metadata": {},
   "source": [
    "The next feature we can create is **lost_labour** which will check if a respondent who was working in February had lost their opportunity to work by April."
   ]
  },
  {
   "cell_type": "code",
   "execution_count": 87,
   "metadata": {},
   "outputs": [],
   "source": [
    "def lost_labour(labour_in_feb,labour_in_apr):\n",
    "    if labour_in_feb == 1 and labour_in_apr ==0:\n",
    "        return 1\n",
    "    else:\n",
    "        return 0 \n",
    "\n",
    "lbdf['lost_labour'] = np.vectorize(lost_labour)(lbdf['labour_in_feb'],lbdf['labour_in_apr'])"
   ]
  },
  {
   "cell_type": "markdown",
   "metadata": {},
   "source": [
    "With these new features created, let us rerrange our columns into a more logical order and re-examine how a sample from our data will now look."
   ]
  },
  {
   "cell_type": "code",
   "execution_count": 88,
   "metadata": {},
   "outputs": [
    {
     "data": {
      "text/html": [
       "<div>\n",
       "<style scoped>\n",
       "    .dataframe tbody tr th:only-of-type {\n",
       "        vertical-align: middle;\n",
       "    }\n",
       "\n",
       "    .dataframe tbody tr th {\n",
       "        vertical-align: top;\n",
       "    }\n",
       "\n",
       "    .dataframe thead th {\n",
       "        text-align: right;\n",
       "    }\n",
       "</style>\n",
       "<table border=\"1\" class=\"dataframe\">\n",
       "  <thead>\n",
       "    <tr style=\"text-align: right;\">\n",
       "      <th></th>\n",
       "      <th>labour_in_feb</th>\n",
       "      <th>work_days_feb</th>\n",
       "      <th>work_hours_feb</th>\n",
       "      <th>take_home_pay_feb</th>\n",
       "      <th>labour_in_apr</th>\n",
       "      <th>work_days_apr</th>\n",
       "      <th>work_hours_apr</th>\n",
       "      <th>take_home_pay_apr</th>\n",
       "      <th>lost_labour</th>\n",
       "      <th>return_to_work</th>\n",
       "      <th>main_form_work</th>\n",
       "      <th>usual_work</th>\n",
       "    </tr>\n",
       "  </thead>\n",
       "  <tbody>\n",
       "    <tr>\n",
       "      <th>0</th>\n",
       "      <td>1</td>\n",
       "      <td>NaN</td>\n",
       "      <td>NaN</td>\n",
       "      <td>180.0</td>\n",
       "      <td>0</td>\n",
       "      <td>NaN</td>\n",
       "      <td>NaN</td>\n",
       "      <td>NaN</td>\n",
       "      <td>1</td>\n",
       "      <td>NaN</td>\n",
       "      <td>NaN</td>\n",
       "      <td>NaN</td>\n",
       "    </tr>\n",
       "    <tr>\n",
       "      <th>1</th>\n",
       "      <td>0</td>\n",
       "      <td>NaN</td>\n",
       "      <td>NaN</td>\n",
       "      <td>NaN</td>\n",
       "      <td>0</td>\n",
       "      <td>NaN</td>\n",
       "      <td>NaN</td>\n",
       "      <td>NaN</td>\n",
       "      <td>0</td>\n",
       "      <td>NaN</td>\n",
       "      <td>NaN</td>\n",
       "      <td>NaN</td>\n",
       "    </tr>\n",
       "    <tr>\n",
       "      <th>2</th>\n",
       "      <td>0</td>\n",
       "      <td>NaN</td>\n",
       "      <td>NaN</td>\n",
       "      <td>NaN</td>\n",
       "      <td>0</td>\n",
       "      <td>NaN</td>\n",
       "      <td>NaN</td>\n",
       "      <td>NaN</td>\n",
       "      <td>0</td>\n",
       "      <td>No</td>\n",
       "      <td>NaN</td>\n",
       "      <td>NaN</td>\n",
       "    </tr>\n",
       "    <tr>\n",
       "      <th>3</th>\n",
       "      <td>1</td>\n",
       "      <td>3.0</td>\n",
       "      <td>5.0</td>\n",
       "      <td>900.0</td>\n",
       "      <td>0</td>\n",
       "      <td>5.0</td>\n",
       "      <td>5.0</td>\n",
       "      <td>NaN</td>\n",
       "      <td>1</td>\n",
       "      <td>Yes</td>\n",
       "      <td>Regular job</td>\n",
       "      <td>Elementary occupations</td>\n",
       "    </tr>\n",
       "    <tr>\n",
       "      <th>4</th>\n",
       "      <td>0</td>\n",
       "      <td>NaN</td>\n",
       "      <td>NaN</td>\n",
       "      <td>NaN</td>\n",
       "      <td>0</td>\n",
       "      <td>NaN</td>\n",
       "      <td>NaN</td>\n",
       "      <td>NaN</td>\n",
       "      <td>0</td>\n",
       "      <td>No</td>\n",
       "      <td>NaN</td>\n",
       "      <td>NaN</td>\n",
       "    </tr>\n",
       "  </tbody>\n",
       "</table>\n",
       "</div>"
      ],
      "text/plain": [
       "   labour_in_feb work_days_feb work_hours_feb take_home_pay_feb  \\\n",
       "0              1           NaN            NaN             180.0   \n",
       "1              0           NaN            NaN               NaN   \n",
       "2              0           NaN            NaN               NaN   \n",
       "3              1           3.0            5.0             900.0   \n",
       "4              0           NaN            NaN               NaN   \n",
       "\n",
       "   labour_in_apr work_days_apr work_hours_apr take_home_pay_apr  lost_labour  \\\n",
       "0              0           NaN            NaN               NaN            1   \n",
       "1              0           NaN            NaN               NaN            0   \n",
       "2              0           NaN            NaN               NaN            0   \n",
       "3              0           5.0            5.0               NaN            1   \n",
       "4              0           NaN            NaN               NaN            0   \n",
       "\n",
       "  return_to_work main_form_work              usual_work  \n",
       "0            NaN            NaN                     NaN  \n",
       "1            NaN            NaN                     NaN  \n",
       "2             No            NaN                     NaN  \n",
       "3            Yes    Regular job  Elementary occupations  \n",
       "4             No            NaN                     NaN  "
      ]
     },
     "execution_count": 88,
     "metadata": {},
     "output_type": "execute_result"
    }
   ],
   "source": [
    "list_of_col_names = ['labour_in_feb','work_days_feb', 'work_hours_feb', 'take_home_pay_feb', 'labour_in_apr', 'work_days_apr',\n",
    "       'work_hours_apr', 'take_home_pay_apr', 'lost_labour', 'return_to_work',\n",
    "       'main_form_work', 'usual_work']\n",
    "\n",
    "lbdf = lbdf.filter(list_of_col_names)\n",
    "lbdf.head()"
   ]
  },
  {
   "cell_type": "markdown",
   "metadata": {},
   "source": [
    "An important caveat to note is that if a respondent did not have any work in February then the number of days they worked per week, the number of hours they worked per day and their take home pay will all be 0. Similarly, if a respondent did not have any work in April, their days worked, hours worked and take home pay will also be 0. "
   ]
  },
  {
   "cell_type": "code",
   "execution_count": 89,
   "metadata": {},
   "outputs": [],
   "source": [
    "lbdf.loc[lbdf['labour_in_feb']==0 ,['work_days_feb','work_hours_feb','take_home_pay_feb']] = 0 \n",
    "lbdf.loc[lbdf['labour_in_apr']==0,['work_days_apr','work_hours_apr','take_home_pay_apr']] = 0 "
   ]
  },
  {
   "cell_type": "markdown",
   "metadata": {},
   "source": [
    "Next we need to determine a way to impute the values for return_to_work because, as can be seen above, about 43.77% of our entries are missing values for this feature. This feature indicates whether or not the respondent will have work to return to in the 4 weeks following the interviews (which were conducted just after April). To impute the missing value, we make the assumption that someone who has work at the time of the interview will still have work in 4 weeks whilst people who had lost their work may or may not be able to return to work. The function **check_return** allows us to simultaneously perform these checks and use binary encoding to encode this feature. "
   ]
  },
  {
   "cell_type": "code",
   "execution_count": 90,
   "metadata": {},
   "outputs": [],
   "source": [
    "def check_return(labour_in_apr,  return_to_work):\n",
    "    if labour_in_apr == 1:\n",
    "        return 1\n",
    "    else:\n",
    "        if return_to_work=='Yes':\n",
    "            return 1\n",
    "    return 0\n",
    "\n",
    "lbdf.loc[:,'return_to_work'] = np.vectorize(check_return)(lbdf['labour_in_apr'], lbdf['return_to_work'])"
   ]
  },
  {
   "cell_type": "markdown",
   "metadata": {},
   "source": [
    "Next, we will try to impute values for the usual_work feature. Let us first examine what are some possible values for this question."
   ]
  },
  {
   "cell_type": "code",
   "execution_count": 91,
   "metadata": {},
   "outputs": [
    {
     "data": {
      "text/plain": [
       "Elementary occupations                                551\n",
       "Service and sales workers                             412\n",
       "Professionals                                         315\n",
       "Clerical support workers                              246\n",
       "Craft and related trades workers                      193\n",
       "Plant and machine operators, and assemblers           182\n",
       "Technicians and associate professionals               169\n",
       "Managers                                              100\n",
       "Not Employed                                           81\n",
       "Skilled agricultural, forestry and fishery workers     39\n",
       "Self-Employed                                          13\n",
       "Not applicable                                         10\n",
       "Armed forces occupations                                2\n",
       "Name: usual_work, dtype: int64"
      ]
     },
     "execution_count": 91,
     "metadata": {},
     "output_type": "execute_result"
    }
   ],
   "source": [
    "lbdf['usual_work'].value_counts()"
   ]
  },
  {
   "cell_type": "markdown",
   "metadata": {},
   "source": [
    "We can see that there is an option for \"Not Employed\". We can leverage the fact that we know the work status of our respondents before lockdown (stored in labour_in_feb) so we can assign these respondents with 'Not Employed' for their usual work. "
   ]
  },
  {
   "cell_type": "code",
   "execution_count": 92,
   "metadata": {},
   "outputs": [],
   "source": [
    "lbdf.loc[lbdf['labour_in_feb']==0,'usual_work'] = 'Not Employed'"
   ]
  },
  {
   "cell_type": "markdown",
   "metadata": {},
   "source": [
    "Next, by examining the possible options for the main_form_work feature we can see that several repsondents answered \"Self-employed\" or \"I run a business\""
   ]
  },
  {
   "cell_type": "code",
   "execution_count": 94,
   "metadata": {},
   "outputs": [
    {
     "data": {
      "text/plain": [
       "Regular job         1581\n",
       "Casual work          628\n",
       "Self-employed        307\n",
       "I run a business      86\n",
       "Name: main_form_work, dtype: int64"
      ]
     },
     "execution_count": 94,
     "metadata": {},
     "output_type": "execute_result"
    }
   ],
   "source": [
    "lbdf['main_form_work'].value_counts()"
   ]
  },
  {
   "cell_type": "markdown",
   "metadata": {},
   "source": [
    "Below we can see that some respondents who answered the main_form_work question have missing values for usual_work. "
   ]
  },
  {
   "cell_type": "code",
   "execution_count": 95,
   "metadata": {},
   "outputs": [
    {
     "data": {
      "text/html": [
       "<div>\n",
       "<style scoped>\n",
       "    .dataframe tbody tr th:only-of-type {\n",
       "        vertical-align: middle;\n",
       "    }\n",
       "\n",
       "    .dataframe tbody tr th {\n",
       "        vertical-align: top;\n",
       "    }\n",
       "\n",
       "    .dataframe thead th {\n",
       "        text-align: right;\n",
       "    }\n",
       "</style>\n",
       "<table border=\"1\" class=\"dataframe\">\n",
       "  <thead>\n",
       "    <tr style=\"text-align: right;\">\n",
       "      <th></th>\n",
       "      <th>main_form_work</th>\n",
       "      <th>usual_work</th>\n",
       "    </tr>\n",
       "  </thead>\n",
       "  <tbody>\n",
       "    <tr>\n",
       "      <th>7049</th>\n",
       "      <td>Regular job</td>\n",
       "      <td>Not Employed</td>\n",
       "    </tr>\n",
       "    <tr>\n",
       "      <th>7050</th>\n",
       "      <td>Casual work</td>\n",
       "      <td>Elementary occupations</td>\n",
       "    </tr>\n",
       "    <tr>\n",
       "      <th>7052</th>\n",
       "      <td>I run a business</td>\n",
       "      <td>NaN</td>\n",
       "    </tr>\n",
       "    <tr>\n",
       "      <th>7059</th>\n",
       "      <td>Regular job</td>\n",
       "      <td>Not Employed</td>\n",
       "    </tr>\n",
       "    <tr>\n",
       "      <th>7066</th>\n",
       "      <td>Regular job</td>\n",
       "      <td>Not Employed</td>\n",
       "    </tr>\n",
       "  </tbody>\n",
       "</table>\n",
       "</div>"
      ],
      "text/plain": [
       "        main_form_work              usual_work\n",
       "7049       Regular job            Not Employed\n",
       "7050       Casual work  Elementary occupations\n",
       "7052  I run a business                     NaN\n",
       "7059       Regular job            Not Employed\n",
       "7066       Regular job            Not Employed"
      ]
     },
     "execution_count": 95,
     "metadata": {},
     "output_type": "execute_result"
    }
   ],
   "source": [
    "lbdf.loc[lbdf['main_form_work'].notnull(),['main_form_work','usual_work']].tail()"
   ]
  },
  {
   "cell_type": "markdown",
   "metadata": {},
   "source": [
    "We can use our prior knowledge to deduce that if they answered 'Self-employed' or 'I run a business' for main_form_work that their usual_work can be set as \"Self-Employed\". We can also drop main_form_work as it has now become a less useful and redundant feature."
   ]
  },
  {
   "cell_type": "code",
   "execution_count": 96,
   "metadata": {},
   "outputs": [],
   "source": [
    "lbdf.loc[(lbdf['main_form_work']=='Self-employed')|(lbdf['main_form_work']=='I run a business'),'usual_work']= 'Self-Employed'\n",
    "lbdf.drop('main_form_work', axis=1, inplace=True)"
   ]
  },
  {
   "cell_type": "markdown",
   "metadata": {},
   "source": [
    "For the remaining missing values we will create a new option for usual_work called 'Unknown'."
   ]
  },
  {
   "cell_type": "code",
   "execution_count": 97,
   "metadata": {},
   "outputs": [],
   "source": [
    "lbdf.loc[lbdf['usual_work'].isnull(), 'usual_work'] = 'Unknown'"
   ]
  },
  {
   "cell_type": "markdown",
   "metadata": {},
   "source": [
    "We also need to ensure that data is transformed to be in the correct type which can be done as follows:"
   ]
  },
  {
   "cell_type": "code",
   "execution_count": 115,
   "metadata": {},
   "outputs": [
    {
     "data": {
      "text/html": [
       "<div>\n",
       "<style scoped>\n",
       "    .dataframe tbody tr th:only-of-type {\n",
       "        vertical-align: middle;\n",
       "    }\n",
       "\n",
       "    .dataframe tbody tr th {\n",
       "        vertical-align: top;\n",
       "    }\n",
       "\n",
       "    .dataframe thead th {\n",
       "        text-align: right;\n",
       "    }\n",
       "</style>\n",
       "<table border=\"1\" class=\"dataframe\">\n",
       "  <thead>\n",
       "    <tr style=\"text-align: right;\">\n",
       "      <th></th>\n",
       "      <th>0</th>\n",
       "    </tr>\n",
       "  </thead>\n",
       "  <tbody>\n",
       "    <tr>\n",
       "      <th>labour_in_feb</th>\n",
       "      <td>int64</td>\n",
       "    </tr>\n",
       "    <tr>\n",
       "      <th>work_days_feb</th>\n",
       "      <td>float64</td>\n",
       "    </tr>\n",
       "    <tr>\n",
       "      <th>work_hours_feb</th>\n",
       "      <td>float64</td>\n",
       "    </tr>\n",
       "    <tr>\n",
       "      <th>take_home_pay_feb</th>\n",
       "      <td>float64</td>\n",
       "    </tr>\n",
       "    <tr>\n",
       "      <th>labour_in_apr</th>\n",
       "      <td>int64</td>\n",
       "    </tr>\n",
       "    <tr>\n",
       "      <th>work_days_apr</th>\n",
       "      <td>float64</td>\n",
       "    </tr>\n",
       "    <tr>\n",
       "      <th>work_hours_apr</th>\n",
       "      <td>float64</td>\n",
       "    </tr>\n",
       "    <tr>\n",
       "      <th>take_home_pay_apr</th>\n",
       "      <td>float64</td>\n",
       "    </tr>\n",
       "    <tr>\n",
       "      <th>lost_labour</th>\n",
       "      <td>int64</td>\n",
       "    </tr>\n",
       "    <tr>\n",
       "      <th>return_to_work</th>\n",
       "      <td>int64</td>\n",
       "    </tr>\n",
       "    <tr>\n",
       "      <th>usual_work</th>\n",
       "      <td>object</td>\n",
       "    </tr>\n",
       "  </tbody>\n",
       "</table>\n",
       "</div>"
      ],
      "text/plain": [
       "                         0\n",
       "labour_in_feb        int64\n",
       "work_days_feb      float64\n",
       "work_hours_feb     float64\n",
       "take_home_pay_feb  float64\n",
       "labour_in_apr        int64\n",
       "work_days_apr      float64\n",
       "work_hours_apr     float64\n",
       "take_home_pay_apr  float64\n",
       "lost_labour          int64\n",
       "return_to_work       int64\n",
       "usual_work          object"
      ]
     },
     "execution_count": 115,
     "metadata": {},
     "output_type": "execute_result"
    }
   ],
   "source": [
    "lbdf = lbdf.astype({\n",
    "    'work_days_feb': 'float64',\n",
    "    'work_hours_feb': 'float64',\n",
    "    'take_home_pay_feb': 'float64',\n",
    "    'work_days_apr' : 'float64',\n",
    "    'work_hours_apr' : 'float64',\n",
    "    'take_home_pay_apr' : 'float64'\n",
    "})\n",
    "\n",
    "lbdf.dtypes.to_frame()"
   ]
  },
  {
   "cell_type": "markdown",
   "metadata": {},
   "source": [
    "---\n",
    "### 2.4 Exploratory Data Analysis\n",
    "---"
   ]
  },
  {
   "cell_type": "markdown",
   "metadata": {},
   "source": [
    "To begin the EDA of the Labour features let us first look at how COVID-19 and the mandated lockdown directly effected the labour in the country by comparing what percentage of our sample had work in February to what percentage had work in April:"
   ]
  },
  {
   "cell_type": "code",
   "execution_count": 116,
   "metadata": {
    "scrolled": false
   },
   "outputs": [
    {
     "data": {
      "image/png": "[encoded data removed]",
      "text/plain": [
       "<Figure size 576x576 with 2 Axes>"
      ]
     },
     "metadata": {},
     "output_type": "display_data"
    }
   ],
   "source": [
    "#Create subplots for comparing two figures\n",
    "fig, [ax1,ax2] = plt.subplots(1,2, figsize=(8,8))\n",
    "\n",
    "#Create a pie chart showing the percentage of the sample which had work in February \n",
    "lab_feb = lbdf['labour_in_feb'].value_counts()/len(lbdf)*100\n",
    "ax1.pie(lab_feb, labels= ['No','Yes'], autopct='%1.2f%%',startangle = 90,explode = [0,0.1],shadow = True)\n",
    "ax1.set_title('Labour in February')\n",
    "\n",
    "#Create a pie chart showing the percentage of the sample which had work in April\n",
    "lab_apr = lbdf['labour_in_apr'].value_counts()/len(lbdf)*100\n",
    "ax2.pie(lab_apr, labels= ['No','Yes'], autopct='%1.2f%%',startangle = 90,explode = [0,0.1],shadow = True)\n",
    "ax2.set_title('Labour in April')\n",
    "\n",
    "plt.tight_layout()\n",
    "plt.show()"
   ]
  },
  {
   "cell_type": "markdown",
   "metadata": {},
   "source": [
    "As we can see Labour in the country was **adversely** effected with roughly 20% of our sample losing their opportunity to work between February and April. Of the respondents who did lose their opportunity to work between February and April, let us examine how many of them said that they would be able to return to work in the 4 weeks following their interview."
   ]
  },
  {
   "cell_type": "code",
   "execution_count": 117,
   "metadata": {},
   "outputs": [
    {
     "data": {
      "image/png": "[encoded data removed]",
      "text/plain": [
       "<Figure size 432x432 with 1 Axes>"
      ]
     },
     "metadata": {},
     "output_type": "display_data"
    }
   ],
   "source": [
    "#Select respondents who lost their work between February and April\n",
    "lost_labour = lbdf.loc[lbdf['lost_labour']==1, 'return_to_work']\n",
    "\n",
    "#Calculate what percentage of them have work to return to \n",
    "return_to_job = lost_labour.value_counts()/ len(lost_labour)*100\n",
    "\n",
    "#Plot pie chart\n",
    "return_to_job.plot(kind='pie',labels=['No','Yes'], explode = [0.1,0], figsize= (6,6), autopct='%1.2f%%', startangle = 90 , ylabel=\"\",\n",
    "            shadow = True)\n",
    "plt.title(\"Work to return to in the 4 weeks following interview\")\n",
    "plt.show()"
   ]
  },
  {
   "cell_type": "markdown",
   "metadata": {},
   "source": [
    "Looking at this plot and the previous two plots we can see that not only was their a drastic reduction in the number of respondents who had some sort of labour between February and April, but also of the respondents who lost their opportunity to work a substantial amount said they did not have any work to return to."
   ]
  },
  {
   "cell_type": "markdown",
   "metadata": {},
   "source": [
    "Next let us explore how COVID-19 effected the amount of time people spent working. First we can explore how the number of work days per week was effected. This is done by first selecting the respondents who had work in February and calculating the Probability Mass Function (PMF) for the number of days they worked per week. We can repeat this for the respondents who had work in April and then compare the two PMFs. This is done because the two sample sizes are different so just comparing their histograms would lead to inaccurate conclusions. "
   ]
  },
  {
   "cell_type": "code",
   "execution_count": 118,
   "metadata": {
    "scrolled": false
   },
   "outputs": [
    {
     "data": {
      "image/png": "[encoded data removed]",
      "text/plain": [
       "<Figure size 720x432 with 1 Axes>"
      ]
     },
     "metadata": {
      "needs_background": "light"
     },
     "output_type": "display_data"
    }
   ],
   "source": [
    "#Calculate PMF for days worked per week in February \n",
    "work_days_feb = lbdf.loc[lbdf['labour_in_feb']==1,'work_days_feb']\n",
    "work_days_feb = work_days_feb.value_counts().sort_index()/len(work_days_feb)\n",
    "\n",
    "#Calculate PMF for days worked per week in April\n",
    "work_days_apr = lbdf.loc[lbdf['labour_in_apr']==1,'work_days_apr']\n",
    "work_days_apr = work_days_apr.value_counts().sort_index()/len(work_days_apr)\n",
    "\n",
    "#Plot two PMFs on the same axis to compare them \n",
    "plt.figure(figsize=(10,6))\n",
    "plt.bar(x = work_days_feb.index, height = work_days_feb.values, alpha=0.5, label = 'February')\n",
    "plt.bar(x = work_days_apr.index, height = work_days_apr.values, alpha=0.5, label = 'April')\n",
    "plt.legend(loc=2)\n",
    "plt.title('Number of Work Days per Week')\n",
    "plt.xlabel('Number of Work Days')\n",
    "plt.ylabel('PMF')\n",
    "plt.show()"
   ]
  },
  {
   "cell_type": "markdown",
   "metadata": {},
   "source": [
    "As we can see from the plot above, there was defiitely a decrease in the number of days people were working per week. Next let us explore how the number of hours people were working per day was effected. This is done using a similar procedure to the one implemented to analyze the number of work days per week above."
   ]
  },
  {
   "cell_type": "code",
   "execution_count": 119,
   "metadata": {
    "scrolled": false
   },
   "outputs": [
    {
     "data": {
      "image/png": "[encoded data removed]",
      "text/plain": [
       "<Figure size 1080x360 with 1 Axes>"
      ]
     },
     "metadata": {
      "needs_background": "light"
     },
     "output_type": "display_data"
    }
   ],
   "source": [
    "#Calculate PMF for hours worked per day in February \n",
    "work_hours_feb = lbdf.loc[lbdf['labour_in_feb']==1,'work_hours_feb']\n",
    "work_hours_feb = work_hours_feb.value_counts().sort_index()/len(work_hours_feb)\n",
    "\n",
    "#Calculate PMF for hours worked per day in April\n",
    "work_hours_apr = lbdf.loc[lbdf['labour_in_apr']==1,'work_hours_apr']\n",
    "work_hours_apr = work_hours_apr.value_counts().sort_index()/len(work_hours_apr)\n",
    "\n",
    "#Plot two PMFs on the same axis to compare them\n",
    "plt.figure(figsize=(15,5))\n",
    "plt.bar(x = work_hours_feb.index, height = work_hours_feb.values, alpha=0.5, label = 'February')\n",
    "plt.bar(x = work_hours_apr.index, height = work_hours_apr.values, alpha=0.5, label = 'April')\n",
    "plt.legend(loc=2)\n",
    "plt.title('Number of Hours per Work Day')\n",
    "plt.xlabel('Number of Work Hours')\n",
    "plt.ylabel('PMF')\n",
    "plt.show()\n"
   ]
  },
  {
   "cell_type": "markdown",
   "metadata": {},
   "source": [
    "We can see that the number of hours people spent working each day also decreased overall but their was as instance (12 hours) which indicate that people who were working in April ended up working for longer hours. This could be a result of working from home as the lines between time allocated to work and time allocated for individuals' private lives became blurred. "
   ]
  },
  {
   "cell_type": "markdown",
   "metadata": {},
   "source": [
    "The next aspect we can explore is how COVID19 effected the income of respondents. We can look at the distribution of pay for respondents who had work in February and the distribution of pay for respondents who had work in April."
   ]
  },
  {
   "cell_type": "code",
   "execution_count": 120,
   "metadata": {},
   "outputs": [
    {
     "data": {
      "image/png": "[encoded data removed]",
      "text/plain": [
       "<Figure size 720x432 with 1 Axes>"
      ]
     },
     "metadata": {
      "needs_background": "light"
     },
     "output_type": "display_data"
    }
   ],
   "source": [
    "pay_in_feb = lbdf.loc[lbdf['labour_in_feb']==1,'take_home_pay_feb']\n",
    "pay_in_apr = lbdf.loc[lbdf['labour_in_apr']==1,'take_home_pay_apr']\n",
    "\n",
    "#Due to the presence of several outliers, the original distirbution is heavily skewed \n",
    "#By taking a subset of our data which lies within 1.5 * Interquartile Range of the Median we are able \n",
    "#To create a better visual representation of the take home pay distribution \n",
    "pay_in_feb = pay_in_feb[pay_in_feb<pay_in_feb.quantile(0.75)]\n",
    "pay_in_apr = pay_in_feb[pay_in_feb<pay_in_feb.quantile(0.75)]\n",
    "\n",
    "#Now the creation of a dataframe allows us to use Seaborns boxplot functionality \n",
    "feb_df = pd.DataFrame()\n",
    "feb_df['Pay'] = pay_in_feb\n",
    "feb_df['Month'] = 'Feb'\n",
    "apr_df = pd.DataFrame()\n",
    "apr_df['Pay'] = pay_in_apr\n",
    "apr_df['Month'] = 'Apr'\n",
    "pay_df = pd.concat([feb_df,apr_df])\n",
    "\n",
    "#Creating the Plot\n",
    "plt.figure(figsize=(10,6))\n",
    "sns.boxplot(y = 'Month', x = 'Pay', data = pay_df)\n",
    "plt.title('Distribution of Take Home Pay')\n",
    "plt.show()"
   ]
  },
  {
   "cell_type": "markdown",
   "metadata": {},
   "source": [
    "We can see that the distribution for take home pay in February has a higher median and greater variance than the distribution of take home pay in April, the outliers that were identified when creating this plot will need to be dealt with at a later stage, prior to constructing a model using this feature. Lastly let us explore the usual work done by respondents in our sample."
   ]
  },
  {
   "cell_type": "code",
   "execution_count": 37,
   "metadata": {},
   "outputs": [
    {
     "data": {
      "image/png": "[encoded data removed]",
      "text/plain": [
       "<Figure size 720x432 with 1 Axes>"
      ]
     },
     "metadata": {
      "needs_background": "light"
     },
     "output_type": "display_data"
    }
   ],
   "source": [
    "#We only want to look at respondents who were employed and who answered the question of what work do they usually do\n",
    "answered_usual_work = lbdf[(lbdf['usual_work']!='Not Employed')&(lbdf['usual_work']!='Unknown')]\n",
    "\n",
    "#Histogram of Usual Work letting us examine the distribution\n",
    "usual_work = answered_usual_work['usual_work'].value_counts().sort_values(ascending=False)\n",
    "\n",
    "#Plotting the Histogram \n",
    "plt.figure(figsize=(10,6))\n",
    "sns.barplot(y = usual_work.index, x = usual_work.values)\n",
    "plt.xlabel('Count')\n",
    "plt.title(\"Usual Work\")\n",
    "plt.show()"
   ]
  },
  {
   "cell_type": "markdown",
   "metadata": {},
   "source": [
    "# Labour Model"
   ]
  },
  {
   "cell_type": "markdown",
   "metadata": {},
   "source": [
    "In _The labour market and poverty impacts of COVID-19 in South Africa_ Jain _et al_. identified that \"Women, manual workers and those at the bottom half of the income distribution\" were at the greatest risk of losing their employment. Ranchhod and Daniels found in their paper _Labour market dynamics in the time of COVID-19_ that \"Women, African/Blacks, youth and the less educated groups\" were at the greatest disadvantage. We explore each of these contributing factors, to shed light on the effect they had on the loss of labour during the initial stages of COVID-19 in South Africa and determine which factors contributed the most to whether or not an individual would lose their job. The following features from the dataset will be used to represent each of these factors:\n",
    "* **Youth:** We will experiment with models using age as both a continuous and a categorical feature. For statistical purposes the [United Nations](https://www.un.org/esa/socdev/documents/youth/fact-sheets/youth-definition.pdf) defines youth as any individual between the ages of 15-24. We have seen in our EDA that the youngest respondent is 18 years old, so our Youth variable will simply use the <code>age</code> feature and indicate if an individual is older than 24.\n",
    "\n",
    "\n",
    "* **Woman:** To indicate whether or not a respondent is a woman, we will one-hot encode the <code>gender</code> feature.\n",
    "\n",
    "\n",
    "\n",
    "* **Income:** In our EDA we identified that the income distribution contains several outliers. To remove these outliers for the modelling process we will drop the top 5% of earners from our data. We will use the <code>take_home_pay_feb</code> feature to capture a respondents income. This feature will also be scaled using minimum-maximum normalization to ensure it's coefficient in the regression model is in a similar scale with the other coefficients. \n",
    "\n",
    "\n",
    "\n",
    "* **Education:** In the EDA phase we discovered that the <code>highest_grade</code> variable contains both standard grades (Grade 1 - Grade 12) as well as other qualifications such as the NCV and the NTC. To incorporate this factor into our model we will create a new binary categorical feature, \"Matric\", which indicates whether or not a respondent's highest grade was Grade 12. We also incorporate the <code>tertiary_edu</code> feature to further represent a respondents education. As previously noted, this variable indicates whether the respondent has any tertiary qualifications such as diplomas, certificates or degrees.\n",
    "\n",
    "\n",
    "* **African/Black:** This factor is incorporated by utilizing the <code>race</code> feature from the original dataset.\n",
    "\n",
    "\n",
    "It is important to note that because our investigation pertains to the loss of labour, we will be using a subset of our original dataset consisting only of respondents who had some form of work, permanent or part-time, in the beginning of February 2020. These respondents can be selected using the <code>labour_in_feb</code> variable as outlined above. \n",
    "\n",
    "We make the assumption that if a respondent did not answer any of the questions relating to work, resulting in null values in the feature columns, that they were unemployed in the beginning of February 2020. We also assume that if a respondent did not answer the question concerning qualifications, that they do not have a tertiary education. "
   ]
  },
  {
   "cell_type": "code",
   "execution_count": 124,
   "metadata": {},
   "outputs": [
    {
     "data": {
      "text/html": [
       "<div>\n",
       "<style scoped>\n",
       "    .dataframe tbody tr th:only-of-type {\n",
       "        vertical-align: middle;\n",
       "    }\n",
       "\n",
       "    .dataframe tbody tr th {\n",
       "        vertical-align: top;\n",
       "    }\n",
       "\n",
       "    .dataframe thead th {\n",
       "        text-align: right;\n",
       "    }\n",
       "</style>\n",
       "<table border=\"1\" class=\"dataframe\">\n",
       "  <thead>\n",
       "    <tr style=\"text-align: right;\">\n",
       "      <th></th>\n",
       "      <th>age</th>\n",
       "      <th>gender</th>\n",
       "      <th>race</th>\n",
       "      <th>highest_grade</th>\n",
       "      <th>tertiary_edu</th>\n",
       "      <th>province_current</th>\n",
       "      <th>province_moved</th>\n",
       "      <th>province_before</th>\n",
       "      <th>province_during</th>\n",
       "      <th>labour_in_feb</th>\n",
       "      <th>work_days_feb</th>\n",
       "      <th>work_hours_feb</th>\n",
       "      <th>take_home_pay_feb</th>\n",
       "      <th>labour_in_apr</th>\n",
       "      <th>work_days_apr</th>\n",
       "      <th>work_hours_apr</th>\n",
       "      <th>take_home_pay_apr</th>\n",
       "      <th>lost_labour</th>\n",
       "      <th>return_to_work</th>\n",
       "      <th>usual_work</th>\n",
       "    </tr>\n",
       "  </thead>\n",
       "  <tbody>\n",
       "    <tr>\n",
       "      <th>0</th>\n",
       "      <td>39.0</td>\n",
       "      <td>Man</td>\n",
       "      <td>White</td>\n",
       "      <td>Grade 9</td>\n",
       "      <td>No</td>\n",
       "      <td>Gauteng</td>\n",
       "      <td>No</td>\n",
       "      <td>NaN</td>\n",
       "      <td>NaN</td>\n",
       "      <td>1</td>\n",
       "      <td>NaN</td>\n",
       "      <td>NaN</td>\n",
       "      <td>180.0</td>\n",
       "      <td>0</td>\n",
       "      <td>0.0</td>\n",
       "      <td>0.0</td>\n",
       "      <td>0.0</td>\n",
       "      <td>1</td>\n",
       "      <td>0</td>\n",
       "      <td>Unknown</td>\n",
       "    </tr>\n",
       "    <tr>\n",
       "      <th>1</th>\n",
       "      <td>72.0</td>\n",
       "      <td>Woman</td>\n",
       "      <td>Asian/Indian</td>\n",
       "      <td>Grade 0</td>\n",
       "      <td>NaN</td>\n",
       "      <td>KwaZulu-Natal</td>\n",
       "      <td>No</td>\n",
       "      <td>NaN</td>\n",
       "      <td>NaN</td>\n",
       "      <td>0</td>\n",
       "      <td>0.0</td>\n",
       "      <td>0.0</td>\n",
       "      <td>0.0</td>\n",
       "      <td>0</td>\n",
       "      <td>0.0</td>\n",
       "      <td>0.0</td>\n",
       "      <td>0.0</td>\n",
       "      <td>0</td>\n",
       "      <td>0</td>\n",
       "      <td>Not Employed</td>\n",
       "    </tr>\n",
       "    <tr>\n",
       "      <th>2</th>\n",
       "      <td>30.0</td>\n",
       "      <td>Woman</td>\n",
       "      <td>African/Black</td>\n",
       "      <td>Grade 10</td>\n",
       "      <td>Yes</td>\n",
       "      <td>Gauteng</td>\n",
       "      <td>No</td>\n",
       "      <td>NaN</td>\n",
       "      <td>NaN</td>\n",
       "      <td>0</td>\n",
       "      <td>0.0</td>\n",
       "      <td>0.0</td>\n",
       "      <td>0.0</td>\n",
       "      <td>0</td>\n",
       "      <td>0.0</td>\n",
       "      <td>0.0</td>\n",
       "      <td>0.0</td>\n",
       "      <td>0</td>\n",
       "      <td>0</td>\n",
       "      <td>Not Employed</td>\n",
       "    </tr>\n",
       "    <tr>\n",
       "      <th>3</th>\n",
       "      <td>48.0</td>\n",
       "      <td>Woman</td>\n",
       "      <td>African/Black</td>\n",
       "      <td>Grade 10</td>\n",
       "      <td>No</td>\n",
       "      <td>Gauteng</td>\n",
       "      <td>No</td>\n",
       "      <td>NaN</td>\n",
       "      <td>NaN</td>\n",
       "      <td>1</td>\n",
       "      <td>3.0</td>\n",
       "      <td>5.0</td>\n",
       "      <td>900.0</td>\n",
       "      <td>0</td>\n",
       "      <td>0.0</td>\n",
       "      <td>0.0</td>\n",
       "      <td>0.0</td>\n",
       "      <td>1</td>\n",
       "      <td>1</td>\n",
       "      <td>Elementary occupations</td>\n",
       "    </tr>\n",
       "    <tr>\n",
       "      <th>4</th>\n",
       "      <td>49.0</td>\n",
       "      <td>Woman</td>\n",
       "      <td>African/Black</td>\n",
       "      <td>Grade 9</td>\n",
       "      <td>No</td>\n",
       "      <td>Gauteng</td>\n",
       "      <td>No</td>\n",
       "      <td>NaN</td>\n",
       "      <td>NaN</td>\n",
       "      <td>0</td>\n",
       "      <td>0.0</td>\n",
       "      <td>0.0</td>\n",
       "      <td>0.0</td>\n",
       "      <td>0</td>\n",
       "      <td>0.0</td>\n",
       "      <td>0.0</td>\n",
       "      <td>0.0</td>\n",
       "      <td>0</td>\n",
       "      <td>0</td>\n",
       "      <td>Not Employed</td>\n",
       "    </tr>\n",
       "  </tbody>\n",
       "</table>\n",
       "</div>"
      ],
      "text/plain": [
       "    age gender           race highest_grade tertiary_edu province_current  \\\n",
       "0  39.0    Man          White       Grade 9           No          Gauteng   \n",
       "1  72.0  Woman   Asian/Indian       Grade 0          NaN    KwaZulu-Natal   \n",
       "2  30.0  Woman  African/Black      Grade 10          Yes          Gauteng   \n",
       "3  48.0  Woman  African/Black      Grade 10           No          Gauteng   \n",
       "4  49.0  Woman  African/Black       Grade 9           No          Gauteng   \n",
       "\n",
       "  province_moved province_before province_during  labour_in_feb  \\\n",
       "0             No             NaN             NaN              1   \n",
       "1             No             NaN             NaN              0   \n",
       "2             No             NaN             NaN              0   \n",
       "3             No             NaN             NaN              1   \n",
       "4             No             NaN             NaN              0   \n",
       "\n",
       "   work_days_feb  work_hours_feb  take_home_pay_feb  labour_in_apr  \\\n",
       "0            NaN             NaN              180.0              0   \n",
       "1            0.0             0.0                0.0              0   \n",
       "2            0.0             0.0                0.0              0   \n",
       "3            3.0             5.0              900.0              0   \n",
       "4            0.0             0.0                0.0              0   \n",
       "\n",
       "   work_days_apr  work_hours_apr  take_home_pay_apr  lost_labour  \\\n",
       "0            0.0             0.0                0.0            1   \n",
       "1            0.0             0.0                0.0            0   \n",
       "2            0.0             0.0                0.0            0   \n",
       "3            0.0             0.0                0.0            1   \n",
       "4            0.0             0.0                0.0            0   \n",
       "\n",
       "   return_to_work              usual_work  \n",
       "0               0                 Unknown  \n",
       "1               0            Not Employed  \n",
       "2               0            Not Employed  \n",
       "3               1  Elementary occupations  \n",
       "4               0            Not Employed  "
      ]
     },
     "execution_count": 124,
     "metadata": {},
     "output_type": "execute_result"
    }
   ],
   "source": [
    "# Concatenating demographics and labour dataframes as model will use features from both \n",
    "data = pd.concat([demdf,lbdf],axis=1)\n",
    "data.head()"
   ]
  },
  {
   "cell_type": "code",
   "execution_count": 125,
   "metadata": {},
   "outputs": [
    {
     "data": {
      "text/html": [
       "<div>\n",
       "<style scoped>\n",
       "    .dataframe tbody tr th:only-of-type {\n",
       "        vertical-align: middle;\n",
       "    }\n",
       "\n",
       "    .dataframe tbody tr th {\n",
       "        vertical-align: top;\n",
       "    }\n",
       "\n",
       "    .dataframe thead th {\n",
       "        text-align: right;\n",
       "    }\n",
       "</style>\n",
       "<table border=\"1\" class=\"dataframe\">\n",
       "  <thead>\n",
       "    <tr style=\"text-align: right;\">\n",
       "      <th></th>\n",
       "      <th>Age</th>\n",
       "      <th>Youth</th>\n",
       "      <th>Woman</th>\n",
       "      <th>Income</th>\n",
       "      <th>Matric</th>\n",
       "      <th>Tertiary_edu</th>\n",
       "      <th>Black</th>\n",
       "      <th>LostLabour</th>\n",
       "    </tr>\n",
       "  </thead>\n",
       "  <tbody>\n",
       "    <tr>\n",
       "      <th>0</th>\n",
       "      <td>39.0</td>\n",
       "      <td>0</td>\n",
       "      <td>0</td>\n",
       "      <td>0.008654</td>\n",
       "      <td>0</td>\n",
       "      <td>0</td>\n",
       "      <td>0</td>\n",
       "      <td>1</td>\n",
       "    </tr>\n",
       "    <tr>\n",
       "      <th>3</th>\n",
       "      <td>48.0</td>\n",
       "      <td>0</td>\n",
       "      <td>1</td>\n",
       "      <td>0.043269</td>\n",
       "      <td>0</td>\n",
       "      <td>0</td>\n",
       "      <td>1</td>\n",
       "      <td>1</td>\n",
       "    </tr>\n",
       "    <tr>\n",
       "      <th>9</th>\n",
       "      <td>31.0</td>\n",
       "      <td>0</td>\n",
       "      <td>0</td>\n",
       "      <td>0.384615</td>\n",
       "      <td>0</td>\n",
       "      <td>0</td>\n",
       "      <td>1</td>\n",
       "      <td>1</td>\n",
       "    </tr>\n",
       "    <tr>\n",
       "      <th>10</th>\n",
       "      <td>48.0</td>\n",
       "      <td>0</td>\n",
       "      <td>1</td>\n",
       "      <td>0.221154</td>\n",
       "      <td>1</td>\n",
       "      <td>1</td>\n",
       "      <td>1</td>\n",
       "      <td>0</td>\n",
       "    </tr>\n",
       "    <tr>\n",
       "      <th>20</th>\n",
       "      <td>40.0</td>\n",
       "      <td>0</td>\n",
       "      <td>1</td>\n",
       "      <td>0.168269</td>\n",
       "      <td>0</td>\n",
       "      <td>0</td>\n",
       "      <td>1</td>\n",
       "      <td>0</td>\n",
       "    </tr>\n",
       "  </tbody>\n",
       "</table>\n",
       "</div>"
      ],
      "text/plain": [
       "     Age  Youth  Woman    Income  Matric  Tertiary_edu  Black  LostLabour\n",
       "0   39.0      0      0  0.008654       0             0      0           1\n",
       "3   48.0      0      1  0.043269       0             0      1           1\n",
       "9   31.0      0      0  0.384615       0             0      1           1\n",
       "10  48.0      0      1  0.221154       1             1      1           0\n",
       "20  40.0      0      1  0.168269       0             0      1           0"
      ]
     },
     "execution_count": 125,
     "metadata": {},
     "output_type": "execute_result"
    }
   ],
   "source": [
    "# Selecting the respondents who had some form of work in the beginning of February 2020.\n",
    "data = data[data[\"labour_in_feb\"]==1]\n",
    "\n",
    "# Data transformations as outlined above. \n",
    "def check_age(age):\n",
    "    if age<25: return 1\n",
    "    else: return 0 \n",
    "\n",
    "def check_gender(gender):\n",
    "    if gender == \"Woman\": return 1\n",
    "    else: return 0\n",
    "\n",
    "def check_matric(highest_grade):\n",
    "    if highest_grade == \"Grade 12\": return 1\n",
    "    else: return 0\n",
    "\n",
    "def check_tertedu(tertiary_edu):\n",
    "    if tertiary_edu == \"Yes\" : return 1 \n",
    "    else: return 0 \n",
    "    \n",
    "def check_race(race):\n",
    "    if race == \"African/Black\": return 1\n",
    "    else: return 0 \n",
    "\n",
    "# Create dataframe using transformed varaibles \n",
    "model = pd.DataFrame()\n",
    "model[\"Age\"] = data[\"age\"]\n",
    "model[\"Youth\"] = np.vectorize(check_age)(data[\"age\"])\n",
    "model[\"Woman\"] = np.vectorize(check_gender)(data[\"gender\"])\n",
    "model[\"Income\"] = data[\"take_home_pay_feb\"]\n",
    "model[\"Matric\"] = model[\"Matric\"] = np.vectorize(check_matric)(data[\"highest_grade\"])\n",
    "model[\"Tertiary_edu\"] = np.vectorize(check_tertedu)(data[\"tertiary_edu\"])\n",
    "model[\"Black\"] = np.vectorize(check_race)(data[\"race\"])\n",
    "model[\"LostLabour\"] = data[\"lost_labour\"]\n",
    "\n",
    "# Remove missing values from the new dataframe \n",
    "model = model.dropna()\n",
    "\n",
    "# Removing Income outliers\n",
    "model = model[model[\"Income\"]<np.percentile(a = model[\"Income\"], q =95)]\n",
    "\n",
    "# Normalize Income \n",
    "model[\"Income\"] = model[\"Income\"] = (model[\"Income\"]-model[\"Income\"].min())/ (model[\"Income\"].max()-model[\"Income\"].min())\n",
    "\n",
    "model.head()"
   ]
  },
  {
   "cell_type": "markdown",
   "metadata": {},
   "source": [
    "First we will split the data into a training set, which will be used to select a final model and a test set, which will be used to evaluate the final model. The train-test split we use is a 70%-30% split, respectively. We will utilize the <code>stratify</code> command to ensure the train and test data both have similar distributions of the response variable categories."
   ]
  },
  {
   "cell_type": "code",
   "execution_count": 126,
   "metadata": {},
   "outputs": [],
   "source": [
    "# Splitting the data into the explanatory varaibles X and the response variable y \n",
    "X = model.drop(\"LostLabour\", axis=1)\n",
    "y = model[\"LostLabour\"]\n",
    "\n",
    "# Split the data into a 70% training set and a 30% testing split\n",
    "X_train, X_test, y_train, y_test = train_test_split(X, y, test_size=0.3, random_state=42, stratify= y)\n",
    "\n",
    "# Create the model_train and model_test data by concatenating the X and y variables. \n",
    "model_train = pd.concat([X_train, y_train], axis =1)\n",
    "model_test = pd.concat([X_test, y_test], axis =1)"
   ]
  },
  {
   "cell_type": "markdown",
   "metadata": {},
   "source": [
    "Due to the fact that we are using the Youth, Woman, Income, Matric, Tertiary Education and Black response variables to model a categorical response variable (LostLabour) with only two response categories, we will be constructing a Binary Logistic Regression. \n",
    "\n",
    "The initial model will be constructed using all of the features that are identified in the literature as being the greatest contributing factors, this will allow us to ascertain the validity of these conclusion and determine which features are indeed statistically significant. The initial model has the formula: \n",
    "\n",
    "$$y = \\beta_0 + \\beta_1youth + \\beta_2woman + \\beta_3income + \\beta_4matric + \\beta_5tertiary\\_edu + \\beta_6black$$\n",
    "\n",
    "Where $y$ represents the logarithm of the odds that a respondent will lose their labour: $y = log(\\frac{p}{1-p})$, $p$ is the probability of an individual losing their job. \n",
    "\n",
    "Constructing this initial model using the training data yields:"
   ]
  },
  {
   "cell_type": "code",
   "execution_count": 127,
   "metadata": {},
   "outputs": [
    {
     "data": {
      "text/html": [
       "<table class=\"simpletable\">\n",
       "<caption>Logit Regression Results</caption>\n",
       "<tr>\n",
       "  <th>Dep. Variable:</th>      <td>LostLabour</td>    <th>  No. Observations:  </th>  <td>  1660</td>  \n",
       "</tr>\n",
       "<tr>\n",
       "  <th>Model:</th>                 <td>Logit</td>      <th>  Df Residuals:      </th>  <td>  1653</td>  \n",
       "</tr>\n",
       "<tr>\n",
       "  <th>Method:</th>                 <td>MLE</td>       <th>  Df Model:          </th>  <td>     6</td>  \n",
       "</tr>\n",
       "<tr>\n",
       "  <th>Date:</th>            <td>Mon, 21 Jun 2021</td> <th>  Pseudo R-squ.:     </th>  <td>0.03707</td> \n",
       "</tr>\n",
       "<tr>\n",
       "  <th>Time:</th>                <td>10:47:07</td>     <th>  Log-Likelihood:    </th> <td> -1104.5</td> \n",
       "</tr>\n",
       "<tr>\n",
       "  <th>converged:</th>             <td>True</td>       <th>  LL-Null:           </th> <td> -1147.0</td> \n",
       "</tr>\n",
       "<tr>\n",
       "  <th>Covariance Type:</th>     <td>nonrobust</td>    <th>  LLR p-value:       </th> <td>3.256e-16</td>\n",
       "</tr>\n",
       "</table>\n",
       "<table class=\"simpletable\">\n",
       "<tr>\n",
       "        <td></td>          <th>coef</th>     <th>std err</th>      <th>z</th>      <th>P>|z|</th>  <th>[0.025</th>    <th>0.975]</th>  \n",
       "</tr>\n",
       "<tr>\n",
       "  <th>Intercept</th>    <td>   -0.1331</td> <td>    0.158</td> <td>   -0.843</td> <td> 0.399</td> <td>   -0.443</td> <td>    0.176</td>\n",
       "</tr>\n",
       "<tr>\n",
       "  <th>Youth</th>        <td>    0.0036</td> <td>    0.188</td> <td>    0.019</td> <td> 0.985</td> <td>   -0.365</td> <td>    0.372</td>\n",
       "</tr>\n",
       "<tr>\n",
       "  <th>Woman</th>        <td>    0.4282</td> <td>    0.104</td> <td>    4.122</td> <td> 0.000</td> <td>    0.225</td> <td>    0.632</td>\n",
       "</tr>\n",
       "<tr>\n",
       "  <th>Income</th>       <td>   -1.5955</td> <td>    0.282</td> <td>   -5.657</td> <td> 0.000</td> <td>   -2.148</td> <td>   -1.043</td>\n",
       "</tr>\n",
       "<tr>\n",
       "  <th>Matric</th>       <td>    0.1382</td> <td>    0.114</td> <td>    1.215</td> <td> 0.225</td> <td>   -0.085</td> <td>    0.361</td>\n",
       "</tr>\n",
       "<tr>\n",
       "  <th>Tertiary_edu</th> <td>   -0.1259</td> <td>    0.125</td> <td>   -1.011</td> <td> 0.312</td> <td>   -0.370</td> <td>    0.118</td>\n",
       "</tr>\n",
       "<tr>\n",
       "  <th>Black</th>        <td>    0.3814</td> <td>    0.134</td> <td>    2.845</td> <td> 0.004</td> <td>    0.119</td> <td>    0.644</td>\n",
       "</tr>\n",
       "</table>"
      ],
      "text/plain": [
       "<class 'statsmodels.iolib.summary.Summary'>\n",
       "\"\"\"\n",
       "                           Logit Regression Results                           \n",
       "==============================================================================\n",
       "Dep. Variable:             LostLabour   No. Observations:                 1660\n",
       "Model:                          Logit   Df Residuals:                     1653\n",
       "Method:                           MLE   Df Model:                            6\n",
       "Date:                Mon, 21 Jun 2021   Pseudo R-squ.:                 0.03707\n",
       "Time:                        10:47:07   Log-Likelihood:                -1104.5\n",
       "converged:                       True   LL-Null:                       -1147.0\n",
       "Covariance Type:            nonrobust   LLR p-value:                 3.256e-16\n",
       "================================================================================\n",
       "                   coef    std err          z      P>|z|      [0.025      0.975]\n",
       "--------------------------------------------------------------------------------\n",
       "Intercept       -0.1331      0.158     -0.843      0.399      -0.443       0.176\n",
       "Youth            0.0036      0.188      0.019      0.985      -0.365       0.372\n",
       "Woman            0.4282      0.104      4.122      0.000       0.225       0.632\n",
       "Income          -1.5955      0.282     -5.657      0.000      -2.148      -1.043\n",
       "Matric           0.1382      0.114      1.215      0.225      -0.085       0.361\n",
       "Tertiary_edu    -0.1259      0.125     -1.011      0.312      -0.370       0.118\n",
       "Black            0.3814      0.134      2.845      0.004       0.119       0.644\n",
       "================================================================================\n",
       "\"\"\""
      ]
     },
     "execution_count": 127,
     "metadata": {},
     "output_type": "execute_result"
    }
   ],
   "source": [
    "fitlogreg = smf.logit(formula = 'LostLabour ~ Youth + Woman + Income + Matric + Tertiary_edu + Black ', data = model_train).fit(disp=0)\n",
    "fitlogreg.summary()"
   ]
  },
  {
   "cell_type": "markdown",
   "metadata": {},
   "source": [
    "Inspecting the results of this initial implementation we observe that some features have a considerably lower p-value than others, suggesting that these could be statistically more significant. We can select a subset of features and construct a reduced model as: \n",
    "\n",
    "$$y = \\beta_0 +  \\beta_1income + \\beta_2woman  + \\beta_3black$$\n",
    "\n",
    "The reduced model yields the following results: "
   ]
  },
  {
   "cell_type": "code",
   "execution_count": 128,
   "metadata": {},
   "outputs": [
    {
     "data": {
      "text/html": [
       "<table class=\"simpletable\">\n",
       "<caption>Logit Regression Results</caption>\n",
       "<tr>\n",
       "  <th>Dep. Variable:</th>      <td>LostLabour</td>    <th>  No. Observations:  </th>  <td>  1660</td>  \n",
       "</tr>\n",
       "<tr>\n",
       "  <th>Model:</th>                 <td>Logit</td>      <th>  Df Residuals:      </th>  <td>  1656</td>  \n",
       "</tr>\n",
       "<tr>\n",
       "  <th>Method:</th>                 <td>MLE</td>       <th>  Df Model:          </th>  <td>     3</td>  \n",
       "</tr>\n",
       "<tr>\n",
       "  <th>Date:</th>            <td>Mon, 21 Jun 2021</td> <th>  Pseudo R-squ.:     </th>  <td>0.03622</td> \n",
       "</tr>\n",
       "<tr>\n",
       "  <th>Time:</th>                <td>10:47:08</td>     <th>  Log-Likelihood:    </th> <td> -1105.4</td> \n",
       "</tr>\n",
       "<tr>\n",
       "  <th>converged:</th>             <td>True</td>       <th>  LL-Null:           </th> <td> -1147.0</td> \n",
       "</tr>\n",
       "<tr>\n",
       "  <th>Covariance Type:</th>     <td>nonrobust</td>    <th>  LLR p-value:       </th> <td>6.668e-18</td>\n",
       "</tr>\n",
       "</table>\n",
       "<table class=\"simpletable\">\n",
       "<tr>\n",
       "      <td></td>         <th>coef</th>     <th>std err</th>      <th>z</th>      <th>P>|z|</th>  <th>[0.025</th>    <th>0.975]</th>  \n",
       "</tr>\n",
       "<tr>\n",
       "  <th>Intercept</th> <td>   -0.1106</td> <td>    0.152</td> <td>   -0.728</td> <td> 0.466</td> <td>   -0.408</td> <td>    0.187</td>\n",
       "</tr>\n",
       "<tr>\n",
       "  <th>Income</th>    <td>   -1.5813</td> <td>    0.254</td> <td>   -6.238</td> <td> 0.000</td> <td>   -2.078</td> <td>   -1.084</td>\n",
       "</tr>\n",
       "<tr>\n",
       "  <th>Woman</th>     <td>    0.4184</td> <td>    0.102</td> <td>    4.096</td> <td> 0.000</td> <td>    0.218</td> <td>    0.619</td>\n",
       "</tr>\n",
       "<tr>\n",
       "  <th>Black</th>     <td>    0.3943</td> <td>    0.133</td> <td>    2.958</td> <td> 0.003</td> <td>    0.133</td> <td>    0.656</td>\n",
       "</tr>\n",
       "</table>"
      ],
      "text/plain": [
       "<class 'statsmodels.iolib.summary.Summary'>\n",
       "\"\"\"\n",
       "                           Logit Regression Results                           \n",
       "==============================================================================\n",
       "Dep. Variable:             LostLabour   No. Observations:                 1660\n",
       "Model:                          Logit   Df Residuals:                     1656\n",
       "Method:                           MLE   Df Model:                            3\n",
       "Date:                Mon, 21 Jun 2021   Pseudo R-squ.:                 0.03622\n",
       "Time:                        10:47:08   Log-Likelihood:                -1105.4\n",
       "converged:                       True   LL-Null:                       -1147.0\n",
       "Covariance Type:            nonrobust   LLR p-value:                 6.668e-18\n",
       "==============================================================================\n",
       "                 coef    std err          z      P>|z|      [0.025      0.975]\n",
       "------------------------------------------------------------------------------\n",
       "Intercept     -0.1106      0.152     -0.728      0.466      -0.408       0.187\n",
       "Income        -1.5813      0.254     -6.238      0.000      -2.078      -1.084\n",
       "Woman          0.4184      0.102      4.096      0.000       0.218       0.619\n",
       "Black          0.3943      0.133      2.958      0.003       0.133       0.656\n",
       "==============================================================================\n",
       "\"\"\""
      ]
     },
     "execution_count": 128,
     "metadata": {},
     "output_type": "execute_result"
    }
   ],
   "source": [
    "fitlogreg = smf.logit(formula = 'LostLabour ~ Income + Woman + Black ', data = model_train).fit(disp=0)\n",
    "fitlogreg.summary()"
   ]
  },
  {
   "cell_type": "markdown",
   "metadata": {},
   "source": [
    "Performing sensibility checks on the coefficients acquired by both of these models we can see that the regression coefficient for the <code>Woman</code> feature is positive in both cases, this indicates that a respondent being a woman _increases_ the probability that they would lose their job, the same can be said about the regression coefficient for the <code>Black</code> feature. These findings agree with what has been indicated in the literature. \n",
    "\n",
    "On the other hand, the regression coefficient for the <code>Income</code> feature is negative. Once again this agrees with our expectations as a _higher_ income , according to the literature, should results in a _lower_ probability of an individual losing their job.\n",
    "\n",
    "The <code>Income</code> feature has the biggest coefficient, indicating that it could be the most influential of the three feautres, let us see if we can reduce this model even further to a simple Logistic Regression with <code>Income</code> as our only explanatory variable. "
   ]
  },
  {
   "cell_type": "code",
   "execution_count": 129,
   "metadata": {
    "scrolled": true
   },
   "outputs": [
    {
     "data": {
      "text/html": [
       "<table class=\"simpletable\">\n",
       "<caption>Logit Regression Results</caption>\n",
       "<tr>\n",
       "  <th>Dep. Variable:</th>      <td>LostLabour</td>    <th>  No. Observations:  </th>  <td>  1660</td>  \n",
       "</tr>\n",
       "<tr>\n",
       "  <th>Model:</th>                 <td>Logit</td>      <th>  Df Residuals:      </th>  <td>  1658</td>  \n",
       "</tr>\n",
       "<tr>\n",
       "  <th>Method:</th>                 <td>MLE</td>       <th>  Df Model:          </th>  <td>     1</td>  \n",
       "</tr>\n",
       "<tr>\n",
       "  <th>Date:</th>            <td>Mon, 21 Jun 2021</td> <th>  Pseudo R-squ.:     </th>  <td>0.02555</td> \n",
       "</tr>\n",
       "<tr>\n",
       "  <th>Time:</th>                <td>10:47:09</td>     <th>  Log-Likelihood:    </th> <td> -1117.7</td> \n",
       "</tr>\n",
       "<tr>\n",
       "  <th>converged:</th>             <td>True</td>       <th>  LL-Null:           </th> <td> -1147.0</td> \n",
       "</tr>\n",
       "<tr>\n",
       "  <th>Covariance Type:</th>     <td>nonrobust</td>    <th>  LLR p-value:       </th> <td>1.918e-14</td>\n",
       "</tr>\n",
       "</table>\n",
       "<table class=\"simpletable\">\n",
       "<tr>\n",
       "      <td></td>         <th>coef</th>     <th>std err</th>      <th>z</th>      <th>P>|z|</th>  <th>[0.025</th>    <th>0.975]</th>  \n",
       "</tr>\n",
       "<tr>\n",
       "  <th>Intercept</th> <td>    0.4915</td> <td>    0.069</td> <td>    7.124</td> <td> 0.000</td> <td>    0.356</td> <td>    0.627</td>\n",
       "</tr>\n",
       "<tr>\n",
       "  <th>Income</th>    <td>   -1.8279</td> <td>    0.249</td> <td>   -7.344</td> <td> 0.000</td> <td>   -2.316</td> <td>   -1.340</td>\n",
       "</tr>\n",
       "</table>"
      ],
      "text/plain": [
       "<class 'statsmodels.iolib.summary.Summary'>\n",
       "\"\"\"\n",
       "                           Logit Regression Results                           \n",
       "==============================================================================\n",
       "Dep. Variable:             LostLabour   No. Observations:                 1660\n",
       "Model:                          Logit   Df Residuals:                     1658\n",
       "Method:                           MLE   Df Model:                            1\n",
       "Date:                Mon, 21 Jun 2021   Pseudo R-squ.:                 0.02555\n",
       "Time:                        10:47:09   Log-Likelihood:                -1117.7\n",
       "converged:                       True   LL-Null:                       -1147.0\n",
       "Covariance Type:            nonrobust   LLR p-value:                 1.918e-14\n",
       "==============================================================================\n",
       "                 coef    std err          z      P>|z|      [0.025      0.975]\n",
       "------------------------------------------------------------------------------\n",
       "Intercept      0.4915      0.069      7.124      0.000       0.356       0.627\n",
       "Income        -1.8279      0.249     -7.344      0.000      -2.316      -1.340\n",
       "==============================================================================\n",
       "\"\"\""
      ]
     },
     "execution_count": 129,
     "metadata": {},
     "output_type": "execute_result"
    }
   ],
   "source": [
    "fitlogreg = smf.logit(formula = 'LostLabour ~ Income', data = model_train).fit(disp=0)\n",
    "fitlogreg.summary()"
   ]
  },
  {
   "cell_type": "markdown",
   "metadata": {},
   "source": [
    "To decide on a final model , we will conduct hypothesis testing to examine the difference in explanatory power of the last two models. This will allows us to determine whether including the additional variables, <code> Woman </code> and <code> Black </code>, is useful or not. To conduct this test we will utilize the Likelihood Ratio Test. Using the full model of \n",
    "$$y = \\beta_0 +  \\beta_1income + \\beta_2woman  + \\beta_3black$$\n",
    "\n",
    "Our null hypothesis can be stated as:\n",
    "$$H_0: \\beta_2 = \\beta_3 = 0$$\n",
    "And our model under the null hypothesis as:\n",
    "$$y_0 = \\beta_0 +  \\beta_1income $$\n",
    "\n",
    "Our alternative hypothesis is therefore: \n",
    "$$H_a: \\beta_2 \\neq 0, \\beta_3 \\neq 0$$\n",
    "\n",
    "Resulting in the full model being the model under the alternative hypothesis or:\n",
    "\n",
    "$$y_a = \\beta_0 +  \\beta_1income + \\beta_2woman  + \\beta_3black$$\n",
    "\n",
    "To conduct the hypothesis test we will utilize a bootstrapping procedure in which we resample from our data with replacement and calculate the Log Likelihood Ratio test statistic at each iteration, this is be done 5000 times to create a distribution of the test statistic. From this distribution we can determine our p_value and whether or not to reject our null hypothesis. We will use a 95% significance level for the hypothesis testing procedure."
   ]
  },
  {
   "cell_type": "code",
   "execution_count": 130,
   "metadata": {},
   "outputs": [
    {
     "data": {
      "image/png": "[encoded data removed]",
      "text/plain": [
       "<Figure size 720x432 with 1 Axes>"
      ]
     },
     "metadata": {
      "needs_background": "light"
     },
     "output_type": "display_data"
    },
    {
     "name": "stdout",
     "output_type": "stream",
     "text": [
      "p-value: 0.0452\n"
     ]
    }
   ],
   "source": [
    "# Create the model and calculate the actual test statistic for the data \n",
    "fitlogreg = smf.logit(formula = 'LostLabour ~ Woman + Income + Black  ', data = model).fit(disp=0)\n",
    "\n",
    "# The Log Likelihood Ratio can be accessed using llr in the statsmodels package \n",
    "actual_test_stat  = fitlogreg.llr\n",
    "\n",
    "# A list to store the test statistic for each iteration \n",
    "test_stats = [] \n",
    "\n",
    "for i in range(5000):\n",
    "    # Create a bootstrapped sample \n",
    "    bstrp_sample = model.sample(frac=1, replace=True)\n",
    "    # Fit the model using this bootstrapped sample \n",
    "    fitlogreg = smf.logit(formula = 'LostLabour ~ Income ', data = bstrp_sample).fit(disp=0)\n",
    "    # Store the test statistic for this iteration \n",
    "    test_stats.append(fitlogreg.llr)\n",
    "    \n",
    "# Plot a graph of the test statistics distribution\n",
    "plt.figure(figsize=(10,6))\n",
    "plt.axvline(actual_test_stat, linewidth=3, color='0.8')\n",
    "plt.hist(test_stats)\n",
    "plt.title(\"Distribution of LLR Test Statistic\")\n",
    "plt.xlabel('Likelihood Ratio Test Statistic')\n",
    "plt.ylabel('Count')\n",
    "plt.show()\n",
    "\n",
    "# Calculate and display the p-value\n",
    "pvalue = sum(test_stats >= actual_test_stat) / len(test_stats)\n",
    "print(\"p-value:\", pvalue)"
   ]
  },
  {
   "cell_type": "markdown",
   "metadata": {},
   "source": [
    "The p-value is less than 0.05 which is what we need in order to reject the null hypothesis at our current significance level. Therefore we cannot reject our null hypothesis. We can see that the inclusion of the <code>Woman</code> and <code>Black</code> features is definitely useful and can therefore select our final model as: \n",
    "\n",
    "$$y_a = \\beta_0 +  \\beta_1income + \\beta_2woman  + \\beta_3black$$\n",
    "\n",
    "Before evaluating it on the test set, let us analyze the residuals of this model to ensure there are no major issues evident. "
   ]
  },
  {
   "cell_type": "code",
   "execution_count": 131,
   "metadata": {},
   "outputs": [
    {
     "data": {
      "image/png": "[encoded data removed]",
      "text/plain": [
       "<Figure size 1080x360 with 1 Axes>"
      ]
     },
     "metadata": {
      "needs_background": "light"
     },
     "output_type": "display_data"
    }
   ],
   "source": [
    "plt.figure(figsize=(15,5))\n",
    "plots = fitlogreg.resid_dev[:100]\n",
    "plt.plot(range(100), plots.values)\n",
    "plt.title(\"Deviance Residuals of Logisitic Regression\", fontsize=15)\n",
    "plt.ylabel(\"Deviance Residual\")\n",
    "plt.xlabel(\"Observation\")\n",
    "plt.show()"
   ]
  },
  {
   "cell_type": "markdown",
   "metadata": {},
   "source": [
    "Observing that there are no apparent patterns in the residual plot allows us to conclude that there are no major issues with the fitted model. We can now evaluate the model using the test data. "
   ]
  },
  {
   "cell_type": "code",
   "execution_count": 132,
   "metadata": {
    "scrolled": false
   },
   "outputs": [
    {
     "data": {
      "text/html": [
       "<table class=\"simpletable\">\n",
       "<caption>Logit Regression Results</caption>\n",
       "<tr>\n",
       "  <th>Dep. Variable:</th>      <td>LostLabour</td>    <th>  No. Observations:  </th>  <td>   712</td>  \n",
       "</tr>\n",
       "<tr>\n",
       "  <th>Model:</th>                 <td>Logit</td>      <th>  Df Residuals:      </th>  <td>   708</td>  \n",
       "</tr>\n",
       "<tr>\n",
       "  <th>Method:</th>                 <td>MLE</td>       <th>  Df Model:          </th>  <td>     3</td>  \n",
       "</tr>\n",
       "<tr>\n",
       "  <th>Date:</th>            <td>Mon, 21 Jun 2021</td> <th>  Pseudo R-squ.:     </th>  <td>0.05656</td> \n",
       "</tr>\n",
       "<tr>\n",
       "  <th>Time:</th>                <td>10:49:33</td>     <th>  Log-Likelihood:    </th> <td> -464.08</td> \n",
       "</tr>\n",
       "<tr>\n",
       "  <th>converged:</th>             <td>True</td>       <th>  LL-Null:           </th> <td> -491.90</td> \n",
       "</tr>\n",
       "<tr>\n",
       "  <th>Covariance Type:</th>     <td>nonrobust</td>    <th>  LLR p-value:       </th> <td>5.011e-12</td>\n",
       "</tr>\n",
       "</table>\n",
       "<table class=\"simpletable\">\n",
       "<tr>\n",
       "      <td></td>         <th>coef</th>     <th>std err</th>      <th>z</th>      <th>P>|z|</th>  <th>[0.025</th>    <th>0.975]</th>  \n",
       "</tr>\n",
       "<tr>\n",
       "  <th>Intercept</th> <td>   -0.3263</td> <td>    0.255</td> <td>   -1.278</td> <td> 0.201</td> <td>   -0.827</td> <td>    0.174</td>\n",
       "</tr>\n",
       "<tr>\n",
       "  <th>Woman</th>     <td>    0.2753</td> <td>    0.160</td> <td>    1.720</td> <td> 0.085</td> <td>   -0.038</td> <td>    0.589</td>\n",
       "</tr>\n",
       "<tr>\n",
       "  <th>Income</th>    <td>   -2.1525</td> <td>    0.421</td> <td>   -5.115</td> <td> 0.000</td> <td>   -2.977</td> <td>   -1.328</td>\n",
       "</tr>\n",
       "<tr>\n",
       "  <th>Black</th>     <td>    0.8266</td> <td>    0.231</td> <td>    3.582</td> <td> 0.000</td> <td>    0.374</td> <td>    1.279</td>\n",
       "</tr>\n",
       "</table>"
      ],
      "text/plain": [
       "<class 'statsmodels.iolib.summary.Summary'>\n",
       "\"\"\"\n",
       "                           Logit Regression Results                           \n",
       "==============================================================================\n",
       "Dep. Variable:             LostLabour   No. Observations:                  712\n",
       "Model:                          Logit   Df Residuals:                      708\n",
       "Method:                           MLE   Df Model:                            3\n",
       "Date:                Mon, 21 Jun 2021   Pseudo R-squ.:                 0.05656\n",
       "Time:                        10:49:33   Log-Likelihood:                -464.08\n",
       "converged:                       True   LL-Null:                       -491.90\n",
       "Covariance Type:            nonrobust   LLR p-value:                 5.011e-12\n",
       "==============================================================================\n",
       "                 coef    std err          z      P>|z|      [0.025      0.975]\n",
       "------------------------------------------------------------------------------\n",
       "Intercept     -0.3263      0.255     -1.278      0.201      -0.827       0.174\n",
       "Woman          0.2753      0.160      1.720      0.085      -0.038       0.589\n",
       "Income        -2.1525      0.421     -5.115      0.000      -2.977      -1.328\n",
       "Black          0.8266      0.231      3.582      0.000       0.374       1.279\n",
       "==============================================================================\n",
       "\"\"\""
      ]
     },
     "metadata": {},
     "output_type": "display_data"
    }
   ],
   "source": [
    "fitlogreg = smf.logit(formula = 'LostLabour ~ Woman + Income + Black ', data = model_test).fit(disp=0)\n",
    "display(fitlogreg.summary())"
   ]
  },
  {
   "cell_type": "markdown",
   "metadata": {},
   "source": [
    "From this we can deduce that, of the respondents in our sample who had worked and who answered this question, majority of them work in Elementary Occupations, are self-employed or work in Services and Sales."
   ]
  },
  {
   "cell_type": "markdown",
   "metadata": {},
   "source": [
    "---\n",
    "## <span style='color:blue' > Section 3 - Welfare </span>\n",
    "---\n",
    "The Covid-19 pandemic has had a negative impact on the South African economy. Consequently, many people had lost their jobs during the initial stages of the pandemic as seen in the Labour section. This section aims to determine the extent to which the South African government intervened in the economy to aid and assist those who had lost their jobs and livelihoods.\n",
    "\n",
    "Included in this section is a data description of the variables explored, an explanation of the initialization of a subset of the dataset, an explanation of the data cleaning and data wrangling methodology, as well as an exploratory analysis of the variables concerned. This exploratory analysis will investigate the relevant social welfare variables in the dataset (ie: all variables concerning household income and social grants) "
   ]
  },
  {
   "cell_type": "markdown",
   "metadata": {},
   "source": [
    "---\n",
    "### 3.1 Data Description\n",
    "---\n",
    "\n",
    "During the month of April 2020, participants in the survey were asked many questions regarding the impact that the Covid-19 pandemic had had on their lives. The variables that are analysed in this section correspond to the questions in the survey that relate to social welfare. \n",
    "\n",
    "**Employment in April**\n",
    "*  **job_in_apr** : Did you have any kind of job in April?\n",
    "* **work_in_apr** : Did you work for profit/pay even just for an hour or a small amount in April?\n",
    "\n",
    "**UIF and Other Grants in April**\n",
    "* **uif_in_apr** : Did you receive the UIF reduced work time benefit in April?\n",
    "* **grant_from_gov_ques** : Did you receive any kind of grant from the government in April?\n",
    "* **grant_from_gov** : If you did receive a grant from the government in April, what kind of grant did you receive? \n",
    "<br><br>\n",
    "\n",
    "**Household Income in April** \n",
    "* **src_income_before_apr** : What was your household's main source of income before lockdown started on 27 March 2020?\n",
    "* **lost_income_in_apr** : Has your household lost its main source of income since the lockdown started on 27 March 2020?\n",
    "* **total_income_in_apr** : What was your household's total income after tax in April?\n",
    "<br><br>"
   ]
  },
  {
   "cell_type": "markdown",
   "metadata": {},
   "source": [
    "---\n",
    "### 3.2 Data Ingestion\n",
    "---\n",
    "In this subsection, a subset of the raw dataframe is generated. This subset stores all of the relevant variables concerning social welfare in the raw dataframe. In addition, all of the variables in this subset have been appropriately renamed. For example, the variable named **w1_nc_hhinc** corresponding to the survery question, \"What was your household's total income after tax in April?\" in the raw dataframe was renamed to **total_income_in_apr**. Now, one can easily determine the meaning of the variable and the type of data it stores from first glance, instead of having to compare it with the key available on www.datafirst.uct.ac.za. \n",
    "\n",
    "Another measure implemented during this data ingestion phase was the appending of columns. In the raw dataframe the variables corresponding to the questions \"Did you receive any kind of grant from the government in April?\" and \"What was your household's main source of income before lockdown started on 27 March 2020?\" were split into 3 columns. The reason for this was not made clear. For improved readability and efficiency those columns were appended using the **append(pd.Series, ignore_index=True)** function to make them into one column. This appendage did not affect the data.   "
   ]
  },
  {
   "cell_type": "code",
   "execution_count": 163,
   "metadata": {},
   "outputs": [],
   "source": [
    "swdf = pd.DataFrame()\n",
    "\n",
    "# Employment in April Data\n",
    "swdf['job_in_apr'] = raw_data['w1_nc_em_apr']\n",
    "swdf['work_in_apr'] = raw_data['w1_nc_emany_apr']\n",
    "\n",
    "# Household Income in April - Here 3 columns are appended\n",
    "income1 = raw_data['w1_nc_hhincsrc1']\n",
    "income2 = raw_data['w1_nc_hhincsrc2']\n",
    "income3 = raw_data['w1_nc_hhincsrc3']\n",
    "income = income1.append(income2, ignore_index=True).append(income3, ignore_index=True)\n",
    "\n",
    "swdf['src_income_before_apr'] = income\n",
    "swdf['lost_income_in_apr'] = raw_data['w1_nc_hhincchng']\n",
    "swdf['total_income_in_apr'] = raw_data['w1_nc_hhinc']\n",
    "\n",
    "# UIF and Other Grants in April - Here 3 columns are appended\n",
    "swdf['uif_in_apr'] = raw_data['w1_nc_uneminc_uif']\n",
    "swdf['grant_from_gov_ques'] = raw_data['w1_nc_incgov']\n",
    "\n",
    "grant1 = raw_data['w1_nc_incgovtyp1'] \n",
    "grant2 = raw_data['w1_nc_incgovtyp2']\n",
    "grant3 = raw_data['w1_nc_incgovtyp3']\n",
    "grant = grant1.append(grant2, ignore_index=True).append(grant3, ignore_index=True)\n",
    "\n",
    "swdf['grant_from_gov'] = grant\n"
   ]
  },
  {
   "cell_type": "markdown",
   "metadata": {},
   "source": [
    "This is what the social welfare dataframe, appropriately named swdf, looks like:"
   ]
  },
  {
   "cell_type": "code",
   "execution_count": 164,
   "metadata": {
    "scrolled": true
   },
   "outputs": [
    {
     "data": {
      "text/html": [
       "<div>\n",
       "<style scoped>\n",
       "    .dataframe tbody tr th:only-of-type {\n",
       "        vertical-align: middle;\n",
       "    }\n",
       "\n",
       "    .dataframe tbody tr th {\n",
       "        vertical-align: top;\n",
       "    }\n",
       "\n",
       "    .dataframe thead th {\n",
       "        text-align: right;\n",
       "    }\n",
       "</style>\n",
       "<table border=\"1\" class=\"dataframe\">\n",
       "  <thead>\n",
       "    <tr style=\"text-align: right;\">\n",
       "      <th></th>\n",
       "      <th>job_in_apr</th>\n",
       "      <th>work_in_apr</th>\n",
       "      <th>src_income_before_apr</th>\n",
       "      <th>lost_income_in_apr</th>\n",
       "      <th>total_income_in_apr</th>\n",
       "      <th>uif_in_apr</th>\n",
       "      <th>grant_from_gov_ques</th>\n",
       "      <th>grant_from_gov</th>\n",
       "    </tr>\n",
       "  </thead>\n",
       "  <tbody>\n",
       "    <tr>\n",
       "      <th>0</th>\n",
       "      <td>No</td>\n",
       "      <td>No</td>\n",
       "      <td>Income from a business</td>\n",
       "      <td>No</td>\n",
       "      <td>NaN</td>\n",
       "      <td>No</td>\n",
       "      <td>Yes</td>\n",
       "      <td>Disability Grant</td>\n",
       "    </tr>\n",
       "    <tr>\n",
       "      <th>1</th>\n",
       "      <td>NaN</td>\n",
       "      <td>NaN</td>\n",
       "      <td>Government grants</td>\n",
       "      <td>No</td>\n",
       "      <td>3500.0</td>\n",
       "      <td>NaN</td>\n",
       "      <td>Yes</td>\n",
       "      <td>Old Age Pension Grant (OAP)</td>\n",
       "    </tr>\n",
       "    <tr>\n",
       "      <th>2</th>\n",
       "      <td>No</td>\n",
       "      <td>No</td>\n",
       "      <td>Government grants</td>\n",
       "      <td>Yes</td>\n",
       "      <td>1500.0</td>\n",
       "      <td>No</td>\n",
       "      <td>Yes</td>\n",
       "      <td>Child Support Grant (CSG)</td>\n",
       "    </tr>\n",
       "    <tr>\n",
       "      <th>3</th>\n",
       "      <td>No</td>\n",
       "      <td>No</td>\n",
       "      <td>Government grants</td>\n",
       "      <td>Yes</td>\n",
       "      <td>4200.0</td>\n",
       "      <td>NaN</td>\n",
       "      <td>Yes</td>\n",
       "      <td>Child Support Grant (CSG)</td>\n",
       "    </tr>\n",
       "    <tr>\n",
       "      <th>4</th>\n",
       "      <td>No</td>\n",
       "      <td>No</td>\n",
       "      <td>Government grants</td>\n",
       "      <td>No</td>\n",
       "      <td>NaN</td>\n",
       "      <td>No</td>\n",
       "      <td>No</td>\n",
       "      <td>NaN</td>\n",
       "    </tr>\n",
       "  </tbody>\n",
       "</table>\n",
       "</div>"
      ],
      "text/plain": [
       "  job_in_apr work_in_apr   src_income_before_apr lost_income_in_apr  \\\n",
       "0         No          No  Income from a business                 No   \n",
       "1        NaN         NaN       Government grants                 No   \n",
       "2         No          No       Government grants                Yes   \n",
       "3         No          No       Government grants                Yes   \n",
       "4         No          No       Government grants                 No   \n",
       "\n",
       "  total_income_in_apr uif_in_apr grant_from_gov_ques  \\\n",
       "0                 NaN         No                 Yes   \n",
       "1              3500.0        NaN                 Yes   \n",
       "2              1500.0         No                 Yes   \n",
       "3              4200.0        NaN                 Yes   \n",
       "4                 NaN         No                  No   \n",
       "\n",
       "                grant_from_gov  \n",
       "0             Disability Grant  \n",
       "1  Old Age Pension Grant (OAP)  \n",
       "2    Child Support Grant (CSG)  \n",
       "3    Child Support Grant (CSG)  \n",
       "4                          NaN  "
      ]
     },
     "metadata": {},
     "output_type": "display_data"
    },
    {
     "name": "stdout",
     "output_type": "stream",
     "text": [
      "\n",
      "\n",
      "<class 'pandas.core.frame.DataFrame'>\n",
      "RangeIndex: 7073 entries, 0 to 7072\n",
      "Data columns (total 8 columns):\n",
      " #   Column                 Non-Null Count  Dtype \n",
      "---  ------                 --------------  ----- \n",
      " 0   job_in_apr             6329 non-null   object\n",
      " 1   work_in_apr            4833 non-null   object\n",
      " 2   src_income_before_apr  6952 non-null   object\n",
      " 3   lost_income_in_apr     6905 non-null   object\n",
      " 4   total_income_in_apr    4408 non-null   object\n",
      " 5   uif_in_apr             1908 non-null   object\n",
      " 6   grant_from_gov_ques    7037 non-null   object\n",
      " 7   grant_from_gov         1511 non-null   object\n",
      "dtypes: object(8)\n",
      "memory usage: 442.2+ KB\n"
     ]
    },
    {
     "data": {
      "text/plain": [
       "None"
      ]
     },
     "metadata": {},
     "output_type": "display_data"
    }
   ],
   "source": [
    "display(swdf.head())\n",
    "print(\"\\n\")\n",
    "display(swdf.info())"
   ]
  },
  {
   "cell_type": "markdown",
   "metadata": {},
   "source": [
    "---\n",
    "### 3.3 Data Wrangling and Data Cleaning\n",
    "---\n",
    "\n",
    "In this section, the process of cleaning and wrangling the swdf dataframe of all noise is explained. Firstly, the columns of this dataframe are set to the \"category\" data type, because they all store categorical data. The **total_income_in_apr** was also set to the \"category\" data type for reasons that will be explained in subesequent sections. \n",
    "\n",
    "The cleaning process is similar for all subsequent subsections. First, the **value_counts()** method is ran on a specific column in the swdf dataframe. This method returns the count of all of the unique values in that column. The unique values that are returned are analysed and compared with the kind of values one would expect for that column. If there were any discrepancies between the values that were returned and the kind of values expected, then those values are dealt with in the most appropriate manner. For example, a lot of the columns had meaningless values, such as \"Refused\" or \"Don't know\" for the question that was asked. Those meaningless values were converted to NaN using the **replace_errors()** function. Then, where it was applicable, the rows with NaN values were dropped from the dataframe using the **notna()** function. Where not applicable, those values were **imputed** in the most suitable manner. An example of this can be found in the **Cleaning and Wrangling of Grant Data** section, as well as the **Cleaning and Wrangling of Household Income Data** section. \n",
    "\n",
    "Once the cleaning and wrangling operations have been completed the number of rows $\\geq$ 50 $*$ (number of columns). Therefore, useful inferences can still be made about the data, despite having so many rows dropped because of NaN values."
   ]
  },
  {
   "cell_type": "code",
   "execution_count": 165,
   "metadata": {},
   "outputs": [
    {
     "name": "stdout",
     "output_type": "stream",
     "text": [
      "<class 'pandas.core.frame.DataFrame'>\n",
      "RangeIndex: 7073 entries, 0 to 7072\n",
      "Data columns (total 8 columns):\n",
      " #   Column                 Non-Null Count  Dtype   \n",
      "---  ------                 --------------  -----   \n",
      " 0   job_in_apr             6329 non-null   category\n",
      " 1   work_in_apr            4833 non-null   category\n",
      " 2   src_income_before_apr  6952 non-null   category\n",
      " 3   lost_income_in_apr     6905 non-null   category\n",
      " 4   total_income_in_apr    4408 non-null   category\n",
      " 5   uif_in_apr             1908 non-null   category\n",
      " 6   grant_from_gov_ques    7037 non-null   category\n",
      " 7   grant_from_gov         1511 non-null   category\n",
      "dtypes: category(8)\n",
      "memory usage: 86.9 KB\n"
     ]
    }
   ],
   "source": [
    "swdf['job_in_apr'] = swdf['job_in_apr'].astype('category') \n",
    "swdf['work_in_apr'] = swdf['work_in_apr'].astype('category') \n",
    "swdf['src_income_before_apr'] = swdf['src_income_before_apr'].astype('category') \n",
    "swdf['lost_income_in_apr'] = swdf['lost_income_in_apr'].astype('category') \n",
    "swdf['total_income_in_apr'] = swdf['total_income_in_apr'].astype('category') \n",
    "swdf['uif_in_apr'] = swdf['uif_in_apr'].astype('category') \n",
    "swdf['grant_from_gov_ques'] = swdf['grant_from_gov_ques'].astype('category') \n",
    "swdf['grant_from_gov'] = swdf['grant_from_gov'].astype('category') \n",
    "swdf.info()"
   ]
  },
  {
   "cell_type": "markdown",
   "metadata": {},
   "source": [
    "---\n",
    "#### **Wrangling and Cleaning of Employment Data**\n",
    "---\n",
    "\n",
    "Let's take a look at the unique values of the **job_in_apr** and **work_in_apr** columns."
   ]
  },
  {
   "cell_type": "code",
   "execution_count": 166,
   "metadata": {},
   "outputs": [
    {
     "name": "stdout",
     "output_type": "stream",
     "text": [
      "Did you have any kind of job in April?\n"
     ]
    },
    {
     "data": {
      "text/plain": [
       "No     4857\n",
       "Yes    1472\n",
       "Name: job_in_apr, dtype: int64"
      ]
     },
     "metadata": {},
     "output_type": "display_data"
    },
    {
     "name": "stdout",
     "output_type": "stream",
     "text": [
      "Number of missing values in the 'job_in_apr' column:  744 \n",
      "\n",
      "Did you work for profit/pay even just for an hour or a small amount in April?\n"
     ]
    },
    {
     "data": {
      "text/plain": [
       "No     4648\n",
       "Yes     185\n",
       "Name: work_in_apr, dtype: int64"
      ]
     },
     "metadata": {},
     "output_type": "display_data"
    },
    {
     "name": "stdout",
     "output_type": "stream",
     "text": [
      "Number of missing values in the 'work_in_apr' column:  2240 \n",
      "\n"
     ]
    }
   ],
   "source": [
    "# Job in April\n",
    "print('Did you have any kind of job in April?')\n",
    "display(swdf['job_in_apr'].value_counts())\n",
    "print(\"Number of missing values in the 'job_in_apr' column: \", swdf['job_in_apr'].isnull().sum(), \"\\n\")\n",
    "\n",
    "# Work in April \n",
    "print('Did you work for profit/pay even just for an hour or a small amount in April?')\n",
    "display(swdf['work_in_apr'].value_counts())\n",
    "print(\"Number of missing values in the 'work_in_apr' column: \", swdf['work_in_apr'].isnull().sum(), \"\\n\")"
   ]
  },
  {
   "cell_type": "markdown",
   "metadata": {},
   "source": [
    "**job_in_apr** is only missing 10% of its data, whereas **work_in_apr** is missing 30% of its data. Unfortunately, all of the rows with missing values need to be dropped. Due to this data being categorical, one cannot simply impute values for the missing data without making drastic changes in the data. "
   ]
  },
  {
   "cell_type": "code",
   "execution_count": 167,
   "metadata": {},
   "outputs": [
    {
     "name": "stdout",
     "output_type": "stream",
     "text": [
      "Did you have any kind of job in April?\n"
     ]
    },
    {
     "data": {
      "text/plain": [
       "No     4857\n",
       "Yes    1472\n",
       "Name: job_in_apr, dtype: int64"
      ]
     },
     "metadata": {},
     "output_type": "display_data"
    },
    {
     "name": "stdout",
     "output_type": "stream",
     "text": [
      "Number of missing values in the 'job_in_apr' column:  0 \n",
      "\n",
      "Did you work for profit/pay even just for an hour or a small amount in April?\n"
     ]
    },
    {
     "data": {
      "text/plain": [
       "No     4642\n",
       "Yes     185\n",
       "Name: work_in_apr, dtype: int64"
      ]
     },
     "metadata": {},
     "output_type": "display_data"
    },
    {
     "name": "stdout",
     "output_type": "stream",
     "text": [
      "Number of missing values in the 'work_in_apr' column:  0 \n",
      "\n"
     ]
    }
   ],
   "source": [
    "# Job in April\n",
    "swdf = swdf[swdf['job_in_apr'].notna()]\n",
    "print(\"Did you have any kind of job in April?\")\n",
    "display(swdf['job_in_apr'].value_counts())\n",
    "print(\"Number of missing values in the 'job_in_apr' column: \", swdf['job_in_apr'].isnull().sum(), \"\\n\")\n",
    "\n",
    "# Work in April\n",
    "swdf = swdf[swdf['work_in_apr'].notna()]\n",
    "print(\"Did you work for profit/pay even just for an hour or a small amount in April?\")\n",
    "display(swdf['work_in_apr'].value_counts())\n",
    "print(\"Number of missing values in the 'work_in_apr' column: \", swdf['work_in_apr'].isnull().sum(), \"\\n\")"
   ]
  },
  {
   "cell_type": "markdown",
   "metadata": {},
   "source": [
    "---\n",
    "#### **Wrangling and Cleaning of Household Income Data**\n",
    "---\n",
    "\n",
    "Let's take a look at the unique values of the **src_income_before_apr**, **lost_income_in_apr** and **total_income_in_apr** columns."
   ]
  },
  {
   "cell_type": "code",
   "execution_count": 168,
   "metadata": {},
   "outputs": [
    {
     "name": "stdout",
     "output_type": "stream",
     "text": [
      "What was your household's main source of income before lockdown started on 27 March 2020?\n"
     ]
    },
    {
     "data": {
      "text/plain": [
       "Government grants                      1958\n",
       "Income from employment                 1605\n",
       "Household had no income in February     401\n",
       "Money from friends or family            400\n",
       "Income from a business                  314\n",
       "Other (specify)                          76\n",
       "Name: src_income_before_apr, dtype: int64"
      ]
     },
     "metadata": {},
     "output_type": "display_data"
    },
    {
     "name": "stdout",
     "output_type": "stream",
     "text": [
      "Number of missing values in the 'src_income_before_apr' column:  73 \n",
      "\n",
      "\n",
      "Has your household lost its main source of income since the lockdown started on 27 March 2020?\n"
     ]
    },
    {
     "data": {
      "text/plain": [
       "No     2566\n",
       "Yes    2149\n",
       "Name: lost_income_in_apr, dtype: int64"
      ]
     },
     "metadata": {},
     "output_type": "display_data"
    },
    {
     "name": "stdout",
     "output_type": "stream",
     "text": [
      "Number of missing values in the 'lost_income_in_apr' column:  112 \n",
      "\n",
      "\n",
      "What was your household's total income after tax in April?\n"
     ]
    },
    {
     "data": {
      "text/plain": [
       "0.0        369\n",
       "2000.0     155\n",
       "3000.0     136\n",
       "4000.0     117\n",
       "1500.0      98\n",
       "          ... \n",
       "65000.0      0\n",
       "3503.0       0\n",
       "57426.0      0\n",
       "1867.0       0\n",
       "6900.0       0\n",
       "Name: total_income_in_apr, Length: 458, dtype: int64"
      ]
     },
     "metadata": {},
     "output_type": "display_data"
    },
    {
     "name": "stdout",
     "output_type": "stream",
     "text": [
      "Number of missing values in the 'total_income_in_apr' column:  1869 \n",
      "\n",
      "\n"
     ]
    }
   ],
   "source": [
    "# Main source of before in April\n",
    "print(\"What was your household's main source of income before lockdown started on 27 March 2020?\")\n",
    "display(swdf['src_income_before_apr'].value_counts())\n",
    "print(\"Number of missing values in the 'src_income_before_apr' column: \", swdf['src_income_before_apr'].isnull().sum(), \"\\n\")\n",
    "print(\"\")\n",
    "\n",
    "# Lost main source of income after April\n",
    "print(\"Has your household lost its main source of income since the lockdown started on 27 March 2020?\")\n",
    "display(swdf['lost_income_in_apr'].value_counts())\n",
    "print(\"Number of missing values in the 'lost_income_in_apr' column: \", swdf['lost_income_in_apr'].isnull().sum(), \"\\n\")\n",
    "print(\"\")\n",
    "\n",
    "# Household income tax after April\n",
    "print(\"What was your household's total income after tax in April?\")\n",
    "display(swdf['total_income_in_apr'].value_counts())\n",
    "print(\"Number of missing values in the 'total_income_in_apr' column: \", swdf['total_income_in_apr'].isnull().sum(), \"\\n\")\n",
    "print(\"\")"
   ]
  },
  {
   "cell_type": "markdown",
   "metadata": {},
   "source": [
    "In the case of **src_income_before_apr** the \"Other (specify)\" value is still relevant, because a participant could've had another main source of income that was not an option on the survey sheet. Therefore, it will not be removed. In addition, both columns have few missing values between the two of them which can be dropped without significantly affecting the data. \n",
    "\n",
    "Initially, the **total_income_in_apr** column had the \"Don't know\" and \"Refused\" values. These rows couldn't be dropped, because they made up the bulk of the data. Furthermore, the **total_income_in_apr** stores numerical data. Therefore, \"Don't know\" and \"Refused\" can't be values within this column, since they are both categorical values. **Mean imputation** was implemented to solve this issue. The \"Don't Know\" and \"Refused\" values are now both set to the mean value of the series. The mean was calculated with those two values excluded. In addition, the NaN values in this column were also filled in the same way."
   ]
  },
  {
   "cell_type": "code",
   "execution_count": 169,
   "metadata": {},
   "outputs": [
    {
     "name": "stdout",
     "output_type": "stream",
     "text": [
      "What was your household's main source of income before lockdown started on 27 March 2020?\n"
     ]
    },
    {
     "data": {
      "text/plain": [
       "Government grants                      1958\n",
       "Income from employment                 1605\n",
       "Household had no income in February     401\n",
       "Money from friends or family            400\n",
       "Income from a business                  314\n",
       "Other (specify)                          76\n",
       "Name: src_income_before_apr, dtype: int64"
      ]
     },
     "metadata": {},
     "output_type": "display_data"
    },
    {
     "name": "stdout",
     "output_type": "stream",
     "text": [
      "Number of missing values in 'src_income_before_apr':  0 \n",
      "\n",
      "Has your household lost its main source of income since the lockdown started on 27 March 2020?\n"
     ]
    },
    {
     "data": {
      "text/plain": [
       "No     2524\n",
       "Yes    2124\n",
       "Name: lost_income_in_apr, dtype: int64"
      ]
     },
     "metadata": {},
     "output_type": "display_data"
    },
    {
     "name": "stdout",
     "output_type": "stream",
     "text": [
      "Number of missing values in 'lost_income_in_apr':  0 \n",
      "\n"
     ]
    },
    {
     "data": {
      "text/plain": [
       "3532.0     1742\n",
       "0.0         361\n",
       "2000.0      152\n",
       "3000.0      134\n",
       "4000.0      113\n",
       "           ... \n",
       "34000.0       1\n",
       "5760.0        1\n",
       "2190.0        1\n",
       "18800.0       1\n",
       "9300.0        1\n",
       "Name: total_income_in_apr, Length: 329, dtype: int64"
      ]
     },
     "metadata": {},
     "output_type": "display_data"
    },
    {
     "name": "stdout",
     "output_type": "stream",
     "text": [
      "Number of missing values in 'total_income_in_apr':  0 \n",
      "\n"
     ]
    }
   ],
   "source": [
    "# Source of income before April \n",
    "swdf = swdf[swdf['src_income_before_apr'].notna()]\n",
    "print(\"What was your household's main source of income before lockdown started on 27 March 2020?\")\n",
    "display(swdf['src_income_before_apr'].value_counts())\n",
    "print(\"Number of missing values in 'src_income_before_apr': \", swdf['src_income_before_apr'].isnull().sum(), '\\n')\n",
    "\n",
    "# Lost main source of income after April\n",
    "swdf = swdf[swdf['lost_income_in_apr'].notna()]\n",
    "print(\"Has your household lost its main source of income since the lockdown started on 27 March 2020?\")\n",
    "display(swdf['lost_income_in_apr'].value_counts())\n",
    "print(\"Number of missing values in 'lost_income_in_apr': \", swdf['lost_income_in_apr'].isnull().sum(), '\\n')\n",
    "\n",
    "# Household income tax after April\n",
    "swdf['total_income_in_apr'] = swdf['total_income_in_apr'].astype('float64') \n",
    "swdf_income = swdf['total_income_in_apr']\n",
    "\n",
    "mean = round(swdf_income.mean(),0)\n",
    "\n",
    "swdf['total_income_in_apr'].fillna(value=mean, inplace=True)\n",
    "display(swdf['total_income_in_apr'].value_counts())\n",
    "swdf = swdf[swdf['total_income_in_apr'].notna()]\n",
    "print(\"Number of missing values in 'total_income_in_apr': \", swdf['total_income_in_apr'].isnull().sum(), '\\n')"
   ]
  },
  {
   "cell_type": "markdown",
   "metadata": {},
   "source": [
    "---\n",
    "#### **Wrangling and Cleaning of Grant Data**\n",
    "---\n",
    "\n",
    "Let's take a look at the unique values of the **src_income_before_apr**, **lost_income_in_apr** and **total_income_in_apr** columns. "
   ]
  },
  {
   "cell_type": "code",
   "execution_count": 170,
   "metadata": {},
   "outputs": [
    {
     "name": "stdout",
     "output_type": "stream",
     "text": [
      "Did you receive the UIF reduced work time benefit in April?\n"
     ]
    },
    {
     "data": {
      "text/plain": [
       "No     1714\n",
       "Yes     129\n",
       "Name: uif_in_apr, dtype: int64"
      ]
     },
     "metadata": {},
     "output_type": "display_data"
    },
    {
     "name": "stdout",
     "output_type": "stream",
     "text": [
      "Number of missing values in 'uif_in_apr':  2805 \n",
      "\n",
      "Did you receive any kind of grant from the government in April?\n"
     ]
    },
    {
     "data": {
      "text/plain": [
       "No     3670\n",
       "Yes     967\n",
       "Name: grant_from_gov_ques, dtype: int64"
      ]
     },
     "metadata": {},
     "output_type": "display_data"
    },
    {
     "name": "stdout",
     "output_type": "stream",
     "text": [
      "Number of missing values in 'grant_from_gov_ques':  11 \n",
      "\n",
      "If you did receive a grant from the government in April, what kind of grant did you receive?\n"
     ]
    },
    {
     "data": {
      "text/plain": [
       "Child Support Grant (CSG)                        449\n",
       "Old Age Pension Grant (OAP)                      267\n",
       "Disability Grant                                  95\n",
       "Other (specify)                                   71\n",
       "R350 COVID-19 Social Relief of Distress Grant     33\n",
       "Foster Child Grant                                25\n",
       "Social relief or distress grant                   13\n",
       "Care Dependency Grant                             12\n",
       "War veterans grant                                 1\n",
       "Name: grant_from_gov, dtype: int64"
      ]
     },
     "metadata": {},
     "output_type": "display_data"
    },
    {
     "name": "stdout",
     "output_type": "stream",
     "text": [
      "Number of missing values in 'grant_from_gov':  3682 \n",
      "\n",
      "\n"
     ]
    }
   ],
   "source": [
    "print(\"Did you receive the UIF reduced work time benefit in April?\")\n",
    "display(swdf['uif_in_apr'].value_counts())\n",
    "print(\"Number of missing values in 'uif_in_apr': \", swdf['uif_in_apr'].isnull().sum(), '\\n')\n",
    "\n",
    "print(\"Did you receive any kind of grant from the government in April?\")\n",
    "display(swdf['grant_from_gov_ques'].value_counts())\n",
    "print(\"Number of missing values in 'grant_from_gov_ques': \", swdf['grant_from_gov_ques'].isnull().sum(), '\\n')\n",
    "\n",
    "print(\"If you did receive a grant from the government in April, what kind of grant did you receive?\")\n",
    "display(swdf['grant_from_gov'].value_counts())\n",
    "print(\"Number of missing values in 'grant_from_gov': \", swdf['grant_from_gov'].isna().sum(), '\\n')\n",
    "print(\"\") "
   ]
  },
  {
   "cell_type": "markdown",
   "metadata": {},
   "source": [
    "An interesting observation is that the **grant_from_gov_ques** only has 11 missing values. We can use this column to **impute** missing values in the **uif_in_apr** column. In this case we are assuming that if someone responded \"No\" to receiving any kind of grant from the government, then this implies that they did not receive the reduced work time benefit in April. For the **grant_from_gov_ques** we again remove the \"Refused\" and \"Don't know\" values. \n",
    "\n",
    "Also note that **'grant_from_gov'** missing 3682 values is correct. In the **grant_from_gov_ques** only 967 participants responded with \"Yes\". For the participant to be able to stipulate what kind of grant they received from the government they had to have had first received a grant from the government. The 3682 missing values are of participants who did not receive a grant from the government. Only the updated columns are represented in the following cell. "
   ]
  },
  {
   "cell_type": "code",
   "execution_count": 171,
   "metadata": {
    "scrolled": true
   },
   "outputs": [
    {
     "name": "stdout",
     "output_type": "stream",
     "text": [
      "Did you receive the UIF reduced work time benefit in April?\n"
     ]
    },
    {
     "data": {
      "text/plain": [
       "No     3849\n",
       "Yes     791\n",
       "Name: uif_in_apr, dtype: int64"
      ]
     },
     "metadata": {},
     "output_type": "display_data"
    },
    {
     "name": "stdout",
     "output_type": "stream",
     "text": [
      "Number of missing values in 'uif_in_apr':  0 \n",
      "\n",
      "Did you receive any kind of grant from the government in April?\n"
     ]
    },
    {
     "data": {
      "text/plain": [
       "No     3670\n",
       "Yes     967\n",
       "Name: grant_from_gov_ques, dtype: int64"
      ]
     },
     "metadata": {},
     "output_type": "display_data"
    },
    {
     "name": "stdout",
     "output_type": "stream",
     "text": [
      "Number of missing values in 'grant_from_gov_ques':  0 \n",
      "\n"
     ]
    }
   ],
   "source": [
    "# Fill missing values for uif_in_apr and remove incorrect values\n",
    "swdf.uif_in_apr.fillna(swdf.grant_from_gov_ques, inplace=True)\n",
    "swdf = swdf[swdf['uif_in_apr'].notna()]\n",
    "print(\"Did you receive the UIF reduced work time benefit in April?\")\n",
    "display(swdf['uif_in_apr'].value_counts())\n",
    "print(\"Number of missing values in 'uif_in_apr': \", swdf['uif_in_apr'].isnull().sum(), '\\n')\n",
    "\n",
    "# Remove unwanted results in grant_from_gov_ques\n",
    "swdf = swdf[swdf['grant_from_gov_ques'].notna()]\n",
    "grant_from_gov_ques = swdf['grant_from_gov_ques'] \n",
    "#grant_from_gov = swdf['grant_from_gov'] \n",
    "print(\"Did you receive any kind of grant from the government in April?\")\n",
    "display(swdf['grant_from_gov_ques'].value_counts())\n",
    "print(\"Number of missing values in 'grant_from_gov_ques': \", swdf['grant_from_gov_ques'].isnull().sum(), '\\n')\n",
    "\n",
    "\n",
    "# Operation for improving histogram in exploration section\n",
    "swdf = swdf[swdf['grant_from_gov'].notna()]\n",
    "#print(\"If you did receive a grant from the government in April, what kind of grant did you receive?\")\n",
    "#display(swdf['grant_from_gov_ques'].value_counts())\n",
    "#print(\"Number of missing values in 'grant_from_gov_ques': \", swdf['grant_from_gov_ques'].isnull().sum(), '\\n')\n",
    "\n"
   ]
  },
  {
   "cell_type": "markdown",
   "metadata": {},
   "source": [
    "---\n",
    "### 3.4 Exploratory Data Analysis\n",
    "---"
   ]
  },
  {
   "cell_type": "markdown",
   "metadata": {},
   "source": [
    "This section contains an investigation of the now cleaned and wrangled swdf dataframe. The exploration and analysis will look at 2 main components: grants received from the government and household income during April 2020. "
   ]
  },
  {
   "cell_type": "markdown",
   "metadata": {},
   "source": [
    "---\n",
    "#### **Exploration and Analysis of UIF and Other Grants in April**\n",
    "---"
   ]
  },
  {
   "cell_type": "markdown",
   "metadata": {},
   "source": [
    "Due to the mandated lockdown of 27 March 2020 many people were not able to go to work. To assist those that had now found themselves unemployed, the South African government stated that it would make available a UIF reduced work-time benefit in April 2020. The following three cells investigate the number of unemployed participants that actually received this benefit from the government during this time. "
   ]
  },
  {
   "cell_type": "markdown",
   "metadata": {},
   "source": [
    "In order to have been eligible to have received the UIF reduced work time benefit in April 2020 one must have either had their working hours reduced or have had lost their job during this time. The upcoming cell initializes an **unemployed_swdf** dataframe that only stores the data of participants that were unemployed during April 2020 (ie: the values in the **job_in_apr** and **work_in_apr** are both \"No\" for this subset of participants). "
   ]
  },
  {
   "cell_type": "code",
   "execution_count": 172,
   "metadata": {},
   "outputs": [],
   "source": [
    "unemployed_swdf = swdf.loc[(swdf['job_in_apr']=='No') & (swdf['work_in_apr']=='No')]"
   ]
  },
  {
   "cell_type": "code",
   "execution_count": 173,
   "metadata": {},
   "outputs": [
    {
     "data": {
      "text/plain": [
       "Text(0, 0.5, 'Proportion')"
      ]
     },
     "execution_count": 173,
     "metadata": {},
     "output_type": "execute_result"
    },
    {
     "data": {
      "image/png": "[encoded data removed]",
      "text/plain": [
       "<Figure size 720x432 with 1 Axes>"
      ]
     },
     "metadata": {
      "needs_background": "light"
     },
     "output_type": "display_data"
    }
   ],
   "source": [
    "unemp_swdf_plot = unemployed_swdf['uif_in_apr'].value_counts()/len(unemployed_swdf['uif_in_apr'])\n",
    "plt.figure(figsize=(10,6))\n",
    "unemp_swdf_plot.plot(kind='bar');\n",
    "plt.title(\"Did You Receive A UIF Reduced Work-Time Benefit in April?\");\n",
    "plt.xlabel(\"Response\"); plt.ylabel(\"Proportion\")"
   ]
  },
  {
   "cell_type": "markdown",
   "metadata": {},
   "source": [
    "It is fair to assume that most (if not all) of the unemployed participants in the sample would have been eligible to receive this benefit from the government during this time. It is also fair to assume that they would have applied for this benefit. However, only close to 30% of unemployed participants received this benefit. "
   ]
  },
  {
   "cell_type": "markdown",
   "metadata": {},
   "source": [
    "The following three cells investigate the other kinds of grants participants received from government during the inital stages of the Covid-19 pandemic. "
   ]
  },
  {
   "cell_type": "code",
   "execution_count": 174,
   "metadata": {},
   "outputs": [
    {
     "data": {
      "text/plain": [
       "Text(0, 0.5, 'Proportion')"
      ]
     },
     "execution_count": 174,
     "metadata": {},
     "output_type": "execute_result"
    },
    {
     "data": {
      "image/png": "[encoded data removed]",
      "text/plain": [
       "<Figure size 720x432 with 1 Axes>"
      ]
     },
     "metadata": {
      "needs_background": "light"
     },
     "output_type": "display_data"
    }
   ],
   "source": [
    "grant_from_gov_ques = grant_from_gov_ques.value_counts()/len(grant_from_gov_ques)\n",
    "plt.figure(figsize=(10,6))\n",
    "grant_from_gov_ques.plot(kind='bar');\n",
    "plt.title(\"Did you receive any kind of grant from the government in April?\");\n",
    "plt.xlabel(\"Response\"); plt.ylabel(\"Proportion\")"
   ]
  },
  {
   "cell_type": "markdown",
   "metadata": {},
   "source": [
    "Only about 20% of the sample space actually receieved any kind of grant from the government during April 2020. What kind of grants were these? And what kind of person was most likely to receive a grant from the government at this time?"
   ]
  },
  {
   "cell_type": "code",
   "execution_count": 175,
   "metadata": {},
   "outputs": [
    {
     "data": {
      "image/png": "[encoded data removed]",
      "text/plain": [
       "<Figure size 720x432 with 1 Axes>"
      ]
     },
     "metadata": {
      "needs_background": "light"
     },
     "output_type": "display_data"
    }
   ],
   "source": [
    "grant_from_gov = swdf['grant_from_gov'].value_counts()/len(swdf['grant_from_gov'])\n",
    "plt.figure(figsize=(10,6))\n",
    "sns.barplot(y = grant_from_gov.index, x = grant_from_gov.values)\n",
    "plt.xlabel('Proportion')\n",
    "plt.title(\"If you did receive a grant from the government in April, what kind of grant did you receive?\")\n",
    "plt.show()"
   ]
  },
  {
   "cell_type": "markdown",
   "metadata": {},
   "source": [
    "Over 40% of the sample received the Child Support Grant (CSG), and the second most receieved grant was the Old Age Pension Grant (OAP). A quick observation that could be made from this is that senior citizens and those with children were more likely to receive a grant from the government during this time. "
   ]
  },
  {
   "cell_type": "markdown",
   "metadata": {},
   "source": [
    "---\n",
    "#### **Exploration and Analysis of Household Income in April**\n",
    "---"
   ]
  },
  {
   "cell_type": "markdown",
   "metadata": {},
   "source": [
    "Here we explore the different ways that participants earn an income"
   ]
  },
  {
   "cell_type": "code",
   "execution_count": 176,
   "metadata": {
    "scrolled": false
   },
   "outputs": [
    {
     "data": {
      "image/png": "[encoded data removed]",
      "text/plain": [
       "<Figure size 720x432 with 1 Axes>"
      ]
     },
     "metadata": {
      "needs_background": "light"
     },
     "output_type": "display_data"
    }
   ],
   "source": [
    "src_income_before_apr = swdf['src_income_before_apr'].value_counts()/len(swdf['src_income_before_apr'])\n",
    "plt.figure(figsize=(10,6))\n",
    "sns.barplot(y = src_income_before_apr.index, x = src_income_before_apr.values)\n",
    "plt.xlabel('Proportion')\n",
    "plt.title(\"What was your household's main source of income before lockdown started on 27 March 2020?\")\n",
    "plt.show()"
   ]
  },
  {
   "cell_type": "markdown",
   "metadata": {},
   "source": [
    "An interesting observation is that over 60% of the participants stated that their main source of income came from government grants, yet only 20% of them actually received a grant from the government. "
   ]
  },
  {
   "cell_type": "code",
   "execution_count": 177,
   "metadata": {},
   "outputs": [
    {
     "data": {
      "text/plain": [
       "Text(0, 0.5, 'Proportion')"
      ]
     },
     "execution_count": 177,
     "metadata": {},
     "output_type": "execute_result"
    },
    {
     "data": {
      "image/png": "[encoded data removed]",
      "text/plain": [
       "<Figure size 720x432 with 1 Axes>"
      ]
     },
     "metadata": {
      "needs_background": "light"
     },
     "output_type": "display_data"
    }
   ],
   "source": [
    "lost_income_in_apr = swdf['lost_income_in_apr'].value_counts()/len(swdf['lost_income_in_apr'])\n",
    "plt.figure(figsize=(10,6))\n",
    "lost_income_in_apr.plot(kind='bar');\n",
    "plt.title(\"Has your household lost its main source of income since the lockdown started on 27 March 2020?\");\n",
    "plt.xlabel(\"Response\"); plt.ylabel(\"Proportion\")"
   ]
  },
  {
   "cell_type": "markdown",
   "metadata": {},
   "source": [
    "From this quick exploratory analysis of the swdf dataframe, it is quite evident that the government was ineffective at providing aid and assistance to those who had lost their jobs during the intial stages of the Covid-19 pandemic in South Africa."
   ]
  },
  {
   "cell_type": "markdown",
   "metadata": {},
   "source": [
    "## Welfare Model "
   ]
  },
  {
   "cell_type": "markdown",
   "metadata": {},
   "source": [
    "**Question: Given that the participants were unemployed, who was more likely to receive the UIF reduced work-time benefit from the government during April 2020?**"
   ]
  },
  {
   "cell_type": "markdown",
   "metadata": {},
   "source": [
    "The model in this section aims to determine if an unemployed participant received the UIF reduced work time benefit from the government during April 2020. To generate the model, we first drop the **uif_in_apr** column from the **model_df** dataframe and set that as the target variable y. The remaining columns in the dataframe are used as the explanatory variables X. We then split the dataframe into a training and testing set. The training set will be used to generate and improve an initial model, and the testing set will be used to evaluate the final model. The training data makes up 80% of the dataframe and the testing data makes up 20%. From here, we generate an initial model of the form: \n",
    "<br><br>\n",
    "$$y = \\beta_1x_1 + \\beta_2x_2 +...+ \\beta_dx_d = \\sum \\limits _{i=1} ^{d}\\beta_ix_i  $$.\n",
    "<br>\n",
    "After generating this model, we explore the p-values of all of its variables and only keep the variables with a p-value less than 0.05. At the end of this section, residual analysis is performed to find any outliers in the dataset and determine if there are any biased explanatory variables."
   ]
  },
  {
   "cell_type": "markdown",
   "metadata": {},
   "source": [
    "Our initial assumption for model fitting is that **gender** and **grant_from_gov** will be the most significant variables in the generated model (ie: the ones with the lowest p-values). Since women were more likely to lose their jobs in April 2020 (as stipulated in the Labour Section), they would be more likely to receive the benefit from the government during this time. We believe that **grant_from_gov** is also a significant variable because if a participant was depending on the government for welfare during this time, then they would also most likely receive the benefit. "
   ]
  },
  {
   "cell_type": "code",
   "execution_count": 199,
   "metadata": {
    "scrolled": true
   },
   "outputs": [
    {
     "data": {
      "text/html": [
       "<div>\n",
       "<style scoped>\n",
       "    .dataframe tbody tr th:only-of-type {\n",
       "        vertical-align: middle;\n",
       "    }\n",
       "\n",
       "    .dataframe tbody tr th {\n",
       "        vertical-align: top;\n",
       "    }\n",
       "\n",
       "    .dataframe thead th {\n",
       "        text-align: right;\n",
       "    }\n",
       "</style>\n",
       "<table border=\"1\" class=\"dataframe\">\n",
       "  <thead>\n",
       "    <tr style=\"text-align: right;\">\n",
       "      <th></th>\n",
       "      <th>age</th>\n",
       "      <th>gender</th>\n",
       "      <th>race</th>\n",
       "      <th>highest_grade</th>\n",
       "      <th>tertiary_edu</th>\n",
       "      <th>province_current</th>\n",
       "      <th>province_moved</th>\n",
       "      <th>province_before</th>\n",
       "      <th>province_during</th>\n",
       "      <th>job_in_apr</th>\n",
       "      <th>work_in_apr</th>\n",
       "      <th>src_income_before_apr</th>\n",
       "      <th>lost_income_in_apr</th>\n",
       "      <th>total_income_in_apr</th>\n",
       "      <th>uif_in_apr</th>\n",
       "      <th>grant_from_gov_ques</th>\n",
       "      <th>grant_from_gov</th>\n",
       "    </tr>\n",
       "  </thead>\n",
       "  <tbody>\n",
       "    <tr>\n",
       "      <th>0</th>\n",
       "      <td>39.0</td>\n",
       "      <td>Man</td>\n",
       "      <td>White</td>\n",
       "      <td>Grade 9</td>\n",
       "      <td>No</td>\n",
       "      <td>Gauteng</td>\n",
       "      <td>No</td>\n",
       "      <td>NaN</td>\n",
       "      <td>NaN</td>\n",
       "      <td>No</td>\n",
       "      <td>No</td>\n",
       "      <td>Income from a business</td>\n",
       "      <td>No</td>\n",
       "      <td>3532.0</td>\n",
       "      <td>No</td>\n",
       "      <td>Yes</td>\n",
       "      <td>Disability Grant</td>\n",
       "    </tr>\n",
       "    <tr>\n",
       "      <th>1</th>\n",
       "      <td>72.0</td>\n",
       "      <td>Woman</td>\n",
       "      <td>Asian/Indian</td>\n",
       "      <td>Grade 0</td>\n",
       "      <td>NaN</td>\n",
       "      <td>KwaZulu-Natal</td>\n",
       "      <td>No</td>\n",
       "      <td>NaN</td>\n",
       "      <td>NaN</td>\n",
       "      <td>NaN</td>\n",
       "      <td>NaN</td>\n",
       "      <td>NaN</td>\n",
       "      <td>NaN</td>\n",
       "      <td>NaN</td>\n",
       "      <td>NaN</td>\n",
       "      <td>NaN</td>\n",
       "      <td>NaN</td>\n",
       "    </tr>\n",
       "    <tr>\n",
       "      <th>2</th>\n",
       "      <td>30.0</td>\n",
       "      <td>Woman</td>\n",
       "      <td>African/Black</td>\n",
       "      <td>Grade 10</td>\n",
       "      <td>Yes</td>\n",
       "      <td>Gauteng</td>\n",
       "      <td>No</td>\n",
       "      <td>NaN</td>\n",
       "      <td>NaN</td>\n",
       "      <td>No</td>\n",
       "      <td>No</td>\n",
       "      <td>Government grants</td>\n",
       "      <td>Yes</td>\n",
       "      <td>1500.0</td>\n",
       "      <td>No</td>\n",
       "      <td>Yes</td>\n",
       "      <td>Child Support Grant (CSG)</td>\n",
       "    </tr>\n",
       "    <tr>\n",
       "      <th>3</th>\n",
       "      <td>48.0</td>\n",
       "      <td>Woman</td>\n",
       "      <td>African/Black</td>\n",
       "      <td>Grade 10</td>\n",
       "      <td>No</td>\n",
       "      <td>Gauteng</td>\n",
       "      <td>No</td>\n",
       "      <td>NaN</td>\n",
       "      <td>NaN</td>\n",
       "      <td>No</td>\n",
       "      <td>No</td>\n",
       "      <td>Government grants</td>\n",
       "      <td>Yes</td>\n",
       "      <td>4200.0</td>\n",
       "      <td>Yes</td>\n",
       "      <td>Yes</td>\n",
       "      <td>Child Support Grant (CSG)</td>\n",
       "    </tr>\n",
       "    <tr>\n",
       "      <th>4</th>\n",
       "      <td>49.0</td>\n",
       "      <td>Woman</td>\n",
       "      <td>African/Black</td>\n",
       "      <td>Grade 9</td>\n",
       "      <td>No</td>\n",
       "      <td>Gauteng</td>\n",
       "      <td>No</td>\n",
       "      <td>NaN</td>\n",
       "      <td>NaN</td>\n",
       "      <td>NaN</td>\n",
       "      <td>NaN</td>\n",
       "      <td>NaN</td>\n",
       "      <td>NaN</td>\n",
       "      <td>NaN</td>\n",
       "      <td>NaN</td>\n",
       "      <td>NaN</td>\n",
       "      <td>NaN</td>\n",
       "    </tr>\n",
       "  </tbody>\n",
       "</table>\n",
       "</div>"
      ],
      "text/plain": [
       "    age gender           race highest_grade tertiary_edu province_current  \\\n",
       "0  39.0    Man          White       Grade 9           No          Gauteng   \n",
       "1  72.0  Woman   Asian/Indian       Grade 0          NaN    KwaZulu-Natal   \n",
       "2  30.0  Woman  African/Black      Grade 10          Yes          Gauteng   \n",
       "3  48.0  Woman  African/Black      Grade 10           No          Gauteng   \n",
       "4  49.0  Woman  African/Black       Grade 9           No          Gauteng   \n",
       "\n",
       "  province_moved province_before province_during job_in_apr work_in_apr  \\\n",
       "0             No             NaN             NaN         No          No   \n",
       "1             No             NaN             NaN        NaN         NaN   \n",
       "2             No             NaN             NaN         No          No   \n",
       "3             No             NaN             NaN         No          No   \n",
       "4             No             NaN             NaN        NaN         NaN   \n",
       "\n",
       "    src_income_before_apr lost_income_in_apr  total_income_in_apr uif_in_apr  \\\n",
       "0  Income from a business                 No               3532.0         No   \n",
       "1                     NaN                NaN                  NaN        NaN   \n",
       "2       Government grants                Yes               1500.0         No   \n",
       "3       Government grants                Yes               4200.0        Yes   \n",
       "4                     NaN                NaN                  NaN        NaN   \n",
       "\n",
       "  grant_from_gov_ques             grant_from_gov  \n",
       "0                 Yes           Disability Grant  \n",
       "1                 NaN                        NaN  \n",
       "2                 Yes  Child Support Grant (CSG)  \n",
       "3                 Yes  Child Support Grant (CSG)  \n",
       "4                 NaN                        NaN  "
      ]
     },
     "execution_count": 199,
     "metadata": {},
     "output_type": "execute_result"
    }
   ],
   "source": [
    "model_df = pd.concat([demdf, unemployed_swdf], axis=1)\n",
    "model_df.head()"
   ]
  },
  {
   "cell_type": "markdown",
   "metadata": {},
   "source": [
    "The **province_current**, **province_moved**, **province_before** and **province_during** columns are dropped as they are not relevant for the model that will be built in this section. Since the dataframe only stores information of unemployed individuals, **job_in_Apr** and **work_in_apr** only store the response \"No\". Therefore, these columns are also dropped because they are redundant. "
   ]
  },
  {
   "cell_type": "code",
   "execution_count": 200,
   "metadata": {
    "scrolled": true
   },
   "outputs": [
    {
     "data": {
      "text/html": [
       "<div>\n",
       "<style scoped>\n",
       "    .dataframe tbody tr th:only-of-type {\n",
       "        vertical-align: middle;\n",
       "    }\n",
       "\n",
       "    .dataframe tbody tr th {\n",
       "        vertical-align: top;\n",
       "    }\n",
       "\n",
       "    .dataframe thead th {\n",
       "        text-align: right;\n",
       "    }\n",
       "</style>\n",
       "<table border=\"1\" class=\"dataframe\">\n",
       "  <thead>\n",
       "    <tr style=\"text-align: right;\">\n",
       "      <th></th>\n",
       "      <th>age</th>\n",
       "      <th>gender</th>\n",
       "      <th>race</th>\n",
       "      <th>highest_grade</th>\n",
       "      <th>tertiary_edu</th>\n",
       "      <th>src_income_before_apr</th>\n",
       "      <th>lost_income_in_apr</th>\n",
       "      <th>total_income_in_apr</th>\n",
       "      <th>uif_in_apr</th>\n",
       "      <th>grant_from_gov_ques</th>\n",
       "      <th>grant_from_gov</th>\n",
       "    </tr>\n",
       "  </thead>\n",
       "  <tbody>\n",
       "    <tr>\n",
       "      <th>0</th>\n",
       "      <td>39.0</td>\n",
       "      <td>Man</td>\n",
       "      <td>White</td>\n",
       "      <td>Grade 9</td>\n",
       "      <td>No</td>\n",
       "      <td>Income from a business</td>\n",
       "      <td>No</td>\n",
       "      <td>3532.0</td>\n",
       "      <td>No</td>\n",
       "      <td>Yes</td>\n",
       "      <td>Disability Grant</td>\n",
       "    </tr>\n",
       "    <tr>\n",
       "      <th>1</th>\n",
       "      <td>72.0</td>\n",
       "      <td>Woman</td>\n",
       "      <td>Asian/Indian</td>\n",
       "      <td>Grade 0</td>\n",
       "      <td>NaN</td>\n",
       "      <td>NaN</td>\n",
       "      <td>NaN</td>\n",
       "      <td>NaN</td>\n",
       "      <td>NaN</td>\n",
       "      <td>NaN</td>\n",
       "      <td>NaN</td>\n",
       "    </tr>\n",
       "    <tr>\n",
       "      <th>2</th>\n",
       "      <td>30.0</td>\n",
       "      <td>Woman</td>\n",
       "      <td>African/Black</td>\n",
       "      <td>Grade 10</td>\n",
       "      <td>Yes</td>\n",
       "      <td>Government grants</td>\n",
       "      <td>Yes</td>\n",
       "      <td>1500.0</td>\n",
       "      <td>No</td>\n",
       "      <td>Yes</td>\n",
       "      <td>Child Support Grant (CSG)</td>\n",
       "    </tr>\n",
       "    <tr>\n",
       "      <th>3</th>\n",
       "      <td>48.0</td>\n",
       "      <td>Woman</td>\n",
       "      <td>African/Black</td>\n",
       "      <td>Grade 10</td>\n",
       "      <td>No</td>\n",
       "      <td>Government grants</td>\n",
       "      <td>Yes</td>\n",
       "      <td>4200.0</td>\n",
       "      <td>Yes</td>\n",
       "      <td>Yes</td>\n",
       "      <td>Child Support Grant (CSG)</td>\n",
       "    </tr>\n",
       "    <tr>\n",
       "      <th>4</th>\n",
       "      <td>49.0</td>\n",
       "      <td>Woman</td>\n",
       "      <td>African/Black</td>\n",
       "      <td>Grade 9</td>\n",
       "      <td>No</td>\n",
       "      <td>NaN</td>\n",
       "      <td>NaN</td>\n",
       "      <td>NaN</td>\n",
       "      <td>NaN</td>\n",
       "      <td>NaN</td>\n",
       "      <td>NaN</td>\n",
       "    </tr>\n",
       "  </tbody>\n",
       "</table>\n",
       "</div>"
      ],
      "text/plain": [
       "    age gender           race highest_grade tertiary_edu  \\\n",
       "0  39.0    Man          White       Grade 9           No   \n",
       "1  72.0  Woman   Asian/Indian       Grade 0          NaN   \n",
       "2  30.0  Woman  African/Black      Grade 10          Yes   \n",
       "3  48.0  Woman  African/Black      Grade 10           No   \n",
       "4  49.0  Woman  African/Black       Grade 9           No   \n",
       "\n",
       "    src_income_before_apr lost_income_in_apr  total_income_in_apr uif_in_apr  \\\n",
       "0  Income from a business                 No               3532.0         No   \n",
       "1                     NaN                NaN                  NaN        NaN   \n",
       "2       Government grants                Yes               1500.0         No   \n",
       "3       Government grants                Yes               4200.0        Yes   \n",
       "4                     NaN                NaN                  NaN        NaN   \n",
       "\n",
       "  grant_from_gov_ques             grant_from_gov  \n",
       "0                 Yes           Disability Grant  \n",
       "1                 NaN                        NaN  \n",
       "2                 Yes  Child Support Grant (CSG)  \n",
       "3                 Yes  Child Support Grant (CSG)  \n",
       "4                 NaN                        NaN  "
      ]
     },
     "execution_count": 200,
     "metadata": {},
     "output_type": "execute_result"
    }
   ],
   "source": [
    "model_df = model_df.drop([\"province_current\", \"province_moved\", \"province_before\", \"province_during\", \"job_in_apr\", \"work_in_apr\"], axis=1)\n",
    "model_df.head()"
   ]
  },
  {
   "cell_type": "markdown",
   "metadata": {},
   "source": [
    "The following functions will be used to assign numerical values to all of the relevant categorical values in the **model_df** dataframe."
   ]
  },
  {
   "cell_type": "code",
   "execution_count": 201,
   "metadata": {},
   "outputs": [],
   "source": [
    "def check_gender(gender):\n",
    "    if gender == \"Woman\": return 1\n",
    "    else: return 0\n",
    "\n",
    "def check_matric(highest_grade):\n",
    "    if highest_grade == \"Grade 12\": return 1\n",
    "    else: return 0\n",
    "\n",
    "def check_tertedu(tertiary_edu):\n",
    "    if tertiary_edu == \"Yes\" : return 1 \n",
    "    else: return 0 \n",
    "    \n",
    "def check_race(race):\n",
    "    if race == \"African/Black\": return 0\n",
    "    elif race == \"Coloured\": return 1\n",
    "    elif race == \"White\": return 2\n",
    "    else: return 4\n",
    "    \n",
    "def check_grant_type(grant_from_gov):\n",
    "    if grant_from_gov == \"Child Support Grant (CSG)\": return 0\n",
    "    elif grant_from_gov == \"Old Age Pension Grant (OAP)\": return 1\n",
    "    elif grant_from_gov == \"Disability Grant\": return 2\n",
    "    elif grant_from_gov == \"R350 COVID-19 Social Relief of Distress Grant\": return 3\n",
    "    elif grant_from_gov == \"Foster Child Grant\": return 4\n",
    "    elif grant_from_gov == \"Social relief or distress grant\": return 5\n",
    "    elif grant_from_gov == \"Care Dependency Grant\": return 6\n",
    "    else: return 7\n",
    "    \n",
    "\n",
    "def check_income_source(source_income):\n",
    "    if source_income == \"Government grants\": return 0\n",
    "    elif source_income == \"Income from employment\": return 1\n",
    "    elif source_income == \"Household had no income in February\": return 2\n",
    "    elif source_income == \"Income from a business\": return 3\n",
    "    elif source_income == \"Money from friends or family\": return 4\n",
    "    else: return 5"
   ]
  },
  {
   "cell_type": "markdown",
   "metadata": {},
   "source": [
    "Assign numerical values to all of the relevant categorical values in the **model_df** dataframe. In addition, the **highest_grade** column is renamed to **matric** and stores a binary value indicating whether or not the participant completed Grade 12."
   ]
  },
  {
   "cell_type": "code",
   "execution_count": 202,
   "metadata": {},
   "outputs": [
    {
     "data": {
      "text/html": [
       "<div>\n",
       "<style scoped>\n",
       "    .dataframe tbody tr th:only-of-type {\n",
       "        vertical-align: middle;\n",
       "    }\n",
       "\n",
       "    .dataframe tbody tr th {\n",
       "        vertical-align: top;\n",
       "    }\n",
       "\n",
       "    .dataframe thead th {\n",
       "        text-align: right;\n",
       "    }\n",
       "</style>\n",
       "<table border=\"1\" class=\"dataframe\">\n",
       "  <thead>\n",
       "    <tr style=\"text-align: right;\">\n",
       "      <th></th>\n",
       "      <th>age</th>\n",
       "      <th>gender</th>\n",
       "      <th>race</th>\n",
       "      <th>matric</th>\n",
       "      <th>tertiary_edu</th>\n",
       "      <th>src_income_before_apr</th>\n",
       "      <th>lost_income_in_apr</th>\n",
       "      <th>total_income_in_apr</th>\n",
       "      <th>uif_in_apr</th>\n",
       "      <th>grant_from_gov_ques</th>\n",
       "      <th>grant_from_gov</th>\n",
       "    </tr>\n",
       "  </thead>\n",
       "  <tbody>\n",
       "    <tr>\n",
       "      <th>0</th>\n",
       "      <td>39.0</td>\n",
       "      <td>0</td>\n",
       "      <td>2</td>\n",
       "      <td>0</td>\n",
       "      <td>0.0</td>\n",
       "      <td>3</td>\n",
       "      <td>0</td>\n",
       "      <td>3532.0</td>\n",
       "      <td>0</td>\n",
       "      <td>1</td>\n",
       "      <td>2</td>\n",
       "    </tr>\n",
       "    <tr>\n",
       "      <th>2</th>\n",
       "      <td>30.0</td>\n",
       "      <td>1</td>\n",
       "      <td>0</td>\n",
       "      <td>0</td>\n",
       "      <td>1.0</td>\n",
       "      <td>0</td>\n",
       "      <td>1</td>\n",
       "      <td>1500.0</td>\n",
       "      <td>0</td>\n",
       "      <td>1</td>\n",
       "      <td>0</td>\n",
       "    </tr>\n",
       "    <tr>\n",
       "      <th>3</th>\n",
       "      <td>48.0</td>\n",
       "      <td>1</td>\n",
       "      <td>0</td>\n",
       "      <td>0</td>\n",
       "      <td>0.0</td>\n",
       "      <td>0</td>\n",
       "      <td>1</td>\n",
       "      <td>4200.0</td>\n",
       "      <td>1</td>\n",
       "      <td>1</td>\n",
       "      <td>0</td>\n",
       "    </tr>\n",
       "    <tr>\n",
       "      <th>19</th>\n",
       "      <td>39.0</td>\n",
       "      <td>1</td>\n",
       "      <td>0</td>\n",
       "      <td>1</td>\n",
       "      <td>1.0</td>\n",
       "      <td>1</td>\n",
       "      <td>0</td>\n",
       "      <td>3532.0</td>\n",
       "      <td>0</td>\n",
       "      <td>1</td>\n",
       "      <td>0</td>\n",
       "    </tr>\n",
       "    <tr>\n",
       "      <th>43</th>\n",
       "      <td>49.0</td>\n",
       "      <td>0</td>\n",
       "      <td>0</td>\n",
       "      <td>0</td>\n",
       "      <td>0.0</td>\n",
       "      <td>4</td>\n",
       "      <td>1</td>\n",
       "      <td>1800.0</td>\n",
       "      <td>1</td>\n",
       "      <td>1</td>\n",
       "      <td>2</td>\n",
       "    </tr>\n",
       "  </tbody>\n",
       "</table>\n",
       "</div>"
      ],
      "text/plain": [
       "     age  gender  race  matric  tertiary_edu  src_income_before_apr  \\\n",
       "0   39.0       0     2       0           0.0                      3   \n",
       "2   30.0       1     0       0           1.0                      0   \n",
       "3   48.0       1     0       0           0.0                      0   \n",
       "19  39.0       1     0       1           1.0                      1   \n",
       "43  49.0       0     0       0           0.0                      4   \n",
       "\n",
       "   lost_income_in_apr  total_income_in_apr uif_in_apr grant_from_gov_ques  \\\n",
       "0                   0               3532.0          0                   1   \n",
       "2                   1               1500.0          0                   1   \n",
       "3                   1               4200.0          1                   1   \n",
       "19                  0               3532.0          0                   1   \n",
       "43                  1               1800.0          1                   1   \n",
       "\n",
       "    grant_from_gov  \n",
       "0                2  \n",
       "2                0  \n",
       "3                0  \n",
       "19               0  \n",
       "43               2  "
      ]
     },
     "execution_count": 202,
     "metadata": {},
     "output_type": "execute_result"
    }
   ],
   "source": [
    "# Convert all \"Yes\" or \"No\" answers in the entire dataframe.\n",
    "model_df = model_df.replace(\"No\", 0)\n",
    "model_df = model_df.replace(\"Yes\", 1)\n",
    "\n",
    "# Assign numerical values to all of the relevant categorical values in the model_df dataframe.\n",
    "model_df[\"gender\"] = np.vectorize(check_gender)(model_df[\"gender\"])\n",
    "model_df[\"race\"] = np.vectorize(check_race)(model_df[\"race\"])\n",
    "model_df[\"highest_grade\"] = np.vectorize(check_matric)(model_df[\"highest_grade\"])\n",
    "model_df[\"src_income_before_apr\"] = np.vectorize(check_income_source)(model_df[\"src_income_before_apr\"])\n",
    "model_df[\"grant_from_gov\"] = np.vectorize(check_grant_type)(model_df[\"grant_from_gov\"])\n",
    "\n",
    "# Change highest grade to matric\n",
    "model_df.rename(columns = {'highest_grade':'matric'}, inplace = True)\n",
    "\n",
    "# Drop all NaN values in the dataframe\n",
    "model_df = model_df.dropna()\n",
    "\n",
    "model_df.head()"
   ]
  },
  {
   "cell_type": "markdown",
   "metadata": {},
   "source": [
    "Convert all columns to their appropriate data type. "
   ]
  },
  {
   "cell_type": "code",
   "execution_count": 203,
   "metadata": {
    "scrolled": true
   },
   "outputs": [],
   "source": [
    "model_df.age = model_df.age.astype('float64')\n",
    "model_df.gender = model_df.gender.astype('category')\n",
    "model_df.race = model_df.race.astype('category')\n",
    "model_df.matric_grade = model_df.matric.astype('category')\n",
    "model_df.tertiary_edu = model_df.tertiary_edu.astype('category')\n",
    "model_df.src_income_before_apr = model_df.src_income_before_apr.astype('category')\n",
    "model_df.lost_income_in_apr = model_df.lost_income_in_apr.astype('category')\n",
    "model_df.total_income_in_apr = model_df.total_income_in_apr.astype('float64')\n",
    "model_df.uif_in_apr = model_df.uif_in_apr.astype('category')\n",
    "model_df.grant_from_gov_ques = model_df.grant_from_gov_ques.astype('category')\n",
    "model_df.grant_from_gov = model_df.grant_from_gov.astype('category')"
   ]
  },
  {
   "cell_type": "markdown",
   "metadata": {},
   "source": [
    "Before we generate a model, we need to split the into a training and testing set. The training data makes up 80% of the dataframe and the testing data makes up 20%."
   ]
  },
  {
   "cell_type": "code",
   "execution_count": 204,
   "metadata": {},
   "outputs": [],
   "source": [
    "# Split the data into the explanatory varaibles X and the target variable y \n",
    "y = model_df[\"uif_in_apr\"]\n",
    "X = model_df.drop(\"uif_in_apr\", axis=1)\n",
    "\n",
    "# Split the data into an 80% training set and a 20% testing split\n",
    "X_train, X_test, y_train, y_test = train_test_split(X,y,test_size=0.2, random_state=101)"
   ]
  },
  {
   "cell_type": "markdown",
   "metadata": {},
   "source": [
    "We are using the variables in the **model_df** dataframe to determine who was more likely to receive the UIF reduced work-time benefit from the government during April 2020. Essentially, we are modelling a categorical response variable (**uif_in_apr**) with only two response categories (\"Yes\" and \"No\"). Thus, we will be constructing a Binary Logistic Regression. The initial model we construct has the following form: \n",
    "\n",
    "$$y = \\beta_1age + \\beta_2gender + \\beta_3race + \\beta_4matric + \\beta_5tertiary\\_edu + \\beta_6src\\_income\\_before\\_apr + \\beta_7lost\\_income\\_in\\_apr + \\beta_8total\\_income\\_in\\_apr + \\beta_9grant\\_from\\_gov\\_ques + \\beta_{10}grant\\_from\\_gov $$\n",
    "\n",
    "Where $y$ represents the logarithm of the odds that a respondent will receive the UIF reduced work-time benefit from the government during April 2020.\n",
    "\n",
    "Constructing this initial model using the training data yields:"
   ]
  },
  {
   "cell_type": "code",
   "execution_count": 205,
   "metadata": {},
   "outputs": [
    {
     "data": {
      "text/html": [
       "<table class=\"simpletable\">\n",
       "<caption>Logit Regression Results</caption>\n",
       "<tr>\n",
       "  <th>Dep. Variable:</th>      <td>uif_in_apr</td>    <th>  No. Observations:  </th>  <td>   452</td>  \n",
       "</tr>\n",
       "<tr>\n",
       "  <th>Model:</th>                 <td>Logit</td>      <th>  Df Residuals:      </th>  <td>   442</td>  \n",
       "</tr>\n",
       "<tr>\n",
       "  <th>Method:</th>                 <td>MLE</td>       <th>  Df Model:          </th>  <td>     9</td>  \n",
       "</tr>\n",
       "<tr>\n",
       "  <th>Date:</th>            <td>Mon, 21 Jun 2021</td> <th>  Pseudo R-squ.:     </th>  <td>0.05354</td> \n",
       "</tr>\n",
       "<tr>\n",
       "  <th>Time:</th>                <td>11:12:14</td>     <th>  Log-Likelihood:    </th> <td> -283.73</td> \n",
       "</tr>\n",
       "<tr>\n",
       "  <th>converged:</th>             <td>True</td>       <th>  LL-Null:           </th> <td> -299.78</td> \n",
       "</tr>\n",
       "<tr>\n",
       "  <th>Covariance Type:</th>     <td>nonrobust</td>    <th>  LLR p-value:       </th> <td>0.0001915</td>\n",
       "</tr>\n",
       "</table>\n",
       "<table class=\"simpletable\">\n",
       "<tr>\n",
       "            <td></td>               <th>coef</th>     <th>std err</th>      <th>z</th>      <th>P>|z|</th>  <th>[0.025</th>    <th>0.975]</th>  \n",
       "</tr>\n",
       "<tr>\n",
       "  <th>age</th>                   <td>   -0.0086</td> <td>    0.009</td> <td>   -1.011</td> <td> 0.312</td> <td>   -0.025</td> <td>    0.008</td>\n",
       "</tr>\n",
       "<tr>\n",
       "  <th>gender</th>                <td>    0.3094</td> <td>    0.262</td> <td>    1.183</td> <td> 0.237</td> <td>   -0.203</td> <td>    0.822</td>\n",
       "</tr>\n",
       "<tr>\n",
       "  <th>race</th>                  <td>   -0.0146</td> <td>    0.194</td> <td>   -0.075</td> <td> 0.940</td> <td>   -0.396</td> <td>    0.366</td>\n",
       "</tr>\n",
       "<tr>\n",
       "  <th>matric</th>                <td>   -0.3300</td> <td>    0.217</td> <td>   -1.520</td> <td> 0.128</td> <td>   -0.755</td> <td>    0.095</td>\n",
       "</tr>\n",
       "<tr>\n",
       "  <th>tertiary_edu</th>          <td>   -0.4498</td> <td>    0.228</td> <td>   -1.972</td> <td> 0.049</td> <td>   -0.897</td> <td>   -0.003</td>\n",
       "</tr>\n",
       "<tr>\n",
       "  <th>src_income_before_apr</th> <td>    0.0252</td> <td>    0.091</td> <td>    0.278</td> <td> 0.781</td> <td>   -0.153</td> <td>    0.203</td>\n",
       "</tr>\n",
       "<tr>\n",
       "  <th>lost_income_in_apr</th>    <td>   -0.3510</td> <td>    0.205</td> <td>   -1.712</td> <td> 0.087</td> <td>   -0.753</td> <td>    0.051</td>\n",
       "</tr>\n",
       "<tr>\n",
       "  <th>total_income_in_apr</th>   <td>-7.879e-06</td> <td>    3e-05</td> <td>   -0.263</td> <td> 0.793</td> <td>-6.67e-05</td> <td> 5.09e-05</td>\n",
       "</tr>\n",
       "<tr>\n",
       "  <th>grant_from_gov_ques</th>   <td>    0.7573</td> <td>    0.445</td> <td>    1.703</td> <td> 0.089</td> <td>   -0.114</td> <td>    1.629</td>\n",
       "</tr>\n",
       "<tr>\n",
       "  <th>grant_from_gov</th>        <td>    0.2081</td> <td>    0.055</td> <td>    3.780</td> <td> 0.000</td> <td>    0.100</td> <td>    0.316</td>\n",
       "</tr>\n",
       "</table>"
      ],
      "text/plain": [
       "<class 'statsmodels.iolib.summary.Summary'>\n",
       "\"\"\"\n",
       "                           Logit Regression Results                           \n",
       "==============================================================================\n",
       "Dep. Variable:             uif_in_apr   No. Observations:                  452\n",
       "Model:                          Logit   Df Residuals:                      442\n",
       "Method:                           MLE   Df Model:                            9\n",
       "Date:                Mon, 21 Jun 2021   Pseudo R-squ.:                 0.05354\n",
       "Time:                        11:12:14   Log-Likelihood:                -283.73\n",
       "converged:                       True   LL-Null:                       -299.78\n",
       "Covariance Type:            nonrobust   LLR p-value:                 0.0001915\n",
       "=========================================================================================\n",
       "                            coef    std err          z      P>|z|      [0.025      0.975]\n",
       "-----------------------------------------------------------------------------------------\n",
       "age                      -0.0086      0.009     -1.011      0.312      -0.025       0.008\n",
       "gender                    0.3094      0.262      1.183      0.237      -0.203       0.822\n",
       "race                     -0.0146      0.194     -0.075      0.940      -0.396       0.366\n",
       "matric                   -0.3300      0.217     -1.520      0.128      -0.755       0.095\n",
       "tertiary_edu             -0.4498      0.228     -1.972      0.049      -0.897      -0.003\n",
       "src_income_before_apr     0.0252      0.091      0.278      0.781      -0.153       0.203\n",
       "lost_income_in_apr       -0.3510      0.205     -1.712      0.087      -0.753       0.051\n",
       "total_income_in_apr   -7.879e-06      3e-05     -0.263      0.793   -6.67e-05    5.09e-05\n",
       "grant_from_gov_ques       0.7573      0.445      1.703      0.089      -0.114       1.629\n",
       "grant_from_gov            0.2081      0.055      3.780      0.000       0.100       0.316\n",
       "=========================================================================================\n",
       "\"\"\""
      ]
     },
     "execution_count": 205,
     "metadata": {},
     "output_type": "execute_result"
    }
   ],
   "source": [
    "fitlogreg = sm.Logit(y_train, X_train[[\"age\", \"gender\", \"race\", \"matric\", \"tertiary_edu\", \"src_income_before_apr\", \"lost_income_in_apr\", \"total_income_in_apr\", \"grant_from_gov_ques\", \"grant_from_gov\"]]).fit(disp=0)\n",
    "fitlogreg.summary()"
   ]
  },
  {
   "cell_type": "markdown",
   "metadata": {},
   "source": [
    "Inspecting the results of this initial implementation we observe that the **age**, **gender**, **lost_income_in_apr** and **grant_from_gov** variables have p-values less than 0.05. This indicates that these four variables are statistically more signifacant than the other variables in the initial model. We select a subset of features and construct a reduced model as: \n",
    "\n",
    "$$y = \\beta_1age + \\beta_2gender  + \\beta_3lost\\_income\\_in\\_apr + \\beta_4grant\\_from\\_gov$$\n",
    "\n",
    "The reduced model yields the following results: "
   ]
  },
  {
   "cell_type": "code",
   "execution_count": 206,
   "metadata": {},
   "outputs": [
    {
     "data": {
      "text/html": [
       "<table class=\"simpletable\">\n",
       "<caption>Logit Regression Results</caption>\n",
       "<tr>\n",
       "  <th>Dep. Variable:</th>      <td>uif_in_apr</td>    <th>  No. Observations:  </th>  <td>   452</td>  \n",
       "</tr>\n",
       "<tr>\n",
       "  <th>Model:</th>                 <td>Logit</td>      <th>  Df Residuals:      </th>  <td>   448</td>  \n",
       "</tr>\n",
       "<tr>\n",
       "  <th>Method:</th>                 <td>MLE</td>       <th>  Df Model:          </th>  <td>     3</td>  \n",
       "</tr>\n",
       "<tr>\n",
       "  <th>Date:</th>            <td>Mon, 21 Jun 2021</td> <th>  Pseudo R-squ.:     </th>  <td>0.03784</td> \n",
       "</tr>\n",
       "<tr>\n",
       "  <th>Time:</th>                <td>11:12:18</td>     <th>  Log-Likelihood:    </th> <td> -288.44</td> \n",
       "</tr>\n",
       "<tr>\n",
       "  <th>converged:</th>             <td>True</td>       <th>  LL-Null:           </th> <td> -299.78</td> \n",
       "</tr>\n",
       "<tr>\n",
       "  <th>Covariance Type:</th>     <td>nonrobust</td>    <th>  LLR p-value:       </th> <td>4.695e-05</td>\n",
       "</tr>\n",
       "</table>\n",
       "<table class=\"simpletable\">\n",
       "<tr>\n",
       "           <td></td>             <th>coef</th>     <th>std err</th>      <th>z</th>      <th>P>|z|</th>  <th>[0.025</th>    <th>0.975]</th>  \n",
       "</tr>\n",
       "<tr>\n",
       "  <th>age</th>                <td>    0.0006</td> <td>    0.005</td> <td>    0.117</td> <td> 0.907</td> <td>   -0.010</td> <td>    0.011</td>\n",
       "</tr>\n",
       "<tr>\n",
       "  <th>gender</th>             <td>    0.3772</td> <td>    0.208</td> <td>    1.815</td> <td> 0.069</td> <td>   -0.030</td> <td>    0.784</td>\n",
       "</tr>\n",
       "<tr>\n",
       "  <th>lost_income_in_apr</th> <td>   -0.3291</td> <td>    0.197</td> <td>   -1.669</td> <td> 0.095</td> <td>   -0.716</td> <td>    0.057</td>\n",
       "</tr>\n",
       "<tr>\n",
       "  <th>grant_from_gov</th>     <td>    0.2154</td> <td>    0.047</td> <td>    4.609</td> <td> 0.000</td> <td>    0.124</td> <td>    0.307</td>\n",
       "</tr>\n",
       "</table>"
      ],
      "text/plain": [
       "<class 'statsmodels.iolib.summary.Summary'>\n",
       "\"\"\"\n",
       "                           Logit Regression Results                           \n",
       "==============================================================================\n",
       "Dep. Variable:             uif_in_apr   No. Observations:                  452\n",
       "Model:                          Logit   Df Residuals:                      448\n",
       "Method:                           MLE   Df Model:                            3\n",
       "Date:                Mon, 21 Jun 2021   Pseudo R-squ.:                 0.03784\n",
       "Time:                        11:12:18   Log-Likelihood:                -288.44\n",
       "converged:                       True   LL-Null:                       -299.78\n",
       "Covariance Type:            nonrobust   LLR p-value:                 4.695e-05\n",
       "======================================================================================\n",
       "                         coef    std err          z      P>|z|      [0.025      0.975]\n",
       "--------------------------------------------------------------------------------------\n",
       "age                    0.0006      0.005      0.117      0.907      -0.010       0.011\n",
       "gender                 0.3772      0.208      1.815      0.069      -0.030       0.784\n",
       "lost_income_in_apr    -0.3291      0.197     -1.669      0.095      -0.716       0.057\n",
       "grant_from_gov         0.2154      0.047      4.609      0.000       0.124       0.307\n",
       "======================================================================================\n",
       "\"\"\""
      ]
     },
     "execution_count": 206,
     "metadata": {},
     "output_type": "execute_result"
    }
   ],
   "source": [
    "log_reg = sm.Logit(y_train, X_train[[\"age\", \"gender\", \"lost_income_in_apr\", \"grant_from_gov\"]]).fit(disp=0)\n",
    "log_reg.summary()"
   ]
  },
  {
   "cell_type": "markdown",
   "metadata": {},
   "source": [
    "Since the p-values of the reduced model are all less than 0.05, we will select this model as it contains only the most significant variables to determine who was more likely to receive the UIF reduced work-time benefit during April 2020. In the next section, we perform residual analysis to find any outliers in the data and determine if there are any biased explanatory variables in the model."
   ]
  },
  {
   "cell_type": "markdown",
   "metadata": {},
   "source": [
    "Our initial assumptions were partially correct. We believed that **gender** and **grant_from_gov** were significant variables to determine whether or not a participant received the UIF reduced work-time benefit in April 2020. The other two significant variables are **lost_income_in_apr** and **age**.\n",
    "\n",
    "**age**, **gender** and **grant_from_gov** are all positive coefficients. This implies that being older, being a woman, and having received any other kind of grant from the government during April 2020 would increase the probability that a participant received the UIF reduced work-time benefit from the government during April 2020. In addition, the **lost_income_in_apr** has a negative coefficient, and this implies that losing your income during this time would decrease the probability of you receiving the benefit. "
   ]
  },
  {
   "cell_type": "markdown",
   "metadata": {},
   "source": [
    "Before evaluating it on the test set, let us analyze the residuals of this model to ensure there are no major issues evident."
   ]
  },
  {
   "cell_type": "code",
   "execution_count": 207,
   "metadata": {},
   "outputs": [
    {
     "data": {
      "image/png": "[encoded data removed]",
      "text/plain": [
       "<Figure size 1080x360 with 1 Axes>"
      ]
     },
     "metadata": {
      "needs_background": "light"
     },
     "output_type": "display_data"
    }
   ],
   "source": [
    "plt.figure(figsize=(15,5))\n",
    "plots = log_reg.resid_pearson[:100]\n",
    "plt.plot(range(100), plots.values)\n",
    "plt.title(\"Pearson Residuals of Logisitic Regression\", fontsize=15)\n",
    "plt.ylabel(\"Pearson Residual\")\n",
    "plt.xlabel(\"Observation\")\n",
    "plt.show()"
   ]
  },
  {
   "cell_type": "markdown",
   "metadata": {},
   "source": [
    "Observing that there are no apparent patterns in the residual plot allows us to conclude that there are no major issues with the fitted model. We can now evaluate the model using the test data."
   ]
  },
  {
   "cell_type": "code",
   "execution_count": 208,
   "metadata": {},
   "outputs": [
    {
     "data": {
      "text/html": [
       "<table class=\"simpletable\">\n",
       "<caption>Logit Regression Results</caption>\n",
       "<tr>\n",
       "  <th>Dep. Variable:</th>      <td>uif_in_apr</td>    <th>  No. Observations:  </th>  <td>   114</td> \n",
       "</tr>\n",
       "<tr>\n",
       "  <th>Model:</th>                 <td>Logit</td>      <th>  Df Residuals:      </th>  <td>   110</td> \n",
       "</tr>\n",
       "<tr>\n",
       "  <th>Method:</th>                 <td>MLE</td>       <th>  Df Model:          </th>  <td>     3</td> \n",
       "</tr>\n",
       "<tr>\n",
       "  <th>Date:</th>            <td>Mon, 21 Jun 2021</td> <th>  Pseudo R-squ.:     </th>  <td>0.06598</td>\n",
       "</tr>\n",
       "<tr>\n",
       "  <th>Time:</th>                <td>11:12:24</td>     <th>  Log-Likelihood:    </th> <td> -67.109</td>\n",
       "</tr>\n",
       "<tr>\n",
       "  <th>converged:</th>             <td>True</td>       <th>  LL-Null:           </th> <td> -71.850</td>\n",
       "</tr>\n",
       "<tr>\n",
       "  <th>Covariance Type:</th>     <td>nonrobust</td>    <th>  LLR p-value:       </th>  <td>0.02353</td>\n",
       "</tr>\n",
       "</table>\n",
       "<table class=\"simpletable\">\n",
       "<tr>\n",
       "           <td></td>             <th>coef</th>     <th>std err</th>      <th>z</th>      <th>P>|z|</th>  <th>[0.025</th>    <th>0.975]</th>  \n",
       "</tr>\n",
       "<tr>\n",
       "  <th>age</th>                <td>   -0.0056</td> <td>    0.011</td> <td>   -0.515</td> <td> 0.607</td> <td>   -0.027</td> <td>    0.016</td>\n",
       "</tr>\n",
       "<tr>\n",
       "  <th>gender</th>             <td>    1.1233</td> <td>    0.430</td> <td>    2.614</td> <td> 0.009</td> <td>    0.281</td> <td>    1.966</td>\n",
       "</tr>\n",
       "<tr>\n",
       "  <th>lost_income_in_apr</th> <td>   -0.6142</td> <td>    0.401</td> <td>   -1.531</td> <td> 0.126</td> <td>   -1.400</td> <td>    0.172</td>\n",
       "</tr>\n",
       "<tr>\n",
       "  <th>grant_from_gov</th>     <td>    0.2201</td> <td>    0.101</td> <td>    2.172</td> <td> 0.030</td> <td>    0.022</td> <td>    0.419</td>\n",
       "</tr>\n",
       "</table>"
      ],
      "text/plain": [
       "<class 'statsmodels.iolib.summary.Summary'>\n",
       "\"\"\"\n",
       "                           Logit Regression Results                           \n",
       "==============================================================================\n",
       "Dep. Variable:             uif_in_apr   No. Observations:                  114\n",
       "Model:                          Logit   Df Residuals:                      110\n",
       "Method:                           MLE   Df Model:                            3\n",
       "Date:                Mon, 21 Jun 2021   Pseudo R-squ.:                 0.06598\n",
       "Time:                        11:12:24   Log-Likelihood:                -67.109\n",
       "converged:                       True   LL-Null:                       -71.850\n",
       "Covariance Type:            nonrobust   LLR p-value:                   0.02353\n",
       "======================================================================================\n",
       "                         coef    std err          z      P>|z|      [0.025      0.975]\n",
       "--------------------------------------------------------------------------------------\n",
       "age                   -0.0056      0.011     -0.515      0.607      -0.027       0.016\n",
       "gender                 1.1233      0.430      2.614      0.009       0.281       1.966\n",
       "lost_income_in_apr    -0.6142      0.401     -1.531      0.126      -1.400       0.172\n",
       "grant_from_gov         0.2201      0.101      2.172      0.030       0.022       0.419\n",
       "======================================================================================\n",
       "\"\"\""
      ]
     },
     "execution_count": 208,
     "metadata": {},
     "output_type": "execute_result"
    }
   ],
   "source": [
    "log_reg = sm.Logit(y_test, X_test[[\"age\", \"gender\", \"lost_income_in_apr\", \"grant_from_gov\"]]).fit(disp=0)\n",
    "log_reg.summary()"
   ]
  },
  {
   "cell_type": "markdown",
   "metadata": {},
   "source": [
    "As was the case with the final model, **age** and **grant_from_gov** of the testing model have the p-values less than 0.05. In addition, the training regression coefficients and the testing coefficients differ by very small amounts (0.0094 and 0.1315). This implies that both these variables are statistically significant in determining whether or not a participant received the UIF reduced work-time benefit during April 2020.\n",
    "\n",
    "However, **gender** and **lost_income_in_apr** of the testing model have p-values greater than 0.05. In addition, the training regression coefficients and the testing coefficients differ by larger amounts (0.863 and 0.0344). This suggests that both these variables significant as in determining whether or not a participant received the UIF reduced work-time benefit during April 2020. This disproves our initial assumption that **gender** would be an important variable in predicting the output value."
   ]
  },
  {
   "cell_type": "markdown",
   "metadata": {},
   "source": [
    "## Welfare Hypothesis Testing"
   ]
  },
  {
   "cell_type": "markdown",
   "metadata": {},
   "source": [
    "In this section, we perform a permutation test to determine whether participants that did receive another kind of grant from the government during April 2020 were more likely to receive the UIF reduced work-time benefit than those that did not receive any kind of grant from the government during this time. We first split the data into two separate samples to test the null hypothesis. The first sample is of individuals who did not receive the UIF reduced work-time benefit from the government during April 2020, and the second sample is of individuals that did. We then do a permutation test on the two samples to obtain a t-value and a p-value of the permutation test.\n",
    "\n",
    "**Note**: The hypothesis test is done at a 5% significance level."
   ]
  },
  {
   "cell_type": "markdown",
   "metadata": {},
   "source": [
    "Split the data into men and women that received the UIF reduced work-time benefit in April 2020."
   ]
  },
  {
   "cell_type": "code",
   "execution_count": 69,
   "metadata": {},
   "outputs": [],
   "source": [
    "did_receive_uif = model_df.loc[(model_df['grant_from_gov'] == 1)][\"uif_in_apr\"]\n",
    "did_not_receive_uif = model_df[(model_df['grant_from_gov'] == 0)][\"uif_in_apr\"]"
   ]
  },
  {
   "cell_type": "markdown",
   "metadata": {},
   "source": [
    "Our initial assumption is that participants that did receive another kind of grant from the government during April 2020 were more likely to receive the UIF reduced work-time benefit than those that did not receive any kind of grant from the government during this time. This is because if a participant was depending on the government for welfare during this time, then they would also most likely need the benefit. In the following cell we perform hypothesis testing using a permutation test."
   ]
  },
  {
   "cell_type": "markdown",
   "metadata": {},
   "source": [
    "**Null Hypothesis**: Participants that did receive a grant from the government during April 2020 were equally likely to receive the UIF reduced work-time benefit as participants that did not receive any other kind of grant from the government during this time.\n",
    "<br><br>\n",
    "**Alternative Hypothesis**: Participants that did receive a grant from the government during April 2020 were more likely to receive the UIF reduced work-time benefit than participants that did not receive any other kind of grant from the government during this time.\n",
    "<br><br>\n",
    "$ H_0 : \\mu_1 = \\mu_2 $<br>\n",
    "$ H_1 : \\mu_1 > \\mu_2 $"
   ]
  },
  {
   "cell_type": "code",
   "execution_count": 65,
   "metadata": {},
   "outputs": [
    {
     "name": "stdout",
     "output_type": "stream",
     "text": [
      "t value =  6.439287715634305\n",
      "p value =  1.3989907703951784e-10\n"
     ]
    }
   ],
   "source": [
    "t_value, p_value = stats.ttest_ind(did_receive_uif, did_not_receive_uif)\n",
    "print(\"t value = \", t_value)\n",
    "print(\"p value = \", p_value/2)"
   ]
  },
  {
   "cell_type": "markdown",
   "metadata": {},
   "source": [
    "We reject the null hypothesis because the p-value is far less than 0.05. Therefore, we are 95% confident that participants that did receive a grant from the government during April 2020 were more likely to receive the UIF reduced work-time benefit than participants that did not receive any other kind of grant from the government during this time. This agrees with our initial assumption, because those depending on the government for welfare during this time, would also most likely apply for the benefit."
   ]
  },
  {
   "cell_type": "markdown",
   "metadata": {},
   "source": [
    "# Intepreting Results"
   ]
  },
  {
   "cell_type": "markdown",
   "metadata": {},
   "source": [
    "Interpreting results : \n",
    "Each person speak about the model they built, the relationships they found and the conclusions they drew and whether or not the results you got met the expectations you stipulated in the beginning. \n",
    "\n",
    "* Dino \n",
    "\n",
    "* Brent \n",
    "\n",
    "* Philani \n",
    "\n",
    "Brent write a section here to bring them all together. "
   ]
  },
  {
   "cell_type": "markdown",
   "metadata": {},
   "source": [
    "**Quality of Data** : Speak about whether or not it is a representative data, the amount of missing data, etc. Philani\n",
    "\n",
    "**Assumptions :** Reflect on the assumptions each person made and whether or not they were justified and/or lead to bias results Dino\n",
    "\n",
    "**Testing Methodology:** Speak about which testing procedures were used and why they were used. Brent"
   ]
  },
  {
   "cell_type": "markdown",
   "metadata": {},
   "source": [
    "## Conclusion "
   ]
  },
  {
   "cell_type": "markdown",
   "metadata": {},
   "source": [
    "* Answers to Research Questions (4) - Each person put your own answer to the research question you asked like:\n",
    "    * **Question?**: Answer \n",
    "* Next Steps described and explained (3) - Together."
   ]
  }
 ],
 "metadata": {
  "hide_input": false,
  "kernelspec": {
   "display_name": "Python 3",
   "language": "python",
   "name": "python3"
  },
  "language_info": {
   "codemirror_mode": {
    "name": "ipython",
    "version": 3
   },
   "file_extension": ".py",
   "mimetype": "text/x-python",
   "name": "python",
   "nbconvert_exporter": "python",
   "pygments_lexer": "ipython3",
   "version": "3.8.8"
  },
  "toc": {
   "base_numbering": 1,
   "nav_menu": {},
   "number_sections": false,
   "sideBar": true,
   "skip_h1_title": true,
   "title_cell": "Table of Contents",
   "title_sidebar": "Contents",
   "toc_cell": true,
   "toc_position": {
    "height": "1085.33px",
    "left": "556px",
    "top": "932.042px",
    "width": "358.312px"
   },
   "toc_section_display": true,
   "toc_window_display": true
  },
  "widgets": {
   "application/vnd.jupyter.widget-state+json": {
    "state": {},
    "version_major": 1,
    "version_minor": 0
   }
  }
 },
 "nbformat": 4,
 "nbformat_minor": 4
}
