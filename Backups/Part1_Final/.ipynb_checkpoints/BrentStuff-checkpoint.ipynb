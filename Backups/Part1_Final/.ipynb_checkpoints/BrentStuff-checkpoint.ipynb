{
 "cells": [
  {
   "cell_type": "markdown",
   "metadata": {
    "toc": true
   },
   "source": [
    "<h1>Table of Contents<span class=\"tocSkip\"></span></h1>\n",
    "<div class=\"toc\"><ul class=\"toc-item\"><li><span><a href=\"#Chapter-2---Labour\" data-toc-modified-id=\"Chapter-2---Labour-1\">Chapter 2 - Labour</a></span></li><li><span><a href=\"#2.1-Data-Description\" data-toc-modified-id=\"2.1-Data-Description-2\">2.1 Data Description</a></span></li><li><span><a href=\"#2.2-Data-Ingestion\" data-toc-modified-id=\"2.2-Data-Ingestion-3\">2.2 Data Ingestion</a></span></li><li><span><a href=\"#2.3-Data-Preprocessing\" data-toc-modified-id=\"2.3-Data-Preprocessing-4\">2.3 Data Preprocessing</a></span><ul class=\"toc-item\"><li><span><a href=\"#2.3.1-Feature-Generation\" data-toc-modified-id=\"2.3.1-Feature-Generation-4.1\">2.3.1 Feature Generation</a></span></li><li><span><a href=\"#2.3.2-Missing-Data\" data-toc-modified-id=\"2.3.2-Missing-Data-4.2\">2.3.2 Missing Data</a></span></li></ul></li><li><span><a href=\"#2.4-Exploratory-Data-Analysis\" data-toc-modified-id=\"2.4-Exploratory-Data-Analysis-5\">2.4 Exploratory Data Analysis</a></span></li></ul></div>"
   ]
  },
  {
   "cell_type": "markdown",
   "metadata": {},
   "source": [
    "## Chapter 2 - Labour"
   ]
  },
  {
   "cell_type": "code",
   "execution_count": 69,
   "metadata": {},
   "outputs": [],
   "source": [
    "import numpy as np \n",
    "import pandas as pd \n",
    "import matplotlib.pyplot as plt \n",
    "import seaborn as sns "
   ]
  },
  {
   "cell_type": "code",
   "execution_count": 70,
   "metadata": {},
   "outputs": [
    {
     "name": "stderr",
     "output_type": "stream",
     "text": [
      "/Users/brentonbudler/AnacondaDownload/anaconda3/lib/python3.8/site-packages/IPython/core/interactiveshell.py:3146: DtypeWarning: Columns (6,121,151) have mixed types.Specify dtype option on import or set low_memory=False.\n",
      "  has_raised = await self.run_ast_nodes(code_ast.body, cell_name,\n"
     ]
    },
    {
     "data": {
      "text/html": [
       "<div>\n",
       "<style scoped>\n",
       "    .dataframe tbody tr th:only-of-type {\n",
       "        vertical-align: middle;\n",
       "    }\n",
       "\n",
       "    .dataframe tbody tr th {\n",
       "        vertical-align: top;\n",
       "    }\n",
       "\n",
       "    .dataframe thead th {\n",
       "        text-align: right;\n",
       "    }\n",
       "</style>\n",
       "<table border=\"1\" class=\"dataframe\">\n",
       "  <thead>\n",
       "    <tr style=\"text-align: right;\">\n",
       "      <th></th>\n",
       "      <th>pid</th>\n",
       "      <th>w1_nc_outcome</th>\n",
       "      <th>w1_nc_intrv_c</th>\n",
       "      <th>w1_nc_intrv_d</th>\n",
       "      <th>w1_nc_intrv_m</th>\n",
       "      <th>w1_nc_intrv_y</th>\n",
       "      <th>w1_nc_duration</th>\n",
       "      <th>w1_nc_dob_m</th>\n",
       "      <th>w1_nc_dob_y</th>\n",
       "      <th>w1_nc_gen</th>\n",
       "      <th>...</th>\n",
       "      <th>w1_nc_intlng2</th>\n",
       "      <th>w1_nc_intlng3</th>\n",
       "      <th>w1_nc_intlng4</th>\n",
       "      <th>w1_nc_intlng5</th>\n",
       "      <th>w1_nc_intlng6</th>\n",
       "      <th>w1_nc_intlng7</th>\n",
       "      <th>w1_nc_intlng8</th>\n",
       "      <th>w1_nc_intlng9</th>\n",
       "      <th>w1_nc_intlng10</th>\n",
       "      <th>w1_nc_intlng11</th>\n",
       "    </tr>\n",
       "  </thead>\n",
       "  <tbody>\n",
       "    <tr>\n",
       "      <th>0</th>\n",
       "      <td>301013</td>\n",
       "      <td>Successfully Interviewed</td>\n",
       "      <td>610</td>\n",
       "      <td>15th</td>\n",
       "      <td>June</td>\n",
       "      <td>2020</td>\n",
       "      <td>15.95</td>\n",
       "      <td>June</td>\n",
       "      <td>1981.0</td>\n",
       "      <td>Man</td>\n",
       "      <td>...</td>\n",
       "      <td>NaN</td>\n",
       "      <td>NaN</td>\n",
       "      <td>NaN</td>\n",
       "      <td>NaN</td>\n",
       "      <td>NaN</td>\n",
       "      <td>NaN</td>\n",
       "      <td>NaN</td>\n",
       "      <td>NaN</td>\n",
       "      <td>NaN</td>\n",
       "      <td>NaN</td>\n",
       "    </tr>\n",
       "    <tr>\n",
       "      <th>1</th>\n",
       "      <td>301058</td>\n",
       "      <td>Successfully Interviewed</td>\n",
       "      <td>611</td>\n",
       "      <td>25th</td>\n",
       "      <td>June</td>\n",
       "      <td>2020</td>\n",
       "      <td>22.03</td>\n",
       "      <td>January</td>\n",
       "      <td>1948.0</td>\n",
       "      <td>Woman</td>\n",
       "      <td>...</td>\n",
       "      <td>NaN</td>\n",
       "      <td>NaN</td>\n",
       "      <td>NaN</td>\n",
       "      <td>NaN</td>\n",
       "      <td>NaN</td>\n",
       "      <td>NaN</td>\n",
       "      <td>NaN</td>\n",
       "      <td>NaN</td>\n",
       "      <td>NaN</td>\n",
       "      <td>NaN</td>\n",
       "    </tr>\n",
       "    <tr>\n",
       "      <th>2</th>\n",
       "      <td>301059</td>\n",
       "      <td>Successfully Interviewed</td>\n",
       "      <td>604</td>\n",
       "      <td>20th</td>\n",
       "      <td>June</td>\n",
       "      <td>2020</td>\n",
       "      <td>12.75</td>\n",
       "      <td>July</td>\n",
       "      <td>1990.0</td>\n",
       "      <td>Woman</td>\n",
       "      <td>...</td>\n",
       "      <td>NaN</td>\n",
       "      <td>NaN</td>\n",
       "      <td>NaN</td>\n",
       "      <td>NaN</td>\n",
       "      <td>NaN</td>\n",
       "      <td>NaN</td>\n",
       "      <td>NaN</td>\n",
       "      <td>NaN</td>\n",
       "      <td>NaN</td>\n",
       "      <td>NaN</td>\n",
       "    </tr>\n",
       "    <tr>\n",
       "      <th>3</th>\n",
       "      <td>301062</td>\n",
       "      <td>Successfully Interviewed</td>\n",
       "      <td>640</td>\n",
       "      <td>25th</td>\n",
       "      <td>June</td>\n",
       "      <td>2020</td>\n",
       "      <td>22.33</td>\n",
       "      <td>June</td>\n",
       "      <td>1972.0</td>\n",
       "      <td>Woman</td>\n",
       "      <td>...</td>\n",
       "      <td>English</td>\n",
       "      <td>NaN</td>\n",
       "      <td>NaN</td>\n",
       "      <td>NaN</td>\n",
       "      <td>NaN</td>\n",
       "      <td>NaN</td>\n",
       "      <td>NaN</td>\n",
       "      <td>NaN</td>\n",
       "      <td>NaN</td>\n",
       "      <td>NaN</td>\n",
       "    </tr>\n",
       "    <tr>\n",
       "      <th>4</th>\n",
       "      <td>301067</td>\n",
       "      <td>Successfully Interviewed</td>\n",
       "      <td>609</td>\n",
       "      <td>15th</td>\n",
       "      <td>May</td>\n",
       "      <td>2020</td>\n",
       "      <td>15.2</td>\n",
       "      <td>July</td>\n",
       "      <td>1971.0</td>\n",
       "      <td>Woman</td>\n",
       "      <td>...</td>\n",
       "      <td>NaN</td>\n",
       "      <td>NaN</td>\n",
       "      <td>NaN</td>\n",
       "      <td>NaN</td>\n",
       "      <td>NaN</td>\n",
       "      <td>NaN</td>\n",
       "      <td>NaN</td>\n",
       "      <td>NaN</td>\n",
       "      <td>NaN</td>\n",
       "      <td>NaN</td>\n",
       "    </tr>\n",
       "  </tbody>\n",
       "</table>\n",
       "<p>5 rows × 170 columns</p>\n",
       "</div>"
      ],
      "text/plain": [
       "      pid             w1_nc_outcome  w1_nc_intrv_c w1_nc_intrv_d  \\\n",
       "0  301013  Successfully Interviewed            610          15th   \n",
       "1  301058  Successfully Interviewed            611          25th   \n",
       "2  301059  Successfully Interviewed            604          20th   \n",
       "3  301062  Successfully Interviewed            640          25th   \n",
       "4  301067  Successfully Interviewed            609          15th   \n",
       "\n",
       "  w1_nc_intrv_m  w1_nc_intrv_y w1_nc_duration w1_nc_dob_m w1_nc_dob_y  \\\n",
       "0          June           2020          15.95        June      1981.0   \n",
       "1          June           2020          22.03     January      1948.0   \n",
       "2          June           2020          12.75        July      1990.0   \n",
       "3          June           2020          22.33        June      1972.0   \n",
       "4           May           2020           15.2        July      1971.0   \n",
       "\n",
       "  w1_nc_gen  ... w1_nc_intlng2 w1_nc_intlng3 w1_nc_intlng4 w1_nc_intlng5  \\\n",
       "0       Man  ...           NaN           NaN           NaN           NaN   \n",
       "1     Woman  ...           NaN           NaN           NaN           NaN   \n",
       "2     Woman  ...           NaN           NaN           NaN           NaN   \n",
       "3     Woman  ...       English           NaN           NaN           NaN   \n",
       "4     Woman  ...           NaN           NaN           NaN           NaN   \n",
       "\n",
       "  w1_nc_intlng6 w1_nc_intlng7 w1_nc_intlng8 w1_nc_intlng9 w1_nc_intlng10  \\\n",
       "0           NaN           NaN           NaN           NaN            NaN   \n",
       "1           NaN           NaN           NaN           NaN            NaN   \n",
       "2           NaN           NaN           NaN           NaN            NaN   \n",
       "3           NaN           NaN           NaN           NaN            NaN   \n",
       "4           NaN           NaN           NaN           NaN            NaN   \n",
       "\n",
       "  w1_nc_intlng11  \n",
       "0            NaN  \n",
       "1            NaN  \n",
       "2            NaN  \n",
       "3            NaN  \n",
       "4            NaN  \n",
       "\n",
       "[5 rows x 170 columns]"
      ]
     },
     "execution_count": 70,
     "metadata": {},
     "output_type": "execute_result"
    }
   ],
   "source": [
    "raw_data = pd.read_csv('wave1.csv')\n",
    "raw_data.head()"
   ]
  },
  {
   "cell_type": "markdown",
   "metadata": {},
   "source": [
    "## 2.1 Data Description"
   ]
  },
  {
   "cell_type": "markdown",
   "metadata": {},
   "source": [
    "**Work in February** \n",
    "* **job_in_feb** - Had any kind of job in February \n",
    "* **work_in_feb** - Did work for profit/pay even just for an hour or a small amount in February \n",
    "* **bus_in_feb** - Did any businesss, big or small, even just for an hour in February \n",
    "* **work_days_feb** - Average number of days worked per week in February \n",
    "* **work_hours_feb** - Average number of hours worked per day in February \n",
    "* **take_home_pay_feb** - Amount of take-home profit/pay in the month of February \n",
    "<br><br>\n",
    "\n",
    "**Work in April** \n",
    "* **job_in_apr** - Had any kind of job in April\n",
    "* **work_in_apr** - Did work for profit/pay even just for an hour or a small amount in April\n",
    "* **bus_in_apr** - Did any businesss, big or small, even just for an hour in April\n",
    "* **work_days_apr** - Average number of days worked per week in April\n",
    "* **work_hours_apr** - Average number of hours worked per day in April\n",
    "* **take_home_pay_apr** - Amount of take-home profit/pay in the month of April in April\n",
    "* **return_to_work** - Have any paid activity/job to return to in the next 4 weeks (At time of survey) in April\n",
    "<br><br>\n",
    "\n",
    "**Type of work** \n",
    "* **usual_work** - Occupational code for usual work "
   ]
  },
  {
   "cell_type": "markdown",
   "metadata": {},
   "source": [
    "## 2.2 Data Ingestion"
   ]
  },
  {
   "cell_type": "markdown",
   "metadata": {},
   "source": [
    "First we will create a DataFrame which will contain a subset of relevant columns used for the Data Cleaning and Exploratory Data Analysis of the Labour features."
   ]
  },
  {
   "cell_type": "code",
   "execution_count": 71,
   "metadata": {},
   "outputs": [],
   "source": [
    "lbdf = pd.DataFrame()\n",
    "\n",
    "lbdf['job_in_feb'] = raw_data.w1_nc_em_feb\n",
    "lbdf['work_in_feb'] = raw_data.w1_nc_emany_feb\n",
    "lbdf['bus_in_feb'] = raw_data.w1_nc_ems_feb\n",
    "lbdf['work_days_feb'] = raw_data.w1_nc_emdays_feb\n",
    "lbdf['work_hours_feb'] = raw_data.w1_nc_emhrs_feb\n",
    "lbdf['take_home_pay_feb'] = raw_data.w1_nc_eminc_feb\n",
    "\n",
    "lbdf['job_in_apr'] = raw_data.w1_nc_em_apr\n",
    "lbdf['work_in_apr'] = raw_data.w1_nc_emany_apr\n",
    "lbdf['bus_in_apr'] = raw_data.w1_nc_ems_apr\n",
    "lbdf['work_days_apr'] = raw_data.w1_nc_emdays_apr\n",
    "lbdf['work_hours_apr'] = raw_data.w1_nc_emhrs_apr\n",
    "lbdf['take_home_pay_apr'] = raw_data.w1_nc_eminc_apr\n",
    "lbdf['return_to_work'] = raw_data.w1_nc_emreturn\n",
    "\n",
    "lbdf['main_form_work'] = raw_data.w1_nc_emtyp\n",
    "lbdf['usual_work'] = raw_data.w1_nc_emwrk_isco_c"
   ]
  },
  {
   "cell_type": "markdown",
   "metadata": {},
   "source": [
    "Let us get a general feel for the data by taking a look at a sample of the data and by exploring some of the information about the data:"
   ]
  },
  {
   "cell_type": "code",
   "execution_count": 72,
   "metadata": {
    "scrolled": true
   },
   "outputs": [
    {
     "data": {
      "text/html": [
       "<div>\n",
       "<style scoped>\n",
       "    .dataframe tbody tr th:only-of-type {\n",
       "        vertical-align: middle;\n",
       "    }\n",
       "\n",
       "    .dataframe tbody tr th {\n",
       "        vertical-align: top;\n",
       "    }\n",
       "\n",
       "    .dataframe thead th {\n",
       "        text-align: right;\n",
       "    }\n",
       "</style>\n",
       "<table border=\"1\" class=\"dataframe\">\n",
       "  <thead>\n",
       "    <tr style=\"text-align: right;\">\n",
       "      <th></th>\n",
       "      <th>job_in_feb</th>\n",
       "      <th>work_in_feb</th>\n",
       "      <th>bus_in_feb</th>\n",
       "      <th>work_days_feb</th>\n",
       "      <th>work_hours_feb</th>\n",
       "      <th>take_home_pay_feb</th>\n",
       "      <th>job_in_apr</th>\n",
       "      <th>work_in_apr</th>\n",
       "      <th>bus_in_apr</th>\n",
       "      <th>work_days_apr</th>\n",
       "      <th>work_hours_apr</th>\n",
       "      <th>take_home_pay_apr</th>\n",
       "      <th>return_to_work</th>\n",
       "      <th>main_form_work</th>\n",
       "      <th>usual_work</th>\n",
       "    </tr>\n",
       "  </thead>\n",
       "  <tbody>\n",
       "    <tr>\n",
       "      <th>0</th>\n",
       "      <td>Yes</td>\n",
       "      <td>NaN</td>\n",
       "      <td>NaN</td>\n",
       "      <td>Donât know</td>\n",
       "      <td>NaN</td>\n",
       "      <td>180.0</td>\n",
       "      <td>No</td>\n",
       "      <td>No</td>\n",
       "      <td>No - I did nothing</td>\n",
       "      <td>NaN</td>\n",
       "      <td>NaN</td>\n",
       "      <td>NaN</td>\n",
       "      <td>Don't know</td>\n",
       "      <td>NaN</td>\n",
       "      <td>NaN</td>\n",
       "    </tr>\n",
       "    <tr>\n",
       "      <th>1</th>\n",
       "      <td>No, I'm retired</td>\n",
       "      <td>NaN</td>\n",
       "      <td>NaN</td>\n",
       "      <td>NaN</td>\n",
       "      <td>NaN</td>\n",
       "      <td>NaN</td>\n",
       "      <td>NaN</td>\n",
       "      <td>NaN</td>\n",
       "      <td>NaN</td>\n",
       "      <td>NaN</td>\n",
       "      <td>NaN</td>\n",
       "      <td>NaN</td>\n",
       "      <td>NaN</td>\n",
       "      <td>NaN</td>\n",
       "      <td>NaN</td>\n",
       "    </tr>\n",
       "    <tr>\n",
       "      <th>2</th>\n",
       "      <td>No</td>\n",
       "      <td>No</td>\n",
       "      <td>No - I did nothing</td>\n",
       "      <td>NaN</td>\n",
       "      <td>NaN</td>\n",
       "      <td>NaN</td>\n",
       "      <td>No</td>\n",
       "      <td>No</td>\n",
       "      <td>No - I did nothing</td>\n",
       "      <td>NaN</td>\n",
       "      <td>NaN</td>\n",
       "      <td>NaN</td>\n",
       "      <td>No</td>\n",
       "      <td>NaN</td>\n",
       "      <td>NaN</td>\n",
       "    </tr>\n",
       "    <tr>\n",
       "      <th>3</th>\n",
       "      <td>Yes</td>\n",
       "      <td>NaN</td>\n",
       "      <td>NaN</td>\n",
       "      <td>3.0</td>\n",
       "      <td>5.0</td>\n",
       "      <td>900.0</td>\n",
       "      <td>No</td>\n",
       "      <td>No</td>\n",
       "      <td>No - I did nothing</td>\n",
       "      <td>5.0</td>\n",
       "      <td>5.0</td>\n",
       "      <td>NaN</td>\n",
       "      <td>Yes</td>\n",
       "      <td>Regular job</td>\n",
       "      <td>Elementary occupations</td>\n",
       "    </tr>\n",
       "    <tr>\n",
       "      <th>4</th>\n",
       "      <td>No</td>\n",
       "      <td>No</td>\n",
       "      <td>No - I did nothing</td>\n",
       "      <td>NaN</td>\n",
       "      <td>NaN</td>\n",
       "      <td>NaN</td>\n",
       "      <td>No</td>\n",
       "      <td>No</td>\n",
       "      <td>No - I did nothing</td>\n",
       "      <td>NaN</td>\n",
       "      <td>NaN</td>\n",
       "      <td>NaN</td>\n",
       "      <td>No</td>\n",
       "      <td>NaN</td>\n",
       "      <td>NaN</td>\n",
       "    </tr>\n",
       "  </tbody>\n",
       "</table>\n",
       "</div>"
      ],
      "text/plain": [
       "        job_in_feb work_in_feb          bus_in_feb work_days_feb  \\\n",
       "0              Yes         NaN                 NaN  Donât know   \n",
       "1  No, I'm retired         NaN                 NaN           NaN   \n",
       "2               No          No  No - I did nothing           NaN   \n",
       "3              Yes         NaN                 NaN           3.0   \n",
       "4               No          No  No - I did nothing           NaN   \n",
       "\n",
       "  work_hours_feb take_home_pay_feb job_in_apr work_in_apr          bus_in_apr  \\\n",
       "0            NaN             180.0         No          No  No - I did nothing   \n",
       "1            NaN               NaN        NaN         NaN                 NaN   \n",
       "2            NaN               NaN         No          No  No - I did nothing   \n",
       "3            5.0             900.0         No          No  No - I did nothing   \n",
       "4            NaN               NaN         No          No  No - I did nothing   \n",
       "\n",
       "  work_days_apr work_hours_apr take_home_pay_apr return_to_work  \\\n",
       "0           NaN            NaN               NaN     Don't know   \n",
       "1           NaN            NaN               NaN            NaN   \n",
       "2           NaN            NaN               NaN             No   \n",
       "3           5.0            5.0               NaN            Yes   \n",
       "4           NaN            NaN               NaN             No   \n",
       "\n",
       "  main_form_work              usual_work  \n",
       "0            NaN                     NaN  \n",
       "1            NaN                     NaN  \n",
       "2            NaN                     NaN  \n",
       "3    Regular job  Elementary occupations  \n",
       "4            NaN                     NaN  "
      ]
     },
     "execution_count": 72,
     "metadata": {},
     "output_type": "execute_result"
    }
   ],
   "source": [
    "lbdf.head()"
   ]
  },
  {
   "cell_type": "code",
   "execution_count": 73,
   "metadata": {},
   "outputs": [
    {
     "name": "stdout",
     "output_type": "stream",
     "text": [
      "<class 'pandas.core.frame.DataFrame'>\n",
      "RangeIndex: 7073 entries, 0 to 7072\n",
      "Data columns (total 15 columns):\n",
      " #   Column             Non-Null Count  Dtype \n",
      "---  ------             --------------  ----- \n",
      " 0   job_in_feb         7073 non-null   object\n",
      " 1   work_in_feb        3768 non-null   object\n",
      " 2   bus_in_feb         3438 non-null   object\n",
      " 3   work_days_feb      3408 non-null   object\n",
      " 4   work_hours_feb     3141 non-null   object\n",
      " 5   take_home_pay_feb  3408 non-null   object\n",
      " 6   job_in_apr         6426 non-null   object\n",
      " 7   work_in_apr        4954 non-null   object\n",
      " 8   bus_in_apr         4769 non-null   object\n",
      " 9   work_days_apr      2359 non-null   object\n",
      " 10  work_hours_apr     1845 non-null   object\n",
      " 11  take_home_pay_apr  1727 non-null   object\n",
      " 12  return_to_work     4329 non-null   object\n",
      " 13  main_form_work     2753 non-null   object\n",
      " 14  usual_work         2359 non-null   object\n",
      "dtypes: object(15)\n",
      "memory usage: 829.0+ KB\n"
     ]
    }
   ],
   "source": [
    "lbdf.info()"
   ]
  },
  {
   "cell_type": "markdown",
   "metadata": {},
   "source": [
    "As we can see our dataset seems to contain a lot of missing data, let us see if through Data Preprocessing we can either impute or discard this missing data."
   ]
  },
  {
   "cell_type": "markdown",
   "metadata": {},
   "source": [
    "## 2.3 Data Preprocessing"
   ]
  },
  {
   "cell_type": "markdown",
   "metadata": {},
   "source": [
    "### 2.3.1 Feature Generation"
   ]
  },
  {
   "cell_type": "markdown",
   "metadata": {},
   "source": [
    "To begin the data preprocessing we will first create new features using other features in our dataset. The first of these generated features are **labour_in_feb** and **labour_in_apr** this feature is created by checking if an individual had a job, did any part-time work or did any business in each of the months. This is done using the **check_labour** function below:"
   ]
  },
  {
   "cell_type": "code",
   "execution_count": 74,
   "metadata": {},
   "outputs": [],
   "source": [
    "def check_labour(jobfeb, workfeb, busfeb):\n",
    "    if jobfeb == \"Yes\" or workfeb == \"Yes\" or busfeb ==\"Yes\":\n",
    "        return 1 \n",
    "    else:\n",
    "        return 0 \n",
    "    \n",
    "lbdf['labour_in_feb'] = np.vectorize(check_labour)(lbdf['job_in_feb'],lbdf['work_in_feb'],lbdf['bus_in_feb'])\n",
    "lbdf['labour_in_apr'] = np.vectorize(check_labour)(lbdf['job_in_apr'],lbdf['work_in_apr'],lbdf['bus_in_apr'])"
   ]
  },
  {
   "cell_type": "markdown",
   "metadata": {},
   "source": [
    "Now that we have created these new features which are good indications of whether or not a respondent was making any money through labour in February and April we can drop the less useful and now somewhat redundance job, work and business features for each month."
   ]
  },
  {
   "cell_type": "code",
   "execution_count": 75,
   "metadata": {},
   "outputs": [],
   "source": [
    "lbdf = lbdf.drop(['job_in_feb','work_in_feb','bus_in_feb','job_in_apr','work_in_apr','bus_in_apr'] , axis = 1)"
   ]
  },
  {
   "cell_type": "markdown",
   "metadata": {},
   "source": [
    "The second feature we can create is **lost_labour** which will check if a respondent who was working in February had lost their opportunity to work by April."
   ]
  },
  {
   "cell_type": "code",
   "execution_count": 76,
   "metadata": {},
   "outputs": [],
   "source": [
    "def lost_labour(labour_in_feb,labour_in_apr):\n",
    "    if labour_in_feb == 1 and labour_in_apr ==0:\n",
    "        return 1\n",
    "    else:\n",
    "        return 0 \n",
    "\n",
    "lbdf['lost_labour'] = np.vectorize(lost_labour)(lbdf['labour_in_feb'],lbdf['labour_in_apr'])"
   ]
  },
  {
   "cell_type": "markdown",
   "metadata": {},
   "source": [
    "With these two new features created, let us rerrange our columns into a more logical order and re-examine how a sample from our data will now look."
   ]
  },
  {
   "cell_type": "code",
   "execution_count": 77,
   "metadata": {},
   "outputs": [
    {
     "data": {
      "text/html": [
       "<div>\n",
       "<style scoped>\n",
       "    .dataframe tbody tr th:only-of-type {\n",
       "        vertical-align: middle;\n",
       "    }\n",
       "\n",
       "    .dataframe tbody tr th {\n",
       "        vertical-align: top;\n",
       "    }\n",
       "\n",
       "    .dataframe thead th {\n",
       "        text-align: right;\n",
       "    }\n",
       "</style>\n",
       "<table border=\"1\" class=\"dataframe\">\n",
       "  <thead>\n",
       "    <tr style=\"text-align: right;\">\n",
       "      <th></th>\n",
       "      <th>labour_in_feb</th>\n",
       "      <th>work_days_feb</th>\n",
       "      <th>work_hours_feb</th>\n",
       "      <th>take_home_pay_feb</th>\n",
       "      <th>labour_in_apr</th>\n",
       "      <th>work_days_apr</th>\n",
       "      <th>work_hours_apr</th>\n",
       "      <th>take_home_pay_apr</th>\n",
       "      <th>lost_labour</th>\n",
       "      <th>return_to_work</th>\n",
       "      <th>main_form_work</th>\n",
       "      <th>usual_work</th>\n",
       "    </tr>\n",
       "  </thead>\n",
       "  <tbody>\n",
       "    <tr>\n",
       "      <th>0</th>\n",
       "      <td>1</td>\n",
       "      <td>Donât know</td>\n",
       "      <td>NaN</td>\n",
       "      <td>180.0</td>\n",
       "      <td>0</td>\n",
       "      <td>NaN</td>\n",
       "      <td>NaN</td>\n",
       "      <td>NaN</td>\n",
       "      <td>1</td>\n",
       "      <td>Don't know</td>\n",
       "      <td>NaN</td>\n",
       "      <td>NaN</td>\n",
       "    </tr>\n",
       "    <tr>\n",
       "      <th>1</th>\n",
       "      <td>0</td>\n",
       "      <td>NaN</td>\n",
       "      <td>NaN</td>\n",
       "      <td>NaN</td>\n",
       "      <td>0</td>\n",
       "      <td>NaN</td>\n",
       "      <td>NaN</td>\n",
       "      <td>NaN</td>\n",
       "      <td>0</td>\n",
       "      <td>NaN</td>\n",
       "      <td>NaN</td>\n",
       "      <td>NaN</td>\n",
       "    </tr>\n",
       "    <tr>\n",
       "      <th>2</th>\n",
       "      <td>0</td>\n",
       "      <td>NaN</td>\n",
       "      <td>NaN</td>\n",
       "      <td>NaN</td>\n",
       "      <td>0</td>\n",
       "      <td>NaN</td>\n",
       "      <td>NaN</td>\n",
       "      <td>NaN</td>\n",
       "      <td>0</td>\n",
       "      <td>No</td>\n",
       "      <td>NaN</td>\n",
       "      <td>NaN</td>\n",
       "    </tr>\n",
       "    <tr>\n",
       "      <th>3</th>\n",
       "      <td>1</td>\n",
       "      <td>3.0</td>\n",
       "      <td>5.0</td>\n",
       "      <td>900.0</td>\n",
       "      <td>0</td>\n",
       "      <td>5.0</td>\n",
       "      <td>5.0</td>\n",
       "      <td>NaN</td>\n",
       "      <td>1</td>\n",
       "      <td>Yes</td>\n",
       "      <td>Regular job</td>\n",
       "      <td>Elementary occupations</td>\n",
       "    </tr>\n",
       "    <tr>\n",
       "      <th>4</th>\n",
       "      <td>0</td>\n",
       "      <td>NaN</td>\n",
       "      <td>NaN</td>\n",
       "      <td>NaN</td>\n",
       "      <td>0</td>\n",
       "      <td>NaN</td>\n",
       "      <td>NaN</td>\n",
       "      <td>NaN</td>\n",
       "      <td>0</td>\n",
       "      <td>No</td>\n",
       "      <td>NaN</td>\n",
       "      <td>NaN</td>\n",
       "    </tr>\n",
       "  </tbody>\n",
       "</table>\n",
       "</div>"
      ],
      "text/plain": [
       "   labour_in_feb work_days_feb work_hours_feb take_home_pay_feb  \\\n",
       "0              1  Donât know            NaN             180.0   \n",
       "1              0           NaN            NaN               NaN   \n",
       "2              0           NaN            NaN               NaN   \n",
       "3              1           3.0            5.0             900.0   \n",
       "4              0           NaN            NaN               NaN   \n",
       "\n",
       "   labour_in_apr work_days_apr work_hours_apr take_home_pay_apr  lost_labour  \\\n",
       "0              0           NaN            NaN               NaN            1   \n",
       "1              0           NaN            NaN               NaN            0   \n",
       "2              0           NaN            NaN               NaN            0   \n",
       "3              0           5.0            5.0               NaN            1   \n",
       "4              0           NaN            NaN               NaN            0   \n",
       "\n",
       "  return_to_work main_form_work              usual_work  \n",
       "0     Don't know            NaN                     NaN  \n",
       "1            NaN            NaN                     NaN  \n",
       "2             No            NaN                     NaN  \n",
       "3            Yes    Regular job  Elementary occupations  \n",
       "4             No            NaN                     NaN  "
      ]
     },
     "execution_count": 77,
     "metadata": {},
     "output_type": "execute_result"
    }
   ],
   "source": [
    "list_of_col_names = ['labour_in_feb','work_days_feb', 'work_hours_feb', 'take_home_pay_feb', 'labour_in_apr', 'work_days_apr',\n",
    "       'work_hours_apr', 'take_home_pay_apr', 'lost_labour', 'return_to_work',\n",
    "       'main_form_work', 'usual_work']\n",
    "\n",
    "lbdf = lbdf.filter(list_of_col_names)\n",
    "lbdf.head()"
   ]
  },
  {
   "cell_type": "markdown",
   "metadata": {},
   "source": [
    "### 2.3.2 Missing Data"
   ]
  },
  {
   "cell_type": "markdown",
   "metadata": {},
   "source": [
    "The next step in the data preprocessing is to deal with the missing data. Is it important to note that the original dataset contains some sentinel values such as \"Missing\" which will have to be replaced with NaN to be treated correctly in the cleaning process. Similarly, in cases where a respondent refused to answer or answered \"Don't know\" these entries will also have to be replaced with NaN values as this data is missing. The function **replace_errors** below is a generalized function which will allow us to replace these erroneous entries with missing values."
   ]
  },
  {
   "cell_type": "code",
   "execution_count": 78,
   "metadata": {},
   "outputs": [],
   "source": [
    "def replace_errors(x):\n",
    "    if x == \"Don't know\" or x == \"Refused\" or x=='Missing' or x== \"Don't Know\" or x==\"Donât know\" or x== \"I was on leave\" or x == \"Other\":\n",
    "        return np.NaN\n",
    "    return x\n",
    "\n",
    "#Apply the replace_errors function to each column in our DataFrame\n",
    "for column in lbdf.columns:\n",
    "    lbdf[column] = lbdf[column].apply(replace_errors)"
   ]
  },
  {
   "cell_type": "markdown",
   "metadata": {},
   "source": [
    "An important caveat to note is that if a respondent did not have any work in February then the number of days they worked per week, the number of hours they worked per dat and their take home pay will all be 0. Similarly, if a respondent did not have any work in April, their days worked, hours worked and take home pay will also be 0. "
   ]
  },
  {
   "cell_type": "code",
   "execution_count": 79,
   "metadata": {},
   "outputs": [],
   "source": [
    "lbdf.loc[lbdf['labour_in_feb']==0 ,['work_days_feb','work_hours_feb','take_home_pay_feb']] = 0 \n",
    "lbdf.loc[lbdf['labour_in_apr']==0,['work_days_apr','work_hours_apr','take_home_pay_apr']] = 0 "
   ]
  },
  {
   "cell_type": "markdown",
   "metadata": {},
   "source": [
    "Let us take a look at what percentage of data is missing for each feature in our DataFrame"
   ]
  },
  {
   "cell_type": "code",
   "execution_count": 80,
   "metadata": {},
   "outputs": [
    {
     "name": "stdout",
     "output_type": "stream",
     "text": [
      "Percentage of Data Missing\n"
     ]
    },
    {
     "data": {
      "text/plain": [
       "labour_in_feb         0.00\n",
       "work_days_feb         2.47\n",
       "work_hours_feb        4.17\n",
       "take_home_pay_feb     9.52\n",
       "labour_in_apr         0.00\n",
       "work_days_apr         5.77\n",
       "work_hours_apr        6.45\n",
       "take_home_pay_apr    11.65\n",
       "lost_labour           0.00\n",
       "return_to_work       43.77\n",
       "main_form_work       63.21\n",
       "usual_work           67.30\n",
       "dtype: float64"
      ]
     },
     "metadata": {},
     "output_type": "display_data"
    }
   ],
   "source": [
    "print('Percentage of Data Missing')\n",
    "display(round((lbdf.isnull().sum()/len(lbdf))*100,2))"
   ]
  },
  {
   "cell_type": "markdown",
   "metadata": {},
   "source": [
    "As we can see the features for the work days per week, work hours per day and take home pay features for both February and April are all missing less than 12% of their values. First we need to ensure these features are the correct data type, next we can impute these values by first identifying which respondents actually had labour in that month and then calculating the mean of that feauture and replacing the missing data with that mean. Because answers for work days and work hours were discrete we will have to round the calculated mean to the nearest discrete integer. "
   ]
  },
  {
   "cell_type": "code",
   "execution_count": 81,
   "metadata": {},
   "outputs": [],
   "source": [
    "#Ensure correct data type \n",
    "lbdf.loc[:,'work_days_feb'] = pd.to_numeric(lbdf['work_days_feb'])\n",
    "\n",
    "#Locate the respondents who had some sort of labour in February month and calculate the mean of their work days \n",
    "avg_work_day_feb = np.mean(lbdf.loc[lbdf['labour_in_feb']==1,'work_days_feb'])\n",
    "\n",
    "#Replace the missing work day values for people who had labour in February with the discretized calculated mean \n",
    "lbdf.loc[(lbdf['labour_in_feb']==1)&(lbdf['work_days_feb'].isnull()),'work_days_feb'] = round(avg_work_day_feb,0)\n",
    "\n",
    "#Repeat the same process for the other relevant features \n",
    "lbdf.loc[:,'work_hours_feb'] = pd.to_numeric(lbdf['work_hours_feb'])\n",
    "avg_work_hours_feb = np.mean(lbdf.loc[lbdf['labour_in_feb']==1,'work_hours_feb'])\n",
    "lbdf.loc[(lbdf['labour_in_feb']==1)&(lbdf['work_hours_feb'].isnull()),'work_hours_feb'] = round(avg_work_hours_feb,0)\n",
    "\n",
    "#Here we do not discretize the mean as this is a continous feature\n",
    "lbdf.loc[:,'take_home_pay_feb'] = pd.to_numeric(lbdf['take_home_pay_feb'])\n",
    "avg_take_home_pay_feb = np.mean(lbdf.loc[lbdf['labour_in_feb']==1,'take_home_pay_feb'])\n",
    "lbdf.loc[(lbdf['labour_in_feb']==1)&(lbdf['take_home_pay_feb'].isnull()),'take_home_pay_feb'] = avg_take_home_pay_feb\n",
    "\n",
    "lbdf.loc[:,'work_days_apr'] = pd.to_numeric(lbdf['work_days_apr'])\n",
    "avg_work_day_apr = np.mean(lbdf.loc[lbdf['labour_in_apr']==1,'work_days_apr'])\n",
    "lbdf.loc[(lbdf['labour_in_apr']==1)&(lbdf['work_days_apr'].isnull()),'work_days_apr'] = round(avg_work_day_apr,0)\n",
    "\n",
    "lbdf.loc[:,'work_hours_apr'] = pd.to_numeric(lbdf['work_hours_apr'])\n",
    "avg_work_hours_apr = np.mean(lbdf.loc[lbdf['labour_in_apr']==1,'work_hours_apr'])\n",
    "lbdf.loc[(lbdf['labour_in_apr']==1)&(lbdf['work_hours_apr'].isnull()),'work_hours_apr'] = round(avg_work_hours_apr,0)\n",
    "\n",
    "lbdf.loc[:,'take_home_pay_apr'] = pd.to_numeric(lbdf['take_home_pay_apr'])\n",
    "avg_take_home_pay_apr = np.mean(lbdf.loc[lbdf['labour_in_apr']==1,'take_home_pay_apr'])\n",
    "lbdf.loc[(lbdf['labour_in_apr']==1)&(lbdf['take_home_pay_apr'].isnull()),'take_home_pay_apr'] = avg_take_home_pay_apr"
   ]
  },
  {
   "cell_type": "markdown",
   "metadata": {},
   "source": [
    "Next we need to determine a way to impute the values for return_to_work because, as can be seen above, about 43.77% of our entries are missing values for this feature. This feature indicates whether or not the respondent will have work to return to in the 4 weeks following the interviews (which were conducted just after April). To impute the missing value, we make the assumption that someone who has work at the time of the interview will still have work in 4 weeks whilst people who had lost their work may or may not be able to return to work. The function **check_return** allows us to simultaneously perform these checks and use binary encoding to encode this feature. "
   ]
  },
  {
   "cell_type": "code",
   "execution_count": 82,
   "metadata": {},
   "outputs": [],
   "source": [
    "def check_return(labour_in_apr,  return_to_work):\n",
    "    if labour_in_apr == 1:\n",
    "        return 1\n",
    "    else:\n",
    "        if return_to_work=='Yes':\n",
    "            return 1\n",
    "    return 0"
   ]
  },
  {
   "cell_type": "code",
   "execution_count": 83,
   "metadata": {},
   "outputs": [],
   "source": [
    "lbdf.loc[:,'return_to_work'] = np.vectorize(check_return)(lbdf['labour_in_apr'], lbdf['return_to_work'])"
   ]
  },
  {
   "cell_type": "markdown",
   "metadata": {},
   "source": [
    "Next, we will try to impute values for the usual_work feature. Let us first examine what are some possible answers to this question."
   ]
  },
  {
   "cell_type": "code",
   "execution_count": 84,
   "metadata": {},
   "outputs": [
    {
     "data": {
      "text/plain": [
       "Elementary occupations                                551\n",
       "Service and sales workers                             412\n",
       "Professionals                                         315\n",
       "Clerical support workers                              246\n",
       "Craft and related trades workers                      193\n",
       "Plant and machine operators, and assemblers           182\n",
       "Technicians and associate professionals               169\n",
       "Managers                                              100\n",
       "Not Employed                                           81\n",
       "Skilled agricultural, forestry and fishery workers     39\n",
       "Self-Employed                                          13\n",
       "Not applicable                                         10\n",
       "Armed forces occupations                                2\n",
       "Name: usual_work, dtype: int64"
      ]
     },
     "execution_count": 84,
     "metadata": {},
     "output_type": "execute_result"
    }
   ],
   "source": [
    "lbdf['usual_work'].value_counts()"
   ]
  },
  {
   "cell_type": "markdown",
   "metadata": {},
   "source": [
    "We can see that there is an option for \"Not Employed\". We can leverage the fact that we know the work-status of our respondents before COVID-19 (stored in lavour_in_feb) so we can assign these respondents with 'Not Employed' for their usual work. "
   ]
  },
  {
   "cell_type": "code",
   "execution_count": 85,
   "metadata": {},
   "outputs": [],
   "source": [
    "lbdf.loc[lbdf['labour_in_feb']==0,'usual_work'] = 'Not Employed'"
   ]
  },
  {
   "cell_type": "markdown",
   "metadata": {},
   "source": [
    "Next, by examining the possible options for the main_form_work feature we can see that several repsondents answered \"Self-employed\" or \"I run a business\""
   ]
  },
  {
   "cell_type": "code",
   "execution_count": 86,
   "metadata": {},
   "outputs": [
    {
     "data": {
      "text/plain": [
       "Regular job         1581\n",
       "Casual work          628\n",
       "Self-employed        307\n",
       "I run a business      86\n",
       "Name: main_form_work, dtype: int64"
      ]
     },
     "execution_count": 86,
     "metadata": {},
     "output_type": "execute_result"
    }
   ],
   "source": [
    "lbdf['main_form_work'].value_counts()"
   ]
  },
  {
   "cell_type": "markdown",
   "metadata": {},
   "source": [
    "Below we can see that some respondents who answered the main_form_work question have missing values for usual_work. "
   ]
  },
  {
   "cell_type": "code",
   "execution_count": 87,
   "metadata": {},
   "outputs": [
    {
     "data": {
      "text/html": [
       "<div>\n",
       "<style scoped>\n",
       "    .dataframe tbody tr th:only-of-type {\n",
       "        vertical-align: middle;\n",
       "    }\n",
       "\n",
       "    .dataframe tbody tr th {\n",
       "        vertical-align: top;\n",
       "    }\n",
       "\n",
       "    .dataframe thead th {\n",
       "        text-align: right;\n",
       "    }\n",
       "</style>\n",
       "<table border=\"1\" class=\"dataframe\">\n",
       "  <thead>\n",
       "    <tr style=\"text-align: right;\">\n",
       "      <th></th>\n",
       "      <th>main_form_work</th>\n",
       "      <th>usual_work</th>\n",
       "    </tr>\n",
       "  </thead>\n",
       "  <tbody>\n",
       "    <tr>\n",
       "      <th>7049</th>\n",
       "      <td>Regular job</td>\n",
       "      <td>Not Employed</td>\n",
       "    </tr>\n",
       "    <tr>\n",
       "      <th>7050</th>\n",
       "      <td>Casual work</td>\n",
       "      <td>Elementary occupations</td>\n",
       "    </tr>\n",
       "    <tr>\n",
       "      <th>7052</th>\n",
       "      <td>I run a business</td>\n",
       "      <td>NaN</td>\n",
       "    </tr>\n",
       "    <tr>\n",
       "      <th>7059</th>\n",
       "      <td>Regular job</td>\n",
       "      <td>Not Employed</td>\n",
       "    </tr>\n",
       "    <tr>\n",
       "      <th>7066</th>\n",
       "      <td>Regular job</td>\n",
       "      <td>Not Employed</td>\n",
       "    </tr>\n",
       "  </tbody>\n",
       "</table>\n",
       "</div>"
      ],
      "text/plain": [
       "        main_form_work              usual_work\n",
       "7049       Regular job            Not Employed\n",
       "7050       Casual work  Elementary occupations\n",
       "7052  I run a business                     NaN\n",
       "7059       Regular job            Not Employed\n",
       "7066       Regular job            Not Employed"
      ]
     },
     "execution_count": 87,
     "metadata": {},
     "output_type": "execute_result"
    }
   ],
   "source": [
    "lbdf.loc[lbdf['main_form_work'].notnull(),['main_form_work','usual_work']].tail()"
   ]
  },
  {
   "cell_type": "markdown",
   "metadata": {},
   "source": [
    "We can use our prior knowledge to deduce that if they answered 'Self-employed' or 'I run a business' for main_form_work that their usual_work can be set as \"Self-Employed\". We can also frop main_form_work as it has now become a less useful and somewhat redundant feature."
   ]
  },
  {
   "cell_type": "code",
   "execution_count": 88,
   "metadata": {},
   "outputs": [],
   "source": [
    "lbdf.loc[(lbdf['main_form_work']=='Self-employed')|(lbdf['main_form_work']=='I run a business'),'usual_work']= 'Self-Employed'\n",
    "lbdf.drop('main_form_work', axis=1, inplace=True)"
   ]
  },
  {
   "cell_type": "markdown",
   "metadata": {},
   "source": [
    "For the remaining missing values we will create a new option for usual_work called 'Unknown'."
   ]
  },
  {
   "cell_type": "code",
   "execution_count": 97,
   "metadata": {},
   "outputs": [],
   "source": [
    "lbdf.loc[lbdf['usual_work'].isnull(), 'usual_work'] = 'Unknown'"
   ]
  },
  {
   "cell_type": "markdown",
   "metadata": {},
   "source": [
    "After our data cleaning process, we can see that there is no longer any missing data."
   ]
  },
  {
   "cell_type": "code",
   "execution_count": 98,
   "metadata": {
    "scrolled": true
   },
   "outputs": [
    {
     "name": "stdout",
     "output_type": "stream",
     "text": [
      "Percentage of Data Missing after Data Cleaning\n"
     ]
    },
    {
     "data": {
      "text/plain": [
       "labour_in_feb        0.0\n",
       "work_days_feb        0.0\n",
       "work_hours_feb       0.0\n",
       "take_home_pay_feb    0.0\n",
       "labour_in_apr        0.0\n",
       "work_days_apr        0.0\n",
       "work_hours_apr       0.0\n",
       "take_home_pay_apr    0.0\n",
       "lost_labour          0.0\n",
       "return_to_work       0.0\n",
       "usual_work           0.0\n",
       "dtype: float64"
      ]
     },
     "metadata": {},
     "output_type": "display_data"
    }
   ],
   "source": [
    "print('Percentage of Data Missing after Data Cleaning')\n",
    "display(round((lbdf.isnull().sum()/len(lbdf))*100,2))"
   ]
  },
  {
   "cell_type": "markdown",
   "metadata": {},
   "source": [
    "## 2.4 Exploratory Data Analysis"
   ]
  },
  {
   "cell_type": "markdown",
   "metadata": {},
   "source": [
    "To begin the EDA of the Labour features let us first look at how COVID-19 and the mandated lockdown directly effected the labour in the country by comparing what percentage of our sample had work in February to what percentage had work in April:"
   ]
  },
  {
   "cell_type": "code",
   "execution_count": 156,
   "metadata": {
    "scrolled": false
   },
   "outputs": [
    {
     "data": {
      "image/png": "[encoded data removed]",
      "text/plain": [
       "<Figure size 576x576 with 2 Axes>"
      ]
     },
     "metadata": {},
     "output_type": "display_data"
    }
   ],
   "source": [
    "#Create subplots for comparing two figures\n",
    "fig, [ax1,ax2] = plt.subplots(1,2, figsize=(8,8))\n",
    "\n",
    "#Create a pie chart showing the percentage of the sample which had work in February \n",
    "lab_feb = lbdf['labour_in_feb'].value_counts()/len(lbdf)*100\n",
    "ax1.pie(lab_feb, labels= ['No','Yes'], autopct='%1.2f%%',startangle = 90,explode = [0,0.1],shadow = True)\n",
    "ax1.set_title('Labour in February')\n",
    "\n",
    "#Create a pie chart showing the percentage of the sample which had work in April\n",
    "lab_apr = lbdf['labour_in_apr'].value_counts()/len(lbdf)*100\n",
    "ax2.pie(lab_apr, labels= ['No','Yes'], autopct='%1.2f%%',startangle = 90,explode = [0,0.1],shadow = True)\n",
    "ax2.set_title('Labour in April')\n",
    "\n",
    "plt.tight_layout()\n",
    "plt.show()"
   ]
  },
  {
   "cell_type": "markdown",
   "metadata": {},
   "source": [
    "As we can see Labour in the country was **adversely** effected with roughly 20% of our sample losing their opportunity to work between February and April. Of the respondents who did lose their opportunity to work between February and April, let us examine how many of them said that they would be able to return to work in the 4 weeks following their interview."
   ]
  },
  {
   "cell_type": "code",
   "execution_count": 157,
   "metadata": {},
   "outputs": [
    {
     "data": {
      "image/png": "[encoded data removed]",
      "text/plain": [
       "<Figure size 432x432 with 1 Axes>"
      ]
     },
     "metadata": {},
     "output_type": "display_data"
    }
   ],
   "source": [
    "#Select respondents who lost their work between February and April\n",
    "lost_labour = lbdf.loc[lbdf['lost_labour']==1, 'return_to_work']\n",
    "\n",
    "#Calculate what percentage of them have work to return to \n",
    "return_to_job = lost_labour.value_counts()/ len(lost_labour)*100\n",
    "\n",
    "#Plot pie chart\n",
    "return_to_job.plot(kind='pie',labels=['No','Yes'], explode = [0.1,0], figsize= (6,6), autopct='%1.2f%%', startangle = 90 , ylabel=\"\",\n",
    "            shadow = True)\n",
    "plt.title(\"Work to return to in next 4 weeks\")\n",
    "plt.show()"
   ]
  },
  {
   "cell_type": "markdown",
   "metadata": {},
   "source": [
    "Looking at this plot and the previous two plots we can see that not only was their a drastic reduction in the number of respondents who were able to work, but also of the respondents who lost their opportunity to work a substantial amount said they had not work to return to in the next 4 weeks."
   ]
  },
  {
   "cell_type": "markdown",
   "metadata": {},
   "source": [
    "Next let us explore how COVID-19 effected the amount of time people spent working. First we can explore how the number of work days per week was effected. This is done by first selecting the respondents who had work in February and calculating the PMF for the number of days they worked per week. We can repeat this for the respondents who had work in April and then compare the two PMFs. This is done because the two sample sizes are different so just comparing their histograms would lead to inaccurate conclusions. "
   ]
  },
  {
   "cell_type": "code",
   "execution_count": 158,
   "metadata": {
    "scrolled": false
   },
   "outputs": [
    {
     "data": {
      "image/png": "[encoded data removed]",
      "text/plain": [
       "<Figure size 720x432 with 1 Axes>"
      ]
     },
     "metadata": {
      "needs_background": "light"
     },
     "output_type": "display_data"
    }
   ],
   "source": [
    "#Calculate PMF for days worked per week in February \n",
    "work_days_feb = lbdf.loc[lbdf['labour_in_feb']==1,'work_days_feb']\n",
    "work_days_feb = work_days_feb.value_counts().sort_index()/len(work_days_feb)\n",
    "\n",
    "#Calculate PMF for days worked per week in April\n",
    "work_days_apr = lbdf.loc[lbdf['labour_in_apr']==1,'work_days_apr']\n",
    "work_days_apr = work_days_apr.value_counts().sort_index()/len(work_days_apr)\n",
    "\n",
    "#Plot two PMFs on the same axis to compare them \n",
    "plt.figure(figsize=(10,6))\n",
    "plt.bar(x = work_days_feb.index, height = work_days_feb.values, alpha=0.5, label = 'February')\n",
    "plt.bar(x = work_days_apr.index, height = work_days_apr.values, alpha=0.5, label = 'April')\n",
    "plt.legend(loc=2)\n",
    "plt.title('Number of Work Days per Week')\n",
    "plt.xlabel('Number of Work Days')\n",
    "plt.ylabel('PMF')\n",
    "plt.show()"
   ]
  },
  {
   "cell_type": "markdown",
   "metadata": {},
   "source": [
    "As we can see from the plot above, there was defiitely a decrease in the number of days people were working per week. Next let us explore how the number of hours people were working per day was effected. This is done using a similar procedure to the one implemented to analyze the number of work days per week."
   ]
  },
  {
   "cell_type": "code",
   "execution_count": 159,
   "metadata": {},
   "outputs": [
    {
     "data": {
      "image/png": "[encoded data removed]",
      "text/plain": [
       "<Figure size 1080x432 with 1 Axes>"
      ]
     },
     "metadata": {
      "needs_background": "light"
     },
     "output_type": "display_data"
    }
   ],
   "source": [
    "#Calculate PMF for hours worked per day in February \n",
    "work_hours_feb = lbdf.loc[lbdf['labour_in_feb']==1,'work_hours_feb']\n",
    "work_hours_feb = work_hours_feb.value_counts().sort_index()/len(work_hours_feb)\n",
    "\n",
    "#Calculate PMF for hours worked per day in April\n",
    "work_hours_apr = lbdf.loc[lbdf['labour_in_apr']==1,'work_hours_apr']\n",
    "work_hours_apr = work_hours_apr.value_counts().sort_index()/len(work_hours_apr)\n",
    "\n",
    "#Plot two PMFs on the same axis to compare them\n",
    "plt.figure(figsize=(15,6))\n",
    "plt.bar(x = work_hours_feb.index, height = work_hours_feb.values, alpha=0.5, label = 'February')\n",
    "plt.bar(x = work_hours_apr.index, height = work_hours_apr.values, alpha=0.5, label = 'April')\n",
    "plt.legend(loc=2)\n",
    "plt.title('Number of Hours per Work Day')\n",
    "plt.xlabel('Number of Work Hours')\n",
    "plt.ylabel('PMF')\n",
    "plt.show()"
   ]
  },
  {
   "cell_type": "markdown",
   "metadata": {},
   "source": [
    "We can see that the number of hours people spent working each day also decreased overall but their were some instances (8 and 12 hours) which indicate that people who were working in April ended up working for longer hours. This could be a result of workign from home as the lines between time allocated to work and time for individuals private lives became blurred. "
   ]
  },
  {
   "cell_type": "markdown",
   "metadata": {},
   "source": [
    "The next aspect we can explore is how COVID19 effected the income of respondents. First we can look at the distribution of pay for respondents who had work in February and the distribution of pay for respondents who had work in April."
   ]
  },
  {
   "cell_type": "code",
   "execution_count": 195,
   "metadata": {},
   "outputs": [
    {
     "data": {
      "image/png": "[encoded data removed]",
      "text/plain": [
       "<Figure size 720x432 with 1 Axes>"
      ]
     },
     "metadata": {
      "needs_background": "light"
     },
     "output_type": "display_data"
    }
   ],
   "source": [
    "pay_in_feb = lbdf.loc[lbdf['labour_in_feb']==1,'take_home_pay_feb']\n",
    "pay_in_apr = lbdf.loc[lbdf['labour_in_apr']==1,'take_home_pay_apr']\n",
    "\n",
    "#Due to the presence of several outliers, the original distirbution is heavily skewed \n",
    "#By taking a subset of our data which lies within 1.5 * Interquartile Range of the Median we are able \n",
    "#To create a better visual representation of the take home pay distribution \n",
    "pay_in_feb = pay_in_feb[pay_in_feb<pay_in_feb.quantile(0.75)]\n",
    "pay_in_apr = pay_in_feb[pay_in_feb<pay_in_feb.quantile(0.75)]\n",
    "\n",
    "#Now the creation of a dataframe allows us to use Seaborns boxplot functionality \n",
    "feb_df = pd.DataFrame()\n",
    "feb_df['Pay'] = pay_in_feb\n",
    "feb_df['Month'] = 'Feb'\n",
    "apr_df = pd.DataFrame()\n",
    "apr_df['Pay'] = pay_in_apr\n",
    "apr_df['Month'] = 'Apr'\n",
    "pay_df = pd.concat([feb_df,apr_df])\n",
    "\n",
    "#Creating the Plot\n",
    "plt.figure(figsize=(10,6))\n",
    "sns.boxplot(y = 'Month', x = 'Pay', data = pay_df)\n",
    "plt.title('Distribution of Take Home Pay')\n",
    "plt.show()"
   ]
  },
  {
   "cell_type": "markdown",
   "metadata": {},
   "source": [
    "We can see that the distribution for take home pay in February has a higher median and greater variance than the distribution of take home pay in April, the outliers that were identified when creating this plot will need to be dealt with at a later stage, prior to constructing a model using this feature. Lastly let us explore the usual work done by respondents in our sample."
   ]
  },
  {
   "cell_type": "code",
   "execution_count": 203,
   "metadata": {},
   "outputs": [
    {
     "data": {
      "image/png": "[encoded data removed]",
      "text/plain": [
       "<Figure size 720x432 with 1 Axes>"
      ]
     },
     "metadata": {
      "needs_background": "light"
     },
     "output_type": "display_data"
    }
   ],
   "source": [
    "#We only want to look at respondents who were employed and who answered the question.\n",
    "answered_usual_work = lbdf[(lbdf['usual_work']!='Not Employed')&(lbdf['usual_work']!='Unknown')]\n",
    "\n",
    "#Histogram of Usual Work letting us examine the distribution\n",
    "usual_work = answered_usual_work['usual_work'].value_counts().sort_values(ascending=False)\n",
    "\n",
    "#Plotting the Histogram \n",
    "plt.figure(figsize=(10,6))\n",
    "sns.barplot(y = usual_work.index, x = usual_work.values)\n",
    "plt.xlabel('Count')\n",
    "plt.title(\"Usual Work\")\n",
    "plt.show()"
   ]
  },
  {
   "cell_type": "markdown",
   "metadata": {},
   "source": [
    "From this we can deduce that, of the respondents in our sample who work and who answered this question, majority of them work in Elementary Occupations, are self-employed or work in Services and Sales."
   ]
  }
 ],
 "metadata": {
  "hide_input": false,
  "kernelspec": {
   "display_name": "Python 3",
   "language": "python",
   "name": "python3"
  },
  "language_info": {
   "codemirror_mode": {
    "name": "ipython",
    "version": 3
   },
   "file_extension": ".py",
   "mimetype": "text/x-python",
   "name": "python",
   "nbconvert_exporter": "python",
   "pygments_lexer": "ipython3",
   "version": "3.8.6"
  },
  "toc": {
   "base_numbering": 1,
   "nav_menu": {},
   "number_sections": false,
   "sideBar": true,
   "skip_h1_title": true,
   "title_cell": "Table of Contents",
   "title_sidebar": "Contents",
   "toc_cell": true,
   "toc_position": {},
   "toc_section_display": true,
   "toc_window_display": false
  }
 },
 "nbformat": 4,
 "nbformat_minor": 4
}
