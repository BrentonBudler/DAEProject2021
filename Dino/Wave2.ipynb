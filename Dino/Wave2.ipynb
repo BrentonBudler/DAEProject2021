{
 "cells": [
  {
   "cell_type": "code",
   "execution_count": 3,
   "id": "crazy-craft",
   "metadata": {},
   "outputs": [],
   "source": [
    "import pandas as pd\n",
    "import numpy as np"
   ]
  },
  {
   "cell_type": "markdown",
   "id": "colonial-somewhere",
   "metadata": {},
   "source": [
    "# <b>NOTES<b>\n",
    "\n",
    "## <b>Ideas:<b>\n",
    "    -Merge Wave1, Wave2 and Wave3 in order to look at the same population throughout and check the differences\n",
    "    -\n",
    "    -\n",
    "    -\n",
    "\n",
    "    \n",
    "    \n",
    "    "
   ]
  },
  {
   "cell_type": "code",
   "execution_count": 75,
   "id": "partial-enforcement",
   "metadata": {},
   "outputs": [
    {
     "output_type": "stream",
     "name": "stdout",
     "text": [
      "<class 'pandas.core.frame.DataFrame'>\n",
      "Int64Index: 7051 entries, 0 to 7050\n",
      "Columns: 177 entries, pid to w2_nc_intlng3\n",
      "dtypes: category(163), int32(1), object(13)\n",
      "memory usage: 2.0+ MB\n",
      "<class 'pandas.core.frame.DataFrame'>\n",
      "Int64Index: 5676 entries, 4 to 7050\n",
      "Columns: 177 entries, pid to w2_nc_intlng3\n",
      "dtypes: category(163), int32(1), object(13)\n",
      "memory usage: 1.7+ MB\n"
     ]
    }
   ],
   "source": [
    "#Convert from .dta to .csv\n",
    "Wave2 = pd.read_stata(\"Wave2.dta\")\n",
    "# df.to_csv('Wave2.csv')\n",
    "# df = pd.read_csv(\"Wave2.csv\", index_col=\"pid\", delimiter=\",\", low_memory=False)\n",
    "# display(Wave2.head(5))\n",
    "Wave2.info()\n",
    "\n",
    "Wave2 = Wave2[Wave2['w2_nc_outcome'] == \"Successfully Interviewed\"]\n",
    "# display(Wave2.head(5))\n",
    "Wave2.info()"
   ]
  },
  {
   "cell_type": "markdown",
   "id": "understood-night",
   "metadata": {},
   "source": [
    "We have now narrrowed down our dataset to only the people who were successfully interviewed."
   ]
  },
  {
   "cell_type": "code",
   "execution_count": 76,
   "id": "introductory-investment",
   "metadata": {},
   "outputs": [
    {
     "output_type": "stream",
     "name": "stdout",
     "text": [
      "<class 'pandas.core.frame.DataFrame'>\n",
      "Int64Index: 7073 entries, 0 to 7072\n",
      "Columns: 170 entries, pid to w1_nc_intlng11\n",
      "dtypes: category(157), int32(1), object(12)\n",
      "memory usage: 2.0+ MB\n",
      "<class 'pandas.core.frame.DataFrame'>\n",
      "Int64Index: 7073 entries, 0 to 7072\n",
      "Columns: 170 entries, pid to w1_nc_intlng11\n",
      "dtypes: category(157), int32(1), object(12)\n",
      "memory usage: 2.0+ MB\n"
     ]
    }
   ],
   "source": [
    "Wave1 = pd.read_stata(\"Wave1.dta\")\n",
    "# display(Wave1.head(5))\n",
    "Wave1.info()\n",
    "\n",
    "Wave1 = Wave1[Wave1['w1_nc_outcome'] == \"Successfully Interviewed\"]\n",
    "# display(Wave1.head(5))\n",
    "Wave1.info()"
   ]
  },
  {
   "cell_type": "code",
   "execution_count": 77,
   "metadata": {},
   "outputs": [
    {
     "output_type": "stream",
     "name": "stdout",
     "text": [
      "<class 'pandas.core.frame.DataFrame'>\nInt64Index: 8098 entries, 0 to 8097\nColumns: 177 entries, pid to w3_nc_intlng3\ndtypes: category(163), int32(1), object(13)\nmemory usage: 2.3+ MB\n<class 'pandas.core.frame.DataFrame'>\nInt64Index: 6130 entries, 4 to 8097\nColumns: 177 entries, pid to w3_nc_intlng3\ndtypes: category(163), int32(1), object(13)\nmemory usage: 1.8+ MB\n"
     ]
    }
   ],
   "source": [
    "Wave3 = pd.read_stata(\"Wave3.dta\")\n",
    "# display(Wave3.head(5))\n",
    "Wave3.info()\n",
    "\n",
    "Wave3 = Wave3[Wave3['w3_nc_outcome'] == \"Successfully Interviewed\"]\n",
    "# display(Wave3.head(5))\n",
    "Wave3.info()"
   ]
  },
  {
   "cell_type": "code",
   "execution_count": 78,
   "metadata": {},
   "outputs": [
    {
     "output_type": "display_data",
     "data": {
      "text/plain": "      pid             w1_nc_outcome w1_nc_intrv_c w1_nc_intrv_d w1_nc_intrv_m  \\\n0  301067  Successfully Interviewed           609          15th           May   \n1  301079  Successfully Interviewed           609          22nd           May   \n2  301082  Successfully Interviewed           624           4th          June   \n3  301086  Successfully Interviewed           644           4th          June   \n4  301088  Successfully Interviewed           630          27th           May   \n\n  w1_nc_intrv_y w1_nc_duration w1_nc_dob_m w1_nc_dob_y w1_nc_gen  ...  \\\n0          2020           15.2        July      1971.0     Woman  ...   \n1          2020          15.37    February      1970.0     Woman  ...   \n2          2020          25.27        June      1989.0       Man  ...   \n3          2020          17.18        June      1972.0     Woman  ...   \n4          2020          21.13         May      1978.0       Man  ...   \n\n  w3_nc_smkprice_ld w3_nc_smkbrand_ld w3_nc_smkbrand_ld_o w3_nc_smkcigday  \\\n0               NaN               NaN                                 NaN   \n1               NaN               NaN                                 NaN   \n2               NaN               NaN                                 NaN   \n3               NaN               NaN                                 NaN   \n4               NaN               NaN                                 NaN   \n\n  w3_nc_smkbrand_after w3_nc_smkbrand_after_o w3_nc_intres w3_nc_intlng1  \\\n0                  NaN                            Friendly        Sepedi   \n1                  NaN                            Friendly        Sepedi   \n2                  NaN                            Friendly      IsiXhosa   \n3                  NaN                            Friendly       IsiZulu   \n4                  NaN                             Hostile      IsiXhosa   \n\n  w3_nc_intlng2 w3_nc_intlng3  \n0           NaN           NaN  \n1       Sesotho           NaN  \n2           NaN           NaN  \n3           NaN           NaN  \n4       English           NaN  \n\n[5 rows x 522 columns]",
      "text/html": "<div>\n<style scoped>\n    .dataframe tbody tr th:only-of-type {\n        vertical-align: middle;\n    }\n\n    .dataframe tbody tr th {\n        vertical-align: top;\n    }\n\n    .dataframe thead th {\n        text-align: right;\n    }\n</style>\n<table border=\"1\" class=\"dataframe\">\n  <thead>\n    <tr style=\"text-align: right;\">\n      <th></th>\n      <th>pid</th>\n      <th>w1_nc_outcome</th>\n      <th>w1_nc_intrv_c</th>\n      <th>w1_nc_intrv_d</th>\n      <th>w1_nc_intrv_m</th>\n      <th>w1_nc_intrv_y</th>\n      <th>w1_nc_duration</th>\n      <th>w1_nc_dob_m</th>\n      <th>w1_nc_dob_y</th>\n      <th>w1_nc_gen</th>\n      <th>...</th>\n      <th>w3_nc_smkprice_ld</th>\n      <th>w3_nc_smkbrand_ld</th>\n      <th>w3_nc_smkbrand_ld_o</th>\n      <th>w3_nc_smkcigday</th>\n      <th>w3_nc_smkbrand_after</th>\n      <th>w3_nc_smkbrand_after_o</th>\n      <th>w3_nc_intres</th>\n      <th>w3_nc_intlng1</th>\n      <th>w3_nc_intlng2</th>\n      <th>w3_nc_intlng3</th>\n    </tr>\n  </thead>\n  <tbody>\n    <tr>\n      <th>0</th>\n      <td>301067</td>\n      <td>Successfully Interviewed</td>\n      <td>609</td>\n      <td>15th</td>\n      <td>May</td>\n      <td>2020</td>\n      <td>15.2</td>\n      <td>July</td>\n      <td>1971.0</td>\n      <td>Woman</td>\n      <td>...</td>\n      <td>NaN</td>\n      <td>NaN</td>\n      <td></td>\n      <td>NaN</td>\n      <td>NaN</td>\n      <td></td>\n      <td>Friendly</td>\n      <td>Sepedi</td>\n      <td>NaN</td>\n      <td>NaN</td>\n    </tr>\n    <tr>\n      <th>1</th>\n      <td>301079</td>\n      <td>Successfully Interviewed</td>\n      <td>609</td>\n      <td>22nd</td>\n      <td>May</td>\n      <td>2020</td>\n      <td>15.37</td>\n      <td>February</td>\n      <td>1970.0</td>\n      <td>Woman</td>\n      <td>...</td>\n      <td>NaN</td>\n      <td>NaN</td>\n      <td></td>\n      <td>NaN</td>\n      <td>NaN</td>\n      <td></td>\n      <td>Friendly</td>\n      <td>Sepedi</td>\n      <td>Sesotho</td>\n      <td>NaN</td>\n    </tr>\n    <tr>\n      <th>2</th>\n      <td>301082</td>\n      <td>Successfully Interviewed</td>\n      <td>624</td>\n      <td>4th</td>\n      <td>June</td>\n      <td>2020</td>\n      <td>25.27</td>\n      <td>June</td>\n      <td>1989.0</td>\n      <td>Man</td>\n      <td>...</td>\n      <td>NaN</td>\n      <td>NaN</td>\n      <td></td>\n      <td>NaN</td>\n      <td>NaN</td>\n      <td></td>\n      <td>Friendly</td>\n      <td>IsiXhosa</td>\n      <td>NaN</td>\n      <td>NaN</td>\n    </tr>\n    <tr>\n      <th>3</th>\n      <td>301086</td>\n      <td>Successfully Interviewed</td>\n      <td>644</td>\n      <td>4th</td>\n      <td>June</td>\n      <td>2020</td>\n      <td>17.18</td>\n      <td>June</td>\n      <td>1972.0</td>\n      <td>Woman</td>\n      <td>...</td>\n      <td>NaN</td>\n      <td>NaN</td>\n      <td></td>\n      <td>NaN</td>\n      <td>NaN</td>\n      <td></td>\n      <td>Friendly</td>\n      <td>IsiZulu</td>\n      <td>NaN</td>\n      <td>NaN</td>\n    </tr>\n    <tr>\n      <th>4</th>\n      <td>301088</td>\n      <td>Successfully Interviewed</td>\n      <td>630</td>\n      <td>27th</td>\n      <td>May</td>\n      <td>2020</td>\n      <td>21.13</td>\n      <td>May</td>\n      <td>1978.0</td>\n      <td>Man</td>\n      <td>...</td>\n      <td>NaN</td>\n      <td>NaN</td>\n      <td></td>\n      <td>NaN</td>\n      <td>NaN</td>\n      <td></td>\n      <td>Hostile</td>\n      <td>IsiXhosa</td>\n      <td>English</td>\n      <td>NaN</td>\n    </tr>\n  </tbody>\n</table>\n<p>5 rows × 522 columns</p>\n</div>"
     },
     "metadata": {}
    },
    {
     "output_type": "stream",
     "name": "stdout",
     "text": [
      "<class 'pandas.core.frame.DataFrame'>\nInt64Index: 4508 entries, 0 to 4507\nColumns: 522 entries, pid to w3_nc_intlng3\ndtypes: category(483), int32(1), object(38)\nmemory usage: 3.9+ MB\n"
     ]
    }
   ],
   "source": [
    "frames = [Wave1, Wave2, Wave3]\n",
    "temp = pd.merge(Wave1, Wave2, how='inner', on='pid')\n",
    "df = pd.merge(temp, Wave3, how='inner', on='pid')\n",
    "\n",
    "display(df.head(5))\n",
    "df.info()"
   ]
  },
  {
   "cell_type": "code",
   "execution_count": 81,
   "metadata": {},
   "outputs": [
    {
     "output_type": "stream",
     "name": "stdout",
     "text": [
      "<class 'pandas.core.frame.DataFrame'>\nInt64Index: 4508 entries, 0 to 4507\nColumns: 521 entries, pid to w3_nc_intlng3\ndtypes: category(483), int32(1), object(37)\nmemory usage: 3.9+ MB\n"
     ]
    }
   ],
   "source": [
    "\n",
    "def getDuplicateColumns(df): \n",
    "    duplicateColumnNames = set()\n",
    "    for x in range(df.shape[1]): \n",
    "        col = df.iloc[:, x]\n",
    "        for y in range(x + 1, df.shape[1]): \n",
    "            otherCol = df.iloc[:, y] \n",
    "            if col.equals(otherCol): \n",
    "                duplicateColumnNames.add(df.columns.values[y]) \n",
    "    return list(duplicateColumnNames) \n",
    "    \n",
    "df = df.drop(columns = getDuplicateColumns(df)) \n",
    "df.info()"
   ]
  },
  {
   "source": [
    "The reason that only 1 column is deleted is because the column values are not consistent across the 3 waves as explained below."
   ],
   "cell_type": "markdown",
   "metadata": {}
  },
  {
   "cell_type": "code",
   "execution_count": 82,
   "metadata": {},
   "outputs": [
    {
     "output_type": "execute_result",
     "data": {
      "text/plain": [
       "     w1_nc_dob_y w2_nc_dob_y w3_nc_dob_y w1_nc_dob_m w2_nc_dob_m w3_nc_dob_m  \\\n",
       "0         1971.0      1971.0      1971.0        July        July        July   \n",
       "1         1970.0      1970.0      1970.0    February    February    February   \n",
       "2         1989.0      1989.0      1989.0        June        June        June   \n",
       "3         1972.0      1972.0      1972.0        June        June        June   \n",
       "4         1978.0      1978.0      1978.0         May         May         May   \n",
       "...          ...         ...         ...         ...         ...         ...   \n",
       "4503      1989.0      1990.0      1989.0      August      August      August   \n",
       "4504      1978.0      1978.0      1978.0   September     October   September   \n",
       "4505      1976.0      1976.0      1976.0     January     January     January   \n",
       "4506      1996.0      1996.0      1996.0        July        July        July   \n",
       "4507      1971.0      1971.0      1971.0     January     January     January   \n",
       "\n",
       "     w1_nc_gen w2_nc_gen w3_nc_gen  \n",
       "0        Woman     Woman     Woman  \n",
       "1        Woman     Woman     Woman  \n",
       "2          Man       Man       Man  \n",
       "3        Woman     Woman     Woman  \n",
       "4          Man       Man       Man  \n",
       "...        ...       ...       ...  \n",
       "4503     Woman     Woman     Woman  \n",
       "4504       Man       Man       Man  \n",
       "4505     Woman     Woman     Woman  \n",
       "4506     Woman     Woman     Woman  \n",
       "4507       Man       Man       Man  \n",
       "\n",
       "[4508 rows x 9 columns]"
      ],
      "text/html": "<div>\n<style scoped>\n    .dataframe tbody tr th:only-of-type {\n        vertical-align: middle;\n    }\n\n    .dataframe tbody tr th {\n        vertical-align: top;\n    }\n\n    .dataframe thead th {\n        text-align: right;\n    }\n</style>\n<table border=\"1\" class=\"dataframe\">\n  <thead>\n    <tr style=\"text-align: right;\">\n      <th></th>\n      <th>w1_nc_dob_y</th>\n      <th>w2_nc_dob_y</th>\n      <th>w3_nc_dob_y</th>\n      <th>w1_nc_dob_m</th>\n      <th>w2_nc_dob_m</th>\n      <th>w3_nc_dob_m</th>\n      <th>w1_nc_gen</th>\n      <th>w2_nc_gen</th>\n      <th>w3_nc_gen</th>\n    </tr>\n  </thead>\n  <tbody>\n    <tr>\n      <th>0</th>\n      <td>1971.0</td>\n      <td>1971.0</td>\n      <td>1971.0</td>\n      <td>July</td>\n      <td>July</td>\n      <td>July</td>\n      <td>Woman</td>\n      <td>Woman</td>\n      <td>Woman</td>\n    </tr>\n    <tr>\n      <th>1</th>\n      <td>1970.0</td>\n      <td>1970.0</td>\n      <td>1970.0</td>\n      <td>February</td>\n      <td>February</td>\n      <td>February</td>\n      <td>Woman</td>\n      <td>Woman</td>\n      <td>Woman</td>\n    </tr>\n    <tr>\n      <th>2</th>\n      <td>1989.0</td>\n      <td>1989.0</td>\n      <td>1989.0</td>\n      <td>June</td>\n      <td>June</td>\n      <td>June</td>\n      <td>Man</td>\n      <td>Man</td>\n      <td>Man</td>\n    </tr>\n    <tr>\n      <th>3</th>\n      <td>1972.0</td>\n      <td>1972.0</td>\n      <td>1972.0</td>\n      <td>June</td>\n      <td>June</td>\n      <td>June</td>\n      <td>Woman</td>\n      <td>Woman</td>\n      <td>Woman</td>\n    </tr>\n    <tr>\n      <th>4</th>\n      <td>1978.0</td>\n      <td>1978.0</td>\n      <td>1978.0</td>\n      <td>May</td>\n      <td>May</td>\n      <td>May</td>\n      <td>Man</td>\n      <td>Man</td>\n      <td>Man</td>\n    </tr>\n    <tr>\n      <th>...</th>\n      <td>...</td>\n      <td>...</td>\n      <td>...</td>\n      <td>...</td>\n      <td>...</td>\n      <td>...</td>\n      <td>...</td>\n      <td>...</td>\n      <td>...</td>\n    </tr>\n    <tr>\n      <th>4503</th>\n      <td>1989.0</td>\n      <td>1990.0</td>\n      <td>1989.0</td>\n      <td>August</td>\n      <td>August</td>\n      <td>August</td>\n      <td>Woman</td>\n      <td>Woman</td>\n      <td>Woman</td>\n    </tr>\n    <tr>\n      <th>4504</th>\n      <td>1978.0</td>\n      <td>1978.0</td>\n      <td>1978.0</td>\n      <td>September</td>\n      <td>October</td>\n      <td>September</td>\n      <td>Man</td>\n      <td>Man</td>\n      <td>Man</td>\n    </tr>\n    <tr>\n      <th>4505</th>\n      <td>1976.0</td>\n      <td>1976.0</td>\n      <td>1976.0</td>\n      <td>January</td>\n      <td>January</td>\n      <td>January</td>\n      <td>Woman</td>\n      <td>Woman</td>\n      <td>Woman</td>\n    </tr>\n    <tr>\n      <th>4506</th>\n      <td>1996.0</td>\n      <td>1996.0</td>\n      <td>1996.0</td>\n      <td>July</td>\n      <td>July</td>\n      <td>July</td>\n      <td>Woman</td>\n      <td>Woman</td>\n      <td>Woman</td>\n    </tr>\n    <tr>\n      <th>4507</th>\n      <td>1971.0</td>\n      <td>1971.0</td>\n      <td>1971.0</td>\n      <td>January</td>\n      <td>January</td>\n      <td>January</td>\n      <td>Man</td>\n      <td>Man</td>\n      <td>Man</td>\n    </tr>\n  </tbody>\n</table>\n<p>4508 rows × 9 columns</p>\n</div>"
     },
     "metadata": {},
     "execution_count": 82
    }
   ],
   "source": [
    "df_dates = df[['w1_nc_dob_y', 'w2_nc_dob_y', 'w3_nc_dob_y', 'w1_nc_dob_m', 'w2_nc_dob_m', 'w3_nc_dob_m', 'w1_nc_gen', 'w2_nc_gen', 'w3_nc_gen']].copy()\n",
    "df_dates"
   ]
  },
  {
   "source": [
    "There are several cases where the values are inconsistent across the different waves. I believe this is an input error since many of the entires will match. For example, the year of birth in record #4503 is (1989, 1990, 1989) yet the month of birth and gender is consistent (August, Woman). \n",
    "To clean this up, we should look at the triplet of columns (that we are interested in - birth date, gender, etc) and set all 3 values to whichever one appears most often."
   ],
   "cell_type": "markdown",
   "metadata": {}
  },
  {
   "cell_type": "code",
   "execution_count": null,
   "metadata": {},
   "outputs": [],
   "source": []
  },
  {
   "cell_type": "code",
   "execution_count": null,
   "metadata": {},
   "outputs": [],
   "source": []
  }
 ],
 "metadata": {
  "kernelspec": {
   "display_name": "Python 3",
   "language": "python",
   "name": "python3"
  },
  "language_info": {
   "codemirror_mode": {
    "name": "ipython",
    "version": 3
   },
   "file_extension": ".py",
   "mimetype": "text/x-python",
   "name": "python",
   "nbconvert_exporter": "python",
   "pygments_lexer": "ipython3",
   "version": "3.8.6-final"
  }
 },
 "nbformat": 4,
 "nbformat_minor": 5
}