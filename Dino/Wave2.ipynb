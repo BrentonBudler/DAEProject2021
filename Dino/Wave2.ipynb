{
 "cells": [
  {
   "cell_type": "code",
   "execution_count": 31,
   "id": "crazy-craft",
   "metadata": {},
   "outputs": [],
   "source": [
    "import pandas as pd\n",
    "import numpy as np"
   ]
  },
  {
   "cell_type": "markdown",
   "id": "colonial-somewhere",
   "metadata": {},
   "source": [
    "# 1) DATA CLEANING\n",
    "\n",
    "### <b>Ideas:<b>\n",
    "    - Only look at people who were successfully iterviewed all 3 waves\n",
    "    - Merge Wave1, Wave2 and Wave3 in order to look at the same population\n",
    "    -\n",
    "    -\n",
    "\n",
    "    \n",
    "    \n",
    "    "
   ]
  },
  {
   "cell_type": "code",
   "execution_count": 33,
   "metadata": {},
   "outputs": [
    {
     "output_type": "stream",
     "name": "stdout",
     "text": [
      "Number of people who were not interviewed in Wave 1:  0\n"
     ]
    }
   ],
   "source": [
    "Wave1 = pd.read_stata(\"Wave1.dta\")\n",
    "# display(Wave1.head(5))\n",
    "# Wave1.info()\n",
    "\n",
    "num_rows_start = Wave1.shape[0]\n",
    "\n",
    "Wave1 = Wave1[Wave1['w1_nc_outcome'] == \"Successfully Interviewed\"]\n",
    "deleted_rows = num_rows_start - Wave1.shape[0]\n",
    "\n",
    "# display(Wave1.head(5))\n",
    "# Wave1.info()\n",
    "print(\"Number of people who were not interviewed in Wave 1: \", deleted_rows)"
   ]
  },
  {
   "cell_type": "markdown",
   "id": "understood-night",
   "metadata": {},
   "source": []
  },
  {
   "cell_type": "code",
   "execution_count": 35,
   "id": "introductory-investment",
   "metadata": {},
   "outputs": [
    {
     "output_type": "stream",
     "name": "stdout",
     "text": [
      "Number of people who were not interviewed in Wave 2:  1375\n"
     ]
    }
   ],
   "source": [
    "Wave2 = pd.read_stata(\"Wave2.dta\")\n",
    "# display(Wave2.head(5))\n",
    "# Wave2.info()\n",
    "\n",
    "num_rows_start = Wave2.shape[0]\n",
    "\n",
    "Wave2 = Wave2[Wave2['w2_nc_outcome'] == \"Successfully Interviewed\"]\n",
    "deleted_rows = num_rows_start - Wave2.shape[0]\n",
    "\n",
    "# display(Wave2.head(5))\n",
    "# Wave2.info()\n",
    "print(\"Number of people who were not interviewed in Wave 2: \", deleted_rows)"
   ]
  },
  {
   "cell_type": "code",
   "execution_count": 37,
   "metadata": {},
   "outputs": [
    {
     "output_type": "stream",
     "name": "stdout",
     "text": [
      "Number of people who were not interviewed in Wave 3:  1968\n"
     ]
    }
   ],
   "source": [
    "Wave3 = pd.read_stata(\"Wave3.dta\")\n",
    "# display(Wave3.head(5))\n",
    "# Wave3.info()\n",
    "\n",
    "num_rows_start = Wave3.shape[0]\n",
    "\n",
    "Wave3 = Wave3[Wave3['w3_nc_outcome'] == \"Successfully Interviewed\"]\n",
    "deleted_rows = num_rows_start - Wave3.shape[0]\n",
    "\n",
    "# display(Wave3.head(5))\n",
    "# Wave3.info()\n",
    "print(\"Number of people who were not interviewed in Wave 3: \", deleted_rows)"
   ]
  },
  {
   "source": [
    "## We have now narrrowed down our dataset to only the people who were successfully interviewed in all 3 waves."
   ],
   "cell_type": "markdown",
   "metadata": {}
  },
  {
   "source": [
    "# 2) Merge Wave1, Wave2 and Wave3"
   ],
   "cell_type": "markdown",
   "metadata": {}
  },
  {
   "cell_type": "code",
   "execution_count": null,
   "metadata": {},
   "outputs": [],
   "source": [
    "frames = [Wave1, Wave2, Wave3]\n",
    "temp = pd.merge(Wave1, Wave2, how='inner', on='pid')\n",
    "df = pd.merge(temp, Wave3, how='inner', on='pid')\n",
    "\n",
    "display(df.head(5))\n",
    "print(\"Number of people who were successfully interviewed in all 3 waves: \", df.shape[0])"
   ]
  },
  {
   "cell_type": "code",
   "execution_count": 36,
   "metadata": {},
   "outputs": [
    {
     "output_type": "execute_result",
     "data": {
      "text/plain": [
       "         pid w1_nc_dob_y w2_nc_dob_y w3_nc_dob_y w1_nc_dob_m w2_nc_dob_m  \\\n",
       "0     301067      1971.0      1971.0      1971.0        July        July   \n",
       "1     301079      1970.0      1970.0      1970.0    February    February   \n",
       "2     301082      1989.0      1989.0      1989.0        June        June   \n",
       "3     301086      1972.0      1972.0      1972.0        June        June   \n",
       "4     301088      1978.0      1978.0      1978.0         May         May   \n",
       "...      ...         ...         ...         ...         ...         ...   \n",
       "4503  799572      1989.0      1990.0      1989.0      August      August   \n",
       "4504  799619      1978.0      1978.0      1978.0   September     October   \n",
       "4505  799644      1976.0      1976.0      1976.0     January     January   \n",
       "4506  799780      1996.0      1996.0      1996.0        July        July   \n",
       "4507  799922      1971.0      1971.0      1971.0     January     January   \n",
       "\n",
       "     w3_nc_dob_m w1_nc_gen w2_nc_gen w3_nc_gen   w1_nc_popgrp   w3_nc_popgrp  \n",
       "0           July     Woman     Woman     Woman  African/Black  African/Black  \n",
       "1       February     Woman     Woman     Woman  African/Black  African/Black  \n",
       "2           June       Man       Man       Man  African/Black  African/Black  \n",
       "3           June     Woman     Woman     Woman  African/Black  African/Black  \n",
       "4            May       Man       Man       Man  African/Black  African/Black  \n",
       "...          ...       ...       ...       ...            ...            ...  \n",
       "4503      August     Woman     Woman     Woman  African/Black  African/Black  \n",
       "4504   September       Man       Man       Man  African/Black  African/Black  \n",
       "4505     January     Woman     Woman     Woman  African/Black  African/Black  \n",
       "4506        July     Woman     Woman     Woman       Coloured       Coloured  \n",
       "4507     January       Man       Man       Man       Coloured       Coloured  \n",
       "\n",
       "[4508 rows x 12 columns]"
      ],
      "text/html": "<div>\n<style scoped>\n    .dataframe tbody tr th:only-of-type {\n        vertical-align: middle;\n    }\n\n    .dataframe tbody tr th {\n        vertical-align: top;\n    }\n\n    .dataframe thead th {\n        text-align: right;\n    }\n</style>\n<table border=\"1\" class=\"dataframe\">\n  <thead>\n    <tr style=\"text-align: right;\">\n      <th></th>\n      <th>pid</th>\n      <th>w1_nc_dob_y</th>\n      <th>w2_nc_dob_y</th>\n      <th>w3_nc_dob_y</th>\n      <th>w1_nc_dob_m</th>\n      <th>w2_nc_dob_m</th>\n      <th>w3_nc_dob_m</th>\n      <th>w1_nc_gen</th>\n      <th>w2_nc_gen</th>\n      <th>w3_nc_gen</th>\n      <th>w1_nc_popgrp</th>\n      <th>w3_nc_popgrp</th>\n    </tr>\n  </thead>\n  <tbody>\n    <tr>\n      <th>0</th>\n      <td>301067</td>\n      <td>1971.0</td>\n      <td>1971.0</td>\n      <td>1971.0</td>\n      <td>July</td>\n      <td>July</td>\n      <td>July</td>\n      <td>Woman</td>\n      <td>Woman</td>\n      <td>Woman</td>\n      <td>African/Black</td>\n      <td>African/Black</td>\n    </tr>\n    <tr>\n      <th>1</th>\n      <td>301079</td>\n      <td>1970.0</td>\n      <td>1970.0</td>\n      <td>1970.0</td>\n      <td>February</td>\n      <td>February</td>\n      <td>February</td>\n      <td>Woman</td>\n      <td>Woman</td>\n      <td>Woman</td>\n      <td>African/Black</td>\n      <td>African/Black</td>\n    </tr>\n    <tr>\n      <th>2</th>\n      <td>301082</td>\n      <td>1989.0</td>\n      <td>1989.0</td>\n      <td>1989.0</td>\n      <td>June</td>\n      <td>June</td>\n      <td>June</td>\n      <td>Man</td>\n      <td>Man</td>\n      <td>Man</td>\n      <td>African/Black</td>\n      <td>African/Black</td>\n    </tr>\n    <tr>\n      <th>3</th>\n      <td>301086</td>\n      <td>1972.0</td>\n      <td>1972.0</td>\n      <td>1972.0</td>\n      <td>June</td>\n      <td>June</td>\n      <td>June</td>\n      <td>Woman</td>\n      <td>Woman</td>\n      <td>Woman</td>\n      <td>African/Black</td>\n      <td>African/Black</td>\n    </tr>\n    <tr>\n      <th>4</th>\n      <td>301088</td>\n      <td>1978.0</td>\n      <td>1978.0</td>\n      <td>1978.0</td>\n      <td>May</td>\n      <td>May</td>\n      <td>May</td>\n      <td>Man</td>\n      <td>Man</td>\n      <td>Man</td>\n      <td>African/Black</td>\n      <td>African/Black</td>\n    </tr>\n    <tr>\n      <th>...</th>\n      <td>...</td>\n      <td>...</td>\n      <td>...</td>\n      <td>...</td>\n      <td>...</td>\n      <td>...</td>\n      <td>...</td>\n      <td>...</td>\n      <td>...</td>\n      <td>...</td>\n      <td>...</td>\n      <td>...</td>\n    </tr>\n    <tr>\n      <th>4503</th>\n      <td>799572</td>\n      <td>1989.0</td>\n      <td>1990.0</td>\n      <td>1989.0</td>\n      <td>August</td>\n      <td>August</td>\n      <td>August</td>\n      <td>Woman</td>\n      <td>Woman</td>\n      <td>Woman</td>\n      <td>African/Black</td>\n      <td>African/Black</td>\n    </tr>\n    <tr>\n      <th>4504</th>\n      <td>799619</td>\n      <td>1978.0</td>\n      <td>1978.0</td>\n      <td>1978.0</td>\n      <td>September</td>\n      <td>October</td>\n      <td>September</td>\n      <td>Man</td>\n      <td>Man</td>\n      <td>Man</td>\n      <td>African/Black</td>\n      <td>African/Black</td>\n    </tr>\n    <tr>\n      <th>4505</th>\n      <td>799644</td>\n      <td>1976.0</td>\n      <td>1976.0</td>\n      <td>1976.0</td>\n      <td>January</td>\n      <td>January</td>\n      <td>January</td>\n      <td>Woman</td>\n      <td>Woman</td>\n      <td>Woman</td>\n      <td>African/Black</td>\n      <td>African/Black</td>\n    </tr>\n    <tr>\n      <th>4506</th>\n      <td>799780</td>\n      <td>1996.0</td>\n      <td>1996.0</td>\n      <td>1996.0</td>\n      <td>July</td>\n      <td>July</td>\n      <td>July</td>\n      <td>Woman</td>\n      <td>Woman</td>\n      <td>Woman</td>\n      <td>Coloured</td>\n      <td>Coloured</td>\n    </tr>\n    <tr>\n      <th>4507</th>\n      <td>799922</td>\n      <td>1971.0</td>\n      <td>1971.0</td>\n      <td>1971.0</td>\n      <td>January</td>\n      <td>January</td>\n      <td>January</td>\n      <td>Man</td>\n      <td>Man</td>\n      <td>Man</td>\n      <td>Coloured</td>\n      <td>Coloured</td>\n    </tr>\n  </tbody>\n</table>\n<p>4508 rows × 12 columns</p>\n</div>"
     },
     "metadata": {},
     "execution_count": 36
    }
   ],
   "source": [
    "personal_info_cols = [  'pid','w1_nc_dob_y', 'w2_nc_dob_y', 'w3_nc_dob_y',\n",
    "                        'w1_nc_dob_m', 'w2_nc_dob_m', 'w3_nc_dob_m', \n",
    "                        'w1_nc_gen', 'w2_nc_gen', 'w3_nc_gen',\n",
    "                        'w1_nc_popgrp',  'w3_nc_popgrp']\n",
    "\n",
    "df_personal_all3 = df[personal_info_cols].copy()\n",
    "df_personal_all3"
   ]
  },
  {
   "source": [
    "There are several cases where the values are inconsistent across the different waves. I believe this is an input error since many of the entires will match. For example, the year of birth in record #4503 is (1989, 1990, 1989) yet the month of birth and gender is consistent (August, Woman). \n",
    "To clean this up, we should look at the triplet of columns (that we are interested in - birth date, gender, etc) and set all 3 values to whichever one appears most often."
   ],
   "cell_type": "markdown",
   "metadata": {}
  },
  {
   "cell_type": "code",
   "execution_count": 43,
   "metadata": {
    "tags": []
   },
   "outputs": [
    {
     "output_type": "execute_result",
     "data": {
      "text/plain": [
       "     YearOfBirth MonthOfBirth Gender           Race     pid\n",
       "0         1971.0         July  Woman  African/Black  301067\n",
       "1         1970.0     February  Woman  African/Black  301079\n",
       "2         1989.0         June    Man  African/Black  301082\n",
       "3         1972.0         June  Woman  African/Black  301086\n",
       "4         1978.0          May    Man  African/Black  301088\n",
       "...          ...          ...    ...            ...     ...\n",
       "4503      1989.0       August  Woman  African/Black  799572\n",
       "4504      1978.0    September    Man  African/Black  799619\n",
       "4505      1976.0      January  Woman  African/Black  799644\n",
       "4506      1996.0         July  Woman       Coloured  799780\n",
       "4507      1971.0      January    Man       Coloured  799922\n",
       "\n",
       "[4508 rows x 5 columns]"
      ],
      "text/html": "<div>\n<style scoped>\n    .dataframe tbody tr th:only-of-type {\n        vertical-align: middle;\n    }\n\n    .dataframe tbody tr th {\n        vertical-align: top;\n    }\n\n    .dataframe thead th {\n        text-align: right;\n    }\n</style>\n<table border=\"1\" class=\"dataframe\">\n  <thead>\n    <tr style=\"text-align: right;\">\n      <th></th>\n      <th>YearOfBirth</th>\n      <th>MonthOfBirth</th>\n      <th>Gender</th>\n      <th>Race</th>\n      <th>pid</th>\n    </tr>\n  </thead>\n  <tbody>\n    <tr>\n      <th>0</th>\n      <td>1971.0</td>\n      <td>July</td>\n      <td>Woman</td>\n      <td>African/Black</td>\n      <td>301067</td>\n    </tr>\n    <tr>\n      <th>1</th>\n      <td>1970.0</td>\n      <td>February</td>\n      <td>Woman</td>\n      <td>African/Black</td>\n      <td>301079</td>\n    </tr>\n    <tr>\n      <th>2</th>\n      <td>1989.0</td>\n      <td>June</td>\n      <td>Man</td>\n      <td>African/Black</td>\n      <td>301082</td>\n    </tr>\n    <tr>\n      <th>3</th>\n      <td>1972.0</td>\n      <td>June</td>\n      <td>Woman</td>\n      <td>African/Black</td>\n      <td>301086</td>\n    </tr>\n    <tr>\n      <th>4</th>\n      <td>1978.0</td>\n      <td>May</td>\n      <td>Man</td>\n      <td>African/Black</td>\n      <td>301088</td>\n    </tr>\n    <tr>\n      <th>...</th>\n      <td>...</td>\n      <td>...</td>\n      <td>...</td>\n      <td>...</td>\n      <td>...</td>\n    </tr>\n    <tr>\n      <th>4503</th>\n      <td>1989.0</td>\n      <td>August</td>\n      <td>Woman</td>\n      <td>African/Black</td>\n      <td>799572</td>\n    </tr>\n    <tr>\n      <th>4504</th>\n      <td>1978.0</td>\n      <td>September</td>\n      <td>Man</td>\n      <td>African/Black</td>\n      <td>799619</td>\n    </tr>\n    <tr>\n      <th>4505</th>\n      <td>1976.0</td>\n      <td>January</td>\n      <td>Woman</td>\n      <td>African/Black</td>\n      <td>799644</td>\n    </tr>\n    <tr>\n      <th>4506</th>\n      <td>1996.0</td>\n      <td>July</td>\n      <td>Woman</td>\n      <td>Coloured</td>\n      <td>799780</td>\n    </tr>\n    <tr>\n      <th>4507</th>\n      <td>1971.0</td>\n      <td>January</td>\n      <td>Man</td>\n      <td>Coloured</td>\n      <td>799922</td>\n    </tr>\n  </tbody>\n</table>\n<p>4508 rows × 5 columns</p>\n</div>"
     },
     "metadata": {},
     "execution_count": 43
    }
   ],
   "source": [
    "df_personal['pid'] = df_personal_all3['pid'].()\n",
    "for index, row in df_personal_all3.iterrows():\n",
    "    years = row[['w1_nc_dob_y', 'w2_nc_dob_y', 'w3_nc_dob_y']]\n",
    "    months = row[['w1_nc_dob_m', 'w2_nc_dob_m', 'w3_nc_dob_m']]\n",
    "    genders = row[['w1_nc_gen', 'w2_nc_gen', 'w3_nc_gen']]\n",
    "    races = row[['w1_nc_popgrp',  'w3_nc_popgrp']]\n",
    "\n",
    "\n",
    "    YearOfBirth = years.value_counts().idxmax()\n",
    "    MonthOfBirth = months.value_counts().idxmax()\n",
    "    Gender = genders.value_counts().idxmax()   \n",
    "    Race = races.value_counts().idxmax()\n",
    "\n",
    "    df_personal.loc[index, 'YearOfBirth'] = YearOfBirth\n",
    "    df_personal.loc[index, 'MonthOfBirth'] = MonthOfBirth\n",
    "    df_personal.loc[index, 'Gender'] = Gender\n",
    "    df_personal.loc[index, 'Race'] = Race\n",
    "\n",
    "df_personal"
   ]
  },
  {
   "source": [
    "# 3) Clear reduntant columns and add personal info to main df"
   ],
   "cell_type": "markdown",
   "metadata": {}
  },
  {
   "cell_type": "code",
   "execution_count": 45,
   "metadata": {},
   "outputs": [
    {
     "output_type": "execute_result",
     "data": {
      "text/plain": [
       "     YearOfBirth MonthOfBirth Gender           Race     pid  \\\n",
       "0         1971.0         July  Woman  African/Black  301067   \n",
       "1         1970.0     February  Woman  African/Black  301079   \n",
       "2         1989.0         June    Man  African/Black  301082   \n",
       "3         1972.0         June  Woman  African/Black  301086   \n",
       "4         1978.0          May    Man  African/Black  301088   \n",
       "...          ...          ...    ...            ...     ...   \n",
       "4503      1989.0       August  Woman  African/Black  799572   \n",
       "4504      1978.0    September    Man  African/Black  799619   \n",
       "4505      1976.0      January  Woman  African/Black  799644   \n",
       "4506      1996.0         July  Woman       Coloured  799780   \n",
       "4507      1971.0      January    Man       Coloured  799922   \n",
       "\n",
       "                 w1_nc_outcome w1_nc_intrv_c w1_nc_intrv_d w1_nc_intrv_m  \\\n",
       "0     Successfully Interviewed           609          15th           May   \n",
       "1     Successfully Interviewed           609          22nd           May   \n",
       "2     Successfully Interviewed           624           4th          June   \n",
       "3     Successfully Interviewed           644           4th          June   \n",
       "4     Successfully Interviewed           630          27th           May   \n",
       "...                        ...           ...           ...           ...   \n",
       "4503  Successfully Interviewed           609          15th           May   \n",
       "4504  Successfully Interviewed           616          21st           May   \n",
       "4505  Successfully Interviewed           633          16th          June   \n",
       "4506  Successfully Interviewed           614          10th          June   \n",
       "4507  Successfully Interviewed           618          21st           May   \n",
       "\n",
       "     w1_nc_intrv_y  ... w3_nc_smkprice_ld      w3_nc_smkbrand_ld  \\\n",
       "0             2020  ...               NaN                    NaN   \n",
       "1             2020  ...               NaN                    NaN   \n",
       "2             2020  ...               NaN                    NaN   \n",
       "3             2020  ...               NaN                    NaN   \n",
       "4             2020  ...               NaN                    NaN   \n",
       "...            ...  ...               ...                    ...   \n",
       "4503          2020  ...               NaN                    NaN   \n",
       "4504          2020  ...               5.0  Rudland & George (RG)   \n",
       "4505          2020  ...               NaN                    NaN   \n",
       "4506          2020  ...              80.0               Rothmans   \n",
       "4507          2020  ...               NaN                    NaN   \n",
       "\n",
       "     w3_nc_smkbrand_ld_o w3_nc_smkcigday w3_nc_smkbrand_after  \\\n",
       "0                                    NaN                  NaN   \n",
       "1                                    NaN                  NaN   \n",
       "2                                    NaN                  NaN   \n",
       "3                                    NaN                  NaN   \n",
       "4                                    NaN                  NaN   \n",
       "...                  ...             ...                  ...   \n",
       "4503                                 NaN                  NaN   \n",
       "4504                                10.0            Pall Mall   \n",
       "4505                                 NaN                  NaN   \n",
       "4506                                 8.0             Rothmans   \n",
       "4507                                 NaN                  NaN   \n",
       "\n",
       "     w3_nc_smkbrand_after_o                  w3_nc_intres w3_nc_intlng1  \\\n",
       "0                                                Friendly        Sepedi   \n",
       "1                                                Friendly        Sepedi   \n",
       "2                                                Friendly      IsiXhosa   \n",
       "3                                                Friendly       IsiZulu   \n",
       "4                                                 Hostile      IsiXhosa   \n",
       "...                     ...                           ...           ...   \n",
       "4503                                             Friendly        Sepedi   \n",
       "4504                                             Friendly        Sepedi   \n",
       "4505                                             Friendly       IsiZulu   \n",
       "4506                         Neither hostile nor friendly     Afrikaans   \n",
       "4507                                             Friendly     Afrikaans   \n",
       "\n",
       "     w3_nc_intlng2 w3_nc_intlng3  \n",
       "0              NaN           NaN  \n",
       "1          Sesotho           NaN  \n",
       "2              NaN           NaN  \n",
       "3              NaN           NaN  \n",
       "4          English           NaN  \n",
       "...            ...           ...  \n",
       "4503           NaN           NaN  \n",
       "4504       Sesotho           NaN  \n",
       "4505           NaN           NaN  \n",
       "4506           NaN           NaN  \n",
       "4507           NaN           NaN  \n",
       "\n",
       "[4508 rows x 515 columns]"
      ],
      "text/html": "<div>\n<style scoped>\n    .dataframe tbody tr th:only-of-type {\n        vertical-align: middle;\n    }\n\n    .dataframe tbody tr th {\n        vertical-align: top;\n    }\n\n    .dataframe thead th {\n        text-align: right;\n    }\n</style>\n<table border=\"1\" class=\"dataframe\">\n  <thead>\n    <tr style=\"text-align: right;\">\n      <th></th>\n      <th>YearOfBirth</th>\n      <th>MonthOfBirth</th>\n      <th>Gender</th>\n      <th>Race</th>\n      <th>pid</th>\n      <th>w1_nc_outcome</th>\n      <th>w1_nc_intrv_c</th>\n      <th>w1_nc_intrv_d</th>\n      <th>w1_nc_intrv_m</th>\n      <th>w1_nc_intrv_y</th>\n      <th>...</th>\n      <th>w3_nc_smkprice_ld</th>\n      <th>w3_nc_smkbrand_ld</th>\n      <th>w3_nc_smkbrand_ld_o</th>\n      <th>w3_nc_smkcigday</th>\n      <th>w3_nc_smkbrand_after</th>\n      <th>w3_nc_smkbrand_after_o</th>\n      <th>w3_nc_intres</th>\n      <th>w3_nc_intlng1</th>\n      <th>w3_nc_intlng2</th>\n      <th>w3_nc_intlng3</th>\n    </tr>\n  </thead>\n  <tbody>\n    <tr>\n      <th>0</th>\n      <td>1971.0</td>\n      <td>July</td>\n      <td>Woman</td>\n      <td>African/Black</td>\n      <td>301067</td>\n      <td>Successfully Interviewed</td>\n      <td>609</td>\n      <td>15th</td>\n      <td>May</td>\n      <td>2020</td>\n      <td>...</td>\n      <td>NaN</td>\n      <td>NaN</td>\n      <td></td>\n      <td>NaN</td>\n      <td>NaN</td>\n      <td></td>\n      <td>Friendly</td>\n      <td>Sepedi</td>\n      <td>NaN</td>\n      <td>NaN</td>\n    </tr>\n    <tr>\n      <th>1</th>\n      <td>1970.0</td>\n      <td>February</td>\n      <td>Woman</td>\n      <td>African/Black</td>\n      <td>301079</td>\n      <td>Successfully Interviewed</td>\n      <td>609</td>\n      <td>22nd</td>\n      <td>May</td>\n      <td>2020</td>\n      <td>...</td>\n      <td>NaN</td>\n      <td>NaN</td>\n      <td></td>\n      <td>NaN</td>\n      <td>NaN</td>\n      <td></td>\n      <td>Friendly</td>\n      <td>Sepedi</td>\n      <td>Sesotho</td>\n      <td>NaN</td>\n    </tr>\n    <tr>\n      <th>2</th>\n      <td>1989.0</td>\n      <td>June</td>\n      <td>Man</td>\n      <td>African/Black</td>\n      <td>301082</td>\n      <td>Successfully Interviewed</td>\n      <td>624</td>\n      <td>4th</td>\n      <td>June</td>\n      <td>2020</td>\n      <td>...</td>\n      <td>NaN</td>\n      <td>NaN</td>\n      <td></td>\n      <td>NaN</td>\n      <td>NaN</td>\n      <td></td>\n      <td>Friendly</td>\n      <td>IsiXhosa</td>\n      <td>NaN</td>\n      <td>NaN</td>\n    </tr>\n    <tr>\n      <th>3</th>\n      <td>1972.0</td>\n      <td>June</td>\n      <td>Woman</td>\n      <td>African/Black</td>\n      <td>301086</td>\n      <td>Successfully Interviewed</td>\n      <td>644</td>\n      <td>4th</td>\n      <td>June</td>\n      <td>2020</td>\n      <td>...</td>\n      <td>NaN</td>\n      <td>NaN</td>\n      <td></td>\n      <td>NaN</td>\n      <td>NaN</td>\n      <td></td>\n      <td>Friendly</td>\n      <td>IsiZulu</td>\n      <td>NaN</td>\n      <td>NaN</td>\n    </tr>\n    <tr>\n      <th>4</th>\n      <td>1978.0</td>\n      <td>May</td>\n      <td>Man</td>\n      <td>African/Black</td>\n      <td>301088</td>\n      <td>Successfully Interviewed</td>\n      <td>630</td>\n      <td>27th</td>\n      <td>May</td>\n      <td>2020</td>\n      <td>...</td>\n      <td>NaN</td>\n      <td>NaN</td>\n      <td></td>\n      <td>NaN</td>\n      <td>NaN</td>\n      <td></td>\n      <td>Hostile</td>\n      <td>IsiXhosa</td>\n      <td>English</td>\n      <td>NaN</td>\n    </tr>\n    <tr>\n      <th>...</th>\n      <td>...</td>\n      <td>...</td>\n      <td>...</td>\n      <td>...</td>\n      <td>...</td>\n      <td>...</td>\n      <td>...</td>\n      <td>...</td>\n      <td>...</td>\n      <td>...</td>\n      <td>...</td>\n      <td>...</td>\n      <td>...</td>\n      <td>...</td>\n      <td>...</td>\n      <td>...</td>\n      <td>...</td>\n      <td>...</td>\n      <td>...</td>\n      <td>...</td>\n      <td>...</td>\n    </tr>\n    <tr>\n      <th>4503</th>\n      <td>1989.0</td>\n      <td>August</td>\n      <td>Woman</td>\n      <td>African/Black</td>\n      <td>799572</td>\n      <td>Successfully Interviewed</td>\n      <td>609</td>\n      <td>15th</td>\n      <td>May</td>\n      <td>2020</td>\n      <td>...</td>\n      <td>NaN</td>\n      <td>NaN</td>\n      <td></td>\n      <td>NaN</td>\n      <td>NaN</td>\n      <td></td>\n      <td>Friendly</td>\n      <td>Sepedi</td>\n      <td>NaN</td>\n      <td>NaN</td>\n    </tr>\n    <tr>\n      <th>4504</th>\n      <td>1978.0</td>\n      <td>September</td>\n      <td>Man</td>\n      <td>African/Black</td>\n      <td>799619</td>\n      <td>Successfully Interviewed</td>\n      <td>616</td>\n      <td>21st</td>\n      <td>May</td>\n      <td>2020</td>\n      <td>...</td>\n      <td>5.0</td>\n      <td>Rudland &amp; George (RG)</td>\n      <td></td>\n      <td>10.0</td>\n      <td>Pall Mall</td>\n      <td></td>\n      <td>Friendly</td>\n      <td>Sepedi</td>\n      <td>Sesotho</td>\n      <td>NaN</td>\n    </tr>\n    <tr>\n      <th>4505</th>\n      <td>1976.0</td>\n      <td>January</td>\n      <td>Woman</td>\n      <td>African/Black</td>\n      <td>799644</td>\n      <td>Successfully Interviewed</td>\n      <td>633</td>\n      <td>16th</td>\n      <td>June</td>\n      <td>2020</td>\n      <td>...</td>\n      <td>NaN</td>\n      <td>NaN</td>\n      <td></td>\n      <td>NaN</td>\n      <td>NaN</td>\n      <td></td>\n      <td>Friendly</td>\n      <td>IsiZulu</td>\n      <td>NaN</td>\n      <td>NaN</td>\n    </tr>\n    <tr>\n      <th>4506</th>\n      <td>1996.0</td>\n      <td>July</td>\n      <td>Woman</td>\n      <td>Coloured</td>\n      <td>799780</td>\n      <td>Successfully Interviewed</td>\n      <td>614</td>\n      <td>10th</td>\n      <td>June</td>\n      <td>2020</td>\n      <td>...</td>\n      <td>80.0</td>\n      <td>Rothmans</td>\n      <td></td>\n      <td>8.0</td>\n      <td>Rothmans</td>\n      <td></td>\n      <td>Neither hostile nor friendly</td>\n      <td>Afrikaans</td>\n      <td>NaN</td>\n      <td>NaN</td>\n    </tr>\n    <tr>\n      <th>4507</th>\n      <td>1971.0</td>\n      <td>January</td>\n      <td>Man</td>\n      <td>Coloured</td>\n      <td>799922</td>\n      <td>Successfully Interviewed</td>\n      <td>618</td>\n      <td>21st</td>\n      <td>May</td>\n      <td>2020</td>\n      <td>...</td>\n      <td>NaN</td>\n      <td>NaN</td>\n      <td></td>\n      <td>NaN</td>\n      <td>NaN</td>\n      <td></td>\n      <td>Friendly</td>\n      <td>Afrikaans</td>\n      <td>NaN</td>\n      <td>NaN</td>\n    </tr>\n  </tbody>\n</table>\n<p>4508 rows × 515 columns</p>\n</div>"
     },
     "metadata": {},
     "execution_count": 45
    }
   ],
   "source": [
    "df_dropped = df.drop(personal_info_cols, axis=1)\n",
    "df_main = pd.concat([df_personal, df_dropped], axis=1)\n",
    "df_main"
   ]
  },
  {
   "source": [
    "# 4) Delete all useless columns"
   ],
   "cell_type": "markdown",
   "metadata": {}
  },
  {
   "cell_type": "code",
   "execution_count": 46,
   "metadata": {},
   "outputs": [
    {
     "output_type": "execute_result",
     "data": {
      "text/plain": [
       "     YearOfBirth MonthOfBirth Gender           Race     pid  \\\n",
       "0         1971.0         July  Woman  African/Black  301067   \n",
       "1         1970.0     February  Woman  African/Black  301079   \n",
       "2         1989.0         June    Man  African/Black  301082   \n",
       "3         1972.0         June  Woman  African/Black  301086   \n",
       "4         1978.0          May    Man  African/Black  301088   \n",
       "...          ...          ...    ...            ...     ...   \n",
       "4503      1989.0       August  Woman  African/Black  799572   \n",
       "4504      1978.0    September    Man  African/Black  799619   \n",
       "4505      1976.0      January  Woman  African/Black  799644   \n",
       "4506      1996.0         July  Woman       Coloured  799780   \n",
       "4507      1971.0      January    Man       Coloured  799922   \n",
       "\n",
       "                 w1_nc_outcome  \\\n",
       "0     Successfully Interviewed   \n",
       "1     Successfully Interviewed   \n",
       "2     Successfully Interviewed   \n",
       "3     Successfully Interviewed   \n",
       "4     Successfully Interviewed   \n",
       "...                        ...   \n",
       "4503  Successfully Interviewed   \n",
       "4504  Successfully Interviewed   \n",
       "4505  Successfully Interviewed   \n",
       "4506  Successfully Interviewed   \n",
       "4507  Successfully Interviewed   \n",
       "\n",
       "                                         w1_nc_edschgrd w1_nc_edter  \\\n",
       "0                              Grade 9 (Std. 7/ Form 2)          No   \n",
       "1                                      Grade 6 (Std. 4)         NaN   \n",
       "2                             Grade 10 (Std. 8/ Form 3)          No   \n",
       "3     Grade 12 (Std10 / Matric / Senior Certificate ...         Yes   \n",
       "4                             Grade 10 (Std. 8/ Form 3)         Yes   \n",
       "...                                                 ...         ...   \n",
       "4503  Grade 12 (Std10 / Matric / Senior Certificate ...          No   \n",
       "4504                          Grade 10 (Std. 8/ Form 3)          No   \n",
       "4505  Grade 12 (Std10 / Matric / Senior Certificate ...          No   \n",
       "4506                          Grade 10 (Std. 8/ Form 3)          No   \n",
       "4507                          Grade 11 (Std. 9/ Form 4)         Yes   \n",
       "\n",
       "         w1_nc_prov w1_nc_moveprov  ... w3_nc_smkprice_ld  \\\n",
       "0           Gauteng             No  ...               NaN   \n",
       "1           Gauteng             No  ...               NaN   \n",
       "2           Gauteng             No  ...               NaN   \n",
       "3     KwaZulu-Natal             No  ...               NaN   \n",
       "4      Eastern Cape             No  ...               NaN   \n",
       "...             ...            ...  ...               ...   \n",
       "4503        Limpopo             No  ...               NaN   \n",
       "4504     Free State            Yes  ...               5.0   \n",
       "4505  KwaZulu-Natal             No  ...               NaN   \n",
       "4506   Western Cape             No  ...              80.0   \n",
       "4507   Western Cape             No  ...               NaN   \n",
       "\n",
       "          w3_nc_smkbrand_ld w3_nc_smkbrand_ld_o w3_nc_smkcigday  \\\n",
       "0                       NaN                                 NaN   \n",
       "1                       NaN                                 NaN   \n",
       "2                       NaN                                 NaN   \n",
       "3                       NaN                                 NaN   \n",
       "4                       NaN                                 NaN   \n",
       "...                     ...                 ...             ...   \n",
       "4503                    NaN                                 NaN   \n",
       "4504  Rudland & George (RG)                                10.0   \n",
       "4505                    NaN                                 NaN   \n",
       "4506               Rothmans                                 8.0   \n",
       "4507                    NaN                                 NaN   \n",
       "\n",
       "     w3_nc_smkbrand_after w3_nc_smkbrand_after_o  \\\n",
       "0                     NaN                          \n",
       "1                     NaN                          \n",
       "2                     NaN                          \n",
       "3                     NaN                          \n",
       "4                     NaN                          \n",
       "...                   ...                    ...   \n",
       "4503                  NaN                          \n",
       "4504            Pall Mall                          \n",
       "4505                  NaN                          \n",
       "4506             Rothmans                          \n",
       "4507                  NaN                          \n",
       "\n",
       "                      w3_nc_intres w3_nc_intlng1 w3_nc_intlng2 w3_nc_intlng3  \n",
       "0                         Friendly        Sepedi           NaN           NaN  \n",
       "1                         Friendly        Sepedi       Sesotho           NaN  \n",
       "2                         Friendly      IsiXhosa           NaN           NaN  \n",
       "3                         Friendly       IsiZulu           NaN           NaN  \n",
       "4                          Hostile      IsiXhosa       English           NaN  \n",
       "...                            ...           ...           ...           ...  \n",
       "4503                      Friendly        Sepedi           NaN           NaN  \n",
       "4504                      Friendly        Sepedi       Sesotho           NaN  \n",
       "4505                      Friendly       IsiZulu           NaN           NaN  \n",
       "4506  Neither hostile nor friendly     Afrikaans           NaN           NaN  \n",
       "4507                      Friendly     Afrikaans           NaN           NaN  \n",
       "\n",
       "[4508 rows x 499 columns]"
      ],
      "text/html": "<div>\n<style scoped>\n    .dataframe tbody tr th:only-of-type {\n        vertical-align: middle;\n    }\n\n    .dataframe tbody tr th {\n        vertical-align: top;\n    }\n\n    .dataframe thead th {\n        text-align: right;\n    }\n</style>\n<table border=\"1\" class=\"dataframe\">\n  <thead>\n    <tr style=\"text-align: right;\">\n      <th></th>\n      <th>YearOfBirth</th>\n      <th>MonthOfBirth</th>\n      <th>Gender</th>\n      <th>Race</th>\n      <th>pid</th>\n      <th>w1_nc_outcome</th>\n      <th>w1_nc_edschgrd</th>\n      <th>w1_nc_edter</th>\n      <th>w1_nc_prov</th>\n      <th>w1_nc_moveprov</th>\n      <th>...</th>\n      <th>w3_nc_smkprice_ld</th>\n      <th>w3_nc_smkbrand_ld</th>\n      <th>w3_nc_smkbrand_ld_o</th>\n      <th>w3_nc_smkcigday</th>\n      <th>w3_nc_smkbrand_after</th>\n      <th>w3_nc_smkbrand_after_o</th>\n      <th>w3_nc_intres</th>\n      <th>w3_nc_intlng1</th>\n      <th>w3_nc_intlng2</th>\n      <th>w3_nc_intlng3</th>\n    </tr>\n  </thead>\n  <tbody>\n    <tr>\n      <th>0</th>\n      <td>1971.0</td>\n      <td>July</td>\n      <td>Woman</td>\n      <td>African/Black</td>\n      <td>301067</td>\n      <td>Successfully Interviewed</td>\n      <td>Grade 9 (Std. 7/ Form 2)</td>\n      <td>No</td>\n      <td>Gauteng</td>\n      <td>No</td>\n      <td>...</td>\n      <td>NaN</td>\n      <td>NaN</td>\n      <td></td>\n      <td>NaN</td>\n      <td>NaN</td>\n      <td></td>\n      <td>Friendly</td>\n      <td>Sepedi</td>\n      <td>NaN</td>\n      <td>NaN</td>\n    </tr>\n    <tr>\n      <th>1</th>\n      <td>1970.0</td>\n      <td>February</td>\n      <td>Woman</td>\n      <td>African/Black</td>\n      <td>301079</td>\n      <td>Successfully Interviewed</td>\n      <td>Grade 6 (Std. 4)</td>\n      <td>NaN</td>\n      <td>Gauteng</td>\n      <td>No</td>\n      <td>...</td>\n      <td>NaN</td>\n      <td>NaN</td>\n      <td></td>\n      <td>NaN</td>\n      <td>NaN</td>\n      <td></td>\n      <td>Friendly</td>\n      <td>Sepedi</td>\n      <td>Sesotho</td>\n      <td>NaN</td>\n    </tr>\n    <tr>\n      <th>2</th>\n      <td>1989.0</td>\n      <td>June</td>\n      <td>Man</td>\n      <td>African/Black</td>\n      <td>301082</td>\n      <td>Successfully Interviewed</td>\n      <td>Grade 10 (Std. 8/ Form 3)</td>\n      <td>No</td>\n      <td>Gauteng</td>\n      <td>No</td>\n      <td>...</td>\n      <td>NaN</td>\n      <td>NaN</td>\n      <td></td>\n      <td>NaN</td>\n      <td>NaN</td>\n      <td></td>\n      <td>Friendly</td>\n      <td>IsiXhosa</td>\n      <td>NaN</td>\n      <td>NaN</td>\n    </tr>\n    <tr>\n      <th>3</th>\n      <td>1972.0</td>\n      <td>June</td>\n      <td>Woman</td>\n      <td>African/Black</td>\n      <td>301086</td>\n      <td>Successfully Interviewed</td>\n      <td>Grade 12 (Std10 / Matric / Senior Certificate ...</td>\n      <td>Yes</td>\n      <td>KwaZulu-Natal</td>\n      <td>No</td>\n      <td>...</td>\n      <td>NaN</td>\n      <td>NaN</td>\n      <td></td>\n      <td>NaN</td>\n      <td>NaN</td>\n      <td></td>\n      <td>Friendly</td>\n      <td>IsiZulu</td>\n      <td>NaN</td>\n      <td>NaN</td>\n    </tr>\n    <tr>\n      <th>4</th>\n      <td>1978.0</td>\n      <td>May</td>\n      <td>Man</td>\n      <td>African/Black</td>\n      <td>301088</td>\n      <td>Successfully Interviewed</td>\n      <td>Grade 10 (Std. 8/ Form 3)</td>\n      <td>Yes</td>\n      <td>Eastern Cape</td>\n      <td>No</td>\n      <td>...</td>\n      <td>NaN</td>\n      <td>NaN</td>\n      <td></td>\n      <td>NaN</td>\n      <td>NaN</td>\n      <td></td>\n      <td>Hostile</td>\n      <td>IsiXhosa</td>\n      <td>English</td>\n      <td>NaN</td>\n    </tr>\n    <tr>\n      <th>...</th>\n      <td>...</td>\n      <td>...</td>\n      <td>...</td>\n      <td>...</td>\n      <td>...</td>\n      <td>...</td>\n      <td>...</td>\n      <td>...</td>\n      <td>...</td>\n      <td>...</td>\n      <td>...</td>\n      <td>...</td>\n      <td>...</td>\n      <td>...</td>\n      <td>...</td>\n      <td>...</td>\n      <td>...</td>\n      <td>...</td>\n      <td>...</td>\n      <td>...</td>\n      <td>...</td>\n    </tr>\n    <tr>\n      <th>4503</th>\n      <td>1989.0</td>\n      <td>August</td>\n      <td>Woman</td>\n      <td>African/Black</td>\n      <td>799572</td>\n      <td>Successfully Interviewed</td>\n      <td>Grade 12 (Std10 / Matric / Senior Certificate ...</td>\n      <td>No</td>\n      <td>Limpopo</td>\n      <td>No</td>\n      <td>...</td>\n      <td>NaN</td>\n      <td>NaN</td>\n      <td></td>\n      <td>NaN</td>\n      <td>NaN</td>\n      <td></td>\n      <td>Friendly</td>\n      <td>Sepedi</td>\n      <td>NaN</td>\n      <td>NaN</td>\n    </tr>\n    <tr>\n      <th>4504</th>\n      <td>1978.0</td>\n      <td>September</td>\n      <td>Man</td>\n      <td>African/Black</td>\n      <td>799619</td>\n      <td>Successfully Interviewed</td>\n      <td>Grade 10 (Std. 8/ Form 3)</td>\n      <td>No</td>\n      <td>Free State</td>\n      <td>Yes</td>\n      <td>...</td>\n      <td>5.0</td>\n      <td>Rudland &amp; George (RG)</td>\n      <td></td>\n      <td>10.0</td>\n      <td>Pall Mall</td>\n      <td></td>\n      <td>Friendly</td>\n      <td>Sepedi</td>\n      <td>Sesotho</td>\n      <td>NaN</td>\n    </tr>\n    <tr>\n      <th>4505</th>\n      <td>1976.0</td>\n      <td>January</td>\n      <td>Woman</td>\n      <td>African/Black</td>\n      <td>799644</td>\n      <td>Successfully Interviewed</td>\n      <td>Grade 12 (Std10 / Matric / Senior Certificate ...</td>\n      <td>No</td>\n      <td>KwaZulu-Natal</td>\n      <td>No</td>\n      <td>...</td>\n      <td>NaN</td>\n      <td>NaN</td>\n      <td></td>\n      <td>NaN</td>\n      <td>NaN</td>\n      <td></td>\n      <td>Friendly</td>\n      <td>IsiZulu</td>\n      <td>NaN</td>\n      <td>NaN</td>\n    </tr>\n    <tr>\n      <th>4506</th>\n      <td>1996.0</td>\n      <td>July</td>\n      <td>Woman</td>\n      <td>Coloured</td>\n      <td>799780</td>\n      <td>Successfully Interviewed</td>\n      <td>Grade 10 (Std. 8/ Form 3)</td>\n      <td>No</td>\n      <td>Western Cape</td>\n      <td>No</td>\n      <td>...</td>\n      <td>80.0</td>\n      <td>Rothmans</td>\n      <td></td>\n      <td>8.0</td>\n      <td>Rothmans</td>\n      <td></td>\n      <td>Neither hostile nor friendly</td>\n      <td>Afrikaans</td>\n      <td>NaN</td>\n      <td>NaN</td>\n    </tr>\n    <tr>\n      <th>4507</th>\n      <td>1971.0</td>\n      <td>January</td>\n      <td>Man</td>\n      <td>Coloured</td>\n      <td>799922</td>\n      <td>Successfully Interviewed</td>\n      <td>Grade 11 (Std. 9/ Form 4)</td>\n      <td>Yes</td>\n      <td>Western Cape</td>\n      <td>No</td>\n      <td>...</td>\n      <td>NaN</td>\n      <td>NaN</td>\n      <td></td>\n      <td>NaN</td>\n      <td>NaN</td>\n      <td></td>\n      <td>Friendly</td>\n      <td>Afrikaans</td>\n      <td>NaN</td>\n      <td>NaN</td>\n    </tr>\n  </tbody>\n</table>\n<p>4508 rows × 499 columns</p>\n</div>"
     },
     "metadata": {},
     "execution_count": 46
    }
   ],
   "source": [
    "useless_cols = [    'w1_nc_intrv_c','w2_nc_intrv_c','w3_nc_intrv_c',\n",
    "                    'w1_nc_intrv_d','w2_nc_intrv_d','w3_nc_intrv_d',\n",
    "                    'w1_nc_intrv_m','w2_nc_intrv_m','w3_nc_intrv_m',\n",
    "                    'w1_nc_intrv_y','w2_nc_intrv_y','w3_nc_intrv_y',\n",
    "                    'w1_nc_duration', 'w2_nc_duration','w3_nc_duration',\n",
    "                    'w1_nc_popgrp_o']\n",
    "df_new = df_main.drop(useless_cols, axis=1)\n",
    "df_new\n"
   ]
  },
  {
   "cell_type": "code",
   "execution_count": null,
   "metadata": {},
   "outputs": [],
   "source": []
  }
 ],
 "metadata": {
  "kernelspec": {
   "display_name": "Python 3",
   "language": "python",
   "name": "python3"
  },
  "language_info": {
   "codemirror_mode": {
    "name": "ipython",
    "version": 3
   },
   "file_extension": ".py",
   "mimetype": "text/x-python",
   "name": "python",
   "nbconvert_exporter": "python",
   "pygments_lexer": "ipython3",
   "version": "3.8.6-final"
  }
 },
 "nbformat": 4,
 "nbformat_minor": 5
}