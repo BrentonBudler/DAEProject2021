{
 "cells": [
  {
   "cell_type": "markdown",
   "metadata": {
    "toc": true
   },
   "source": [
    "<h1>Table of Contents<span class=\"tocSkip\"></span></h1>\n",
    "<div class=\"toc\"><ul class=\"toc-item\"><li><span><a href=\"#1.-Preprocessing\" data-toc-modified-id=\"1.-Preprocessing-1\"><span class=\"toc-item-num\">1&nbsp;&nbsp;</span>1. Preprocessing</a></span></li><li><span><a href=\"#2.-Model-Fitting\" data-toc-modified-id=\"2.-Model-Fitting-2\"><span class=\"toc-item-num\">2&nbsp;&nbsp;</span>2. Model Fitting</a></span><ul class=\"toc-item\"><li><span><a href=\"#2.1-Data-Splitting\" data-toc-modified-id=\"2.1-Data-Splitting-2.1\"><span class=\"toc-item-num\">2.1&nbsp;&nbsp;</span>2.1 Data Splitting</a></span></li><li><span><a href=\"#2.2-Model-Selection\" data-toc-modified-id=\"2.2-Model-Selection-2.2\"><span class=\"toc-item-num\">2.2&nbsp;&nbsp;</span>2.2 Model Selection</a></span></li><li><span><a href=\"#2.3-Residual-Analysis\" data-toc-modified-id=\"2.3-Residual-Analysis-2.3\"><span class=\"toc-item-num\">2.3&nbsp;&nbsp;</span>2.3 Residual Analysis</a></span></li></ul></li><li><span><a href=\"#3-Hypothesis-Testing\" data-toc-modified-id=\"3-Hypothesis-Testing-3\"><span class=\"toc-item-num\">3&nbsp;&nbsp;</span>3 Hypothesis Testing</a></span></li></ul></div>"
   ]
  },
  {
   "cell_type": "code",
   "execution_count": 2,
   "metadata": {},
   "outputs": [],
   "source": [
    "import numpy as np \n",
    "import pandas as pd \n",
    "import matplotlib.pyplot as plt \n",
    "import seaborn as sns \n",
    "import matplotlib.cm as cm\n",
    "from matplotlib.colors import Normalize\n",
    "from sklearn.linear_model import LogisticRegression\n",
    "from sklearn.preprocessing import StandardScaler\n",
    "from sklearn.model_selection import train_test_split\n",
    "from sklearn.metrics import classification_report\n",
    "import sklearn.metrics as metrics\n",
    "\n",
    "import statsmodels.api as sm\n",
    "from scipy import stats"
   ]
  },
  {
   "cell_type": "markdown",
   "metadata": {},
   "source": [
    "Read in the demographics and social welfare dataframes from Part 1. In addition, the two dataframes are concatenated to create the **model_df dataframe**."
   ]
  },
  {
   "cell_type": "code",
   "execution_count": 3,
   "metadata": {},
   "outputs": [
    {
     "data": {
      "text/html": [
       "<div>\n",
       "<style scoped>\n",
       "    .dataframe tbody tr th:only-of-type {\n",
       "        vertical-align: middle;\n",
       "    }\n",
       "\n",
       "    .dataframe tbody tr th {\n",
       "        vertical-align: top;\n",
       "    }\n",
       "\n",
       "    .dataframe thead th {\n",
       "        text-align: right;\n",
       "    }\n",
       "</style>\n",
       "<table border=\"1\" class=\"dataframe\">\n",
       "  <thead>\n",
       "    <tr style=\"text-align: right;\">\n",
       "      <th></th>\n",
       "      <th>age</th>\n",
       "      <th>gender</th>\n",
       "      <th>race</th>\n",
       "      <th>highest_grade</th>\n",
       "      <th>tertiary_edu</th>\n",
       "      <th>province_current</th>\n",
       "      <th>province_moved</th>\n",
       "      <th>province_before</th>\n",
       "      <th>province_during</th>\n",
       "      <th>job_in_apr</th>\n",
       "      <th>work_in_apr</th>\n",
       "      <th>src_income_before_apr</th>\n",
       "      <th>lost_income_in_apr</th>\n",
       "      <th>total_income_in_apr</th>\n",
       "      <th>uif_in_apr</th>\n",
       "      <th>grant_from_gov_ques</th>\n",
       "      <th>grant_from_gov</th>\n",
       "    </tr>\n",
       "  </thead>\n",
       "  <tbody>\n",
       "    <tr>\n",
       "      <th>0</th>\n",
       "      <td>39.0</td>\n",
       "      <td>Man</td>\n",
       "      <td>White</td>\n",
       "      <td>Grade 9</td>\n",
       "      <td>No</td>\n",
       "      <td>Gauteng</td>\n",
       "      <td>No</td>\n",
       "      <td>NaN</td>\n",
       "      <td>NaN</td>\n",
       "      <td>No</td>\n",
       "      <td>No</td>\n",
       "      <td>Income from a business</td>\n",
       "      <td>No</td>\n",
       "      <td>3532.0</td>\n",
       "      <td>No</td>\n",
       "      <td>Yes</td>\n",
       "      <td>Disability Grant</td>\n",
       "    </tr>\n",
       "    <tr>\n",
       "      <th>1</th>\n",
       "      <td>72.0</td>\n",
       "      <td>Woman</td>\n",
       "      <td>Asian/Indian</td>\n",
       "      <td>Grade 0</td>\n",
       "      <td>NaN</td>\n",
       "      <td>KwaZulu-Natal</td>\n",
       "      <td>No</td>\n",
       "      <td>NaN</td>\n",
       "      <td>NaN</td>\n",
       "      <td>No</td>\n",
       "      <td>No</td>\n",
       "      <td>Government grants</td>\n",
       "      <td>Yes</td>\n",
       "      <td>1500.0</td>\n",
       "      <td>No</td>\n",
       "      <td>Yes</td>\n",
       "      <td>Child Support Grant (CSG)</td>\n",
       "    </tr>\n",
       "    <tr>\n",
       "      <th>2</th>\n",
       "      <td>30.0</td>\n",
       "      <td>Woman</td>\n",
       "      <td>African/Black</td>\n",
       "      <td>Grade 10</td>\n",
       "      <td>Yes</td>\n",
       "      <td>Gauteng</td>\n",
       "      <td>No</td>\n",
       "      <td>NaN</td>\n",
       "      <td>NaN</td>\n",
       "      <td>No</td>\n",
       "      <td>No</td>\n",
       "      <td>Government grants</td>\n",
       "      <td>Yes</td>\n",
       "      <td>4200.0</td>\n",
       "      <td>Yes</td>\n",
       "      <td>Yes</td>\n",
       "      <td>Child Support Grant (CSG)</td>\n",
       "    </tr>\n",
       "    <tr>\n",
       "      <th>3</th>\n",
       "      <td>48.0</td>\n",
       "      <td>Woman</td>\n",
       "      <td>African/Black</td>\n",
       "      <td>Grade 10</td>\n",
       "      <td>No</td>\n",
       "      <td>Gauteng</td>\n",
       "      <td>No</td>\n",
       "      <td>NaN</td>\n",
       "      <td>NaN</td>\n",
       "      <td>No</td>\n",
       "      <td>No</td>\n",
       "      <td>Income from employment</td>\n",
       "      <td>No</td>\n",
       "      <td>3532.0</td>\n",
       "      <td>No</td>\n",
       "      <td>Yes</td>\n",
       "      <td>Child Support Grant (CSG)</td>\n",
       "    </tr>\n",
       "    <tr>\n",
       "      <th>4</th>\n",
       "      <td>49.0</td>\n",
       "      <td>Woman</td>\n",
       "      <td>African/Black</td>\n",
       "      <td>Grade 9</td>\n",
       "      <td>No</td>\n",
       "      <td>Gauteng</td>\n",
       "      <td>No</td>\n",
       "      <td>NaN</td>\n",
       "      <td>NaN</td>\n",
       "      <td>No</td>\n",
       "      <td>No</td>\n",
       "      <td>Government grants</td>\n",
       "      <td>No</td>\n",
       "      <td>4200.0</td>\n",
       "      <td>Yes</td>\n",
       "      <td>Yes</td>\n",
       "      <td>Old Age Pension Grant (OAP)</td>\n",
       "    </tr>\n",
       "  </tbody>\n",
       "</table>\n",
       "</div>"
      ],
      "text/plain": [
       "    age gender           race highest_grade tertiary_edu province_current  \\\n",
       "0  39.0    Man          White       Grade 9           No          Gauteng   \n",
       "1  72.0  Woman   Asian/Indian       Grade 0          NaN    KwaZulu-Natal   \n",
       "2  30.0  Woman  African/Black      Grade 10          Yes          Gauteng   \n",
       "3  48.0  Woman  African/Black      Grade 10           No          Gauteng   \n",
       "4  49.0  Woman  African/Black       Grade 9           No          Gauteng   \n",
       "\n",
       "  province_moved province_before province_during job_in_apr work_in_apr  \\\n",
       "0             No             NaN             NaN         No          No   \n",
       "1             No             NaN             NaN         No          No   \n",
       "2             No             NaN             NaN         No          No   \n",
       "3             No             NaN             NaN         No          No   \n",
       "4             No             NaN             NaN         No          No   \n",
       "\n",
       "    src_income_before_apr lost_income_in_apr  total_income_in_apr uif_in_apr  \\\n",
       "0  Income from a business                 No               3532.0         No   \n",
       "1       Government grants                Yes               1500.0         No   \n",
       "2       Government grants                Yes               4200.0        Yes   \n",
       "3  Income from employment                 No               3532.0         No   \n",
       "4       Government grants                 No               4200.0        Yes   \n",
       "\n",
       "  grant_from_gov_ques               grant_from_gov  \n",
       "0                 Yes             Disability Grant  \n",
       "1                 Yes    Child Support Grant (CSG)  \n",
       "2                 Yes    Child Support Grant (CSG)  \n",
       "3                 Yes    Child Support Grant (CSG)  \n",
       "4                 Yes  Old Age Pension Grant (OAP)  "
      ]
     },
     "execution_count": 3,
     "metadata": {},
     "output_type": "execute_result"
    }
   ],
   "source": [
    "dem_df = pd.read_csv(\"demographics.csv\")\n",
    "swdf = pd.read_csv(\"unemployed_swdf.csv\")\n",
    "model_df = pd.concat([dem_df, swdf], axis=1)\n",
    "model_df.head()"
   ]
  },
  {
   "cell_type": "markdown",
   "metadata": {},
   "source": [
    "## 1. Preprocessing"
   ]
  },
  {
   "cell_type": "markdown",
   "metadata": {},
   "source": [
    "In this section, the data is processed into a more appropriate form for training and testing. String values in the dataframe are converted to their corresponding categorical value and columns are converted to their appropriate data type."
   ]
  },
  {
   "cell_type": "markdown",
   "metadata": {},
   "source": [
    "The **province_current**, **province_moved**, **province_before** and **province_during** columns are dropped as they are not relevant for the model that will be built in this section. Since the dataframe only stores information of unemployed individuals, **job_in_Apr** and **work_in_apr** only store the response \"No\". Therefore, these columns are also dropped because they are redundant. "
   ]
  },
  {
   "cell_type": "code",
   "execution_count": 4,
   "metadata": {},
   "outputs": [
    {
     "data": {
      "text/html": [
       "<div>\n",
       "<style scoped>\n",
       "    .dataframe tbody tr th:only-of-type {\n",
       "        vertical-align: middle;\n",
       "    }\n",
       "\n",
       "    .dataframe tbody tr th {\n",
       "        vertical-align: top;\n",
       "    }\n",
       "\n",
       "    .dataframe thead th {\n",
       "        text-align: right;\n",
       "    }\n",
       "</style>\n",
       "<table border=\"1\" class=\"dataframe\">\n",
       "  <thead>\n",
       "    <tr style=\"text-align: right;\">\n",
       "      <th></th>\n",
       "      <th>age</th>\n",
       "      <th>gender</th>\n",
       "      <th>race</th>\n",
       "      <th>highest_grade</th>\n",
       "      <th>tertiary_edu</th>\n",
       "      <th>src_income_before_apr</th>\n",
       "      <th>lost_income_in_apr</th>\n",
       "      <th>total_income_in_apr</th>\n",
       "      <th>uif_in_apr</th>\n",
       "      <th>grant_from_gov_ques</th>\n",
       "      <th>grant_from_gov</th>\n",
       "    </tr>\n",
       "  </thead>\n",
       "  <tbody>\n",
       "    <tr>\n",
       "      <th>0</th>\n",
       "      <td>39.0</td>\n",
       "      <td>Man</td>\n",
       "      <td>White</td>\n",
       "      <td>Grade 9</td>\n",
       "      <td>No</td>\n",
       "      <td>Income from a business</td>\n",
       "      <td>No</td>\n",
       "      <td>3532.0</td>\n",
       "      <td>No</td>\n",
       "      <td>Yes</td>\n",
       "      <td>Disability Grant</td>\n",
       "    </tr>\n",
       "    <tr>\n",
       "      <th>1</th>\n",
       "      <td>72.0</td>\n",
       "      <td>Woman</td>\n",
       "      <td>Asian/Indian</td>\n",
       "      <td>Grade 0</td>\n",
       "      <td>NaN</td>\n",
       "      <td>Government grants</td>\n",
       "      <td>Yes</td>\n",
       "      <td>1500.0</td>\n",
       "      <td>No</td>\n",
       "      <td>Yes</td>\n",
       "      <td>Child Support Grant (CSG)</td>\n",
       "    </tr>\n",
       "    <tr>\n",
       "      <th>2</th>\n",
       "      <td>30.0</td>\n",
       "      <td>Woman</td>\n",
       "      <td>African/Black</td>\n",
       "      <td>Grade 10</td>\n",
       "      <td>Yes</td>\n",
       "      <td>Government grants</td>\n",
       "      <td>Yes</td>\n",
       "      <td>4200.0</td>\n",
       "      <td>Yes</td>\n",
       "      <td>Yes</td>\n",
       "      <td>Child Support Grant (CSG)</td>\n",
       "    </tr>\n",
       "    <tr>\n",
       "      <th>3</th>\n",
       "      <td>48.0</td>\n",
       "      <td>Woman</td>\n",
       "      <td>African/Black</td>\n",
       "      <td>Grade 10</td>\n",
       "      <td>No</td>\n",
       "      <td>Income from employment</td>\n",
       "      <td>No</td>\n",
       "      <td>3532.0</td>\n",
       "      <td>No</td>\n",
       "      <td>Yes</td>\n",
       "      <td>Child Support Grant (CSG)</td>\n",
       "    </tr>\n",
       "    <tr>\n",
       "      <th>4</th>\n",
       "      <td>49.0</td>\n",
       "      <td>Woman</td>\n",
       "      <td>African/Black</td>\n",
       "      <td>Grade 9</td>\n",
       "      <td>No</td>\n",
       "      <td>Government grants</td>\n",
       "      <td>No</td>\n",
       "      <td>4200.0</td>\n",
       "      <td>Yes</td>\n",
       "      <td>Yes</td>\n",
       "      <td>Old Age Pension Grant (OAP)</td>\n",
       "    </tr>\n",
       "  </tbody>\n",
       "</table>\n",
       "</div>"
      ],
      "text/plain": [
       "    age gender           race highest_grade tertiary_edu  \\\n",
       "0  39.0    Man          White       Grade 9           No   \n",
       "1  72.0  Woman   Asian/Indian       Grade 0          NaN   \n",
       "2  30.0  Woman  African/Black      Grade 10          Yes   \n",
       "3  48.0  Woman  African/Black      Grade 10           No   \n",
       "4  49.0  Woman  African/Black       Grade 9           No   \n",
       "\n",
       "    src_income_before_apr lost_income_in_apr  total_income_in_apr uif_in_apr  \\\n",
       "0  Income from a business                 No               3532.0         No   \n",
       "1       Government grants                Yes               1500.0         No   \n",
       "2       Government grants                Yes               4200.0        Yes   \n",
       "3  Income from employment                 No               3532.0         No   \n",
       "4       Government grants                 No               4200.0        Yes   \n",
       "\n",
       "  grant_from_gov_ques               grant_from_gov  \n",
       "0                 Yes             Disability Grant  \n",
       "1                 Yes    Child Support Grant (CSG)  \n",
       "2                 Yes    Child Support Grant (CSG)  \n",
       "3                 Yes    Child Support Grant (CSG)  \n",
       "4                 Yes  Old Age Pension Grant (OAP)  "
      ]
     },
     "execution_count": 4,
     "metadata": {},
     "output_type": "execute_result"
    }
   ],
   "source": [
    "model_df = model_df.drop([\"province_current\", \"province_moved\", \"province_before\", \"province_during\", \"job_in_apr\", \"work_in_apr\"], axis=1)\n",
    "model_df.head()"
   ]
  },
  {
   "cell_type": "markdown",
   "metadata": {},
   "source": [
    "The following functions will be used to assign numerical values to all of the relevant categorical values in the **model_df** dataframe."
   ]
  },
  {
   "cell_type": "code",
   "execution_count": 5,
   "metadata": {},
   "outputs": [],
   "source": [
    "def check_gender(gender):\n",
    "    if gender == \"Woman\": return 1\n",
    "    else: return 0\n",
    "\n",
    "def check_matric(highest_grade):\n",
    "    if highest_grade == \"Grade 12\": return 1\n",
    "    else: return 0\n",
    "\n",
    "def check_tertedu(tertiary_edu):\n",
    "    if tertiary_edu == \"Yes\" : return 1 \n",
    "    else: return 0 \n",
    "    \n",
    "def check_race(race):\n",
    "    if race == \"African/Black\": return 0\n",
    "    elif race == \"Coloured\": return 1\n",
    "    elif race == \"White\": return 2\n",
    "    else: return 4\n",
    "    \n",
    "def check_grant_type(grant_from_gov):\n",
    "    if grant_from_gov == \"Child Support Grant (CSG)\": return 0\n",
    "    elif grant_from_gov == \"Old Age Pension Grant (OAP)\": return 1\n",
    "    elif grant_from_gov == \"Disability Grant\": return 2\n",
    "    elif grant_from_gov == \"R350 COVID-19 Social Relief of Distress Grant\": return 3\n",
    "    elif grant_from_gov == \"Foster Child Grant\": return 4\n",
    "    elif grant_from_gov == \"Social relief or distress grant\": return 5\n",
    "    elif grant_from_gov == \"Care Dependency Grant\": return 6\n",
    "    else: return 7\n",
    "    \n",
    "\n",
    "def check_income_source(source_income):\n",
    "    if source_income == \"Government grants\": return 0\n",
    "    elif source_income == \"Income from employment\": return 1\n",
    "    elif source_income == \"Household had no income in February\": return 2\n",
    "    elif source_income == \"Income from a business\": return 3\n",
    "    elif source_income == \"Money from friends or family\": return 4\n",
    "    else: return 5"
   ]
  },
  {
   "cell_type": "markdown",
   "metadata": {},
   "source": [
    "Assign numerical values to all of the relevant categorical values in the **model_df** dataframe. In addition, the **highest_grade** column is renamed to **matric** and stores a binary value indicating whether or not the participant completed Grade 12."
   ]
  },
  {
   "cell_type": "code",
   "execution_count": 6,
   "metadata": {},
   "outputs": [
    {
     "data": {
      "text/html": [
       "<div>\n",
       "<style scoped>\n",
       "    .dataframe tbody tr th:only-of-type {\n",
       "        vertical-align: middle;\n",
       "    }\n",
       "\n",
       "    .dataframe tbody tr th {\n",
       "        vertical-align: top;\n",
       "    }\n",
       "\n",
       "    .dataframe thead th {\n",
       "        text-align: right;\n",
       "    }\n",
       "</style>\n",
       "<table border=\"1\" class=\"dataframe\">\n",
       "  <thead>\n",
       "    <tr style=\"text-align: right;\">\n",
       "      <th></th>\n",
       "      <th>age</th>\n",
       "      <th>gender</th>\n",
       "      <th>race</th>\n",
       "      <th>matric</th>\n",
       "      <th>tertiary_edu</th>\n",
       "      <th>src_income_before_apr</th>\n",
       "      <th>lost_income_in_apr</th>\n",
       "      <th>total_income_in_apr</th>\n",
       "      <th>uif_in_apr</th>\n",
       "      <th>grant_from_gov_ques</th>\n",
       "      <th>grant_from_gov</th>\n",
       "    </tr>\n",
       "  </thead>\n",
       "  <tbody>\n",
       "    <tr>\n",
       "      <th>0</th>\n",
       "      <td>39.0</td>\n",
       "      <td>0</td>\n",
       "      <td>2</td>\n",
       "      <td>0</td>\n",
       "      <td>0.0</td>\n",
       "      <td>3</td>\n",
       "      <td>0.0</td>\n",
       "      <td>3532.0</td>\n",
       "      <td>0.0</td>\n",
       "      <td>1.0</td>\n",
       "      <td>2</td>\n",
       "    </tr>\n",
       "    <tr>\n",
       "      <th>2</th>\n",
       "      <td>30.0</td>\n",
       "      <td>1</td>\n",
       "      <td>0</td>\n",
       "      <td>0</td>\n",
       "      <td>1.0</td>\n",
       "      <td>0</td>\n",
       "      <td>1.0</td>\n",
       "      <td>4200.0</td>\n",
       "      <td>1.0</td>\n",
       "      <td>1.0</td>\n",
       "      <td>0</td>\n",
       "    </tr>\n",
       "    <tr>\n",
       "      <th>3</th>\n",
       "      <td>48.0</td>\n",
       "      <td>1</td>\n",
       "      <td>0</td>\n",
       "      <td>0</td>\n",
       "      <td>0.0</td>\n",
       "      <td>1</td>\n",
       "      <td>0.0</td>\n",
       "      <td>3532.0</td>\n",
       "      <td>0.0</td>\n",
       "      <td>1.0</td>\n",
       "      <td>0</td>\n",
       "    </tr>\n",
       "    <tr>\n",
       "      <th>4</th>\n",
       "      <td>49.0</td>\n",
       "      <td>1</td>\n",
       "      <td>0</td>\n",
       "      <td>0</td>\n",
       "      <td>0.0</td>\n",
       "      <td>0</td>\n",
       "      <td>0.0</td>\n",
       "      <td>4200.0</td>\n",
       "      <td>1.0</td>\n",
       "      <td>1.0</td>\n",
       "      <td>1</td>\n",
       "    </tr>\n",
       "    <tr>\n",
       "      <th>5</th>\n",
       "      <td>34.0</td>\n",
       "      <td>0</td>\n",
       "      <td>0</td>\n",
       "      <td>0</td>\n",
       "      <td>0.0</td>\n",
       "      <td>4</td>\n",
       "      <td>1.0</td>\n",
       "      <td>1800.0</td>\n",
       "      <td>1.0</td>\n",
       "      <td>1.0</td>\n",
       "      <td>2</td>\n",
       "    </tr>\n",
       "  </tbody>\n",
       "</table>\n",
       "</div>"
      ],
      "text/plain": [
       "    age  gender  race  matric  tertiary_edu  src_income_before_apr  \\\n",
       "0  39.0       0     2       0           0.0                      3   \n",
       "2  30.0       1     0       0           1.0                      0   \n",
       "3  48.0       1     0       0           0.0                      1   \n",
       "4  49.0       1     0       0           0.0                      0   \n",
       "5  34.0       0     0       0           0.0                      4   \n",
       "\n",
       "   lost_income_in_apr  total_income_in_apr  uif_in_apr  grant_from_gov_ques  \\\n",
       "0                 0.0               3532.0         0.0                  1.0   \n",
       "2                 1.0               4200.0         1.0                  1.0   \n",
       "3                 0.0               3532.0         0.0                  1.0   \n",
       "4                 0.0               4200.0         1.0                  1.0   \n",
       "5                 1.0               1800.0         1.0                  1.0   \n",
       "\n",
       "   grant_from_gov  \n",
       "0               2  \n",
       "2               0  \n",
       "3               0  \n",
       "4               1  \n",
       "5               2  "
      ]
     },
     "execution_count": 6,
     "metadata": {},
     "output_type": "execute_result"
    }
   ],
   "source": [
    "# Convert all \"Yes\" or \"No\" answers in the entire dataframe.\n",
    "model_df = model_df.replace(\"No\", 0)\n",
    "model_df = model_df.replace(\"Yes\", 1)\n",
    "\n",
    "# Assign numerical values to all of the relevant categorical values in the model_df dataframe.\n",
    "model_df[\"gender\"] = np.vectorize(check_gender)(model_df[\"gender\"])\n",
    "model_df[\"race\"] = np.vectorize(check_race)(model_df[\"race\"])\n",
    "model_df[\"highest_grade\"] = np.vectorize(check_matric)(model_df[\"highest_grade\"])\n",
    "model_df[\"src_income_before_apr\"] = np.vectorize(check_income_source)(model_df[\"src_income_before_apr\"])\n",
    "model_df[\"grant_from_gov\"] = np.vectorize(check_grant_type)(model_df[\"grant_from_gov\"])\n",
    "\n",
    "# Change highest grade to matric\n",
    "model_df.rename(columns = {'highest_grade':'matric'}, inplace = True)\n",
    "\n",
    "# Drop all NaN values in the dataframe\n",
    "model_df = model_df.dropna()\n",
    "\n",
    "model_df.head()"
   ]
  },
  {
   "cell_type": "markdown",
   "metadata": {},
   "source": [
    "Convert all columns to their appropriate data type. "
   ]
  },
  {
   "cell_type": "code",
   "execution_count": 7,
   "metadata": {},
   "outputs": [
    {
     "name": "stdout",
     "output_type": "stream",
     "text": [
      "<class 'pandas.core.frame.DataFrame'>\n",
      "Int64Index: 695 entries, 0 to 934\n",
      "Data columns (total 11 columns):\n",
      " #   Column                 Non-Null Count  Dtype   \n",
      "---  ------                 --------------  -----   \n",
      " 0   age                    695 non-null    float64 \n",
      " 1   gender                 695 non-null    category\n",
      " 2   race                   695 non-null    category\n",
      " 3   matric                 695 non-null    int64   \n",
      " 4   tertiary_edu           695 non-null    category\n",
      " 5   src_income_before_apr  695 non-null    category\n",
      " 6   lost_income_in_apr     695 non-null    category\n",
      " 7   total_income_in_apr    695 non-null    float64 \n",
      " 8   uif_in_apr             695 non-null    category\n",
      " 9   grant_from_gov_ques    695 non-null    category\n",
      " 10  grant_from_gov         695 non-null    category\n",
      "dtypes: category(8), float64(2), int64(1)\n",
      "memory usage: 28.4 KB\n",
      "None\n"
     ]
    },
    {
     "name": "stderr",
     "output_type": "stream",
     "text": [
      "<ipython-input-7-33be8a67745b>:4: UserWarning: Pandas doesn't allow columns to be created via a new attribute name - see https://pandas.pydata.org/pandas-docs/stable/indexing.html#attribute-access\n",
      "  model_df.matric_grade = model_df.matric.astype('category')\n"
     ]
    }
   ],
   "source": [
    "model_df.age = model_df.age.astype('float64')\n",
    "model_df.gender = model_df.gender.astype('category')\n",
    "model_df.race = model_df.race.astype('category')\n",
    "model_df.matric_grade = model_df.matric.astype('category')\n",
    "model_df.tertiary_edu = model_df.tertiary_edu.astype('category')\n",
    "model_df.src_income_before_apr = model_df.src_income_before_apr.astype('category')\n",
    "model_df.lost_income_in_apr = model_df.lost_income_in_apr.astype('category')\n",
    "model_df.total_income_in_apr = model_df.total_income_in_apr.astype('float64')\n",
    "model_df.uif_in_apr = model_df.uif_in_apr.astype('category')\n",
    "model_df.grant_from_gov_ques = model_df.grant_from_gov_ques.astype('category')\n",
    "model_df.grant_from_gov = model_df.grant_from_gov.astype('category')\n",
    "print(model_df.info())"
   ]
  },
  {
   "cell_type": "markdown",
   "metadata": {},
   "source": [
    "## 2. Model Fitting\n",
    "\n",
    "**Question: Given that the participants were unemployed, who was more likely to receive the UIF reduced work-time benefit from the government during April 2020?**"
   ]
  },
  {
   "cell_type": "markdown",
   "metadata": {},
   "source": [
    "The model in this section aims to determine if an unemployed participant received the UIF reduced work time benefit from the government during April 2020. To generate the model, we first drop the **uif_in_apr** column from the **model_df** dataframe and set that as the target variable y. The remaining columns in the dataframe are used as the explanatory variables X. We then split the dataframe into a training and testing set. The training set will be used to generate and improve an initial model, and the testing set will be used to evaluate the final model. The training data makes up 80% of the dataframe and the testing data makes up 20%. From here, we generate an initial model of the form: \n",
    "<br><br>\n",
    "$$y = \\beta_1x_1 + \\beta_2x_2 +...+ \\beta_dx_d = \\sum \\limits _{i=1} ^{d}\\beta_ix_i  $$.\n",
    "<br>\n",
    "After generating this model, we explore the p-values of all of its variables and only keep the variables with a p-value less than 0.05. At the end of this section, residual analysis is performed to find any outliers in the dataset and determine if there are any biased explanatory variables."
   ]
  },
  {
   "cell_type": "markdown",
   "metadata": {},
   "source": [
    "Our initial assumption for model fitting is that **gender** and **grant_from_gov** will be the most significant variables in the generated model (ie: the ones with the lowest p-values). Since women were more likely to lose their jobs in April 2020 (as stipulated in the Labour Section), they would be more likely to receive the benefit from the government during this time. We believe that **grant_from_gov** is also a significant variable because if a participant was depending on the government for welfare during this time, then they would also most likely receive the benefit. "
   ]
  },
  {
   "cell_type": "markdown",
   "metadata": {},
   "source": [
    "### 2.1 Data Splitting"
   ]
  },
  {
   "cell_type": "markdown",
   "metadata": {},
   "source": [
    "Before we generate a model, we need to split the into a training and testing set. The training data makes up 80% of the dataframe and the testing data makes up 20%."
   ]
  },
  {
   "cell_type": "code",
   "execution_count": 8,
   "metadata": {},
   "outputs": [],
   "source": [
    "# Split the data into the explanatory varaibles X and the target variable y \n",
    "y = model_df[\"uif_in_apr\"]\n",
    "X = model_df.drop(\"uif_in_apr\", axis=1)\n",
    "\n",
    "# Split the data into an 80% training set and a 20% testing split\n",
    "X_train, X_test, y_train, y_test = train_test_split(X,y,test_size=0.2, random_state=101)"
   ]
  },
  {
   "cell_type": "markdown",
   "metadata": {},
   "source": [
    "### 2.2 Model Selection"
   ]
  },
  {
   "cell_type": "markdown",
   "metadata": {},
   "source": [
    "We are using the variables in the **model_df** dataframe to determine who was more likely to receive the UIF reduced work-time benefit from the government during April 2020. Essentially, we are modelling a categorical response variable (**uif_in_apr**) with only two response categories (\"Yes\" and \"No\"). Thus, we will be constructing a Binary Logistic Regression. The initial model we construct has the following form: \n",
    "\n",
    "$$y = \\beta_1age + \\beta_2gender + \\beta_3race + \\beta_4matric + \\beta_5tertiary\\_edu + \\beta_6src\\_income\\_before\\_apr + \\beta_7lost\\_income\\_in\\_apr + \\beta_8total\\_income\\_in\\_apr + \\beta_9grant\\_from\\_gov\\_ques + \\beta_{10}grant\\_from\\_gov $$\n",
    "\n",
    "Where $y$ represents the logarithm of the odds that a respondent will receive the UIF reduced work-time benefit from the government during April 2020.\n",
    "\n",
    "Constructing this initial model using the training data yields:"
   ]
  },
  {
   "cell_type": "code",
   "execution_count": 9,
   "metadata": {},
   "outputs": [
    {
     "data": {
      "text/html": [
       "<table class=\"simpletable\">\n",
       "<caption>Logit Regression Results</caption>\n",
       "<tr>\n",
       "  <th>Dep. Variable:</th>      <td>uif_in_apr</td>    <th>  No. Observations:  </th>  <td>   556</td>  \n",
       "</tr>\n",
       "<tr>\n",
       "  <th>Model:</th>                 <td>Logit</td>      <th>  Df Residuals:      </th>  <td>   546</td>  \n",
       "</tr>\n",
       "<tr>\n",
       "  <th>Method:</th>                 <td>MLE</td>       <th>  Df Model:          </th>  <td>     9</td>  \n",
       "</tr>\n",
       "<tr>\n",
       "  <th>Date:</th>            <td>Mon, 21 Jun 2021</td> <th>  Pseudo R-squ.:     </th>  <td>0.05681</td> \n",
       "</tr>\n",
       "<tr>\n",
       "  <th>Time:</th>                <td>00:20:17</td>     <th>  Log-Likelihood:    </th> <td> -322.08</td> \n",
       "</tr>\n",
       "<tr>\n",
       "  <th>converged:</th>             <td>True</td>       <th>  LL-Null:           </th> <td> -341.48</td> \n",
       "</tr>\n",
       "<tr>\n",
       "  <th>Covariance Type:</th>     <td>nonrobust</td>    <th>  LLR p-value:       </th> <td>1.251e-05</td>\n",
       "</tr>\n",
       "</table>\n",
       "<table class=\"simpletable\">\n",
       "<tr>\n",
       "            <td></td>               <th>coef</th>     <th>std err</th>      <th>z</th>      <th>P>|z|</th>  <th>[0.025</th>    <th>0.975]</th>  \n",
       "</tr>\n",
       "<tr>\n",
       "  <th>age</th>                   <td>    0.0235</td> <td>    0.011</td> <td>    2.076</td> <td> 0.038</td> <td>    0.001</td> <td>    0.046</td>\n",
       "</tr>\n",
       "<tr>\n",
       "  <th>gender</th>                <td>    0.4783</td> <td>    0.196</td> <td>    2.442</td> <td> 0.015</td> <td>    0.094</td> <td>    0.862</td>\n",
       "</tr>\n",
       "<tr>\n",
       "  <th>race</th>                  <td>   -0.3101</td> <td>    0.362</td> <td>   -0.856</td> <td> 0.392</td> <td>   -1.020</td> <td>    0.400</td>\n",
       "</tr>\n",
       "<tr>\n",
       "  <th>matric</th>                <td>    0.0444</td> <td>    0.211</td> <td>    0.211</td> <td> 0.833</td> <td>   -0.369</td> <td>    0.458</td>\n",
       "</tr>\n",
       "<tr>\n",
       "  <th>tertiary_edu</th>          <td>   -0.1476</td> <td>    0.218</td> <td>   -0.677</td> <td> 0.498</td> <td>   -0.575</td> <td>    0.279</td>\n",
       "</tr>\n",
       "<tr>\n",
       "  <th>src_income_before_apr</th> <td>   -0.1179</td> <td>    0.090</td> <td>   -1.316</td> <td> 0.188</td> <td>   -0.293</td> <td>    0.058</td>\n",
       "</tr>\n",
       "<tr>\n",
       "  <th>lost_income_in_apr</th>    <td>   -0.6413</td> <td>    0.194</td> <td>   -3.307</td> <td> 0.001</td> <td>   -1.021</td> <td>   -0.261</td>\n",
       "</tr>\n",
       "<tr>\n",
       "  <th>total_income_in_apr</th>   <td>-4.741e-05</td> <td> 3.49e-05</td> <td>   -1.357</td> <td> 0.175</td> <td>   -0.000</td> <td> 2.11e-05</td>\n",
       "</tr>\n",
       "<tr>\n",
       "  <th>grant_from_gov_ques</th>   <td>   -0.0665</td> <td>    0.492</td> <td>   -0.135</td> <td> 0.893</td> <td>   -1.031</td> <td>    0.898</td>\n",
       "</tr>\n",
       "<tr>\n",
       "  <th>grant_from_gov</th>        <td>    0.1745</td> <td>    0.056</td> <td>    3.139</td> <td> 0.002</td> <td>    0.066</td> <td>    0.283</td>\n",
       "</tr>\n",
       "</table>"
      ],
      "text/plain": [
       "<class 'statsmodels.iolib.summary.Summary'>\n",
       "\"\"\"\n",
       "                           Logit Regression Results                           \n",
       "==============================================================================\n",
       "Dep. Variable:             uif_in_apr   No. Observations:                  556\n",
       "Model:                          Logit   Df Residuals:                      546\n",
       "Method:                           MLE   Df Model:                            9\n",
       "Date:                Mon, 21 Jun 2021   Pseudo R-squ.:                 0.05681\n",
       "Time:                        00:20:17   Log-Likelihood:                -322.08\n",
       "converged:                       True   LL-Null:                       -341.48\n",
       "Covariance Type:            nonrobust   LLR p-value:                 1.251e-05\n",
       "=========================================================================================\n",
       "                            coef    std err          z      P>|z|      [0.025      0.975]\n",
       "-----------------------------------------------------------------------------------------\n",
       "age                       0.0235      0.011      2.076      0.038       0.001       0.046\n",
       "gender                    0.4783      0.196      2.442      0.015       0.094       0.862\n",
       "race                     -0.3101      0.362     -0.856      0.392      -1.020       0.400\n",
       "matric                    0.0444      0.211      0.211      0.833      -0.369       0.458\n",
       "tertiary_edu             -0.1476      0.218     -0.677      0.498      -0.575       0.279\n",
       "src_income_before_apr    -0.1179      0.090     -1.316      0.188      -0.293       0.058\n",
       "lost_income_in_apr       -0.6413      0.194     -3.307      0.001      -1.021      -0.261\n",
       "total_income_in_apr   -4.741e-05   3.49e-05     -1.357      0.175      -0.000    2.11e-05\n",
       "grant_from_gov_ques      -0.0665      0.492     -0.135      0.893      -1.031       0.898\n",
       "grant_from_gov            0.1745      0.056      3.139      0.002       0.066       0.283\n",
       "=========================================================================================\n",
       "\"\"\""
      ]
     },
     "execution_count": 9,
     "metadata": {},
     "output_type": "execute_result"
    }
   ],
   "source": [
    "fitlogreg = sm.Logit(y_train, X_train[[\"age\", \"gender\", \"race\", \"matric\", \"tertiary_edu\", \"src_income_before_apr\", \"lost_income_in_apr\", \"total_income_in_apr\", \"grant_from_gov_ques\", \"grant_from_gov\"]]).fit(disp=0)\n",
    "fitlogreg.summary()"
   ]
  },
  {
   "cell_type": "markdown",
   "metadata": {},
   "source": [
    "Inspecting the results of this initial implementation we observe that the **age**, **gender**, **lost_income_in_apr** and **grant_from_gov** variables have p-values less than 0.05. This indicates that these four variables are statistically more signifacant than the other variables in the initial model. We select a subset of features and construct a reduced model as: \n",
    "\n",
    "$$y = \\beta_1age + \\beta_2gender  + \\beta_3lost\\_income\\_in\\_apr + \\beta_4grant\\_from\\_gov$$\n",
    "\n",
    "The reduced model yields the following results: "
   ]
  },
  {
   "cell_type": "code",
   "execution_count": 10,
   "metadata": {},
   "outputs": [
    {
     "data": {
      "text/html": [
       "<table class=\"simpletable\">\n",
       "<caption>Logit Regression Results</caption>\n",
       "<tr>\n",
       "  <th>Dep. Variable:</th>      <td>uif_in_apr</td>    <th>  No. Observations:  </th>  <td>   556</td>  \n",
       "</tr>\n",
       "<tr>\n",
       "  <th>Model:</th>                 <td>Logit</td>      <th>  Df Residuals:      </th>  <td>   552</td>  \n",
       "</tr>\n",
       "<tr>\n",
       "  <th>Method:</th>                 <td>MLE</td>       <th>  Df Model:          </th>  <td>     3</td>  \n",
       "</tr>\n",
       "<tr>\n",
       "  <th>Date:</th>            <td>Mon, 21 Jun 2021</td> <th>  Pseudo R-squ.:     </th>  <td>0.04941</td> \n",
       "</tr>\n",
       "<tr>\n",
       "  <th>Time:</th>                <td>00:20:17</td>     <th>  Log-Likelihood:    </th> <td> -324.61</td> \n",
       "</tr>\n",
       "<tr>\n",
       "  <th>converged:</th>             <td>True</td>       <th>  LL-Null:           </th> <td> -341.48</td> \n",
       "</tr>\n",
       "<tr>\n",
       "  <th>Covariance Type:</th>     <td>nonrobust</td>    <th>  LLR p-value:       </th> <td>2.243e-07</td>\n",
       "</tr>\n",
       "</table>\n",
       "<table class=\"simpletable\">\n",
       "<tr>\n",
       "           <td></td>             <th>coef</th>     <th>std err</th>      <th>z</th>      <th>P>|z|</th>  <th>[0.025</th>    <th>0.975]</th>  \n",
       "</tr>\n",
       "<tr>\n",
       "  <th>age</th>                <td>    0.0166</td> <td>    0.004</td> <td>    3.805</td> <td> 0.000</td> <td>    0.008</td> <td>    0.025</td>\n",
       "</tr>\n",
       "<tr>\n",
       "  <th>gender</th>             <td>    0.4773</td> <td>    0.192</td> <td>    2.482</td> <td> 0.013</td> <td>    0.100</td> <td>    0.854</td>\n",
       "</tr>\n",
       "<tr>\n",
       "  <th>lost_income_in_apr</th> <td>   -0.6737</td> <td>    0.189</td> <td>   -3.569</td> <td> 0.000</td> <td>   -1.044</td> <td>   -0.304</td>\n",
       "</tr>\n",
       "<tr>\n",
       "  <th>grant_from_gov</th>     <td>    0.1441</td> <td>    0.053</td> <td>    2.734</td> <td> 0.006</td> <td>    0.041</td> <td>    0.247</td>\n",
       "</tr>\n",
       "</table>"
      ],
      "text/plain": [
       "<class 'statsmodels.iolib.summary.Summary'>\n",
       "\"\"\"\n",
       "                           Logit Regression Results                           \n",
       "==============================================================================\n",
       "Dep. Variable:             uif_in_apr   No. Observations:                  556\n",
       "Model:                          Logit   Df Residuals:                      552\n",
       "Method:                           MLE   Df Model:                            3\n",
       "Date:                Mon, 21 Jun 2021   Pseudo R-squ.:                 0.04941\n",
       "Time:                        00:20:17   Log-Likelihood:                -324.61\n",
       "converged:                       True   LL-Null:                       -341.48\n",
       "Covariance Type:            nonrobust   LLR p-value:                 2.243e-07\n",
       "======================================================================================\n",
       "                         coef    std err          z      P>|z|      [0.025      0.975]\n",
       "--------------------------------------------------------------------------------------\n",
       "age                    0.0166      0.004      3.805      0.000       0.008       0.025\n",
       "gender                 0.4773      0.192      2.482      0.013       0.100       0.854\n",
       "lost_income_in_apr    -0.6737      0.189     -3.569      0.000      -1.044      -0.304\n",
       "grant_from_gov         0.1441      0.053      2.734      0.006       0.041       0.247\n",
       "======================================================================================\n",
       "\"\"\""
      ]
     },
     "execution_count": 10,
     "metadata": {},
     "output_type": "execute_result"
    }
   ],
   "source": [
    "log_reg = sm.Logit(y_train, X_train[[\"age\", \"gender\", \"lost_income_in_apr\", \"grant_from_gov\"]]).fit(disp=0)\n",
    "log_reg.summary()"
   ]
  },
  {
   "cell_type": "markdown",
   "metadata": {},
   "source": [
    "Since the p-values of the reduced model are all less than 0.05, we will select this model as it contains only the most significant variables to determine who was more likely to receive the UIF reduced work-time benefit during April 2020. In the next section, we perform residual analysis to find any outliers in the data and determine if there are any biased explanatory variables in the model."
   ]
  },
  {
   "cell_type": "markdown",
   "metadata": {},
   "source": [
    "Our initial assumptions were partially correct. We believed that **gender** and **grant_from_gov** were significant variables to determine whether or not a participant received the UIF reduced work-time benefit in April 2020. The other two significant variables are **lost_income_in_apr** and **age**.\n",
    "\n",
    "**age**, **gender** and **grant_from_gov** are all positive coefficients. This implies that being older, being a woman, and having received any other kind of grant from the government during April 2020 would increase the probability that a participant received the UIF reduced work-time benefit from the government during April 2020. In addition, the **lost_income_in_apr** has a negative coefficient, and this implies that losing your income during this time would decrease the probability of you receiving the benefit. "
   ]
  },
  {
   "cell_type": "markdown",
   "metadata": {},
   "source": [
    "### 2.3 Residual Analysis"
   ]
  },
  {
   "cell_type": "markdown",
   "metadata": {},
   "source": [
    "Before evaluating it on the test set, let us analyze the residuals of this model to ensure there are no major issues evident."
   ]
  },
  {
   "cell_type": "code",
   "execution_count": 11,
   "metadata": {},
   "outputs": [
    {
     "data": {
      "image/png": "[encoded data removed]",
      "text/plain": [
       "<Figure size 1080x360 with 1 Axes>"
      ]
     },
     "metadata": {
      "needs_background": "light"
     },
     "output_type": "display_data"
    }
   ],
   "source": [
    "plt.figure(figsize=(15,5))\n",
    "plots = log_reg.resid_dev[:100]\n",
    "plt.plot(range(100), plots.values)\n",
    "plt.title(\"Deviance Residuals of Logisitic Regression\", fontsize=15)\n",
    "plt.ylabel(\"Deviance Residual\")\n",
    "plt.xlabel(\"Observation\")\n",
    "plt.show()"
   ]
  },
  {
   "cell_type": "markdown",
   "metadata": {},
   "source": [
    "Observing that there are no apparent patterns in the residual plot allows us to conclude that there are no major issues with the fitted model. We can now evaluate the model using the test data."
   ]
  },
  {
   "cell_type": "code",
   "execution_count": 12,
   "metadata": {},
   "outputs": [
    {
     "data": {
      "text/html": [
       "<table class=\"simpletable\">\n",
       "<caption>Logit Regression Results</caption>\n",
       "<tr>\n",
       "  <th>Dep. Variable:</th>      <td>uif_in_apr</td>    <th>  No. Observations:  </th>  <td>   556</td>  \n",
       "</tr>\n",
       "<tr>\n",
       "  <th>Model:</th>                 <td>Logit</td>      <th>  Df Residuals:      </th>  <td>   552</td>  \n",
       "</tr>\n",
       "<tr>\n",
       "  <th>Method:</th>                 <td>MLE</td>       <th>  Df Model:          </th>  <td>     3</td>  \n",
       "</tr>\n",
       "<tr>\n",
       "  <th>Date:</th>            <td>Mon, 21 Jun 2021</td> <th>  Pseudo R-squ.:     </th>  <td>0.04941</td> \n",
       "</tr>\n",
       "<tr>\n",
       "  <th>Time:</th>                <td>00:20:18</td>     <th>  Log-Likelihood:    </th> <td> -324.61</td> \n",
       "</tr>\n",
       "<tr>\n",
       "  <th>converged:</th>             <td>True</td>       <th>  LL-Null:           </th> <td> -341.48</td> \n",
       "</tr>\n",
       "<tr>\n",
       "  <th>Covariance Type:</th>     <td>nonrobust</td>    <th>  LLR p-value:       </th> <td>2.243e-07</td>\n",
       "</tr>\n",
       "</table>\n",
       "<table class=\"simpletable\">\n",
       "<tr>\n",
       "           <td></td>             <th>coef</th>     <th>std err</th>      <th>z</th>      <th>P>|z|</th>  <th>[0.025</th>    <th>0.975]</th>  \n",
       "</tr>\n",
       "<tr>\n",
       "  <th>age</th>                <td>    0.0166</td> <td>    0.004</td> <td>    3.805</td> <td> 0.000</td> <td>    0.008</td> <td>    0.025</td>\n",
       "</tr>\n",
       "<tr>\n",
       "  <th>gender</th>             <td>    0.4773</td> <td>    0.192</td> <td>    2.482</td> <td> 0.013</td> <td>    0.100</td> <td>    0.854</td>\n",
       "</tr>\n",
       "<tr>\n",
       "  <th>lost_income_in_apr</th> <td>   -0.6737</td> <td>    0.189</td> <td>   -3.569</td> <td> 0.000</td> <td>   -1.044</td> <td>   -0.304</td>\n",
       "</tr>\n",
       "<tr>\n",
       "  <th>grant_from_gov</th>     <td>    0.1441</td> <td>    0.053</td> <td>    2.734</td> <td> 0.006</td> <td>    0.041</td> <td>    0.247</td>\n",
       "</tr>\n",
       "</table>"
      ],
      "text/plain": [
       "<class 'statsmodels.iolib.summary.Summary'>\n",
       "\"\"\"\n",
       "                           Logit Regression Results                           \n",
       "==============================================================================\n",
       "Dep. Variable:             uif_in_apr   No. Observations:                  556\n",
       "Model:                          Logit   Df Residuals:                      552\n",
       "Method:                           MLE   Df Model:                            3\n",
       "Date:                Mon, 21 Jun 2021   Pseudo R-squ.:                 0.04941\n",
       "Time:                        00:20:18   Log-Likelihood:                -324.61\n",
       "converged:                       True   LL-Null:                       -341.48\n",
       "Covariance Type:            nonrobust   LLR p-value:                 2.243e-07\n",
       "======================================================================================\n",
       "                         coef    std err          z      P>|z|      [0.025      0.975]\n",
       "--------------------------------------------------------------------------------------\n",
       "age                    0.0166      0.004      3.805      0.000       0.008       0.025\n",
       "gender                 0.4773      0.192      2.482      0.013       0.100       0.854\n",
       "lost_income_in_apr    -0.6737      0.189     -3.569      0.000      -1.044      -0.304\n",
       "grant_from_gov         0.1441      0.053      2.734      0.006       0.041       0.247\n",
       "======================================================================================\n",
       "\"\"\""
      ]
     },
     "execution_count": 12,
     "metadata": {},
     "output_type": "execute_result"
    }
   ],
   "source": [
    "log_reg = sm.Logit(y_train, X_train[[\"age\", \"gender\", \"lost_income_in_apr\", \"grant_from_gov\"]]).fit(disp=0)\n",
    "log_reg.summary()"
   ]
  },
  {
   "cell_type": "markdown",
   "metadata": {},
   "source": [
    "As was the case on the training set, the **age**, **gender**, **lost_income_in_apr** and **grant_from_gov** are the most significant variables in the model. These variables have the exact same p-values as they did on the model trained on the training set."
   ]
  },
  {
   "cell_type": "markdown",
   "metadata": {},
   "source": [
    "## 3 Hypothesis Testing"
   ]
  },
  {
   "cell_type": "markdown",
   "metadata": {},
   "source": [
    "In this section, we perform a permutation test to determine whether men or women were more likely to receive the UIF reduced work-time benefit from the government during April 2020. We first split the data into two separate samples to test the null hypothesis. The first sample is of men who did receive the UIF reduced work-time benefit from the government during April 2020, and the second sample is of women who received the UIF reduced work-time benefit from the government during April 2020. We then do a permutation test on the two samples to obtain t-value and p-value of the permutation test.\n",
    "\n",
    "**Note**: The hypothesis test is done at a 5% significance level."
   ]
  },
  {
   "cell_type": "markdown",
   "metadata": {},
   "source": [
    "Split the data into men and women that received the UIF reduced work-time benefit in April 2020."
   ]
  },
  {
   "cell_type": "code",
   "execution_count": 13,
   "metadata": {},
   "outputs": [],
   "source": [
    "men = model_df[(model_df['gender'] == 0)][\"uif_in_apr\"]\n",
    "women = model_df.loc[(model_df['gender'] == 1)][\"uif_in_apr\"]"
   ]
  },
  {
   "cell_type": "markdown",
   "metadata": {},
   "source": [
    "We assume that women were equally likely to receive the benefit during April 2020. This is because they were one of the groups most likely to lose their job in April 2020 (as seen in the Labour Section). In the following cell we perform hypothesis testing using a permutation test."
   ]
  },
  {
   "cell_type": "markdown",
   "metadata": {},
   "source": [
    "**Null Hypothesis**: Men and women were equally likely to receive the UIF reduced work-time benefit from the government during Apriil 2020.\n",
    "<br><br>\n",
    "**Alternative Hypothesis**: Women were more likely than men to receive the UIF reduced work-time benefit from the government during Apriil 2020."
   ]
  },
  {
   "cell_type": "code",
   "execution_count": 15,
   "metadata": {},
   "outputs": [
    {
     "name": "stdout",
     "output_type": "stream",
     "text": [
      "t =  -2.0978304787619146\n",
      "p =  0.018140849151817705\n"
     ]
    }
   ],
   "source": [
    "t_value, p_value = stats.ttest_ind(men, women)\n",
    "print(\"t = \", t_value)\n",
    "print(\"p = \", p_value/2)"
   ]
  },
  {
   "cell_type": "markdown",
   "metadata": {},
   "source": [
    "We reject the null hypothesis because the p-value 0.018 is less than 0.05. Therefore, we are 95% confident that women were more likely than men to receive the UIF reduced work-time benefit from the government during Apriil 2020."
   ]
  },
  {
   "cell_type": "code",
   "execution_count": 16,
   "metadata": {},
   "outputs": [
    {
     "data": {
      "text/html": [
       "<table class=\"simpletable\">\n",
       "<caption>Logit Regression Results</caption>\n",
       "<tr>\n",
       "  <th>Dep. Variable:</th>      <td>uif_in_apr</td>    <th>  No. Observations:  </th>  <td>   139</td> \n",
       "</tr>\n",
       "<tr>\n",
       "  <th>Model:</th>                 <td>Logit</td>      <th>  Df Residuals:      </th>  <td>   135</td> \n",
       "</tr>\n",
       "<tr>\n",
       "  <th>Method:</th>                 <td>MLE</td>       <th>  Df Model:          </th>  <td>     3</td> \n",
       "</tr>\n",
       "<tr>\n",
       "  <th>Date:</th>            <td>Mon, 21 Jun 2021</td> <th>  Pseudo R-squ.:     </th>  <td>0.06783</td>\n",
       "</tr>\n",
       "<tr>\n",
       "  <th>Time:</th>                <td>00:20:29</td>     <th>  Log-Likelihood:    </th> <td> -80.884</td>\n",
       "</tr>\n",
       "<tr>\n",
       "  <th>converged:</th>             <td>True</td>       <th>  LL-Null:           </th> <td> -86.769</td>\n",
       "</tr>\n",
       "<tr>\n",
       "  <th>Covariance Type:</th>     <td>nonrobust</td>    <th>  LLR p-value:       </th> <td>0.008209</td>\n",
       "</tr>\n",
       "</table>\n",
       "<table class=\"simpletable\">\n",
       "<tr>\n",
       "           <td></td>             <th>coef</th>     <th>std err</th>      <th>z</th>      <th>P>|z|</th>  <th>[0.025</th>    <th>0.975]</th>  \n",
       "</tr>\n",
       "<tr>\n",
       "  <th>age</th>                <td>    0.0260</td> <td>    0.010</td> <td>    2.737</td> <td> 0.006</td> <td>    0.007</td> <td>    0.045</td>\n",
       "</tr>\n",
       "<tr>\n",
       "  <th>gender</th>             <td>   -0.3857</td> <td>    0.403</td> <td>   -0.958</td> <td> 0.338</td> <td>   -1.175</td> <td>    0.404</td>\n",
       "</tr>\n",
       "<tr>\n",
       "  <th>lost_income_in_apr</th> <td>   -0.7081</td> <td>    0.376</td> <td>   -1.881</td> <td> 0.060</td> <td>   -1.446</td> <td>    0.030</td>\n",
       "</tr>\n",
       "<tr>\n",
       "  <th>grant_from_gov</th>     <td>    0.2756</td> <td>    0.123</td> <td>    2.238</td> <td> 0.025</td> <td>    0.034</td> <td>    0.517</td>\n",
       "</tr>\n",
       "</table>"
      ],
      "text/plain": [
       "<class 'statsmodels.iolib.summary.Summary'>\n",
       "\"\"\"\n",
       "                           Logit Regression Results                           \n",
       "==============================================================================\n",
       "Dep. Variable:             uif_in_apr   No. Observations:                  139\n",
       "Model:                          Logit   Df Residuals:                      135\n",
       "Method:                           MLE   Df Model:                            3\n",
       "Date:                Mon, 21 Jun 2021   Pseudo R-squ.:                 0.06783\n",
       "Time:                        00:20:29   Log-Likelihood:                -80.884\n",
       "converged:                       True   LL-Null:                       -86.769\n",
       "Covariance Type:            nonrobust   LLR p-value:                  0.008209\n",
       "======================================================================================\n",
       "                         coef    std err          z      P>|z|      [0.025      0.975]\n",
       "--------------------------------------------------------------------------------------\n",
       "age                    0.0260      0.010      2.737      0.006       0.007       0.045\n",
       "gender                -0.3857      0.403     -0.958      0.338      -1.175       0.404\n",
       "lost_income_in_apr    -0.7081      0.376     -1.881      0.060      -1.446       0.030\n",
       "grant_from_gov         0.2756      0.123      2.238      0.025       0.034       0.517\n",
       "======================================================================================\n",
       "\"\"\""
      ]
     },
     "execution_count": 16,
     "metadata": {},
     "output_type": "execute_result"
    }
   ],
   "source": [
    "log_reg = sm.Logit(y_test, X_test[[\"age\", \"gender\", \"lost_income_in_apr\", \"grant_from_gov\"]]).fit(disp=0)\n",
    "log_reg.summary()"
   ]
  },
  {
   "cell_type": "code",
   "execution_count": null,
   "metadata": {},
   "outputs": [],
   "source": []
  }
 ],
 "metadata": {
  "hide_input": false,
  "kernelspec": {
   "display_name": "Python 3",
   "language": "python",
   "name": "python3"
  },
  "language_info": {
   "codemirror_mode": {
    "name": "ipython",
    "version": 3
   },
   "file_extension": ".py",
   "mimetype": "text/x-python",
   "name": "python",
   "nbconvert_exporter": "python",
   "pygments_lexer": "ipython3",
   "version": "3.8.8"
  },
  "toc": {
   "base_numbering": 1,
   "nav_menu": {},
   "number_sections": true,
   "sideBar": true,
   "skip_h1_title": true,
   "title_cell": "Table of Contents",
   "title_sidebar": "Contents",
   "toc_cell": true,
   "toc_position": {},
   "toc_section_display": true,
   "toc_window_display": false
  }
 },
 "nbformat": 4,
 "nbformat_minor": 2
}
