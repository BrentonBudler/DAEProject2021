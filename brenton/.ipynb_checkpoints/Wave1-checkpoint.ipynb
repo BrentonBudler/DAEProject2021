{
 "cells": [
  {
   "cell_type": "code",
   "execution_count": 1,
   "metadata": {},
   "outputs": [],
   "source": [
    "import pandas as pd \n",
    "import numpy as np\n",
    "import matplotlib.pyplot as plt\n",
    "import seaborn as sns\n",
    "sns.set()"
   ]
  },
  {
   "cell_type": "code",
   "execution_count": 2,
   "metadata": {},
   "outputs": [],
   "source": [
    "raw = pd.read_stata('wave1data')"
   ]
  },
  {
   "cell_type": "code",
   "execution_count": 3,
   "metadata": {
    "scrolled": true
   },
   "outputs": [],
   "source": [
    "raw.drop('pid',axis=1,inplace=True)"
   ]
  },
  {
   "cell_type": "code",
   "execution_count": 4,
   "metadata": {
    "scrolled": true
   },
   "outputs": [
    {
     "data": {
      "text/html": [
       "<div>\n",
       "<style scoped>\n",
       "    .dataframe tbody tr th:only-of-type {\n",
       "        vertical-align: middle;\n",
       "    }\n",
       "\n",
       "    .dataframe tbody tr th {\n",
       "        vertical-align: top;\n",
       "    }\n",
       "\n",
       "    .dataframe thead th {\n",
       "        text-align: right;\n",
       "    }\n",
       "</style>\n",
       "<table border=\"1\" class=\"dataframe\">\n",
       "  <thead>\n",
       "    <tr style=\"text-align: right;\">\n",
       "      <th></th>\n",
       "      <th>w1_nc_outcome</th>\n",
       "      <th>w1_nc_intrv_c</th>\n",
       "      <th>w1_nc_intrv_d</th>\n",
       "      <th>w1_nc_intrv_m</th>\n",
       "      <th>w1_nc_intrv_y</th>\n",
       "      <th>w1_nc_duration</th>\n",
       "      <th>w1_nc_dob_m</th>\n",
       "      <th>w1_nc_dob_y</th>\n",
       "      <th>w1_nc_gen</th>\n",
       "      <th>w1_nc_popgrp</th>\n",
       "      <th>...</th>\n",
       "      <th>w1_nc_intlng2</th>\n",
       "      <th>w1_nc_intlng3</th>\n",
       "      <th>w1_nc_intlng4</th>\n",
       "      <th>w1_nc_intlng5</th>\n",
       "      <th>w1_nc_intlng6</th>\n",
       "      <th>w1_nc_intlng7</th>\n",
       "      <th>w1_nc_intlng8</th>\n",
       "      <th>w1_nc_intlng9</th>\n",
       "      <th>w1_nc_intlng10</th>\n",
       "      <th>w1_nc_intlng11</th>\n",
       "    </tr>\n",
       "  </thead>\n",
       "  <tbody>\n",
       "    <tr>\n",
       "      <th>0</th>\n",
       "      <td>Successfully Interviewed</td>\n",
       "      <td>610</td>\n",
       "      <td>15th</td>\n",
       "      <td>June</td>\n",
       "      <td>2020</td>\n",
       "      <td>15.95</td>\n",
       "      <td>June</td>\n",
       "      <td>1981</td>\n",
       "      <td>Man</td>\n",
       "      <td>White</td>\n",
       "      <td>...</td>\n",
       "      <td>NaN</td>\n",
       "      <td>NaN</td>\n",
       "      <td>NaN</td>\n",
       "      <td>NaN</td>\n",
       "      <td>NaN</td>\n",
       "      <td>NaN</td>\n",
       "      <td>NaN</td>\n",
       "      <td>NaN</td>\n",
       "      <td>NaN</td>\n",
       "      <td>NaN</td>\n",
       "    </tr>\n",
       "    <tr>\n",
       "      <th>1</th>\n",
       "      <td>Successfully Interviewed</td>\n",
       "      <td>611</td>\n",
       "      <td>25th</td>\n",
       "      <td>June</td>\n",
       "      <td>2020</td>\n",
       "      <td>22.03</td>\n",
       "      <td>January</td>\n",
       "      <td>1948</td>\n",
       "      <td>Woman</td>\n",
       "      <td>Asian/Indian</td>\n",
       "      <td>...</td>\n",
       "      <td>NaN</td>\n",
       "      <td>NaN</td>\n",
       "      <td>NaN</td>\n",
       "      <td>NaN</td>\n",
       "      <td>NaN</td>\n",
       "      <td>NaN</td>\n",
       "      <td>NaN</td>\n",
       "      <td>NaN</td>\n",
       "      <td>NaN</td>\n",
       "      <td>NaN</td>\n",
       "    </tr>\n",
       "    <tr>\n",
       "      <th>2</th>\n",
       "      <td>Successfully Interviewed</td>\n",
       "      <td>604</td>\n",
       "      <td>20th</td>\n",
       "      <td>June</td>\n",
       "      <td>2020</td>\n",
       "      <td>12.75</td>\n",
       "      <td>July</td>\n",
       "      <td>1990</td>\n",
       "      <td>Woman</td>\n",
       "      <td>African/Black</td>\n",
       "      <td>...</td>\n",
       "      <td>NaN</td>\n",
       "      <td>NaN</td>\n",
       "      <td>NaN</td>\n",
       "      <td>NaN</td>\n",
       "      <td>NaN</td>\n",
       "      <td>NaN</td>\n",
       "      <td>NaN</td>\n",
       "      <td>NaN</td>\n",
       "      <td>NaN</td>\n",
       "      <td>NaN</td>\n",
       "    </tr>\n",
       "    <tr>\n",
       "      <th>3</th>\n",
       "      <td>Successfully Interviewed</td>\n",
       "      <td>640</td>\n",
       "      <td>25th</td>\n",
       "      <td>June</td>\n",
       "      <td>2020</td>\n",
       "      <td>22.33</td>\n",
       "      <td>June</td>\n",
       "      <td>1972</td>\n",
       "      <td>Woman</td>\n",
       "      <td>African/Black</td>\n",
       "      <td>...</td>\n",
       "      <td>English</td>\n",
       "      <td>NaN</td>\n",
       "      <td>NaN</td>\n",
       "      <td>NaN</td>\n",
       "      <td>NaN</td>\n",
       "      <td>NaN</td>\n",
       "      <td>NaN</td>\n",
       "      <td>NaN</td>\n",
       "      <td>NaN</td>\n",
       "      <td>NaN</td>\n",
       "    </tr>\n",
       "    <tr>\n",
       "      <th>4</th>\n",
       "      <td>Successfully Interviewed</td>\n",
       "      <td>609</td>\n",
       "      <td>15th</td>\n",
       "      <td>May</td>\n",
       "      <td>2020</td>\n",
       "      <td>15.2</td>\n",
       "      <td>July</td>\n",
       "      <td>1971</td>\n",
       "      <td>Woman</td>\n",
       "      <td>African/Black</td>\n",
       "      <td>...</td>\n",
       "      <td>NaN</td>\n",
       "      <td>NaN</td>\n",
       "      <td>NaN</td>\n",
       "      <td>NaN</td>\n",
       "      <td>NaN</td>\n",
       "      <td>NaN</td>\n",
       "      <td>NaN</td>\n",
       "      <td>NaN</td>\n",
       "      <td>NaN</td>\n",
       "      <td>NaN</td>\n",
       "    </tr>\n",
       "  </tbody>\n",
       "</table>\n",
       "<p>5 rows × 169 columns</p>\n",
       "</div>"
      ],
      "text/plain": [
       "              w1_nc_outcome w1_nc_intrv_c w1_nc_intrv_d w1_nc_intrv_m  \\\n",
       "0  Successfully Interviewed           610          15th          June   \n",
       "1  Successfully Interviewed           611          25th          June   \n",
       "2  Successfully Interviewed           604          20th          June   \n",
       "3  Successfully Interviewed           640          25th          June   \n",
       "4  Successfully Interviewed           609          15th           May   \n",
       "\n",
       "  w1_nc_intrv_y w1_nc_duration w1_nc_dob_m w1_nc_dob_y w1_nc_gen  \\\n",
       "0          2020          15.95        June        1981       Man   \n",
       "1          2020          22.03     January        1948     Woman   \n",
       "2          2020          12.75        July        1990     Woman   \n",
       "3          2020          22.33        June        1972     Woman   \n",
       "4          2020           15.2        July        1971     Woman   \n",
       "\n",
       "    w1_nc_popgrp  ... w1_nc_intlng2 w1_nc_intlng3 w1_nc_intlng4 w1_nc_intlng5  \\\n",
       "0          White  ...           NaN           NaN           NaN           NaN   \n",
       "1   Asian/Indian  ...           NaN           NaN           NaN           NaN   \n",
       "2  African/Black  ...           NaN           NaN           NaN           NaN   \n",
       "3  African/Black  ...       English           NaN           NaN           NaN   \n",
       "4  African/Black  ...           NaN           NaN           NaN           NaN   \n",
       "\n",
       "  w1_nc_intlng6 w1_nc_intlng7 w1_nc_intlng8 w1_nc_intlng9 w1_nc_intlng10  \\\n",
       "0           NaN           NaN           NaN           NaN            NaN   \n",
       "1           NaN           NaN           NaN           NaN            NaN   \n",
       "2           NaN           NaN           NaN           NaN            NaN   \n",
       "3           NaN           NaN           NaN           NaN            NaN   \n",
       "4           NaN           NaN           NaN           NaN            NaN   \n",
       "\n",
       "  w1_nc_intlng11  \n",
       "0            NaN  \n",
       "1            NaN  \n",
       "2            NaN  \n",
       "3            NaN  \n",
       "4            NaN  \n",
       "\n",
       "[5 rows x 169 columns]"
      ]
     },
     "execution_count": 4,
     "metadata": {},
     "output_type": "execute_result"
    }
   ],
   "source": [
    "raw.head()"
   ]
  },
  {
   "cell_type": "code",
   "execution_count": 5,
   "metadata": {
    "scrolled": true
   },
   "outputs": [
    {
     "name": "stdout",
     "output_type": "stream",
     "text": [
      "<class 'pandas.core.frame.DataFrame'>\n",
      "Int64Index: 7073 entries, 0 to 7072\n",
      "Columns: 169 entries, w1_nc_outcome to w1_nc_intlng11\n",
      "dtypes: category(157), object(12)\n",
      "memory usage: 1.9+ MB\n"
     ]
    }
   ],
   "source": [
    "raw.info()"
   ]
  },
  {
   "cell_type": "code",
   "execution_count": 6,
   "metadata": {},
   "outputs": [
    {
     "data": {
      "text/html": [
       "<div>\n",
       "<style scoped>\n",
       "    .dataframe tbody tr th:only-of-type {\n",
       "        vertical-align: middle;\n",
       "    }\n",
       "\n",
       "    .dataframe tbody tr th {\n",
       "        vertical-align: top;\n",
       "    }\n",
       "\n",
       "    .dataframe thead th {\n",
       "        text-align: right;\n",
       "    }\n",
       "</style>\n",
       "<table border=\"1\" class=\"dataframe\">\n",
       "  <thead>\n",
       "    <tr style=\"text-align: right;\">\n",
       "      <th></th>\n",
       "      <th>w1_nc_outcome</th>\n",
       "      <th>w1_nc_intrv_c</th>\n",
       "      <th>w1_nc_intrv_d</th>\n",
       "      <th>w1_nc_intrv_m</th>\n",
       "      <th>w1_nc_intrv_y</th>\n",
       "      <th>w1_nc_duration</th>\n",
       "      <th>w1_nc_dob_m</th>\n",
       "      <th>w1_nc_dob_y</th>\n",
       "      <th>w1_nc_gen</th>\n",
       "      <th>w1_nc_popgrp</th>\n",
       "      <th>...</th>\n",
       "      <th>w1_nc_intlng2</th>\n",
       "      <th>w1_nc_intlng3</th>\n",
       "      <th>w1_nc_intlng4</th>\n",
       "      <th>w1_nc_intlng5</th>\n",
       "      <th>w1_nc_intlng6</th>\n",
       "      <th>w1_nc_intlng7</th>\n",
       "      <th>w1_nc_intlng8</th>\n",
       "      <th>w1_nc_intlng9</th>\n",
       "      <th>w1_nc_intlng10</th>\n",
       "      <th>w1_nc_intlng11</th>\n",
       "    </tr>\n",
       "  </thead>\n",
       "  <tbody>\n",
       "    <tr>\n",
       "      <th>count</th>\n",
       "      <td>7073</td>\n",
       "      <td>7073</td>\n",
       "      <td>7073</td>\n",
       "      <td>7073</td>\n",
       "      <td>7073</td>\n",
       "      <td>7073.00</td>\n",
       "      <td>7069</td>\n",
       "      <td>7069.0</td>\n",
       "      <td>7067</td>\n",
       "      <td>7073</td>\n",
       "      <td>...</td>\n",
       "      <td>1308</td>\n",
       "      <td>53</td>\n",
       "      <td>14</td>\n",
       "      <td>13</td>\n",
       "      <td>13</td>\n",
       "      <td>13</td>\n",
       "      <td>13</td>\n",
       "      <td>13</td>\n",
       "      <td>13</td>\n",
       "      <td>13</td>\n",
       "    </tr>\n",
       "    <tr>\n",
       "      <th>unique</th>\n",
       "      <td>1</td>\n",
       "      <td>91</td>\n",
       "      <td>31</td>\n",
       "      <td>2</td>\n",
       "      <td>1</td>\n",
       "      <td>1500.00</td>\n",
       "      <td>14</td>\n",
       "      <td>79.0</td>\n",
       "      <td>2</td>\n",
       "      <td>7</td>\n",
       "      <td>...</td>\n",
       "      <td>8</td>\n",
       "      <td>4</td>\n",
       "      <td>2</td>\n",
       "      <td>1</td>\n",
       "      <td>1</td>\n",
       "      <td>1</td>\n",
       "      <td>1</td>\n",
       "      <td>1</td>\n",
       "      <td>1</td>\n",
       "      <td>1</td>\n",
       "    </tr>\n",
       "    <tr>\n",
       "      <th>top</th>\n",
       "      <td>Successfully Interviewed</td>\n",
       "      <td>621</td>\n",
       "      <td>23rd</td>\n",
       "      <td>June</td>\n",
       "      <td>2020</td>\n",
       "      <td>16.08</td>\n",
       "      <td>January</td>\n",
       "      <td>1987.0</td>\n",
       "      <td>Woman</td>\n",
       "      <td>African/Black</td>\n",
       "      <td>...</td>\n",
       "      <td>English</td>\n",
       "      <td>English</td>\n",
       "      <td>Sepedi</td>\n",
       "      <td>Sesotho</td>\n",
       "      <td>Setswana</td>\n",
       "      <td>siSwati</td>\n",
       "      <td>Tshivenda</td>\n",
       "      <td>Xitsonga</td>\n",
       "      <td>Afrikaans</td>\n",
       "      <td>English</td>\n",
       "    </tr>\n",
       "    <tr>\n",
       "      <th>freq</th>\n",
       "      <td>7073</td>\n",
       "      <td>282</td>\n",
       "      <td>582</td>\n",
       "      <td>5157</td>\n",
       "      <td>7073</td>\n",
       "      <td>20.00</td>\n",
       "      <td>643</td>\n",
       "      <td>240.0</td>\n",
       "      <td>4314</td>\n",
       "      <td>6047</td>\n",
       "      <td>...</td>\n",
       "      <td>1168</td>\n",
       "      <td>37</td>\n",
       "      <td>13</td>\n",
       "      <td>13</td>\n",
       "      <td>13</td>\n",
       "      <td>13</td>\n",
       "      <td>13</td>\n",
       "      <td>13</td>\n",
       "      <td>13</td>\n",
       "      <td>13</td>\n",
       "    </tr>\n",
       "  </tbody>\n",
       "</table>\n",
       "<p>4 rows × 169 columns</p>\n",
       "</div>"
      ],
      "text/plain": [
       "                   w1_nc_outcome  w1_nc_intrv_c w1_nc_intrv_d w1_nc_intrv_m  \\\n",
       "count                       7073           7073          7073          7073   \n",
       "unique                         1             91            31             2   \n",
       "top     Successfully Interviewed            621          23rd          June   \n",
       "freq                        7073            282           582          5157   \n",
       "\n",
       "        w1_nc_intrv_y  w1_nc_duration w1_nc_dob_m  w1_nc_dob_y w1_nc_gen  \\\n",
       "count            7073         7073.00        7069       7069.0      7067   \n",
       "unique              1         1500.00          14         79.0         2   \n",
       "top              2020           16.08     January       1987.0     Woman   \n",
       "freq             7073           20.00         643        240.0      4314   \n",
       "\n",
       "         w1_nc_popgrp  ... w1_nc_intlng2 w1_nc_intlng3 w1_nc_intlng4  \\\n",
       "count            7073  ...          1308            53            14   \n",
       "unique              7  ...             8             4             2   \n",
       "top     African/Black  ...       English       English        Sepedi   \n",
       "freq             6047  ...          1168            37            13   \n",
       "\n",
       "       w1_nc_intlng5 w1_nc_intlng6 w1_nc_intlng7 w1_nc_intlng8 w1_nc_intlng9  \\\n",
       "count             13            13            13            13            13   \n",
       "unique             1             1             1             1             1   \n",
       "top          Sesotho      Setswana       siSwati     Tshivenda      Xitsonga   \n",
       "freq              13            13            13            13            13   \n",
       "\n",
       "       w1_nc_intlng10 w1_nc_intlng11  \n",
       "count              13             13  \n",
       "unique              1              1  \n",
       "top         Afrikaans        English  \n",
       "freq               13             13  \n",
       "\n",
       "[4 rows x 169 columns]"
      ]
     },
     "execution_count": 6,
     "metadata": {},
     "output_type": "execute_result"
    }
   ],
   "source": [
    "raw.describe()"
   ]
  },
  {
   "cell_type": "markdown",
   "metadata": {},
   "source": [
    "# 1.  Personal data frame"
   ]
  },
  {
   "cell_type": "markdown",
   "metadata": {},
   "source": [
    "First we are going to look at a demographic distribution of the people who took part in the study"
   ]
  },
  {
   "cell_type": "code",
   "execution_count": 7,
   "metadata": {},
   "outputs": [],
   "source": [
    "pdf = pd.DataFrame()"
   ]
  },
  {
   "cell_type": "code",
   "execution_count": 8,
   "metadata": {},
   "outputs": [],
   "source": [
    "pdf['DOB'] = raw['w1_nc_dob_y']"
   ]
  },
  {
   "cell_type": "code",
   "execution_count": 9,
   "metadata": {},
   "outputs": [],
   "source": [
    "pdf['Gender'] = raw['w1_nc_gen']"
   ]
  },
  {
   "cell_type": "code",
   "execution_count": 10,
   "metadata": {},
   "outputs": [],
   "source": [
    "pdf['Race']= raw['w1_nc_popgrp']"
   ]
  },
  {
   "cell_type": "markdown",
   "metadata": {},
   "source": [
    "## EDA Gender"
   ]
  },
  {
   "cell_type": "code",
   "execution_count": 11,
   "metadata": {
    "scrolled": true
   },
   "outputs": [
    {
     "data": {
      "text/plain": [
       "<AxesSubplot:xlabel='Gender', ylabel='count'>"
      ]
     },
     "execution_count": 11,
     "metadata": {},
     "output_type": "execute_result"
    },
    {
     "data": {
      "image/png": "[encoded data removed]",
      "text/plain": [
       "<Figure size 432x288 with 1 Axes>"
      ]
     },
     "metadata": {},
     "output_type": "display_data"
    }
   ],
   "source": [
    "sns.countplot(x='Gender' , data = pdf)"
   ]
  },
  {
   "cell_type": "markdown",
   "metadata": {},
   "source": [
    "## EDA Race"
   ]
  },
  {
   "cell_type": "code",
   "execution_count": 12,
   "metadata": {},
   "outputs": [
    {
     "data": {
      "text/plain": [
       "0"
      ]
     },
     "execution_count": 12,
     "metadata": {},
     "output_type": "execute_result"
    }
   ],
   "source": [
    "pdf.Race.isnull().sum()"
   ]
  },
  {
   "cell_type": "code",
   "execution_count": 13,
   "metadata": {
    "scrolled": false
   },
   "outputs": [
    {
     "data": {
      "text/plain": [
       "['White', 'Asian/Indian', 'African/Black', 'Coloured', 'Refused', 'Don't know', 'Other']\n",
       "Categories (7, object): ['Don't know' < 'Refused' < 'African/Black' < 'Coloured' < 'Asian/Indian' < 'White' < 'Other']"
      ]
     },
     "execution_count": 13,
     "metadata": {},
     "output_type": "execute_result"
    }
   ],
   "source": [
    "pdf.Race.unique()"
   ]
  },
  {
   "cell_type": "markdown",
   "metadata": {},
   "source": [
    "We can see that there are also entries with 'Refused', ' Don't Know' and 'Other' which will not work for our analysis"
   ]
  },
  {
   "cell_type": "code",
   "execution_count": 14,
   "metadata": {
    "scrolled": true
   },
   "outputs": [
    {
     "name": "stdout",
     "output_type": "stream",
     "text": [
      "Refused: 7 \n",
      "Don't Know: 1 \n",
      "Other: 2\n"
     ]
    }
   ],
   "source": [
    "print('Refused:',len(pdf[pdf['Race']=='Refused']), \"\\nDon't Know:\" , len(pdf[pdf['Race']==\"Don't know\"]),\n",
    "                 \"\\nOther:\",len(pdf[pdf['Race']==\"Other\"]))"
   ]
  },
  {
   "cell_type": "markdown",
   "metadata": {},
   "source": [
    "Total is <1% so removing them will not effect the result"
   ]
  },
  {
   "cell_type": "code",
   "execution_count": 248,
   "metadata": {},
   "outputs": [],
   "source": [
    "def replace(x):\n",
    "    if x == \"Other\" or x == \"Don't know\" or x == \"Refused\" or x=='Missing' or x== \"Don't Know\":\n",
    "        return np.NaN\n",
    "    return x"
   ]
  },
  {
   "cell_type": "code",
   "execution_count": 16,
   "metadata": {},
   "outputs": [],
   "source": [
    "pdf.Race = pdf.Race.apply(replace)\n",
    "pdf = pdf[pdf['Race'].notna()]"
   ]
  },
  {
   "cell_type": "code",
   "execution_count": 17,
   "metadata": {
    "scrolled": false
   },
   "outputs": [
    {
     "data": {
      "text/plain": [
       "Text(0.5, 1.0, 'Race Distribution')"
      ]
     },
     "execution_count": 17,
     "metadata": {},
     "output_type": "execute_result"
    },
    {
     "data": {
      "image/png": "[encoded data removed]",
      "text/plain": [
       "<Figure size 720x576 with 1 Axes>"
      ]
     },
     "metadata": {},
     "output_type": "display_data"
    }
   ],
   "source": [
    "plt.figure(figsize=(10,8))\n",
    "sns.countplot(x = 'Race', data = pdf)\n",
    "plt.title('Race Distribution')"
   ]
  },
  {
   "cell_type": "code",
   "execution_count": 18,
   "metadata": {},
   "outputs": [
    {
     "data": {
      "text/plain": [
       "Text(0.5, 1.0, 'Race Distribution, Minorities')"
      ]
     },
     "execution_count": 18,
     "metadata": {},
     "output_type": "execute_result"
    },
    {
     "data": {
      "image/png": "[encoded data removed]",
      "text/plain": [
       "<Figure size 720x576 with 1 Axes>"
      ]
     },
     "metadata": {},
     "output_type": "display_data"
    }
   ],
   "source": [
    "plt.figure(figsize=(10,8))\n",
    "cntplt = sns.countplot(x = 'Race', data = pdf[pdf['Race'] != 'African/Black'])\n",
    "plt.title('Race Distribution, Minorities')"
   ]
  },
  {
   "cell_type": "markdown",
   "metadata": {},
   "source": [
    "We can see that the majority of the participants were African/Black, this distribution would have to be compared to a national distribution to try and see if the sample is a realistic representation of the population."
   ]
  },
  {
   "cell_type": "markdown",
   "metadata": {},
   "source": [
    "## EDA Age"
   ]
  },
  {
   "cell_type": "code",
   "execution_count": 19,
   "metadata": {
    "scrolled": true
   },
   "outputs": [
    {
     "data": {
      "text/plain": [
       "[1981, 1948, 1990, 1972, 1971, ..., 2001, 1999, 2000, 1995, 2002]\n",
       "Length: 80\n",
       "Categories (79, object): [1918 < 1923 < 1925 < 1928 ... 2001 < 2002 < 'Refused' < 'Don't know']"
      ]
     },
     "execution_count": 19,
     "metadata": {},
     "output_type": "execute_result"
    }
   ],
   "source": [
    "pdf.DOB.unique()"
   ]
  },
  {
   "cell_type": "markdown",
   "metadata": {},
   "source": [
    "Again we have 'Refused' and 'Don't know answers'. Lets see how many"
   ]
  },
  {
   "cell_type": "code",
   "execution_count": 20,
   "metadata": {
    "scrolled": true
   },
   "outputs": [
    {
     "name": "stdout",
     "output_type": "stream",
     "text": [
      "Refused: 49 \n",
      "Don't Know: 0\n"
     ]
    }
   ],
   "source": [
    "print('Refused:',len(pdf[pdf['DOB']=='Refused']), \"\\nDon't Know:\" , len(pdf[pdf['Race']==\"Don't know\"]))"
   ]
  },
  {
   "cell_type": "markdown",
   "metadata": {},
   "source": [
    "We only need to get rid of the refused cause there aren't any dont knows"
   ]
  },
  {
   "cell_type": "code",
   "execution_count": 21,
   "metadata": {},
   "outputs": [],
   "source": [
    "pdf.DOB = pdf.DOB.apply(replace)\n",
    "pdf = pdf[pdf['DOB'].notna()]"
   ]
  },
  {
   "cell_type": "markdown",
   "metadata": {},
   "source": [
    "Now we are going to work out their age, in a trivial way that could be expanded to use the date of the interview instead of just the beginning of the year."
   ]
  },
  {
   "cell_type": "code",
   "execution_count": 22,
   "metadata": {},
   "outputs": [],
   "source": [
    "pdf['Age'] = 2020 - pdf.DOB"
   ]
  },
  {
   "cell_type": "code",
   "execution_count": 23,
   "metadata": {},
   "outputs": [
    {
     "data": {
      "text/plain": [
       "Text(0.5, 1.0, 'Age Distribution')"
      ]
     },
     "execution_count": 23,
     "metadata": {},
     "output_type": "execute_result"
    },
    {
     "data": {
      "image/png": "[encoded data removed]",
      "text/plain": [
       "<Figure size 720x576 with 1 Axes>"
      ]
     },
     "metadata": {},
     "output_type": "display_data"
    }
   ],
   "source": [
    "plt.figure(figsize=(10,8))\n",
    "sns.histplot(pdf.Age, bins =30 , color='red', kde =True)\n",
    "plt.title('Age Distribution')"
   ]
  },
  {
   "cell_type": "markdown",
   "metadata": {},
   "source": [
    "# 2. Movement "
   ]
  },
  {
   "cell_type": "markdown",
   "metadata": {},
   "source": [
    "Now let us look at the movement of people when the country first went into lockdown. The P suffix in varaible names is for provinces."
   ]
  },
  {
   "cell_type": "code",
   "execution_count": 24,
   "metadata": {},
   "outputs": [],
   "source": [
    "mdf = pd.DataFrame()"
   ]
  },
  {
   "cell_type": "code",
   "execution_count": 25,
   "metadata": {},
   "outputs": [],
   "source": [
    "mdf['MovedP'] = raw['w1_nc_moveprov']\n",
    "mdf['BeforeP'] = raw['w1_nc_lvbfprov']\n",
    "mdf['DuringP'] = raw['w1_nc_lvdurprov']"
   ]
  },
  {
   "cell_type": "code",
   "execution_count": 26,
   "metadata": {
    "scrolled": true
   },
   "outputs": [
    {
     "data": {
      "text/plain": [
       "375"
      ]
     },
     "execution_count": 26,
     "metadata": {},
     "output_type": "execute_result"
    }
   ],
   "source": [
    "len(mdf[mdf.MovedP=='Yes'])"
   ]
  },
  {
   "cell_type": "code",
   "execution_count": 27,
   "metadata": {},
   "outputs": [],
   "source": [
    "mdf = mdf[mdf.MovedP=='Yes']"
   ]
  },
  {
   "cell_type": "markdown",
   "metadata": {},
   "source": [
    "Let's first look at which province had the most people leaving. Here it is expressed as a percentage of the population "
   ]
  },
  {
   "cell_type": "markdown",
   "metadata": {},
   "source": [
    "We can see that only about 5% of our sample moved but we will conduct a seperate analysis on the people that did move."
   ]
  },
  {
   "cell_type": "code",
   "execution_count": 28,
   "metadata": {},
   "outputs": [],
   "source": [
    "mdf.BeforeP = mdf.BeforeP.apply(replace)"
   ]
  },
  {
   "cell_type": "code",
   "execution_count": 29,
   "metadata": {},
   "outputs": [],
   "source": [
    "mdf = mdf[mdf['BeforeP'].notna()]"
   ]
  },
  {
   "cell_type": "code",
   "execution_count": 30,
   "metadata": {
    "scrolled": false
   },
   "outputs": [
    {
     "data": {
      "text/plain": [
       "MovedP     0\n",
       "BeforeP    0\n",
       "DuringP    0\n",
       "dtype: int64"
      ]
     },
     "execution_count": 30,
     "metadata": {},
     "output_type": "execute_result"
    }
   ],
   "source": [
    "mdf.isnull().sum()"
   ]
  },
  {
   "cell_type": "markdown",
   "metadata": {},
   "source": [
    "Let's look at the percentage of the sample that left each province"
   ]
  },
  {
   "cell_type": "code",
   "execution_count": 31,
   "metadata": {},
   "outputs": [
    {
     "data": {
      "text/plain": [
       "Gauteng                   27.03%\n",
       "KwaZulu-Natal             21.35%\n",
       "Limpopo                   10.81%\n",
       "Eastern Cape              10.27%\n",
       "Mpumalanga                 9.73%\n",
       "Northern Cape              6.22%\n",
       "Western Cape               5.68%\n",
       "Free State                 4.59%\n",
       "North West                 4.05%\n",
       "Outside of South Africa    0.27%\n",
       "Name: BeforeP, dtype: float64"
      ]
     },
     "execution_count": 31,
     "metadata": {},
     "output_type": "execute_result"
    }
   ],
   "source": [
    "pd.options.display.float_format = '{:,.2f}%'.format\n",
    "(mdf['BeforeP'].value_counts()/len(mdf[mdf.MovedP=='Yes']))*100"
   ]
  },
  {
   "cell_type": "code",
   "execution_count": 32,
   "metadata": {},
   "outputs": [
    {
     "data": {
      "text/plain": [
       "Text(0.5, 1.0, 'Leaving Province for Lockdown')"
      ]
     },
     "execution_count": 32,
     "metadata": {},
     "output_type": "execute_result"
    },
    {
     "data": {
      "image/png": "[encoded data removed]",
      "text/plain": [
       "<Figure size 576x576 with 1 Axes>"
      ]
     },
     "metadata": {},
     "output_type": "display_data"
    }
   ],
   "source": [
    "lost = mdf.BeforeP.value_counts()\n",
    "lost.plot(kind='pie',figsize=(8,8))\n",
    "plt.title('Leaving Province for Lockdown', fontsize=20)\n"
   ]
  },
  {
   "cell_type": "markdown",
   "metadata": {},
   "source": [
    "And then we can look at which provinces gained the most people."
   ]
  },
  {
   "cell_type": "code",
   "execution_count": 33,
   "metadata": {},
   "outputs": [
    {
     "data": {
      "text/plain": [
       "KwaZulu-Natal             22.43%\n",
       "Gauteng                   21.08%\n",
       "Limpopo                   12.70%\n",
       "Mpumalanga                12.43%\n",
       "Eastern Cape              11.08%\n",
       "Northern Cape              6.76%\n",
       "Western Cape               5.68%\n",
       "Free State                 4.32%\n",
       "North West                 2.97%\n",
       "Outside of South Africa    0.27%\n",
       "Refused                    0.27%\n",
       "Name: DuringP, dtype: float64"
      ]
     },
     "execution_count": 33,
     "metadata": {},
     "output_type": "execute_result"
    }
   ],
   "source": [
    "pd.options.display.float_format = '{:,.2f}%'.format\n",
    "(mdf['DuringP'].value_counts()/len(mdf[mdf.MovedP=='Yes']))*100"
   ]
  },
  {
   "cell_type": "code",
   "execution_count": 34,
   "metadata": {},
   "outputs": [
    {
     "data": {
      "text/plain": [
       "Text(0.5, 1.0, 'Entering Province for lockdown')"
      ]
     },
     "execution_count": 34,
     "metadata": {},
     "output_type": "execute_result"
    },
    {
     "data": {
      "image/png": "[encoded data removed]",
      "text/plain": [
       "<Figure size 576x576 with 1 Axes>"
      ]
     },
     "metadata": {},
     "output_type": "display_data"
    }
   ],
   "source": [
    "gained = mdf['DuringP'].value_counts()\n",
    "gained.plot(kind='pie',figsize=(8,8))\n",
    "plt.title('Entering Province for lockdown', fontsize=20)\n"
   ]
  },
  {
   "cell_type": "markdown",
   "metadata": {},
   "source": [
    "We can see that Gauteng and Kwa Zulu Natal experienced the greatest fluctuations but what were the differences in population "
   ]
  },
  {
   "cell_type": "code",
   "execution_count": 35,
   "metadata": {},
   "outputs": [
    {
     "data": {
      "text/plain": [
       "<AxesSubplot:>"
      ]
     },
     "execution_count": 35,
     "metadata": {},
     "output_type": "execute_result"
    },
    {
     "data": {
      "image/png": "[encoded data removed]",
      "text/plain": [
       "<Figure size 720x720 with 1 Axes>"
      ]
     },
     "metadata": {},
     "output_type": "display_data"
    }
   ],
   "source": [
    "plt.figure(figsize=(10,10))\n",
    "perc_change = gained-lost\n",
    "perc_change.plot(kind='bar')"
   ]
  },
  {
   "cell_type": "markdown",
   "metadata": {},
   "source": [
    "So although Gauteng and KwaZulu-Natal had a lot of people leaving and entering, Gauteng exprienced the greatest decline in population which is to be expected as a lot of people would have been in the city for work but have family and/or a home outside of the province."
   ]
  },
  {
   "cell_type": "markdown",
   "metadata": {},
   "source": [
    "# 3. Hand Hygiene"
   ]
  },
  {
   "cell_type": "markdown",
   "metadata": {},
   "source": [
    "One of the most effective ways to reduce your chances of contracting the COVID19 virus was by washing your hands, but how many people actually had a clean water source to their house? And how many were able to get water to wash their hands?"
   ]
  },
  {
   "cell_type": "code",
   "execution_count": 61,
   "metadata": {},
   "outputs": [],
   "source": [
    "hdf = pd.DataFrame()"
   ]
  },
  {
   "cell_type": "code",
   "execution_count": 62,
   "metadata": {},
   "outputs": [],
   "source": [
    "hdf['HasWaterSource'] = raw['w1_nc_watsrc']"
   ]
  },
  {
   "cell_type": "code",
   "execution_count": 63,
   "metadata": {},
   "outputs": [],
   "source": [
    "hdf['CouldWashHands'] = raw['w1_nc_watwsh']"
   ]
  },
  {
   "cell_type": "markdown",
   "metadata": {},
   "source": [
    "Here we can see the combinations of each option "
   ]
  },
  {
   "cell_type": "code",
   "execution_count": 67,
   "metadata": {},
   "outputs": [
    {
     "data": {
      "text/plain": [
       "HasWaterSource  CouldWashHands\n",
       "Yes             Yes               5264\n",
       "No              Yes               1504\n",
       "                No                 153\n",
       "Yes             No                 139\n",
       "                Don't know           6\n",
       "Refused         Yes                  2\n",
       "                Refused              2\n",
       "No              Don't know           1\n",
       "Yes             Refused              1\n",
       "Refused         No                   1\n",
       "dtype: int64"
      ]
     },
     "execution_count": 67,
     "metadata": {},
     "output_type": "execute_result"
    }
   ],
   "source": [
    "hdf.value_counts()"
   ]
  },
  {
   "cell_type": "code",
   "execution_count": 68,
   "metadata": {},
   "outputs": [],
   "source": [
    "hdf.HasWaterSource = hdf.HasWaterSource.apply(replace)\n",
    "hdf = hdf[hdf['HasWaterSource'].notna()]"
   ]
  },
  {
   "cell_type": "code",
   "execution_count": 69,
   "metadata": {},
   "outputs": [
    {
     "data": {
      "text/plain": [
       "<AxesSubplot:xlabel='HasWaterSource', ylabel='count'>"
      ]
     },
     "execution_count": 69,
     "metadata": {},
     "output_type": "execute_result"
    },
    {
     "data": {
      "image/png": "[encoded data removed]",
      "text/plain": [
       "<Figure size 432x288 with 1 Axes>"
      ]
     },
     "metadata": {},
     "output_type": "display_data"
    }
   ],
   "source": [
    "sns.countplot(x='HasWaterSource',data=hdf)"
   ]
  },
  {
   "cell_type": "code",
   "execution_count": 70,
   "metadata": {},
   "outputs": [
    {
     "data": {
      "text/plain": [
       "Yes    5410\n",
       "No     1658\n",
       "Name: HasWaterSource, dtype: int64"
      ]
     },
     "execution_count": 70,
     "metadata": {},
     "output_type": "execute_result"
    }
   ],
   "source": [
    "hdf.HasWaterSource.value_counts()"
   ]
  },
  {
   "cell_type": "code",
   "execution_count": 71,
   "metadata": {},
   "outputs": [
    {
     "data": {
      "text/plain": [
       "Yes   76.54%\n",
       "No    23.46%\n",
       "Name: HasWaterSource, dtype: float64"
      ]
     },
     "execution_count": 71,
     "metadata": {},
     "output_type": "execute_result"
    }
   ],
   "source": [
    "hdf.HasWaterSource.value_counts()/len(hdf)*100"
   ]
  },
  {
   "cell_type": "markdown",
   "metadata": {},
   "source": [
    "This shows that 23.46% of the sample did not a water source to their houses"
   ]
  },
  {
   "cell_type": "code",
   "execution_count": 73,
   "metadata": {},
   "outputs": [],
   "source": [
    "hdf.CouldWashHands = hdf.CouldWashHands.apply(replace)\n",
    "hdf = hdf[hdf['CouldWashHands'].notna()]"
   ]
  },
  {
   "cell_type": "code",
   "execution_count": 74,
   "metadata": {},
   "outputs": [
    {
     "data": {
      "text/plain": [
       "<AxesSubplot:xlabel='CouldWashHands', ylabel='count'>"
      ]
     },
     "execution_count": 74,
     "metadata": {},
     "output_type": "execute_result"
    },
    {
     "data": {
      "image/png": "[encoded data removed]",
      "text/plain": [
       "<Figure size 432x288 with 1 Axes>"
      ]
     },
     "metadata": {},
     "output_type": "display_data"
    }
   ],
   "source": [
    "sns.countplot(x='CouldWashHands',data=hdf)"
   ]
  },
  {
   "cell_type": "code",
   "execution_count": 75,
   "metadata": {},
   "outputs": [
    {
     "data": {
      "text/plain": [
       "Yes   95.86%\n",
       "No     4.14%\n",
       "Name: CouldWashHands, dtype: float64"
      ]
     },
     "execution_count": 75,
     "metadata": {},
     "output_type": "execute_result"
    }
   ],
   "source": [
    "hdf.CouldWashHands.value_counts()/len(hdf)*100"
   ]
  },
  {
   "cell_type": "markdown",
   "metadata": {},
   "source": [
    "Here we can seee that although most people were able to access water to wash their hands, 4% of the population was still not able to.}"
   ]
  },
  {
   "cell_type": "markdown",
   "metadata": {},
   "source": [
    "# 4. Labour - Individuals"
   ]
  },
  {
   "cell_type": "markdown",
   "metadata": {},
   "source": [
    "This is probably where we will find the most valuable information and be able to make inferences about COVID's effect on the labour of our country,"
   ]
  },
  {
   "cell_type": "code",
   "execution_count": 131,
   "metadata": {},
   "outputs": [],
   "source": [
    "lbdf = pd.DataFrame()"
   ]
  },
  {
   "cell_type": "code",
   "execution_count": 132,
   "metadata": {},
   "outputs": [],
   "source": [
    "#Did they work? FEB\n",
    "lbdf['EmpFeb'] = raw['w1_nc_em_feb']\n",
    "lbdf['AnyWorkFeb'] = raw['w1_nc_emany_feb']\n",
    "lbdf['AnyBusinessFeb']= raw['w1_nc_ems_feb']\n",
    "\n",
    "\n",
    "#How much did they work? FEB\n",
    "lbdf['WorkDaysFeb'] = raw['w1_nc_emdays_feb']\n",
    "lbdf['WorkHoursFeb'] = raw['w1_nc_emhrs_feb']\n",
    "\n",
    "#How much were they paid? FEB\n",
    "lbdf['IncomeFeb'] = raw['w1_nc_eminc_feb']"
   ]
  },
  {
   "cell_type": "markdown",
   "metadata": {},
   "source": [
    "Now we can look at these figures again in April after Wave 1."
   ]
  },
  {
   "cell_type": "code",
   "execution_count": 217,
   "metadata": {},
   "outputs": [],
   "source": [
    "lbdf['EmpApr'] = raw['w1_nc_em_apr']\n",
    "lbdf['AnyWorkApr'] = raw['w1_nc_emany_apr']\n",
    "lbdf['AnyBusinessApr']= raw['w1_nc_ems_apr']\n",
    "\n",
    "\n",
    "#How much did they work? APRIL\n",
    "lbdf['WorkDaysApr'] = raw['w1_nc_emdays_apr']\n",
    "lbdf['WorkHoursApr'] = raw['w1_nc_emhrs_apr']\n",
    "\n",
    "#How much were they paid? APRIL\n",
    "lbdf['IncomeApr'] = raw['w1_nc_eminc_apr']\n",
    "\n",
    "#Do they have work to return to in the next 4 weeks?\n",
    "lbdf['Return'] = raw['w1_nc_emreturn']"
   ]
  },
  {
   "cell_type": "code",
   "execution_count": 218,
   "metadata": {},
   "outputs": [
    {
     "data": {
      "text/html": [
       "<div>\n",
       "<style scoped>\n",
       "    .dataframe tbody tr th:only-of-type {\n",
       "        vertical-align: middle;\n",
       "    }\n",
       "\n",
       "    .dataframe tbody tr th {\n",
       "        vertical-align: top;\n",
       "    }\n",
       "\n",
       "    .dataframe thead th {\n",
       "        text-align: right;\n",
       "    }\n",
       "</style>\n",
       "<table border=\"1\" class=\"dataframe\">\n",
       "  <thead>\n",
       "    <tr style=\"text-align: right;\">\n",
       "      <th></th>\n",
       "      <th>EmpFeb</th>\n",
       "      <th>AnyWorkFeb</th>\n",
       "      <th>AnyBusinessFeb</th>\n",
       "      <th>WorkDaysFeb</th>\n",
       "      <th>WorkHoursFeb</th>\n",
       "      <th>IncomeFeb</th>\n",
       "      <th>EmpApr</th>\n",
       "      <th>AnyWorkApr</th>\n",
       "      <th>AnyBusinessApr</th>\n",
       "      <th>WorkDaysApr</th>\n",
       "      <th>WorkHoursApr</th>\n",
       "      <th>Return</th>\n",
       "      <th>IncomeApr</th>\n",
       "    </tr>\n",
       "  </thead>\n",
       "  <tbody>\n",
       "    <tr>\n",
       "      <th>0</th>\n",
       "      <td>Yes</td>\n",
       "      <td>NaN</td>\n",
       "      <td>NaN</td>\n",
       "      <td>Donât know</td>\n",
       "      <td>NaN</td>\n",
       "      <td>NaN</td>\n",
       "      <td>No</td>\n",
       "      <td>No</td>\n",
       "      <td>No - I did nothing</td>\n",
       "      <td>NaN</td>\n",
       "      <td>NaN</td>\n",
       "      <td>Don't know</td>\n",
       "      <td>NaN</td>\n",
       "    </tr>\n",
       "    <tr>\n",
       "      <th>1</th>\n",
       "      <td>No, I'm retired</td>\n",
       "      <td>NaN</td>\n",
       "      <td>NaN</td>\n",
       "      <td>NaN</td>\n",
       "      <td>NaN</td>\n",
       "      <td>NaN</td>\n",
       "      <td>NaN</td>\n",
       "      <td>NaN</td>\n",
       "      <td>NaN</td>\n",
       "      <td>NaN</td>\n",
       "      <td>NaN</td>\n",
       "      <td>NaN</td>\n",
       "      <td>NaN</td>\n",
       "    </tr>\n",
       "    <tr>\n",
       "      <th>2</th>\n",
       "      <td>No</td>\n",
       "      <td>No</td>\n",
       "      <td>No - I did nothing</td>\n",
       "      <td>NaN</td>\n",
       "      <td>NaN</td>\n",
       "      <td>NaN</td>\n",
       "      <td>No</td>\n",
       "      <td>No</td>\n",
       "      <td>No - I did nothing</td>\n",
       "      <td>NaN</td>\n",
       "      <td>NaN</td>\n",
       "      <td>No</td>\n",
       "      <td>NaN</td>\n",
       "    </tr>\n",
       "    <tr>\n",
       "      <th>3</th>\n",
       "      <td>Yes</td>\n",
       "      <td>NaN</td>\n",
       "      <td>NaN</td>\n",
       "      <td>3</td>\n",
       "      <td>5</td>\n",
       "      <td>NaN</td>\n",
       "      <td>No</td>\n",
       "      <td>No</td>\n",
       "      <td>No - I did nothing</td>\n",
       "      <td>5</td>\n",
       "      <td>5</td>\n",
       "      <td>Yes</td>\n",
       "      <td>NaN</td>\n",
       "    </tr>\n",
       "    <tr>\n",
       "      <th>4</th>\n",
       "      <td>No</td>\n",
       "      <td>No</td>\n",
       "      <td>No - I did nothing</td>\n",
       "      <td>NaN</td>\n",
       "      <td>NaN</td>\n",
       "      <td>NaN</td>\n",
       "      <td>No</td>\n",
       "      <td>No</td>\n",
       "      <td>No - I did nothing</td>\n",
       "      <td>NaN</td>\n",
       "      <td>NaN</td>\n",
       "      <td>No</td>\n",
       "      <td>NaN</td>\n",
       "    </tr>\n",
       "    <tr>\n",
       "      <th>...</th>\n",
       "      <td>...</td>\n",
       "      <td>...</td>\n",
       "      <td>...</td>\n",
       "      <td>...</td>\n",
       "      <td>...</td>\n",
       "      <td>...</td>\n",
       "      <td>...</td>\n",
       "      <td>...</td>\n",
       "      <td>...</td>\n",
       "      <td>...</td>\n",
       "      <td>...</td>\n",
       "      <td>...</td>\n",
       "      <td>...</td>\n",
       "    </tr>\n",
       "    <tr>\n",
       "      <th>7068</th>\n",
       "      <td>No</td>\n",
       "      <td>No</td>\n",
       "      <td>No - I did nothing</td>\n",
       "      <td>NaN</td>\n",
       "      <td>NaN</td>\n",
       "      <td>NaN</td>\n",
       "      <td>No</td>\n",
       "      <td>No</td>\n",
       "      <td>No - I did nothing</td>\n",
       "      <td>NaN</td>\n",
       "      <td>NaN</td>\n",
       "      <td>No</td>\n",
       "      <td>NaN</td>\n",
       "    </tr>\n",
       "    <tr>\n",
       "      <th>7069</th>\n",
       "      <td>No</td>\n",
       "      <td>No</td>\n",
       "      <td>No - I did nothing</td>\n",
       "      <td>NaN</td>\n",
       "      <td>NaN</td>\n",
       "      <td>NaN</td>\n",
       "      <td>No</td>\n",
       "      <td>No</td>\n",
       "      <td>No - I did nothing</td>\n",
       "      <td>NaN</td>\n",
       "      <td>NaN</td>\n",
       "      <td>No</td>\n",
       "      <td>NaN</td>\n",
       "    </tr>\n",
       "    <tr>\n",
       "      <th>7070</th>\n",
       "      <td>No</td>\n",
       "      <td>No</td>\n",
       "      <td>No - I did nothing</td>\n",
       "      <td>NaN</td>\n",
       "      <td>NaN</td>\n",
       "      <td>NaN</td>\n",
       "      <td>No</td>\n",
       "      <td>No</td>\n",
       "      <td>No - I did nothing</td>\n",
       "      <td>NaN</td>\n",
       "      <td>NaN</td>\n",
       "      <td>No</td>\n",
       "      <td>NaN</td>\n",
       "    </tr>\n",
       "    <tr>\n",
       "      <th>7071</th>\n",
       "      <td>No</td>\n",
       "      <td>No</td>\n",
       "      <td>No - I did nothing</td>\n",
       "      <td>NaN</td>\n",
       "      <td>NaN</td>\n",
       "      <td>NaN</td>\n",
       "      <td>No</td>\n",
       "      <td>No</td>\n",
       "      <td>No - I did nothing</td>\n",
       "      <td>NaN</td>\n",
       "      <td>NaN</td>\n",
       "      <td>No</td>\n",
       "      <td>NaN</td>\n",
       "    </tr>\n",
       "    <tr>\n",
       "      <th>7072</th>\n",
       "      <td>No</td>\n",
       "      <td>No</td>\n",
       "      <td>No - I did nothing</td>\n",
       "      <td>NaN</td>\n",
       "      <td>NaN</td>\n",
       "      <td>NaN</td>\n",
       "      <td>No</td>\n",
       "      <td>No</td>\n",
       "      <td>No - I did nothing</td>\n",
       "      <td>NaN</td>\n",
       "      <td>NaN</td>\n",
       "      <td>No</td>\n",
       "      <td>NaN</td>\n",
       "    </tr>\n",
       "  </tbody>\n",
       "</table>\n",
       "<p>7073 rows × 13 columns</p>\n",
       "</div>"
      ],
      "text/plain": [
       "               EmpFeb AnyWorkFeb      AnyBusinessFeb   WorkDaysFeb  \\\n",
       "0                 Yes        NaN                 NaN  Donât know   \n",
       "1     No, I'm retired        NaN                 NaN           NaN   \n",
       "2                  No         No  No - I did nothing           NaN   \n",
       "3                 Yes        NaN                 NaN             3   \n",
       "4                  No         No  No - I did nothing           NaN   \n",
       "...               ...        ...                 ...           ...   \n",
       "7068               No         No  No - I did nothing           NaN   \n",
       "7069               No         No  No - I did nothing           NaN   \n",
       "7070               No         No  No - I did nothing           NaN   \n",
       "7071               No         No  No - I did nothing           NaN   \n",
       "7072               No         No  No - I did nothing           NaN   \n",
       "\n",
       "     WorkHoursFeb IncomeFeb EmpApr AnyWorkApr      AnyBusinessApr WorkDaysApr  \\\n",
       "0             NaN       NaN     No         No  No - I did nothing         NaN   \n",
       "1             NaN       NaN    NaN        NaN                 NaN         NaN   \n",
       "2             NaN       NaN     No         No  No - I did nothing         NaN   \n",
       "3               5       NaN     No         No  No - I did nothing           5   \n",
       "4             NaN       NaN     No         No  No - I did nothing         NaN   \n",
       "...           ...       ...    ...        ...                 ...         ...   \n",
       "7068          NaN       NaN     No         No  No - I did nothing         NaN   \n",
       "7069          NaN       NaN     No         No  No - I did nothing         NaN   \n",
       "7070          NaN       NaN     No         No  No - I did nothing         NaN   \n",
       "7071          NaN       NaN     No         No  No - I did nothing         NaN   \n",
       "7072          NaN       NaN     No         No  No - I did nothing         NaN   \n",
       "\n",
       "     WorkHoursApr      Return IncomeApr  \n",
       "0             NaN  Don't know       NaN  \n",
       "1             NaN         NaN       NaN  \n",
       "2             NaN          No       NaN  \n",
       "3               5         Yes       NaN  \n",
       "4             NaN          No       NaN  \n",
       "...           ...         ...       ...  \n",
       "7068          NaN          No       NaN  \n",
       "7069          NaN          No       NaN  \n",
       "7070          NaN          No       NaN  \n",
       "7071          NaN          No       NaN  \n",
       "7072          NaN          No       NaN  \n",
       "\n",
       "[7073 rows x 13 columns]"
      ]
     },
     "execution_count": 218,
     "metadata": {},
     "output_type": "execute_result"
    }
   ],
   "source": [
    "lbdf"
   ]
  },
  {
   "cell_type": "markdown",
   "metadata": {},
   "source": [
    "Let's first look at what happened to employment"
   ]
  },
  {
   "cell_type": "code",
   "execution_count": 219,
   "metadata": {},
   "outputs": [
    {
     "data": {
      "text/plain": [
       "No            1364\n",
       "Yes           1282\n",
       "Refused          8\n",
       "Don't know       4\n",
       "Name: EmpApr, dtype: int64"
      ]
     },
     "execution_count": 219,
     "metadata": {},
     "output_type": "execute_result"
    }
   ],
   "source": [
    "empdf = lbdf[(lbdf.EmpFeb=='Yes')]\n",
    "empdf.EmpApr.value_counts() #We only have 8 Refused and 4 Don't Knows we can get rid of "
   ]
  },
  {
   "cell_type": "code",
   "execution_count": 224,
   "metadata": {},
   "outputs": [],
   "source": [
    "empdf.EmpApr = empdf.EmpApr.apply(replace)"
   ]
  },
  {
   "cell_type": "code",
   "execution_count": 225,
   "metadata": {},
   "outputs": [
    {
     "name": "stdout",
     "output_type": "stream",
     "text": [
      "51.32%\n"
     ]
    }
   ],
   "source": [
    "print(str(np.round((len(empdf[empdf.EmpApr=='No'])/len(empdf))*100, decimals=2)) + \"%\")"
   ]
  },
  {
   "cell_type": "markdown",
   "metadata": {},
   "source": [
    "That means **51.32%** of the people in the sample who were employed in february had lost their jobs by april"
   ]
  },
  {
   "cell_type": "code",
   "execution_count": 226,
   "metadata": {},
   "outputs": [
    {
     "data": {
      "text/plain": [
       "<AxesSubplot:ylabel='EmpApr'>"
      ]
     },
     "execution_count": 226,
     "metadata": {},
     "output_type": "execute_result"
    },
    {
     "data": {
      "image/png": "[encoded data removed]",
      "text/plain": [
       "<Figure size 432x288 with 1 Axes>"
      ]
     },
     "metadata": {},
     "output_type": "display_data"
    }
   ],
   "source": [
    "empdf.EmpApr.value_counts().plot(kind='pie')"
   ]
  },
  {
   "cell_type": "markdown",
   "metadata": {},
   "source": [
    "But how many of them had work they could return to? "
   ]
  },
  {
   "cell_type": "code",
   "execution_count": 227,
   "metadata": {},
   "outputs": [],
   "source": [
    "lostjobsdf = empdf[(empdf.EmpApr=='No')|(empdf.EmpApr==\"Don't Know\")]"
   ]
  },
  {
   "cell_type": "code",
   "execution_count": 228,
   "metadata": {},
   "outputs": [
    {
     "data": {
      "text/plain": [
       "37.1"
      ]
     },
     "execution_count": 228,
     "metadata": {},
     "output_type": "execute_result"
    }
   ],
   "source": [
    "np.round((len(lostjobsdf[lostjobsdf['Return']=='No'])/len(lostjobsdf))*100,decimals=1)"
   ]
  },
  {
   "cell_type": "markdown",
   "metadata": {},
   "source": [
    "That means of the **51.32%** of the people in the sample who were employed in february had lost their jobs by april, **37.1%** of them did not have work to return to."
   ]
  },
  {
   "cell_type": "markdown",
   "metadata": {},
   "source": [
    "And for those lucky enough to keep their jobs what happened to their income?"
   ]
  },
  {
   "cell_type": "code",
   "execution_count": 249,
   "metadata": {},
   "outputs": [],
   "source": [
    "keptjobs = empdf[empdf.EmpApr=='Yes'][['IncomeFeb','IncomeApr']]"
   ]
  },
  {
   "cell_type": "code",
   "execution_count": 250,
   "metadata": {},
   "outputs": [],
   "source": [
    "keptjobs.IncomeFeb = keptjobs.IncomeFeb.apply(replace)"
   ]
  },
  {
   "cell_type": "code",
   "execution_count": 251,
   "metadata": {},
   "outputs": [],
   "source": [
    "keptjobs.IncomeApr = keptjobs.IncomeApr.apply(replace)"
   ]
  },
  {
   "cell_type": "code",
   "execution_count": 257,
   "metadata": {},
   "outputs": [
    {
     "data": {
      "text/plain": [
       "0.0"
      ]
     },
     "execution_count": 257,
     "metadata": {},
     "output_type": "execute_result"
    }
   ],
   "source": [
    "keptjobs = keptjobs[keptjobs['IncomeFeb'].notna()]\n",
    "keptjobs['Difference'] = keptjobs['IncomeFeb']- keptjobs['IncomeApr']\n",
    "keptjobs.Difference.mean()"
   ]
  },
  {
   "cell_type": "markdown",
   "metadata": {},
   "source": [
    "So at this point it seems that people were not taking paycuts just yet. Could be interesting to see the distribution of incomes"
   ]
  },
  {
   "cell_type": "code",
   "execution_count": 259,
   "metadata": {},
   "outputs": [
    {
     "data": {
      "text/plain": [
       "<AxesSubplot:xlabel='IncomeFeb', ylabel='Count'>"
      ]
     },
     "execution_count": 259,
     "metadata": {},
     "output_type": "execute_result"
    },
    {
     "data": {
      "image/png": "[encoded data removed]",
      "text/plain": [
       "<Figure size 432x288 with 1 Axes>"
      ]
     },
     "metadata": {},
     "output_type": "display_data"
    }
   ],
   "source": [
    "sns.histplot(x='IncomeFeb', data=keptjobs) #Defintiely some outliers"
   ]
  },
  {
   "cell_type": "markdown",
   "metadata": {},
   "source": [
    "By removing just the top 1% of income we can see how this effects the distribution."
   ]
  },
  {
   "cell_type": "code",
   "execution_count": 267,
   "metadata": {},
   "outputs": [],
   "source": [
    "less_outliers = keptjobs[keptjobs.IncomeFeb<=keptjobs.IncomeFeb.quantile(0.99)]"
   ]
  },
  {
   "cell_type": "code",
   "execution_count": 268,
   "metadata": {},
   "outputs": [
    {
     "data": {
      "text/plain": [
       "<AxesSubplot:xlabel='IncomeFeb', ylabel='Count'>"
      ]
     },
     "execution_count": 268,
     "metadata": {},
     "output_type": "execute_result"
    },
    {
     "data": {
      "image/png": "[encoded data removed]",
      "text/plain": [
       "<Figure size 432x288 with 1 Axes>"
      ]
     },
     "metadata": {},
     "output_type": "display_data"
    }
   ],
   "source": [
    "sns.histplot(x='IncomeFeb',data = less_outliers)"
   ]
  },
  {
   "cell_type": "markdown",
   "metadata": {},
   "source": [
    "I think exploring the correlation between a person's age, their highest grade , whether or not they have completed tertiary education, their occupational code(what line of work they are in) with their employment status to work out the likelihood that they would have lost their job."
   ]
  },
  {
   "cell_type": "markdown",
   "metadata": {},
   "source": [
    "I think having each of the analysis I have done so far compared next to one another one a single set of axis would be helpful. Should probably also think of inferences that can be made across waves."
   ]
  },
  {
   "cell_type": "markdown",
   "metadata": {},
   "source": [
    "# 5. Labour - Businesses "
   ]
  },
  {
   "cell_type": "code",
   "execution_count": null,
   "metadata": {},
   "outputs": [],
   "source": []
  }
 ],
 "metadata": {
  "kernelspec": {
   "display_name": "Python 3",
   "language": "python",
   "name": "python3"
  },
  "language_info": {
   "codemirror_mode": {
    "name": "ipython",
    "version": 3
   },
   "file_extension": ".py",
   "mimetype": "text/x-python",
   "name": "python",
   "nbconvert_exporter": "python",
   "pygments_lexer": "ipython3",
   "version": "3.8.5"
  }
 },
 "nbformat": 4,
 "nbformat_minor": 4
}
