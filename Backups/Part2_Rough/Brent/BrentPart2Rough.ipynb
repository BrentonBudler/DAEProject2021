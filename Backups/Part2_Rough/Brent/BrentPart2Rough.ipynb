{
 "cells": [
  {
   "cell_type": "markdown",
   "metadata": {
    "toc": true
   },
   "source": [
    "<h1>Table of Contents<span class=\"tocSkip\"></span></h1>\n",
    "<div class=\"toc\"><ul class=\"toc-item\"><li><span><a href=\"#Model-Fitting\" data-toc-modified-id=\"Model-Fitting-1\">Model Fitting</a></span><ul class=\"toc-item\"><li><span><a href=\"#Description-of-Model\" data-toc-modified-id=\"Description-of-Model-1.1\">Description of Model</a></span></li></ul></li><li><span><a href=\"#Description-of-Methodology\" data-toc-modified-id=\"Description-of-Methodology-2\">Description of Methodology</a></span></li><li><span><a href=\"#Reasonable-Assumptions\" data-toc-modified-id=\"Reasonable-Assumptions-3\">Reasonable Assumptions</a></span></li><li><span><a href=\"#Data-Preprocessing\" data-toc-modified-id=\"Data-Preprocessing-4\">Data Preprocessing</a></span><ul class=\"toc-item\"><li><span><a href=\"#Feature-Generation\" data-toc-modified-id=\"Feature-Generation-4.1\">Feature Generation</a></span></li><li><span><a href=\"#Data-encoding\" data-toc-modified-id=\"Data-encoding-4.2\">Data encoding</a></span></li><li><span><a href=\"#Age\" data-toc-modified-id=\"Age-4.3\">Age</a></span></li><li><span><a href=\"#Gender\" data-toc-modified-id=\"Gender-4.4\">Gender</a></span></li><li><span><a href=\"#Race\" data-toc-modified-id=\"Race-4.5\">Race</a></span></li><li><span><a href=\"#Highest-Grade\" data-toc-modified-id=\"Highest-Grade-4.6\">Highest Grade</a></span></li><li><span><a href=\"#Tertiary-education\" data-toc-modified-id=\"Tertiary-education-4.7\">Tertiary education</a></span></li><li><span><a href=\"#Province\" data-toc-modified-id=\"Province-4.8\">Province</a></span></li><li><span><a href=\"#Moved-Province\" data-toc-modified-id=\"Moved-Province-4.9\">Moved Province</a></span></li><li><span><a href=\"#Labour-features\" data-toc-modified-id=\"Labour-features-4.10\">Labour features</a></span></li><li><span><a href=\"#Ensuring-data-is-balanced\" data-toc-modified-id=\"Ensuring-data-is-balanced-4.11\">Ensuring data is balanced</a></span></li><li><span><a href=\"#Model-construction\" data-toc-modified-id=\"Model-construction-4.12\">Model construction</a></span></li><li><span><a href=\"#Data-Splitting\" data-toc-modified-id=\"Data-Splitting-4.13\">Data Splitting</a></span></li><li><span><a href=\"#Model-Implementation\" data-toc-modified-id=\"Model-Implementation-4.14\">Model Implementation</a></span></li><li><span><a href=\"#Model-Selection-using-recursive-feature-elimination-with-cross-validation\" data-toc-modified-id=\"Model-Selection-using-recursive-feature-elimination-with-cross-validation-4.15\">Model Selection using recursive feature elimination with cross-validation</a></span></li></ul></li><li><span><a href=\"#Hypothesis-Testing\" data-toc-modified-id=\"Hypothesis-Testing-5\">Hypothesis Testing</a></span></li></ul></div>"
   ]
  },
  {
   "cell_type": "markdown",
   "metadata": {},
   "source": [
    "# Brent Part 2 Rough Submission"
   ]
  },
  {
   "cell_type": "code",
   "execution_count": 1,
   "metadata": {},
   "outputs": [],
   "source": [
    "import numpy as np \n",
    "import pandas as pd \n",
    "import seaborn as sns \n",
    "import matplotlib.pyplot as plt \n",
    "\n",
    "from sklearn.model_selection import train_test_split\n",
    "from sklearn.linear_model import LogisticRegression\n",
    "from sklearn.metrics import accuracy_score\n",
    "from sklearn.metrics import plot_confusion_matrix\n",
    "from sklearn.feature_selection import RFECV"
   ]
  },
  {
   "cell_type": "code",
   "execution_count": 2,
   "metadata": {},
   "outputs": [],
   "source": [
    "lab = pd.read_csv(\"../Dino/Demographics.csv\",)\n",
    "dem = pd.read_csv(\"../Dino/Labour.csv\")"
   ]
  },
  {
   "cell_type": "code",
   "execution_count": 3,
   "metadata": {},
   "outputs": [],
   "source": [
    "df = pd.concat([dem,lab],axis=1)"
   ]
  },
  {
   "cell_type": "markdown",
   "metadata": {},
   "source": [
    "## Model Fitting "
   ]
  },
  {
   "cell_type": "markdown",
   "metadata": {},
   "source": [
    "### Description of Model "
   ]
  },
  {
   "cell_type": "markdown",
   "metadata": {},
   "source": [
    "In order to further explore the effect of COVID-19 on the labour in South Africa, we propose a model that will attempt to predict whether or not someone would lose their job in the period of Feb 2020 - Apr 2020 due to COVID-19 and the resulting mandated lockdown. The model will be constructed using features from both the Demographics and the Labour section of the survey."
   ]
  },
  {
   "cell_type": "markdown",
   "metadata": {},
   "source": [
    "## Description of Methodology"
   ]
  },
  {
   "cell_type": "markdown",
   "metadata": {},
   "source": [
    "Our model construction begins by first ensuring that the data is in the correct tiday format. Thereafter we do further data cleaning to deal with missing or erroneous values. Once the data is cleaned we encode the necessary varaibles using binary and one-hot encoding. \n",
    "\n",
    "The initial model is built using a selection of varaibles that we select using prior knowledge (outlined below). We then evaluate this models performance using various statistical measures. Once this evaluation is complete we  construct a different model using the feature selection technique of Recursive Feature Elimination and compare it's performance to our initial model."
   ]
  },
  {
   "cell_type": "markdown",
   "metadata": {},
   "source": [
    "## Reasonable Assumptions"
   ]
  },
  {
   "cell_type": "markdown",
   "metadata": {},
   "source": [
    "* If a respondent has a missing value for tertairy education, we can assume that they do not have a tertiary education.\n",
    "* If a respondent did not change provinces during the lockdown period then the province they are staying in at the time of the interveiw is the same as the one they were staying in before lockdown"
   ]
  },
  {
   "cell_type": "markdown",
   "metadata": {},
   "source": [
    "## Data Preprocessing"
   ]
  },
  {
   "cell_type": "markdown",
   "metadata": {},
   "source": [
    "It is important to note that this model will attempt to predict whether or not someone would lose their opportunity for work due to the COVID19 pandemic, therefore we will reduce our sample to a sample containing only those respondents who had work beforehand."
   ]
  },
  {
   "cell_type": "code",
   "execution_count": 4,
   "metadata": {},
   "outputs": [],
   "source": [
    "df = df[df.labour_in_feb==1]"
   ]
  },
  {
   "cell_type": "markdown",
   "metadata": {},
   "source": [
    "### Feature Generation"
   ]
  },
  {
   "cell_type": "code",
   "execution_count": 5,
   "metadata": {},
   "outputs": [],
   "source": [
    "# Function to implement the assumption made about a respondents province as outlined above.\n",
    "def check_province(moved,before,current):\n",
    "    if moved=='Yes':\n",
    "        return before \n",
    "    elif moved=='No':\n",
    "        return current \n",
    "\n",
    "df['province'] = np.vectorize(check_province)(df['province_moved'], df['province_before'], df['province_current'])\n",
    "df = df.drop(['province_current', 'province_before','province_during'], axis =1 )\n",
    "\n",
    "col_order = ['age', 'gender', 'race', 'highest_grade', 'tertiary_edu','province',\n",
    "       'province_moved', 'labour_in_feb', 'work_days_feb', 'work_hours_feb',\n",
    "       'take_home_pay_feb', 'labour_in_apr', 'work_days_apr', 'work_hours_apr',\n",
    "       'take_home_pay_apr', 'lost_labour', 'return_to_work', 'usual_work',\n",
    "       ]\n",
    "\n",
    "df = df.filter(col_order)"
   ]
  },
  {
   "cell_type": "markdown",
   "metadata": {},
   "source": [
    "### Data encoding"
   ]
  },
  {
   "cell_type": "markdown",
   "metadata": {},
   "source": [
    "### Age"
   ]
  },
  {
   "cell_type": "code",
   "execution_count": 6,
   "metadata": {},
   "outputs": [],
   "source": [
    "# Age is already a continous numeric variable so we just need to remove the missing values \n",
    "df = df[df.age.notnull()]"
   ]
  },
  {
   "cell_type": "markdown",
   "metadata": {},
   "source": [
    "### Gender  "
   ]
  },
  {
   "cell_type": "code",
   "execution_count": 7,
   "metadata": {},
   "outputs": [],
   "source": [
    "df = df[df.gender.notnull()]\n",
    "df['gender'] = df['gender'].map({'Man':1, 'Woman':0})\n",
    "df['gender'] = df['gender'].astype(int)"
   ]
  },
  {
   "cell_type": "markdown",
   "metadata": {},
   "source": [
    "### Race  "
   ]
  },
  {
   "cell_type": "code",
   "execution_count": 8,
   "metadata": {},
   "outputs": [],
   "source": [
    "df = df[df.race.notnull()]\n",
    "df = pd.get_dummies(df, columns=['race'], prefix='', prefix_sep = '')\n",
    "col_order = ['age', 'gender','African/Black', 'Asian/Indian', 'Coloured', 'White',\n",
    "             'highest_grade', 'tertiary_edu', 'province','province_moved', \n",
    "             'labour_in_feb', 'work_days_feb', 'work_hours_feb',\n",
    "           'take_home_pay_feb', 'labour_in_apr', 'work_days_apr', 'work_hours_apr',\n",
    "           'take_home_pay_apr', 'lost_labour', 'return_to_work', 'usual_work',\n",
    "       ]\n",
    "\n",
    "df = df.filter(col_order)"
   ]
  },
  {
   "cell_type": "markdown",
   "metadata": {},
   "source": [
    "### Highest Grade  "
   ]
  },
  {
   "cell_type": "markdown",
   "metadata": {},
   "source": [
    "Less than 5% of our sample has an education that is not one of the standard grades (Grade 1-Grade 12), we will remove these in order to encode the highest_grade feature accordingly"
   ]
  },
  {
   "cell_type": "code",
   "execution_count": 9,
   "metadata": {},
   "outputs": [],
   "source": [
    "grade_map = {\n",
    "    \"Grade 12\": 12,\n",
    "    \"Grade 11\": 11, \n",
    "    \"Grade 10\": 10, \n",
    "    \"Grade 9\" : 9,\n",
    "    \"Grade 8\" : 8, \n",
    "    \"Grade 7\" : 7,\n",
    "    \"Grade 6\" : 6,\n",
    "    \"Grade 5\" : 5, \n",
    "    \"Grade 4\" : 4,\n",
    "    \"Grade 3\" : 3,\n",
    "    \"Grade 2\" : 2, \n",
    "    \"Grade 1\" : 1,\n",
    "    \"Grade 0\" : 0 \n",
    "}\n",
    "df.loc[:,'highest_grade'] = df.highest_grade.map(grade_map)\n",
    "df = df[df.highest_grade.notnull()]\n",
    "df.highest_grade = df.highest_grade.astype(int)"
   ]
  },
  {
   "cell_type": "markdown",
   "metadata": {},
   "source": [
    "### Tertiary education "
   ]
  },
  {
   "cell_type": "code",
   "execution_count": 10,
   "metadata": {},
   "outputs": [],
   "source": [
    "def check_tert_edu(tert_edu):\n",
    "    if tert_edu == \"Yes\":\n",
    "        return 1\n",
    "    else:\n",
    "        return 0 \n",
    "    \n",
    "df.tertiary_edu = np.vectorize(check_tert_edu)(df['tertiary_edu'])"
   ]
  },
  {
   "cell_type": "markdown",
   "metadata": {},
   "source": [
    "### Province"
   ]
  },
  {
   "cell_type": "code",
   "execution_count": 11,
   "metadata": {},
   "outputs": [],
   "source": [
    "df = df[df.province.notnull()]\n",
    "df = df[df.province!='nan']\n",
    "df = pd.get_dummies(df, columns=['province'], prefix='', prefix_sep = '')\n",
    "\n",
    "col_order = ['age', 'gender', 'African/Black', 'Asian/Indian', 'Coloured', 'White',\n",
    "       'highest_grade', 'tertiary_edu', 'Eastern Cape', 'Free State', 'Gauteng',\n",
    "       'KwaZulu-Natal', 'Limpopo', 'Mpumalanga', 'None', 'North West',\n",
    "       'Northern Cape', 'Outside of South Africa', 'Western Cape','province_moved', 'labour_in_feb',\n",
    "       'work_days_feb', 'work_hours_feb', 'take_home_pay_feb', 'labour_in_apr',\n",
    "       'work_days_apr', 'work_hours_apr', 'take_home_pay_apr', 'lost_labour',\n",
    "       'return_to_work', 'usual_work'\n",
    "       ]\n",
    "\n",
    "df = df.filter(col_order)"
   ]
  },
  {
   "cell_type": "markdown",
   "metadata": {},
   "source": [
    "### Moved Province"
   ]
  },
  {
   "cell_type": "code",
   "execution_count": 12,
   "metadata": {},
   "outputs": [],
   "source": [
    "df = df[df.province_moved.notnull()]\n",
    "df['province_moved'] = df['province_moved'].map({'Yes':1, 'No':0})\n",
    "df['province_moved'] = df['province_moved'].astype(int)"
   ]
  },
  {
   "cell_type": "markdown",
   "metadata": {},
   "source": [
    "### Labour features"
   ]
  },
  {
   "cell_type": "code",
   "execution_count": 13,
   "metadata": {},
   "outputs": [],
   "source": [
    "# All the labour features, other than \"usual_work\" are already in the corret numerical format, the missing values\n",
    "# Just need to be removed \n",
    "df = df.dropna()"
   ]
  },
  {
   "cell_type": "markdown",
   "metadata": {},
   "source": [
    "### Ensuring data is balanced"
   ]
  },
  {
   "cell_type": "code",
   "execution_count": 14,
   "metadata": {
    "scrolled": true
   },
   "outputs": [
    {
     "data": {
      "image/png": "[encoded data removed]",
      "text/plain": [
       "<Figure size 432x288 with 1 Axes>"
      ]
     },
     "metadata": {
      "needs_background": "light"
     },
     "output_type": "display_data"
    }
   ],
   "source": [
    "sns.countplot(data = df, x = 'lost_labour')\n",
    "plt.show() "
   ]
  },
  {
   "cell_type": "markdown",
   "metadata": {},
   "source": [
    "### Model construction "
   ]
  },
  {
   "cell_type": "markdown",
   "metadata": {},
   "source": [
    "The first model we will construct will only use demographic features to try and make the prediction"
   ]
  },
  {
   "cell_type": "code",
   "execution_count": 15,
   "metadata": {},
   "outputs": [],
   "source": [
    "model = df[['age', 'gender', 'African/Black', 'Asian/Indian', 'Coloured', 'White',\n",
    "       'highest_grade', 'tertiary_edu', 'Eastern Cape', 'Free State',\n",
    "       'Gauteng', 'KwaZulu-Natal', 'Limpopo', 'Mpumalanga', 'None',\n",
    "       'North West', 'Northern Cape', 'Outside of South Africa',\n",
    "       'Western Cape', 'province_moved', 'work_days_feb',\n",
    "       'work_hours_feb', 'take_home_pay_feb', 'lost_labour']]"
   ]
  },
  {
   "cell_type": "markdown",
   "metadata": {},
   "source": [
    "### Data Splitting"
   ]
  },
  {
   "cell_type": "code",
   "execution_count": 16,
   "metadata": {},
   "outputs": [],
   "source": [
    "X = model.drop('lost_labour',axis=1)\n",
    "y = model['lost_labour']\n",
    "\n",
    "X_train, X_test, y_train, y_test = train_test_split(X, y, test_size=0.3, random_state=101)"
   ]
  },
  {
   "cell_type": "markdown",
   "metadata": {},
   "source": [
    "### Model Implementation"
   ]
  },
  {
   "cell_type": "code",
   "execution_count": 17,
   "metadata": {},
   "outputs": [
    {
     "data": {
      "text/plain": [
       "LogisticRegression(max_iter=10000)"
      ]
     },
     "execution_count": 17,
     "metadata": {},
     "output_type": "execute_result"
    }
   ],
   "source": [
    "log_model = LogisticRegression(max_iter=10000)\n",
    "log_model.fit(X_train, y_train)"
   ]
  },
  {
   "cell_type": "code",
   "execution_count": 18,
   "metadata": {},
   "outputs": [
    {
     "data": {
      "text/plain": [
       "0.7160493827160493"
      ]
     },
     "execution_count": 18,
     "metadata": {},
     "output_type": "execute_result"
    }
   ],
   "source": [
    "y_pred = log_model.predict(X_test)\n",
    "accuracy_score(y_test, y_pred)  "
   ]
  },
  {
   "cell_type": "markdown",
   "metadata": {},
   "source": [
    "### Model Selection using recursive feature elimination with cross-validation"
   ]
  },
  {
   "cell_type": "code",
   "execution_count": 19,
   "metadata": {},
   "outputs": [
    {
     "name": "stdout",
     "output_type": "stream",
     "text": [
      "Optimal number of features: 21\n",
      "Best featurues : Index(['age', 'gender', 'African/Black', 'Asian/Indian', 'Coloured', 'White',\n",
      "       'highest_grade', 'tertiary_edu', 'Eastern Cape', 'Free State',\n",
      "       'Gauteng', 'KwaZulu-Natal', 'Limpopo', 'Mpumalanga', 'North West',\n",
      "       'Northern Cape', 'Western Cape', 'province_moved', 'work_days_feb',\n",
      "       'work_hours_feb', 'take_home_pay_feb'],\n",
      "      dtype='object')\n"
     ]
    }
   ],
   "source": [
    "rfecv = RFECV(estimator=log_model, step=1, cv=5, scoring='accuracy')\n",
    "rfecv = rfecv.fit(X_train, y_train)\n",
    "\n",
    "print('Optimal number of features:', rfecv.n_features_)\n",
    "print('Best featurues :', X_train.columns[rfecv.support_])"
   ]
  },
  {
   "cell_type": "code",
   "execution_count": 20,
   "metadata": {},
   "outputs": [
    {
     "data": {
      "image/png": "[encoded data removed]",
      "text/plain": [
       "<Figure size 432x288 with 1 Axes>"
      ]
     },
     "metadata": {
      "needs_background": "light"
     },
     "output_type": "display_data"
    }
   ],
   "source": [
    "plt.figure()\n",
    "plt.xlabel(\"Number of features selected\")\n",
    "plt.ylabel(\"Cross validation score of number of selected features\")\n",
    "plt.plot(range(1,len(rfecv.grid_scores_)+1), rfecv.grid_scores_)\n",
    "plt.show()"
   ]
  },
  {
   "cell_type": "code",
   "execution_count": 21,
   "metadata": {},
   "outputs": [
    {
     "data": {
      "text/plain": [
       "0.7178130511463845"
      ]
     },
     "execution_count": 21,
     "metadata": {},
     "output_type": "execute_result"
    }
   ],
   "source": [
    "X_train_rfecv = rfecv.transform(X_train)\n",
    "X_test_rfecv = rfecv.transform(X_test)\n",
    "log_model_rfecv = log_model.fit(X_train_rfecv,y_train)\n",
    "y_pred = log_model_rfecv.predict(X_test_rfecv)\n",
    "accuracy_score(y_test, y_pred)  "
   ]
  },
  {
   "cell_type": "markdown",
   "metadata": {},
   "source": [
    "## Hypothesis Testing"
   ]
  },
  {
   "cell_type": "markdown",
   "metadata": {},
   "source": [
    "I am not entirely sure what to do for the hypthesis testing in this case, please could you elaborate on possible hypothesis tests I could conduct for the Logistic Regression. "
   ]
  }
 ],
 "metadata": {
  "hide_input": false,
  "kernelspec": {
   "display_name": "Python 3",
   "language": "python",
   "name": "python3"
  },
  "language_info": {
   "codemirror_mode": {
    "name": "ipython",
    "version": 3
   },
   "file_extension": ".py",
   "mimetype": "text/x-python",
   "name": "python",
   "nbconvert_exporter": "python",
   "pygments_lexer": "ipython3",
   "version": "3.8.8"
  },
  "toc": {
   "base_numbering": 1,
   "nav_menu": {},
   "number_sections": false,
   "sideBar": true,
   "skip_h1_title": true,
   "title_cell": "Table of Contents",
   "title_sidebar": "Contents",
   "toc_cell": true,
   "toc_position": {},
   "toc_section_display": true,
   "toc_window_display": false
  }
 },
 "nbformat": 4,
 "nbformat_minor": 4
}
