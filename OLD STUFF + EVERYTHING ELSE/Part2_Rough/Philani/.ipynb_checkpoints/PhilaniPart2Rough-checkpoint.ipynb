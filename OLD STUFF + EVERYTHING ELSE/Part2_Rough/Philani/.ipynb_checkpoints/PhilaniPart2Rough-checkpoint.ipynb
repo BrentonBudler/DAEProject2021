{
 "cells": [
  {
   "cell_type": "markdown",
   "metadata": {
    "toc": true
   },
   "source": [
    "<h1>Table of Contents<span class=\"tocSkip\"></span></h1>\n",
    "<div class=\"toc\"><ul class=\"toc-item\"><li><span><a href=\"#1.-Preprocessing\" data-toc-modified-id=\"1.-Preprocessing-1\">1. Preprocessing</a></span></li><li><span><a href=\"#2.-Model-Generation\" data-toc-modified-id=\"2.-Model-Generation-2\">2. Model Generation</a></span></li></ul></div>"
   ]
  },
  {
   "cell_type": "code",
   "execution_count": 1,
   "metadata": {},
   "outputs": [],
   "source": [
    "import numpy as np \n",
    "import pandas as pd \n",
    "import matplotlib.pyplot as plt \n",
    "import seaborn as sns \n",
    "import matplotlib.cm as cm\n",
    "from matplotlib.colors import Normalize\n",
    "from sklearn.linear_model import LogisticRegression\n",
    "from sklearn.preprocessing import StandardScaler\n",
    "from sklearn.model_selection import train_test_split\n",
    "from sklearn.metrics import classification_report\n",
    "import sklearn.metrics as metrics"
   ]
  },
  {
   "cell_type": "markdown",
   "metadata": {},
   "source": [
    "Read in and display the unemployed_swdf dataframe as this stores all of the records of people who found themselves unemployed in April 2020."
   ]
  },
  {
   "cell_type": "code",
   "execution_count": 2,
   "metadata": {},
   "outputs": [
    {
     "data": {
      "text/html": [
       "<div>\n",
       "<style scoped>\n",
       "    .dataframe tbody tr th:only-of-type {\n",
       "        vertical-align: middle;\n",
       "    }\n",
       "\n",
       "    .dataframe tbody tr th {\n",
       "        vertical-align: top;\n",
       "    }\n",
       "\n",
       "    .dataframe thead th {\n",
       "        text-align: right;\n",
       "    }\n",
       "</style>\n",
       "<table border=\"1\" class=\"dataframe\">\n",
       "  <thead>\n",
       "    <tr style=\"text-align: right;\">\n",
       "      <th></th>\n",
       "      <th>job_in_apr</th>\n",
       "      <th>work_in_apr</th>\n",
       "      <th>src_income_before_apr</th>\n",
       "      <th>lost_income_in_apr</th>\n",
       "      <th>total_income_in_apr</th>\n",
       "      <th>uif_in_apr</th>\n",
       "      <th>grant_from_gov_ques</th>\n",
       "      <th>grant_from_gov</th>\n",
       "    </tr>\n",
       "  </thead>\n",
       "  <tbody>\n",
       "    <tr>\n",
       "      <td>0</td>\n",
       "      <td>No</td>\n",
       "      <td>No</td>\n",
       "      <td>Income from a business</td>\n",
       "      <td>No</td>\n",
       "      <td>3532.0</td>\n",
       "      <td>No</td>\n",
       "      <td>Yes</td>\n",
       "      <td>Disability Grant</td>\n",
       "    </tr>\n",
       "    <tr>\n",
       "      <td>1</td>\n",
       "      <td>No</td>\n",
       "      <td>No</td>\n",
       "      <td>Government grants</td>\n",
       "      <td>Yes</td>\n",
       "      <td>1500.0</td>\n",
       "      <td>No</td>\n",
       "      <td>Yes</td>\n",
       "      <td>Child Support Grant (CSG)</td>\n",
       "    </tr>\n",
       "    <tr>\n",
       "      <td>2</td>\n",
       "      <td>No</td>\n",
       "      <td>No</td>\n",
       "      <td>Government grants</td>\n",
       "      <td>Yes</td>\n",
       "      <td>4200.0</td>\n",
       "      <td>Yes</td>\n",
       "      <td>Yes</td>\n",
       "      <td>Child Support Grant (CSG)</td>\n",
       "    </tr>\n",
       "    <tr>\n",
       "      <td>3</td>\n",
       "      <td>No</td>\n",
       "      <td>No</td>\n",
       "      <td>Income from employment</td>\n",
       "      <td>No</td>\n",
       "      <td>3532.0</td>\n",
       "      <td>No</td>\n",
       "      <td>Yes</td>\n",
       "      <td>Child Support Grant (CSG)</td>\n",
       "    </tr>\n",
       "    <tr>\n",
       "      <td>4</td>\n",
       "      <td>No</td>\n",
       "      <td>No</td>\n",
       "      <td>Government grants</td>\n",
       "      <td>No</td>\n",
       "      <td>4200.0</td>\n",
       "      <td>Yes</td>\n",
       "      <td>Yes</td>\n",
       "      <td>Old Age Pension Grant (OAP)</td>\n",
       "    </tr>\n",
       "    <tr>\n",
       "      <td>...</td>\n",
       "      <td>...</td>\n",
       "      <td>...</td>\n",
       "      <td>...</td>\n",
       "      <td>...</td>\n",
       "      <td>...</td>\n",
       "      <td>...</td>\n",
       "      <td>...</td>\n",
       "      <td>...</td>\n",
       "    </tr>\n",
       "    <tr>\n",
       "      <td>930</td>\n",
       "      <td>No</td>\n",
       "      <td>No</td>\n",
       "      <td>Government grants</td>\n",
       "      <td>Yes</td>\n",
       "      <td>2500.0</td>\n",
       "      <td>Yes</td>\n",
       "      <td>Yes</td>\n",
       "      <td>Old Age Pension Grant (OAP)</td>\n",
       "    </tr>\n",
       "    <tr>\n",
       "      <td>931</td>\n",
       "      <td>No</td>\n",
       "      <td>No</td>\n",
       "      <td>Income from employment</td>\n",
       "      <td>Yes</td>\n",
       "      <td>3532.0</td>\n",
       "      <td>No</td>\n",
       "      <td>Yes</td>\n",
       "      <td>Child Support Grant (CSG)</td>\n",
       "    </tr>\n",
       "    <tr>\n",
       "      <td>932</td>\n",
       "      <td>No</td>\n",
       "      <td>No</td>\n",
       "      <td>Government grants</td>\n",
       "      <td>Yes</td>\n",
       "      <td>1700.0</td>\n",
       "      <td>Yes</td>\n",
       "      <td>Yes</td>\n",
       "      <td>Child Support Grant (CSG)</td>\n",
       "    </tr>\n",
       "    <tr>\n",
       "      <td>933</td>\n",
       "      <td>No</td>\n",
       "      <td>No</td>\n",
       "      <td>Income from employment</td>\n",
       "      <td>No</td>\n",
       "      <td>3532.0</td>\n",
       "      <td>Yes</td>\n",
       "      <td>Yes</td>\n",
       "      <td>Other (specify)</td>\n",
       "    </tr>\n",
       "    <tr>\n",
       "      <td>934</td>\n",
       "      <td>No</td>\n",
       "      <td>No</td>\n",
       "      <td>Government grants</td>\n",
       "      <td>No</td>\n",
       "      <td>2800.0</td>\n",
       "      <td>No</td>\n",
       "      <td>Yes</td>\n",
       "      <td>Social relief or distress grant</td>\n",
       "    </tr>\n",
       "  </tbody>\n",
       "</table>\n",
       "<p>935 rows × 8 columns</p>\n",
       "</div>"
      ],
      "text/plain": [
       "    job_in_apr work_in_apr   src_income_before_apr lost_income_in_apr  \\\n",
       "0           No          No  Income from a business                 No   \n",
       "1           No          No       Government grants                Yes   \n",
       "2           No          No       Government grants                Yes   \n",
       "3           No          No  Income from employment                 No   \n",
       "4           No          No       Government grants                 No   \n",
       "..         ...         ...                     ...                ...   \n",
       "930         No          No       Government grants                Yes   \n",
       "931         No          No  Income from employment                Yes   \n",
       "932         No          No       Government grants                Yes   \n",
       "933         No          No  Income from employment                 No   \n",
       "934         No          No       Government grants                 No   \n",
       "\n",
       "     total_income_in_apr uif_in_apr grant_from_gov_ques  \\\n",
       "0                 3532.0         No                 Yes   \n",
       "1                 1500.0         No                 Yes   \n",
       "2                 4200.0        Yes                 Yes   \n",
       "3                 3532.0         No                 Yes   \n",
       "4                 4200.0        Yes                 Yes   \n",
       "..                   ...        ...                 ...   \n",
       "930               2500.0        Yes                 Yes   \n",
       "931               3532.0         No                 Yes   \n",
       "932               1700.0        Yes                 Yes   \n",
       "933               3532.0        Yes                 Yes   \n",
       "934               2800.0         No                 Yes   \n",
       "\n",
       "                      grant_from_gov  \n",
       "0                   Disability Grant  \n",
       "1          Child Support Grant (CSG)  \n",
       "2          Child Support Grant (CSG)  \n",
       "3          Child Support Grant (CSG)  \n",
       "4        Old Age Pension Grant (OAP)  \n",
       "..                               ...  \n",
       "930      Old Age Pension Grant (OAP)  \n",
       "931        Child Support Grant (CSG)  \n",
       "932        Child Support Grant (CSG)  \n",
       "933                  Other (specify)  \n",
       "934  Social relief or distress grant  \n",
       "\n",
       "[935 rows x 8 columns]"
      ]
     },
     "metadata": {},
     "output_type": "display_data"
    }
   ],
   "source": [
    "unemployed_swdf = pd.read_csv(\"unemployed_swdf.csv\")\n",
    "display(unemployed_swdf)"
   ]
  },
  {
   "cell_type": "markdown",
   "metadata": {},
   "source": [
    "## 1. Preprocessing "
   ]
  },
  {
   "cell_type": "markdown",
   "metadata": {},
   "source": [
    "Assign numerical values to all of the relevant categorical values."
   ]
  },
  {
   "cell_type": "code",
   "execution_count": 3,
   "metadata": {},
   "outputs": [
    {
     "data": {
      "text/html": [
       "<div>\n",
       "<style scoped>\n",
       "    .dataframe tbody tr th:only-of-type {\n",
       "        vertical-align: middle;\n",
       "    }\n",
       "\n",
       "    .dataframe tbody tr th {\n",
       "        vertical-align: top;\n",
       "    }\n",
       "\n",
       "    .dataframe thead th {\n",
       "        text-align: right;\n",
       "    }\n",
       "</style>\n",
       "<table border=\"1\" class=\"dataframe\">\n",
       "  <thead>\n",
       "    <tr style=\"text-align: right;\">\n",
       "      <th></th>\n",
       "      <th>job_in_apr</th>\n",
       "      <th>work_in_apr</th>\n",
       "      <th>src_income_before_apr</th>\n",
       "      <th>lost_income_in_apr</th>\n",
       "      <th>total_income_in_apr</th>\n",
       "      <th>uif_in_apr</th>\n",
       "      <th>grant_from_gov_ques</th>\n",
       "      <th>grant_from_gov</th>\n",
       "    </tr>\n",
       "  </thead>\n",
       "  <tbody>\n",
       "    <tr>\n",
       "      <td>0</td>\n",
       "      <td>0</td>\n",
       "      <td>0</td>\n",
       "      <td>4</td>\n",
       "      <td>0</td>\n",
       "      <td>3532.0</td>\n",
       "      <td>0</td>\n",
       "      <td>1</td>\n",
       "      <td>3</td>\n",
       "    </tr>\n",
       "    <tr>\n",
       "      <td>1</td>\n",
       "      <td>0</td>\n",
       "      <td>0</td>\n",
       "      <td>1</td>\n",
       "      <td>1</td>\n",
       "      <td>1500.0</td>\n",
       "      <td>0</td>\n",
       "      <td>1</td>\n",
       "      <td>1</td>\n",
       "    </tr>\n",
       "    <tr>\n",
       "      <td>2</td>\n",
       "      <td>0</td>\n",
       "      <td>0</td>\n",
       "      <td>1</td>\n",
       "      <td>1</td>\n",
       "      <td>4200.0</td>\n",
       "      <td>1</td>\n",
       "      <td>1</td>\n",
       "      <td>1</td>\n",
       "    </tr>\n",
       "    <tr>\n",
       "      <td>3</td>\n",
       "      <td>0</td>\n",
       "      <td>0</td>\n",
       "      <td>2</td>\n",
       "      <td>0</td>\n",
       "      <td>3532.0</td>\n",
       "      <td>0</td>\n",
       "      <td>1</td>\n",
       "      <td>1</td>\n",
       "    </tr>\n",
       "    <tr>\n",
       "      <td>4</td>\n",
       "      <td>0</td>\n",
       "      <td>0</td>\n",
       "      <td>1</td>\n",
       "      <td>0</td>\n",
       "      <td>4200.0</td>\n",
       "      <td>1</td>\n",
       "      <td>1</td>\n",
       "      <td>2</td>\n",
       "    </tr>\n",
       "    <tr>\n",
       "      <td>...</td>\n",
       "      <td>...</td>\n",
       "      <td>...</td>\n",
       "      <td>...</td>\n",
       "      <td>...</td>\n",
       "      <td>...</td>\n",
       "      <td>...</td>\n",
       "      <td>...</td>\n",
       "      <td>...</td>\n",
       "    </tr>\n",
       "    <tr>\n",
       "      <td>930</td>\n",
       "      <td>0</td>\n",
       "      <td>0</td>\n",
       "      <td>1</td>\n",
       "      <td>1</td>\n",
       "      <td>2500.0</td>\n",
       "      <td>1</td>\n",
       "      <td>1</td>\n",
       "      <td>2</td>\n",
       "    </tr>\n",
       "    <tr>\n",
       "      <td>931</td>\n",
       "      <td>0</td>\n",
       "      <td>0</td>\n",
       "      <td>2</td>\n",
       "      <td>1</td>\n",
       "      <td>3532.0</td>\n",
       "      <td>0</td>\n",
       "      <td>1</td>\n",
       "      <td>1</td>\n",
       "    </tr>\n",
       "    <tr>\n",
       "      <td>932</td>\n",
       "      <td>0</td>\n",
       "      <td>0</td>\n",
       "      <td>1</td>\n",
       "      <td>1</td>\n",
       "      <td>1700.0</td>\n",
       "      <td>1</td>\n",
       "      <td>1</td>\n",
       "      <td>1</td>\n",
       "    </tr>\n",
       "    <tr>\n",
       "      <td>933</td>\n",
       "      <td>0</td>\n",
       "      <td>0</td>\n",
       "      <td>2</td>\n",
       "      <td>0</td>\n",
       "      <td>3532.0</td>\n",
       "      <td>1</td>\n",
       "      <td>1</td>\n",
       "      <td>6</td>\n",
       "    </tr>\n",
       "    <tr>\n",
       "      <td>934</td>\n",
       "      <td>0</td>\n",
       "      <td>0</td>\n",
       "      <td>1</td>\n",
       "      <td>0</td>\n",
       "      <td>2800.0</td>\n",
       "      <td>0</td>\n",
       "      <td>1</td>\n",
       "      <td>6</td>\n",
       "    </tr>\n",
       "  </tbody>\n",
       "</table>\n",
       "<p>935 rows × 8 columns</p>\n",
       "</div>"
      ],
      "text/plain": [
       "     job_in_apr  work_in_apr  src_income_before_apr  lost_income_in_apr  \\\n",
       "0             0            0                      4                   0   \n",
       "1             0            0                      1                   1   \n",
       "2             0            0                      1                   1   \n",
       "3             0            0                      2                   0   \n",
       "4             0            0                      1                   0   \n",
       "..          ...          ...                    ...                 ...   \n",
       "930           0            0                      1                   1   \n",
       "931           0            0                      2                   1   \n",
       "932           0            0                      1                   1   \n",
       "933           0            0                      2                   0   \n",
       "934           0            0                      1                   0   \n",
       "\n",
       "     total_income_in_apr  uif_in_apr  grant_from_gov_ques  grant_from_gov  \n",
       "0                 3532.0           0                    1               3  \n",
       "1                 1500.0           0                    1               1  \n",
       "2                 4200.0           1                    1               1  \n",
       "3                 3532.0           0                    1               1  \n",
       "4                 4200.0           1                    1               2  \n",
       "..                   ...         ...                  ...             ...  \n",
       "930               2500.0           1                    1               2  \n",
       "931               3532.0           0                    1               1  \n",
       "932               1700.0           1                    1               1  \n",
       "933               3532.0           1                    1               6  \n",
       "934               2800.0           0                    1               6  \n",
       "\n",
       "[935 rows x 8 columns]"
      ]
     },
     "metadata": {},
     "output_type": "display_data"
    }
   ],
   "source": [
    "# Employment Information\n",
    "unemployed_swdf = unemployed_swdf.replace(\"No\", 0)\n",
    "unemployed_swdf = unemployed_swdf.replace(\"Yes\", 1)\n",
    "\n",
    "# Income Information\n",
    "unemployed_swdf = unemployed_swdf.replace(\"Government grants\", 1)\n",
    "unemployed_swdf = unemployed_swdf.replace(\"Income from employment\", 2)\n",
    "unemployed_swdf = unemployed_swdf.replace(\"Household had no income in February\", 3)\n",
    "unemployed_swdf = unemployed_swdf.replace(\"Income from a business\", 4)\n",
    "unemployed_swdf = unemployed_swdf.replace(\"Money from friends or family\", 5)\n",
    "unemployed_swdf = unemployed_swdf.replace(\"Other (specify)\", 6)\n",
    "\n",
    "# Grant Information\n",
    "unemployed_swdf = unemployed_swdf.replace(\"Child Support Grant (CSG)\", 1)\n",
    "unemployed_swdf = unemployed_swdf.replace(\"Old Age Pension Grant (OAP)\", 2)\n",
    "unemployed_swdf = unemployed_swdf.replace(\"Disability Grant\", 3)\n",
    "unemployed_swdf = unemployed_swdf.replace(\"R350 COVID-19 Social Relief of Distress Grant\", 4)\n",
    "unemployed_swdf = unemployed_swdf.replace(\"Foster Child Grant\", 5)\n",
    "unemployed_swdf = unemployed_swdf.replace(\"Social relief or distress grant\", 6)\n",
    "unemployed_swdf = unemployed_swdf.replace(\"Care Dependency Grant\", 7)\n",
    "unemployed_swdf = unemployed_swdf.replace(\"War veterans grant\", 8)                                 \n",
    "display(unemployed_swdf)"
   ]
  },
  {
   "cell_type": "markdown",
   "metadata": {},
   "source": [
    "Convert all columns to their appropriate data type. "
   ]
  },
  {
   "cell_type": "code",
   "execution_count": 4,
   "metadata": {},
   "outputs": [
    {
     "name": "stdout",
     "output_type": "stream",
     "text": [
      "<class 'pandas.core.frame.DataFrame'>\n",
      "RangeIndex: 935 entries, 0 to 934\n",
      "Data columns (total 8 columns):\n",
      "job_in_apr               935 non-null category\n",
      "work_in_apr              935 non-null category\n",
      "src_income_before_apr    935 non-null category\n",
      "lost_income_in_apr       935 non-null category\n",
      "total_income_in_apr      935 non-null float64\n",
      "uif_in_apr               935 non-null category\n",
      "grant_from_gov_ques      935 non-null category\n",
      "grant_from_gov           935 non-null category\n",
      "dtypes: category(7), float64(1)\n",
      "memory usage: 14.8 KB\n",
      "None\n"
     ]
    }
   ],
   "source": [
    "unemployed_swdf.job_in_apr = unemployed_swdf.job_in_apr.astype('category') \n",
    "unemployed_swdf.work_in_apr = unemployed_swdf.work_in_apr.astype('category')\n",
    "unemployed_swdf.src_income_before_apr = unemployed_swdf.src_income_before_apr.astype('category')\n",
    "unemployed_swdf.lost_income_in_apr = unemployed_swdf.lost_income_in_apr.astype('category')\n",
    "unemployed_swdf.total_income_in_apr = unemployed_swdf.total_income_in_apr.astype('float64')\n",
    "unemployed_swdf.uif_in_apr = unemployed_swdf.uif_in_apr.astype('category')\n",
    "unemployed_swdf.grant_from_gov_ques = unemployed_swdf.grant_from_gov_ques.astype('category')\n",
    "unemployed_swdf.grant_from_gov = unemployed_swdf.grant_from_gov.astype('category')\n",
    "print(unemployed_swdf.info())"
   ]
  },
  {
   "cell_type": "markdown",
   "metadata": {},
   "source": [
    "## 2. Model Generation"
   ]
  },
  {
   "cell_type": "markdown",
   "metadata": {},
   "source": [
    "**Question: Given that you were unemployed, were you likely to receive the UIF reduced work-time benefit from the government during April 2020?**"
   ]
  },
  {
   "cell_type": "markdown",
   "metadata": {},
   "source": [
    "Separate the dataset into features and target variables. For this model, the 'src_income_before_apr', 'lost_income_in_apr' and 'total_income_in_apr' columns are selected as features and the 'uif_in_apr' is selected as the target variable. The 'job_in_apr' and 'work_in_apr' columns were not selected because all of their values are 0 and they have no effect on the model. "
   ]
  },
  {
   "cell_type": "code",
   "execution_count": 5,
   "metadata": {},
   "outputs": [],
   "source": [
    "X = unemployed_swdf[['src_income_before_apr', 'lost_income_in_apr', 'total_income_in_apr']]\n",
    "y = unemployed_swdf[['uif_in_apr']]\n",
    "y = np.ravel(y)"
   ]
  },
  {
   "cell_type": "markdown",
   "metadata": {},
   "source": [
    "Split the unemployed_swdf dataframe into training and testing sets. 80% of the unemployed_swdf dataframe makes up the training set and 20% of the unemployed_swdf dataframe makes up the testing set. In addition, both datasets are standardized using the StandardScaler object from the sklearn library."
   ]
  },
  {
   "cell_type": "code",
   "execution_count": 6,
   "metadata": {},
   "outputs": [],
   "source": [
    "train_data_X, test_data_X, train_data_y, test_data_y = train_test_split(X,y,test_size=0.2, random_state=101)\n",
    "scaler = StandardScaler()\n",
    "scaler.fit(train_data_X)\n",
    "train_data_X = scaler.transform(train_data_X)\n",
    "test_data_X = scaler.transform(test_data_X)"
   ]
  },
  {
   "cell_type": "markdown",
   "metadata": {},
   "source": [
    "Train the model."
   ]
  },
  {
   "cell_type": "code",
   "execution_count": 7,
   "metadata": {},
   "outputs": [
    {
     "data": {
      "text/plain": [
       "'Parameters after training the model: '"
      ]
     },
     "metadata": {},
     "output_type": "display_data"
    },
    {
     "data": {
      "text/plain": [
       "array([ 0.78514827,  0.02839737, -0.29616191, -0.00260391])"
      ]
     },
     "metadata": {},
     "output_type": "display_data"
    }
   ],
   "source": [
    "model = LogisticRegression(solver='liblinear')\n",
    "model.fit(train_data_X, train_data_y)\n",
    "parameters = np.append(model.intercept_, model.coef_)\n",
    "display(\"Parameters after training the model: \", parameters)"
   ]
  },
  {
   "cell_type": "markdown",
   "metadata": {},
   "source": [
    "Make predictions using the recently trained model and get its accuracy."
   ]
  },
  {
   "cell_type": "code",
   "execution_count": 8,
   "metadata": {},
   "outputs": [
    {
     "name": "stdout",
     "output_type": "stream",
     "text": [
      "Accuracy of the model:  0.7219251336898396\n"
     ]
    }
   ],
   "source": [
    "predictions = model.predict(test_data_X)\n",
    "accuracy = model.score(test_data_X, test_data_y)\n",
    "print(\"Accuracy of the model: \", accuracy)"
   ]
  },
  {
   "cell_type": "markdown",
   "metadata": {},
   "source": [
    "The model has a classification accuracy of 72%, which is very good. "
   ]
  },
  {
   "cell_type": "code",
   "execution_count": null,
   "metadata": {},
   "outputs": [],
   "source": []
  }
 ],
 "metadata": {
  "hide_input": false,
  "kernelspec": {
   "display_name": "Python 3",
   "language": "python",
   "name": "python3"
  },
  "language_info": {
   "codemirror_mode": {
    "name": "ipython",
    "version": 3
   },
   "file_extension": ".py",
   "mimetype": "text/x-python",
   "name": "python",
   "nbconvert_exporter": "python",
   "pygments_lexer": "ipython3",
   "version": "3.8.6"
  },
  "toc": {
   "base_numbering": 1,
   "nav_menu": {},
   "number_sections": false,
   "sideBar": true,
   "skip_h1_title": true,
   "title_cell": "Table of Contents",
   "title_sidebar": "Contents",
   "toc_cell": true,
   "toc_position": {},
   "toc_section_display": true,
   "toc_window_display": false
  }
 },
 "nbformat": 4,
 "nbformat_minor": 2
}
