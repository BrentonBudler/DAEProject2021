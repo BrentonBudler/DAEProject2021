{
 "cells": [
  {
   "cell_type": "code",
   "execution_count": 2,
   "id": "crazy-craft",
   "metadata": {},
   "outputs": [],
   "source": [
    "import pandas as pd\n",
    "import numpy as np"
   ]
  },
  {
   "cell_type": "markdown",
   "id": "colonial-somewhere",
   "metadata": {},
   "source": [
    "# <b>NOTES<b>\n",
    "\n",
    "## <b>Ideas:<b>\n",
    "    -Merge Wave1, Wave2 and Wave3 in order to look at the same population throughout and check the differences\n",
    "    -\n",
    "    -\n",
    "    -\n",
    "\n",
    "    \n",
    "    \n",
    "    "
   ]
  },
  {
   "cell_type": "code",
   "execution_count": 3,
   "id": "partial-enforcement",
   "metadata": {},
   "outputs": [
    {
     "output_type": "stream",
     "name": "stdout",
     "text": [
      "<class 'pandas.core.frame.DataFrame'>\n",
      "Int64Index: 7051 entries, 0 to 7050\n",
      "Columns: 177 entries, pid to w2_nc_intlng3\n",
      "dtypes: category(163), int32(1), object(13)\n",
      "memory usage: 2.0+ MB\n",
      "<class 'pandas.core.frame.DataFrame'>\n",
      "Int64Index: 5676 entries, 4 to 7050\n",
      "Columns: 177 entries, pid to w2_nc_intlng3\n",
      "dtypes: category(163), int32(1), object(13)\n",
      "memory usage: 1.7+ MB\n"
     ]
    }
   ],
   "source": [
    "#Convert from .dta to .csv\n",
    "Wave2 = pd.read_stata(\"Wave2.dta\")\n",
    "# df.to_csv('Wave2.csv')\n",
    "# df = pd.read_csv(\"Wave2.csv\", index_col=\"pid\", delimiter=\",\", low_memory=False)\n",
    "# display(Wave2.head(5))\n",
    "Wave2.info()\n",
    "\n",
    "Wave2 = Wave2[Wave2['w2_nc_outcome'] == \"Successfully Interviewed\"]\n",
    "# display(Wave2.head(5))\n",
    "Wave2.info()"
   ]
  },
  {
   "cell_type": "markdown",
   "id": "understood-night",
   "metadata": {},
   "source": [
    "We have now narrrowed down our dataset to only the people who were successfully interviewed."
   ]
  },
  {
   "cell_type": "code",
   "execution_count": 4,
   "id": "introductory-investment",
   "metadata": {},
   "outputs": [
    {
     "output_type": "stream",
     "name": "stdout",
     "text": [
      "<class 'pandas.core.frame.DataFrame'>\n",
      "Int64Index: 7073 entries, 0 to 7072\n",
      "Columns: 170 entries, pid to w1_nc_intlng11\n",
      "dtypes: category(157), int32(1), object(12)\n",
      "memory usage: 2.0+ MB\n",
      "<class 'pandas.core.frame.DataFrame'>\n",
      "Int64Index: 7073 entries, 0 to 7072\n",
      "Columns: 170 entries, pid to w1_nc_intlng11\n",
      "dtypes: category(157), int32(1), object(12)\n",
      "memory usage: 2.0+ MB\n"
     ]
    }
   ],
   "source": [
    "Wave1 = pd.read_stata(\"Wave1.dta\")\n",
    "# display(Wave1.head(5))\n",
    "Wave1.info()\n",
    "\n",
    "Wave1 = Wave1[Wave1['w1_nc_outcome'] == \"Successfully Interviewed\"]\n",
    "# display(Wave1.head(5))\n",
    "Wave1.info()"
   ]
  },
  {
   "cell_type": "code",
   "execution_count": 5,
   "metadata": {},
   "outputs": [
    {
     "output_type": "stream",
     "name": "stdout",
     "text": [
      "<class 'pandas.core.frame.DataFrame'>\n",
      "Int64Index: 8098 entries, 0 to 8097\n",
      "Columns: 177 entries, pid to w3_nc_intlng3\n",
      "dtypes: category(163), int32(1), object(13)\n",
      "memory usage: 2.3+ MB\n",
      "<class 'pandas.core.frame.DataFrame'>\n",
      "Int64Index: 6130 entries, 4 to 8097\n",
      "Columns: 177 entries, pid to w3_nc_intlng3\n",
      "dtypes: category(163), int32(1), object(13)\n",
      "memory usage: 1.8+ MB\n"
     ]
    }
   ],
   "source": [
    "Wave3 = pd.read_stata(\"Wave3.dta\")\n",
    "# display(Wave3.head(5))\n",
    "Wave3.info()\n",
    "\n",
    "Wave3 = Wave3[Wave3['w3_nc_outcome'] == \"Successfully Interviewed\"]\n",
    "# display(Wave3.head(5))\n",
    "Wave3.info()"
   ]
  },
  {
   "cell_type": "code",
   "execution_count": 80,
   "metadata": {},
   "outputs": [
    {
     "output_type": "display_data",
     "data": {
      "text/plain": "      pid             w1_nc_outcome w1_nc_intrv_c w1_nc_intrv_d w1_nc_intrv_m  \\\n0  301067  Successfully Interviewed           609          15th           May   \n1  301079  Successfully Interviewed           609          22nd           May   \n2  301082  Successfully Interviewed           624           4th          June   \n3  301086  Successfully Interviewed           644           4th          June   \n4  301088  Successfully Interviewed           630          27th           May   \n\n  w1_nc_intrv_y w1_nc_duration w1_nc_dob_m w1_nc_dob_y w1_nc_gen  ...  \\\n0          2020           15.2        July      1971.0     Woman  ...   \n1          2020          15.37    February      1970.0     Woman  ...   \n2          2020          25.27        June      1989.0       Man  ...   \n3          2020          17.18        June      1972.0     Woman  ...   \n4          2020          21.13         May      1978.0       Man  ...   \n\n  w3_nc_smkprice_ld w3_nc_smkbrand_ld w3_nc_smkbrand_ld_o w3_nc_smkcigday  \\\n0               NaN               NaN                                 NaN   \n1               NaN               NaN                                 NaN   \n2               NaN               NaN                                 NaN   \n3               NaN               NaN                                 NaN   \n4               NaN               NaN                                 NaN   \n\n  w3_nc_smkbrand_after w3_nc_smkbrand_after_o w3_nc_intres w3_nc_intlng1  \\\n0                  NaN                            Friendly        Sepedi   \n1                  NaN                            Friendly        Sepedi   \n2                  NaN                            Friendly      IsiXhosa   \n3                  NaN                            Friendly       IsiZulu   \n4                  NaN                             Hostile      IsiXhosa   \n\n  w3_nc_intlng2 w3_nc_intlng3  \n0           NaN           NaN  \n1       Sesotho           NaN  \n2           NaN           NaN  \n3           NaN           NaN  \n4       English           NaN  \n\n[5 rows x 522 columns]",
      "text/html": "<div>\n<style scoped>\n    .dataframe tbody tr th:only-of-type {\n        vertical-align: middle;\n    }\n\n    .dataframe tbody tr th {\n        vertical-align: top;\n    }\n\n    .dataframe thead th {\n        text-align: right;\n    }\n</style>\n<table border=\"1\" class=\"dataframe\">\n  <thead>\n    <tr style=\"text-align: right;\">\n      <th></th>\n      <th>pid</th>\n      <th>w1_nc_outcome</th>\n      <th>w1_nc_intrv_c</th>\n      <th>w1_nc_intrv_d</th>\n      <th>w1_nc_intrv_m</th>\n      <th>w1_nc_intrv_y</th>\n      <th>w1_nc_duration</th>\n      <th>w1_nc_dob_m</th>\n      <th>w1_nc_dob_y</th>\n      <th>w1_nc_gen</th>\n      <th>...</th>\n      <th>w3_nc_smkprice_ld</th>\n      <th>w3_nc_smkbrand_ld</th>\n      <th>w3_nc_smkbrand_ld_o</th>\n      <th>w3_nc_smkcigday</th>\n      <th>w3_nc_smkbrand_after</th>\n      <th>w3_nc_smkbrand_after_o</th>\n      <th>w3_nc_intres</th>\n      <th>w3_nc_intlng1</th>\n      <th>w3_nc_intlng2</th>\n      <th>w3_nc_intlng3</th>\n    </tr>\n  </thead>\n  <tbody>\n    <tr>\n      <th>0</th>\n      <td>301067</td>\n      <td>Successfully Interviewed</td>\n      <td>609</td>\n      <td>15th</td>\n      <td>May</td>\n      <td>2020</td>\n      <td>15.2</td>\n      <td>July</td>\n      <td>1971.0</td>\n      <td>Woman</td>\n      <td>...</td>\n      <td>NaN</td>\n      <td>NaN</td>\n      <td></td>\n      <td>NaN</td>\n      <td>NaN</td>\n      <td></td>\n      <td>Friendly</td>\n      <td>Sepedi</td>\n      <td>NaN</td>\n      <td>NaN</td>\n    </tr>\n    <tr>\n      <th>1</th>\n      <td>301079</td>\n      <td>Successfully Interviewed</td>\n      <td>609</td>\n      <td>22nd</td>\n      <td>May</td>\n      <td>2020</td>\n      <td>15.37</td>\n      <td>February</td>\n      <td>1970.0</td>\n      <td>Woman</td>\n      <td>...</td>\n      <td>NaN</td>\n      <td>NaN</td>\n      <td></td>\n      <td>NaN</td>\n      <td>NaN</td>\n      <td></td>\n      <td>Friendly</td>\n      <td>Sepedi</td>\n      <td>Sesotho</td>\n      <td>NaN</td>\n    </tr>\n    <tr>\n      <th>2</th>\n      <td>301082</td>\n      <td>Successfully Interviewed</td>\n      <td>624</td>\n      <td>4th</td>\n      <td>June</td>\n      <td>2020</td>\n      <td>25.27</td>\n      <td>June</td>\n      <td>1989.0</td>\n      <td>Man</td>\n      <td>...</td>\n      <td>NaN</td>\n      <td>NaN</td>\n      <td></td>\n      <td>NaN</td>\n      <td>NaN</td>\n      <td></td>\n      <td>Friendly</td>\n      <td>IsiXhosa</td>\n      <td>NaN</td>\n      <td>NaN</td>\n    </tr>\n    <tr>\n      <th>3</th>\n      <td>301086</td>\n      <td>Successfully Interviewed</td>\n      <td>644</td>\n      <td>4th</td>\n      <td>June</td>\n      <td>2020</td>\n      <td>17.18</td>\n      <td>June</td>\n      <td>1972.0</td>\n      <td>Woman</td>\n      <td>...</td>\n      <td>NaN</td>\n      <td>NaN</td>\n      <td></td>\n      <td>NaN</td>\n      <td>NaN</td>\n      <td></td>\n      <td>Friendly</td>\n      <td>IsiZulu</td>\n      <td>NaN</td>\n      <td>NaN</td>\n    </tr>\n    <tr>\n      <th>4</th>\n      <td>301088</td>\n      <td>Successfully Interviewed</td>\n      <td>630</td>\n      <td>27th</td>\n      <td>May</td>\n      <td>2020</td>\n      <td>21.13</td>\n      <td>May</td>\n      <td>1978.0</td>\n      <td>Man</td>\n      <td>...</td>\n      <td>NaN</td>\n      <td>NaN</td>\n      <td></td>\n      <td>NaN</td>\n      <td>NaN</td>\n      <td></td>\n      <td>Hostile</td>\n      <td>IsiXhosa</td>\n      <td>English</td>\n      <td>NaN</td>\n    </tr>\n  </tbody>\n</table>\n<p>5 rows × 522 columns</p>\n</div>"
     },
     "metadata": {}
    },
    {
     "output_type": "stream",
     "name": "stdout",
     "text": [
      "<class 'pandas.core.frame.DataFrame'>\nInt64Index: 4508 entries, 0 to 4507\nColumns: 522 entries, pid to w3_nc_intlng3\ndtypes: category(483), int32(1), object(38)\nmemory usage: 3.9+ MB\n"
     ]
    }
   ],
   "source": [
    "frames = [Wave1, Wave2, Wave3]\n",
    "temp = pd.merge(Wave1, Wave2, how='inner', on='pid')\n",
    "df = pd.merge(temp, Wave3, how='inner', on='pid')\n",
    "\n",
    "display(df.head(5))\n",
    "df.info()"
   ]
  },
  {
   "cell_type": "code",
   "execution_count": 82,
   "metadata": {},
   "outputs": [
    {
     "output_type": "execute_result",
     "data": {
      "text/plain": [
       "      pid w1_nc_dob_y w2_nc_dob_y w3_nc_dob_y w1_nc_dob_m w2_nc_dob_m  \\\n",
       "0  301067      1971.0      1971.0      1971.0        July        July   \n",
       "1  301079      1970.0      1970.0      1970.0    February    February   \n",
       "2  301082      1989.0      1989.0      1989.0        June        June   \n",
       "3  301086      1972.0      1972.0      1972.0        June        June   \n",
       "4  301088      1978.0      1978.0      1978.0         May         May   \n",
       "5  301090      1964.0      1964.0      1964.0      August      August   \n",
       "6  301092      1981.0      1981.0      1981.0     October     October   \n",
       "7  301104      1966.0      1966.0      1966.0     October     October   \n",
       "8  301113      1992.0      1992.0      1992.0       March       March   \n",
       "9  301177      1981.0      1981.0      1981.0    December    December   \n",
       "\n",
       "  w3_nc_dob_m w1_nc_gen w2_nc_gen w3_nc_gen  \n",
       "0        July     Woman     Woman     Woman  \n",
       "1    February     Woman     Woman     Woman  \n",
       "2        June       Man       Man       Man  \n",
       "3        June     Woman     Woman     Woman  \n",
       "4         May       Man       Man       Man  \n",
       "5      August     Woman     Woman     Woman  \n",
       "6     October     Woman     Woman     Woman  \n",
       "7     October     Woman     Woman     Woman  \n",
       "8       March     Woman     Woman     Woman  \n",
       "9    December     Woman     Woman     Woman  "
      ],
      "text/html": "<div>\n<style scoped>\n    .dataframe tbody tr th:only-of-type {\n        vertical-align: middle;\n    }\n\n    .dataframe tbody tr th {\n        vertical-align: top;\n    }\n\n    .dataframe thead th {\n        text-align: right;\n    }\n</style>\n<table border=\"1\" class=\"dataframe\">\n  <thead>\n    <tr style=\"text-align: right;\">\n      <th></th>\n      <th>pid</th>\n      <th>w1_nc_dob_y</th>\n      <th>w2_nc_dob_y</th>\n      <th>w3_nc_dob_y</th>\n      <th>w1_nc_dob_m</th>\n      <th>w2_nc_dob_m</th>\n      <th>w3_nc_dob_m</th>\n      <th>w1_nc_gen</th>\n      <th>w2_nc_gen</th>\n      <th>w3_nc_gen</th>\n    </tr>\n  </thead>\n  <tbody>\n    <tr>\n      <th>0</th>\n      <td>301067</td>\n      <td>1971.0</td>\n      <td>1971.0</td>\n      <td>1971.0</td>\n      <td>July</td>\n      <td>July</td>\n      <td>July</td>\n      <td>Woman</td>\n      <td>Woman</td>\n      <td>Woman</td>\n    </tr>\n    <tr>\n      <th>1</th>\n      <td>301079</td>\n      <td>1970.0</td>\n      <td>1970.0</td>\n      <td>1970.0</td>\n      <td>February</td>\n      <td>February</td>\n      <td>February</td>\n      <td>Woman</td>\n      <td>Woman</td>\n      <td>Woman</td>\n    </tr>\n    <tr>\n      <th>2</th>\n      <td>301082</td>\n      <td>1989.0</td>\n      <td>1989.0</td>\n      <td>1989.0</td>\n      <td>June</td>\n      <td>June</td>\n      <td>June</td>\n      <td>Man</td>\n      <td>Man</td>\n      <td>Man</td>\n    </tr>\n    <tr>\n      <th>3</th>\n      <td>301086</td>\n      <td>1972.0</td>\n      <td>1972.0</td>\n      <td>1972.0</td>\n      <td>June</td>\n      <td>June</td>\n      <td>June</td>\n      <td>Woman</td>\n      <td>Woman</td>\n      <td>Woman</td>\n    </tr>\n    <tr>\n      <th>4</th>\n      <td>301088</td>\n      <td>1978.0</td>\n      <td>1978.0</td>\n      <td>1978.0</td>\n      <td>May</td>\n      <td>May</td>\n      <td>May</td>\n      <td>Man</td>\n      <td>Man</td>\n      <td>Man</td>\n    </tr>\n    <tr>\n      <th>5</th>\n      <td>301090</td>\n      <td>1964.0</td>\n      <td>1964.0</td>\n      <td>1964.0</td>\n      <td>August</td>\n      <td>August</td>\n      <td>August</td>\n      <td>Woman</td>\n      <td>Woman</td>\n      <td>Woman</td>\n    </tr>\n    <tr>\n      <th>6</th>\n      <td>301092</td>\n      <td>1981.0</td>\n      <td>1981.0</td>\n      <td>1981.0</td>\n      <td>October</td>\n      <td>October</td>\n      <td>October</td>\n      <td>Woman</td>\n      <td>Woman</td>\n      <td>Woman</td>\n    </tr>\n    <tr>\n      <th>7</th>\n      <td>301104</td>\n      <td>1966.0</td>\n      <td>1966.0</td>\n      <td>1966.0</td>\n      <td>October</td>\n      <td>October</td>\n      <td>October</td>\n      <td>Woman</td>\n      <td>Woman</td>\n      <td>Woman</td>\n    </tr>\n    <tr>\n      <th>8</th>\n      <td>301113</td>\n      <td>1992.0</td>\n      <td>1992.0</td>\n      <td>1992.0</td>\n      <td>March</td>\n      <td>March</td>\n      <td>March</td>\n      <td>Woman</td>\n      <td>Woman</td>\n      <td>Woman</td>\n    </tr>\n    <tr>\n      <th>9</th>\n      <td>301177</td>\n      <td>1981.0</td>\n      <td>1981.0</td>\n      <td>1981.0</td>\n      <td>December</td>\n      <td>December</td>\n      <td>December</td>\n      <td>Woman</td>\n      <td>Woman</td>\n      <td>Woman</td>\n    </tr>\n  </tbody>\n</table>\n</div>"
     },
     "metadata": {},
     "execution_count": 82
    }
   ],
   "source": [
    "df_dates = df[['pid','w1_nc_dob_y', 'w2_nc_dob_y', 'w3_nc_dob_y', 'w1_nc_dob_m', 'w2_nc_dob_m', 'w3_nc_dob_m', 'w1_nc_gen', 'w2_nc_gen', 'w3_nc_gen']].copy()\n",
    "df_dates.head(10)"
   ]
  },
  {
   "source": [
    "There are several cases where the values are inconsistent across the different waves. I believe this is an input error since many of the entires will match. For example, the year of birth in record #4503 is (1989, 1990, 1989) yet the month of birth and gender is consistent (August, Woman). \n",
    "To clean this up, we should look at the triplet of columns (that we are interested in - birth date, gender, etc) and set all 3 values to whichever one appears most often."
   ],
   "cell_type": "markdown",
   "metadata": {}
  },
  {
   "cell_type": "code",
   "execution_count": 83,
   "metadata": {
    "tags": []
   },
   "outputs": [],
   "source": [
    "df_dates_edited = df_dates.copy()\n",
    "\n",
    "for index, row in df_dates.iterrows():\n",
    "    years = row[['w1_nc_dob_y', 'w2_nc_dob_y', 'w3_nc_dob_y']]\n",
    "    months = row[['w1_nc_dob_m', 'w2_nc_dob_m', 'w3_nc_dob_m']]\n",
    "    genders = row[['w1_nc_gen', 'w2_nc_gen', 'w3_nc_gen']]\n",
    "\n",
    "    YearOfBirth = years.value_counts().idxmax()\n",
    "    MonthOfBirth = months.value_counts().idxmax()\n",
    "    Gender = genders.value_counts().idxmax()\n",
    "\n",
    "\n",
    "\n",
    "    df_dates_edited.loc[index, 'YearOfBirth'] = YearOfBirth\n",
    "    df_dates_edited.loc[index, 'MonthOfBirth'] = MonthOfBirth\n",
    "    df_dates_edited.loc[index, 'Gender'] = Gender"
   ]
  },
  {
   "cell_type": "code",
   "execution_count": 84,
   "metadata": {},
   "outputs": [
    {
     "output_type": "execute_result",
     "data": {
      "text/plain": [
       "         pid YearOfBirth MonthOfBirth Gender\n",
       "0     301067      1971.0         July  Woman\n",
       "1     301079      1970.0     February  Woman\n",
       "2     301082      1989.0         June    Man\n",
       "3     301086      1972.0         June  Woman\n",
       "4     301088      1978.0          May    Man\n",
       "...      ...         ...          ...    ...\n",
       "4503  799572      1989.0       August  Woman\n",
       "4504  799619      1978.0    September    Man\n",
       "4505  799644      1976.0      January  Woman\n",
       "4506  799780      1996.0         July  Woman\n",
       "4507  799922      1971.0      January    Man\n",
       "\n",
       "[4508 rows x 4 columns]"
      ],
      "text/html": "<div>\n<style scoped>\n    .dataframe tbody tr th:only-of-type {\n        vertical-align: middle;\n    }\n\n    .dataframe tbody tr th {\n        vertical-align: top;\n    }\n\n    .dataframe thead th {\n        text-align: right;\n    }\n</style>\n<table border=\"1\" class=\"dataframe\">\n  <thead>\n    <tr style=\"text-align: right;\">\n      <th></th>\n      <th>pid</th>\n      <th>YearOfBirth</th>\n      <th>MonthOfBirth</th>\n      <th>Gender</th>\n    </tr>\n  </thead>\n  <tbody>\n    <tr>\n      <th>0</th>\n      <td>301067</td>\n      <td>1971.0</td>\n      <td>July</td>\n      <td>Woman</td>\n    </tr>\n    <tr>\n      <th>1</th>\n      <td>301079</td>\n      <td>1970.0</td>\n      <td>February</td>\n      <td>Woman</td>\n    </tr>\n    <tr>\n      <th>2</th>\n      <td>301082</td>\n      <td>1989.0</td>\n      <td>June</td>\n      <td>Man</td>\n    </tr>\n    <tr>\n      <th>3</th>\n      <td>301086</td>\n      <td>1972.0</td>\n      <td>June</td>\n      <td>Woman</td>\n    </tr>\n    <tr>\n      <th>4</th>\n      <td>301088</td>\n      <td>1978.0</td>\n      <td>May</td>\n      <td>Man</td>\n    </tr>\n    <tr>\n      <th>...</th>\n      <td>...</td>\n      <td>...</td>\n      <td>...</td>\n      <td>...</td>\n    </tr>\n    <tr>\n      <th>4503</th>\n      <td>799572</td>\n      <td>1989.0</td>\n      <td>August</td>\n      <td>Woman</td>\n    </tr>\n    <tr>\n      <th>4504</th>\n      <td>799619</td>\n      <td>1978.0</td>\n      <td>September</td>\n      <td>Man</td>\n    </tr>\n    <tr>\n      <th>4505</th>\n      <td>799644</td>\n      <td>1976.0</td>\n      <td>January</td>\n      <td>Woman</td>\n    </tr>\n    <tr>\n      <th>4506</th>\n      <td>799780</td>\n      <td>1996.0</td>\n      <td>July</td>\n      <td>Woman</td>\n    </tr>\n    <tr>\n      <th>4507</th>\n      <td>799922</td>\n      <td>1971.0</td>\n      <td>January</td>\n      <td>Man</td>\n    </tr>\n  </tbody>\n</table>\n<p>4508 rows × 4 columns</p>\n</div>"
     },
     "metadata": {},
     "execution_count": 84
    }
   ],
   "source": [
    "df_dates_edited = df_dates_edited.drop(['w1_nc_dob_y', 'w2_nc_dob_y', 'w3_nc_dob_y', 'w1_nc_dob_m', 'w2_nc_dob_m', 'w3_nc_dob_m', 'w1_nc_gen', 'w2_nc_gen', 'w3_nc_gen'], axis=1)\n",
    "df_dates_edited"
   ]
  },
  {
   "cell_type": "code",
   "execution_count": 92,
   "metadata": {},
   "outputs": [
    {
     "output_type": "execute_result",
     "data": {
      "text/plain": [
       "         pid YearOfBirth MonthOfBirth Gender             w1_nc_outcome  \\\n",
       "0     301067      1971.0         July  Woman  Successfully Interviewed   \n",
       "1     301079      1970.0     February  Woman  Successfully Interviewed   \n",
       "2     301082      1989.0         June    Man  Successfully Interviewed   \n",
       "3     301086      1972.0         June  Woman  Successfully Interviewed   \n",
       "4     301088      1978.0          May    Man  Successfully Interviewed   \n",
       "...      ...         ...          ...    ...                       ...   \n",
       "4503  799572      1989.0       August  Woman  Successfully Interviewed   \n",
       "4504  799619      1978.0    September    Man  Successfully Interviewed   \n",
       "4505  799644      1976.0      January  Woman  Successfully Interviewed   \n",
       "4506  799780      1996.0         July  Woman  Successfully Interviewed   \n",
       "4507  799922      1971.0      January    Man  Successfully Interviewed   \n",
       "\n",
       "     w1_nc_intrv_c w1_nc_intrv_d w1_nc_intrv_m w1_nc_intrv_y w1_nc_duration  \\\n",
       "0              609          15th           May          2020           15.2   \n",
       "1              609          22nd           May          2020          15.37   \n",
       "2              624           4th          June          2020          25.27   \n",
       "3              644           4th          June          2020          17.18   \n",
       "4              630          27th           May          2020          21.13   \n",
       "...            ...           ...           ...           ...            ...   \n",
       "4503           609          15th           May          2020          16.92   \n",
       "4504           616          21st           May          2020           18.9   \n",
       "4505           633          16th          June          2020          23.37   \n",
       "4506           614          10th          June          2020           16.5   \n",
       "4507           618          21st           May          2020          17.93   \n",
       "\n",
       "      ... w3_nc_smkprice_ld      w3_nc_smkbrand_ld w3_nc_smkbrand_ld_o  \\\n",
       "0     ...               NaN                    NaN                       \n",
       "1     ...               NaN                    NaN                       \n",
       "2     ...               NaN                    NaN                       \n",
       "3     ...               NaN                    NaN                       \n",
       "4     ...               NaN                    NaN                       \n",
       "...   ...               ...                    ...                 ...   \n",
       "4503  ...               NaN                    NaN                       \n",
       "4504  ...               5.0  Rudland & George (RG)                       \n",
       "4505  ...               NaN                    NaN                       \n",
       "4506  ...              80.0               Rothmans                       \n",
       "4507  ...               NaN                    NaN                       \n",
       "\n",
       "     w3_nc_smkcigday w3_nc_smkbrand_after w3_nc_smkbrand_after_o  \\\n",
       "0                NaN                  NaN                          \n",
       "1                NaN                  NaN                          \n",
       "2                NaN                  NaN                          \n",
       "3                NaN                  NaN                          \n",
       "4                NaN                  NaN                          \n",
       "...              ...                  ...                    ...   \n",
       "4503             NaN                  NaN                          \n",
       "4504            10.0            Pall Mall                          \n",
       "4505             NaN                  NaN                          \n",
       "4506             8.0             Rothmans                          \n",
       "4507             NaN                  NaN                          \n",
       "\n",
       "                      w3_nc_intres w3_nc_intlng1 w3_nc_intlng2 w3_nc_intlng3  \n",
       "0                         Friendly        Sepedi           NaN           NaN  \n",
       "1                         Friendly        Sepedi       Sesotho           NaN  \n",
       "2                         Friendly      IsiXhosa           NaN           NaN  \n",
       "3                         Friendly       IsiZulu           NaN           NaN  \n",
       "4                          Hostile      IsiXhosa       English           NaN  \n",
       "...                            ...           ...           ...           ...  \n",
       "4503                      Friendly        Sepedi           NaN           NaN  \n",
       "4504                      Friendly        Sepedi       Sesotho           NaN  \n",
       "4505                      Friendly       IsiZulu           NaN           NaN  \n",
       "4506  Neither hostile nor friendly     Afrikaans           NaN           NaN  \n",
       "4507                      Friendly     Afrikaans           NaN           NaN  \n",
       "\n",
       "[4508 rows x 516 columns]"
      ],
      "text/html": "<div>\n<style scoped>\n    .dataframe tbody tr th:only-of-type {\n        vertical-align: middle;\n    }\n\n    .dataframe tbody tr th {\n        vertical-align: top;\n    }\n\n    .dataframe thead th {\n        text-align: right;\n    }\n</style>\n<table border=\"1\" class=\"dataframe\">\n  <thead>\n    <tr style=\"text-align: right;\">\n      <th></th>\n      <th>pid</th>\n      <th>YearOfBirth</th>\n      <th>MonthOfBirth</th>\n      <th>Gender</th>\n      <th>w1_nc_outcome</th>\n      <th>w1_nc_intrv_c</th>\n      <th>w1_nc_intrv_d</th>\n      <th>w1_nc_intrv_m</th>\n      <th>w1_nc_intrv_y</th>\n      <th>w1_nc_duration</th>\n      <th>...</th>\n      <th>w3_nc_smkprice_ld</th>\n      <th>w3_nc_smkbrand_ld</th>\n      <th>w3_nc_smkbrand_ld_o</th>\n      <th>w3_nc_smkcigday</th>\n      <th>w3_nc_smkbrand_after</th>\n      <th>w3_nc_smkbrand_after_o</th>\n      <th>w3_nc_intres</th>\n      <th>w3_nc_intlng1</th>\n      <th>w3_nc_intlng2</th>\n      <th>w3_nc_intlng3</th>\n    </tr>\n  </thead>\n  <tbody>\n    <tr>\n      <th>0</th>\n      <td>301067</td>\n      <td>1971.0</td>\n      <td>July</td>\n      <td>Woman</td>\n      <td>Successfully Interviewed</td>\n      <td>609</td>\n      <td>15th</td>\n      <td>May</td>\n      <td>2020</td>\n      <td>15.2</td>\n      <td>...</td>\n      <td>NaN</td>\n      <td>NaN</td>\n      <td></td>\n      <td>NaN</td>\n      <td>NaN</td>\n      <td></td>\n      <td>Friendly</td>\n      <td>Sepedi</td>\n      <td>NaN</td>\n      <td>NaN</td>\n    </tr>\n    <tr>\n      <th>1</th>\n      <td>301079</td>\n      <td>1970.0</td>\n      <td>February</td>\n      <td>Woman</td>\n      <td>Successfully Interviewed</td>\n      <td>609</td>\n      <td>22nd</td>\n      <td>May</td>\n      <td>2020</td>\n      <td>15.37</td>\n      <td>...</td>\n      <td>NaN</td>\n      <td>NaN</td>\n      <td></td>\n      <td>NaN</td>\n      <td>NaN</td>\n      <td></td>\n      <td>Friendly</td>\n      <td>Sepedi</td>\n      <td>Sesotho</td>\n      <td>NaN</td>\n    </tr>\n    <tr>\n      <th>2</th>\n      <td>301082</td>\n      <td>1989.0</td>\n      <td>June</td>\n      <td>Man</td>\n      <td>Successfully Interviewed</td>\n      <td>624</td>\n      <td>4th</td>\n      <td>June</td>\n      <td>2020</td>\n      <td>25.27</td>\n      <td>...</td>\n      <td>NaN</td>\n      <td>NaN</td>\n      <td></td>\n      <td>NaN</td>\n      <td>NaN</td>\n      <td></td>\n      <td>Friendly</td>\n      <td>IsiXhosa</td>\n      <td>NaN</td>\n      <td>NaN</td>\n    </tr>\n    <tr>\n      <th>3</th>\n      <td>301086</td>\n      <td>1972.0</td>\n      <td>June</td>\n      <td>Woman</td>\n      <td>Successfully Interviewed</td>\n      <td>644</td>\n      <td>4th</td>\n      <td>June</td>\n      <td>2020</td>\n      <td>17.18</td>\n      <td>...</td>\n      <td>NaN</td>\n      <td>NaN</td>\n      <td></td>\n      <td>NaN</td>\n      <td>NaN</td>\n      <td></td>\n      <td>Friendly</td>\n      <td>IsiZulu</td>\n      <td>NaN</td>\n      <td>NaN</td>\n    </tr>\n    <tr>\n      <th>4</th>\n      <td>301088</td>\n      <td>1978.0</td>\n      <td>May</td>\n      <td>Man</td>\n      <td>Successfully Interviewed</td>\n      <td>630</td>\n      <td>27th</td>\n      <td>May</td>\n      <td>2020</td>\n      <td>21.13</td>\n      <td>...</td>\n      <td>NaN</td>\n      <td>NaN</td>\n      <td></td>\n      <td>NaN</td>\n      <td>NaN</td>\n      <td></td>\n      <td>Hostile</td>\n      <td>IsiXhosa</td>\n      <td>English</td>\n      <td>NaN</td>\n    </tr>\n    <tr>\n      <th>...</th>\n      <td>...</td>\n      <td>...</td>\n      <td>...</td>\n      <td>...</td>\n      <td>...</td>\n      <td>...</td>\n      <td>...</td>\n      <td>...</td>\n      <td>...</td>\n      <td>...</td>\n      <td>...</td>\n      <td>...</td>\n      <td>...</td>\n      <td>...</td>\n      <td>...</td>\n      <td>...</td>\n      <td>...</td>\n      <td>...</td>\n      <td>...</td>\n      <td>...</td>\n      <td>...</td>\n    </tr>\n    <tr>\n      <th>4503</th>\n      <td>799572</td>\n      <td>1989.0</td>\n      <td>August</td>\n      <td>Woman</td>\n      <td>Successfully Interviewed</td>\n      <td>609</td>\n      <td>15th</td>\n      <td>May</td>\n      <td>2020</td>\n      <td>16.92</td>\n      <td>...</td>\n      <td>NaN</td>\n      <td>NaN</td>\n      <td></td>\n      <td>NaN</td>\n      <td>NaN</td>\n      <td></td>\n      <td>Friendly</td>\n      <td>Sepedi</td>\n      <td>NaN</td>\n      <td>NaN</td>\n    </tr>\n    <tr>\n      <th>4504</th>\n      <td>799619</td>\n      <td>1978.0</td>\n      <td>September</td>\n      <td>Man</td>\n      <td>Successfully Interviewed</td>\n      <td>616</td>\n      <td>21st</td>\n      <td>May</td>\n      <td>2020</td>\n      <td>18.9</td>\n      <td>...</td>\n      <td>5.0</td>\n      <td>Rudland &amp; George (RG)</td>\n      <td></td>\n      <td>10.0</td>\n      <td>Pall Mall</td>\n      <td></td>\n      <td>Friendly</td>\n      <td>Sepedi</td>\n      <td>Sesotho</td>\n      <td>NaN</td>\n    </tr>\n    <tr>\n      <th>4505</th>\n      <td>799644</td>\n      <td>1976.0</td>\n      <td>January</td>\n      <td>Woman</td>\n      <td>Successfully Interviewed</td>\n      <td>633</td>\n      <td>16th</td>\n      <td>June</td>\n      <td>2020</td>\n      <td>23.37</td>\n      <td>...</td>\n      <td>NaN</td>\n      <td>NaN</td>\n      <td></td>\n      <td>NaN</td>\n      <td>NaN</td>\n      <td></td>\n      <td>Friendly</td>\n      <td>IsiZulu</td>\n      <td>NaN</td>\n      <td>NaN</td>\n    </tr>\n    <tr>\n      <th>4506</th>\n      <td>799780</td>\n      <td>1996.0</td>\n      <td>July</td>\n      <td>Woman</td>\n      <td>Successfully Interviewed</td>\n      <td>614</td>\n      <td>10th</td>\n      <td>June</td>\n      <td>2020</td>\n      <td>16.5</td>\n      <td>...</td>\n      <td>80.0</td>\n      <td>Rothmans</td>\n      <td></td>\n      <td>8.0</td>\n      <td>Rothmans</td>\n      <td></td>\n      <td>Neither hostile nor friendly</td>\n      <td>Afrikaans</td>\n      <td>NaN</td>\n      <td>NaN</td>\n    </tr>\n    <tr>\n      <th>4507</th>\n      <td>799922</td>\n      <td>1971.0</td>\n      <td>January</td>\n      <td>Man</td>\n      <td>Successfully Interviewed</td>\n      <td>618</td>\n      <td>21st</td>\n      <td>May</td>\n      <td>2020</td>\n      <td>17.93</td>\n      <td>...</td>\n      <td>NaN</td>\n      <td>NaN</td>\n      <td></td>\n      <td>NaN</td>\n      <td>NaN</td>\n      <td></td>\n      <td>Friendly</td>\n      <td>Afrikaans</td>\n      <td>NaN</td>\n      <td>NaN</td>\n    </tr>\n  </tbody>\n</table>\n<p>4508 rows × 516 columns</p>\n</div>"
     },
     "metadata": {},
     "execution_count": 92
    }
   ],
   "source": [
    "# df = df.drop(['pid','w1_nc_dob_y', 'w2_nc_dob_y', 'w3_nc_dob_y', 'w1_nc_dob_m', 'w2_nc_dob_m', 'w3_nc_dob_m', 'w1_nc_gen', 'w2_nc_gen', 'w3_nc_gen'], axis=1)\n",
    "\n",
    "df = pd.concat([df_dates_edited, df], axis=1)\n",
    "df"
   ]
  },
  {
   "cell_type": "code",
   "execution_count": null,
   "metadata": {},
   "outputs": [],
   "source": []
  }
 ],
 "metadata": {
  "kernelspec": {
   "display_name": "Python 3",
   "language": "python",
   "name": "python3"
  },
  "language_info": {
   "codemirror_mode": {
    "name": "ipython",
    "version": 3
   },
   "file_extension": ".py",
   "mimetype": "text/x-python",
   "name": "python",
   "nbconvert_exporter": "python",
   "pygments_lexer": "ipython3",
   "version": "3.8.6-final"
  }
 },
 "nbformat": 4,
 "nbformat_minor": 5
}