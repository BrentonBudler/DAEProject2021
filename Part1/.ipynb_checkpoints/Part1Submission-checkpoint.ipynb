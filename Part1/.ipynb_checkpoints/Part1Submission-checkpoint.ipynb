{
 "cells": [
  {
   "cell_type": "markdown",
   "metadata": {},
   "source": [
    "# NIDS-CRAM 2020 Wave 1\n",
    "# National Income Dynamics Study-Coronavirus Rapid Mobile Survey \n",
    "# The effect of COVID-19 on the labour and welfare of South Africans"
   ]
  },
  {
   "cell_type": "markdown",
   "metadata": {
    "toc": true
   },
   "source": [
    "<h1>Table of Contents<span class=\"tocSkip\"></span></h1>\n",
    "<div class=\"toc\"><ul class=\"toc-item\"><li><span><a href=\"#Executive-Summary\" data-toc-modified-id=\"Executive-Summary-1\">Executive Summary</a></span><ul class=\"toc-item\"><li><span><a href=\"#What-is-the-purpose-of-this-notebook?\" data-toc-modified-id=\"What-is-the-purpose-of-this-notebook?-1.1\">What is the purpose of this notebook?</a></span></li><li><span><a href=\"#What-is-being-modelled?\" data-toc-modified-id=\"What-is-being-modelled?-1.2\">What is being modelled?</a></span></li><li><span><a href=\"#What-are-the-main-results?\" data-toc-modified-id=\"What-are-the-main-results?-1.3\">What are the main results?</a></span></li><li><span><a href=\"#Limitations\" data-toc-modified-id=\"Limitations-1.4\">Limitations</a></span></li></ul></li><li><span><a href=\"#Introduction\" data-toc-modified-id=\"Introduction-2\">Introduction</a></span><ul class=\"toc-item\"><li><span><a href=\"#Problem-Context-and-Motivation\" data-toc-modified-id=\"Problem-Context-and-Motivation-2.1\">Problem Context and Motivation</a></span></li><li><span><a href=\"#Describe-Questions\" data-toc-modified-id=\"Describe-Questions-2.2\">Describe Questions</a></span></li><li><span><a href=\"#Overview-of-Methodology\" data-toc-modified-id=\"Overview-of-Methodology-2.3\">Overview of Methodology</a></span></li><li><span><a href=\"#Setion-Contents-Overview\" data-toc-modified-id=\"Setion-Contents-Overview-2.4\">Setion Contents Overview</a></span></li></ul></li><li><span><a href=\"#Data-Description\" data-toc-modified-id=\"Data-Description-3\">Data Description</a></span><ul class=\"toc-item\"><li><span><a href=\"#Origin\" data-toc-modified-id=\"Origin-3.1\">Origin</a></span></li><li><span><a href=\"#Contents-(Who,-What,-Where)\" data-toc-modified-id=\"Contents-(Who,-What,-Where)-3.2\">Contents (Who, What, Where)</a></span></li><li><span><a href=\"#Date-Collected-(When)\" data-toc-modified-id=\"Date-Collected-(When)-3.3\">Date Collected (When)</a></span></li><li><span><a href=\"#Collection-Method-(How)\" data-toc-modified-id=\"Collection-Method-(How)-3.4\">Collection Method (How)</a></span></li><li><span><a href=\"#Dataset-Size-(Rows-and-Columns)\" data-toc-modified-id=\"Dataset-Size-(Rows-and-Columns)-3.5\">Dataset Size (Rows and Columns)</a></span></li><li><span><a href=\"#Date-Downloaded\" data-toc-modified-id=\"Date-Downloaded-3.6\">Date Downloaded</a></span></li><li><span><a href=\"#Validations\" data-toc-modified-id=\"Validations-3.7\">Validations</a></span></li><li><span><a href=\"#Aspects-of-Data-Quality-(see-Class-Notes)\" data-toc-modified-id=\"Aspects-of-Data-Quality-(see-Class-Notes)-3.8\">Aspects of Data Quality (see Class Notes)</a></span></li><li><span><a href=\"#Ability-to-Answer-Question\" data-toc-modified-id=\"Ability-to-Answer-Question-3.9\">Ability to Answer Question</a></span></li></ul></li><li><span><a href=\"#Data-Wrangling\" data-toc-modified-id=\"Data-Wrangling-4\">Data Wrangling</a></span><ul class=\"toc-item\"><li><span><a href=\"#Tidyness-of-Data\" data-toc-modified-id=\"Tidyness-of-Data-4.1\">Tidyness of Data</a></span></li><li><span><a href=\"#Techniques:-Joins,-removing-duplicates,-cleaning-variables,-changing-types,-aggregations\" data-toc-modified-id=\"Techniques:-Joins,-removing-duplicates,-cleaning-variables,-changing-types,-aggregations-4.2\">Techniques: Joins, removing duplicates, cleaning variables, changing types, aggregations</a></span></li><li><span><a href=\"#Sense-checks-after-cleaning-(raw-vs-cleaned)\" data-toc-modified-id=\"Sense-checks-after-cleaning-(raw-vs-cleaned)-4.3\">Sense checks after cleaning (raw vs cleaned)</a></span></li></ul></li><li><span><a href=\"#Exploratory-Analyses\" data-toc-modified-id=\"Exploratory-Analyses-5\">Exploratory Analyses</a></span></li><li><span><a href=\"#Imports-\" data-toc-modified-id=\"Imports--6\">Imports <a class=\"anchor\" id=\"introduction_imports\"></a></a></span></li><li><span><a href=\"#Functions-\" data-toc-modified-id=\"Functions--7\">Functions <a class=\"anchor\" id=\"introduction_functions\"></a></a></span></li><li><span><a href=\"#2.1-Data-Description\" data-toc-modified-id=\"2.1-Data-Description-8\">2.1 Data Description</a></span></li><li><span><a href=\"#2.2-Data-Ingestion\" data-toc-modified-id=\"2.2-Data-Ingestion-9\">2.2 Data Ingestion</a></span></li><li><span><a href=\"#2.3-Exploratory-Data-Analysis\" data-toc-modified-id=\"2.3-Exploratory-Data-Analysis-10\">2.3 Exploratory Data Analysis</a></span><ul class=\"toc-item\"><li><span><a href=\"#Education\" data-toc-modified-id=\"Education-10.1\">Education</a></span></li><li><span><a href=\"#Labour\" data-toc-modified-id=\"Labour-10.2\">Labour</a></span></li></ul></li><li><span><a href=\"#4.1---Missing-Data\" data-toc-modified-id=\"4.1---Missing-Data-11\">4.1 - Missing Data</a></span></li></ul></div>"
   ]
  },
  {
   "cell_type": "markdown",
   "metadata": {},
   "source": [
    "## Executive Summary"
   ]
  },
  {
   "cell_type": "markdown",
   "metadata": {},
   "source": [
    "### What is the purpose of this notebook?\n",
    "- To perform EDA on the NIDS-CRAM Wave 1 dataset"
   ]
  },
  {
   "cell_type": "markdown",
   "metadata": {},
   "source": [
    "### What is being modelled?\n",
    "- The job security of people working in different occupations"
   ]
  },
  {
   "cell_type": "markdown",
   "metadata": {},
   "source": [
    "### What are the main results?"
   ]
  },
  {
   "cell_type": "markdown",
   "metadata": {},
   "source": [
    "### Limitations"
   ]
  },
  {
   "cell_type": "markdown",
   "metadata": {},
   "source": [
    "## Introduction"
   ]
  },
  {
   "cell_type": "markdown",
   "metadata": {},
   "source": [
    "### Problem Context and Motivation"
   ]
  },
  {
   "cell_type": "markdown",
   "metadata": {},
   "source": [
    "### Describe Questions"
   ]
  },
  {
   "cell_type": "markdown",
   "metadata": {},
   "source": [
    "### Overview of Methodology"
   ]
  },
  {
   "cell_type": "markdown",
   "metadata": {},
   "source": [
    "### Setion Contents Overview"
   ]
  },
  {
   "cell_type": "markdown",
   "metadata": {},
   "source": [
    "## Data Description\n",
    "The coronavirus pandemic is the largest social and economic shock in our lifetime. The rapid spread\n",
    "of this virus around the world and the economic devastation it has left in its wake is unlike anything\n",
    "we have seen before, at least not in our lifetimes. The local and international landscape is constantly\n",
    "morphing and changing in unpredictable ways making policy formulation and implementation as\n",
    "hard as it can possibly be. Policies that are helpful and sensible today may be harmful and illogical\n",
    "tomorrow. Every month seems to yield new information and consequences that were unforeseen\n",
    "even six weeks before. Indeed, “There are decades where nothing happens, and there are weeks\n",
    "where decades happen” (Lenin).\n",
    "\n",
    "It is within this context that we have convened a national consortium of 30 social science researchers\n",
    "from five South African universities to conduct the National Income Dynamics Study (NIDS)\n",
    "Coronavirus Rapid Mobile Survey (CRAM) over the course of May – December 2020. Because\n",
    "decision-making is only as good as the data on which it is based, the NIDS-CRAM project exists\n",
    "to collect, analyze and disseminate data on a broadly representative sample of South African\n",
    "individuals, and to report on their employment and welfare in light of the COVID-19 pandemic.\n",
    "\n",
    "Given that all in-person data-collection activities have ceased, the decision was made to conduct a\n",
    "telephonic follow-up survey of a pre-existing nationally representative household panel survey; the\n",
    "National Income Dynamics Study (NIDS). With the permission of the South African Presidency and\n",
    "after ethical clearance, the NIDS-CRAM research team was granted access to the sampling frame\n",
    "and telephone numbers of all individuals surveyed in NIDS 2017. The first wave of NIDS-CRAM ran\n",
    "from the 7th of May to the 27th of June and used 50 call-center agents to survey a representative\n",
    "sub-sample of 7,000 respondents from NIDS 2017. Among many other topics, the 20-minute survey\n",
    "asked respondents about their current and retrospective employment, household hunger, receipt\n",
    "of grants, COVID-19 risk perceptions, knowledge and behavior, among many other questions. This\n",
    "synthesis report presents the key findings from the 11 papers summarized into three main sections:\n",
    "employment, hunger, and health.\n",
    "\n",
    "During the course of 2020 there will be at least four further waves of data collection following the\n",
    "same individuals (a panel study). In that way the NIDS-CRAM study can be seen as a type of\n",
    "‘barometer’, assessing how firms and families are being affected by the lockdown, the pandemic\n",
    "and the recession, but also reporting on the reach and efficacy of government’s social and economic\n",
    "relief efforts in the coming months. For further information on the conduct of the study please see\n",
    "Section 5 of this report as well as the following three technical documents: (1) the questionnaire\n",
    "(Spaull et al., 2020), (2) the Sampling and Weighting Report (Kerr, Ardington & Burger, 2020) and\n",
    "(3) the Panel User Manual (Ingle, Brophy and Daniels, 2020). The NIDS-CRAM Wave 1 data is freely\n",
    "available for download and use on the Data First Open Data Portal (NIDS-CRAM, 2020).\n",
    "\n",
    "The Wave 1 employment questions ask respondents about the period February to April 2020, while\n",
    "many of the welfare questions (such as the presence and extent of hunger) reflect on the month of\n",
    "April as well as the ‘last seven days’. The month of April was an especially hard time in South Africa\n",
    "as the country was experiencing its most severe form of lockdown. Many South Africans income\n",
    "and employment was severely affected, and government relief efforts began in earnest in May (with\n",
    "the top up to existing government grants) and in June (with the progressive roll-out of the Special\n",
    "COVID-19 Social Relief of Distress Grant. We believe that the results of the NIDS-CRAM Wave 1\n",
    "study included here are a helpful baseline from which to compare changes over time, and hopefully shed light on who is being affected, how they are being affected, and how might government and\n",
    "civil society respond to this unfolding crisis.\n",
    "The aim of this synthesis report is to present an overview of the high-level findings from the NIDSCRAM Working Paper Series which is made up of 11 papers. All of these papers use the NIDSCRAM Wave 1 data as their primary source and report on various aspects related to employment,\n",
    "poverty, hunger, grants, migration and adherence to COVID-19 prevention strategies. All papers\n",
    "have undergone peer-review. The papers and the data on which they are based are all freely\n",
    "available for anyone to download and use. "
   ]
  },
  {
   "cell_type": "markdown",
   "metadata": {},
   "source": [
    "### Origin"
   ]
  },
  {
   "cell_type": "markdown",
   "metadata": {},
   "source": [
    "### Contents (Who, What, Where)"
   ]
  },
  {
   "cell_type": "markdown",
   "metadata": {},
   "source": [
    "### Date Collected (When)\n"
   ]
  },
  {
   "cell_type": "markdown",
   "metadata": {},
   "source": [
    "### Collection Method (How)"
   ]
  },
  {
   "cell_type": "markdown",
   "metadata": {},
   "source": [
    "### Dataset Size (Rows and Columns)\n",
    "The dataset consists of 7073 records (rows), which each represent an individuals reponses to the survey.\n",
    "\n",
    "The dataset contains 170 variables (columns)"
   ]
  },
  {
   "cell_type": "markdown",
   "metadata": {},
   "source": [
    "### Date Downloaded\n",
    "This data was downloaded from https://www.datafirst.uct.ac.za/dataportal/index.php/catalog/817 on the 5th of March 2021."
   ]
  },
  {
   "cell_type": "markdown",
   "metadata": {},
   "source": [
    "### Validations"
   ]
  },
  {
   "cell_type": "markdown",
   "metadata": {},
   "source": [
    "### Aspects of Data Quality (see Class Notes)\n",
    "- Validity: Does the data conform to a standard format?\n",
    "- Accuracy: Does the data agree with reality or with a trusted external source?\n",
    "- Completeness: Are all records present?\n",
    "- Consistency: Is data in a field (down a column) or for an instance (across a row) in logical agreement?\n",
    "- Uniformity: Are the same units used across a given field?"
   ]
  },
  {
   "cell_type": "markdown",
   "metadata": {},
   "source": [
    "### Ability to Answer Question"
   ]
  },
  {
   "cell_type": "markdown",
   "metadata": {},
   "source": [
    "## Data Wrangling"
   ]
  },
  {
   "cell_type": "markdown",
   "metadata": {},
   "source": [
    "### Tidyness of Data"
   ]
  },
  {
   "cell_type": "markdown",
   "metadata": {},
   "source": [
    "### Techniques: Joins, removing duplicates, cleaning variables, changing types, aggregations"
   ]
  },
  {
   "cell_type": "markdown",
   "metadata": {},
   "source": [
    "### Sense checks after cleaning (raw vs cleaned)"
   ]
  },
  {
   "cell_type": "markdown",
   "metadata": {},
   "source": [
    "## Exploratory Analyses"
   ]
  },
  {
   "cell_type": "markdown",
   "metadata": {},
   "source": [
    "## Imports <a class=\"anchor\" id=\"introduction_imports\"></a>"
   ]
  },
  {
   "cell_type": "code",
   "execution_count": 3,
   "metadata": {},
   "outputs": [],
   "source": [
    "import numpy as np \n",
    "import pandas as pd \n",
    "import matplotlib.pyplot as plt \n",
    "import seaborn as sns "
   ]
  },
  {
   "cell_type": "markdown",
   "metadata": {},
   "source": [
    "## Functions <a class=\"anchor\" id=\"introduction_functions\"></a>"
   ]
  },
  {
   "cell_type": "code",
   "execution_count": 4,
   "metadata": {},
   "outputs": [
    {
     "name": "stderr",
     "output_type": "stream",
     "text": [
      "/home/dinoanasta/.local/lib/python3.8/site-packages/IPython/core/interactiveshell.py:3155: DtypeWarning: Columns (6,121,151) have mixed types.Specify dtype option on import or set low_memory=False.\n",
      "  has_raised = await self.run_ast_nodes(code_ast.body, cell_name,\n"
     ]
    },
    {
     "data": {
      "text/html": [
       "<div>\n",
       "<style scoped>\n",
       "    .dataframe tbody tr th:only-of-type {\n",
       "        vertical-align: middle;\n",
       "    }\n",
       "\n",
       "    .dataframe tbody tr th {\n",
       "        vertical-align: top;\n",
       "    }\n",
       "\n",
       "    .dataframe thead th {\n",
       "        text-align: right;\n",
       "    }\n",
       "</style>\n",
       "<table border=\"1\" class=\"dataframe\">\n",
       "  <thead>\n",
       "    <tr style=\"text-align: right;\">\n",
       "      <th></th>\n",
       "      <th>pid</th>\n",
       "      <th>w1_nc_outcome</th>\n",
       "      <th>w1_nc_intrv_c</th>\n",
       "      <th>w1_nc_intrv_d</th>\n",
       "      <th>w1_nc_intrv_m</th>\n",
       "      <th>w1_nc_intrv_y</th>\n",
       "      <th>w1_nc_duration</th>\n",
       "      <th>w1_nc_dob_m</th>\n",
       "      <th>w1_nc_dob_y</th>\n",
       "      <th>w1_nc_gen</th>\n",
       "      <th>...</th>\n",
       "      <th>w1_nc_intlng2</th>\n",
       "      <th>w1_nc_intlng3</th>\n",
       "      <th>w1_nc_intlng4</th>\n",
       "      <th>w1_nc_intlng5</th>\n",
       "      <th>w1_nc_intlng6</th>\n",
       "      <th>w1_nc_intlng7</th>\n",
       "      <th>w1_nc_intlng8</th>\n",
       "      <th>w1_nc_intlng9</th>\n",
       "      <th>w1_nc_intlng10</th>\n",
       "      <th>w1_nc_intlng11</th>\n",
       "    </tr>\n",
       "  </thead>\n",
       "  <tbody>\n",
       "    <tr>\n",
       "      <th>0</th>\n",
       "      <td>301013</td>\n",
       "      <td>Successfully Interviewed</td>\n",
       "      <td>610</td>\n",
       "      <td>15th</td>\n",
       "      <td>June</td>\n",
       "      <td>2020</td>\n",
       "      <td>15.95</td>\n",
       "      <td>June</td>\n",
       "      <td>1981.0</td>\n",
       "      <td>Man</td>\n",
       "      <td>...</td>\n",
       "      <td>NaN</td>\n",
       "      <td>NaN</td>\n",
       "      <td>NaN</td>\n",
       "      <td>NaN</td>\n",
       "      <td>NaN</td>\n",
       "      <td>NaN</td>\n",
       "      <td>NaN</td>\n",
       "      <td>NaN</td>\n",
       "      <td>NaN</td>\n",
       "      <td>NaN</td>\n",
       "    </tr>\n",
       "    <tr>\n",
       "      <th>1</th>\n",
       "      <td>301058</td>\n",
       "      <td>Successfully Interviewed</td>\n",
       "      <td>611</td>\n",
       "      <td>25th</td>\n",
       "      <td>June</td>\n",
       "      <td>2020</td>\n",
       "      <td>22.03</td>\n",
       "      <td>January</td>\n",
       "      <td>1948.0</td>\n",
       "      <td>Woman</td>\n",
       "      <td>...</td>\n",
       "      <td>NaN</td>\n",
       "      <td>NaN</td>\n",
       "      <td>NaN</td>\n",
       "      <td>NaN</td>\n",
       "      <td>NaN</td>\n",
       "      <td>NaN</td>\n",
       "      <td>NaN</td>\n",
       "      <td>NaN</td>\n",
       "      <td>NaN</td>\n",
       "      <td>NaN</td>\n",
       "    </tr>\n",
       "    <tr>\n",
       "      <th>2</th>\n",
       "      <td>301059</td>\n",
       "      <td>Successfully Interviewed</td>\n",
       "      <td>604</td>\n",
       "      <td>20th</td>\n",
       "      <td>June</td>\n",
       "      <td>2020</td>\n",
       "      <td>12.75</td>\n",
       "      <td>July</td>\n",
       "      <td>1990.0</td>\n",
       "      <td>Woman</td>\n",
       "      <td>...</td>\n",
       "      <td>NaN</td>\n",
       "      <td>NaN</td>\n",
       "      <td>NaN</td>\n",
       "      <td>NaN</td>\n",
       "      <td>NaN</td>\n",
       "      <td>NaN</td>\n",
       "      <td>NaN</td>\n",
       "      <td>NaN</td>\n",
       "      <td>NaN</td>\n",
       "      <td>NaN</td>\n",
       "    </tr>\n",
       "    <tr>\n",
       "      <th>3</th>\n",
       "      <td>301062</td>\n",
       "      <td>Successfully Interviewed</td>\n",
       "      <td>640</td>\n",
       "      <td>25th</td>\n",
       "      <td>June</td>\n",
       "      <td>2020</td>\n",
       "      <td>22.33</td>\n",
       "      <td>June</td>\n",
       "      <td>1972.0</td>\n",
       "      <td>Woman</td>\n",
       "      <td>...</td>\n",
       "      <td>English</td>\n",
       "      <td>NaN</td>\n",
       "      <td>NaN</td>\n",
       "      <td>NaN</td>\n",
       "      <td>NaN</td>\n",
       "      <td>NaN</td>\n",
       "      <td>NaN</td>\n",
       "      <td>NaN</td>\n",
       "      <td>NaN</td>\n",
       "      <td>NaN</td>\n",
       "    </tr>\n",
       "    <tr>\n",
       "      <th>4</th>\n",
       "      <td>301067</td>\n",
       "      <td>Successfully Interviewed</td>\n",
       "      <td>609</td>\n",
       "      <td>15th</td>\n",
       "      <td>May</td>\n",
       "      <td>2020</td>\n",
       "      <td>15.2</td>\n",
       "      <td>July</td>\n",
       "      <td>1971.0</td>\n",
       "      <td>Woman</td>\n",
       "      <td>...</td>\n",
       "      <td>NaN</td>\n",
       "      <td>NaN</td>\n",
       "      <td>NaN</td>\n",
       "      <td>NaN</td>\n",
       "      <td>NaN</td>\n",
       "      <td>NaN</td>\n",
       "      <td>NaN</td>\n",
       "      <td>NaN</td>\n",
       "      <td>NaN</td>\n",
       "      <td>NaN</td>\n",
       "    </tr>\n",
       "  </tbody>\n",
       "</table>\n",
       "<p>5 rows × 170 columns</p>\n",
       "</div>"
      ],
      "text/plain": [
       "      pid             w1_nc_outcome  w1_nc_intrv_c w1_nc_intrv_d  \\\n",
       "0  301013  Successfully Interviewed            610          15th   \n",
       "1  301058  Successfully Interviewed            611          25th   \n",
       "2  301059  Successfully Interviewed            604          20th   \n",
       "3  301062  Successfully Interviewed            640          25th   \n",
       "4  301067  Successfully Interviewed            609          15th   \n",
       "\n",
       "  w1_nc_intrv_m  w1_nc_intrv_y w1_nc_duration w1_nc_dob_m w1_nc_dob_y  \\\n",
       "0          June           2020          15.95        June      1981.0   \n",
       "1          June           2020          22.03     January      1948.0   \n",
       "2          June           2020          12.75        July      1990.0   \n",
       "3          June           2020          22.33        June      1972.0   \n",
       "4           May           2020           15.2        July      1971.0   \n",
       "\n",
       "  w1_nc_gen  ... w1_nc_intlng2 w1_nc_intlng3 w1_nc_intlng4 w1_nc_intlng5  \\\n",
       "0       Man  ...           NaN           NaN           NaN           NaN   \n",
       "1     Woman  ...           NaN           NaN           NaN           NaN   \n",
       "2     Woman  ...           NaN           NaN           NaN           NaN   \n",
       "3     Woman  ...       English           NaN           NaN           NaN   \n",
       "4     Woman  ...           NaN           NaN           NaN           NaN   \n",
       "\n",
       "  w1_nc_intlng6 w1_nc_intlng7 w1_nc_intlng8 w1_nc_intlng9 w1_nc_intlng10  \\\n",
       "0           NaN           NaN           NaN           NaN            NaN   \n",
       "1           NaN           NaN           NaN           NaN            NaN   \n",
       "2           NaN           NaN           NaN           NaN            NaN   \n",
       "3           NaN           NaN           NaN           NaN            NaN   \n",
       "4           NaN           NaN           NaN           NaN            NaN   \n",
       "\n",
       "  w1_nc_intlng11  \n",
       "0            NaN  \n",
       "1            NaN  \n",
       "2            NaN  \n",
       "3            NaN  \n",
       "4            NaN  \n",
       "\n",
       "[5 rows x 170 columns]"
      ]
     },
     "metadata": {},
     "output_type": "display_data"
    }
   ],
   "source": [
    "raw_data = pd.read_csv('Wave1.csv')\n",
    "display(raw_data.head())"
   ]
  },
  {
   "cell_type": "markdown",
   "metadata": {},
   "source": [
    "# Chapter 1 - Demographics <a class=\"anchor\" id=\"section_demographics\"></a>\n"
   ]
  },
  {
   "cell_type": "code",
   "execution_count": 5,
   "metadata": {},
   "outputs": [],
   "source": [
    "#Dino"
   ]
  },
  {
   "cell_type": "markdown",
   "metadata": {},
   "source": [
    "# Chapter 2 - Labour <a class=\"anchor\" id=\"section_labour\"></a>"
   ]
  },
  {
   "cell_type": "markdown",
   "metadata": {},
   "source": [
    "This section includes an exploraroty data analysis of the varaibles pertaining to work, and factors effecting an individuals work."
   ]
  },
  {
   "cell_type": "markdown",
   "metadata": {},
   "source": [
    "## 2.1 Data Description "
   ]
  },
  {
   "cell_type": "markdown",
   "metadata": {},
   "source": [
    "**Education:** A persons education will effect what kind of work they do \n",
    "* **highest_grade** - Highest school grade completed/passed\n",
    "* **tertiary_edu** - Successfully completed any tertiary \n",
    "<br><br>\n",
    "\n",
    "**Work in February** \n",
    "* **job_in_feb** - Had any kind of job\n",
    "* **work_in_feb** - Did work for profit/pay even just for an hour or a small amount \n",
    "* **bus_in_feb** - Did any businesss, big or small, even just for an hour\n",
    "* **work_days_feb** - Average number of days worked per week \n",
    "* **work_hours_feb** - Average number of hours worked per day \n",
    "* **take_home_pay_feb** - Amount of take-home profit/pay in the month of February \n",
    "<br><br>\n",
    "\n",
    "**Work in April** \n",
    "* **job_in_apr** - Had any kind of job\n",
    "* **work_in_apr** - Did work for profit/pay even just for an hour or a small amount \n",
    "* **bus_in_apr** - Did any businesss, big or small, even just for an hour\n",
    "* **work_days_apr** - Average number of days worked per week \n",
    "* **work_hours_apr** - Average number of hours worked per day \n",
    "* **take_home_pay_apr** - Amount of take-home profit/pay in the month of April \n",
    "* **return_to_job** - Have any paid activity/job to return to in the next 4 weeks (At time of survey)\n",
    "* **not_working_reason** - Main reason for not working in April \n",
    "<br><br>\n",
    "\n",
    "**Type of work** \n",
    "* **main_form_work** - Respondents main form of work \n",
    "* **usual_work** - Occupational code for usual work "
   ]
  },
  {
   "cell_type": "markdown",
   "metadata": {},
   "source": [
    "## 2.2 Data Ingestion"
   ]
  },
  {
   "cell_type": "code",
   "execution_count": 6,
   "metadata": {},
   "outputs": [],
   "source": [
    "lbdf = pd.DataFrame()\n",
    "\n",
    "lbdf['highest_grade'] = raw_data.w1_nc_edschgrd\n",
    "lbdf['tertiary_edu'] = raw_data.w1_nc_edter\n",
    "\n",
    "lbdf['job_in_feb'] = raw_data.w1_nc_em_feb\n",
    "lbdf['work_in_feb'] = raw_data.w1_nc_emany_feb\n",
    "lbdf['bus_in_feb'] = raw_data.w1_nc_ems_feb\n",
    "lbdf['work_days_feb'] = raw_data.w1_nc_emdays_feb\n",
    "lbdf['work_hours_feb'] = raw_data.w1_nc_emhrs_feb\n",
    "lbdf['take_home_pay_feb'] = raw_data.w1_nc_eminc_feb\n",
    "\n",
    "lbdf['job_in_apr'] = raw_data.w1_nc_em_apr\n",
    "lbdf['work_in_apr'] = raw_data.w1_nc_emany_apr\n",
    "lbdf['bus_in_apr'] = raw_data.w1_nc_ems_apr\n",
    "lbdf['work_days_apr'] = raw_data.w1_nc_emdays_apr\n",
    "lbdf['work_hours_apr'] = raw_data.w1_nc_emhrs_apr\n",
    "lbdf['take_home_pay_apr'] = raw_data.w1_nc_eminc_apr\n",
    "lbdf['return_to_job'] = raw_data.w1_nc_emreturn\n",
    "\n",
    "lbdf['main_form_work'] = raw_data.w1_nc_emtyp\n",
    "lbdf['usual_work'] = raw_data.w1_nc_emwrk_isco_c"
   ]
  },
  {
   "cell_type": "markdown",
   "metadata": {},
   "source": [
    "## 2.3 Exploratory Data Analysis"
   ]
  },
  {
   "cell_type": "code",
   "execution_count": 7,
   "metadata": {},
   "outputs": [
    {
     "name": "stdout",
     "output_type": "stream",
     "text": [
      "<class 'pandas.core.frame.DataFrame'>\n",
      "RangeIndex: 7073 entries, 0 to 7072\n",
      "Data columns (total 17 columns):\n",
      " #   Column             Non-Null Count  Dtype \n",
      "---  ------             --------------  ----- \n",
      " 0   highest_grade      7073 non-null   object\n",
      " 1   tertiary_edu       5384 non-null   object\n",
      " 2   job_in_feb         7073 non-null   object\n",
      " 3   work_in_feb        3768 non-null   object\n",
      " 4   bus_in_feb         3438 non-null   object\n",
      " 5   work_days_feb      3408 non-null   object\n",
      " 6   work_hours_feb     3141 non-null   object\n",
      " 7   take_home_pay_feb  3408 non-null   object\n",
      " 8   job_in_apr         6426 non-null   object\n",
      " 9   work_in_apr        4954 non-null   object\n",
      " 10  bus_in_apr         4769 non-null   object\n",
      " 11  work_days_apr      2359 non-null   object\n",
      " 12  work_hours_apr     1845 non-null   object\n",
      " 13  take_home_pay_apr  1727 non-null   object\n",
      " 14  return_to_job      4329 non-null   object\n",
      " 15  main_form_work     2753 non-null   object\n",
      " 16  usual_work         2359 non-null   object\n",
      "dtypes: object(17)\n",
      "memory usage: 939.5+ KB\n"
     ]
    }
   ],
   "source": [
    "lbdf.info()"
   ]
  },
  {
   "cell_type": "markdown",
   "metadata": {},
   "source": [
    "Let us work through each column in the dataframe and explore the varaibles further"
   ]
  },
  {
   "cell_type": "markdown",
   "metadata": {},
   "source": [
    "### Education "
   ]
  },
  {
   "cell_type": "code",
   "execution_count": 8,
   "metadata": {
    "scrolled": false
   },
   "outputs": [
    {
     "data": {
      "text/plain": [
       "Grade 12 (Std10 / Matric / Senior Certificate / Form 5)    3083\n",
       "Grade 11 (Std. 9/ Form 4)                                  1147\n",
       "Grade 10 (Std. 8/ Form 3)                                   696\n",
       "Grade 9 (Std. 7/ Form 2)                                    387\n",
       "Grade 7 (Std. 5)                                            342\n",
       "Grade 8 (Std. 6/ Form 1)                                    332\n",
       "No Schooling                                                210\n",
       "Grade 6 (Std. 4)                                            169\n",
       "Grade 5 (Std. 3)                                            152\n",
       "Grade 4 (Std. 2)                                            123\n",
       "Grade R/0                                                   120\n",
       "Grade 3 (Std. 1)                                             80\n",
       "Grade 2 (previously Sub B/ class 2)                          75\n",
       "Grade 1 (previously Sub A/ class 1)                          41\n",
       "Don't Know                                                   40\n",
       "National Certificate Vocational 4 (NCV 4)                    30\n",
       "N3 (NATED)/ NTC 3                                            18\n",
       "National Certificate Vocational 2 (NCV 2)                     8\n",
       "N2 (NATED)/ NTC 2                                             5\n",
       "National Certificate Vocational 3 (NCV 3)                     5\n",
       "N1 (NATED)/ NTC 1                                             5\n",
       "Refused                                                       5\n",
       "Name: highest_grade, dtype: int64"
      ]
     },
     "execution_count": 8,
     "metadata": {},
     "output_type": "execute_result"
    }
   ],
   "source": [
    "lbdf['highest_grade'].value_counts()"
   ]
  },
  {
   "cell_type": "code",
   "execution_count": 9,
   "metadata": {},
   "outputs": [
    {
     "data": {
      "text/html": [
       "<div>\n",
       "<style scoped>\n",
       "    .dataframe tbody tr th:only-of-type {\n",
       "        vertical-align: middle;\n",
       "    }\n",
       "\n",
       "    .dataframe tbody tr th {\n",
       "        vertical-align: top;\n",
       "    }\n",
       "\n",
       "    .dataframe thead th {\n",
       "        text-align: right;\n",
       "    }\n",
       "</style>\n",
       "<table border=\"1\" class=\"dataframe\">\n",
       "  <thead>\n",
       "    <tr style=\"text-align: right;\">\n",
       "      <th></th>\n",
       "      <th>highest_grade</th>\n",
       "      <th>tertiary_edu</th>\n",
       "      <th>job_in_feb</th>\n",
       "      <th>work_in_feb</th>\n",
       "      <th>bus_in_feb</th>\n",
       "      <th>work_days_feb</th>\n",
       "      <th>work_hours_feb</th>\n",
       "      <th>take_home_pay_feb</th>\n",
       "      <th>job_in_apr</th>\n",
       "      <th>work_in_apr</th>\n",
       "      <th>bus_in_apr</th>\n",
       "      <th>work_days_apr</th>\n",
       "      <th>work_hours_apr</th>\n",
       "      <th>take_home_pay_apr</th>\n",
       "      <th>return_to_job</th>\n",
       "      <th>main_form_work</th>\n",
       "      <th>usual_work</th>\n",
       "    </tr>\n",
       "  </thead>\n",
       "  <tbody>\n",
       "    <tr>\n",
       "      <th>0</th>\n",
       "      <td>Grade 9 (Std. 7/ Form 2)</td>\n",
       "      <td>No</td>\n",
       "      <td>Yes</td>\n",
       "      <td>NaN</td>\n",
       "      <td>NaN</td>\n",
       "      <td>Donât know</td>\n",
       "      <td>NaN</td>\n",
       "      <td>180.0</td>\n",
       "      <td>No</td>\n",
       "      <td>No</td>\n",
       "      <td>No - I did nothing</td>\n",
       "      <td>NaN</td>\n",
       "      <td>NaN</td>\n",
       "      <td>NaN</td>\n",
       "      <td>Don't know</td>\n",
       "      <td>NaN</td>\n",
       "      <td>NaN</td>\n",
       "    </tr>\n",
       "    <tr>\n",
       "      <th>1</th>\n",
       "      <td>Grade R/0</td>\n",
       "      <td>NaN</td>\n",
       "      <td>No, I'm retired</td>\n",
       "      <td>NaN</td>\n",
       "      <td>NaN</td>\n",
       "      <td>NaN</td>\n",
       "      <td>NaN</td>\n",
       "      <td>NaN</td>\n",
       "      <td>NaN</td>\n",
       "      <td>NaN</td>\n",
       "      <td>NaN</td>\n",
       "      <td>NaN</td>\n",
       "      <td>NaN</td>\n",
       "      <td>NaN</td>\n",
       "      <td>NaN</td>\n",
       "      <td>NaN</td>\n",
       "      <td>NaN</td>\n",
       "    </tr>\n",
       "    <tr>\n",
       "      <th>2</th>\n",
       "      <td>Grade 10 (Std. 8/ Form 3)</td>\n",
       "      <td>Yes</td>\n",
       "      <td>No</td>\n",
       "      <td>No</td>\n",
       "      <td>No - I did nothing</td>\n",
       "      <td>NaN</td>\n",
       "      <td>NaN</td>\n",
       "      <td>NaN</td>\n",
       "      <td>No</td>\n",
       "      <td>No</td>\n",
       "      <td>No - I did nothing</td>\n",
       "      <td>NaN</td>\n",
       "      <td>NaN</td>\n",
       "      <td>NaN</td>\n",
       "      <td>No</td>\n",
       "      <td>NaN</td>\n",
       "      <td>NaN</td>\n",
       "    </tr>\n",
       "    <tr>\n",
       "      <th>3</th>\n",
       "      <td>Grade 10 (Std. 8/ Form 3)</td>\n",
       "      <td>No</td>\n",
       "      <td>Yes</td>\n",
       "      <td>NaN</td>\n",
       "      <td>NaN</td>\n",
       "      <td>3.0</td>\n",
       "      <td>5.0</td>\n",
       "      <td>900.0</td>\n",
       "      <td>No</td>\n",
       "      <td>No</td>\n",
       "      <td>No - I did nothing</td>\n",
       "      <td>5.0</td>\n",
       "      <td>5.0</td>\n",
       "      <td>NaN</td>\n",
       "      <td>Yes</td>\n",
       "      <td>Regular job</td>\n",
       "      <td>Elementary occupations</td>\n",
       "    </tr>\n",
       "    <tr>\n",
       "      <th>4</th>\n",
       "      <td>Grade 9 (Std. 7/ Form 2)</td>\n",
       "      <td>No</td>\n",
       "      <td>No</td>\n",
       "      <td>No</td>\n",
       "      <td>No - I did nothing</td>\n",
       "      <td>NaN</td>\n",
       "      <td>NaN</td>\n",
       "      <td>NaN</td>\n",
       "      <td>No</td>\n",
       "      <td>No</td>\n",
       "      <td>No - I did nothing</td>\n",
       "      <td>NaN</td>\n",
       "      <td>NaN</td>\n",
       "      <td>NaN</td>\n",
       "      <td>No</td>\n",
       "      <td>NaN</td>\n",
       "      <td>NaN</td>\n",
       "    </tr>\n",
       "  </tbody>\n",
       "</table>\n",
       "</div>"
      ],
      "text/plain": [
       "               highest_grade tertiary_edu       job_in_feb work_in_feb  \\\n",
       "0   Grade 9 (Std. 7/ Form 2)           No              Yes         NaN   \n",
       "1                  Grade R/0          NaN  No, I'm retired         NaN   \n",
       "2  Grade 10 (Std. 8/ Form 3)          Yes               No          No   \n",
       "3  Grade 10 (Std. 8/ Form 3)           No              Yes         NaN   \n",
       "4   Grade 9 (Std. 7/ Form 2)           No               No          No   \n",
       "\n",
       "           bus_in_feb work_days_feb work_hours_feb take_home_pay_feb  \\\n",
       "0                 NaN  Donât know            NaN             180.0   \n",
       "1                 NaN           NaN            NaN               NaN   \n",
       "2  No - I did nothing           NaN            NaN               NaN   \n",
       "3                 NaN           3.0            5.0             900.0   \n",
       "4  No - I did nothing           NaN            NaN               NaN   \n",
       "\n",
       "  job_in_apr work_in_apr          bus_in_apr work_days_apr work_hours_apr  \\\n",
       "0         No          No  No - I did nothing           NaN            NaN   \n",
       "1        NaN         NaN                 NaN           NaN            NaN   \n",
       "2         No          No  No - I did nothing           NaN            NaN   \n",
       "3         No          No  No - I did nothing           5.0            5.0   \n",
       "4         No          No  No - I did nothing           NaN            NaN   \n",
       "\n",
       "  take_home_pay_apr return_to_job main_form_work              usual_work  \n",
       "0               NaN    Don't know            NaN                     NaN  \n",
       "1               NaN           NaN            NaN                     NaN  \n",
       "2               NaN            No            NaN                     NaN  \n",
       "3               NaN           Yes    Regular job  Elementary occupations  \n",
       "4               NaN            No            NaN                     NaN  "
      ]
     },
     "execution_count": 9,
     "metadata": {},
     "output_type": "execute_result"
    }
   ],
   "source": [
    "lbdf.head()"
   ]
  },
  {
   "cell_type": "code",
   "execution_count": 10,
   "metadata": {},
   "outputs": [
    {
     "data": {
      "text/html": [
       "<div>\n",
       "<style scoped>\n",
       "    .dataframe tbody tr th:only-of-type {\n",
       "        vertical-align: middle;\n",
       "    }\n",
       "\n",
       "    .dataframe tbody tr th {\n",
       "        vertical-align: top;\n",
       "    }\n",
       "\n",
       "    .dataframe thead th {\n",
       "        text-align: right;\n",
       "    }\n",
       "</style>\n",
       "<table border=\"1\" class=\"dataframe\">\n",
       "  <thead>\n",
       "    <tr style=\"text-align: right;\">\n",
       "      <th></th>\n",
       "      <th>highest_grade</th>\n",
       "      <th>tertiary_edu</th>\n",
       "      <th>job_in_feb</th>\n",
       "      <th>work_in_feb</th>\n",
       "      <th>bus_in_feb</th>\n",
       "      <th>work_days_feb</th>\n",
       "      <th>work_hours_feb</th>\n",
       "      <th>take_home_pay_feb</th>\n",
       "      <th>job_in_apr</th>\n",
       "      <th>work_in_apr</th>\n",
       "      <th>bus_in_apr</th>\n",
       "      <th>work_days_apr</th>\n",
       "      <th>work_hours_apr</th>\n",
       "      <th>take_home_pay_apr</th>\n",
       "      <th>return_to_job</th>\n",
       "      <th>main_form_work</th>\n",
       "      <th>usual_work</th>\n",
       "    </tr>\n",
       "  </thead>\n",
       "  <tbody>\n",
       "    <tr>\n",
       "      <th>7068</th>\n",
       "      <td>Grade 11 (Std. 9/ Form 4)</td>\n",
       "      <td>No</td>\n",
       "      <td>No</td>\n",
       "      <td>No</td>\n",
       "      <td>No - I did nothing</td>\n",
       "      <td>NaN</td>\n",
       "      <td>NaN</td>\n",
       "      <td>NaN</td>\n",
       "      <td>No</td>\n",
       "      <td>No</td>\n",
       "      <td>No - I did nothing</td>\n",
       "      <td>NaN</td>\n",
       "      <td>NaN</td>\n",
       "      <td>NaN</td>\n",
       "      <td>No</td>\n",
       "      <td>NaN</td>\n",
       "      <td>NaN</td>\n",
       "    </tr>\n",
       "    <tr>\n",
       "      <th>7069</th>\n",
       "      <td>Grade 10 (Std. 8/ Form 3)</td>\n",
       "      <td>No</td>\n",
       "      <td>No</td>\n",
       "      <td>No</td>\n",
       "      <td>No - I did nothing</td>\n",
       "      <td>NaN</td>\n",
       "      <td>NaN</td>\n",
       "      <td>NaN</td>\n",
       "      <td>No</td>\n",
       "      <td>No</td>\n",
       "      <td>No - I did nothing</td>\n",
       "      <td>NaN</td>\n",
       "      <td>NaN</td>\n",
       "      <td>NaN</td>\n",
       "      <td>No</td>\n",
       "      <td>NaN</td>\n",
       "      <td>NaN</td>\n",
       "    </tr>\n",
       "    <tr>\n",
       "      <th>7070</th>\n",
       "      <td>N3 (NATED)/ NTC 3</td>\n",
       "      <td>No</td>\n",
       "      <td>No</td>\n",
       "      <td>No</td>\n",
       "      <td>No - I did nothing</td>\n",
       "      <td>NaN</td>\n",
       "      <td>NaN</td>\n",
       "      <td>NaN</td>\n",
       "      <td>No</td>\n",
       "      <td>No</td>\n",
       "      <td>No - I did nothing</td>\n",
       "      <td>NaN</td>\n",
       "      <td>NaN</td>\n",
       "      <td>NaN</td>\n",
       "      <td>No</td>\n",
       "      <td>NaN</td>\n",
       "      <td>NaN</td>\n",
       "    </tr>\n",
       "    <tr>\n",
       "      <th>7071</th>\n",
       "      <td>Grade 12 (Std10 / Matric / Senior Certificate ...</td>\n",
       "      <td>No</td>\n",
       "      <td>No</td>\n",
       "      <td>No</td>\n",
       "      <td>No - I did nothing</td>\n",
       "      <td>NaN</td>\n",
       "      <td>NaN</td>\n",
       "      <td>NaN</td>\n",
       "      <td>No</td>\n",
       "      <td>No</td>\n",
       "      <td>No - I did nothing</td>\n",
       "      <td>NaN</td>\n",
       "      <td>NaN</td>\n",
       "      <td>NaN</td>\n",
       "      <td>No</td>\n",
       "      <td>NaN</td>\n",
       "      <td>NaN</td>\n",
       "    </tr>\n",
       "    <tr>\n",
       "      <th>7072</th>\n",
       "      <td>Grade 11 (Std. 9/ Form 4)</td>\n",
       "      <td>Yes</td>\n",
       "      <td>No</td>\n",
       "      <td>No</td>\n",
       "      <td>No - I did nothing</td>\n",
       "      <td>NaN</td>\n",
       "      <td>NaN</td>\n",
       "      <td>NaN</td>\n",
       "      <td>No</td>\n",
       "      <td>No</td>\n",
       "      <td>No - I did nothing</td>\n",
       "      <td>NaN</td>\n",
       "      <td>NaN</td>\n",
       "      <td>NaN</td>\n",
       "      <td>No</td>\n",
       "      <td>NaN</td>\n",
       "      <td>NaN</td>\n",
       "    </tr>\n",
       "  </tbody>\n",
       "</table>\n",
       "</div>"
      ],
      "text/plain": [
       "                                          highest_grade tertiary_edu  \\\n",
       "7068                          Grade 11 (Std. 9/ Form 4)           No   \n",
       "7069                          Grade 10 (Std. 8/ Form 3)           No   \n",
       "7070                                  N3 (NATED)/ NTC 3           No   \n",
       "7071  Grade 12 (Std10 / Matric / Senior Certificate ...           No   \n",
       "7072                          Grade 11 (Std. 9/ Form 4)          Yes   \n",
       "\n",
       "     job_in_feb work_in_feb          bus_in_feb work_days_feb work_hours_feb  \\\n",
       "7068         No          No  No - I did nothing           NaN            NaN   \n",
       "7069         No          No  No - I did nothing           NaN            NaN   \n",
       "7070         No          No  No - I did nothing           NaN            NaN   \n",
       "7071         No          No  No - I did nothing           NaN            NaN   \n",
       "7072         No          No  No - I did nothing           NaN            NaN   \n",
       "\n",
       "     take_home_pay_feb job_in_apr work_in_apr          bus_in_apr  \\\n",
       "7068               NaN         No          No  No - I did nothing   \n",
       "7069               NaN         No          No  No - I did nothing   \n",
       "7070               NaN         No          No  No - I did nothing   \n",
       "7071               NaN         No          No  No - I did nothing   \n",
       "7072               NaN         No          No  No - I did nothing   \n",
       "\n",
       "     work_days_apr work_hours_apr take_home_pay_apr return_to_job  \\\n",
       "7068           NaN            NaN               NaN            No   \n",
       "7069           NaN            NaN               NaN            No   \n",
       "7070           NaN            NaN               NaN            No   \n",
       "7071           NaN            NaN               NaN            No   \n",
       "7072           NaN            NaN               NaN            No   \n",
       "\n",
       "     main_form_work usual_work  \n",
       "7068            NaN        NaN  \n",
       "7069            NaN        NaN  \n",
       "7070            NaN        NaN  \n",
       "7071            NaN        NaN  \n",
       "7072            NaN        NaN  "
      ]
     },
     "execution_count": 10,
     "metadata": {},
     "output_type": "execute_result"
    }
   ],
   "source": [
    "lbdf.tail()"
   ]
  },
  {
   "cell_type": "code",
   "execution_count": 11,
   "metadata": {},
   "outputs": [],
   "source": [
    "def replace_errors(x):\n",
    "    if x == \"Other\" or x == \"Don't know\" or x == \"Refused\" or x=='Missing' or x== \"Don't Know\" or x==\"Donât know\":\n",
    "        return np.NaN\n",
    "    return x"
   ]
  },
  {
   "cell_type": "markdown",
   "metadata": {},
   "source": [
    "A custom data cleaning function helps us replace answers such as 'Refused' or 'Don't Know' with missing values"
   ]
  },
  {
   "cell_type": "code",
   "execution_count": 12,
   "metadata": {},
   "outputs": [],
   "source": [
    "lbdf['highest_grade'] = lbdf['highest_grade'].apply(replace_errors)"
   ]
  },
  {
   "cell_type": "code",
   "execution_count": 13,
   "metadata": {},
   "outputs": [],
   "source": [
    "grade_map = {\n",
    "    'Grade 12 (Std10 / Matric / Senior Certificate / Form 5)': 'Grade 12',\n",
    "    'Grade 11 (Std. 9/ Form 4)': 'Grade 11',\n",
    "    'Grade 10 (Std. 8/ Form 3)': 'Grade 10', \n",
    "    'Grade 9 (Std. 7/ Form 2)':  'Grade 9', \n",
    "    'Grade 8 (Std. 6/ Form 1)':  'Grade 8', \n",
    "    'Grade 7 (Std. 5)':  'Grade 7', \n",
    "    'Grade 6 (Std. 4)':  'Grade 6', \n",
    "    'Grade 5 (Std. 3)':  'Grade 5', \n",
    "    'Grade 4 (Std. 2)':  'Grade 4', \n",
    "    'Grade 3 (Std. 1)':  'Grade 3',\n",
    "    'Grade 2 (previously Sub B/ class 2)':  'Grade 2', \n",
    "    'Grade 1 (previously Sub A/ class 1)': 'Grade 1', \n",
    "    'Grade R/0': 'Grade 0', \n",
    "    'N1 (NATED)/ NTC 1': 'NTC 1',\n",
    "    'N2 (NATED)/ NTC 2' : 'NTC 2',\n",
    "    'N3 (NATED)/ NTC 3': 'NTC 3',\n",
    "    'No Schooling': 'None',\n",
    "    'National Certificate Vocational 2 (NCV 2)': 'NCV 2',\n",
    "    'National Certificate Vocational 3 (NCV 3)': 'NCV 3',\n",
    "    'National Certificate Vocational 4 (NCV 4)': 'NCV 4'\n",
    "}"
   ]
  },
  {
   "cell_type": "code",
   "execution_count": 14,
   "metadata": {},
   "outputs": [],
   "source": [
    "lbdf['highest_grade'] = lbdf['highest_grade'].map(grade_map)"
   ]
  },
  {
   "cell_type": "code",
   "execution_count": 15,
   "metadata": {},
   "outputs": [],
   "source": [
    "grades = lbdf['highest_grade'].value_counts()\n",
    "ordered_grades = grades.reindex(index = ['Grade 12', 'Grade 11', 'Grade 10', 'Grade 9', 'Grade 8','Grade 7',\n",
    "       'Grade 6', 'Grade 5', 'Grade 4', 'Grade 3', 'Grade 2',\n",
    "       'Grade 1', 'Grade 0' , 'NCV 4', 'NCV 3', 'NCV 2', 'NTC 3','NTC 2','NTC 1','None'])"
   ]
  },
  {
   "cell_type": "code",
   "execution_count": 16,
   "metadata": {},
   "outputs": [
    {
     "data": {
      "image/png": "[encoded data removed]",
      "text/plain": [
       "<Figure size 1080x432 with 1 Axes>"
      ]
     },
     "metadata": {
      "needs_background": "light"
     },
     "output_type": "display_data"
    }
   ],
   "source": [
    "plt.figure(figsize=(15,6))\n",
    "sns.barplot(x = ordered_grades.index, y = ordered_grades.values)\n",
    "plt.tight_layout()\n",
    "plt.title('Education of Respondents in Sample', fontsize= 15)\n",
    "plt.xlabel('Highest Grade Completed')\n",
    "plt.ylabel('Number of Respondents')\n",
    "plt.show()"
   ]
  },
  {
   "cell_type": "code",
   "execution_count": 17,
   "metadata": {},
   "outputs": [
    {
     "data": {
      "text/plain": [
       "No            3558\n",
       "Yes           1817\n",
       "Don't know       6\n",
       "Refused          3\n",
       "Name: tertiary_edu, dtype: int64"
      ]
     },
     "execution_count": 17,
     "metadata": {},
     "output_type": "execute_result"
    }
   ],
   "source": [
    "lbdf['tertiary_edu'].value_counts()"
   ]
  },
  {
   "cell_type": "code",
   "execution_count": 18,
   "metadata": {},
   "outputs": [],
   "source": [
    "lbdf['tertiary_edu'] = lbdf['tertiary_edu'].apply(replace_errors)"
   ]
  },
  {
   "cell_type": "code",
   "execution_count": 19,
   "metadata": {},
   "outputs": [
    {
     "data": {
      "text/plain": [
       "No     3558\n",
       "Yes    1817\n",
       "Name: tertiary_edu, dtype: int64"
      ]
     },
     "execution_count": 19,
     "metadata": {},
     "output_type": "execute_result"
    }
   ],
   "source": [
    "lbdf['tertiary_edu'].value_counts()"
   ]
  },
  {
   "cell_type": "code",
   "execution_count": 20,
   "metadata": {},
   "outputs": [
    {
     "data": {
      "text/plain": [
       "24.0067863707055"
      ]
     },
     "execution_count": 20,
     "metadata": {},
     "output_type": "execute_result"
    }
   ],
   "source": [
    "lbdf['tertiary_edu'].isnull().sum()/len(lbdf)*100"
   ]
  },
  {
   "cell_type": "markdown",
   "metadata": {},
   "source": [
    "24% of the sample either refused to answer the question, answered that they did not know, or their answer is simply missing but out of the respondents who did answer let us look at how many said that they had completed a tertiary education."
   ]
  },
  {
   "cell_type": "code",
   "execution_count": 21,
   "metadata": {},
   "outputs": [
    {
     "data": {
      "text/plain": [
       "Text(0.5, 1.0, 'Tertiary Education')"
      ]
     },
     "execution_count": 21,
     "metadata": {},
     "output_type": "execute_result"
    },
    {
     "data": {
      "image/png": "[encoded data removed]",
      "text/plain": [
       "<Figure size 432x432 with 1 Axes>"
      ]
     },
     "metadata": {},
     "output_type": "display_data"
    }
   ],
   "source": [
    "tert_perc = (lbdf['tertiary_edu'].value_counts()/lbdf['tertiary_edu'].value_counts().sum())*100\n",
    "tert_perc.plot(kind='pie', explode = [0.1,0], figsize= (6,6), autopct='%1.2f%%', startangle = 90 , ylabel=\"\",\n",
    "            shadow = True)\n",
    "plt.title('Tertiary Education', fontsize = 15)"
   ]
  },
  {
   "cell_type": "markdown",
   "metadata": {},
   "source": [
    "### Labour"
   ]
  },
  {
   "cell_type": "code",
   "execution_count": 22,
   "metadata": {},
   "outputs": [
    {
     "name": "stdout",
     "output_type": "stream",
     "text": [
      "<class 'pandas.core.frame.DataFrame'>\n",
      "RangeIndex: 7073 entries, 0 to 7072\n",
      "Data columns (total 17 columns):\n",
      " #   Column             Non-Null Count  Dtype \n",
      "---  ------             --------------  ----- \n",
      " 0   highest_grade      7028 non-null   object\n",
      " 1   tertiary_edu       5375 non-null   object\n",
      " 2   job_in_feb         7073 non-null   object\n",
      " 3   work_in_feb        3768 non-null   object\n",
      " 4   bus_in_feb         3438 non-null   object\n",
      " 5   work_days_feb      3408 non-null   object\n",
      " 6   work_hours_feb     3141 non-null   object\n",
      " 7   take_home_pay_feb  3408 non-null   object\n",
      " 8   job_in_apr         6426 non-null   object\n",
      " 9   work_in_apr        4954 non-null   object\n",
      " 10  bus_in_apr         4769 non-null   object\n",
      " 11  work_days_apr      2359 non-null   object\n",
      " 12  work_hours_apr     1845 non-null   object\n",
      " 13  take_home_pay_apr  1727 non-null   object\n",
      " 14  return_to_job      4329 non-null   object\n",
      " 15  main_form_work     2753 non-null   object\n",
      " 16  usual_work         2359 non-null   object\n",
      "dtypes: object(17)\n",
      "memory usage: 939.5+ KB\n"
     ]
    }
   ],
   "source": [
    "lbdf.info()"
   ]
  },
  {
   "cell_type": "code",
   "execution_count": 23,
   "metadata": {},
   "outputs": [
    {
     "data": {
      "text/plain": [
       "1       NaN\n",
       "6       NaN\n",
       "8       NaN\n",
       "18      NaN\n",
       "32      NaN\n",
       "       ... \n",
       "7036    NaN\n",
       "7040    NaN\n",
       "7045    NaN\n",
       "7054    NaN\n",
       "7062    NaN\n",
       "Name: job_in_apr, Length: 647, dtype: object"
      ]
     },
     "execution_count": 23,
     "metadata": {},
     "output_type": "execute_result"
    }
   ],
   "source": [
    "lbdf.loc[lbdf['job_in_feb']==\"No, I'm retired\",'job_in_apr']"
   ]
  },
  {
   "cell_type": "markdown",
   "metadata": {},
   "source": [
    "As we can see respondents who answered that they were retired when asked about their job status in February, have missing values for their job status in April, we can fill these values in."
   ]
  },
  {
   "cell_type": "code",
   "execution_count": 24,
   "metadata": {},
   "outputs": [],
   "source": [
    "lbdf.loc[lbdf['job_in_feb']==\"No, I'm retired\",'job_in_apr'] = \"No, I'm Retired\""
   ]
  },
  {
   "cell_type": "code",
   "execution_count": 25,
   "metadata": {},
   "outputs": [],
   "source": [
    "lbdf['job_in_feb'] = lbdf['job_in_feb'].apply(replace_errors)\n",
    "lbdf['job_in_apr'] = lbdf['job_in_apr'].apply(replace_errors)"
   ]
  },
  {
   "cell_type": "code",
   "execution_count": 26,
   "metadata": {},
   "outputs": [
    {
     "data": {
      "image/png": "[encoded data removed]",
      "text/plain": [
       "<Figure size 720x576 with 2 Axes>"
      ]
     },
     "metadata": {},
     "output_type": "display_data"
    }
   ],
   "source": [
    "fig, [ax1,ax2] = plt.subplots(1,2, figsize=(10,8))\n",
    "\n",
    "emp_feb = lbdf['job_in_feb'].value_counts()/len(lbdf)*100\n",
    "ax1.pie(emp_feb, labels= ['Unemployed','Employed','Retired'], autopct='%1.2f%%',startangle = 90,explode = [0,0.1,0],shadow = True)\n",
    "ax1.set_title('Employment in February')\n",
    "\n",
    "emp_apr = lbdf['job_in_apr'].value_counts()/len(lbdf)*100\n",
    "ax2.pie(emp_apr, labels= ['Unemployed','Employed','Retired'], autopct='%1.2f%%',startangle = 90,explode = [0,0.1,0],shadow = True)\n",
    "ax2.set_title('Employment in April')\n",
    "plt.tight_layout()\n",
    "plt.show()"
   ]
  },
  {
   "cell_type": "markdown",
   "metadata": {},
   "source": [
    "As we can see there was a significatnt decrease in employment from February to April. Some respondents,however, may have only been doing part time work or were self-employed, let us see how these changed from February to April as well "
   ]
  },
  {
   "cell_type": "code",
   "execution_count": 27,
   "metadata": {},
   "outputs": [
    {
     "data": {
      "image/png": "[encoded data removed]",
      "text/plain": [
       "<Figure size 864x288 with 2 Axes>"
      ]
     },
     "metadata": {
      "needs_background": "light"
     },
     "output_type": "display_data"
    }
   ],
   "source": [
    "lbdf['work_in_feb'] = lbdf['work_in_feb'].apply(replace_errors)\n",
    "lbdf['work_in_apr'] = lbdf['work_in_apr'].apply(replace_errors)\n",
    "lbdf['bus_in_feb'] = lbdf['bus_in_feb'].apply(replace_errors)\n",
    "lbdf['bus_in_apr'] = lbdf['bus_in_apr'].apply(replace_errors)\n",
    "\n",
    "fig, [ax1,ax2] = plt.subplots(1,2, figsize=(12,4))\n",
    "\n",
    "work_in_feb  = lbdf[lbdf['work_in_feb']=='Yes']\n",
    "work_in_apr = lbdf[lbdf['work_in_apr']=='Yes']\n",
    "sns.barplot(x = ['Working in Feb','Working In Apr'], y = [len(work_in_feb),len(work_in_apr)], ax=ax1)\n",
    "ax1.set_title(\"Part-time Work\")\n",
    "\n",
    "bus_in_feb  = lbdf[lbdf['bus_in_feb']=='Yes']\n",
    "bus_in_apr = lbdf[lbdf['bus_in_apr']=='Yes']\n",
    "sns.barplot(x = ['Business in Feb','Business in Apr'], y = [len(bus_in_feb),len(bus_in_apr)], ax=ax2)\n",
    "ax2.set_title(\"Self-Employed\")\n",
    "\n",
    "plt.show()"
   ]
  },
  {
   "cell_type": "markdown",
   "metadata": {},
   "source": [
    "We can see that not only was there a significant drop in employment from February to April but there was also a significant drop in the number of respondents who were able to find part-time work or to do business. "
   ]
  },
  {
   "cell_type": "markdown",
   "metadata": {},
   "source": [
    "Although some people were able to keep there jobs let us examine how the number of days per week and number of hours per day that these people worked changed,."
   ]
  },
  {
   "cell_type": "code",
   "execution_count": 28,
   "metadata": {},
   "outputs": [
    {
     "data": {
      "image/png": "[encoded data removed]",
      "text/plain": [
       "<Figure size 720x432 with 1 Axes>"
      ]
     },
     "metadata": {
      "needs_background": "light"
     },
     "output_type": "display_data"
    }
   ],
   "source": [
    "lbdf['work_days_feb'] = lbdf['work_days_feb'].apply(replace_errors)\n",
    "lbdf['work_days_apr'] = lbdf['work_days_apr'].apply(replace_errors)\n",
    "#Don't want to consider people who were on leave \n",
    "work_days_feb = lbdf.loc[lbdf['work_days_feb']!='I was on leave', 'work_days_feb']\n",
    "work_days_feb = work_days_feb.value_counts().sort_index()/work_days_feb.value_counts().sum()\n",
    "\n",
    "work_days_apr = pd.to_numeric(lbdf.loc[lbdf['work_days_apr']!='I was on leave', 'work_days_apr'])\n",
    "work_days_apr = work_days_apr.value_counts().sort_index()/work_days_apr.value_counts().sum()\n",
    "\n",
    "plt.figure(figsize=(10,6))\n",
    "plt.bar(x = work_days_feb.index, height = work_days_feb.values, alpha=0.5, label = 'February')\n",
    "plt.bar(x = work_days_apr.index, height = work_days_apr.values, alpha=0.5, label = 'April')\n",
    "plt.legend(loc=2)\n",
    "plt.title('Number of Work Days per Week')\n",
    "plt.xlabel('Number of Work Days')\n",
    "plt.ylabel('PMF')\n",
    "plt.show()"
   ]
  },
  {
   "cell_type": "markdown",
   "metadata": {},
   "source": [
    "We can see that there was definitely a decrease in the number of days people were working per week. Let us explore how the numebr of hours they worked per day changed as well."
   ]
  },
  {
   "cell_type": "code",
   "execution_count": 29,
   "metadata": {},
   "outputs": [
    {
     "data": {
      "image/png": "[encoded data removed]",
      "text/plain": [
       "<Figure size 1080x432 with 1 Axes>"
      ]
     },
     "metadata": {
      "needs_background": "light"
     },
     "output_type": "display_data"
    }
   ],
   "source": [
    "lbdf['work_hours_feb'] = lbdf['work_hours_feb'].apply(replace_errors)\n",
    "lbdf['work_hours_apr'] = lbdf['work_hours_apr'].apply(replace_errors)\n",
    "\n",
    "work_hours_feb = pd.to_numeric(lbdf['work_hours_feb']).value_counts().sort_index()\n",
    "work_hours_apr = pd.to_numeric(lbdf['work_hours_apr']).value_counts().sort_index()\n",
    "\n",
    "work_hours_feb = work_hours_feb/ work_hours_feb.sum()\n",
    "work_hours_apr = work_hours_apr/ work_hours_apr.sum()\n",
    "\n",
    "plt.figure(figsize=(15,6))\n",
    "plt.bar(x = work_hours_feb.index, height = work_hours_feb.values, alpha=0.5, label = 'February')\n",
    "plt.bar(x = work_hours_apr.index, height = work_hours_apr.values, alpha=0.5, label = 'April')\n",
    "plt.legend(loc=2)\n",
    "plt.title('Number of Hours per Work Day')\n",
    "plt.xlabel('Number of Work Days')\n",
    "plt.ylabel('PMF')\n",
    "plt.show()"
   ]
  },
  {
   "cell_type": "markdown",
   "metadata": {},
   "source": [
    "We can see that the number of hours people were working also decreaesed in most cases with a significant increase in the amount of people working for less than an hour a day. "
   ]
  },
  {
   "cell_type": "markdown",
   "metadata": {},
   "source": [
    "For those people who unfortunately did lose their job between february and april, let us see how many of them said that they would be able to return to work in the 4 weeks after they were interviewed."
   ]
  },
  {
   "cell_type": "code",
   "execution_count": 30,
   "metadata": {},
   "outputs": [
    {
     "data": {
      "image/png": "[encoded data removed]",
      "text/plain": [
       "<Figure size 432x432 with 1 Axes>"
      ]
     },
     "metadata": {},
     "output_type": "display_data"
    }
   ],
   "source": [
    "lbdf['return_to_job'] = lbdf['return_to_job'].apply(replace_errors)\n",
    "lost_job = lbdf[(lbdf['job_in_feb']=='Yes') & (lbdf['job_in_apr']=='No')]\n",
    "return_to_job = (lost_job['return_to_job'].value_counts()/ lost_job['return_to_job'].value_counts().sum())*100\n",
    "\n",
    "return_to_job.plot(kind='pie', explode = [0.1,0], figsize= (6,6), autopct='%1.2f%%', startangle = 90 , ylabel=\"\",\n",
    "            shadow = True)\n",
    "plt.title(\"Job to return to in next 4 weeks\")\n",
    "plt.show()"
   ]
  },
  {
   "cell_type": "code",
   "execution_count": 31,
   "metadata": {},
   "outputs": [
    {
     "data": {
      "image/png": "[encoded data removed]",
      "text/plain": [
       "<Figure size 720x432 with 1 Axes>"
      ]
     },
     "metadata": {
      "needs_background": "light"
     },
     "output_type": "display_data"
    }
   ],
   "source": [
    "#First we replace errors, remove null values and make the target column numeric\n",
    "lbdf['take_home_pay_feb'] = lbdf['take_home_pay_feb'].apply(replace_errors)\n",
    "pay_in_feb = pd.to_numeric(lbdf.loc[lbdf['take_home_pay_feb'].notnull() ,'take_home_pay_feb'])\n",
    "lbdf['take_home_pay_apr'] = lbdf['take_home_pay_apr'].apply(replace_errors)\n",
    "pay_in_apr = pd.to_numeric(lbdf.loc[lbdf['take_home_pay_apr'].notnull() ,'take_home_pay_apr'])\n",
    "\n",
    "#Due to the presence of several outliers, the original distirbution is heavily skewed \n",
    "#By taking a subset of our data which lies within 1.5 * Interquartile Range of the Median we are able \n",
    "#To create a better visual representation of the take home pay distribution \n",
    "pay_in_feb = pay_in_feb[pay_in_feb<pay_in_feb.quantile(0.75)]\n",
    "pay_in_apr = pay_in_feb[pay_in_feb<pay_in_feb.quantile(0.75)]\n",
    "\n",
    "#Now the creation of a dataframe allows us to use Seaborns boxplot functionality \n",
    "feb_df = pd.DataFrame()\n",
    "feb_df['Pay'] = pay_in_feb\n",
    "feb_df['Month'] = 'Feb'\n",
    "apr_df = pd.DataFrame()\n",
    "apr_df['Pay'] = pay_in_apr\n",
    "apr_df['Month'] = 'Apr'\n",
    "pay_df = pd.concat([feb_df,apr_df])\n",
    "\n",
    "#Creating the Plot\n",
    "plt.figure(figsize=(10,6))\n",
    "sns.boxplot(y = 'Month', x = 'Pay', data = pay_df)\n",
    "plt.title('Distribution of Take Home Pay')\n",
    "plt.show()"
   ]
  },
  {
   "cell_type": "markdown",
   "metadata": {},
   "source": [
    "From these distributions we can clearly see that the median take home pay was reduced."
   ]
  },
  {
   "cell_type": "code",
   "execution_count": 32,
   "metadata": {},
   "outputs": [
    {
     "data": {
      "image/png": "[encoded data removed]",
      "text/plain": [
       "<Figure size 720x432 with 1 Axes>"
      ]
     },
     "metadata": {
      "needs_background": "light"
     },
     "output_type": "display_data"
    }
   ],
   "source": [
    "lbdf['usual_work'] = lbdf['usual_work'].apply(replace_errors)\n",
    "usual_work = lbdf['usual_work'].value_counts().sort_values(ascending=False)\n",
    "plt.figure(figsize=(10,6))\n",
    "sns.barplot(y = usual_work.index, x = usual_work.values)\n",
    "plt.xlabel('Count')\n",
    "plt.title(\"Usual Work\")\n",
    "plt.show()"
   ]
  },
  {
   "cell_type": "code",
   "execution_count": 33,
   "metadata": {},
   "outputs": [
    {
     "name": "stdout",
     "output_type": "stream",
     "text": [
      "<class 'pandas.core.frame.DataFrame'>\n",
      "RangeIndex: 7073 entries, 0 to 7072\n",
      "Data columns (total 17 columns):\n",
      " #   Column             Non-Null Count  Dtype \n",
      "---  ------             --------------  ----- \n",
      " 0   highest_grade      7028 non-null   object\n",
      " 1   tertiary_edu       5375 non-null   object\n",
      " 2   job_in_feb         6997 non-null   object\n",
      " 3   work_in_feb        3684 non-null   object\n",
      " 4   bus_in_feb         3356 non-null   object\n",
      " 5   work_days_feb      3168 non-null   object\n",
      " 6   work_hours_feb     3018 non-null   object\n",
      " 7   take_home_pay_feb  2653 non-null   object\n",
      " 8   job_in_apr         6976 non-null   object\n",
      " 9   work_in_apr        4833 non-null   object\n",
      " 10  bus_in_apr         4652 non-null   object\n",
      " 11  work_days_apr      2142 non-null   object\n",
      " 12  work_hours_apr     1790 non-null   object\n",
      " 13  take_home_pay_apr  1402 non-null   object\n",
      " 14  return_to_job      3977 non-null   object\n",
      " 15  main_form_work     2753 non-null   object\n",
      " 16  usual_work         2313 non-null   object\n",
      "dtypes: object(17)\n",
      "memory usage: 939.5+ KB\n"
     ]
    }
   ],
   "source": [
    "lbdf.info()"
   ]
  },
  {
   "cell_type": "markdown",
   "metadata": {},
   "source": [
    "# Chapter 3 - Welfare <a class=\"anchor\" id=\"section_welfare\"></a>"
   ]
  },
  {
   "cell_type": "code",
   "execution_count": 34,
   "metadata": {},
   "outputs": [],
   "source": [
    "# Philani"
   ]
  },
  {
   "cell_type": "code",
   "execution_count": null,
   "metadata": {},
   "outputs": [],
   "source": []
  },
  {
   "cell_type": "code",
   "execution_count": null,
   "metadata": {},
   "outputs": [],
   "source": []
  },
  {
   "cell_type": "code",
   "execution_count": null,
   "metadata": {},
   "outputs": [],
   "source": []
  },
  {
   "cell_type": "code",
   "execution_count": null,
   "metadata": {},
   "outputs": [],
   "source": []
  },
  {
   "cell_type": "code",
   "execution_count": null,
   "metadata": {},
   "outputs": [],
   "source": []
  },
  {
   "cell_type": "code",
   "execution_count": null,
   "metadata": {},
   "outputs": [],
   "source": []
  },
  {
   "cell_type": "markdown",
   "metadata": {},
   "source": [
    "# Chapter 4 - Other stuff <a class=\"anchor\" id=\"section_otherstuff\"></a>"
   ]
  },
  {
   "cell_type": "markdown",
   "metadata": {},
   "source": [
    "One potential model we are looking at contructing is logistic regression model which can predict who was most likely to lose their jobs upon the initial impact of COVID19. We will use variables from both the labour and the demographics section. These variables include:\n",
    "* Respondents Age\n",
    "* Highest School Grade Completed \n",
    "* Which province they were in during lockdown \n",
    "* Whether or not they moved provinces \n",
    "* The amount of work they did \n",
    "* The amount they were paid \n",
    "* The usual work they did \n",
    "\n",
    "And these willl all be used to predict whether or not someone lost their job. "
   ]
  },
  {
   "cell_type": "code",
   "execution_count": 35,
   "metadata": {},
   "outputs": [],
   "source": [
    "model_df = pd.DataFrame()\n",
    "\n",
    "model_df['Grade'] = lbdf['highest_grade']\n",
    "model_df['YearOfBirth'] = raw_data['w1_nc_dob_y']\n",
    "model_df['MovedProvince'] = raw_data['w1_nc_moveprov']"
   ]
  },
  {
   "cell_type": "code",
   "execution_count": 36,
   "metadata": {},
   "outputs": [],
   "source": [
    "def check_province(moved, prov_dur, curr_prov):\n",
    "    if moved == \"Yes\":\n",
    "        return prov_dur\n",
    "    else:\n",
    "        return curr_prov"
   ]
  },
  {
   "cell_type": "code",
   "execution_count": 37,
   "metadata": {},
   "outputs": [],
   "source": [
    "model_df['Province'] = np.vectorize(check_province)(raw_data[\"w1_nc_moveprov\"],raw_data[\"w1_nc_lvdurprov\"],raw_data[\"w1_nc_prov\"])"
   ]
  },
  {
   "cell_type": "code",
   "execution_count": 38,
   "metadata": {},
   "outputs": [],
   "source": [
    "model_df['DaysWorked'] = lbdf['work_days_feb']\n",
    "model_df['HoursWorked'] = lbdf['work_hours_feb']\n",
    "model_df['Income'] = lbdf['take_home_pay_feb']\n",
    "model_df['UsualWork'] = lbdf['usual_work']"
   ]
  },
  {
   "cell_type": "code",
   "execution_count": 39,
   "metadata": {},
   "outputs": [],
   "source": [
    "def check_labour(jobfeb, workfeb, busfeb):\n",
    "    if jobfeb == \"Yes\" or workfeb == \"Yes\" or busfeb ==\"Yes\":\n",
    "        return 1 \n",
    "    else:\n",
    "        return 0 "
   ]
  },
  {
   "cell_type": "code",
   "execution_count": 40,
   "metadata": {},
   "outputs": [],
   "source": [
    "model_df['HadLabour'] = np.vectorize(check_labour)(lbdf['job_in_feb'],lbdf['work_in_feb'],lbdf['bus_in_feb'])"
   ]
  },
  {
   "cell_type": "code",
   "execution_count": 41,
   "metadata": {},
   "outputs": [],
   "source": [
    "def lost_job(jobfeb, workfeb, busfeb, jobapr,workapr,busapr):\n",
    "    if(jobfeb==\"Yes\" and jobapr==\"No\"):\n",
    "        return 1\n",
    "    elif(workfeb==\"Yes\" and workapr==\"No\"):\n",
    "        return 1 \n",
    "    elif(busfeb==\"Yes\" and busapr==\"No\"):\n",
    "        return 1 \n",
    "    else:\n",
    "        return 0 "
   ]
  },
  {
   "cell_type": "code",
   "execution_count": 42,
   "metadata": {},
   "outputs": [],
   "source": [
    "model_df['LostLabour'] = np.vectorize(lost_job)(lbdf['job_in_feb'],lbdf['work_in_feb'],lbdf['bus_in_feb'],lbdf['job_in_apr'],lbdf['work_in_apr'],lbdf['bus_in_apr'])"
   ]
  },
  {
   "cell_type": "code",
   "execution_count": 43,
   "metadata": {},
   "outputs": [
    {
     "data": {
      "text/html": [
       "<div>\n",
       "<style scoped>\n",
       "    .dataframe tbody tr th:only-of-type {\n",
       "        vertical-align: middle;\n",
       "    }\n",
       "\n",
       "    .dataframe tbody tr th {\n",
       "        vertical-align: top;\n",
       "    }\n",
       "\n",
       "    .dataframe thead th {\n",
       "        text-align: right;\n",
       "    }\n",
       "</style>\n",
       "<table border=\"1\" class=\"dataframe\">\n",
       "  <thead>\n",
       "    <tr style=\"text-align: right;\">\n",
       "      <th></th>\n",
       "      <th>Grade</th>\n",
       "      <th>YearOfBirth</th>\n",
       "      <th>MovedProvince</th>\n",
       "      <th>Province</th>\n",
       "      <th>DaysWorked</th>\n",
       "      <th>HoursWorked</th>\n",
       "      <th>Income</th>\n",
       "      <th>UsualWork</th>\n",
       "      <th>HadLabour</th>\n",
       "      <th>LostLabour</th>\n",
       "    </tr>\n",
       "  </thead>\n",
       "  <tbody>\n",
       "    <tr>\n",
       "      <th>0</th>\n",
       "      <td>Grade 9</td>\n",
       "      <td>1981.0</td>\n",
       "      <td>No</td>\n",
       "      <td>Gauteng</td>\n",
       "      <td>NaN</td>\n",
       "      <td>NaN</td>\n",
       "      <td>180.0</td>\n",
       "      <td>NaN</td>\n",
       "      <td>1</td>\n",
       "      <td>1</td>\n",
       "    </tr>\n",
       "    <tr>\n",
       "      <th>1</th>\n",
       "      <td>Grade 0</td>\n",
       "      <td>1948.0</td>\n",
       "      <td>No</td>\n",
       "      <td>KwaZulu-Natal</td>\n",
       "      <td>NaN</td>\n",
       "      <td>NaN</td>\n",
       "      <td>NaN</td>\n",
       "      <td>NaN</td>\n",
       "      <td>0</td>\n",
       "      <td>0</td>\n",
       "    </tr>\n",
       "    <tr>\n",
       "      <th>2</th>\n",
       "      <td>Grade 10</td>\n",
       "      <td>1990.0</td>\n",
       "      <td>No</td>\n",
       "      <td>Gauteng</td>\n",
       "      <td>NaN</td>\n",
       "      <td>NaN</td>\n",
       "      <td>NaN</td>\n",
       "      <td>NaN</td>\n",
       "      <td>0</td>\n",
       "      <td>0</td>\n",
       "    </tr>\n",
       "    <tr>\n",
       "      <th>3</th>\n",
       "      <td>Grade 10</td>\n",
       "      <td>1972.0</td>\n",
       "      <td>No</td>\n",
       "      <td>Gauteng</td>\n",
       "      <td>3.0</td>\n",
       "      <td>5.0</td>\n",
       "      <td>900.0</td>\n",
       "      <td>Elementary occupations</td>\n",
       "      <td>1</td>\n",
       "      <td>1</td>\n",
       "    </tr>\n",
       "    <tr>\n",
       "      <th>4</th>\n",
       "      <td>Grade 9</td>\n",
       "      <td>1971.0</td>\n",
       "      <td>No</td>\n",
       "      <td>Gauteng</td>\n",
       "      <td>NaN</td>\n",
       "      <td>NaN</td>\n",
       "      <td>NaN</td>\n",
       "      <td>NaN</td>\n",
       "      <td>0</td>\n",
       "      <td>0</td>\n",
       "    </tr>\n",
       "  </tbody>\n",
       "</table>\n",
       "</div>"
      ],
      "text/plain": [
       "      Grade YearOfBirth MovedProvince       Province DaysWorked HoursWorked  \\\n",
       "0   Grade 9      1981.0            No        Gauteng        NaN         NaN   \n",
       "1   Grade 0      1948.0            No  KwaZulu-Natal        NaN         NaN   \n",
       "2  Grade 10      1990.0            No        Gauteng        NaN         NaN   \n",
       "3  Grade 10      1972.0            No        Gauteng        3.0         5.0   \n",
       "4   Grade 9      1971.0            No        Gauteng        NaN         NaN   \n",
       "\n",
       "  Income               UsualWork  HadLabour  LostLabour  \n",
       "0  180.0                     NaN          1           1  \n",
       "1    NaN                     NaN          0           0  \n",
       "2    NaN                     NaN          0           0  \n",
       "3  900.0  Elementary occupations          1           1  \n",
       "4    NaN                     NaN          0           0  "
      ]
     },
     "execution_count": 43,
     "metadata": {},
     "output_type": "execute_result"
    }
   ],
   "source": [
    "model_df.head()"
   ]
  },
  {
   "cell_type": "markdown",
   "metadata": {},
   "source": [
    "We only want to look at the cases where they did have some sort job/work/business in Feb"
   ]
  },
  {
   "cell_type": "code",
   "execution_count": 44,
   "metadata": {},
   "outputs": [
    {
     "data": {
      "text/html": [
       "<div>\n",
       "<style scoped>\n",
       "    .dataframe tbody tr th:only-of-type {\n",
       "        vertical-align: middle;\n",
       "    }\n",
       "\n",
       "    .dataframe tbody tr th {\n",
       "        vertical-align: top;\n",
       "    }\n",
       "\n",
       "    .dataframe thead th {\n",
       "        text-align: right;\n",
       "    }\n",
       "</style>\n",
       "<table border=\"1\" class=\"dataframe\">\n",
       "  <thead>\n",
       "    <tr style=\"text-align: right;\">\n",
       "      <th></th>\n",
       "      <th>Grade</th>\n",
       "      <th>YearOfBirth</th>\n",
       "      <th>MovedProvince</th>\n",
       "      <th>Province</th>\n",
       "      <th>DaysWorked</th>\n",
       "      <th>HoursWorked</th>\n",
       "      <th>Income</th>\n",
       "      <th>UsualWork</th>\n",
       "      <th>LostLabour</th>\n",
       "    </tr>\n",
       "  </thead>\n",
       "  <tbody>\n",
       "    <tr>\n",
       "      <th>0</th>\n",
       "      <td>Grade 9</td>\n",
       "      <td>1981.0</td>\n",
       "      <td>No</td>\n",
       "      <td>Gauteng</td>\n",
       "      <td>NaN</td>\n",
       "      <td>NaN</td>\n",
       "      <td>180.0</td>\n",
       "      <td>NaN</td>\n",
       "      <td>1</td>\n",
       "    </tr>\n",
       "    <tr>\n",
       "      <th>3</th>\n",
       "      <td>Grade 10</td>\n",
       "      <td>1972.0</td>\n",
       "      <td>No</td>\n",
       "      <td>Gauteng</td>\n",
       "      <td>3.0</td>\n",
       "      <td>5.0</td>\n",
       "      <td>900.0</td>\n",
       "      <td>Elementary occupations</td>\n",
       "      <td>1</td>\n",
       "    </tr>\n",
       "    <tr>\n",
       "      <th>9</th>\n",
       "      <td>Grade 10</td>\n",
       "      <td>1989.0</td>\n",
       "      <td>No</td>\n",
       "      <td>Gauteng</td>\n",
       "      <td>6.0</td>\n",
       "      <td>10.0</td>\n",
       "      <td>8000.0</td>\n",
       "      <td>NaN</td>\n",
       "      <td>1</td>\n",
       "    </tr>\n",
       "    <tr>\n",
       "      <th>10</th>\n",
       "      <td>Grade 12</td>\n",
       "      <td>1972.0</td>\n",
       "      <td>No</td>\n",
       "      <td>KwaZulu-Natal</td>\n",
       "      <td>3.0</td>\n",
       "      <td>8.0</td>\n",
       "      <td>4600.0</td>\n",
       "      <td>NaN</td>\n",
       "      <td>1</td>\n",
       "    </tr>\n",
       "    <tr>\n",
       "      <th>15</th>\n",
       "      <td>Grade 12</td>\n",
       "      <td>1968.0</td>\n",
       "      <td>No</td>\n",
       "      <td>Gauteng</td>\n",
       "      <td>5.0</td>\n",
       "      <td>8.0</td>\n",
       "      <td>25000.0</td>\n",
       "      <td>Technicians and associate professionals</td>\n",
       "      <td>0</td>\n",
       "    </tr>\n",
       "  </tbody>\n",
       "</table>\n",
       "</div>"
      ],
      "text/plain": [
       "       Grade YearOfBirth MovedProvince       Province DaysWorked HoursWorked  \\\n",
       "0    Grade 9      1981.0            No        Gauteng        NaN         NaN   \n",
       "3   Grade 10      1972.0            No        Gauteng        3.0         5.0   \n",
       "9   Grade 10      1989.0            No        Gauteng        6.0        10.0   \n",
       "10  Grade 12      1972.0            No  KwaZulu-Natal        3.0         8.0   \n",
       "15  Grade 12      1968.0            No        Gauteng        5.0         8.0   \n",
       "\n",
       "     Income                                UsualWork  LostLabour  \n",
       "0     180.0                                      NaN           1  \n",
       "3     900.0                   Elementary occupations           1  \n",
       "9    8000.0                                      NaN           1  \n",
       "10   4600.0                                      NaN           1  \n",
       "15  25000.0  Technicians and associate professionals           0  "
      ]
     },
     "execution_count": 44,
     "metadata": {},
     "output_type": "execute_result"
    }
   ],
   "source": [
    "model_df = model_df.loc[model_df['HadLabour']==1,:]\n",
    "model_df = model_df.drop(\"HadLabour\",axis=1)\n",
    "model_df.head()"
   ]
  },
  {
   "cell_type": "markdown",
   "metadata": {},
   "source": [
    "## 4.1 - Missing Data"
   ]
  },
  {
   "cell_type": "code",
   "execution_count": 45,
   "metadata": {},
   "outputs": [
    {
     "data": {
      "text/plain": [
       "Grade             0.373134\n",
       "YearOfBirth       0.031095\n",
       "MovedProvince     0.000000\n",
       "Province          0.000000\n",
       "DaysWorked        4.788557\n",
       "HoursWorked       9.172886\n",
       "Income           20.926617\n",
       "UsualWork        40.049751\n",
       "LostLabour        0.000000\n",
       "dtype: float64"
      ]
     },
     "execution_count": 45,
     "metadata": {},
     "output_type": "execute_result"
    }
   ],
   "source": [
    "(model_df.isnull().sum()/ len(model_df))*100"
   ]
  },
  {
   "cell_type": "markdown",
   "metadata": {},
   "source": [
    "Only 0.37% of our sample is missing grade"
   ]
  },
  {
   "cell_type": "code",
   "execution_count": 46,
   "metadata": {},
   "outputs": [],
   "source": [
    "model_df = model_df[model_df['Grade'].notnull()]"
   ]
  },
  {
   "cell_type": "markdown",
   "metadata": {},
   "source": [
    "Because Grade is an ordered categroical feature we will want some way to order them, unfortunately the inclusion of the NTC and NCV levels makes this difficult as there is no direct grade equivalent for these qualifications. Let us see how many respondents in our sample have these qualifications "
   ]
  },
  {
   "cell_type": "code",
   "execution_count": 47,
   "metadata": {},
   "outputs": [
    {
     "data": {
      "text/plain": [
       "1.9038701622971288"
      ]
     },
     "execution_count": 47,
     "metadata": {},
     "output_type": "execute_result"
    }
   ],
   "source": [
    "not_standard  = model_df['Grade'].value_counts().sort_index()[-6:]\n",
    "(not_standard.sum()/len(model_df))*100"
   ]
  },
  {
   "cell_type": "markdown",
   "metadata": {},
   "source": [
    "Only about 2% of sample have these qualifications. To allows us to use this ordering we will remove them from the sample."
   ]
  },
  {
   "cell_type": "code",
   "execution_count": 48,
   "metadata": {},
   "outputs": [],
   "source": [
    "model_df = model_df.loc[(model_df['Grade'] != 'NCV 2') & (model_df['Grade'] != 'NCV 3') & (model_df['Grade'] != 'NCV 4')& (model_df['Grade'] != 'NTC 1')&(model_df['Grade'] != 'NTC 2') &(model_df['Grade'] != 'NTC 3')]"
   ]
  },
  {
   "cell_type": "code",
   "execution_count": 49,
   "metadata": {},
   "outputs": [
    {
     "data": {
      "text/plain": [
       "0.0315955766192733"
      ]
     },
     "execution_count": 49,
     "metadata": {},
     "output_type": "execute_result"
    }
   ],
   "source": [
    "(model_df['YearOfBirth'].isnull().sum()/ len(model_df))*100"
   ]
  },
  {
   "cell_type": "markdown",
   "metadata": {},
   "source": [
    "Less than 0.05% of our sample have missing birth years let us drop those null values as well "
   ]
  },
  {
   "cell_type": "code",
   "execution_count": 50,
   "metadata": {},
   "outputs": [],
   "source": [
    "model_df = model_df[model_df['YearOfBirth'].notnull()]"
   ]
  },
  {
   "cell_type": "code",
   "execution_count": 51,
   "metadata": {},
   "outputs": [
    {
     "data": {
      "text/plain": [
       "5.0               1466\n",
       "7.0                370\n",
       "4.0                297\n",
       "6.0                286\n",
       "2.0                235\n",
       "3.0                231\n",
       "1.0                 63\n",
       "0.0                 44\n",
       "I was on leave      20\n",
       "Name: DaysWorked, dtype: int64"
      ]
     },
     "execution_count": 51,
     "metadata": {},
     "output_type": "execute_result"
    }
   ],
   "source": [
    "model_df['DaysWorked'].value_counts()"
   ]
  },
  {
   "cell_type": "markdown",
   "metadata": {},
   "source": [
    "People who were on leave intefer with this being a numerical values so we will get rid of them "
   ]
  },
  {
   "cell_type": "code",
   "execution_count": 52,
   "metadata": {},
   "outputs": [],
   "source": [
    "model_df = model_df[model_df['DaysWorked']!='I was on leave']"
   ]
  },
  {
   "cell_type": "code",
   "execution_count": 53,
   "metadata": {},
   "outputs": [
    {
     "data": {
      "text/plain": [
       "4.695855614973262"
      ]
     },
     "execution_count": 53,
     "metadata": {},
     "output_type": "execute_result"
    }
   ],
   "source": [
    "pd.to_numeric(model_df['DaysWorked']).mean()"
   ]
  },
  {
   "cell_type": "markdown",
   "metadata": {},
   "source": [
    "We can see the average number of days worked is closest to 5, lets impute these values ."
   ]
  },
  {
   "cell_type": "code",
   "execution_count": 54,
   "metadata": {},
   "outputs": [
    {
     "data": {
      "text/html": [
       "<div>\n",
       "<style scoped>\n",
       "    .dataframe tbody tr th:only-of-type {\n",
       "        vertical-align: middle;\n",
       "    }\n",
       "\n",
       "    .dataframe tbody tr th {\n",
       "        vertical-align: top;\n",
       "    }\n",
       "\n",
       "    .dataframe thead th {\n",
       "        text-align: right;\n",
       "    }\n",
       "</style>\n",
       "<table border=\"1\" class=\"dataframe\">\n",
       "  <thead>\n",
       "    <tr style=\"text-align: right;\">\n",
       "      <th></th>\n",
       "      <th>Grade</th>\n",
       "      <th>YearOfBirth</th>\n",
       "      <th>MovedProvince</th>\n",
       "      <th>Province</th>\n",
       "      <th>DaysWorked</th>\n",
       "      <th>HoursWorked</th>\n",
       "      <th>Income</th>\n",
       "      <th>UsualWork</th>\n",
       "      <th>LostLabour</th>\n",
       "    </tr>\n",
       "  </thead>\n",
       "  <tbody>\n",
       "    <tr>\n",
       "      <th>0</th>\n",
       "      <td>Grade 9</td>\n",
       "      <td>1981.0</td>\n",
       "      <td>No</td>\n",
       "      <td>Gauteng</td>\n",
       "      <td>NaN</td>\n",
       "      <td>NaN</td>\n",
       "      <td>180.0</td>\n",
       "      <td>NaN</td>\n",
       "      <td>1</td>\n",
       "    </tr>\n",
       "    <tr>\n",
       "      <th>77</th>\n",
       "      <td>Grade 10</td>\n",
       "      <td>1976.0</td>\n",
       "      <td>No</td>\n",
       "      <td>Limpopo</td>\n",
       "      <td>NaN</td>\n",
       "      <td>NaN</td>\n",
       "      <td>980.0</td>\n",
       "      <td>NaN</td>\n",
       "      <td>0</td>\n",
       "    </tr>\n",
       "    <tr>\n",
       "      <th>119</th>\n",
       "      <td>Grade 11</td>\n",
       "      <td>1977.0</td>\n",
       "      <td>No</td>\n",
       "      <td>Gauteng</td>\n",
       "      <td>NaN</td>\n",
       "      <td>NaN</td>\n",
       "      <td>1300.0</td>\n",
       "      <td>NaN</td>\n",
       "      <td>1</td>\n",
       "    </tr>\n",
       "    <tr>\n",
       "      <th>123</th>\n",
       "      <td>Grade 12</td>\n",
       "      <td>1981.0</td>\n",
       "      <td>No</td>\n",
       "      <td>Free State</td>\n",
       "      <td>NaN</td>\n",
       "      <td>NaN</td>\n",
       "      <td>250.0</td>\n",
       "      <td>NaN</td>\n",
       "      <td>1</td>\n",
       "    </tr>\n",
       "    <tr>\n",
       "      <th>153</th>\n",
       "      <td>Grade 12</td>\n",
       "      <td>1971.0</td>\n",
       "      <td>No</td>\n",
       "      <td>Mpumalanga</td>\n",
       "      <td>NaN</td>\n",
       "      <td>NaN</td>\n",
       "      <td>12.0</td>\n",
       "      <td>Service and sales workers</td>\n",
       "      <td>0</td>\n",
       "    </tr>\n",
       "    <tr>\n",
       "      <th>...</th>\n",
       "      <td>...</td>\n",
       "      <td>...</td>\n",
       "      <td>...</td>\n",
       "      <td>...</td>\n",
       "      <td>...</td>\n",
       "      <td>...</td>\n",
       "      <td>...</td>\n",
       "      <td>...</td>\n",
       "      <td>...</td>\n",
       "    </tr>\n",
       "    <tr>\n",
       "      <th>6705</th>\n",
       "      <td>Grade 2</td>\n",
       "      <td>1986.0</td>\n",
       "      <td>No</td>\n",
       "      <td>Eastern Cape</td>\n",
       "      <td>NaN</td>\n",
       "      <td>NaN</td>\n",
       "      <td>0.0</td>\n",
       "      <td>NaN</td>\n",
       "      <td>0</td>\n",
       "    </tr>\n",
       "    <tr>\n",
       "      <th>6761</th>\n",
       "      <td>Grade 12</td>\n",
       "      <td>1990.0</td>\n",
       "      <td>Yes</td>\n",
       "      <td>Western Cape</td>\n",
       "      <td>NaN</td>\n",
       "      <td>NaN</td>\n",
       "      <td>NaN</td>\n",
       "      <td>Craft and related trades workers</td>\n",
       "      <td>0</td>\n",
       "    </tr>\n",
       "    <tr>\n",
       "      <th>6958</th>\n",
       "      <td>Grade 11</td>\n",
       "      <td>1978.0</td>\n",
       "      <td>No</td>\n",
       "      <td>Northern Cape</td>\n",
       "      <td>NaN</td>\n",
       "      <td>NaN</td>\n",
       "      <td>600.0</td>\n",
       "      <td>Elementary occupations</td>\n",
       "      <td>0</td>\n",
       "    </tr>\n",
       "    <tr>\n",
       "      <th>6985</th>\n",
       "      <td>Grade 6</td>\n",
       "      <td>1982.0</td>\n",
       "      <td>No</td>\n",
       "      <td>KwaZulu-Natal</td>\n",
       "      <td>NaN</td>\n",
       "      <td>NaN</td>\n",
       "      <td>NaN</td>\n",
       "      <td>NaN</td>\n",
       "      <td>1</td>\n",
       "    </tr>\n",
       "    <tr>\n",
       "      <th>7041</th>\n",
       "      <td>Grade 12</td>\n",
       "      <td>1983.0</td>\n",
       "      <td>No</td>\n",
       "      <td>Eastern Cape</td>\n",
       "      <td>NaN</td>\n",
       "      <td>NaN</td>\n",
       "      <td>NaN</td>\n",
       "      <td>Service and sales workers</td>\n",
       "      <td>0</td>\n",
       "    </tr>\n",
       "  </tbody>\n",
       "</table>\n",
       "<p>152 rows × 9 columns</p>\n",
       "</div>"
      ],
      "text/plain": [
       "         Grade YearOfBirth MovedProvince       Province DaysWorked  \\\n",
       "0      Grade 9      1981.0            No        Gauteng        NaN   \n",
       "77    Grade 10      1976.0            No        Limpopo        NaN   \n",
       "119   Grade 11      1977.0            No        Gauteng        NaN   \n",
       "123   Grade 12      1981.0            No     Free State        NaN   \n",
       "153   Grade 12      1971.0            No     Mpumalanga        NaN   \n",
       "...        ...         ...           ...            ...        ...   \n",
       "6705   Grade 2      1986.0            No   Eastern Cape        NaN   \n",
       "6761  Grade 12      1990.0           Yes   Western Cape        NaN   \n",
       "6958  Grade 11      1978.0            No  Northern Cape        NaN   \n",
       "6985   Grade 6      1982.0            No  KwaZulu-Natal        NaN   \n",
       "7041  Grade 12      1983.0            No   Eastern Cape        NaN   \n",
       "\n",
       "     HoursWorked  Income                         UsualWork  LostLabour  \n",
       "0            NaN   180.0                               NaN           1  \n",
       "77           NaN   980.0                               NaN           0  \n",
       "119          NaN  1300.0                               NaN           1  \n",
       "123          NaN   250.0                               NaN           1  \n",
       "153          NaN    12.0         Service and sales workers           0  \n",
       "...          ...     ...                               ...         ...  \n",
       "6705         NaN     0.0                               NaN           0  \n",
       "6761         NaN     NaN  Craft and related trades workers           0  \n",
       "6958         NaN   600.0            Elementary occupations           0  \n",
       "6985         NaN     NaN                               NaN           1  \n",
       "7041         NaN     NaN         Service and sales workers           0  \n",
       "\n",
       "[152 rows x 9 columns]"
      ]
     },
     "execution_count": 54,
     "metadata": {},
     "output_type": "execute_result"
    }
   ],
   "source": [
    "model_df.loc[model_df['DaysWorked'].isnull()]"
   ]
  },
  {
   "cell_type": "code",
   "execution_count": 55,
   "metadata": {},
   "outputs": [
    {
     "data": {
      "text/plain": [
       "Grade 5     35\n",
       "Grade 6     58\n",
       "Grade 7    129\n",
       "Grade 8    113\n",
       "Grade 9    172\n",
       "None        28\n",
       "Name: Grade, dtype: int64"
      ]
     },
     "execution_count": 55,
     "metadata": {},
     "output_type": "execute_result"
    }
   ],
   "source": [
    "not_standard  = model_df['Grade'].value_counts().sort_index()[-6:]\n",
    "not_standard"
   ]
  },
  {
   "cell_type": "code",
   "execution_count": 56,
   "metadata": {},
   "outputs": [
    {
     "data": {
      "text/plain": [
       "17.016539440203562"
      ]
     },
     "execution_count": 56,
     "metadata": {},
     "output_type": "execute_result"
    }
   ],
   "source": [
    "(not_standard.sum()/len(model_df))*100"
   ]
  },
  {
   "cell_type": "markdown",
   "metadata": {},
   "source": [
    "We can see that just over one percent of our sample has a highest grade that is not one of the standard grades (Grade 0-12). Let's see how much of the other information these records have."
   ]
  },
  {
   "cell_type": "code",
   "execution_count": 57,
   "metadata": {
    "scrolled": true
   },
   "outputs": [
    {
     "data": {
      "text/html": [
       "<div>\n",
       "<style scoped>\n",
       "    .dataframe tbody tr th:only-of-type {\n",
       "        vertical-align: middle;\n",
       "    }\n",
       "\n",
       "    .dataframe tbody tr th {\n",
       "        vertical-align: top;\n",
       "    }\n",
       "\n",
       "    .dataframe thead th {\n",
       "        text-align: right;\n",
       "    }\n",
       "</style>\n",
       "<table border=\"1\" class=\"dataframe\">\n",
       "  <thead>\n",
       "    <tr style=\"text-align: right;\">\n",
       "      <th></th>\n",
       "      <th>Grade</th>\n",
       "      <th>YearOfBirth</th>\n",
       "      <th>MovedProvince</th>\n",
       "      <th>Province</th>\n",
       "      <th>DaysWorked</th>\n",
       "      <th>HoursWorked</th>\n",
       "      <th>Income</th>\n",
       "      <th>UsualWork</th>\n",
       "      <th>LostLabour</th>\n",
       "    </tr>\n",
       "  </thead>\n",
       "  <tbody>\n",
       "  </tbody>\n",
       "</table>\n",
       "</div>"
      ],
      "text/plain": [
       "Empty DataFrame\n",
       "Columns: [Grade, YearOfBirth, MovedProvince, Province, DaysWorked, HoursWorked, Income, UsualWork, LostLabour]\n",
       "Index: []"
      ]
     },
     "execution_count": 57,
     "metadata": {},
     "output_type": "execute_result"
    }
   ],
   "source": [
    "model_df[(model_df['Grade'] == 'NCV 2') | (model_df['Grade'] == 'NCV 3') | (model_df['Grade'] == 'NCV 4')| (model_df['Grade'] == 'NTC 1')|(model_df['Grade'] == 'NTC 2') |(model_df['Grade'] == 'NTC 3')]"
   ]
  },
  {
   "cell_type": "code",
   "execution_count": 58,
   "metadata": {},
   "outputs": [
    {
     "ename": "NameError",
     "evalue": "name 'mode' is not defined",
     "output_type": "error",
     "traceback": [
      "\u001b[0;31m---------------------------------------------------------------------------\u001b[0m",
      "\u001b[0;31mNameError\u001b[0m                                 Traceback (most recent call last)",
      "\u001b[0;32m<ipython-input-58-58ca96c58091>\u001b[0m in \u001b[0;36m<module>\u001b[0;34m\u001b[0m\n\u001b[0;32m----> 1\u001b[0;31m \u001b[0mmode\u001b[0m\u001b[0;34m\u001b[0m\u001b[0;34m\u001b[0m\u001b[0m\n\u001b[0m",
      "\u001b[0;31mNameError\u001b[0m: name 'mode' is not defined"
     ]
    }
   ],
   "source": [
    "mode"
   ]
  },
  {
   "cell_type": "code",
   "execution_count": 60,
   "metadata": {},
   "outputs": [],
   "source": [
    "grade_map = {\n",
    "    'Grade 12 (Std10 / Matric / Senior Certificate / Form 5)': 12,\n",
    "    'Grade 11 (Std. 9/ Form 4)':11,\n",
    "    'Grade 10 (Std. 8/ Form 3)':10, \n",
    "    'Grade 9 (Std. 7/ Form 2)': 9, \n",
    "    'Grade 8 (Std. 6/ Form 1)': 8, \n",
    "    'Grade 7 (Std. 5)': 7, \n",
    "    'Grade 6 (Std. 4)': 6, \n",
    "    'Grade 5 (Std. 3)': 5, \n",
    "    'Grade 4 (Std. 2)': 4, \n",
    "    'Grade 3 (Std. 1)': 3,\n",
    "    'Grade 2 (previously Sub B/ class 2)': 2, \n",
    "    'Grade 1 (previously Sub A/ class 1)': 1, \n",
    "    'Grade R/0': 0, \n",
    "    #'No Schooling': -1,\n",
    "}"
   ]
  },
  {
   "cell_type": "code",
   "execution_count": null,
   "metadata": {},
   "outputs": [],
   "source": []
  }
 ],
 "metadata": {
  "hide_input": false,
  "kernelspec": {
   "display_name": "Python 3",
   "language": "python",
   "name": "python3"
  },
  "language_info": {
   "codemirror_mode": {
    "name": "ipython",
    "version": 3
   },
   "file_extension": ".py",
   "mimetype": "text/x-python",
   "name": "python",
   "nbconvert_exporter": "python",
   "pygments_lexer": "ipython3",
   "version": "3.8.6"
  },
  "toc": {
   "base_numbering": 1,
   "nav_menu": {},
   "number_sections": false,
   "sideBar": true,
   "skip_h1_title": true,
   "title_cell": "Table of Contents",
   "title_sidebar": "Contents",
   "toc_cell": true,
   "toc_position": {
    "height": "calc(100% - 180px)",
    "left": "10px",
    "top": "150px",
    "width": "463.496px"
   },
   "toc_section_display": true,
   "toc_window_display": true
  },
  "widgets": {
   "application/vnd.jupyter.widget-state+json": {
    "state": {},
    "version_major": 1,
    "version_minor": 0
   }
  }
 },
 "nbformat": 4,
 "nbformat_minor": 4
}
