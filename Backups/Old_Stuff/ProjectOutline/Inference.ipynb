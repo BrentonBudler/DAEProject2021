{
 "cells": [
  {
   "cell_type": "markdown",
   "metadata": {
    "toc": true
   },
   "source": [
    "<h1>Table of Contents<span class=\"tocSkip\"></span></h1>\n",
    "<div class=\"toc\"><ul class=\"toc-item\"><li><span><a href=\"#1.-Loading-Data\" data-toc-modified-id=\"1.-Loading-Data-1\">1. Loading Data</a></span></li><li><span><a href=\"#2.-Exploring-data\" data-toc-modified-id=\"2.-Exploring-data-2\">2. Exploring data</a></span></li><li><span><a href=\"#3.-Creating-Models\" data-toc-modified-id=\"3.-Creating-Models-3\">3. Creating Models</a></span></li><li><span><a href=\"#4.-Conclusion\" data-toc-modified-id=\"4.-Conclusion-4\">4. Conclusion</a></span></li></ul></div>"
   ]
  },
  {
   "cell_type": "markdown",
   "metadata": {},
   "source": [
    "# Power dynamics: exploring the relationship between coal and electricity production in South Africa\n",
    "\n",
    "\n",
    "South Africa has experienced [load shedding](http://loadshedding.eskom.co.za/LoadShedding/Description) for the [past 12 years](https://www.fin24.com/Economy/Eskom/sunday-read-load-shedding-through-the-years-and-how-eskom-has-struggled-to-keep-the-lights-on-20190324). This notebook looks at the impact of coal production on the production of electricity.\n",
    "\n",
    "**Question:** Is there a significant relationship between coal production and electricity production?\n",
    "\n",
    "We explore this relationship using the [regression slope test](https://stattrek.com/regression/slope-test.aspx), having a regression line of the format:\n",
    "$$\n",
    "Y=B_{0}+B_{1} X\n",
    "$$\n",
    "where $B_0$ is an the intercept, $B_{1}$ is the slope (also called the coefficient), $X$ is coal and $Y$ is electricity. If there is a significant relationship between the $X$ and $Y$ variables, the slope will not equal zero. \n",
    "\n",
    "Thus, the **hypothesis** is as follows:\n",
    "$$\n",
    "\\begin{array}{l}{\\mathrm{H}_{\\mathrm{0}} : \\mathrm{B}_{1}=0} \\\\ {\\mathrm{H}_{\\mathrm{1}} : \\mathrm{B}_{1} \\neq 0}\\end{array}\n",
    "$$\n",
    "Where, the null hypothesis is having slope equal zero, and the alternative hypothesis having a slope not equal to zero."
   ]
  },
  {
   "cell_type": "code",
   "execution_count": 1,
   "metadata": {},
   "outputs": [],
   "source": [
    "import pandas as pd\n",
    "import matplotlib.pyplot as plt\n",
    "import numpy as np\n",
    "from sklearn.linear_model import LinearRegression\n",
    "from sklearn.metrics import mean_squared_error, r2_score, mean_absolute_error\n",
    "from sklearn.model_selection import train_test_split\n",
    "from statsmodels.tsa.seasonal import seasonal_decompose\n",
    "from statsmodels.tsa.stattools import adfuller\n",
    "from scipy import stats\n",
    "import seaborn as sns \n",
    "\n",
    "sns.set_style(\"darkgrid\")"
   ]
  },
  {
   "cell_type": "markdown",
   "metadata": {},
   "source": [
    "## 1. Loading Data\n",
    "I pre-proccessed the data during the Exploratory Data Analysis (EDA) stage of this research. From that I created monthly time-series datasets of Coal usage from 2003 to 2019 February and Electricity usage from 2000 to 2019 February."
   ]
  },
  {
   "cell_type": "code",
   "execution_count": 2,
   "metadata": {},
   "outputs": [
    {
     "ename": "FileNotFoundError",
     "evalue": "[Errno 2] No such file or directory: 'Dataset/processed_coal_data.pkl'",
     "output_type": "error",
     "traceback": [
      "\u001b[0;31m--------------------------------------------------------------------------\u001b[0m",
      "\u001b[0;31mFileNotFoundError\u001b[0m                        Traceback (most recent call last)",
      "\u001b[0;32m<ipython-input-2-fa789b4c95eb>\u001b[0m in \u001b[0;36m<module>\u001b[0;34m\u001b[0m\n\u001b[1;32m      1\u001b[0m \u001b[0;31m# Load Data Processed from EDA\u001b[0m\u001b[0;34m\u001b[0m\u001b[0;34m\u001b[0m\u001b[0;34m\u001b[0m\u001b[0m\n\u001b[0;32m----> 2\u001b[0;31m \u001b[0mcoal\u001b[0m \u001b[0;34m=\u001b[0m \u001b[0mpd\u001b[0m\u001b[0;34m.\u001b[0m\u001b[0mread_pickle\u001b[0m\u001b[0;34m(\u001b[0m\u001b[0;34m\"Dataset/processed_coal_data.pkl\"\u001b[0m\u001b[0;34m)\u001b[0m\u001b[0;34m\u001b[0m\u001b[0;34m\u001b[0m\u001b[0m\n\u001b[0m\u001b[1;32m      3\u001b[0m \u001b[0melec\u001b[0m \u001b[0;34m=\u001b[0m \u001b[0mpd\u001b[0m\u001b[0;34m.\u001b[0m\u001b[0mread_pickle\u001b[0m\u001b[0;34m(\u001b[0m\u001b[0;34m\"Dataset/processed_elec_data.pkl\"\u001b[0m\u001b[0;34m)\u001b[0m\u001b[0;34m\u001b[0m\u001b[0;34m\u001b[0m\u001b[0m\n",
      "\u001b[0;32m~/.local/lib/python3.8/site-packages/pandas/io/pickle.py\u001b[0m in \u001b[0;36mread_pickle\u001b[0;34m(filepath_or_buffer, compression, storage_options)\u001b[0m\n\u001b[1;32m    183\u001b[0m     \"\"\"\n\u001b[1;32m    184\u001b[0m     \u001b[0mexcs_to_catch\u001b[0m \u001b[0;34m=\u001b[0m \u001b[0;34m(\u001b[0m\u001b[0mAttributeError\u001b[0m\u001b[0;34m,\u001b[0m \u001b[0mImportError\u001b[0m\u001b[0;34m,\u001b[0m \u001b[0mModuleNotFoundError\u001b[0m\u001b[0;34m,\u001b[0m \u001b[0mTypeError\u001b[0m\u001b[0;34m)\u001b[0m\u001b[0;34m\u001b[0m\u001b[0;34m\u001b[0m\u001b[0m\n\u001b[0;32m--> 185\u001b[0;31m     with get_handle(\n\u001b[0m\u001b[1;32m    186\u001b[0m         \u001b[0mfilepath_or_buffer\u001b[0m\u001b[0;34m,\u001b[0m\u001b[0;34m\u001b[0m\u001b[0;34m\u001b[0m\u001b[0m\n\u001b[1;32m    187\u001b[0m         \u001b[0;34m\"rb\"\u001b[0m\u001b[0;34m,\u001b[0m\u001b[0;34m\u001b[0m\u001b[0;34m\u001b[0m\u001b[0m\n",
      "\u001b[0;32m~/.local/lib/python3.8/site-packages/pandas/io/common.py\u001b[0m in \u001b[0;36mget_handle\u001b[0;34m(path_or_buf, mode, encoding, compression, memory_map, is_text, errors, storage_options)\u001b[0m\n\u001b[1;32m    649\u001b[0m         \u001b[0;32melse\u001b[0m\u001b[0;34m:\u001b[0m\u001b[0;34m\u001b[0m\u001b[0;34m\u001b[0m\u001b[0m\n\u001b[1;32m    650\u001b[0m             \u001b[0;31m# Binary mode\u001b[0m\u001b[0;34m\u001b[0m\u001b[0;34m\u001b[0m\u001b[0;34m\u001b[0m\u001b[0m\n\u001b[0;32m--> 651\u001b[0;31m             \u001b[0mhandle\u001b[0m \u001b[0;34m=\u001b[0m \u001b[0mopen\u001b[0m\u001b[0;34m(\u001b[0m\u001b[0mhandle\u001b[0m\u001b[0;34m,\u001b[0m \u001b[0mioargs\u001b[0m\u001b[0;34m.\u001b[0m\u001b[0mmode\u001b[0m\u001b[0;34m)\u001b[0m\u001b[0;34m\u001b[0m\u001b[0;34m\u001b[0m\u001b[0m\n\u001b[0m\u001b[1;32m    652\u001b[0m         \u001b[0mhandles\u001b[0m\u001b[0;34m.\u001b[0m\u001b[0mappend\u001b[0m\u001b[0;34m(\u001b[0m\u001b[0mhandle\u001b[0m\u001b[0;34m)\u001b[0m\u001b[0;34m\u001b[0m\u001b[0;34m\u001b[0m\u001b[0m\n\u001b[1;32m    653\u001b[0m \u001b[0;34m\u001b[0m\u001b[0m\n",
      "\u001b[0;31mFileNotFoundError\u001b[0m: [Errno 2] No such file or directory: 'Dataset/processed_coal_data.pkl'"
     ]
    }
   ],
   "source": [
    "# Load Data Processed from EDA\n",
    "coal = pd.read_pickle(\"Dataset/processed_coal_data.pkl\")\n",
    "elec = pd.read_pickle(\"Dataset/processed_elec_data.pkl\")"
   ]
  },
  {
   "cell_type": "code",
   "execution_count": null,
   "metadata": {},
   "outputs": [],
   "source": [
    "# Display the Electricity Data\n",
    "elec.head()"
   ]
  },
  {
   "cell_type": "code",
   "execution_count": null,
   "metadata": {},
   "outputs": [],
   "source": [
    "# Display the Coal Data\n",
    "coal.head()"
   ]
  },
  {
   "cell_type": "code",
   "execution_count": null,
   "metadata": {},
   "outputs": [],
   "source": [
    "# The Coal Data only starts in 2003, so we can delete 2000-2003 in Electricity\n",
    "if coal.size!=elec.size:\n",
    "    elec = elec[3*12:] # Delete three years of data\n",
    "# Check both datasets have the same features\n",
    "print(\"Months equal:\",coal.size==elec.size)\n",
    "print(\"Starts equal:\",coal.index[0]==elec.index[0])\n",
    "print(\"Ends equal:  \",coal.index[-1]==elec.index[-1])"
   ]
  },
  {
   "cell_type": "markdown",
   "metadata": {},
   "source": [
    "## 2. Exploring data\n",
    "Basic plots and calculations to better understand the data"
   ]
  },
  {
   "cell_type": "code",
   "execution_count": null,
   "metadata": {},
   "outputs": [],
   "source": [
    "# Plotting both variables together\n",
    "elec_and_coal = coal.join(elec)\n",
    "\n",
    "# Create a Plot with two Y values\n",
    "ax = elec_and_coal.plot(secondary_y=['Amount'])\n",
    "ax.set_title(\"Electricity and Coal 2003-2019\")\n",
    "ax.set_ylabel('Electricity Produced')\n",
    "ax.right_ax.set_ylabel('Coal Produced')\n",
    "plt.show()"
   ]
  },
  {
   "cell_type": "markdown",
   "metadata": {},
   "source": [
    "This gives us an indication that there is a high amount of correlation between the years 2003-2019 - as both graphs are quite similar. Furthermore, there seems to be a some amount of seasonality to this data - which we will explore later.\n",
    "\n",
    "Firstly, we can find out exactly how correlated they are by calculating the correlation coefficient between the two variables:"
   ]
  },
  {
   "cell_type": "code",
   "execution_count": null,
   "metadata": {},
   "outputs": [],
   "source": [
    "def corr_coef(x, y):\n",
    "    \"\"\"\n",
    "    Given two series, find out how correlated they are\n",
    "    \"\"\"\n",
    "    x_m = (x - np.mean(x))\n",
    "    y_m = (y - np.mean(y))\n",
    "    r = np.sum(x_m * y_m) / np.sqrt(np.sum(x_m**2) * np.sum(y_m**2))\n",
    "    return r"
   ]
  },
  {
   "cell_type": "code",
   "execution_count": null,
   "metadata": {},
   "outputs": [],
   "source": [
    "# Get both Dataframes as a series and get corr coeff\n",
    "coal_series= coal.iloc[:,0]\n",
    "elec_series = elec.iloc[:,0]\n",
    "print(\"Correlation coefficient between electricity and coal production is\",corr_coef(elec_series,coal_series))"
   ]
  },
  {
   "cell_type": "markdown",
   "metadata": {},
   "source": [
    "A value of $0.65$ means that the two variables have a [moderately strong positive correlation](https://statisticsbyjim.com/basics/correlations/). This likely means that there is a relationship of some kind between coal and electricity.\n",
    "\n",
    "Now, we can find out if the data is stationary - which means that the mean, variance and autocorrelation do not change significantly over time. Stationarity [can make time series easier to model](https://www.itl.nist.gov/div898/handbook/pmc/section4/pmc442.htm). We can use the [Augmented Dickey-Fuller test (ADF)](https://machinelearningmastery.com/time-series-data-stationary-python/) to determine if the data is stationary:\n",
    "$$\n",
    "\\begin{aligned}\n",
    "    H_0&: \\text{Time series has a unit root and is not stationary - it has some time dependent structure}\\\\\n",
    "    H_1&: \\text{Time series does not have a unit root, it is stationary - does not have a time dependent structure}\n",
    "\\end{aligned}\n",
    "$$\n",
    "\n",
    "If the p-value returned from the test is below or equal to 0.05 then we reject the null hypothesis - otherwise we maintain it."
   ]
  },
  {
   "cell_type": "code",
   "execution_count": null,
   "metadata": {},
   "outputs": [],
   "source": [
    "def is_stationary(data):\n",
    "    \"\"\"\n",
    "    Takes in an array of values and indicates whether it is stationary.\n",
    "    \"\"\"\n",
    "    result = adfuller(data)\n",
    "    print('ADF Statistic: %f' % result[0])\n",
    "    print('p-value: %f' % result[1])\n",
    "    print('Critical Values:')\n",
    "    for key, value in result[4].items():\n",
    "        print('\\t%s: %.3f' % (key, value))\n",
    "    if result[1] <=0.05:\n",
    "        print(\"This data is Stationary\")\n",
    "    else:\n",
    "        print(\"This data is not Stationary\")\n",
    "    print(\"\\n\")"
   ]
  },
  {
   "cell_type": "code",
   "execution_count": null,
   "metadata": {},
   "outputs": [],
   "source": [
    "is_stationary(coal.iloc[:,0].values)\n",
    "is_stationary(elec.iloc[:,0].values)"
   ]
  },
  {
   "cell_type": "markdown",
   "metadata": {},
   "source": [
    "The above data is not stationary, which indicates that there could be some seasonal affects, trends and other structures that depend on the time index. We can decompose the data to better understand the different aspects at play:"
   ]
  },
  {
   "cell_type": "code",
   "execution_count": null,
   "metadata": {},
   "outputs": [],
   "source": [
    "def get_decomposition(timeseries_data, plot_output=False):\n",
    "    \"\"\"\n",
    "    Returns the seasonal and residual components of\n",
    "    the given time series\n",
    "    \"\"\"\n",
    "    decomposition = seasonal_decompose(timeseries_data, model='additive')\n",
    "    seasonal = decomposition.seasonal\n",
    "    resid = decomposition.resid\n",
    "    trend = decomposition.trend\n",
    "    if plot_output:\n",
    "        decomposition.plot()\n",
    "        plt.show()\n",
    "    return seasonal, resid, trend"
   ]
  },
  {
   "cell_type": "code",
   "execution_count": null,
   "metadata": {},
   "outputs": [],
   "source": [
    "# Get decompositions\n",
    "elec_season, elec_resid, elec_trend = get_decomposition(elec)\n",
    "coal_season, coal_resid, coal_trend = get_decomposition(coal)\n",
    "\n",
    "\n",
    "# Join DFs\n",
    "seasons = elec_season.join(coal_season)\n",
    "trends = elec_trend.join(coal_trend)\n",
    "\n",
    "# Plot Seasonality\n",
    "ax = seasons.plot(secondary_y=['Amount'])\n",
    "ax.set_title(\"Seasonality of Electricity and Coal 2003-2019\")\n",
    "ax.set_ylabel('Seasonal Electricity Production')\n",
    "ax.right_ax.set_ylabel('Seasonal Coal Production')\n",
    "ax.get_legend().remove()\n",
    "plt.show()\n",
    "\n",
    "# Plot Trends\n",
    "ax = trends.plot(secondary_y=['Amount'])\n",
    "ax.set_title(\"Electricity and Coal Trends 2003-2019\")\n",
    "ax.set_ylabel('Electricity Production Trend')\n",
    "ax.right_ax.set_ylabel('Coal Production Trend')\n",
    "ax.get_legend().remove()\n",
    "plt.show()"
   ]
  },
  {
   "cell_type": "markdown",
   "metadata": {},
   "source": [
    "Visually, the seasonality of both variables looks quite similar. The trend doesn't look very similar. We can measure the strength of seasonality $F_S$ and trend $F_T$ by using the following equations\n",
    "$$\n",
    "F_{S}=\\max \\left(0,1-\\frac{\\operatorname{Var}\\left(R_{t}\\right)}{\\operatorname{Var}\\left(S_{t}+R_{t}\\right)}\\right)\n",
    "$$\n",
    "\n",
    "And the strength of trend by using the equation:\n",
    "\n",
    "$$\n",
    "F_{T}=\\max \\left(0,1-\\frac{\\operatorname{Var}\\left(R_{t}\\right)}{\\operatorname{Var}\\left(T_{t}+R_{t}\\right)}\\right)\n",
    "$$\n",
    "\n",
    "If $F_s$ or $F_t$ is close to 0 it exhibits almost no seasonality or trend, whereas strong seasonality or trend will be close to 1. (Equations from [Forecasting: principles and practice](https://otexts.com/fpp2/seasonal-strength.html))"
   ]
  },
  {
   "cell_type": "code",
   "execution_count": null,
   "metadata": {},
   "outputs": [],
   "source": [
    "def strength(varname, t_or_s, Rt,seasonal=True):\n",
    "    \"\"\"\n",
    "    Returns the seasonality strength given the\n",
    "    Seasonality and Residuals\n",
    "    \"\"\"\n",
    "    strength = float(1-(Rt.var()/(t_or_s.var() + Rt.var())))\n",
    "    if strength < 0:\n",
    "        strength = 0\n",
    "    \n",
    "    if seasonal:  \n",
    "        print(\"Seasonality strength of\",varname,\"is\",round(strength,2))\n",
    "    else:\n",
    "        print(\"Trend strength of\",varname,\"is\",round(strength,2))"
   ]
  },
  {
   "cell_type": "code",
   "execution_count": null,
   "metadata": {},
   "outputs": [],
   "source": [
    "strength(\"coal\",coal_season, coal_resid)\n",
    "strength(\"electricity\",elec_season, elec_resid)\n",
    "strength(\"coal\",coal_trend, coal_resid,seasonal=False)\n",
    "strength(\"electricity\",elec_trend, elec_resid,seasonal=False)"
   ]
  },
  {
   "cell_type": "markdown",
   "metadata": {},
   "source": [
    "Both variable's seasonality are quite strong, and based on the graphs - are quite constant and correlated.\n",
    "Electricity has a strong trend to it as well.\n",
    "\n",
    "\n",
    "As the seasonality of both variables is strong, its best to adjust our data in order to reduce the amount of seasonality. We used additive decomposition, hence to get the seasonally adjusted data we simply have to reduce the data by the seasonal component as  $y_t - S_t$"
   ]
  },
  {
   "cell_type": "code",
   "execution_count": null,
   "metadata": {},
   "outputs": [],
   "source": [
    "def adjust_season(name, time_series, seasonality, plot_output=True):\n",
    "    adjusted = time_series - seasonality\n",
    "    if plot_output:\n",
    "        plt.plot(time_series, label=\"Initial\")\n",
    "        plt.title(\"Seasonally Adjusted Time Series for \"+name)\n",
    "        plt.plot(adjusted,color='black', label=\"Adjusted\")\n",
    "        plt.legend(loc='upper left')\n",
    "        plt.show()\n",
    "    return adjusted"
   ]
  },
  {
   "cell_type": "code",
   "execution_count": null,
   "metadata": {},
   "outputs": [],
   "source": [
    "coal_adj = adjust_season(\"coal\", coal, coal_season)\n",
    "elec_adj = adjust_season(\"electricity\", elec, elec_season)"
   ]
  },
  {
   "cell_type": "markdown",
   "metadata": {},
   "source": [
    "Now we can check for stationarity again:"
   ]
  },
  {
   "cell_type": "code",
   "execution_count": null,
   "metadata": {},
   "outputs": [],
   "source": [
    "is_stationary(coal_adj.iloc[:,0].values)\n",
    "is_stationary(elec_adj.iloc[:,0].values)"
   ]
  },
  {
   "cell_type": "markdown",
   "metadata": {},
   "source": [
    "The data is now stationary, thus we won't reduce it by the trend decompose. \n",
    "\n",
    "We can compare the correlation between coal and electricity to see if the majority of it was based on the seasonality:"
   ]
  },
  {
   "cell_type": "code",
   "execution_count": null,
   "metadata": {},
   "outputs": [],
   "source": [
    "print(\"Correlation coefficient between electricity and coal production is\",corr_coef(elec_adj.iloc[:,0].values,coal_adj.iloc[:,0].values))"
   ]
  },
  {
   "cell_type": "markdown",
   "metadata": {},
   "source": [
    "Thus, we can see that the previous value of 0.65 for our correlation was mainly due to the seasonality of the data and the relationship between electricity and coal is not as strong as initially thought.\n",
    "\n",
    "However, we can still explore their relationship further and gain value from using other statistical techniques.interact with one another.\n",
    "\n",
    "## 3. Creating Models\n",
    "Using different techniques to create models with the data"
   ]
  },
  {
   "cell_type": "code",
   "execution_count": null,
   "metadata": {},
   "outputs": [],
   "source": [
    "# Join the two and retitle them\n",
    "elec_and_coal_adj = coal_adj.join(elec_adj)\n",
    "if 'Amount' in elec_and_coal_adj:\n",
    "    elec_and_coal_adj.rename(columns={'Amount':'Coal','Giggawatt-Hours':'Electricity'},inplace=True)\n",
    "elec_and_coal_adj.head()"
   ]
  },
  {
   "cell_type": "code",
   "execution_count": 3,
   "metadata": {},
   "outputs": [
    {
     "ename": "NameError",
     "evalue": "name 'coal_adj' is not defined",
     "output_type": "error",
     "traceback": [
      "\u001b[0;31m--------------------------------------------------------------------------\u001b[0m",
      "\u001b[0;31mNameError\u001b[0m                                Traceback (most recent call last)",
      "\u001b[0;32m<ipython-input-3-1d063fa37e71>\u001b[0m in \u001b[0;36m<module>\u001b[0;34m\u001b[0m\n\u001b[0;32m----> 1\u001b[0;31m \u001b[0mx\u001b[0m \u001b[0;34m=\u001b[0m \u001b[0mcoal_adj\u001b[0m\u001b[0;34m\u001b[0m\u001b[0;34m\u001b[0m\u001b[0m\n\u001b[0m\u001b[1;32m      2\u001b[0m \u001b[0my\u001b[0m \u001b[0;34m=\u001b[0m \u001b[0melec_adj\u001b[0m\u001b[0;34m\u001b[0m\u001b[0;34m\u001b[0m\u001b[0m\n\u001b[1;32m      3\u001b[0m \u001b[0mx_train\u001b[0m\u001b[0;34m,\u001b[0m \u001b[0mx_test\u001b[0m\u001b[0;34m,\u001b[0m \u001b[0my_train\u001b[0m\u001b[0;34m,\u001b[0m \u001b[0my_test\u001b[0m \u001b[0;34m=\u001b[0m \u001b[0mtrain_test_split\u001b[0m\u001b[0;34m(\u001b[0m\u001b[0mx\u001b[0m\u001b[0;34m,\u001b[0m\u001b[0my\u001b[0m\u001b[0;34m,\u001b[0m\u001b[0mtest_size\u001b[0m\u001b[0;34m=\u001b[0m\u001b[0;36m0.3\u001b[0m\u001b[0;34m,\u001b[0m \u001b[0mrandom_state\u001b[0m\u001b[0;34m=\u001b[0m\u001b[0;36m101\u001b[0m\u001b[0;34m)\u001b[0m\u001b[0;34m\u001b[0m\u001b[0;34m\u001b[0m\u001b[0m\n\u001b[1;32m      4\u001b[0m \u001b[0;34m\u001b[0m\u001b[0m\n\u001b[1;32m      5\u001b[0m \u001b[0mmodel\u001b[0m \u001b[0;34m=\u001b[0m \u001b[0mLinearRegression\u001b[0m\u001b[0;34m(\u001b[0m\u001b[0;34m)\u001b[0m\u001b[0;34m\u001b[0m\u001b[0;34m\u001b[0m\u001b[0m\n",
      "\u001b[0;31mNameError\u001b[0m: name 'coal_adj' is not defined"
     ]
    }
   ],
   "source": [
    "x = coal_adj\n",
    "y = elec_adj\n",
    "x_train, x_test, y_train, y_test = train_test_split(x,y,test_size=0.3, random_state=101)\n",
    "\n",
    "model = LinearRegression()\n",
    "model.fit(x_train,y_train)\n",
    "params = np.append(model.intercept_, model.coef_)\n",
    "predicted = model.predict(x_test)\n",
    "plt.title(\"Linear Regression Model of Coal & Electricity\")\n",
    "plt.scatter(x_test, y_test,color='blue')\n",
    "plt.plot(x_test, predicted, color='black')\n",
    "plt.ylabel(\"Electricity Produced\")\n",
    "plt.xlabel(\"Coal Produced\")\n",
    "plt.show()\n",
    "\n",
    "print('Coefficient:',round(model.coef_[0][0],2))\n",
    "print(\"Intercept:\",round(model.intercept_[0]))\n",
    "print(\"Mean squared error: %.2f\"% mean_squared_error(y_test, predicted))\n",
    "print('Variance score: %.2f' % r2_score(y_test, predicted))"
   ]
  },
  {
   "cell_type": "code",
   "execution_count": 4,
   "metadata": {},
   "outputs": [],
   "source": [
    "def print_p_values(x_test, y_test, predicted, params):\n",
    "    \"\"\"\n",
    "    Calculates the p value, based on https://stackoverflow.com/a/42677750/9260653\n",
    "    \"\"\"\n",
    "    newX = np.append(np.ones((len(x_test),1)), x_test, axis=1)\n",
    "    MSE = (sum((y_test.values-predicted)**2))/(len(newX)-len(newX[0]))\n",
    "\n",
    "    var_b = MSE*(np.linalg.inv(np.dot(newX.T,newX)).diagonal())\n",
    "    sd_b = np.sqrt(var_b)\n",
    "    ts_b = params/ sd_b\n",
    "\n",
    "    p_values =[2*(1-stats.t.cdf(np.abs(i),(len(newX)-1))) for i in ts_b]\n",
    "\n",
    "    sd_b = np.round(sd_b,3)\n",
    "    ts_b = np.round(ts_b,3)\n",
    "    p_values = np.round(p_values,3)\n",
    "    params = np.round(params,4)\n",
    "\n",
    "    myDF3 = pd.DataFrame()\n",
    "    myDF3[\"Coefficients\"],myDF3[\"Standard Errors\"],myDF3[\"t values\"],myDF3[\"P-Values\"] = [params,sd_b,ts_b,p_values]\n",
    "    print(myDF3.iloc[1])"
   ]
  },
  {
   "cell_type": "code",
   "execution_count": null,
   "metadata": {},
   "outputs": [],
   "source": [
    "print_p_values(x_test,y_test,predicted,params)"
   ]
  },
  {
   "cell_type": "markdown",
   "metadata": {},
   "source": [
    "The estimated regression line is of the form:\n",
    "$$\n",
    "\\hat{y}_t = 13286 + 51.42x_t\n",
    "$$\n",
    "It has a positive slope, which indicates a positive relationship between the coal production and electricity production. The variance score indicates the explained variance, where [1 is perfect prediction](https://scikit-learn.org/stable/auto_examples/linear_model/plot_ols.html), hence 0.17 is quite a low variance indicating the model is not accurate.\n",
    "\n",
    "However, we have met the criteria for our alternative hypothesis as the coefficient does not equal zero, or $B_1 \\neq 0$ and we can see that the P-value is 0.001 - which means that it is a statistically significant result.\n",
    "\n",
    "To visualise how accurate the model is we can use the model's predictions and plot them alongside the the actual values:"
   ]
  },
  {
   "cell_type": "code",
   "execution_count": null,
   "metadata": {},
   "outputs": [],
   "source": [
    "# Predict the values\n",
    "pred = model.predict(coal_adj)\n",
    "plt.plot(elec_adj, label=\"Target\")\n",
    "plt.title(\"Electricity production 2003-2019\")\n",
    "plt.plot(elec_adj.index,pred,color='black', label=\"Predicted\")\n",
    "plt.legend(loc='upper left')\n",
    "plt.ylabel(\"Electricity Produced\")\n",
    "plt.xlabel(\"Year\")\n",
    "plt.show()"
   ]
  },
  {
   "cell_type": "markdown",
   "metadata": {},
   "source": [
    "As displayed - our model is not very effective. We can attempt to optimise it. The data used to train the model was 70% of the data, which may not be necessary, the model may benefit from using batches of the period. We can predict a point based on the past few months coal production, and do that for every month:"
   ]
  },
  {
   "cell_type": "code",
   "execution_count": null,
   "metadata": {},
   "outputs": [],
   "source": [
    "def predictions_from_period(period=12,y=coal_adj, x=elec_adj, plot=True, cumulative=False):\n",
    "    \"\"\"\n",
    "    Predicts each y val, based on the past period_length x vals\n",
    "    cumulative: predict the y vals including all previous x vals\n",
    "    \"\"\"\n",
    "    assert(len(x)==len(y))\n",
    "    observations = len(x)\n",
    "    preds = []\n",
    "    dates = []\n",
    "    coefficients = []\n",
    "    model = LinearRegression()\n",
    "    for i in range(period,observations-1,):\n",
    "        if cumulative:\n",
    "            # Includes all the previous values up until i\n",
    "            x_train = x.iloc[:i]\n",
    "            y_train = y.iloc[:i]\n",
    "        else:\n",
    "            # Only include current period values\n",
    "            x_train = x.iloc[i-period:i]\n",
    "            y_train = y.iloc[i-period:i]\n",
    "            x_test = np.array(x.iloc[i]).reshape(-1,1)\n",
    "            y_test = y.iloc[i]\n",
    "            model.fit(x_train,y_train)\n",
    "            prediction = model.predict(x_test)\n",
    "            coefficients.append(float(model.coef_[0][0]))\n",
    "            dates.append(y.index[i])\n",
    "            preds.append(prediction[0][0])\n",
    "    y_true = y.iloc[period+1:]\n",
    "    if plot:\n",
    "        plt.plot(y_true, label=\"Target\")\n",
    "        plt.title(\"Predictions based on \"+str(period)+\" months of data\")\n",
    "        plt.plot(dates,preds,color='black', label=\"Predicted\")\n",
    "        plt.legend(loc='upper left')\n",
    "        plt.show()\n",
    "    return coefficients, mean_absolute_error(y_true, preds), mean_squared_error(y_true, preds), r2_score(y_true,preds)"
   ]
  },
  {
   "cell_type": "code",
   "execution_count": null,
   "metadata": {},
   "outputs": [],
   "source": [
    "max_r = 0\n",
    "max_i = 0\n",
    "for i in range(3,13):\n",
    "    coeff, mae, mse, r2 = predictions_from_period(period=i, x=coal_adj, y=elec_adj,plot=False)\n",
    "    if r2 > max_r:\n",
    "        max_r = r2\n",
    "        max_i = i\n",
    "coeff, mae, mse, r2 = predictions_from_period(period=max_i, x=coal_adj, y=elec_adj,plot=True)\n",
    "print(\"Mean Absolute Error:\", round(mae,2), \"Mean Squared Error:\",round(mse,2),\"Variance Score:\",round(r2,2), \"RMSE\",round(np.sqrt(mse),2))"
   ]
  },
  {
   "cell_type": "markdown",
   "metadata": {},
   "source": [
    "This goes through each period length from 3 months till 12 months, and checks the accuracy of using coal values for a period to predict the electricity values. It achieves a better variance score of 0.30 compared to our previous method which achieved 0.17 - but it is still not very accurate.\n",
    "\n",
    "We can visualise the coefficients, and see if any of them were zero and better understand the change in slope:"
   ]
  },
  {
   "cell_type": "code",
   "execution_count": null,
   "metadata": {},
   "outputs": [],
   "source": [
    "coeff = np.array(coeff)\n",
    "zeroes = coeff[coeff == 0]\n",
    "print(\"There are\",len(zeroes),\"zero value coefficients\")\n",
    "plt.plot(elec_adj.index[10:],coeff)\n",
    "plt.ylabel(\"Regression Coefficients\")\n",
    "plt.xlabel(\"Years\")\n",
    "plt.show()"
   ]
  },
  {
   "cell_type": "markdown",
   "metadata": {},
   "source": [
    "Seeing as there were no coefficients of zero, our alternative hypothesis has been reinforced."
   ]
  },
  {
   "cell_type": "markdown",
   "metadata": {},
   "source": [
    "## 4. Conclusion\n",
    "This notebook aimed to find out whether there was a significant relationship between the coal production and electricity production in South Africa. The criteria for our alternative hypothesis was met with linear regression - indicating that there is a significant relationship between the two. However, the correlation coefficients from both datasets indicate that there may be other factors playing a role, hence, adding variables and exploring multi-variate techniques may lead to better results."
   ]
  }
 ],
 "metadata": {
  "hide_input": false,
  "kernelspec": {
   "display_name": "Python 3",
   "language": "python",
   "name": "python3"
  },
  "language_info": {
   "codemirror_mode": {
    "name": "ipython",
    "version": 3
   },
   "file_extension": ".py",
   "mimetype": "text/x-python",
   "name": "python",
   "nbconvert_exporter": "python",
   "pygments_lexer": "ipython3",
   "version": "3.8.8"
  },
  "toc": {
   "base_numbering": 1,
   "nav_menu": {},
   "number_sections": false,
   "sideBar": true,
   "skip_h1_title": true,
   "title_cell": "Table of Contents",
   "title_sidebar": "Contents",
   "toc_cell": true,
   "toc_position": {},
   "toc_section_display": true,
   "toc_window_display": false
  }
 },
 "nbformat": 4,
 "nbformat_minor": 2
}
