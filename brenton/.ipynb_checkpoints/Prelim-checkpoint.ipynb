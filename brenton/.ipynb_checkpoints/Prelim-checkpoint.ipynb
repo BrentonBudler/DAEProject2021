{
 "cells": [
  {
   "cell_type": "code",
   "execution_count": 1,
   "metadata": {},
   "outputs": [],
   "source": [
    "import numpy as np \n",
    "import pandas as pd \n",
    "import matplotlib.pyplot as plt \n",
    "import seaborn as sns"
   ]
  },
  {
   "cell_type": "markdown",
   "metadata": {},
   "source": [
    "# Preliminary Exploration"
   ]
  },
  {
   "cell_type": "code",
   "execution_count": 186,
   "metadata": {},
   "outputs": [],
   "source": [
    "df = pd.read_csv('sese-2017-v1.csv',encoding='cp1252', index_col=0)"
   ]
  },
  {
   "cell_type": "code",
   "execution_count": 187,
   "metadata": {},
   "outputs": [],
   "source": [
    "df = df[df['Q29Turnover12Mnth']>=0]"
   ]
  },
  {
   "cell_type": "code",
   "execution_count": 188,
   "metadata": {},
   "outputs": [],
   "source": [
    "rdf = pd.DataFrame()"
   ]
  },
  {
   "cell_type": "code",
   "execution_count": 189,
   "metadata": {},
   "outputs": [],
   "source": [
    "rdf['Turn Over'] = df['Q29Turnover12Mnth']"
   ]
  },
  {
   "cell_type": "code",
   "execution_count": 190,
   "metadata": {},
   "outputs": [],
   "source": [
    "rdf['Age'] = df['Q31BusStarted']"
   ]
  },
  {
   "cell_type": "code",
   "execution_count": 191,
   "metadata": {},
   "outputs": [],
   "source": [
    "age_map = {'Less than a year ago':0,\n",
    "           '1 or more but less than 3 years ago':1,\n",
    "          '3 or more but less than 5 years ago': 2, \n",
    "          '5 or more but less than 10 years ago':3,\n",
    "          '10 or more years ago':4,\n",
    "          '':1}"
   ]
  },
  {
   "cell_type": "code",
   "execution_count": 192,
   "metadata": {},
   "outputs": [],
   "source": [
    "rdf['Age'] = rdf['Age'].map(age_map)"
   ]
  },
  {
   "cell_type": "code",
   "execution_count": 193,
   "metadata": {},
   "outputs": [],
   "source": [
    "rdf['Own Investment'] = pd.to_numeric(df['Q36Totownmoney'])"
   ]
  },
  {
   "cell_type": "code",
   "execution_count": 194,
   "metadata": {},
   "outputs": [],
   "source": [
    "rdf['Own Investment'] = rdf['Own Investment'].fillna(0)"
   ]
  },
  {
   "cell_type": "code",
   "execution_count": 195,
   "metadata": {},
   "outputs": [],
   "source": [
    "rdf['Borrowed Money'] = pd.to_numeric(df['Q39Totbormoney']).fillna(0)"
   ]
  },
  {
   "cell_type": "code",
   "execution_count": 196,
   "metadata": {},
   "outputs": [],
   "source": [
    "rdf['Raw Mat'] = pd.to_numeric(df['Q45Costrawmat']).fillna(0)"
   ]
  },
  {
   "cell_type": "code",
   "execution_count": 197,
   "metadata": {},
   "outputs": [],
   "source": [
    "rdf['Stock'] = pd.to_numeric(df['Q47Costsupp']).fillna(0)"
   ]
  },
  {
   "cell_type": "code",
   "execution_count": 198,
   "metadata": {},
   "outputs": [],
   "source": [
    "rdf['Last Month'] = pd.to_numeric(df['Q48Turnoverlstmnth']).fillna(0)"
   ]
  },
  {
   "cell_type": "code",
   "execution_count": 199,
   "metadata": {},
   "outputs": [],
   "source": [
    "rdf['Employee Cost'] = (pd.to_numeric(df['Q591Empl_Salary']) + pd.to_numeric(df['Q592Empl_Inkind']) + pd.to_numeric(df['Q593Empl_Transprt'])\n",
    "+ pd.to_numeric(df['Q594Empl_Other']))"
   ]
  },
  {
   "cell_type": "code",
   "execution_count": 200,
   "metadata": {},
   "outputs": [],
   "source": [
    "rdf['Employee Cost'] = rdf['Employee Cost'].fillna(0)"
   ]
  },
  {
   "cell_type": "code",
   "execution_count": 201,
   "metadata": {},
   "outputs": [],
   "source": [
    "rdf['Own Sal'] = (pd.to_numeric(df['Q601Own_Salary']) + pd.to_numeric(df['Q602Own_Inkind']) + pd.to_numeric(df['Q603Own_Transprt'])\n",
    "+ pd.to_numeric(df['Q604Own_Other']))"
   ]
  },
  {
   "cell_type": "code",
   "execution_count": 202,
   "metadata": {},
   "outputs": [],
   "source": [
    "rdf['Costs'] = (pd.to_numeric(df['Q621cstmachinery']) + pd.to_numeric(df['Q622CstTools']) + pd.to_numeric(df['Q623cstvehicles'])\n",
    "+ pd.to_numeric(df['Q624cstbuildings']) + pd.to_numeric(df['Q625cstFurniture']) + pd.to_numeric(df['Q626cstother']))"
   ]
  },
  {
   "cell_type": "code",
   "execution_count": 203,
   "metadata": {},
   "outputs": [],
   "source": [
    "rdf['Net Profit Monthly'] = pd.to_numeric(df['Q64Avenetprofit'])"
   ]
  },
  {
   "cell_type": "code",
   "execution_count": 204,
   "metadata": {},
   "outputs": [],
   "source": [
    "rdf['Debt'] = pd.to_numeric(df['Q67Totaldebt']).fillna(0)"
   ]
  },
  {
   "cell_type": "code",
   "execution_count": 205,
   "metadata": {
    "scrolled": true
   },
   "outputs": [
    {
     "data": {
      "text/plain": [
       "Uqno\n",
       "165101480000011401    1.0\n",
       "166102850000001101    1.0\n",
       "168100990000001501    4.0\n",
       "169100760000002001    1.0\n",
       "171100050000014001    1.0\n",
       "                     ... \n",
       "987102470000013001    3.0\n",
       "987102590180000901    1.0\n",
       "987103540000015701    4.0\n",
       "987103540000017701    4.0\n",
       "987105070000016101    1.0\n",
       "Name: Age, Length: 1098, dtype: float64"
      ]
     },
     "execution_count": 205,
     "metadata": {},
     "output_type": "execute_result"
    }
   ],
   "source": [
    "rdf['Age'].fillna(1)"
   ]
  },
  {
   "cell_type": "code",
   "execution_count": 208,
   "metadata": {},
   "outputs": [],
   "source": [
    "rdf = rdf.dropna()"
   ]
  },
  {
   "cell_type": "markdown",
   "metadata": {},
   "source": [
    "# Model just out of interest sake"
   ]
  },
  {
   "cell_type": "code",
   "execution_count": 209,
   "metadata": {},
   "outputs": [],
   "source": [
    "from sklearn.model_selection import train_test_split"
   ]
  },
  {
   "cell_type": "code",
   "execution_count": 210,
   "metadata": {},
   "outputs": [],
   "source": [
    "X = rdf.drop('Turn Over',axis=1)\n",
    "y = rdf['Turn Over']\n",
    "\n",
    "X_train, X_test, y_train, y_test = train_test_split(X, y, test_size=0.25, random_state=42)"
   ]
  },
  {
   "cell_type": "code",
   "execution_count": 211,
   "metadata": {},
   "outputs": [],
   "source": [
    "from sklearn.linear_model import LinearRegression"
   ]
  },
  {
   "cell_type": "code",
   "execution_count": 212,
   "metadata": {},
   "outputs": [],
   "source": [
    "linear_model = LinearRegression()"
   ]
  },
  {
   "cell_type": "code",
   "execution_count": 213,
   "metadata": {},
   "outputs": [
    {
     "data": {
      "text/plain": [
       "LinearRegression()"
      ]
     },
     "execution_count": 213,
     "metadata": {},
     "output_type": "execute_result"
    }
   ],
   "source": [
    "linear_model.fit(X_train,y_train)"
   ]
  },
  {
   "cell_type": "code",
   "execution_count": 217,
   "metadata": {},
   "outputs": [],
   "source": [
    "y_pred = linear_model.predict(X_test)"
   ]
  },
  {
   "cell_type": "code",
   "execution_count": 218,
   "metadata": {},
   "outputs": [],
   "source": [
    "res = pd.DataFrame()"
   ]
  },
  {
   "cell_type": "code",
   "execution_count": 219,
   "metadata": {},
   "outputs": [],
   "source": [
    "res['y test']= y_test"
   ]
  },
  {
   "cell_type": "code",
   "execution_count": 220,
   "metadata": {},
   "outputs": [],
   "source": [
    "res['y pred'] = y_pred"
   ]
  },
  {
   "cell_type": "code",
   "execution_count": 226,
   "metadata": {},
   "outputs": [],
   "source": [
    "res['diff'] = (res['y test'] - res['y pred'])/res['y test']"
   ]
  },
  {
   "cell_type": "code",
   "execution_count": 241,
   "metadata": {},
   "outputs": [
    {
     "data": {
      "text/html": [
       "<div>\n",
       "<style scoped>\n",
       "    .dataframe tbody tr th:only-of-type {\n",
       "        vertical-align: middle;\n",
       "    }\n",
       "\n",
       "    .dataframe tbody tr th {\n",
       "        vertical-align: top;\n",
       "    }\n",
       "\n",
       "    .dataframe thead th {\n",
       "        text-align: right;\n",
       "    }\n",
       "</style>\n",
       "<table border=\"1\" class=\"dataframe\">\n",
       "  <thead>\n",
       "    <tr style=\"text-align: right;\">\n",
       "      <th></th>\n",
       "      <th>y test</th>\n",
       "      <th>y pred</th>\n",
       "      <th>diff</th>\n",
       "    </tr>\n",
       "    <tr>\n",
       "      <th>Uqno</th>\n",
       "      <th></th>\n",
       "      <th></th>\n",
       "      <th></th>\n",
       "    </tr>\n",
       "  </thead>\n",
       "  <tbody>\n",
       "    <tr>\n",
       "      <th>760106800100000101</th>\n",
       "      <td>13500.0</td>\n",
       "      <td>22744.009081</td>\n",
       "      <td>-0.684741</td>\n",
       "    </tr>\n",
       "    <tr>\n",
       "      <th>294107020000006901</th>\n",
       "      <td>1200.0</td>\n",
       "      <td>16939.613214</td>\n",
       "      <td>-13.116344</td>\n",
       "    </tr>\n",
       "    <tr>\n",
       "      <th>271102830000012801</th>\n",
       "      <td>2400.0</td>\n",
       "      <td>21090.867640</td>\n",
       "      <td>-7.787862</td>\n",
       "    </tr>\n",
       "    <tr>\n",
       "      <th>967100440000008101</th>\n",
       "      <td>26400.0</td>\n",
       "      <td>26707.748076</td>\n",
       "      <td>-0.011657</td>\n",
       "    </tr>\n",
       "    <tr>\n",
       "      <th>864101160000003901</th>\n",
       "      <td>3000.0</td>\n",
       "      <td>19474.023685</td>\n",
       "      <td>-5.491341</td>\n",
       "    </tr>\n",
       "    <tr>\n",
       "      <th>976102680000020501</th>\n",
       "      <td>1000.0</td>\n",
       "      <td>21584.979573</td>\n",
       "      <td>-20.584980</td>\n",
       "    </tr>\n",
       "    <tr>\n",
       "      <th>506103240000016401</th>\n",
       "      <td>60000.0</td>\n",
       "      <td>21796.536860</td>\n",
       "      <td>0.636724</td>\n",
       "    </tr>\n",
       "    <tr>\n",
       "      <th>664102410000003701</th>\n",
       "      <td>20000.0</td>\n",
       "      <td>41193.412757</td>\n",
       "      <td>-1.059671</td>\n",
       "    </tr>\n",
       "    <tr>\n",
       "      <th>987102470000006401</th>\n",
       "      <td>600.0</td>\n",
       "      <td>16448.108705</td>\n",
       "      <td>-26.413515</td>\n",
       "    </tr>\n",
       "    <tr>\n",
       "      <th>860101810000015201</th>\n",
       "      <td>144000.0</td>\n",
       "      <td>70292.855319</td>\n",
       "      <td>0.511855</td>\n",
       "    </tr>\n",
       "    <tr>\n",
       "      <th>966106060000004901</th>\n",
       "      <td>12000.0</td>\n",
       "      <td>44328.921734</td>\n",
       "      <td>-2.694077</td>\n",
       "    </tr>\n",
       "    <tr>\n",
       "      <th>799127500000001601</th>\n",
       "      <td>4000.0</td>\n",
       "      <td>24061.828459</td>\n",
       "      <td>-5.015457</td>\n",
       "    </tr>\n",
       "    <tr>\n",
       "      <th>877107640000008601</th>\n",
       "      <td>8000.0</td>\n",
       "      <td>20924.789486</td>\n",
       "      <td>-1.615599</td>\n",
       "    </tr>\n",
       "    <tr>\n",
       "      <th>798125620000025301</th>\n",
       "      <td>74400.0</td>\n",
       "      <td>45571.665928</td>\n",
       "      <td>0.387478</td>\n",
       "    </tr>\n",
       "    <tr>\n",
       "      <th>798109480000017401</th>\n",
       "      <td>15000.0</td>\n",
       "      <td>65058.573049</td>\n",
       "      <td>-3.337238</td>\n",
       "    </tr>\n",
       "    <tr>\n",
       "      <th>966107930000010801</th>\n",
       "      <td>30000.0</td>\n",
       "      <td>39615.145928</td>\n",
       "      <td>-0.320505</td>\n",
       "    </tr>\n",
       "    <tr>\n",
       "      <th>662101370040004901</th>\n",
       "      <td>6000.0</td>\n",
       "      <td>19536.909848</td>\n",
       "      <td>-2.256152</td>\n",
       "    </tr>\n",
       "    <tr>\n",
       "      <th>797111630000005301</th>\n",
       "      <td>132000.0</td>\n",
       "      <td>76082.658034</td>\n",
       "      <td>0.423616</td>\n",
       "    </tr>\n",
       "    <tr>\n",
       "      <th>872102930000000701</th>\n",
       "      <td>8400.0</td>\n",
       "      <td>19593.428574</td>\n",
       "      <td>-1.332551</td>\n",
       "    </tr>\n",
       "    <tr>\n",
       "      <th>871100400000021101</th>\n",
       "      <td>1500.0</td>\n",
       "      <td>18112.493070</td>\n",
       "      <td>-11.074995</td>\n",
       "    </tr>\n",
       "  </tbody>\n",
       "</table>\n",
       "</div>"
      ],
      "text/plain": [
       "                      y test        y pred       diff\n",
       "Uqno                                                 \n",
       "760106800100000101   13500.0  22744.009081  -0.684741\n",
       "294107020000006901    1200.0  16939.613214 -13.116344\n",
       "271102830000012801    2400.0  21090.867640  -7.787862\n",
       "967100440000008101   26400.0  26707.748076  -0.011657\n",
       "864101160000003901    3000.0  19474.023685  -5.491341\n",
       "976102680000020501    1000.0  21584.979573 -20.584980\n",
       "506103240000016401   60000.0  21796.536860   0.636724\n",
       "664102410000003701   20000.0  41193.412757  -1.059671\n",
       "987102470000006401     600.0  16448.108705 -26.413515\n",
       "860101810000015201  144000.0  70292.855319   0.511855\n",
       "966106060000004901   12000.0  44328.921734  -2.694077\n",
       "799127500000001601    4000.0  24061.828459  -5.015457\n",
       "877107640000008601    8000.0  20924.789486  -1.615599\n",
       "798125620000025301   74400.0  45571.665928   0.387478\n",
       "798109480000017401   15000.0  65058.573049  -3.337238\n",
       "966107930000010801   30000.0  39615.145928  -0.320505\n",
       "662101370040004901    6000.0  19536.909848  -2.256152\n",
       "797111630000005301  132000.0  76082.658034   0.423616\n",
       "872102930000000701    8400.0  19593.428574  -1.332551\n",
       "871100400000021101    1500.0  18112.493070 -11.074995"
      ]
     },
     "execution_count": 241,
     "metadata": {},
     "output_type": "execute_result"
    }
   ],
   "source": [
    "res.head(20)"
   ]
  },
  {
   "cell_type": "code",
   "execution_count": null,
   "metadata": {},
   "outputs": [],
   "source": []
  }
 ],
 "metadata": {
  "kernelspec": {
   "display_name": "Python 3",
   "language": "python",
   "name": "python3"
  },
  "language_info": {
   "codemirror_mode": {
    "name": "ipython",
    "version": 3
   },
   "file_extension": ".py",
   "mimetype": "text/x-python",
   "name": "python",
   "nbconvert_exporter": "python",
   "pygments_lexer": "ipython3",
   "version": "3.8.5"
  }
 },
 "nbformat": 4,
 "nbformat_minor": 4
}
