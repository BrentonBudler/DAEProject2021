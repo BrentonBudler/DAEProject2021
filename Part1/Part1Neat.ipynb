{
 "cells": [
  {
   "cell_type": "markdown",
   "metadata": {},
   "source": [
    "<h1> \n",
    "    NIDS-CRAM 2020 Wave 1<br>\n",
    "    National Income Dynamics Study-Coronavirus Rapid Mobile Survey<br><br>\n",
    "    The effect of COVID-19 on the labour and welfare of South Africans</h1>"
   ]
  },
  {
   "cell_type": "markdown",
   "metadata": {
    "toc": true
   },
   "source": [
    "<h1>Table of Contents<span class=\"tocSkip\"></span></h1>\n",
    "<div class=\"toc\"><ul class=\"toc-item\"><li><span><a href=\"#Executive-Summary\" data-toc-modified-id=\"Executive-Summary-1\">Executive Summary</a></span><ul class=\"toc-item\"><li><span><a href=\"#What-is-the-purpose-of-this-notebook?\" data-toc-modified-id=\"What-is-the-purpose-of-this-notebook?-1.1\">What is the purpose of this notebook?</a></span></li><li><span><a href=\"#What-is-being-modelled?\" data-toc-modified-id=\"What-is-being-modelled?-1.2\">What is being modelled?</a></span></li><li><span><a href=\"#What-are-the-main-results\" data-toc-modified-id=\"What-are-the-main-results-1.3\">What are the main results</a></span></li><li><span><a href=\"#Limitations\" data-toc-modified-id=\"Limitations-1.4\">Limitations</a></span></li></ul></li><li><span><a href=\"#Introduction\" data-toc-modified-id=\"Introduction-2\">Introduction</a></span><ul class=\"toc-item\"><li><span><a href=\"#Problem-Context-and-Motivation\" data-toc-modified-id=\"Problem-Context-and-Motivation-2.1\">Problem Context and Motivation</a></span></li><li><span><a href=\"#Describe-Questions\" data-toc-modified-id=\"Describe-Questions-2.2\">Describe Questions</a></span></li><li><span><a href=\"#Overview-of-Methodology\" data-toc-modified-id=\"Overview-of-Methodology-2.3\">Overview of Methodology</a></span></li><li><span><a href=\"#Setion-Contents-Overview\" data-toc-modified-id=\"Setion-Contents-Overview-2.4\">Setion Contents Overview</a></span></li></ul></li><li><span><a href=\"#Data-Description\" data-toc-modified-id=\"Data-Description-3\">Data Description</a></span><ul class=\"toc-item\"><li><span><a href=\"#Origin\" data-toc-modified-id=\"Origin-3.1\">Origin</a></span></li><li><span><a href=\"#Contents-(Who,-What,-Where)\" data-toc-modified-id=\"Contents-(Who,-What,-Where)-3.2\">Contents (Who, What, Where)</a></span></li><li><span><a href=\"#Date-Collected-(When)\" data-toc-modified-id=\"Date-Collected-(When)-3.3\">Date Collected (When)</a></span></li><li><span><a href=\"#Collection-Method-(How)\" data-toc-modified-id=\"Collection-Method-(How)-3.4\">Collection Method (How)</a></span></li><li><span><a href=\"#Dataset-Size-(Rows-and-Columns)\" data-toc-modified-id=\"Dataset-Size-(Rows-and-Columns)-3.5\">Dataset Size (Rows and Columns)</a></span></li><li><span><a href=\"#Date-Downloaded\" data-toc-modified-id=\"Date-Downloaded-3.6\">Date Downloaded</a></span></li><li><span><a href=\"#Validations\" data-toc-modified-id=\"Validations-3.7\">Validations</a></span></li><li><span><a href=\"#Aspects-of-Data-Quality\" data-toc-modified-id=\"Aspects-of-Data-Quality-3.8\">Aspects of Data Quality</a></span></li><li><span><a href=\"#Ability-to-Answer-Question\" data-toc-modified-id=\"Ability-to-Answer-Question-3.9\">Ability to Answer Question</a></span></li></ul></li><li><span><a href=\"#Data-Wrangling-&amp;-Exploratory-Analyses\" data-toc-modified-id=\"Data-Wrangling-&amp;-Exploratory-Analyses-4\">Data Wrangling &amp; Exploratory Analyses</a></span><ul class=\"toc-item\"><li><span><a href=\"#Imports\" data-toc-modified-id=\"Imports-4.1\">Imports</a></span></li><li><span><a href=\"#Functions\" data-toc-modified-id=\"Functions-4.2\">Functions</a></span></li><li><span><a href=\"#Read-in-data\" data-toc-modified-id=\"Read-in-data-4.3\">Read in data</a></span></li></ul></li><li><span><a href=\"#Section-1---Demographics\" data-toc-modified-id=\"Section-1---Demographics-5\">Section 1 - Demographics</a></span></li><li><span><a href=\"#Section-2---Labour\" data-toc-modified-id=\"Section-2---Labour-6\">Section 2 - Labour</a></span></li><li><span><a href=\"#Section-3---Welfare\" data-toc-modified-id=\"Section-3---Welfare-7\">Section 3 - Welfare</a></span></li></ul></div>"
   ]
  },
  {
   "cell_type": "markdown",
   "metadata": {},
   "source": [
    "## Executive Summary"
   ]
  },
  {
   "cell_type": "markdown",
   "metadata": {},
   "source": [
    "### What is the purpose of this notebook?\n",
    "- To perform EDA on the NIDS-CRAM Wave 1 dataset"
   ]
  },
  {
   "cell_type": "markdown",
   "metadata": {},
   "source": [
    "### What is being modelled?\n",
    "- The job security of people working in different occupations"
   ]
  },
  {
   "cell_type": "markdown",
   "metadata": {},
   "source": [
    "### What are the main results"
   ]
  },
  {
   "cell_type": "markdown",
   "metadata": {},
   "source": [
    "### Limitations"
   ]
  },
  {
   "cell_type": "markdown",
   "metadata": {},
   "source": [
    "## Introduction"
   ]
  },
  {
   "cell_type": "markdown",
   "metadata": {},
   "source": [
    "### Problem Context and Motivation"
   ]
  },
  {
   "cell_type": "markdown",
   "metadata": {},
   "source": [
    "### Describe Questions"
   ]
  },
  {
   "cell_type": "markdown",
   "metadata": {},
   "source": [
    "### Overview of Methodology"
   ]
  },
  {
   "cell_type": "markdown",
   "metadata": {},
   "source": [
    "### Setion Contents Overview"
   ]
  },
  {
   "cell_type": "markdown",
   "metadata": {},
   "source": [
    "## Data Description\n",
    "The coronavirus pandemic is the largest social and economic shock in our lifetime. The rapid spread\n",
    "of this virus around the world and the economic devastation it has left in its wake is unlike anything\n",
    "we have seen before, at least not in our lifetimes. The local and international landscape is constantly\n",
    "morphing and changing in unpredictable ways making policy formulation and implementation as\n",
    "hard as it can possibly be. Policies that are helpful and sensible today may be harmful and illogical\n",
    "tomorrow. Every month seems to yield new information and consequences that were unforeseen\n",
    "even six weeks before. Indeed, “There are decades where nothing happens, and there are weeks\n",
    "where decades happen” (Lenin).\n",
    "\n",
    "It is within this context that we have convened a national consortium of 30 social science researchers\n",
    "from five South African universities to conduct the National Income Dynamics Study (NIDS)\n",
    "Coronavirus Rapid Mobile Survey (CRAM) over the course of May – December 2020. Because\n",
    "decision-making is only as good as the data on which it is based, the NIDS-CRAM project exists\n",
    "to collect, analyze and disseminate data on a broadly representative sample of South African\n",
    "individuals, and to report on their employment and welfare in light of the COVID-19 pandemic.\n",
    "\n",
    "Given that all in-person data-collection activities have ceased, the decision was made to conduct a\n",
    "telephonic follow-up survey of a pre-existing nationally representative household panel survey; the\n",
    "National Income Dynamics Study (NIDS). With the permission of the South African Presidency and\n",
    "after ethical clearance, the NIDS-CRAM research team was granted access to the sampling frame\n",
    "and telephone numbers of all individuals surveyed in NIDS 2017. The first wave of NIDS-CRAM ran\n",
    "from the 7th of May to the 27th of June and used 50 call-center agents to survey a representative\n",
    "sub-sample of 7,000 respondents from NIDS 2017. Among many other topics, the 20-minute survey\n",
    "asked respondents about their current and retrospective employment, household hunger, receipt\n",
    "of grants, COVID-19 risk perceptions, knowledge and behavior, among many other questions. This\n",
    "synthesis report presents the key findings from the 11 papers summarized into three main sections:\n",
    "employment, hunger, and health.\n",
    "\n",
    "During the course of 2020 there will be at least four further waves of data collection following the\n",
    "same individuals (a panel study). In that way the NIDS-CRAM study can be seen as a type of\n",
    "‘barometer’, assessing how firms and families are being affected by the lockdown, the pandemic\n",
    "and the recession, but also reporting on the reach and efficacy of government’s social and economic\n",
    "relief efforts in the coming months. For further information on the conduct of the study please see\n",
    "Section 5 of this report as well as the following three technical documents: (1) the questionnaire\n",
    "(Spaull et al., 2020), (2) the Sampling and Weighting Report (Kerr, Ardington & Burger, 2020) and\n",
    "(3) the Panel User Manual (Ingle, Brophy and Daniels, 2020). The NIDS-CRAM Wave 1 data is freely\n",
    "available for download and use on the Data First Open Data Portal (NIDS-CRAM, 2020).\n",
    "\n",
    "The Wave 1 employment questions ask respondents about the period February to April 2020, while\n",
    "many of the welfare questions (such as the presence and extent of hunger) reflect on the month of\n",
    "April as well as the ‘last seven days’. The month of April was an especially hard time in South Africa\n",
    "as the country was experiencing its most severe form of lockdown. Many South Africans income\n",
    "and employment was severely affected, and government relief efforts began in earnest in May (with\n",
    "the top up to existing government grants) and in June (with the progressive roll-out of the Special\n",
    "COVID-19 Social Relief of Distress Grant. We believe that the results of the NIDS-CRAM Wave 1\n",
    "study included here are a helpful baseline from which to compare changes over time, and hopefully shed light on who is being affected, how they are being affected, and how might government and\n",
    "civil society respond to this unfolding crisis.\n",
    "The aim of this synthesis report is to present an overview of the high-level findings from the NIDSCRAM Working Paper Series which is made up of 11 papers. All of these papers use the NIDSCRAM Wave 1 data as their primary source and report on various aspects related to employment,\n",
    "poverty, hunger, grants, migration and adherence to COVID-19 prevention strategies. All papers\n",
    "have undergone peer-review. The papers and the data on which they are based are all freely\n",
    "available for anyone to download and use. "
   ]
  },
  {
   "cell_type": "markdown",
   "metadata": {},
   "source": [
    "### Origin"
   ]
  },
  {
   "cell_type": "markdown",
   "metadata": {},
   "source": [
    "### Contents (Who, What, Where)"
   ]
  },
  {
   "cell_type": "markdown",
   "metadata": {},
   "source": [
    "### Date Collected (When)\n"
   ]
  },
  {
   "cell_type": "markdown",
   "metadata": {},
   "source": [
    "### Collection Method (How)\n",
    "- Telephonically"
   ]
  },
  {
   "cell_type": "markdown",
   "metadata": {},
   "source": [
    "### Dataset Size (Rows and Columns)\n",
    "The dataset consists of 7073 records (rows), which each represent an individuals reponses to the survey.\n",
    "\n",
    "The dataset contains 170 variables (columns)"
   ]
  },
  {
   "cell_type": "markdown",
   "metadata": {},
   "source": [
    "### Date Downloaded\n",
    "This data was downloaded from https://www.datafirst.uct.ac.za/dataportal/index.php/catalog/817 on the 5th of March 2021."
   ]
  },
  {
   "cell_type": "markdown",
   "metadata": {},
   "source": [
    "### Validations"
   ]
  },
  {
   "cell_type": "markdown",
   "metadata": {},
   "source": [
    "### Aspects of Data Quality\n",
    "- Validity: Does the data conform to a standard format?\n",
    "- Accuracy: Does the data agree with reality or with a trusted external source?\n",
    "- Completeness: Are all records present?\n",
    "- Consistency: Is data in a field (down a column) or for an instance (across a row) in logical agreement?\n",
    "- Uniformity: Are the same units used across a given field?"
   ]
  },
  {
   "cell_type": "markdown",
   "metadata": {},
   "source": [
    "### Ability to Answer Question"
   ]
  },
  {
   "cell_type": "markdown",
   "metadata": {},
   "source": [
    "## Data Wrangling & Exploratory Analyses"
   ]
  },
  {
   "cell_type": "markdown",
   "metadata": {},
   "source": [
    "WRANGLING\n",
    "\n",
    "\n",
    "Tidyness of Data (4)\n",
    "\n",
    "Techniques: Joins, removing duplicates, cleaning variables, changing types, aggregations (4)\n",
    "\n",
    "Sense checks after cleaning (raw vs cleaned) (2)\n",
    "\n",
    "EXPLORATORY ANALYSIS \n",
    "\n",
    "Choice of Initial Visualisations and Statistics (3)\n",
    "\n",
    "Appropriate Measures (2)\n",
    "\n",
    "Relevance to Questions (3)\n",
    "\n",
    "Consideration of Accuracy (2)"
   ]
  },
  {
   "cell_type": "markdown",
   "metadata": {},
   "source": [
    "### Imports"
   ]
  },
  {
   "cell_type": "code",
   "execution_count": 62,
   "metadata": {},
   "outputs": [],
   "source": [
    "import numpy as np \n",
    "import pandas as pd \n",
    "import matplotlib.pyplot as plt \n",
    "import seaborn as sns "
   ]
  },
  {
   "cell_type": "markdown",
   "metadata": {},
   "source": [
    "### Functions "
   ]
  },
  {
   "cell_type": "code",
   "execution_count": null,
   "metadata": {},
   "outputs": [],
   "source": [
    "# Put ALL functions here"
   ]
  },
  {
   "cell_type": "markdown",
   "metadata": {},
   "source": [
    "### Read in data"
   ]
  },
  {
   "cell_type": "code",
   "execution_count": 63,
   "metadata": {},
   "outputs": [
    {
     "name": "stderr",
     "output_type": "stream",
     "text": [
      "/home/dinoanasta/.local/lib/python3.8/site-packages/IPython/core/interactiveshell.py:3155: DtypeWarning: Columns (6,121,151) have mixed types.Specify dtype option on import or set low_memory=False.\n",
      "  has_raised = await self.run_ast_nodes(code_ast.body, cell_name,\n"
     ]
    },
    {
     "data": {
      "text/html": [
       "<div>\n",
       "<style scoped>\n",
       "    .dataframe tbody tr th:only-of-type {\n",
       "        vertical-align: middle;\n",
       "    }\n",
       "\n",
       "    .dataframe tbody tr th {\n",
       "        vertical-align: top;\n",
       "    }\n",
       "\n",
       "    .dataframe thead th {\n",
       "        text-align: right;\n",
       "    }\n",
       "</style>\n",
       "<table border=\"1\" class=\"dataframe\">\n",
       "  <thead>\n",
       "    <tr style=\"text-align: right;\">\n",
       "      <th></th>\n",
       "      <th>pid</th>\n",
       "      <th>w1_nc_outcome</th>\n",
       "      <th>w1_nc_intrv_c</th>\n",
       "      <th>w1_nc_intrv_d</th>\n",
       "      <th>w1_nc_intrv_m</th>\n",
       "      <th>w1_nc_intrv_y</th>\n",
       "      <th>w1_nc_duration</th>\n",
       "      <th>w1_nc_dob_m</th>\n",
       "      <th>w1_nc_dob_y</th>\n",
       "      <th>w1_nc_gen</th>\n",
       "      <th>...</th>\n",
       "      <th>w1_nc_intlng2</th>\n",
       "      <th>w1_nc_intlng3</th>\n",
       "      <th>w1_nc_intlng4</th>\n",
       "      <th>w1_nc_intlng5</th>\n",
       "      <th>w1_nc_intlng6</th>\n",
       "      <th>w1_nc_intlng7</th>\n",
       "      <th>w1_nc_intlng8</th>\n",
       "      <th>w1_nc_intlng9</th>\n",
       "      <th>w1_nc_intlng10</th>\n",
       "      <th>w1_nc_intlng11</th>\n",
       "    </tr>\n",
       "  </thead>\n",
       "  <tbody>\n",
       "    <tr>\n",
       "      <th>0</th>\n",
       "      <td>301013</td>\n",
       "      <td>Successfully Interviewed</td>\n",
       "      <td>610</td>\n",
       "      <td>15th</td>\n",
       "      <td>June</td>\n",
       "      <td>2020</td>\n",
       "      <td>15.95</td>\n",
       "      <td>June</td>\n",
       "      <td>1981.0</td>\n",
       "      <td>Man</td>\n",
       "      <td>...</td>\n",
       "      <td>NaN</td>\n",
       "      <td>NaN</td>\n",
       "      <td>NaN</td>\n",
       "      <td>NaN</td>\n",
       "      <td>NaN</td>\n",
       "      <td>NaN</td>\n",
       "      <td>NaN</td>\n",
       "      <td>NaN</td>\n",
       "      <td>NaN</td>\n",
       "      <td>NaN</td>\n",
       "    </tr>\n",
       "    <tr>\n",
       "      <th>1</th>\n",
       "      <td>301058</td>\n",
       "      <td>Successfully Interviewed</td>\n",
       "      <td>611</td>\n",
       "      <td>25th</td>\n",
       "      <td>June</td>\n",
       "      <td>2020</td>\n",
       "      <td>22.03</td>\n",
       "      <td>January</td>\n",
       "      <td>1948.0</td>\n",
       "      <td>Woman</td>\n",
       "      <td>...</td>\n",
       "      <td>NaN</td>\n",
       "      <td>NaN</td>\n",
       "      <td>NaN</td>\n",
       "      <td>NaN</td>\n",
       "      <td>NaN</td>\n",
       "      <td>NaN</td>\n",
       "      <td>NaN</td>\n",
       "      <td>NaN</td>\n",
       "      <td>NaN</td>\n",
       "      <td>NaN</td>\n",
       "    </tr>\n",
       "    <tr>\n",
       "      <th>2</th>\n",
       "      <td>301059</td>\n",
       "      <td>Successfully Interviewed</td>\n",
       "      <td>604</td>\n",
       "      <td>20th</td>\n",
       "      <td>June</td>\n",
       "      <td>2020</td>\n",
       "      <td>12.75</td>\n",
       "      <td>July</td>\n",
       "      <td>1990.0</td>\n",
       "      <td>Woman</td>\n",
       "      <td>...</td>\n",
       "      <td>NaN</td>\n",
       "      <td>NaN</td>\n",
       "      <td>NaN</td>\n",
       "      <td>NaN</td>\n",
       "      <td>NaN</td>\n",
       "      <td>NaN</td>\n",
       "      <td>NaN</td>\n",
       "      <td>NaN</td>\n",
       "      <td>NaN</td>\n",
       "      <td>NaN</td>\n",
       "    </tr>\n",
       "    <tr>\n",
       "      <th>3</th>\n",
       "      <td>301062</td>\n",
       "      <td>Successfully Interviewed</td>\n",
       "      <td>640</td>\n",
       "      <td>25th</td>\n",
       "      <td>June</td>\n",
       "      <td>2020</td>\n",
       "      <td>22.33</td>\n",
       "      <td>June</td>\n",
       "      <td>1972.0</td>\n",
       "      <td>Woman</td>\n",
       "      <td>...</td>\n",
       "      <td>English</td>\n",
       "      <td>NaN</td>\n",
       "      <td>NaN</td>\n",
       "      <td>NaN</td>\n",
       "      <td>NaN</td>\n",
       "      <td>NaN</td>\n",
       "      <td>NaN</td>\n",
       "      <td>NaN</td>\n",
       "      <td>NaN</td>\n",
       "      <td>NaN</td>\n",
       "    </tr>\n",
       "    <tr>\n",
       "      <th>4</th>\n",
       "      <td>301067</td>\n",
       "      <td>Successfully Interviewed</td>\n",
       "      <td>609</td>\n",
       "      <td>15th</td>\n",
       "      <td>May</td>\n",
       "      <td>2020</td>\n",
       "      <td>15.2</td>\n",
       "      <td>July</td>\n",
       "      <td>1971.0</td>\n",
       "      <td>Woman</td>\n",
       "      <td>...</td>\n",
       "      <td>NaN</td>\n",
       "      <td>NaN</td>\n",
       "      <td>NaN</td>\n",
       "      <td>NaN</td>\n",
       "      <td>NaN</td>\n",
       "      <td>NaN</td>\n",
       "      <td>NaN</td>\n",
       "      <td>NaN</td>\n",
       "      <td>NaN</td>\n",
       "      <td>NaN</td>\n",
       "    </tr>\n",
       "  </tbody>\n",
       "</table>\n",
       "<p>5 rows × 170 columns</p>\n",
       "</div>"
      ],
      "text/plain": [
       "      pid             w1_nc_outcome  w1_nc_intrv_c w1_nc_intrv_d  \\\n",
       "0  301013  Successfully Interviewed            610          15th   \n",
       "1  301058  Successfully Interviewed            611          25th   \n",
       "2  301059  Successfully Interviewed            604          20th   \n",
       "3  301062  Successfully Interviewed            640          25th   \n",
       "4  301067  Successfully Interviewed            609          15th   \n",
       "\n",
       "  w1_nc_intrv_m  w1_nc_intrv_y w1_nc_duration w1_nc_dob_m w1_nc_dob_y  \\\n",
       "0          June           2020          15.95        June      1981.0   \n",
       "1          June           2020          22.03     January      1948.0   \n",
       "2          June           2020          12.75        July      1990.0   \n",
       "3          June           2020          22.33        June      1972.0   \n",
       "4           May           2020           15.2        July      1971.0   \n",
       "\n",
       "  w1_nc_gen  ... w1_nc_intlng2 w1_nc_intlng3 w1_nc_intlng4 w1_nc_intlng5  \\\n",
       "0       Man  ...           NaN           NaN           NaN           NaN   \n",
       "1     Woman  ...           NaN           NaN           NaN           NaN   \n",
       "2     Woman  ...           NaN           NaN           NaN           NaN   \n",
       "3     Woman  ...       English           NaN           NaN           NaN   \n",
       "4     Woman  ...           NaN           NaN           NaN           NaN   \n",
       "\n",
       "  w1_nc_intlng6 w1_nc_intlng7 w1_nc_intlng8 w1_nc_intlng9 w1_nc_intlng10  \\\n",
       "0           NaN           NaN           NaN           NaN            NaN   \n",
       "1           NaN           NaN           NaN           NaN            NaN   \n",
       "2           NaN           NaN           NaN           NaN            NaN   \n",
       "3           NaN           NaN           NaN           NaN            NaN   \n",
       "4           NaN           NaN           NaN           NaN            NaN   \n",
       "\n",
       "  w1_nc_intlng11  \n",
       "0            NaN  \n",
       "1            NaN  \n",
       "2            NaN  \n",
       "3            NaN  \n",
       "4            NaN  \n",
       "\n",
       "[5 rows x 170 columns]"
      ]
     },
     "metadata": {},
     "output_type": "display_data"
    }
   ],
   "source": [
    "raw_data = pd.read_csv('Wave1.csv')\n",
    "display(raw_data.head()) "
   ]
  },
  {
   "cell_type": "markdown",
   "metadata": {},
   "source": [
    "## Section 1 - Demographics\n"
   ]
  },
  {
   "cell_type": "code",
   "execution_count": 5,
   "metadata": {},
   "outputs": [],
   "source": [
    "#Dino\n",
    "#Cleaning the raw_df"
   ]
  },
  {
   "cell_type": "code",
   "execution_count": null,
   "metadata": {},
   "outputs": [],
   "source": [
    "#EDA"
   ]
  },
  {
   "cell_type": "markdown",
   "metadata": {},
   "source": [
    "## Section 2 - Labour"
   ]
  },
  {
   "cell_type": "code",
   "execution_count": null,
   "metadata": {},
   "outputs": [],
   "source": [
    "#Brent\n",
    "#Cleaning the raw_df"
   ]
  },
  {
   "cell_type": "code",
   "execution_count": null,
   "metadata": {},
   "outputs": [],
   "source": [
    "#EDA"
   ]
  },
  {
   "cell_type": "markdown",
   "metadata": {},
   "source": [
    "## Section 3 - Welfare"
   ]
  },
  {
   "cell_type": "code",
   "execution_count": 34,
   "metadata": {},
   "outputs": [],
   "source": [
    "# Philani\n",
    "#Cleaning the raw_df"
   ]
  },
  {
   "cell_type": "code",
   "execution_count": null,
   "metadata": {},
   "outputs": [],
   "source": [
    "#EDA"
   ]
  }
 ],
 "metadata": {
  "hide_input": false,
  "kernelspec": {
   "display_name": "Python 3",
   "language": "python",
   "name": "python3"
  },
  "language_info": {
   "codemirror_mode": {
    "name": "ipython",
    "version": 3
   },
   "file_extension": ".py",
   "mimetype": "text/x-python",
   "name": "python",
   "nbconvert_exporter": "python",
   "pygments_lexer": "ipython3",
   "version": "3.8.6"
  },
  "toc": {
   "base_numbering": 1,
   "nav_menu": {},
   "number_sections": false,
   "sideBar": true,
   "skip_h1_title": true,
   "title_cell": "Table of Contents",
   "title_sidebar": "Contents",
   "toc_cell": true,
   "toc_position": {
    "height": "calc(100% - 180px)",
    "left": "10px",
    "top": "150px",
    "width": "463.496px"
   },
   "toc_section_display": true,
   "toc_window_display": true
  },
  "widgets": {
   "application/vnd.jupyter.widget-state+json": {
    "state": {},
    "version_major": 1,
    "version_minor": 0
   }
  }
 },
 "nbformat": 4,
 "nbformat_minor": 4
}
