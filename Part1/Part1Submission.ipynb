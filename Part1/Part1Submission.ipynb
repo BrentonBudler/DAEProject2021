{
 "cells": [
  {
   "cell_type": "code",
   "execution_count": 232,
   "metadata": {},
   "outputs": [],
   "source": [
    "import numpy as np \n",
    "import pandas as pd \n",
    "import matplotlib.pyplot as plt \n",
    "import seaborn as sns "
   ]
  },
  {
   "cell_type": "code",
   "execution_count": 233,
   "metadata": {},
   "outputs": [
    {
     "name": "stderr",
     "output_type": "stream",
     "text": [
      "/Users/brentonbudler/AnacondaDownload/anaconda3/lib/python3.8/site-packages/IPython/core/interactiveshell.py:3146: DtypeWarning: Columns (6,121,151) have mixed types.Specify dtype option on import or set low_memory=False.\n",
      "  has_raised = await self.run_ast_nodes(code_ast.body, cell_name,\n"
     ]
    },
    {
     "data": {
      "text/html": [
       "<div>\n",
       "<style scoped>\n",
       "    .dataframe tbody tr th:only-of-type {\n",
       "        vertical-align: middle;\n",
       "    }\n",
       "\n",
       "    .dataframe tbody tr th {\n",
       "        vertical-align: top;\n",
       "    }\n",
       "\n",
       "    .dataframe thead th {\n",
       "        text-align: right;\n",
       "    }\n",
       "</style>\n",
       "<table border=\"1\" class=\"dataframe\">\n",
       "  <thead>\n",
       "    <tr style=\"text-align: right;\">\n",
       "      <th></th>\n",
       "      <th>pid</th>\n",
       "      <th>w1_nc_outcome</th>\n",
       "      <th>w1_nc_intrv_c</th>\n",
       "      <th>w1_nc_intrv_d</th>\n",
       "      <th>w1_nc_intrv_m</th>\n",
       "      <th>w1_nc_intrv_y</th>\n",
       "      <th>w1_nc_duration</th>\n",
       "      <th>w1_nc_dob_m</th>\n",
       "      <th>w1_nc_dob_y</th>\n",
       "      <th>w1_nc_gen</th>\n",
       "      <th>...</th>\n",
       "      <th>w1_nc_intlng2</th>\n",
       "      <th>w1_nc_intlng3</th>\n",
       "      <th>w1_nc_intlng4</th>\n",
       "      <th>w1_nc_intlng5</th>\n",
       "      <th>w1_nc_intlng6</th>\n",
       "      <th>w1_nc_intlng7</th>\n",
       "      <th>w1_nc_intlng8</th>\n",
       "      <th>w1_nc_intlng9</th>\n",
       "      <th>w1_nc_intlng10</th>\n",
       "      <th>w1_nc_intlng11</th>\n",
       "    </tr>\n",
       "  </thead>\n",
       "  <tbody>\n",
       "    <tr>\n",
       "      <th>0</th>\n",
       "      <td>301013</td>\n",
       "      <td>Successfully Interviewed</td>\n",
       "      <td>610</td>\n",
       "      <td>15th</td>\n",
       "      <td>June</td>\n",
       "      <td>2020</td>\n",
       "      <td>15.95</td>\n",
       "      <td>June</td>\n",
       "      <td>1981.0</td>\n",
       "      <td>Man</td>\n",
       "      <td>...</td>\n",
       "      <td>NaN</td>\n",
       "      <td>NaN</td>\n",
       "      <td>NaN</td>\n",
       "      <td>NaN</td>\n",
       "      <td>NaN</td>\n",
       "      <td>NaN</td>\n",
       "      <td>NaN</td>\n",
       "      <td>NaN</td>\n",
       "      <td>NaN</td>\n",
       "      <td>NaN</td>\n",
       "    </tr>\n",
       "    <tr>\n",
       "      <th>1</th>\n",
       "      <td>301058</td>\n",
       "      <td>Successfully Interviewed</td>\n",
       "      <td>611</td>\n",
       "      <td>25th</td>\n",
       "      <td>June</td>\n",
       "      <td>2020</td>\n",
       "      <td>22.03</td>\n",
       "      <td>January</td>\n",
       "      <td>1948.0</td>\n",
       "      <td>Woman</td>\n",
       "      <td>...</td>\n",
       "      <td>NaN</td>\n",
       "      <td>NaN</td>\n",
       "      <td>NaN</td>\n",
       "      <td>NaN</td>\n",
       "      <td>NaN</td>\n",
       "      <td>NaN</td>\n",
       "      <td>NaN</td>\n",
       "      <td>NaN</td>\n",
       "      <td>NaN</td>\n",
       "      <td>NaN</td>\n",
       "    </tr>\n",
       "    <tr>\n",
       "      <th>2</th>\n",
       "      <td>301059</td>\n",
       "      <td>Successfully Interviewed</td>\n",
       "      <td>604</td>\n",
       "      <td>20th</td>\n",
       "      <td>June</td>\n",
       "      <td>2020</td>\n",
       "      <td>12.75</td>\n",
       "      <td>July</td>\n",
       "      <td>1990.0</td>\n",
       "      <td>Woman</td>\n",
       "      <td>...</td>\n",
       "      <td>NaN</td>\n",
       "      <td>NaN</td>\n",
       "      <td>NaN</td>\n",
       "      <td>NaN</td>\n",
       "      <td>NaN</td>\n",
       "      <td>NaN</td>\n",
       "      <td>NaN</td>\n",
       "      <td>NaN</td>\n",
       "      <td>NaN</td>\n",
       "      <td>NaN</td>\n",
       "    </tr>\n",
       "    <tr>\n",
       "      <th>3</th>\n",
       "      <td>301062</td>\n",
       "      <td>Successfully Interviewed</td>\n",
       "      <td>640</td>\n",
       "      <td>25th</td>\n",
       "      <td>June</td>\n",
       "      <td>2020</td>\n",
       "      <td>22.33</td>\n",
       "      <td>June</td>\n",
       "      <td>1972.0</td>\n",
       "      <td>Woman</td>\n",
       "      <td>...</td>\n",
       "      <td>English</td>\n",
       "      <td>NaN</td>\n",
       "      <td>NaN</td>\n",
       "      <td>NaN</td>\n",
       "      <td>NaN</td>\n",
       "      <td>NaN</td>\n",
       "      <td>NaN</td>\n",
       "      <td>NaN</td>\n",
       "      <td>NaN</td>\n",
       "      <td>NaN</td>\n",
       "    </tr>\n",
       "    <tr>\n",
       "      <th>4</th>\n",
       "      <td>301067</td>\n",
       "      <td>Successfully Interviewed</td>\n",
       "      <td>609</td>\n",
       "      <td>15th</td>\n",
       "      <td>May</td>\n",
       "      <td>2020</td>\n",
       "      <td>15.2</td>\n",
       "      <td>July</td>\n",
       "      <td>1971.0</td>\n",
       "      <td>Woman</td>\n",
       "      <td>...</td>\n",
       "      <td>NaN</td>\n",
       "      <td>NaN</td>\n",
       "      <td>NaN</td>\n",
       "      <td>NaN</td>\n",
       "      <td>NaN</td>\n",
       "      <td>NaN</td>\n",
       "      <td>NaN</td>\n",
       "      <td>NaN</td>\n",
       "      <td>NaN</td>\n",
       "      <td>NaN</td>\n",
       "    </tr>\n",
       "  </tbody>\n",
       "</table>\n",
       "<p>5 rows × 170 columns</p>\n",
       "</div>"
      ],
      "text/plain": [
       "      pid             w1_nc_outcome  w1_nc_intrv_c w1_nc_intrv_d  \\\n",
       "0  301013  Successfully Interviewed            610          15th   \n",
       "1  301058  Successfully Interviewed            611          25th   \n",
       "2  301059  Successfully Interviewed            604          20th   \n",
       "3  301062  Successfully Interviewed            640          25th   \n",
       "4  301067  Successfully Interviewed            609          15th   \n",
       "\n",
       "  w1_nc_intrv_m  w1_nc_intrv_y w1_nc_duration w1_nc_dob_m w1_nc_dob_y  \\\n",
       "0          June           2020          15.95        June      1981.0   \n",
       "1          June           2020          22.03     January      1948.0   \n",
       "2          June           2020          12.75        July      1990.0   \n",
       "3          June           2020          22.33        June      1972.0   \n",
       "4           May           2020           15.2        July      1971.0   \n",
       "\n",
       "  w1_nc_gen  ... w1_nc_intlng2 w1_nc_intlng3 w1_nc_intlng4 w1_nc_intlng5  \\\n",
       "0       Man  ...           NaN           NaN           NaN           NaN   \n",
       "1     Woman  ...           NaN           NaN           NaN           NaN   \n",
       "2     Woman  ...           NaN           NaN           NaN           NaN   \n",
       "3     Woman  ...       English           NaN           NaN           NaN   \n",
       "4     Woman  ...           NaN           NaN           NaN           NaN   \n",
       "\n",
       "  w1_nc_intlng6 w1_nc_intlng7 w1_nc_intlng8 w1_nc_intlng9 w1_nc_intlng10  \\\n",
       "0           NaN           NaN           NaN           NaN            NaN   \n",
       "1           NaN           NaN           NaN           NaN            NaN   \n",
       "2           NaN           NaN           NaN           NaN            NaN   \n",
       "3           NaN           NaN           NaN           NaN            NaN   \n",
       "4           NaN           NaN           NaN           NaN            NaN   \n",
       "\n",
       "  w1_nc_intlng11  \n",
       "0            NaN  \n",
       "1            NaN  \n",
       "2            NaN  \n",
       "3            NaN  \n",
       "4            NaN  \n",
       "\n",
       "[5 rows x 170 columns]"
      ]
     },
     "execution_count": 233,
     "metadata": {},
     "output_type": "execute_result"
    }
   ],
   "source": [
    "raw_data = pd.read_csv('wave1.csv')\n",
    "raw_data.head()"
   ]
  },
  {
   "cell_type": "markdown",
   "metadata": {},
   "source": [
    "# 1. Demographics "
   ]
  },
  {
   "cell_type": "code",
   "execution_count": 234,
   "metadata": {},
   "outputs": [],
   "source": [
    "#Dino"
   ]
  },
  {
   "cell_type": "markdown",
   "metadata": {},
   "source": [
    "# 2. Labour"
   ]
  },
  {
   "cell_type": "markdown",
   "metadata": {},
   "source": [
    "This section includes an exploraroty data analysis of the varaibles pertaining to work, and factors effecting an individuals work."
   ]
  },
  {
   "cell_type": "markdown",
   "metadata": {},
   "source": [
    "## 2.1 Data Description "
   ]
  },
  {
   "cell_type": "markdown",
   "metadata": {},
   "source": [
    "**Education:** A persons education will effect what kind of work they do \n",
    "* **highest_grade** - Highest school grade completed/passed\n",
    "* **tertiary_edu** - Successfully completed any tertiary \n",
    "<br><br>\n",
    "\n",
    "**Work in February** \n",
    "* **job_in_feb** - Had any kind of job\n",
    "* **work_in_feb** - Did work for profit/pay even just for an hour or a small amount \n",
    "* **bus_in_feb** - Did any businesss, big or small, even just for an hour\n",
    "* **work_days_feb** - Average number of days worked per week \n",
    "* **work_hours_feb** - Average number of hours worked per day \n",
    "* **take_home_pay_feb** - Amount of take-home profit/pay in the month of February \n",
    "<br><br>\n",
    "\n",
    "**Work in April** \n",
    "* **job_in_apr** - Had any kind of job\n",
    "* **work_in_apr** - Did work for profit/pay even just for an hour or a small amount \n",
    "* **bus_in_apr** - Did any businesss, big or small, even just for an hour\n",
    "* **work_days_apr** - Average number of days worked per week \n",
    "* **work_hours_apr** - Average number of hours worked per day \n",
    "* **take_home_pay_apr** - Amount of take-home profit/pay in the month of April \n",
    "* **return_to_job** - Have any paid activity/job to return to in the next 4 weeks (At time of survey)\n",
    "* **not_working_reason** - Main reason for not working in April \n",
    "<br><br>\n",
    "\n",
    "**Type of work** \n",
    "* **main_form_work** - Respondents main form of work \n",
    "* **usual_work** - Occupational code for usual work "
   ]
  },
  {
   "cell_type": "markdown",
   "metadata": {},
   "source": [
    "## 2.2 Data Ingestion"
   ]
  },
  {
   "cell_type": "code",
   "execution_count": 235,
   "metadata": {},
   "outputs": [],
   "source": [
    "lbdf = pd.DataFrame()\n",
    "\n",
    "lbdf['highest_grade'] = raw_data.w1_nc_edschgrd\n",
    "lbdf['tertiary_edu'] = raw_data.w1_nc_edter\n",
    "\n",
    "lbdf['job_in_feb'] = raw_data.w1_nc_em_feb\n",
    "lbdf['work_in_feb'] = raw_data.w1_nc_emany_feb\n",
    "lbdf['bus_in_feb'] = raw_data.w1_nc_ems_feb\n",
    "lbdf['work_days_feb'] = raw_data.w1_nc_emdays_feb\n",
    "lbdf['work_hours_feb'] = raw_data.w1_nc_emhrs_feb\n",
    "lbdf['take_home_pay_feb'] = raw_data.w1_nc_eminc_feb\n",
    "\n",
    "lbdf['job_in_apr'] = raw_data.w1_nc_em_apr\n",
    "lbdf['work_in_apr'] = raw_data.w1_nc_emany_apr\n",
    "lbdf['bus_in_apr'] = raw_data.w1_nc_ems_apr\n",
    "lbdf['work_days_apr'] = raw_data.w1_nc_emdays_apr\n",
    "lbdf['work_hours_apr'] = raw_data.w1_nc_emhrs_apr\n",
    "lbdf['take_home_pay_apr'] = raw_data.w1_nc_eminc_apr\n",
    "lbdf['return_to_job'] = raw_data.w1_nc_emreturn\n",
    "\n",
    "lbdf['main_form_work'] = raw_data.w1_nc_emtyp\n",
    "lbdf['usual_work'] = raw_data.w1_nc_emwrk_isco_c"
   ]
  },
  {
   "cell_type": "markdown",
   "metadata": {},
   "source": [
    "## 2.3 Exploratory Data Analysis"
   ]
  },
  {
   "cell_type": "code",
   "execution_count": 236,
   "metadata": {},
   "outputs": [
    {
     "name": "stdout",
     "output_type": "stream",
     "text": [
      "<class 'pandas.core.frame.DataFrame'>\n",
      "RangeIndex: 7073 entries, 0 to 7072\n",
      "Data columns (total 17 columns):\n",
      " #   Column             Non-Null Count  Dtype \n",
      "---  ------             --------------  ----- \n",
      " 0   highest_grade      7073 non-null   object\n",
      " 1   tertiary_edu       5384 non-null   object\n",
      " 2   job_in_feb         7073 non-null   object\n",
      " 3   work_in_feb        3768 non-null   object\n",
      " 4   bus_in_feb         3438 non-null   object\n",
      " 5   work_days_feb      3408 non-null   object\n",
      " 6   work_hours_feb     3141 non-null   object\n",
      " 7   take_home_pay_feb  3408 non-null   object\n",
      " 8   job_in_apr         6426 non-null   object\n",
      " 9   work_in_apr        4954 non-null   object\n",
      " 10  bus_in_apr         4769 non-null   object\n",
      " 11  work_days_apr      2359 non-null   object\n",
      " 12  work_hours_apr     1845 non-null   object\n",
      " 13  take_home_pay_apr  1727 non-null   object\n",
      " 14  return_to_job      4329 non-null   object\n",
      " 15  main_form_work     2753 non-null   object\n",
      " 16  usual_work         2359 non-null   object\n",
      "dtypes: object(17)\n",
      "memory usage: 939.5+ KB\n"
     ]
    }
   ],
   "source": [
    "lbdf.info()"
   ]
  },
  {
   "cell_type": "markdown",
   "metadata": {},
   "source": [
    "Let us work through each column in the dataframe and explore the varaibles further"
   ]
  },
  {
   "cell_type": "markdown",
   "metadata": {},
   "source": [
    "### Education "
   ]
  },
  {
   "cell_type": "code",
   "execution_count": 237,
   "metadata": {
    "scrolled": false
   },
   "outputs": [
    {
     "data": {
      "text/plain": [
       "Grade 12 (Std10 / Matric / Senior Certificate / Form 5)    3083\n",
       "Grade 11 (Std. 9/ Form 4)                                  1147\n",
       "Grade 10 (Std. 8/ Form 3)                                   696\n",
       "Grade 9 (Std. 7/ Form 2)                                    387\n",
       "Grade 7 (Std. 5)                                            342\n",
       "Grade 8 (Std. 6/ Form 1)                                    332\n",
       "No Schooling                                                210\n",
       "Grade 6 (Std. 4)                                            169\n",
       "Grade 5 (Std. 3)                                            152\n",
       "Grade 4 (Std. 2)                                            123\n",
       "Grade R/0                                                   120\n",
       "Grade 3 (Std. 1)                                             80\n",
       "Grade 2 (previously Sub B/ class 2)                          75\n",
       "Grade 1 (previously Sub A/ class 1)                          41\n",
       "Don't Know                                                   40\n",
       "National Certificate Vocational 4 (NCV 4)                    30\n",
       "N3 (NATED)/ NTC 3                                            18\n",
       "National Certificate Vocational 2 (NCV 2)                     8\n",
       "National Certificate Vocational 3 (NCV 3)                     5\n",
       "N2 (NATED)/ NTC 2                                             5\n",
       "Refused                                                       5\n",
       "N1 (NATED)/ NTC 1                                             5\n",
       "Name: highest_grade, dtype: int64"
      ]
     },
     "execution_count": 237,
     "metadata": {},
     "output_type": "execute_result"
    }
   ],
   "source": [
    "lbdf['highest_grade'].value_counts()"
   ]
  },
  {
   "cell_type": "code",
   "execution_count": 238,
   "metadata": {},
   "outputs": [
    {
     "data": {
      "text/html": [
       "<div>\n",
       "<style scoped>\n",
       "    .dataframe tbody tr th:only-of-type {\n",
       "        vertical-align: middle;\n",
       "    }\n",
       "\n",
       "    .dataframe tbody tr th {\n",
       "        vertical-align: top;\n",
       "    }\n",
       "\n",
       "    .dataframe thead th {\n",
       "        text-align: right;\n",
       "    }\n",
       "</style>\n",
       "<table border=\"1\" class=\"dataframe\">\n",
       "  <thead>\n",
       "    <tr style=\"text-align: right;\">\n",
       "      <th></th>\n",
       "      <th>highest_grade</th>\n",
       "      <th>tertiary_edu</th>\n",
       "      <th>job_in_feb</th>\n",
       "      <th>work_in_feb</th>\n",
       "      <th>bus_in_feb</th>\n",
       "      <th>work_days_feb</th>\n",
       "      <th>work_hours_feb</th>\n",
       "      <th>take_home_pay_feb</th>\n",
       "      <th>job_in_apr</th>\n",
       "      <th>work_in_apr</th>\n",
       "      <th>bus_in_apr</th>\n",
       "      <th>work_days_apr</th>\n",
       "      <th>work_hours_apr</th>\n",
       "      <th>take_home_pay_apr</th>\n",
       "      <th>return_to_job</th>\n",
       "      <th>main_form_work</th>\n",
       "      <th>usual_work</th>\n",
       "    </tr>\n",
       "  </thead>\n",
       "  <tbody>\n",
       "    <tr>\n",
       "      <th>0</th>\n",
       "      <td>Grade 9 (Std. 7/ Form 2)</td>\n",
       "      <td>No</td>\n",
       "      <td>Yes</td>\n",
       "      <td>NaN</td>\n",
       "      <td>NaN</td>\n",
       "      <td>Donât know</td>\n",
       "      <td>NaN</td>\n",
       "      <td>180.0</td>\n",
       "      <td>No</td>\n",
       "      <td>No</td>\n",
       "      <td>No - I did nothing</td>\n",
       "      <td>NaN</td>\n",
       "      <td>NaN</td>\n",
       "      <td>NaN</td>\n",
       "      <td>Don't know</td>\n",
       "      <td>NaN</td>\n",
       "      <td>NaN</td>\n",
       "    </tr>\n",
       "    <tr>\n",
       "      <th>1</th>\n",
       "      <td>Grade R/0</td>\n",
       "      <td>NaN</td>\n",
       "      <td>No, I'm retired</td>\n",
       "      <td>NaN</td>\n",
       "      <td>NaN</td>\n",
       "      <td>NaN</td>\n",
       "      <td>NaN</td>\n",
       "      <td>NaN</td>\n",
       "      <td>NaN</td>\n",
       "      <td>NaN</td>\n",
       "      <td>NaN</td>\n",
       "      <td>NaN</td>\n",
       "      <td>NaN</td>\n",
       "      <td>NaN</td>\n",
       "      <td>NaN</td>\n",
       "      <td>NaN</td>\n",
       "      <td>NaN</td>\n",
       "    </tr>\n",
       "    <tr>\n",
       "      <th>2</th>\n",
       "      <td>Grade 10 (Std. 8/ Form 3)</td>\n",
       "      <td>Yes</td>\n",
       "      <td>No</td>\n",
       "      <td>No</td>\n",
       "      <td>No - I did nothing</td>\n",
       "      <td>NaN</td>\n",
       "      <td>NaN</td>\n",
       "      <td>NaN</td>\n",
       "      <td>No</td>\n",
       "      <td>No</td>\n",
       "      <td>No - I did nothing</td>\n",
       "      <td>NaN</td>\n",
       "      <td>NaN</td>\n",
       "      <td>NaN</td>\n",
       "      <td>No</td>\n",
       "      <td>NaN</td>\n",
       "      <td>NaN</td>\n",
       "    </tr>\n",
       "    <tr>\n",
       "      <th>3</th>\n",
       "      <td>Grade 10 (Std. 8/ Form 3)</td>\n",
       "      <td>No</td>\n",
       "      <td>Yes</td>\n",
       "      <td>NaN</td>\n",
       "      <td>NaN</td>\n",
       "      <td>3.0</td>\n",
       "      <td>5.0</td>\n",
       "      <td>900.0</td>\n",
       "      <td>No</td>\n",
       "      <td>No</td>\n",
       "      <td>No - I did nothing</td>\n",
       "      <td>5.0</td>\n",
       "      <td>5.0</td>\n",
       "      <td>NaN</td>\n",
       "      <td>Yes</td>\n",
       "      <td>Regular job</td>\n",
       "      <td>Elementary occupations</td>\n",
       "    </tr>\n",
       "    <tr>\n",
       "      <th>4</th>\n",
       "      <td>Grade 9 (Std. 7/ Form 2)</td>\n",
       "      <td>No</td>\n",
       "      <td>No</td>\n",
       "      <td>No</td>\n",
       "      <td>No - I did nothing</td>\n",
       "      <td>NaN</td>\n",
       "      <td>NaN</td>\n",
       "      <td>NaN</td>\n",
       "      <td>No</td>\n",
       "      <td>No</td>\n",
       "      <td>No - I did nothing</td>\n",
       "      <td>NaN</td>\n",
       "      <td>NaN</td>\n",
       "      <td>NaN</td>\n",
       "      <td>No</td>\n",
       "      <td>NaN</td>\n",
       "      <td>NaN</td>\n",
       "    </tr>\n",
       "  </tbody>\n",
       "</table>\n",
       "</div>"
      ],
      "text/plain": [
       "               highest_grade tertiary_edu       job_in_feb work_in_feb  \\\n",
       "0   Grade 9 (Std. 7/ Form 2)           No              Yes         NaN   \n",
       "1                  Grade R/0          NaN  No, I'm retired         NaN   \n",
       "2  Grade 10 (Std. 8/ Form 3)          Yes               No          No   \n",
       "3  Grade 10 (Std. 8/ Form 3)           No              Yes         NaN   \n",
       "4   Grade 9 (Std. 7/ Form 2)           No               No          No   \n",
       "\n",
       "           bus_in_feb work_days_feb work_hours_feb take_home_pay_feb  \\\n",
       "0                 NaN  Donât know            NaN             180.0   \n",
       "1                 NaN           NaN            NaN               NaN   \n",
       "2  No - I did nothing           NaN            NaN               NaN   \n",
       "3                 NaN           3.0            5.0             900.0   \n",
       "4  No - I did nothing           NaN            NaN               NaN   \n",
       "\n",
       "  job_in_apr work_in_apr          bus_in_apr work_days_apr work_hours_apr  \\\n",
       "0         No          No  No - I did nothing           NaN            NaN   \n",
       "1        NaN         NaN                 NaN           NaN            NaN   \n",
       "2         No          No  No - I did nothing           NaN            NaN   \n",
       "3         No          No  No - I did nothing           5.0            5.0   \n",
       "4         No          No  No - I did nothing           NaN            NaN   \n",
       "\n",
       "  take_home_pay_apr return_to_job main_form_work              usual_work  \n",
       "0               NaN    Don't know            NaN                     NaN  \n",
       "1               NaN           NaN            NaN                     NaN  \n",
       "2               NaN            No            NaN                     NaN  \n",
       "3               NaN           Yes    Regular job  Elementary occupations  \n",
       "4               NaN            No            NaN                     NaN  "
      ]
     },
     "execution_count": 238,
     "metadata": {},
     "output_type": "execute_result"
    }
   ],
   "source": [
    "lbdf.head()"
   ]
  },
  {
   "cell_type": "code",
   "execution_count": 239,
   "metadata": {},
   "outputs": [
    {
     "data": {
      "text/html": [
       "<div>\n",
       "<style scoped>\n",
       "    .dataframe tbody tr th:only-of-type {\n",
       "        vertical-align: middle;\n",
       "    }\n",
       "\n",
       "    .dataframe tbody tr th {\n",
       "        vertical-align: top;\n",
       "    }\n",
       "\n",
       "    .dataframe thead th {\n",
       "        text-align: right;\n",
       "    }\n",
       "</style>\n",
       "<table border=\"1\" class=\"dataframe\">\n",
       "  <thead>\n",
       "    <tr style=\"text-align: right;\">\n",
       "      <th></th>\n",
       "      <th>highest_grade</th>\n",
       "      <th>tertiary_edu</th>\n",
       "      <th>job_in_feb</th>\n",
       "      <th>work_in_feb</th>\n",
       "      <th>bus_in_feb</th>\n",
       "      <th>work_days_feb</th>\n",
       "      <th>work_hours_feb</th>\n",
       "      <th>take_home_pay_feb</th>\n",
       "      <th>job_in_apr</th>\n",
       "      <th>work_in_apr</th>\n",
       "      <th>bus_in_apr</th>\n",
       "      <th>work_days_apr</th>\n",
       "      <th>work_hours_apr</th>\n",
       "      <th>take_home_pay_apr</th>\n",
       "      <th>return_to_job</th>\n",
       "      <th>main_form_work</th>\n",
       "      <th>usual_work</th>\n",
       "    </tr>\n",
       "  </thead>\n",
       "  <tbody>\n",
       "    <tr>\n",
       "      <th>7068</th>\n",
       "      <td>Grade 11 (Std. 9/ Form 4)</td>\n",
       "      <td>No</td>\n",
       "      <td>No</td>\n",
       "      <td>No</td>\n",
       "      <td>No - I did nothing</td>\n",
       "      <td>NaN</td>\n",
       "      <td>NaN</td>\n",
       "      <td>NaN</td>\n",
       "      <td>No</td>\n",
       "      <td>No</td>\n",
       "      <td>No - I did nothing</td>\n",
       "      <td>NaN</td>\n",
       "      <td>NaN</td>\n",
       "      <td>NaN</td>\n",
       "      <td>No</td>\n",
       "      <td>NaN</td>\n",
       "      <td>NaN</td>\n",
       "    </tr>\n",
       "    <tr>\n",
       "      <th>7069</th>\n",
       "      <td>Grade 10 (Std. 8/ Form 3)</td>\n",
       "      <td>No</td>\n",
       "      <td>No</td>\n",
       "      <td>No</td>\n",
       "      <td>No - I did nothing</td>\n",
       "      <td>NaN</td>\n",
       "      <td>NaN</td>\n",
       "      <td>NaN</td>\n",
       "      <td>No</td>\n",
       "      <td>No</td>\n",
       "      <td>No - I did nothing</td>\n",
       "      <td>NaN</td>\n",
       "      <td>NaN</td>\n",
       "      <td>NaN</td>\n",
       "      <td>No</td>\n",
       "      <td>NaN</td>\n",
       "      <td>NaN</td>\n",
       "    </tr>\n",
       "    <tr>\n",
       "      <th>7070</th>\n",
       "      <td>N3 (NATED)/ NTC 3</td>\n",
       "      <td>No</td>\n",
       "      <td>No</td>\n",
       "      <td>No</td>\n",
       "      <td>No - I did nothing</td>\n",
       "      <td>NaN</td>\n",
       "      <td>NaN</td>\n",
       "      <td>NaN</td>\n",
       "      <td>No</td>\n",
       "      <td>No</td>\n",
       "      <td>No - I did nothing</td>\n",
       "      <td>NaN</td>\n",
       "      <td>NaN</td>\n",
       "      <td>NaN</td>\n",
       "      <td>No</td>\n",
       "      <td>NaN</td>\n",
       "      <td>NaN</td>\n",
       "    </tr>\n",
       "    <tr>\n",
       "      <th>7071</th>\n",
       "      <td>Grade 12 (Std10 / Matric / Senior Certificate ...</td>\n",
       "      <td>No</td>\n",
       "      <td>No</td>\n",
       "      <td>No</td>\n",
       "      <td>No - I did nothing</td>\n",
       "      <td>NaN</td>\n",
       "      <td>NaN</td>\n",
       "      <td>NaN</td>\n",
       "      <td>No</td>\n",
       "      <td>No</td>\n",
       "      <td>No - I did nothing</td>\n",
       "      <td>NaN</td>\n",
       "      <td>NaN</td>\n",
       "      <td>NaN</td>\n",
       "      <td>No</td>\n",
       "      <td>NaN</td>\n",
       "      <td>NaN</td>\n",
       "    </tr>\n",
       "    <tr>\n",
       "      <th>7072</th>\n",
       "      <td>Grade 11 (Std. 9/ Form 4)</td>\n",
       "      <td>Yes</td>\n",
       "      <td>No</td>\n",
       "      <td>No</td>\n",
       "      <td>No - I did nothing</td>\n",
       "      <td>NaN</td>\n",
       "      <td>NaN</td>\n",
       "      <td>NaN</td>\n",
       "      <td>No</td>\n",
       "      <td>No</td>\n",
       "      <td>No - I did nothing</td>\n",
       "      <td>NaN</td>\n",
       "      <td>NaN</td>\n",
       "      <td>NaN</td>\n",
       "      <td>No</td>\n",
       "      <td>NaN</td>\n",
       "      <td>NaN</td>\n",
       "    </tr>\n",
       "  </tbody>\n",
       "</table>\n",
       "</div>"
      ],
      "text/plain": [
       "                                          highest_grade tertiary_edu  \\\n",
       "7068                          Grade 11 (Std. 9/ Form 4)           No   \n",
       "7069                          Grade 10 (Std. 8/ Form 3)           No   \n",
       "7070                                  N3 (NATED)/ NTC 3           No   \n",
       "7071  Grade 12 (Std10 / Matric / Senior Certificate ...           No   \n",
       "7072                          Grade 11 (Std. 9/ Form 4)          Yes   \n",
       "\n",
       "     job_in_feb work_in_feb          bus_in_feb work_days_feb work_hours_feb  \\\n",
       "7068         No          No  No - I did nothing           NaN            NaN   \n",
       "7069         No          No  No - I did nothing           NaN            NaN   \n",
       "7070         No          No  No - I did nothing           NaN            NaN   \n",
       "7071         No          No  No - I did nothing           NaN            NaN   \n",
       "7072         No          No  No - I did nothing           NaN            NaN   \n",
       "\n",
       "     take_home_pay_feb job_in_apr work_in_apr          bus_in_apr  \\\n",
       "7068               NaN         No          No  No - I did nothing   \n",
       "7069               NaN         No          No  No - I did nothing   \n",
       "7070               NaN         No          No  No - I did nothing   \n",
       "7071               NaN         No          No  No - I did nothing   \n",
       "7072               NaN         No          No  No - I did nothing   \n",
       "\n",
       "     work_days_apr work_hours_apr take_home_pay_apr return_to_job  \\\n",
       "7068           NaN            NaN               NaN            No   \n",
       "7069           NaN            NaN               NaN            No   \n",
       "7070           NaN            NaN               NaN            No   \n",
       "7071           NaN            NaN               NaN            No   \n",
       "7072           NaN            NaN               NaN            No   \n",
       "\n",
       "     main_form_work usual_work  \n",
       "7068            NaN        NaN  \n",
       "7069            NaN        NaN  \n",
       "7070            NaN        NaN  \n",
       "7071            NaN        NaN  \n",
       "7072            NaN        NaN  "
      ]
     },
     "execution_count": 239,
     "metadata": {},
     "output_type": "execute_result"
    }
   ],
   "source": [
    "lbdf.tail()"
   ]
  },
  {
   "cell_type": "code",
   "execution_count": 240,
   "metadata": {},
   "outputs": [],
   "source": [
    "def replace_errors(x):\n",
    "    if x == \"Other\" or x == \"Don't know\" or x == \"Refused\" or x=='Missing' or x== \"Don't Know\" or x==\"Donât know\":\n",
    "        return np.NaN\n",
    "    return x"
   ]
  },
  {
   "cell_type": "markdown",
   "metadata": {},
   "source": [
    "A custom data cleaning function helps us replace answers such as 'Refused' or 'Don't Know' with missing values"
   ]
  },
  {
   "cell_type": "code",
   "execution_count": 241,
   "metadata": {},
   "outputs": [],
   "source": [
    "lbdf['highest_grade'] = lbdf['highest_grade'].apply(replace_errors)"
   ]
  },
  {
   "cell_type": "code",
   "execution_count": 242,
   "metadata": {},
   "outputs": [],
   "source": [
    "grade_map = {\n",
    "    'Grade 12 (Std10 / Matric / Senior Certificate / Form 5)': 'Grade 12',\n",
    "    'Grade 11 (Std. 9/ Form 4)': 'Grade 11',\n",
    "    'Grade 10 (Std. 8/ Form 3)': 'Grade 10', \n",
    "    'Grade 9 (Std. 7/ Form 2)':  'Grade 9', \n",
    "    'Grade 8 (Std. 6/ Form 1)':  'Grade 8', \n",
    "    'Grade 7 (Std. 5)':  'Grade 7', \n",
    "    'Grade 6 (Std. 4)':  'Grade 6', \n",
    "    'Grade 5 (Std. 3)':  'Grade 5', \n",
    "    'Grade 4 (Std. 2)':  'Grade 4', \n",
    "    'Grade 3 (Std. 1)':  'Grade 3',\n",
    "    'Grade 2 (previously Sub B/ class 2)':  'Grade 2', \n",
    "    'Grade 1 (previously Sub A/ class 1)': 'Grade 1', \n",
    "    'Grade R/0': 'Grade 0', \n",
    "    'N1 (NATED)/ NTC 1': 'NTC 1',\n",
    "    'N2 (NATED)/ NTC 2' : 'NTC 2',\n",
    "    'N3 (NATED)/ NTC 3': 'NTC 3',\n",
    "    'No Schooling': 'None',\n",
    "    'National Certificate Vocational 2 (NCV 2)': 'NCV 2',\n",
    "    'National Certificate Vocational 3 (NCV 3)': 'NCV 3',\n",
    "    'National Certificate Vocational 4 (NCV 4)': 'NCV 4'\n",
    "}"
   ]
  },
  {
   "cell_type": "code",
   "execution_count": 243,
   "metadata": {},
   "outputs": [],
   "source": [
    "lbdf['highest_grade'] = lbdf['highest_grade'].map(grade_map)"
   ]
  },
  {
   "cell_type": "code",
   "execution_count": 244,
   "metadata": {},
   "outputs": [],
   "source": [
    "grades = lbdf['highest_grade'].value_counts()\n",
    "ordered_grades = grades.reindex(index = ['Grade 12', 'Grade 11', 'Grade 10', 'Grade 9', 'Grade 8','Grade 7',\n",
    "       'Grade 6', 'Grade 5', 'Grade 4', 'Grade 3', 'Grade 2',\n",
    "       'Grade 1', 'Grade 0' , 'NCV 4', 'NCV 3', 'NCV 2', 'NTC 3','NTC 2','NTC 1','None'])"
   ]
  },
  {
   "cell_type": "code",
   "execution_count": 245,
   "metadata": {},
   "outputs": [
    {
     "data": {
      "image/png": "[encoded data removed]",
      "text/plain": [
       "<Figure size 1080x432 with 1 Axes>"
      ]
     },
     "metadata": {
      "needs_background": "light"
     },
     "output_type": "display_data"
    }
   ],
   "source": [
    "plt.figure(figsize=(15,6))\n",
    "sns.barplot(x = ordered_grades.index, y = ordered_grades.values)\n",
    "plt.tight_layout()\n",
    "plt.title('Education of Respondents in Sample', fontsize= 15)\n",
    "plt.xlabel('Highest Grade Completed')\n",
    "plt.ylabel('Number of Respondents')\n",
    "plt.show()"
   ]
  },
  {
   "cell_type": "code",
   "execution_count": 246,
   "metadata": {},
   "outputs": [
    {
     "data": {
      "text/plain": [
       "No            3558\n",
       "Yes           1817\n",
       "Don't know       6\n",
       "Refused          3\n",
       "Name: tertiary_edu, dtype: int64"
      ]
     },
     "execution_count": 246,
     "metadata": {},
     "output_type": "execute_result"
    }
   ],
   "source": [
    "lbdf['tertiary_edu'].value_counts()"
   ]
  },
  {
   "cell_type": "code",
   "execution_count": 247,
   "metadata": {},
   "outputs": [],
   "source": [
    "lbdf['tertiary_edu'] = lbdf['tertiary_edu'].apply(replace_errors)"
   ]
  },
  {
   "cell_type": "code",
   "execution_count": 248,
   "metadata": {},
   "outputs": [
    {
     "data": {
      "text/plain": [
       "No     3558\n",
       "Yes    1817\n",
       "Name: tertiary_edu, dtype: int64"
      ]
     },
     "execution_count": 248,
     "metadata": {},
     "output_type": "execute_result"
    }
   ],
   "source": [
    "lbdf['tertiary_edu'].value_counts()"
   ]
  },
  {
   "cell_type": "code",
   "execution_count": 249,
   "metadata": {},
   "outputs": [
    {
     "data": {
      "text/plain": [
       "24.0067863707055"
      ]
     },
     "execution_count": 249,
     "metadata": {},
     "output_type": "execute_result"
    }
   ],
   "source": [
    "lbdf['tertiary_edu'].isnull().sum()/len(lbdf)*100"
   ]
  },
  {
   "cell_type": "markdown",
   "metadata": {},
   "source": [
    "24% of the sample either refused to answer the question, answered that they did not know, or their answer is simply missing but out of the respondents who did answer let us look at how many said that they had completed a tertiary education."
   ]
  },
  {
   "cell_type": "code",
   "execution_count": 250,
   "metadata": {},
   "outputs": [
    {
     "data": {
      "text/plain": [
       "Text(0.5, 1.0, 'Tertiary Education')"
      ]
     },
     "execution_count": 250,
     "metadata": {},
     "output_type": "execute_result"
    },
    {
     "data": {
      "image/png": "[encoded data removed]",
      "text/plain": [
       "<Figure size 432x432 with 1 Axes>"
      ]
     },
     "metadata": {},
     "output_type": "display_data"
    }
   ],
   "source": [
    "tert_perc = (lbdf['tertiary_edu'].value_counts()/lbdf['tertiary_edu'].value_counts().sum())*100\n",
    "tert_perc.plot(kind='pie', explode = [0.1,0], figsize= (6,6), autopct='%1.2f%%', startangle = 90 , ylabel=\"\",\n",
    "            shadow = True)\n",
    "plt.title('Tertiary Education', fontsize = 15)"
   ]
  },
  {
   "cell_type": "markdown",
   "metadata": {},
   "source": [
    "### Labour"
   ]
  },
  {
   "cell_type": "code",
   "execution_count": 251,
   "metadata": {},
   "outputs": [
    {
     "name": "stdout",
     "output_type": "stream",
     "text": [
      "<class 'pandas.core.frame.DataFrame'>\n",
      "RangeIndex: 7073 entries, 0 to 7072\n",
      "Data columns (total 17 columns):\n",
      " #   Column             Non-Null Count  Dtype \n",
      "---  ------             --------------  ----- \n",
      " 0   highest_grade      7028 non-null   object\n",
      " 1   tertiary_edu       5375 non-null   object\n",
      " 2   job_in_feb         7073 non-null   object\n",
      " 3   work_in_feb        3768 non-null   object\n",
      " 4   bus_in_feb         3438 non-null   object\n",
      " 5   work_days_feb      3408 non-null   object\n",
      " 6   work_hours_feb     3141 non-null   object\n",
      " 7   take_home_pay_feb  3408 non-null   object\n",
      " 8   job_in_apr         6426 non-null   object\n",
      " 9   work_in_apr        4954 non-null   object\n",
      " 10  bus_in_apr         4769 non-null   object\n",
      " 11  work_days_apr      2359 non-null   object\n",
      " 12  work_hours_apr     1845 non-null   object\n",
      " 13  take_home_pay_apr  1727 non-null   object\n",
      " 14  return_to_job      4329 non-null   object\n",
      " 15  main_form_work     2753 non-null   object\n",
      " 16  usual_work         2359 non-null   object\n",
      "dtypes: object(17)\n",
      "memory usage: 939.5+ KB\n"
     ]
    }
   ],
   "source": [
    "lbdf.info()"
   ]
  },
  {
   "cell_type": "code",
   "execution_count": 252,
   "metadata": {},
   "outputs": [
    {
     "data": {
      "text/plain": [
       "1       NaN\n",
       "6       NaN\n",
       "8       NaN\n",
       "18      NaN\n",
       "32      NaN\n",
       "       ... \n",
       "7036    NaN\n",
       "7040    NaN\n",
       "7045    NaN\n",
       "7054    NaN\n",
       "7062    NaN\n",
       "Name: job_in_apr, Length: 647, dtype: object"
      ]
     },
     "execution_count": 252,
     "metadata": {},
     "output_type": "execute_result"
    }
   ],
   "source": [
    "lbdf.loc[lbdf['job_in_feb']==\"No, I'm retired\",'job_in_apr']"
   ]
  },
  {
   "cell_type": "markdown",
   "metadata": {},
   "source": [
    "As we can see respondents who answered that they were retired when asked about their job status in February, have missing values for their job status in April, we can fill these values in."
   ]
  },
  {
   "cell_type": "code",
   "execution_count": 253,
   "metadata": {},
   "outputs": [],
   "source": [
    "lbdf.loc[lbdf['job_in_feb']==\"No, I'm retired\",'job_in_apr'] = \"No, I'm Retired\""
   ]
  },
  {
   "cell_type": "code",
   "execution_count": 254,
   "metadata": {},
   "outputs": [],
   "source": [
    "lbdf['job_in_feb'] = lbdf['job_in_feb'].apply(replace_errors)\n",
    "lbdf['job_in_apr'] = lbdf['job_in_apr'].apply(replace_errors)"
   ]
  },
  {
   "cell_type": "code",
   "execution_count": 255,
   "metadata": {},
   "outputs": [
    {
     "data": {
      "image/png": "[encoded data removed]",
      "text/plain": [
       "<Figure size 720x576 with 2 Axes>"
      ]
     },
     "metadata": {},
     "output_type": "display_data"
    }
   ],
   "source": [
    "fig, [ax1,ax2] = plt.subplots(1,2, figsize=(10,8))\n",
    "\n",
    "emp_feb = lbdf['job_in_feb'].value_counts()/len(lbdf)*100\n",
    "ax1.pie(emp_feb, labels= ['Unemployed','Employed','Retired'], autopct='%1.2f%%',startangle = 90,explode = [0,0.1,0],shadow = True)\n",
    "ax1.set_title('Employment in February')\n",
    "\n",
    "emp_apr = lbdf['job_in_apr'].value_counts()/len(lbdf)*100\n",
    "ax2.pie(emp_apr, labels= ['Unemployed','Employed','Retired'], autopct='%1.2f%%',startangle = 90,explode = [0,0.1,0],shadow = True)\n",
    "ax2.set_title('Employment in April')\n",
    "plt.tight_layout()\n",
    "plt.show()"
   ]
  },
  {
   "cell_type": "markdown",
   "metadata": {},
   "source": [
    "As we can see there was a significatnt decrease in employment from February to April. Some respondents,however, may have only been doing part time work or were self-employed, let us see how these changed from February to April as well "
   ]
  },
  {
   "cell_type": "code",
   "execution_count": 256,
   "metadata": {},
   "outputs": [
    {
     "data": {
      "image/png": "[encoded data removed]",
      "text/plain": [
       "<Figure size 864x288 with 2 Axes>"
      ]
     },
     "metadata": {
      "needs_background": "light"
     },
     "output_type": "display_data"
    }
   ],
   "source": [
    "lbdf['work_in_feb'] = lbdf['work_in_feb'].apply(replace_errors)\n",
    "lbdf['work_in_apr'] = lbdf['work_in_apr'].apply(replace_errors)\n",
    "lbdf['bus_in_feb'] = lbdf['bus_in_feb'].apply(replace_errors)\n",
    "lbdf['bus_in_apr'] = lbdf['bus_in_apr'].apply(replace_errors)\n",
    "\n",
    "fig, [ax1,ax2] = plt.subplots(1,2, figsize=(12,4))\n",
    "\n",
    "work_in_feb  = lbdf[lbdf['work_in_feb']=='Yes']\n",
    "work_in_apr = lbdf[lbdf['work_in_apr']=='Yes']\n",
    "sns.barplot(x = ['Working in Feb','Working In Apr'], y = [len(work_in_feb),len(work_in_apr)], ax=ax1)\n",
    "ax1.set_title(\"Part-time Work\")\n",
    "\n",
    "bus_in_feb  = lbdf[lbdf['bus_in_feb']=='Yes']\n",
    "bus_in_apr = lbdf[lbdf['bus_in_apr']=='Yes']\n",
    "sns.barplot(x = ['Business in Feb','Business in Apr'], y = [len(bus_in_feb),len(bus_in_apr)], ax=ax2)\n",
    "ax2.set_title(\"Self-Employed\")\n",
    "\n",
    "plt.show()"
   ]
  },
  {
   "cell_type": "markdown",
   "metadata": {},
   "source": [
    "We can see that not only was there a significant drop in employment from February to April but there was also a significant drop in the number of respondents who were able to find part-time work or to do business. "
   ]
  },
  {
   "cell_type": "markdown",
   "metadata": {},
   "source": [
    "Although some people were able to keep there jobs let us examine how the number of days per week and number of hours per day that these people worked changed,."
   ]
  },
  {
   "cell_type": "code",
   "execution_count": 257,
   "metadata": {},
   "outputs": [
    {
     "data": {
      "image/png": "[encoded data removed]",
      "text/plain": [
       "<Figure size 720x432 with 1 Axes>"
      ]
     },
     "metadata": {
      "needs_background": "light"
     },
     "output_type": "display_data"
    }
   ],
   "source": [
    "lbdf['work_days_feb'] = lbdf['work_days_feb'].apply(replace_errors)\n",
    "lbdf['work_days_apr'] = lbdf['work_days_apr'].apply(replace_errors)\n",
    "#Don't want to consider people who were on leave \n",
    "work_days_feb = lbdf.loc[lbdf['work_days_feb']!='I was on leave', 'work_days_feb']\n",
    "work_days_feb = work_days_feb.value_counts().sort_index()/work_days_feb.value_counts().sum()\n",
    "\n",
    "work_days_apr = pd.to_numeric(lbdf.loc[lbdf['work_days_apr']!='I was on leave', 'work_days_apr'])\n",
    "work_days_apr = work_days_apr.value_counts().sort_index()/work_days_apr.value_counts().sum()\n",
    "\n",
    "plt.figure(figsize=(10,6))\n",
    "plt.bar(x = work_days_feb.index, height = work_days_feb.values, alpha=0.5, label = 'February')\n",
    "plt.bar(x = work_days_apr.index, height = work_days_apr.values, alpha=0.5, label = 'April')\n",
    "plt.legend(loc=2)\n",
    "plt.title('Number of Work Days per Week')\n",
    "plt.xlabel('Number of Work Days')\n",
    "plt.ylabel('PMF')\n",
    "plt.show()"
   ]
  },
  {
   "cell_type": "markdown",
   "metadata": {},
   "source": [
    "We can see that there was definitely a decrease in the number of days people were working per week. Let us explore how the numebr of hours they worked per day changed as well."
   ]
  },
  {
   "cell_type": "code",
   "execution_count": 258,
   "metadata": {},
   "outputs": [
    {
     "data": {
      "image/png": "[encoded data removed]",
      "text/plain": [
       "<Figure size 1080x432 with 1 Axes>"
      ]
     },
     "metadata": {
      "needs_background": "light"
     },
     "output_type": "display_data"
    }
   ],
   "source": [
    "lbdf['work_hours_feb'] = lbdf['work_hours_feb'].apply(replace_errors)\n",
    "lbdf['work_hours_apr'] = lbdf['work_hours_apr'].apply(replace_errors)\n",
    "\n",
    "work_hours_feb = pd.to_numeric(lbdf['work_hours_feb']).value_counts().sort_index()\n",
    "work_hours_apr = pd.to_numeric(lbdf['work_hours_apr']).value_counts().sort_index()\n",
    "\n",
    "work_hours_feb = work_hours_feb/ work_hours_feb.sum()\n",
    "work_hours_apr = work_hours_apr/ work_hours_apr.sum()\n",
    "\n",
    "plt.figure(figsize=(15,6))\n",
    "plt.bar(x = work_hours_feb.index, height = work_hours_feb.values, alpha=0.5, label = 'February')\n",
    "plt.bar(x = work_hours_apr.index, height = work_hours_apr.values, alpha=0.5, label = 'April')\n",
    "plt.legend(loc=2)\n",
    "plt.title('Number of Hours per Work Day')\n",
    "plt.xlabel('Number of Work Days')\n",
    "plt.ylabel('PMF')\n",
    "plt.show()"
   ]
  },
  {
   "cell_type": "markdown",
   "metadata": {},
   "source": [
    "We can see that the number of hours people were working also decreaesed in most cases with a significant increase in the amount of people working for less than an hour a day. "
   ]
  },
  {
   "cell_type": "markdown",
   "metadata": {},
   "source": [
    "For those people who unfortunately did lose their job between february and april, let us see how many of them said that they would be able to return to work in the 4 weeks after they were interviewed."
   ]
  },
  {
   "cell_type": "code",
   "execution_count": 259,
   "metadata": {},
   "outputs": [
    {
     "data": {
      "image/png": "[encoded data removed]",
      "text/plain": [
       "<Figure size 432x432 with 1 Axes>"
      ]
     },
     "metadata": {},
     "output_type": "display_data"
    }
   ],
   "source": [
    "lbdf['return_to_job'] = lbdf['return_to_job'].apply(replace_errors)\n",
    "lost_job = lbdf[(lbdf['job_in_feb']=='Yes') & (lbdf['job_in_apr']=='No')]\n",
    "return_to_job = (lost_job['return_to_job'].value_counts()/ lost_job['return_to_job'].value_counts().sum())*100\n",
    "\n",
    "return_to_job.plot(kind='pie', explode = [0.1,0], figsize= (6,6), autopct='%1.2f%%', startangle = 90 , ylabel=\"\",\n",
    "            shadow = True)\n",
    "plt.title(\"Job to return to in next 4 weeks\")\n",
    "plt.show()"
   ]
  },
  {
   "cell_type": "code",
   "execution_count": 260,
   "metadata": {},
   "outputs": [
    {
     "data": {
      "image/png": "[encoded data removed]",
      "text/plain": [
       "<Figure size 720x432 with 1 Axes>"
      ]
     },
     "metadata": {
      "needs_background": "light"
     },
     "output_type": "display_data"
    }
   ],
   "source": [
    "#First we replace errors, remove null values and make the target column numeric\n",
    "lbdf['take_home_pay_feb'] = lbdf['take_home_pay_feb'].apply(replace_errors)\n",
    "pay_in_feb = pd.to_numeric(lbdf.loc[lbdf['take_home_pay_feb'].notnull() ,'take_home_pay_feb'])\n",
    "lbdf['take_home_pay_apr'] = lbdf['take_home_pay_apr'].apply(replace_errors)\n",
    "pay_in_apr = pd.to_numeric(lbdf.loc[lbdf['take_home_pay_apr'].notnull() ,'take_home_pay_apr'])\n",
    "\n",
    "#Due to the presence of several outliers, the original distirbution is heavily skewed \n",
    "#By taking a subset of our data which lies within 1.5 * Interquartile Range of the Median we are able \n",
    "#To create a better visual representation of the take home pay distribution \n",
    "pay_in_feb = pay_in_feb[pay_in_feb<pay_in_feb.quantile(0.75)]\n",
    "pay_in_apr = pay_in_feb[pay_in_feb<pay_in_feb.quantile(0.75)]\n",
    "\n",
    "#Now the creation of a dataframe allows us to use Seaborns boxplot functionality \n",
    "feb_df = pd.DataFrame()\n",
    "feb_df['Pay'] = pay_in_feb\n",
    "feb_df['Month'] = 'Feb'\n",
    "apr_df = pd.DataFrame()\n",
    "apr_df['Pay'] = pay_in_apr\n",
    "apr_df['Month'] = 'Apr'\n",
    "pay_df = pd.concat([feb_df,apr_df])\n",
    "\n",
    "#Creating the Plot\n",
    "plt.figure(figsize=(10,6))\n",
    "sns.boxplot(y = 'Month', x = 'Pay', data = pay_df)\n",
    "plt.title('Distribution of Take Home Pay')\n",
    "plt.show()"
   ]
  },
  {
   "cell_type": "markdown",
   "metadata": {},
   "source": [
    "From these distributions we can clearly see that the median take home pay was reduced."
   ]
  },
  {
   "cell_type": "code",
   "execution_count": 261,
   "metadata": {},
   "outputs": [
    {
     "data": {
      "image/png": "[encoded data removed]",
      "text/plain": [
       "<Figure size 720x432 with 1 Axes>"
      ]
     },
     "metadata": {
      "needs_background": "light"
     },
     "output_type": "display_data"
    }
   ],
   "source": [
    "lbdf['usual_work'] = lbdf['usual_work'].apply(replace_errors)\n",
    "usual_work = lbdf['usual_work'].value_counts().sort_values(ascending=False)\n",
    "plt.figure(figsize=(10,6))\n",
    "sns.barplot(y = usual_work.index, x = usual_work.values)\n",
    "plt.xlabel('Count')\n",
    "plt.title(\"Usual Work\")\n",
    "plt.show()"
   ]
  },
  {
   "cell_type": "code",
   "execution_count": 308,
   "metadata": {},
   "outputs": [
    {
     "name": "stdout",
     "output_type": "stream",
     "text": [
      "<class 'pandas.core.frame.DataFrame'>\n",
      "RangeIndex: 7073 entries, 0 to 7072\n",
      "Data columns (total 17 columns):\n",
      " #   Column             Non-Null Count  Dtype \n",
      "---  ------             --------------  ----- \n",
      " 0   highest_grade      7028 non-null   object\n",
      " 1   tertiary_edu       5375 non-null   object\n",
      " 2   job_in_feb         6997 non-null   object\n",
      " 3   work_in_feb        3684 non-null   object\n",
      " 4   bus_in_feb         3356 non-null   object\n",
      " 5   work_days_feb      3168 non-null   object\n",
      " 6   work_hours_feb     3018 non-null   object\n",
      " 7   take_home_pay_feb  2653 non-null   object\n",
      " 8   job_in_apr         6976 non-null   object\n",
      " 9   work_in_apr        4833 non-null   object\n",
      " 10  bus_in_apr         4652 non-null   object\n",
      " 11  work_days_apr      2142 non-null   object\n",
      " 12  work_hours_apr     1790 non-null   object\n",
      " 13  take_home_pay_apr  1402 non-null   object\n",
      " 14  return_to_job      3977 non-null   object\n",
      " 15  main_form_work     2753 non-null   object\n",
      " 16  usual_work         2313 non-null   object\n",
      "dtypes: object(17)\n",
      "memory usage: 939.5+ KB\n"
     ]
    }
   ],
   "source": [
    "lbdf.info()"
   ]
  },
  {
   "cell_type": "markdown",
   "metadata": {},
   "source": [
    "# 3. Welfare"
   ]
  },
  {
   "cell_type": "code",
   "execution_count": 262,
   "metadata": {},
   "outputs": [],
   "source": [
    "# Philani"
   ]
  },
  {
   "cell_type": "code",
   "execution_count": null,
   "metadata": {},
   "outputs": [],
   "source": []
  },
  {
   "cell_type": "code",
   "execution_count": null,
   "metadata": {},
   "outputs": [],
   "source": []
  },
  {
   "cell_type": "code",
   "execution_count": null,
   "metadata": {},
   "outputs": [],
   "source": []
  },
  {
   "cell_type": "code",
   "execution_count": null,
   "metadata": {},
   "outputs": [],
   "source": []
  },
  {
   "cell_type": "code",
   "execution_count": null,
   "metadata": {},
   "outputs": [],
   "source": []
  },
  {
   "cell_type": "code",
   "execution_count": null,
   "metadata": {},
   "outputs": [],
   "source": []
  },
  {
   "cell_type": "markdown",
   "metadata": {},
   "source": [
    " Data Cleaning"
   ]
  },
  {
   "cell_type": "markdown",
   "metadata": {},
   "source": [
    "One potential model we are looking at contructing is logistic regression model which can predict who was most likely to lose their jobs upon the initial impact of COVID19. We will use variables from both the labour and the demographics section. These variables include:\n",
    "* Respondents Age\n",
    "* Highest School Grade Completed \n",
    "* Which province they were in during lockdown \n",
    "* Whether or not they moved provinces \n",
    "* The amount of work they did \n",
    "* The amount they were paid \n",
    "* The usual work they did \n",
    "\n",
    "And these willl all be used to predict whether or not someone lost their job. "
   ]
  },
  {
   "cell_type": "code",
   "execution_count": 263,
   "metadata": {},
   "outputs": [],
   "source": [
    "model_df = pd.DataFrame()\n",
    "\n",
    "model_df['Grade'] = lbdf['highest_grade']\n",
    "model_df['YearOfBirth'] = raw_data['w1_nc_dob_y']\n",
    "model_df['MovedProvince'] = raw_data['w1_nc_moveprov']"
   ]
  },
  {
   "cell_type": "code",
   "execution_count": 264,
   "metadata": {},
   "outputs": [],
   "source": [
    "def check_province(moved, prov_dur, curr_prov):\n",
    "    if moved == \"Yes\":\n",
    "        return prov_dur\n",
    "    else:\n",
    "        return curr_prov"
   ]
  },
  {
   "cell_type": "code",
   "execution_count": 265,
   "metadata": {},
   "outputs": [],
   "source": [
    "model_df['Province'] = np.vectorize(check_province)(raw_data[\"w1_nc_moveprov\"],raw_data[\"w1_nc_lvdurprov\"],raw_data[\"w1_nc_prov\"])"
   ]
  },
  {
   "cell_type": "code",
   "execution_count": 266,
   "metadata": {},
   "outputs": [],
   "source": [
    "model_df['DaysWorked'] = lbdf['work_days_feb']\n",
    "model_df['HoursWorked'] = lbdf['work_hours_feb']\n",
    "model_df['Income'] = lbdf['take_home_pay_feb']\n",
    "model_df['UsualWork'] = lbdf['usual_work']"
   ]
  },
  {
   "cell_type": "code",
   "execution_count": 267,
   "metadata": {},
   "outputs": [],
   "source": [
    "def check_labour(jobfeb, workfeb, busfeb):\n",
    "    if jobfeb == \"Yes\" or workfeb == \"Yes\" or busfeb ==\"Yes\":\n",
    "        return 1 \n",
    "    else:\n",
    "        return 0 "
   ]
  },
  {
   "cell_type": "code",
   "execution_count": 268,
   "metadata": {},
   "outputs": [],
   "source": [
    "model_df['HadLabour'] = np.vectorize(check_labour)(lbdf['job_in_feb'],lbdf['work_in_feb'],lbdf['bus_in_feb'])"
   ]
  },
  {
   "cell_type": "code",
   "execution_count": 269,
   "metadata": {},
   "outputs": [],
   "source": [
    "def lost_job(jobfeb, workfeb, busfeb, jobapr,workapr,busapr):\n",
    "    if(jobfeb==\"Yes\" and jobapr==\"No\"):\n",
    "        return 1\n",
    "    elif(workfeb==\"Yes\" and workapr==\"No\"):\n",
    "        return 1 \n",
    "    elif(busfeb==\"Yes\" and busapr==\"No\"):\n",
    "        return 1 \n",
    "    else:\n",
    "        return 0 "
   ]
  },
  {
   "cell_type": "code",
   "execution_count": 270,
   "metadata": {},
   "outputs": [],
   "source": [
    "model_df['LostLabour'] = np.vectorize(lost_job)(lbdf['job_in_feb'],lbdf['work_in_feb'],lbdf['bus_in_feb'],lbdf['job_in_apr'],lbdf['work_in_apr'],lbdf['bus_in_apr'])"
   ]
  },
  {
   "cell_type": "code",
   "execution_count": 271,
   "metadata": {},
   "outputs": [
    {
     "data": {
      "text/html": [
       "<div>\n",
       "<style scoped>\n",
       "    .dataframe tbody tr th:only-of-type {\n",
       "        vertical-align: middle;\n",
       "    }\n",
       "\n",
       "    .dataframe tbody tr th {\n",
       "        vertical-align: top;\n",
       "    }\n",
       "\n",
       "    .dataframe thead th {\n",
       "        text-align: right;\n",
       "    }\n",
       "</style>\n",
       "<table border=\"1\" class=\"dataframe\">\n",
       "  <thead>\n",
       "    <tr style=\"text-align: right;\">\n",
       "      <th></th>\n",
       "      <th>Grade</th>\n",
       "      <th>YearOfBirth</th>\n",
       "      <th>MovedProvince</th>\n",
       "      <th>Province</th>\n",
       "      <th>DaysWorked</th>\n",
       "      <th>HoursWorked</th>\n",
       "      <th>Income</th>\n",
       "      <th>UsualWork</th>\n",
       "      <th>HadLabour</th>\n",
       "      <th>LostLabour</th>\n",
       "    </tr>\n",
       "  </thead>\n",
       "  <tbody>\n",
       "    <tr>\n",
       "      <th>0</th>\n",
       "      <td>Grade 9</td>\n",
       "      <td>1981.0</td>\n",
       "      <td>No</td>\n",
       "      <td>Gauteng</td>\n",
       "      <td>NaN</td>\n",
       "      <td>NaN</td>\n",
       "      <td>180.0</td>\n",
       "      <td>NaN</td>\n",
       "      <td>1</td>\n",
       "      <td>1</td>\n",
       "    </tr>\n",
       "    <tr>\n",
       "      <th>1</th>\n",
       "      <td>Grade 0</td>\n",
       "      <td>1948.0</td>\n",
       "      <td>No</td>\n",
       "      <td>KwaZulu-Natal</td>\n",
       "      <td>NaN</td>\n",
       "      <td>NaN</td>\n",
       "      <td>NaN</td>\n",
       "      <td>NaN</td>\n",
       "      <td>0</td>\n",
       "      <td>0</td>\n",
       "    </tr>\n",
       "    <tr>\n",
       "      <th>2</th>\n",
       "      <td>Grade 10</td>\n",
       "      <td>1990.0</td>\n",
       "      <td>No</td>\n",
       "      <td>Gauteng</td>\n",
       "      <td>NaN</td>\n",
       "      <td>NaN</td>\n",
       "      <td>NaN</td>\n",
       "      <td>NaN</td>\n",
       "      <td>0</td>\n",
       "      <td>0</td>\n",
       "    </tr>\n",
       "    <tr>\n",
       "      <th>3</th>\n",
       "      <td>Grade 10</td>\n",
       "      <td>1972.0</td>\n",
       "      <td>No</td>\n",
       "      <td>Gauteng</td>\n",
       "      <td>3.0</td>\n",
       "      <td>5.0</td>\n",
       "      <td>900.0</td>\n",
       "      <td>Elementary occupations</td>\n",
       "      <td>1</td>\n",
       "      <td>1</td>\n",
       "    </tr>\n",
       "    <tr>\n",
       "      <th>4</th>\n",
       "      <td>Grade 9</td>\n",
       "      <td>1971.0</td>\n",
       "      <td>No</td>\n",
       "      <td>Gauteng</td>\n",
       "      <td>NaN</td>\n",
       "      <td>NaN</td>\n",
       "      <td>NaN</td>\n",
       "      <td>NaN</td>\n",
       "      <td>0</td>\n",
       "      <td>0</td>\n",
       "    </tr>\n",
       "  </tbody>\n",
       "</table>\n",
       "</div>"
      ],
      "text/plain": [
       "      Grade YearOfBirth MovedProvince       Province DaysWorked HoursWorked  \\\n",
       "0   Grade 9      1981.0            No        Gauteng        NaN         NaN   \n",
       "1   Grade 0      1948.0            No  KwaZulu-Natal        NaN         NaN   \n",
       "2  Grade 10      1990.0            No        Gauteng        NaN         NaN   \n",
       "3  Grade 10      1972.0            No        Gauteng        3.0         5.0   \n",
       "4   Grade 9      1971.0            No        Gauteng        NaN         NaN   \n",
       "\n",
       "  Income               UsualWork  HadLabour  LostLabour  \n",
       "0  180.0                     NaN          1           1  \n",
       "1    NaN                     NaN          0           0  \n",
       "2    NaN                     NaN          0           0  \n",
       "3  900.0  Elementary occupations          1           1  \n",
       "4    NaN                     NaN          0           0  "
      ]
     },
     "execution_count": 271,
     "metadata": {},
     "output_type": "execute_result"
    }
   ],
   "source": [
    "model_df.head()"
   ]
  },
  {
   "cell_type": "markdown",
   "metadata": {},
   "source": [
    "We only want to look at the cases where they did have some sort job/work/business in Feb"
   ]
  },
  {
   "cell_type": "code",
   "execution_count": 272,
   "metadata": {},
   "outputs": [
    {
     "data": {
      "text/html": [
       "<div>\n",
       "<style scoped>\n",
       "    .dataframe tbody tr th:only-of-type {\n",
       "        vertical-align: middle;\n",
       "    }\n",
       "\n",
       "    .dataframe tbody tr th {\n",
       "        vertical-align: top;\n",
       "    }\n",
       "\n",
       "    .dataframe thead th {\n",
       "        text-align: right;\n",
       "    }\n",
       "</style>\n",
       "<table border=\"1\" class=\"dataframe\">\n",
       "  <thead>\n",
       "    <tr style=\"text-align: right;\">\n",
       "      <th></th>\n",
       "      <th>Grade</th>\n",
       "      <th>YearOfBirth</th>\n",
       "      <th>MovedProvince</th>\n",
       "      <th>Province</th>\n",
       "      <th>DaysWorked</th>\n",
       "      <th>HoursWorked</th>\n",
       "      <th>Income</th>\n",
       "      <th>UsualWork</th>\n",
       "      <th>LostLabour</th>\n",
       "    </tr>\n",
       "  </thead>\n",
       "  <tbody>\n",
       "    <tr>\n",
       "      <th>0</th>\n",
       "      <td>Grade 9</td>\n",
       "      <td>1981.0</td>\n",
       "      <td>No</td>\n",
       "      <td>Gauteng</td>\n",
       "      <td>NaN</td>\n",
       "      <td>NaN</td>\n",
       "      <td>180.0</td>\n",
       "      <td>NaN</td>\n",
       "      <td>1</td>\n",
       "    </tr>\n",
       "    <tr>\n",
       "      <th>3</th>\n",
       "      <td>Grade 10</td>\n",
       "      <td>1972.0</td>\n",
       "      <td>No</td>\n",
       "      <td>Gauteng</td>\n",
       "      <td>3.0</td>\n",
       "      <td>5.0</td>\n",
       "      <td>900.0</td>\n",
       "      <td>Elementary occupations</td>\n",
       "      <td>1</td>\n",
       "    </tr>\n",
       "    <tr>\n",
       "      <th>9</th>\n",
       "      <td>Grade 10</td>\n",
       "      <td>1989.0</td>\n",
       "      <td>No</td>\n",
       "      <td>Gauteng</td>\n",
       "      <td>6.0</td>\n",
       "      <td>10.0</td>\n",
       "      <td>8000.0</td>\n",
       "      <td>NaN</td>\n",
       "      <td>1</td>\n",
       "    </tr>\n",
       "    <tr>\n",
       "      <th>10</th>\n",
       "      <td>Grade 12</td>\n",
       "      <td>1972.0</td>\n",
       "      <td>No</td>\n",
       "      <td>KwaZulu-Natal</td>\n",
       "      <td>3.0</td>\n",
       "      <td>8.0</td>\n",
       "      <td>4600.0</td>\n",
       "      <td>NaN</td>\n",
       "      <td>1</td>\n",
       "    </tr>\n",
       "    <tr>\n",
       "      <th>15</th>\n",
       "      <td>Grade 12</td>\n",
       "      <td>1968.0</td>\n",
       "      <td>No</td>\n",
       "      <td>Gauteng</td>\n",
       "      <td>5.0</td>\n",
       "      <td>8.0</td>\n",
       "      <td>25000.0</td>\n",
       "      <td>Technicians and associate professionals</td>\n",
       "      <td>0</td>\n",
       "    </tr>\n",
       "  </tbody>\n",
       "</table>\n",
       "</div>"
      ],
      "text/plain": [
       "       Grade YearOfBirth MovedProvince       Province DaysWorked HoursWorked  \\\n",
       "0    Grade 9      1981.0            No        Gauteng        NaN         NaN   \n",
       "3   Grade 10      1972.0            No        Gauteng        3.0         5.0   \n",
       "9   Grade 10      1989.0            No        Gauteng        6.0        10.0   \n",
       "10  Grade 12      1972.0            No  KwaZulu-Natal        3.0         8.0   \n",
       "15  Grade 12      1968.0            No        Gauteng        5.0         8.0   \n",
       "\n",
       "     Income                                UsualWork  LostLabour  \n",
       "0     180.0                                      NaN           1  \n",
       "3     900.0                   Elementary occupations           1  \n",
       "9    8000.0                                      NaN           1  \n",
       "10   4600.0                                      NaN           1  \n",
       "15  25000.0  Technicians and associate professionals           0  "
      ]
     },
     "execution_count": 272,
     "metadata": {},
     "output_type": "execute_result"
    }
   ],
   "source": [
    "model_df = model_df.loc[model_df['HadLabour']==1,:]\n",
    "model_df = model_df.drop(\"HadLabour\",axis=1)\n",
    "model_df.head()"
   ]
  },
  {
   "cell_type": "markdown",
   "metadata": {},
   "source": [
    "## 4.1 - Missing Data"
   ]
  },
  {
   "cell_type": "code",
   "execution_count": 273,
   "metadata": {},
   "outputs": [
    {
     "data": {
      "text/plain": [
       "Grade             0.373134\n",
       "YearOfBirth       0.031095\n",
       "MovedProvince     0.000000\n",
       "Province          0.000000\n",
       "DaysWorked        4.788557\n",
       "HoursWorked       9.172886\n",
       "Income           20.926617\n",
       "UsualWork        40.049751\n",
       "LostLabour        0.000000\n",
       "dtype: float64"
      ]
     },
     "execution_count": 273,
     "metadata": {},
     "output_type": "execute_result"
    }
   ],
   "source": [
    "(model_df.isnull().sum()/ len(model_df))*100"
   ]
  },
  {
   "cell_type": "markdown",
   "metadata": {},
   "source": [
    "Only 0.37% of our sample is missing grade"
   ]
  },
  {
   "cell_type": "code",
   "execution_count": 274,
   "metadata": {},
   "outputs": [],
   "source": [
    "model_df = model_df[model_df['Grade'].notnull()]"
   ]
  },
  {
   "cell_type": "markdown",
   "metadata": {},
   "source": [
    "Because Grade is an ordered categroical feature we will want some way to order them, unfortunately the inclusion of the NTC and NCV levels makes this difficult as there is no direct grade equivalent for these qualifications. Let us see how many respondents in our sample have these qualifications "
   ]
  },
  {
   "cell_type": "code",
   "execution_count": 275,
   "metadata": {},
   "outputs": [
    {
     "data": {
      "text/plain": [
       "1.9038701622971288"
      ]
     },
     "execution_count": 275,
     "metadata": {},
     "output_type": "execute_result"
    }
   ],
   "source": [
    "not_standard  = model_df['Grade'].value_counts().sort_index()[-6:]\n",
    "(not_standard.sum()/len(model_df))*100"
   ]
  },
  {
   "cell_type": "markdown",
   "metadata": {},
   "source": [
    "Only about 2% of sample have these qualifications. To allows us to use this ordering we will remove them from the sample."
   ]
  },
  {
   "cell_type": "code",
   "execution_count": 276,
   "metadata": {},
   "outputs": [],
   "source": [
    "model_df = model_df.loc[(model_df['Grade'] != 'NCV 2') & (model_df['Grade'] != 'NCV 3') & (model_df['Grade'] != 'NCV 4')& (model_df['Grade'] != 'NTC 1')&(model_df['Grade'] != 'NTC 2') &(model_df['Grade'] != 'NTC 3')]"
   ]
  },
  {
   "cell_type": "code",
   "execution_count": 277,
   "metadata": {},
   "outputs": [
    {
     "data": {
      "text/plain": [
       "0.0315955766192733"
      ]
     },
     "execution_count": 277,
     "metadata": {},
     "output_type": "execute_result"
    }
   ],
   "source": [
    "(model_df['YearOfBirth'].isnull().sum()/ len(model_df))*100"
   ]
  },
  {
   "cell_type": "markdown",
   "metadata": {},
   "source": [
    "Less than 0.05% of our sample have missing birth years let us drop those null values as well "
   ]
  },
  {
   "cell_type": "code",
   "execution_count": 278,
   "metadata": {},
   "outputs": [],
   "source": [
    "model_df = model_df[model_df['YearOfBirth'].notnull()]"
   ]
  },
  {
   "cell_type": "code",
   "execution_count": 281,
   "metadata": {},
   "outputs": [
    {
     "data": {
      "text/plain": [
       "5.0               1466\n",
       "7.0                370\n",
       "4.0                297\n",
       "6.0                286\n",
       "2.0                235\n",
       "3.0                231\n",
       "1.0                 63\n",
       "0.0                 44\n",
       "I was on leave      20\n",
       "Name: DaysWorked, dtype: int64"
      ]
     },
     "execution_count": 281,
     "metadata": {},
     "output_type": "execute_result"
    }
   ],
   "source": [
    "model_df['DaysWorked'].value_counts()"
   ]
  },
  {
   "cell_type": "markdown",
   "metadata": {},
   "source": [
    "People who were on leave intefer with this being a numerical values so we will get rid of them "
   ]
  },
  {
   "cell_type": "code",
   "execution_count": 285,
   "metadata": {},
   "outputs": [],
   "source": [
    "model_df = model_df[model_df['DaysWorked']!='I was on leave']"
   ]
  },
  {
   "cell_type": "code",
   "execution_count": 289,
   "metadata": {},
   "outputs": [
    {
     "data": {
      "text/plain": [
       "4.695855614973262"
      ]
     },
     "execution_count": 289,
     "metadata": {},
     "output_type": "execute_result"
    }
   ],
   "source": [
    "pd.to_numeric(model_df['DaysWorked']).mean()"
   ]
  },
  {
   "cell_type": "markdown",
   "metadata": {},
   "source": [
    "We can see the average number of days worked is closest to 5, lets impute these values ."
   ]
  },
  {
   "cell_type": "code",
   "execution_count": 290,
   "metadata": {},
   "outputs": [
    {
     "data": {
      "text/html": [
       "<div>\n",
       "<style scoped>\n",
       "    .dataframe tbody tr th:only-of-type {\n",
       "        vertical-align: middle;\n",
       "    }\n",
       "\n",
       "    .dataframe tbody tr th {\n",
       "        vertical-align: top;\n",
       "    }\n",
       "\n",
       "    .dataframe thead th {\n",
       "        text-align: right;\n",
       "    }\n",
       "</style>\n",
       "<table border=\"1\" class=\"dataframe\">\n",
       "  <thead>\n",
       "    <tr style=\"text-align: right;\">\n",
       "      <th></th>\n",
       "      <th>Grade</th>\n",
       "      <th>YearOfBirth</th>\n",
       "      <th>MovedProvince</th>\n",
       "      <th>Province</th>\n",
       "      <th>DaysWorked</th>\n",
       "      <th>HoursWorked</th>\n",
       "      <th>Income</th>\n",
       "      <th>UsualWork</th>\n",
       "      <th>LostLabour</th>\n",
       "    </tr>\n",
       "  </thead>\n",
       "  <tbody>\n",
       "    <tr>\n",
       "      <th>0</th>\n",
       "      <td>Grade 9</td>\n",
       "      <td>1981.0</td>\n",
       "      <td>No</td>\n",
       "      <td>Gauteng</td>\n",
       "      <td>NaN</td>\n",
       "      <td>NaN</td>\n",
       "      <td>180.0</td>\n",
       "      <td>NaN</td>\n",
       "      <td>1</td>\n",
       "    </tr>\n",
       "    <tr>\n",
       "      <th>77</th>\n",
       "      <td>Grade 10</td>\n",
       "      <td>1976.0</td>\n",
       "      <td>No</td>\n",
       "      <td>Limpopo</td>\n",
       "      <td>NaN</td>\n",
       "      <td>NaN</td>\n",
       "      <td>980.0</td>\n",
       "      <td>NaN</td>\n",
       "      <td>0</td>\n",
       "    </tr>\n",
       "    <tr>\n",
       "      <th>119</th>\n",
       "      <td>Grade 11</td>\n",
       "      <td>1977.0</td>\n",
       "      <td>No</td>\n",
       "      <td>Gauteng</td>\n",
       "      <td>NaN</td>\n",
       "      <td>NaN</td>\n",
       "      <td>1300.0</td>\n",
       "      <td>NaN</td>\n",
       "      <td>1</td>\n",
       "    </tr>\n",
       "    <tr>\n",
       "      <th>123</th>\n",
       "      <td>Grade 12</td>\n",
       "      <td>1981.0</td>\n",
       "      <td>No</td>\n",
       "      <td>Free State</td>\n",
       "      <td>NaN</td>\n",
       "      <td>NaN</td>\n",
       "      <td>250.0</td>\n",
       "      <td>NaN</td>\n",
       "      <td>1</td>\n",
       "    </tr>\n",
       "    <tr>\n",
       "      <th>153</th>\n",
       "      <td>Grade 12</td>\n",
       "      <td>1971.0</td>\n",
       "      <td>No</td>\n",
       "      <td>Mpumalanga</td>\n",
       "      <td>NaN</td>\n",
       "      <td>NaN</td>\n",
       "      <td>12.0</td>\n",
       "      <td>Service and sales workers</td>\n",
       "      <td>0</td>\n",
       "    </tr>\n",
       "    <tr>\n",
       "      <th>...</th>\n",
       "      <td>...</td>\n",
       "      <td>...</td>\n",
       "      <td>...</td>\n",
       "      <td>...</td>\n",
       "      <td>...</td>\n",
       "      <td>...</td>\n",
       "      <td>...</td>\n",
       "      <td>...</td>\n",
       "      <td>...</td>\n",
       "    </tr>\n",
       "    <tr>\n",
       "      <th>6705</th>\n",
       "      <td>Grade 2</td>\n",
       "      <td>1986.0</td>\n",
       "      <td>No</td>\n",
       "      <td>Eastern Cape</td>\n",
       "      <td>NaN</td>\n",
       "      <td>NaN</td>\n",
       "      <td>0.0</td>\n",
       "      <td>NaN</td>\n",
       "      <td>0</td>\n",
       "    </tr>\n",
       "    <tr>\n",
       "      <th>6761</th>\n",
       "      <td>Grade 12</td>\n",
       "      <td>1990.0</td>\n",
       "      <td>Yes</td>\n",
       "      <td>Western Cape</td>\n",
       "      <td>NaN</td>\n",
       "      <td>NaN</td>\n",
       "      <td>NaN</td>\n",
       "      <td>Craft and related trades workers</td>\n",
       "      <td>0</td>\n",
       "    </tr>\n",
       "    <tr>\n",
       "      <th>6958</th>\n",
       "      <td>Grade 11</td>\n",
       "      <td>1978.0</td>\n",
       "      <td>No</td>\n",
       "      <td>Northern Cape</td>\n",
       "      <td>NaN</td>\n",
       "      <td>NaN</td>\n",
       "      <td>600.0</td>\n",
       "      <td>Elementary occupations</td>\n",
       "      <td>0</td>\n",
       "    </tr>\n",
       "    <tr>\n",
       "      <th>6985</th>\n",
       "      <td>Grade 6</td>\n",
       "      <td>1982.0</td>\n",
       "      <td>No</td>\n",
       "      <td>KwaZulu-Natal</td>\n",
       "      <td>NaN</td>\n",
       "      <td>NaN</td>\n",
       "      <td>NaN</td>\n",
       "      <td>NaN</td>\n",
       "      <td>1</td>\n",
       "    </tr>\n",
       "    <tr>\n",
       "      <th>7041</th>\n",
       "      <td>Grade 12</td>\n",
       "      <td>1983.0</td>\n",
       "      <td>No</td>\n",
       "      <td>Eastern Cape</td>\n",
       "      <td>NaN</td>\n",
       "      <td>NaN</td>\n",
       "      <td>NaN</td>\n",
       "      <td>Service and sales workers</td>\n",
       "      <td>0</td>\n",
       "    </tr>\n",
       "  </tbody>\n",
       "</table>\n",
       "<p>152 rows × 9 columns</p>\n",
       "</div>"
      ],
      "text/plain": [
       "         Grade YearOfBirth MovedProvince       Province DaysWorked  \\\n",
       "0      Grade 9      1981.0            No        Gauteng        NaN   \n",
       "77    Grade 10      1976.0            No        Limpopo        NaN   \n",
       "119   Grade 11      1977.0            No        Gauteng        NaN   \n",
       "123   Grade 12      1981.0            No     Free State        NaN   \n",
       "153   Grade 12      1971.0            No     Mpumalanga        NaN   \n",
       "...        ...         ...           ...            ...        ...   \n",
       "6705   Grade 2      1986.0            No   Eastern Cape        NaN   \n",
       "6761  Grade 12      1990.0           Yes   Western Cape        NaN   \n",
       "6958  Grade 11      1978.0            No  Northern Cape        NaN   \n",
       "6985   Grade 6      1982.0            No  KwaZulu-Natal        NaN   \n",
       "7041  Grade 12      1983.0            No   Eastern Cape        NaN   \n",
       "\n",
       "     HoursWorked  Income                         UsualWork  LostLabour  \n",
       "0            NaN   180.0                               NaN           1  \n",
       "77           NaN   980.0                               NaN           0  \n",
       "119          NaN  1300.0                               NaN           1  \n",
       "123          NaN   250.0                               NaN           1  \n",
       "153          NaN    12.0         Service and sales workers           0  \n",
       "...          ...     ...                               ...         ...  \n",
       "6705         NaN     0.0                               NaN           0  \n",
       "6761         NaN     NaN  Craft and related trades workers           0  \n",
       "6958         NaN   600.0            Elementary occupations           0  \n",
       "6985         NaN     NaN                               NaN           1  \n",
       "7041         NaN     NaN         Service and sales workers           0  \n",
       "\n",
       "[152 rows x 9 columns]"
      ]
     },
     "execution_count": 290,
     "metadata": {},
     "output_type": "execute_result"
    }
   ],
   "source": [
    "model_df.loc[model_df['DaysWorked'].isnull()]"
   ]
  },
  {
   "cell_type": "code",
   "execution_count": 124,
   "metadata": {},
   "outputs": [
    {
     "data": {
      "text/plain": [
       "NCV 2     6\n",
       "NCV 3     3\n",
       "NCV 4    16\n",
       "NTC 1     2\n",
       "NTC 2     1\n",
       "NTC 3    11\n",
       "Name: Grade, dtype: int64"
      ]
     },
     "execution_count": 124,
     "metadata": {},
     "output_type": "execute_result"
    }
   ],
   "source": [
    "not_standard  = model_df['Grade'].value_counts().sort_index()[-6:]\n",
    "not_standard"
   ]
  },
  {
   "cell_type": "code",
   "execution_count": 127,
   "metadata": {},
   "outputs": [
    {
     "data": {
      "text/plain": [
       "1.212686567164179"
      ]
     },
     "execution_count": 127,
     "metadata": {},
     "output_type": "execute_result"
    }
   ],
   "source": [
    "(not_standard.sum()/len(model_df))*100"
   ]
  },
  {
   "cell_type": "markdown",
   "metadata": {},
   "source": [
    "We can see that just over one percent of our sample has a highest grade that is not one of the standard grades (Grade 0-12). Let's see how much of the other information these records have."
   ]
  },
  {
   "cell_type": "code",
   "execution_count": 133,
   "metadata": {
    "scrolled": true
   },
   "outputs": [
    {
     "data": {
      "text/html": [
       "<div>\n",
       "<style scoped>\n",
       "    .dataframe tbody tr th:only-of-type {\n",
       "        vertical-align: middle;\n",
       "    }\n",
       "\n",
       "    .dataframe tbody tr th {\n",
       "        vertical-align: top;\n",
       "    }\n",
       "\n",
       "    .dataframe thead th {\n",
       "        text-align: right;\n",
       "    }\n",
       "</style>\n",
       "<table border=\"1\" class=\"dataframe\">\n",
       "  <thead>\n",
       "    <tr style=\"text-align: right;\">\n",
       "      <th></th>\n",
       "      <th>Grade</th>\n",
       "      <th>YearOfBirth</th>\n",
       "      <th>MovedProvince</th>\n",
       "      <th>Province</th>\n",
       "      <th>DaysWorked</th>\n",
       "      <th>HoursWorked</th>\n",
       "      <th>Income</th>\n",
       "      <th>UsualWork</th>\n",
       "      <th>LostLabour</th>\n",
       "    </tr>\n",
       "  </thead>\n",
       "  <tbody>\n",
       "    <tr>\n",
       "      <th>336</th>\n",
       "      <td>NCV 4</td>\n",
       "      <td>1969.0</td>\n",
       "      <td>No</td>\n",
       "      <td>Mpumalanga</td>\n",
       "      <td>7.0</td>\n",
       "      <td>10.0</td>\n",
       "      <td>30000.0</td>\n",
       "      <td>Craft and related trades workers</td>\n",
       "      <td>0</td>\n",
       "    </tr>\n",
       "    <tr>\n",
       "      <th>379</th>\n",
       "      <td>NCV 4</td>\n",
       "      <td>1984.0</td>\n",
       "      <td>No</td>\n",
       "      <td>Western Cape</td>\n",
       "      <td>4.0</td>\n",
       "      <td>8.0</td>\n",
       "      <td>NaN</td>\n",
       "      <td>NaN</td>\n",
       "      <td>1</td>\n",
       "    </tr>\n",
       "    <tr>\n",
       "      <th>486</th>\n",
       "      <td>NCV 4</td>\n",
       "      <td>1948.0</td>\n",
       "      <td>No</td>\n",
       "      <td>Limpopo</td>\n",
       "      <td>2.0</td>\n",
       "      <td>NaN</td>\n",
       "      <td>150.0</td>\n",
       "      <td>NaN</td>\n",
       "      <td>0</td>\n",
       "    </tr>\n",
       "    <tr>\n",
       "      <th>598</th>\n",
       "      <td>NCV 2</td>\n",
       "      <td>1979.0</td>\n",
       "      <td>No</td>\n",
       "      <td>Gauteng</td>\n",
       "      <td>6.0</td>\n",
       "      <td>8.0</td>\n",
       "      <td>4000.0</td>\n",
       "      <td>Service and sales workers</td>\n",
       "      <td>1</td>\n",
       "    </tr>\n",
       "    <tr>\n",
       "      <th>941</th>\n",
       "      <td>NCV 3</td>\n",
       "      <td>1970.0</td>\n",
       "      <td>No</td>\n",
       "      <td>Mpumalanga</td>\n",
       "      <td>2.0</td>\n",
       "      <td>8.0</td>\n",
       "      <td>20000.0</td>\n",
       "      <td>NaN</td>\n",
       "      <td>1</td>\n",
       "    </tr>\n",
       "    <tr>\n",
       "      <th>1067</th>\n",
       "      <td>NCV 4</td>\n",
       "      <td>1988.0</td>\n",
       "      <td>No</td>\n",
       "      <td>Gauteng</td>\n",
       "      <td>4.0</td>\n",
       "      <td>8.0</td>\n",
       "      <td>21000.0</td>\n",
       "      <td>Professionals</td>\n",
       "      <td>0</td>\n",
       "    </tr>\n",
       "    <tr>\n",
       "      <th>1109</th>\n",
       "      <td>NTC 3</td>\n",
       "      <td>1985.0</td>\n",
       "      <td>No</td>\n",
       "      <td>Gauteng</td>\n",
       "      <td>5.0</td>\n",
       "      <td>8.0</td>\n",
       "      <td>2500.0</td>\n",
       "      <td>NaN</td>\n",
       "      <td>1</td>\n",
       "    </tr>\n",
       "    <tr>\n",
       "      <th>1175</th>\n",
       "      <td>NTC 3</td>\n",
       "      <td>1980.0</td>\n",
       "      <td>No</td>\n",
       "      <td>Western Cape</td>\n",
       "      <td>4.0</td>\n",
       "      <td>8.0</td>\n",
       "      <td>NaN</td>\n",
       "      <td>Craft and related trades workers</td>\n",
       "      <td>0</td>\n",
       "    </tr>\n",
       "    <tr>\n",
       "      <th>1224</th>\n",
       "      <td>NCV 2</td>\n",
       "      <td>1971.0</td>\n",
       "      <td>No</td>\n",
       "      <td>North West</td>\n",
       "      <td>5.0</td>\n",
       "      <td>8.0</td>\n",
       "      <td>10000.0</td>\n",
       "      <td>Managers</td>\n",
       "      <td>0</td>\n",
       "    </tr>\n",
       "    <tr>\n",
       "      <th>1405</th>\n",
       "      <td>NTC 3</td>\n",
       "      <td>1963.0</td>\n",
       "      <td>No</td>\n",
       "      <td>Gauteng</td>\n",
       "      <td>I was on leave</td>\n",
       "      <td>NaN</td>\n",
       "      <td>NaN</td>\n",
       "      <td>NaN</td>\n",
       "      <td>1</td>\n",
       "    </tr>\n",
       "    <tr>\n",
       "      <th>1501</th>\n",
       "      <td>NTC 3</td>\n",
       "      <td>1977.0</td>\n",
       "      <td>No</td>\n",
       "      <td>Free State</td>\n",
       "      <td>5.0</td>\n",
       "      <td>NaN</td>\n",
       "      <td>1881.0</td>\n",
       "      <td>Elementary occupations</td>\n",
       "      <td>1</td>\n",
       "    </tr>\n",
       "    <tr>\n",
       "      <th>1555</th>\n",
       "      <td>NCV 3</td>\n",
       "      <td>1989.0</td>\n",
       "      <td>No</td>\n",
       "      <td>Mpumalanga</td>\n",
       "      <td>0.0</td>\n",
       "      <td>0.0</td>\n",
       "      <td>0.0</td>\n",
       "      <td>Clerical support workers</td>\n",
       "      <td>1</td>\n",
       "    </tr>\n",
       "    <tr>\n",
       "      <th>2855</th>\n",
       "      <td>NTC 3</td>\n",
       "      <td>1986.0</td>\n",
       "      <td>No</td>\n",
       "      <td>Eastern Cape</td>\n",
       "      <td>5.0</td>\n",
       "      <td>8.0</td>\n",
       "      <td>8000.0</td>\n",
       "      <td>NaN</td>\n",
       "      <td>1</td>\n",
       "    </tr>\n",
       "    <tr>\n",
       "      <th>2870</th>\n",
       "      <td>NTC 3</td>\n",
       "      <td>1972.0</td>\n",
       "      <td>No</td>\n",
       "      <td>Eastern Cape</td>\n",
       "      <td>4.0</td>\n",
       "      <td>12.0</td>\n",
       "      <td>16000.0</td>\n",
       "      <td>Service and sales workers</td>\n",
       "      <td>0</td>\n",
       "    </tr>\n",
       "    <tr>\n",
       "      <th>2917</th>\n",
       "      <td>NCV 2</td>\n",
       "      <td>1984.0</td>\n",
       "      <td>No</td>\n",
       "      <td>Eastern Cape</td>\n",
       "      <td>5.0</td>\n",
       "      <td>9.0</td>\n",
       "      <td>8300.0</td>\n",
       "      <td>Technicians and associate professionals</td>\n",
       "      <td>1</td>\n",
       "    </tr>\n",
       "    <tr>\n",
       "      <th>2946</th>\n",
       "      <td>NTC 3</td>\n",
       "      <td>1970.0</td>\n",
       "      <td>No</td>\n",
       "      <td>Eastern Cape</td>\n",
       "      <td>4.0</td>\n",
       "      <td>7.0</td>\n",
       "      <td>13500.0</td>\n",
       "      <td>Professionals</td>\n",
       "      <td>1</td>\n",
       "    </tr>\n",
       "    <tr>\n",
       "      <th>2955</th>\n",
       "      <td>NTC 3</td>\n",
       "      <td>1971.0</td>\n",
       "      <td>No</td>\n",
       "      <td>Eastern Cape</td>\n",
       "      <td>4.0</td>\n",
       "      <td>7.0</td>\n",
       "      <td>28500.0</td>\n",
       "      <td>Professionals</td>\n",
       "      <td>1</td>\n",
       "    </tr>\n",
       "    <tr>\n",
       "      <th>3168</th>\n",
       "      <td>NCV 4</td>\n",
       "      <td>1986.0</td>\n",
       "      <td>No</td>\n",
       "      <td>Eastern Cape</td>\n",
       "      <td>4.0</td>\n",
       "      <td>5.0</td>\n",
       "      <td>25000.0</td>\n",
       "      <td>Professionals</td>\n",
       "      <td>0</td>\n",
       "    </tr>\n",
       "    <tr>\n",
       "      <th>3407</th>\n",
       "      <td>NCV 4</td>\n",
       "      <td>1966.0</td>\n",
       "      <td>No</td>\n",
       "      <td>Gauteng</td>\n",
       "      <td>5.0</td>\n",
       "      <td>12.0</td>\n",
       "      <td>17000.0</td>\n",
       "      <td>Service and sales workers</td>\n",
       "      <td>0</td>\n",
       "    </tr>\n",
       "    <tr>\n",
       "      <th>3441</th>\n",
       "      <td>NCV 4</td>\n",
       "      <td>1994.0</td>\n",
       "      <td>No</td>\n",
       "      <td>Gauteng</td>\n",
       "      <td>4.0</td>\n",
       "      <td>8.0</td>\n",
       "      <td>3500.0</td>\n",
       "      <td>Clerical support workers</td>\n",
       "      <td>1</td>\n",
       "    </tr>\n",
       "    <tr>\n",
       "      <th>3917</th>\n",
       "      <td>NCV 4</td>\n",
       "      <td>1997.0</td>\n",
       "      <td>No</td>\n",
       "      <td>Eastern Cape</td>\n",
       "      <td>NaN</td>\n",
       "      <td>NaN</td>\n",
       "      <td>NaN</td>\n",
       "      <td>NaN</td>\n",
       "      <td>0</td>\n",
       "    </tr>\n",
       "    <tr>\n",
       "      <th>4101</th>\n",
       "      <td>NTC 3</td>\n",
       "      <td>1995.0</td>\n",
       "      <td>No</td>\n",
       "      <td>Gauteng</td>\n",
       "      <td>3.0</td>\n",
       "      <td>6.0</td>\n",
       "      <td>3000.0</td>\n",
       "      <td>Technicians and associate professionals</td>\n",
       "      <td>0</td>\n",
       "    </tr>\n",
       "    <tr>\n",
       "      <th>4114</th>\n",
       "      <td>NTC 1</td>\n",
       "      <td>1994.0</td>\n",
       "      <td>No</td>\n",
       "      <td>KwaZulu-Natal</td>\n",
       "      <td>6.0</td>\n",
       "      <td>9.0</td>\n",
       "      <td>3500.0</td>\n",
       "      <td>Professionals</td>\n",
       "      <td>1</td>\n",
       "    </tr>\n",
       "    <tr>\n",
       "      <th>4195</th>\n",
       "      <td>NCV 3</td>\n",
       "      <td>1999.0</td>\n",
       "      <td>No</td>\n",
       "      <td>Eastern Cape</td>\n",
       "      <td>2.0</td>\n",
       "      <td>3.0</td>\n",
       "      <td>150.0</td>\n",
       "      <td>NaN</td>\n",
       "      <td>0</td>\n",
       "    </tr>\n",
       "    <tr>\n",
       "      <th>4213</th>\n",
       "      <td>NCV 4</td>\n",
       "      <td>1994.0</td>\n",
       "      <td>No</td>\n",
       "      <td>Eastern Cape</td>\n",
       "      <td>4.0</td>\n",
       "      <td>8.0</td>\n",
       "      <td>6000.0</td>\n",
       "      <td>Elementary occupations</td>\n",
       "      <td>1</td>\n",
       "    </tr>\n",
       "    <tr>\n",
       "      <th>4302</th>\n",
       "      <td>NCV 4</td>\n",
       "      <td>1994.0</td>\n",
       "      <td>No</td>\n",
       "      <td>Western Cape</td>\n",
       "      <td>5.0</td>\n",
       "      <td>8.0</td>\n",
       "      <td>9570.0</td>\n",
       "      <td>Clerical support workers</td>\n",
       "      <td>0</td>\n",
       "    </tr>\n",
       "    <tr>\n",
       "      <th>4650</th>\n",
       "      <td>NTC 3</td>\n",
       "      <td>1981.0</td>\n",
       "      <td>No</td>\n",
       "      <td>Eastern Cape</td>\n",
       "      <td>5.0</td>\n",
       "      <td>8.0</td>\n",
       "      <td>NaN</td>\n",
       "      <td>Craft and related trades workers</td>\n",
       "      <td>0</td>\n",
       "    </tr>\n",
       "    <tr>\n",
       "      <th>4721</th>\n",
       "      <td>NCV 4</td>\n",
       "      <td>1973.0</td>\n",
       "      <td>No</td>\n",
       "      <td>Limpopo</td>\n",
       "      <td>5.0</td>\n",
       "      <td>8.0</td>\n",
       "      <td>32000.0</td>\n",
       "      <td>Technicians and associate professionals</td>\n",
       "      <td>0</td>\n",
       "    </tr>\n",
       "    <tr>\n",
       "      <th>4785</th>\n",
       "      <td>NCV 2</td>\n",
       "      <td>1986.0</td>\n",
       "      <td>No</td>\n",
       "      <td>Gauteng</td>\n",
       "      <td>5.0</td>\n",
       "      <td>10.0</td>\n",
       "      <td>12500.0</td>\n",
       "      <td>Clerical support workers</td>\n",
       "      <td>0</td>\n",
       "    </tr>\n",
       "    <tr>\n",
       "      <th>4963</th>\n",
       "      <td>NCV 4</td>\n",
       "      <td>1947.0</td>\n",
       "      <td>No</td>\n",
       "      <td>Western Cape</td>\n",
       "      <td>5.0</td>\n",
       "      <td>4.0</td>\n",
       "      <td>5000.0</td>\n",
       "      <td>NaN</td>\n",
       "      <td>0</td>\n",
       "    </tr>\n",
       "    <tr>\n",
       "      <th>5002</th>\n",
       "      <td>NCV 4</td>\n",
       "      <td>1976.0</td>\n",
       "      <td>No</td>\n",
       "      <td>KwaZulu-Natal</td>\n",
       "      <td>4.0</td>\n",
       "      <td>8.0</td>\n",
       "      <td>20000.0</td>\n",
       "      <td>Technicians and associate professionals</td>\n",
       "      <td>0</td>\n",
       "    </tr>\n",
       "    <tr>\n",
       "      <th>5106</th>\n",
       "      <td>NTC 1</td>\n",
       "      <td>1973.0</td>\n",
       "      <td>No</td>\n",
       "      <td>Limpopo</td>\n",
       "      <td>5.0</td>\n",
       "      <td>8.0</td>\n",
       "      <td>9500.0</td>\n",
       "      <td>Plant and machine operators, and assemblers</td>\n",
       "      <td>0</td>\n",
       "    </tr>\n",
       "    <tr>\n",
       "      <th>5135</th>\n",
       "      <td>NCV 2</td>\n",
       "      <td>1989.0</td>\n",
       "      <td>No</td>\n",
       "      <td>Western Cape</td>\n",
       "      <td>5.0</td>\n",
       "      <td>8.0</td>\n",
       "      <td>12700.0</td>\n",
       "      <td>Clerical support workers</td>\n",
       "      <td>0</td>\n",
       "    </tr>\n",
       "    <tr>\n",
       "      <th>5158</th>\n",
       "      <td>NCV 4</td>\n",
       "      <td>1994.0</td>\n",
       "      <td>No</td>\n",
       "      <td>KwaZulu-Natal</td>\n",
       "      <td>6.0</td>\n",
       "      <td>8.0</td>\n",
       "      <td>250.0</td>\n",
       "      <td>Elementary occupations</td>\n",
       "      <td>1</td>\n",
       "    </tr>\n",
       "    <tr>\n",
       "      <th>5517</th>\n",
       "      <td>NTC 3</td>\n",
       "      <td>1987.0</td>\n",
       "      <td>Yes</td>\n",
       "      <td>Limpopo</td>\n",
       "      <td>5.0</td>\n",
       "      <td>8.0</td>\n",
       "      <td>NaN</td>\n",
       "      <td>Elementary occupations</td>\n",
       "      <td>1</td>\n",
       "    </tr>\n",
       "    <tr>\n",
       "      <th>5628</th>\n",
       "      <td>NCV 2</td>\n",
       "      <td>1984.0</td>\n",
       "      <td>No</td>\n",
       "      <td>Western Cape</td>\n",
       "      <td>4.0</td>\n",
       "      <td>8.0</td>\n",
       "      <td>23000.0</td>\n",
       "      <td>Technicians and associate professionals</td>\n",
       "      <td>1</td>\n",
       "    </tr>\n",
       "    <tr>\n",
       "      <th>6040</th>\n",
       "      <td>NTC 2</td>\n",
       "      <td>1972.0</td>\n",
       "      <td>No</td>\n",
       "      <td>KwaZulu-Natal</td>\n",
       "      <td>7.0</td>\n",
       "      <td>8.0</td>\n",
       "      <td>19000.0</td>\n",
       "      <td>NaN</td>\n",
       "      <td>1</td>\n",
       "    </tr>\n",
       "    <tr>\n",
       "      <th>6333</th>\n",
       "      <td>NCV 4</td>\n",
       "      <td>1979.0</td>\n",
       "      <td>No</td>\n",
       "      <td>Gauteng</td>\n",
       "      <td>2.0</td>\n",
       "      <td>8.0</td>\n",
       "      <td>1000.0</td>\n",
       "      <td>NaN</td>\n",
       "      <td>1</td>\n",
       "    </tr>\n",
       "    <tr>\n",
       "      <th>6589</th>\n",
       "      <td>NCV 4</td>\n",
       "      <td>1993.0</td>\n",
       "      <td>No</td>\n",
       "      <td>Gauteng</td>\n",
       "      <td>4.0</td>\n",
       "      <td>4.0</td>\n",
       "      <td>NaN</td>\n",
       "      <td>Craft and related trades workers</td>\n",
       "      <td>0</td>\n",
       "    </tr>\n",
       "  </tbody>\n",
       "</table>\n",
       "</div>"
      ],
      "text/plain": [
       "      Grade YearOfBirth MovedProvince       Province      DaysWorked  \\\n",
       "336   NCV 4      1969.0            No     Mpumalanga             7.0   \n",
       "379   NCV 4      1984.0            No   Western Cape             4.0   \n",
       "486   NCV 4      1948.0            No        Limpopo             2.0   \n",
       "598   NCV 2      1979.0            No        Gauteng             6.0   \n",
       "941   NCV 3      1970.0            No     Mpumalanga             2.0   \n",
       "1067  NCV 4      1988.0            No        Gauteng             4.0   \n",
       "1109  NTC 3      1985.0            No        Gauteng             5.0   \n",
       "1175  NTC 3      1980.0            No   Western Cape             4.0   \n",
       "1224  NCV 2      1971.0            No     North West             5.0   \n",
       "1405  NTC 3      1963.0            No        Gauteng  I was on leave   \n",
       "1501  NTC 3      1977.0            No     Free State             5.0   \n",
       "1555  NCV 3      1989.0            No     Mpumalanga             0.0   \n",
       "2855  NTC 3      1986.0            No   Eastern Cape             5.0   \n",
       "2870  NTC 3      1972.0            No   Eastern Cape             4.0   \n",
       "2917  NCV 2      1984.0            No   Eastern Cape             5.0   \n",
       "2946  NTC 3      1970.0            No   Eastern Cape             4.0   \n",
       "2955  NTC 3      1971.0            No   Eastern Cape             4.0   \n",
       "3168  NCV 4      1986.0            No   Eastern Cape             4.0   \n",
       "3407  NCV 4      1966.0            No        Gauteng             5.0   \n",
       "3441  NCV 4      1994.0            No        Gauteng             4.0   \n",
       "3917  NCV 4      1997.0            No   Eastern Cape             NaN   \n",
       "4101  NTC 3      1995.0            No        Gauteng             3.0   \n",
       "4114  NTC 1      1994.0            No  KwaZulu-Natal             6.0   \n",
       "4195  NCV 3      1999.0            No   Eastern Cape             2.0   \n",
       "4213  NCV 4      1994.0            No   Eastern Cape             4.0   \n",
       "4302  NCV 4      1994.0            No   Western Cape             5.0   \n",
       "4650  NTC 3      1981.0            No   Eastern Cape             5.0   \n",
       "4721  NCV 4      1973.0            No        Limpopo             5.0   \n",
       "4785  NCV 2      1986.0            No        Gauteng             5.0   \n",
       "4963  NCV 4      1947.0            No   Western Cape             5.0   \n",
       "5002  NCV 4      1976.0            No  KwaZulu-Natal             4.0   \n",
       "5106  NTC 1      1973.0            No        Limpopo             5.0   \n",
       "5135  NCV 2      1989.0            No   Western Cape             5.0   \n",
       "5158  NCV 4      1994.0            No  KwaZulu-Natal             6.0   \n",
       "5517  NTC 3      1987.0           Yes        Limpopo             5.0   \n",
       "5628  NCV 2      1984.0            No   Western Cape             4.0   \n",
       "6040  NTC 2      1972.0            No  KwaZulu-Natal             7.0   \n",
       "6333  NCV 4      1979.0            No        Gauteng             2.0   \n",
       "6589  NCV 4      1993.0            No        Gauteng             4.0   \n",
       "\n",
       "     HoursWorked   Income                                    UsualWork  \\\n",
       "336         10.0  30000.0             Craft and related trades workers   \n",
       "379          8.0      NaN                                          NaN   \n",
       "486          NaN    150.0                                          NaN   \n",
       "598          8.0   4000.0                    Service and sales workers   \n",
       "941          8.0  20000.0                                          NaN   \n",
       "1067         8.0  21000.0                                Professionals   \n",
       "1109         8.0   2500.0                                          NaN   \n",
       "1175         8.0      NaN             Craft and related trades workers   \n",
       "1224         8.0  10000.0                                     Managers   \n",
       "1405         NaN      NaN                                          NaN   \n",
       "1501         NaN   1881.0                       Elementary occupations   \n",
       "1555         0.0      0.0                     Clerical support workers   \n",
       "2855         8.0   8000.0                                          NaN   \n",
       "2870        12.0  16000.0                    Service and sales workers   \n",
       "2917         9.0   8300.0      Technicians and associate professionals   \n",
       "2946         7.0  13500.0                                Professionals   \n",
       "2955         7.0  28500.0                                Professionals   \n",
       "3168         5.0  25000.0                                Professionals   \n",
       "3407        12.0  17000.0                    Service and sales workers   \n",
       "3441         8.0   3500.0                     Clerical support workers   \n",
       "3917         NaN      NaN                                          NaN   \n",
       "4101         6.0   3000.0      Technicians and associate professionals   \n",
       "4114         9.0   3500.0                                Professionals   \n",
       "4195         3.0    150.0                                          NaN   \n",
       "4213         8.0   6000.0                       Elementary occupations   \n",
       "4302         8.0   9570.0                     Clerical support workers   \n",
       "4650         8.0      NaN             Craft and related trades workers   \n",
       "4721         8.0  32000.0      Technicians and associate professionals   \n",
       "4785        10.0  12500.0                     Clerical support workers   \n",
       "4963         4.0   5000.0                                          NaN   \n",
       "5002         8.0  20000.0      Technicians and associate professionals   \n",
       "5106         8.0   9500.0  Plant and machine operators, and assemblers   \n",
       "5135         8.0  12700.0                     Clerical support workers   \n",
       "5158         8.0    250.0                       Elementary occupations   \n",
       "5517         8.0      NaN                       Elementary occupations   \n",
       "5628         8.0  23000.0      Technicians and associate professionals   \n",
       "6040         8.0  19000.0                                          NaN   \n",
       "6333         8.0   1000.0                                          NaN   \n",
       "6589         4.0      NaN             Craft and related trades workers   \n",
       "\n",
       "      LostLabour  \n",
       "336            0  \n",
       "379            1  \n",
       "486            0  \n",
       "598            1  \n",
       "941            1  \n",
       "1067           0  \n",
       "1109           1  \n",
       "1175           0  \n",
       "1224           0  \n",
       "1405           1  \n",
       "1501           1  \n",
       "1555           1  \n",
       "2855           1  \n",
       "2870           0  \n",
       "2917           1  \n",
       "2946           1  \n",
       "2955           1  \n",
       "3168           0  \n",
       "3407           0  \n",
       "3441           1  \n",
       "3917           0  \n",
       "4101           0  \n",
       "4114           1  \n",
       "4195           0  \n",
       "4213           1  \n",
       "4302           0  \n",
       "4650           0  \n",
       "4721           0  \n",
       "4785           0  \n",
       "4963           0  \n",
       "5002           0  \n",
       "5106           0  \n",
       "5135           0  \n",
       "5158           1  \n",
       "5517           1  \n",
       "5628           1  \n",
       "6040           1  \n",
       "6333           1  \n",
       "6589           0  "
      ]
     },
     "execution_count": 133,
     "metadata": {},
     "output_type": "execute_result"
    }
   ],
   "source": [
    "model_df[(model_df['Grade'] == 'NCV 2') | (model_df['Grade'] == 'NCV 3') | (model_df['Grade'] == 'NCV 4')| (model_df['Grade'] == 'NTC 1')|(model_df['Grade'] == 'NTC 2') |(model_df['Grade'] == 'NTC 3')]"
   ]
  },
  {
   "cell_type": "code",
   "execution_count": null,
   "metadata": {},
   "outputs": [],
   "source": []
  },
  {
   "cell_type": "code",
   "execution_count": null,
   "metadata": {},
   "outputs": [],
   "source": []
  },
  {
   "cell_type": "code",
   "execution_count": null,
   "metadata": {},
   "outputs": [],
   "source": []
  },
  {
   "cell_type": "code",
   "execution_count": null,
   "metadata": {},
   "outputs": [],
   "source": []
  },
  {
   "cell_type": "code",
   "execution_count": null,
   "metadata": {},
   "outputs": [],
   "source": []
  },
  {
   "cell_type": "code",
   "execution_count": null,
   "metadata": {},
   "outputs": [],
   "source": []
  },
  {
   "cell_type": "code",
   "execution_count": null,
   "metadata": {},
   "outputs": [],
   "source": []
  },
  {
   "cell_type": "code",
   "execution_count": null,
   "metadata": {},
   "outputs": [],
   "source": []
  },
  {
   "cell_type": "code",
   "execution_count": null,
   "metadata": {},
   "outputs": [],
   "source": []
  },
  {
   "cell_type": "code",
   "execution_count": null,
   "metadata": {},
   "outputs": [],
   "source": []
  },
  {
   "cell_type": "code",
   "execution_count": null,
   "metadata": {},
   "outputs": [],
   "source": []
  },
  {
   "cell_type": "code",
   "execution_count": null,
   "metadata": {},
   "outputs": [],
   "source": []
  },
  {
   "cell_type": "code",
   "execution_count": null,
   "metadata": {},
   "outputs": [],
   "source": []
  },
  {
   "cell_type": "code",
   "execution_count": null,
   "metadata": {},
   "outputs": [],
   "source": []
  },
  {
   "cell_type": "code",
   "execution_count": 375,
   "metadata": {},
   "outputs": [],
   "source": [
    "grade_map = {\n",
    "    'Grade 12 (Std10 / Matric / Senior Certificate / Form 5)': 12,\n",
    "    'Grade 11 (Std. 9/ Form 4)':11,\n",
    "    'Grade 10 (Std. 8/ Form 3)':10, \n",
    "    'Grade 9 (Std. 7/ Form 2)': 9, \n",
    "    'Grade 8 (Std. 6/ Form 1)': 8, \n",
    "    'Grade 7 (Std. 5)': 7, \n",
    "    'Grade 6 (Std. 4)': 6, \n",
    "    'Grade 5 (Std. 3)': 5, \n",
    "    'Grade 4 (Std. 2)': 4, \n",
    "    'Grade 3 (Std. 1)': 3,\n",
    "    'Grade 2 (previously Sub B/ class 2)': 2, \n",
    "    'Grade 1 (previously Sub A/ class 1)': 1, \n",
    "    'Grade R/0': 0, \n",
    "    #'No Schooling': -1,\n",
    "}"
   ]
  },
  {
   "cell_type": "code",
   "execution_count": null,
   "metadata": {},
   "outputs": [],
   "source": []
  }
 ],
 "metadata": {
  "kernelspec": {
   "display_name": "Python 3",
   "language": "python",
   "name": "python3"
  },
  "language_info": {
   "codemirror_mode": {
    "name": "ipython",
    "version": 3
   },
   "file_extension": ".py",
   "mimetype": "text/x-python",
   "name": "python",
   "nbconvert_exporter": "python",
   "pygments_lexer": "ipython3",
   "version": "3.8.5"
  }
 },
 "nbformat": 4,
 "nbformat_minor": 4
}
